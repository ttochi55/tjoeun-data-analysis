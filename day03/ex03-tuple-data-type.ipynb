{
 "cells": [
  {
   "cell_type": "markdown",
   "metadata": {},
   "source": [
    "# 튜플"
   ]
  },
  {
   "cell_type": "code",
   "execution_count": 1,
   "metadata": {},
   "outputs": [
    {
     "data": {
      "text/plain": [
       "'\\n여러 개의 값을 저장하는 data type\\n1. list\\n2. tuple\\n3. set\\n4. dictionary\\n'"
      ]
     },
     "execution_count": 1,
     "metadata": {},
     "output_type": "execute_result"
    }
   ],
   "source": [
    "'''\n",
    "여러 개의 값을 저장하는 data type\n",
    "1. list\n",
    "2. tuple\n",
    "3. set\n",
    "4. dictionary\n",
    "'''"
   ]
  },
  {
   "cell_type": "code",
   "execution_count": 2,
   "metadata": {},
   "outputs": [
    {
     "name": "stdout",
     "output_type": "stream",
     "text": [
      "tp1 : <class 'tuple'> ()\n",
      "tp2 : <class 'tuple'> ()\n",
      "--------------------------------------------------\n",
      "tp3 : <class 'int'> 3\n",
      "tp4 : <class 'tuple'> (3,)\n",
      "--------------------------------------------------\n",
      "tp5 : <class 'int'> 3\n",
      "tp6 : <class 'tuple'> (3,)\n",
      "--------------------------------------------------\n",
      "tp7 : <class 'tuple'> (1, 2, 3, 4, 5)\n",
      "tp8 : <class 'tuple'> (1, 2, 3, 4, 5)\n"
     ]
    }
   ],
   "source": [
    "'''\n",
    "tuple data type : () 를 사용함 - () 를 생략할 수 있음\n",
    "    list 와 비슷함 - tuple(immutable) vs list(mutable)\n",
    "                    ㄴ 원본이 변형되지 않음\n",
    "                    ㄴ item을 추가하거나 변경, 삽입, 삭제 못함\n",
    "                    \n",
    "                비어있는 tuple을 생성할 수 있음\n",
    "                    ㄴ (), tuple()\n",
    "                item이 하나만 있는 tuple 생성시 ,를 붙음\n",
    "                    ㄴ ,를 붙이지 않으면 문자열이나 숫자로 인식함\n",
    "                서로 다른 type의 data를 item으로 할 수 있음\n",
    "                tuple 안에 tuple을 item으로 넣을 수 있음\n",
    "'''\n",
    "\n",
    "tp1 = ()\n",
    "tp2 = tuple()\n",
    "print('tp1 :', type(tp1), tp1)\n",
    "print('tp2 :', type(tp2), tp2)\n",
    "\n",
    "print('-' * 50)\n",
    "\n",
    "tp3 = 3\n",
    "tp4 = 3,\n",
    "print('tp3 :', type(tp3), tp3)\n",
    "print('tp4 :', type(tp4), tp4)\n",
    "\n",
    "print('-' * 50)\n",
    "\n",
    "tp5 = (3)\n",
    "tp6 = (3,)\n",
    "print('tp5 :', type(tp5), tp5)\n",
    "print('tp6 :', type(tp6), tp6)\n",
    "\n",
    "print('-' * 50)\n",
    "\n",
    "tp7 = 1, 2, 3, 4, 5\n",
    "tp8 = (1, 2, 3, 4, 5)\n",
    "print('tp7 :', type(tp7), tp7)\n",
    "print('tp8 :', type(tp8), tp8)\n"
   ]
  },
  {
   "cell_type": "code",
   "execution_count": 3,
   "metadata": {},
   "outputs": [
    {
     "name": "stdout",
     "output_type": "stream",
     "text": [
      "tp5 : <class 'tuple'> (1, 2, 3, 4, 5)\n",
      "--------------------------------------------------\n",
      "t1 : <class 'int'> 1\n",
      "t2 : <class 'int'> 2\n",
      "t3 : <class 'int'> 3\n",
      "t4 : <class 'int'> 4\n",
      "t5 : <class 'int'> 5\n",
      "--------------------------------------------------\n",
      "t1 : <class 'int'> 1\n",
      "t2 : <class 'list'> [2, 3, 4, 5]\n",
      "--------------------------------------------------\n",
      "t1 : <class 'int'> 1\n",
      "t2 : <class 'int'> 2\n",
      "t3 : <class 'list'> [3, 4, 5]\n",
      "--------------------------------------------------\n",
      "t1 : <class 'int'> 1\n",
      "t2 : <class 'list'> [2, 3, 4, 5]\n",
      "--------------------------------------------------\n",
      "t1 : <class 'int'> 1\n",
      "t2 : <class 'int'> 2\n",
      "t3 : <class 'list'> [3, 4, 5]\n"
     ]
    }
   ],
   "source": [
    "'''\n",
    "# list, tuple, set, dictionary\n",
    "#  ㄴ data 여러 개를 하나로 묶어서 저장함 : packing\n",
    "'''\n",
    "\n",
    "tp5 = 1, 2, 3, 4, 5\n",
    "print('tp5 :', type(tp5), tp5)\n",
    "\n",
    "print('-' * 50)\n",
    "\n",
    "'''\n",
    "# tuple 속에 들어있는 data 하나 하나를 꺼내서\n",
    "# 각각의 변수에 저장함 : unpacking\n",
    "'''\n",
    "\n",
    "t1, t2, t3, t4, t5 = 1, 2, 3, 4, 5\n",
    "print('t1 :', type(t1), t1)\n",
    "print('t2 :', type(t2), t2)\n",
    "print('t3 :', type(t3), t3)\n",
    "print('t4 :', type(t4), t4)\n",
    "print('t5 :', type(t5), t5)\n",
    "\n",
    "print('-' * 50)\n",
    "\n",
    "t1, *t2 = 1, 2, 3, 4, 5\n",
    "print('t1 :', type(t1), t1)\n",
    "print('t2 :', type(t2), t2)\n",
    "\n",
    "print('-' * 50)\n",
    "\n",
    "t1, t2, *t3 = 1, 2, 3, 4, 5\n",
    "print('t1 :', type(t1), t1)\n",
    "print('t2 :', type(t2), t2)\n",
    "print('t3 :', type(t3), t3)\n",
    "\n",
    "print('-' * 50)\n",
    "\n",
    "t1, *t2 = [1, 2, 3, 4, 5]\n",
    "print('t1 :', type(t1), t1)\n",
    "print('t2 :', type(t2), t2)\n",
    "\n",
    "print('-' * 50)\n",
    "\n",
    "t1, t2, *t3 = [1, 2, 3, 4, 5]\n",
    "print('t1 :', type(t1), t1)\n",
    "print('t2 :', type(t2), t2)\n",
    "print('t3 :', type(t3), t3)\n"
   ]
  },
  {
   "cell_type": "code",
   "execution_count": 4,
   "metadata": {},
   "outputs": [
    {
     "name": "stdout",
     "output_type": "stream",
     "text": [
      "t1 : <class 'list'> [1, 2, 3]\n",
      "t2 : <class 'int'> 4\n",
      "t3 : <class 'int'> 5\n",
      "--------------------------------------------------\n",
      "t1 : <class 'list'> [1, 2, 3, 4]\n",
      "t2 : <class 'int'> 5\n",
      "--------------------------------------------------\n",
      "t1 : <class 'int'> 1\n",
      "t2 : <class 'list'> [2, 3, 4]\n",
      "t3 : <class 'int'> 5\n",
      "--------------------------------------------------\n",
      "t1 : <class 'int'> 1\n",
      "t2 : <class 'list'> []\n",
      "t3 : <class 'int'> 2\n"
     ]
    }
   ],
   "source": [
    "*t1, t2, t3 = 1, 2, 3, 4, 5\n",
    "print('t1 :', type(t1), t1)\n",
    "print('t2 :', type(t2), t2)\n",
    "print('t3 :', type(t3), t3)\n",
    "\n",
    "print('-' * 50)\n",
    "\n",
    "*t1, t2 = 1, 2, 3, 4, 5\n",
    "print('t1 :', type(t1), t1)\n",
    "print('t2 :', type(t2), t2)\n",
    "\n",
    "print('-' * 50)\n",
    "\n",
    "t1, *t2, t3 = 1, 2, 3, 4, 5\n",
    "print('t1 :', type(t1), t1)\n",
    "print('t2 :', type(t2), t2)\n",
    "print('t3 :', type(t3), t3)\n",
    "\n",
    "print('-' * 50)\n",
    "\n",
    "t1, *t2, t3 = 1, 2\n",
    "print('t1 :', type(t1), t1)\n",
    "print('t2 :', type(t2), t2)\n",
    "print('t3 :', type(t3), t3)\n"
   ]
  },
  {
   "cell_type": "code",
   "execution_count": 5,
   "metadata": {},
   "outputs": [
    {
     "name": "stdout",
     "output_type": "stream",
     "text": [
      "typ6 : <class 'tuple'> (1, 2, 3, 'python', 'best')\n"
     ]
    }
   ],
   "source": [
    "tp6 = 1, 2, 3, 'python', 'best'\n",
    "print('typ6 :', type(tp6), tp6)"
   ]
  },
  {
   "cell_type": "code",
   "execution_count": 6,
   "metadata": {},
   "outputs": [
    {
     "name": "stdout",
     "output_type": "stream",
     "text": [
      "human\n",
      "academy academy\n",
      "(3, 4, 'human') (3, 4, 'human')\n"
     ]
    }
   ],
   "source": [
    "tp7 = ('python', 'programming', 'best', 'language')\n",
    "tp8 = ('python', 'programming', ('best', 'language'))\n",
    "tp9 = (1, 2, 'a', 'bc', True, (3, 4, 'human', ('resource', 'academy')))\n",
    "\n",
    "# tp9 에서 'human' 을 출력하세요\n",
    "print(tp9[5][2])\n",
    "\n",
    "# tp9 에서 'academy' 을 출력하세요\n",
    "print(tp9[5][3][1], tp9[5][-1][-1])\n",
    "\n",
    "# tp9 에서 (3, 4, 'human') 을 출력하세요\n",
    "print(tp9[5][:3], tp9[5][:-1])"
   ]
  },
  {
   "cell_type": "code",
   "execution_count": 7,
   "metadata": {},
   "outputs": [
    {
     "name": "stdout",
     "output_type": "stream",
     "text": [
      "tp10 : (1, 2, 3, 4, 5)\n",
      "tp11 : (6, 7, 8, 9, 10)\n",
      "tp10 + tp11 : (1, 2, 3, 4, 5, 6, 7, 8, 9, 10)\n",
      "tp11 * 3 : (6, 7, 8, 9, 10, 6, 7, 8, 9, 10, 6, 7, 8, 9, 10)\n"
     ]
    }
   ],
   "source": [
    "tp10 = (1, 2, 3, 4, 5)\n",
    "tp11 = (6, 7, 8, 9, 10)\n",
    "\n",
    "print('tp10 :', tp10)\n",
    "print('tp11 :', tp11)\n",
    "print('tp10 + tp11 :', tp10 + tp11)\n",
    "print('tp11 * 3 :', tp11 * 3)\n",
    "\n",
    "# tuple 속에 있는 data(item) 변경하기\n",
    "# TypeError: 'tuple' object does not support item assignment\n",
    "# tp11[2] = 888\n",
    "# print('tp11[2] :', tp11[2])\n",
    "\n",
    "# tuple 속에 있는 data(item) 삭제하기\n",
    "# TypeError: 'tuple' object doesn't support item deletion\n",
    "# del tp11[2]\n",
    "# print('tp11 :', tp11)"
   ]
  }
 ],
 "metadata": {
  "interpreter": {
   "hash": "949c5d161ae06a9191be236957b0dfe2172f0f0097fbf05f4df159099ee18a3c"
  },
  "kernelspec": {
   "display_name": "Python 3.8.5 64-bit ('tjoeun')",
   "language": "python",
   "name": "python3"
  },
  "language_info": {
   "codemirror_mode": {
    "name": "ipython",
    "version": 3
   },
   "file_extension": ".py",
   "mimetype": "text/x-python",
   "name": "python",
   "nbconvert_exporter": "python",
   "pygments_lexer": "ipython3",
   "version": "3.8.5"
  },
  "orig_nbformat": 4
 },
 "nbformat": 4,
 "nbformat_minor": 2
}
