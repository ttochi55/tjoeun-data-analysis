{
 "cells": [
  {
   "cell_type": "markdown",
   "metadata": {},
   "source": [
    "# list 복사\n",
    "\n",
    "얕은복사(shallow copy) 깊은 복사(deep copy)"
   ]
  },
  {
   "cell_type": "code",
   "execution_count": 1,
   "metadata": {},
   "outputs": [
    {
     "name": "stdout",
     "output_type": "stream",
     "text": [
      "list1      : [1, 2, 3, 4, 5]\n",
      "list1[:]   : [1, 2, 3, 4, 5]\n",
      "list1[0:5] : [1, 2, 3, 4, 5]\n",
      "list1[1:4] : [2, 3, 4]\n",
      "--------------------------------------------------\n",
      "list1      : 4586630720\n",
      "list1[:]   : 4585219136\n",
      "list1[0:5] : 4590191744\n",
      "list1[1:4] : 4590130944\n"
     ]
    }
   ],
   "source": [
    "'''\n",
    "list 복사 : slicing 을 하게 되면 list 가 복사되어서 생성됨\n",
    "'''\n",
    "\n",
    "list1 = [1, 2, 3, 4, 5]\n",
    "\n",
    "print('list1      :', list1)\n",
    "print('list1[:]   :', list1[:])\n",
    "print('list1[0:5] :', list1[0:5])\n",
    "print('list1[1:4] :', list1[1:4])\n",
    "\n",
    "print('-' * 50)\n",
    "\n",
    "print('list1      :', id(list1))\n",
    "print('list1[:]   :', id(list1[:]))\n",
    "print('list1[0:5] :', id(list1[0:5]))\n",
    "print('list1[1:4] :', id(list1[1:4]))"
   ]
  },
  {
   "cell_type": "code",
   "execution_count": 2,
   "metadata": {},
   "outputs": [
    {
     "name": "stdout",
     "output_type": "stream",
     "text": [
      "list1 : 4590132352 [-1, 2, 3, 4, 5]\n",
      "list2 : 4590132352 [-1, 2, 3, 4, 5]\n"
     ]
    }
   ],
   "source": [
    "list1 = [1, 2, 3, 4, 5]\n",
    "list2 = list1\n",
    "\n",
    "list2[0] = -1\n",
    "\n",
    "print('list1 :', id(list1), list1)\n",
    "print('list2 :', id(list2), list2)"
   ]
  },
  {
   "cell_type": "code",
   "execution_count": 3,
   "metadata": {},
   "outputs": [
    {
     "name": "stdout",
     "output_type": "stream",
     "text": [
      "list1 : [1, 2, 3, 4, 5]\n",
      "list1 : [1, 2, 555, 4, 5]\n",
      "--------------------------------------------------\n",
      "str1 : pithon\n"
     ]
    }
   ],
   "source": [
    "'''\n",
    "list(mutable) VS str(immutable)\n",
    "'''\n",
    "\n",
    "list1 = [1, 2, 3, 4, 5]\n",
    "print('list1 :', list1)\n",
    "\n",
    "list1[2] = 555\n",
    "print('list1 :', list1)\n",
    "\n",
    "print('-' * 50)\n",
    "\n",
    "str1 = 'pithon'\n",
    "print('str1 :', str1)\n",
    "# TypeError: 'str' object does not support item assignment\n",
    "# 원본을 변형시키지 못함\n",
    "# str1[1] = 'y'\n",
    "# print('str1 :', str1)"
   ]
  },
  {
   "cell_type": "code",
   "execution_count": 4,
   "metadata": {},
   "outputs": [
    {
     "name": "stdout",
     "output_type": "stream",
     "text": [
      "list1 : 4590208256 [-1, 2, 3, 4, 5]\n",
      "list2 : 4590208256 [-1, 2, 3, 4, 5]\n",
      "list3 : 4590207168 [1, 2, 3, 4, 5]\n",
      "--------------------------------------------------\n",
      "list1 == list2 : True\n",
      "list1 is list2 : True\n",
      "list1 == list3 : False\n",
      "list1 is list3 : False\n",
      "list2 == list3 : False\n",
      "list2 is list3 : False\n"
     ]
    }
   ],
   "source": [
    "'''\n",
    "비교연산자 : ==, is\n",
    "'''\n",
    "\n",
    "list1 = [1, 2, 3, 4, 5]\n",
    "list2 = list1\n",
    "list3 = list1[:]\n",
    "\n",
    "list1[0] = -1\n",
    "\n",
    "print('list1 :', id(list1), list1)\n",
    "print('list2 :', id(list2), list2)\n",
    "print('list3 :', id(list3), list3)\n",
    "\n",
    "print('-' * 50)\n",
    "print('list1 == list2 :', list1 == list2)\n",
    "print('list1 is list2 :', list1 is list2)\n",
    "print('list1 == list3 :', list1 == list3)\n",
    "print('list1 is list3 :', list1 is list3)\n",
    "print('list2 == list3 :', list2 == list3)\n",
    "print('list2 is list3 :', list2 is list3)"
   ]
  },
  {
   "cell_type": "code",
   "execution_count": 5,
   "metadata": {},
   "outputs": [
    {
     "name": "stdout",
     "output_type": "stream",
     "text": [
      "nums1 : 4590147264 4590146496 4590147904 [[1, 2, 3], [5, 6, 7]]\n",
      "nums2 : 4590147776 4590146496 4590147904 [[1, 2, 3], [5, 6, 7]]\n",
      "--------------------------------------------------\n",
      "nums1[0][1] = -1\n",
      "nums1 : 4590147264 4590146496 4590147904 [[1, -1, 3], [5, 6, 7]]\n",
      "nums2 : 4590147776 4590146496 4590147904 [[1, -1, 3], [5, 6, 7]]\n",
      "--------------------------------------------------\n",
      "nums2[1][1] = -9\n",
      "nums1 : 4590147264 4590146496 4590147904 [[1, -1, 3], [5, -9, 7]]\n",
      "nums2 : 4590147776 4590146496 4590147904 [[1, -1, 3], [5, -9, 7]]\n",
      "--------------------------------------------------\n",
      "nums2[1] = -1\n",
      "nums1 : 4590147264 4590146496 4590147904 [[1, -1, 3], [5, -9, 7]]\n",
      "nums2 : 4590147776 4590146496 4543510992 [[1, -1, 3], -1]\n"
     ]
    }
   ],
   "source": [
    "'''\n",
    "이차원 리스트의 복사 1\n",
    "\n",
    "얕은 복사 (shallow copy)\n",
    "slicing 을 하면 바깥쪽 list 는 복사되지만\n",
    "               안쪽 list 는 같은 주소지에 있는 data를 활용함\n",
    "'''\n",
    "\n",
    "nums1 = [[1,2,3], [5,6,7]]\n",
    "nums2 = nums1[:]\n",
    "\n",
    "print('nums1 :', id(nums1), id(nums1[0]), id(nums1[1]), nums1)\n",
    "print('nums2 :', id(nums2), id(nums2[0]), id(nums2[1]), nums2)\n",
    "\n",
    "print('-' * 50)\n",
    "\n",
    "nums1[0][1] = -1\n",
    "print('nums1[0][1] = -1')\n",
    "print('nums1 :', id(nums1), id(nums1[0]), id(nums1[1]), nums1)\n",
    "print('nums2 :', id(nums2), id(nums2[0]), id(nums2[1]), nums2)\n",
    "\n",
    "print('-' * 50)\n",
    "\n",
    "nums2[1][1] = -9\n",
    "print('nums2[1][1] = -9')\n",
    "print('nums1 :', id(nums1), id(nums1[0]), id(nums1[1]), nums1)\n",
    "print('nums2 :', id(nums2), id(nums2[0]), id(nums2[1]), nums2)\n",
    "\n",
    "print('-' * 50)\n",
    "\n",
    "nums2[1] = -1\n",
    "print('nums2[1] = -1')\n",
    "print('nums1 :', id(nums1), id(nums1[0]), id(nums1[1]), nums1)\n",
    "print('nums2 :', id(nums2), id(nums2[0]), id(nums2[1]), nums2)\n"
   ]
  },
  {
   "cell_type": "code",
   "execution_count": 8,
   "metadata": {},
   "outputs": [
    {
     "name": "stdout",
     "output_type": "stream",
     "text": [
      "nums3 : 4600182144 4600184064 4600182016 [[1, 2, 3], [5, 6, 7]]\n",
      "nums4 : 4600182464 4600182976 4600184768 [[1, 2, 3], [5, 6, 7]]\n",
      "--------------------------------------------------\n",
      "nums3[0][1] = -1\n",
      "nums3 : 4600182144 4600184064 4600182016 [[1, -1, 3], [5, 6, 7]]\n",
      "nums4 : 4600182464 4600182976 4600184768 [[1, 2, 3], [5, 6, 7]]\n",
      "--------------------------------------------------\n",
      "nums4[1][1] = -9\n",
      "nums3 : 4600182144 4600184064 4600182016 [[1, -1, 3], [5, 6, 7]]\n",
      "nums4 : 4600182464 4600182976 4600184768 [[1, 2, 3], [5, -9, 7]]\n",
      "--------------------------------------------------\n",
      "nums4[1] = -1\n",
      "nums3 : 4600182144 4600184064 4600182016 [[1, -1, 3], [5, 6, 7]]\n",
      "nums4 : 4600182464 4600182976 4543510992 [[1, 2, 3], -1]\n",
      "--------------------------------------------------\n",
      "nums3[1].append(7)\n",
      "nums3 : 4600182144 4600184064 4600182016 [[1, -1, 3], [5, 6, 7, 7]]\n",
      "nums4 : 4600182464 4600182976 4543510992 [[1, 2, 3], -1]\n",
      "--------------------------------------------------\n",
      "nums4[0].clear()\n",
      "nums3 : 4600182144 4600184064 4600182016 [[1, -1, 3], [5, 6, 7, 7]]\n",
      "nums4 : 4600182464 4600182976 4543510992 [[], -1]\n"
     ]
    }
   ],
   "source": [
    "'''\n",
    "이차원 리스트의 복사 2\n",
    "\n",
    "깊은 복사 (deep copy)\n",
    "\n",
    "copy 모듈에 있는 deepcopy() 함수를 사용함\n",
    "  ㄴ import copy   ㄴ 복사한 list 를 반환함\n",
    "\n",
    "바깥쪽 list 도 복사되고\n",
    "안쪽 list도 복사됨\n",
    "'''\n",
    "\n",
    "import copy\n",
    "\n",
    "nums3 = [[1,2,3], [5,6,7]]\n",
    "nums4 = copy.deepcopy(nums3)\n",
    "\n",
    "print('nums3 :', id(nums3), id(nums3[0]), id(nums3[1]), nums3)\n",
    "print('nums4 :', id(nums4), id(nums4[0]), id(nums4[1]), nums4)\n",
    "\n",
    "print('-' * 50)\n",
    "\n",
    "nums3[0][1] = -1\n",
    "print('nums3[0][1] = -1')\n",
    "print('nums3 :', id(nums3), id(nums3[0]), id(nums3[1]), nums3)\n",
    "print('nums4 :', id(nums4), id(nums4[0]), id(nums4[1]), nums4)\n",
    "\n",
    "print('-' * 50)\n",
    "\n",
    "nums4[1][1] = -9\n",
    "print('nums4[1][1] = -9')\n",
    "print('nums3 :', id(nums3), id(nums3[0]), id(nums3[1]), nums3)\n",
    "print('nums4 :', id(nums4), id(nums4[0]), id(nums4[1]), nums4)\n",
    "\n",
    "print('-' * 50)\n",
    "\n",
    "nums4[1] = -1\n",
    "print('nums4[1] = -1')\n",
    "print('nums3 :', id(nums3), id(nums3[0]), id(nums3[1]), nums3)\n",
    "print('nums4 :', id(nums4), id(nums4[0]), id(nums4[1]), nums4)\n",
    "\n",
    "print('-' * 50)\n",
    "\n",
    "nums3[1].append(7)\n",
    "print('nums3[1].append(7)')\n",
    "print('nums3 :', id(nums3), id(nums3[0]), id(nums3[1]), nums3)\n",
    "print('nums4 :', id(nums4), id(nums4[0]), id(nums4[1]), nums4)\n",
    "\n",
    "print('-' * 50)\n",
    "\n",
    "nums4[0].clear()\n",
    "print('nums4[0].clear()')\n",
    "print('nums3 :', id(nums3), id(nums3[0]), id(nums3[1]), nums3)\n",
    "print('nums4 :', id(nums4), id(nums4[0]), id(nums4[1]), nums4)\n"
   ]
  }
 ],
 "metadata": {
  "interpreter": {
   "hash": "949c5d161ae06a9191be236957b0dfe2172f0f0097fbf05f4df159099ee18a3c"
  },
  "kernelspec": {
   "display_name": "Python 3.8.5 64-bit ('tjoeun')",
   "language": "python",
   "name": "python3"
  },
  "language_info": {
   "codemirror_mode": {
    "name": "ipython",
    "version": 3
   },
   "file_extension": ".py",
   "mimetype": "text/x-python",
   "name": "python",
   "nbconvert_exporter": "python",
   "pygments_lexer": "ipython3",
   "version": "3.8.5"
  },
  "orig_nbformat": 4
 },
 "nbformat": 4,
 "nbformat_minor": 2
}
