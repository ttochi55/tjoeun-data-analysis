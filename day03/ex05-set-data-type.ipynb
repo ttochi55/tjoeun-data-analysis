{
 "cells": [
  {
   "cell_type": "markdown",
   "metadata": {},
   "source": [
    "# Set - 데이터 타입"
   ]
  },
  {
   "cell_type": "code",
   "execution_count": 1,
   "metadata": {},
   "outputs": [
    {
     "name": "stdout",
     "output_type": "stream",
     "text": [
      "set1 : <class 'set'> set()\n",
      "set2 : <class 'set'> {1, 2, 3, 4, 5, 6, 7, 8}\n",
      "nums : <class 'list'> [11, 22, 33, 44, 55]\n",
      "set3 : <class 'set'> {33, 11, 44, 22, 55}\n",
      "nums : <class 'tuple'> (1, 2, 3, 4, 5)\n",
      "tp1 : <class 'set'> {1, 2, 3, 4, 5}\n"
     ]
    }
   ],
   "source": [
    "'''\n",
    "    set data type - 집합 : {} 중괄호를 사용함 (dictionary 에서도 {} 중괄호 사용)\n",
    "                          비어있는 set 을 생성할 수 있음\n",
    "                            ㄴ set() 사용 / {} 사용 안 함\n",
    "                          index 가 없음 - 저장 순서가 보장되지 않음\n",
    "                                        중복이 허용되지 않음\n",
    "'''\n",
    "\n",
    "set1 = set()\n",
    "print('set1 :', type(set1), set1)\n",
    "\n",
    "set2 = {1, 2,  3, 4, 5, 6, 7, 8}\n",
    "print('set2 :', type(set2), set2)\n",
    "\n",
    "# list 로 set 생성하기 - list 를 set() 함수로 형변환해서 사용하는 경우\n",
    "nums = [11, 22, 33, 44, 55]\n",
    "print('nums :', type(nums), nums)\n",
    "set3 = set(nums)\n",
    "print('set3 :', type(set3), set3)\n",
    "\n",
    "# tuple 로 set 생성하기 - tuple 를 set() 함수로 형변환해서 사용하는 경우\n",
    "nums = (1, 2, 3, 4, 5)\n",
    "print('nums :', type(nums), nums)\n",
    "# tp1 = set((1, 2, 3, 4, 5))\n",
    "tp1 = set(nums)\n",
    "print('tp1 :', type(tp1), tp1)\n",
    "\n",
    "# TypeError: set expected at most 1 argument, got 5\n",
    "#   ㄴ set() 함수의 argument 에는 값 하나만 넣을 수 있음\n",
    "# set() 함수에 tuple의 ()를 생략하면 tuple 로 인식하지 않고\n",
    "# 정수값 5개로 인식함\n",
    "# tp1 = set(1, 2, 3, 4, 5)\n",
    "# print('tp1 :', type(tp1), tp1)"
   ]
  },
  {
   "cell_type": "code",
   "execution_count": 2,
   "metadata": {},
   "outputs": [
    {
     "name": "stdout",
     "output_type": "stream",
     "text": [
      "set5 : {'t', 'y', 'e', 'l', 'o', 'n', ' ', 'p', 'h'}\n"
     ]
    }
   ],
   "source": [
    "# str(문자열) 을 가지고 set 생성하기\n",
    "str1 = 'hello python'\n",
    "set5 = set(str1)\n",
    "\n",
    "print('set5 :', set5)"
   ]
  },
  {
   "cell_type": "code",
   "execution_count": 3,
   "metadata": {},
   "outputs": [
    {
     "name": "stdout",
     "output_type": "stream",
     "text": [
      "set6 : <class 'set'> {1, 2, 3, 4, 5}\n",
      "nums : <class 'list'> [1, 2, 3, 4, 5]\n"
     ]
    }
   ],
   "source": [
    "\n",
    "'''\n",
    "# list --> set\n",
    "'''\n",
    "\n",
    "set6 = set([1, 2, 2, 3, 3, 3, 4, 4, 4, 4, 5, 5, 5, 5, 5])\n",
    "print('set6 :', type(set6), set6)\n",
    "\n",
    "nums = list(set6)\n",
    "print('nums :', type(nums), nums)"
   ]
  }
 ],
 "metadata": {
  "interpreter": {
   "hash": "949c5d161ae06a9191be236957b0dfe2172f0f0097fbf05f4df159099ee18a3c"
  },
  "kernelspec": {
   "display_name": "Python 3.8.5 64-bit ('tjoeun')",
   "language": "python",
   "name": "python3"
  },
  "language_info": {
   "codemirror_mode": {
    "name": "ipython",
    "version": 3
   },
   "file_extension": ".py",
   "mimetype": "text/x-python",
   "name": "python",
   "nbconvert_exporter": "python",
   "pygments_lexer": "ipython3",
   "version": "3.8.5"
  },
  "orig_nbformat": 4
 },
 "nbformat": 4,
 "nbformat_minor": 2
}
