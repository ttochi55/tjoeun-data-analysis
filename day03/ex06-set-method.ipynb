{
 "cells": [
  {
   "cell_type": "markdown",
   "metadata": {},
   "source": [
    "# set - 집합\n",
    "\n",
    "교집합, 합집합, 차집합, 대칭차집합"
   ]
  },
  {
   "cell_type": "code",
   "execution_count": 1,
   "metadata": {},
   "outputs": [],
   "source": [
    "'''\n",
    "교집합, 합집합, 차집합, 대칭차집합\n",
    "'''\n",
    "\n",
    "set1 = {1, 2, 3, 4, 5, 6}\n",
    "set2 = {4, 5, 6, 7, 8, 9}"
   ]
  },
  {
   "cell_type": "code",
   "execution_count": 2,
   "metadata": {},
   "outputs": [
    {
     "name": "stdout",
     "output_type": "stream",
     "text": [
      "{1, 2, 3, 4, 5, 6}\n",
      "{4, 5, 6, 7, 8, 9}\n",
      "result : {4, 5, 6}\n",
      "result : {4, 5, 6}\n",
      "result : {4, 5, 6}\n"
     ]
    }
   ],
   "source": [
    "'''\n",
    "교집합 : & / intersection()\n",
    "'''\n",
    "\n",
    "print(set1, set2, sep='\\n')\n",
    "\n",
    "result = set1 & set2\n",
    "print('result :', result)\n",
    "\n",
    "result = set1.intersection(set2)\n",
    "print('result :', result)\n",
    "\n",
    "result = set2.intersection(set1)\n",
    "print('result :', result)"
   ]
  },
  {
   "cell_type": "code",
   "execution_count": 3,
   "metadata": {},
   "outputs": [
    {
     "name": "stdout",
     "output_type": "stream",
     "text": [
      "{1, 2, 3, 4, 5, 6}\n",
      "{4, 5, 6, 7, 8, 9}\n",
      "result : {1, 2, 3, 4, 5, 6, 7, 8, 9}\n",
      "result : {1, 2, 3, 4, 5, 6, 7, 8, 9}\n",
      "result : {1, 2, 3, 4, 5, 6, 7, 8, 9}\n"
     ]
    }
   ],
   "source": [
    "'''\n",
    "합집합 : | / union()\n",
    "'''\n",
    "\n",
    "print(set1, set2, sep='\\n')\n",
    "\n",
    "result = set1 | set2\n",
    "print('result :', result)\n",
    "\n",
    "result = set1.union(set2)\n",
    "print('result :', result)\n",
    "\n",
    "result = set2.union(set1)\n",
    "print('result :', result)"
   ]
  },
  {
   "cell_type": "code",
   "execution_count": 4,
   "metadata": {},
   "outputs": [
    {
     "name": "stdout",
     "output_type": "stream",
     "text": [
      "{1, 2, 3, 4, 5, 6}\n",
      "{4, 5, 6, 7, 8, 9}\n",
      "result : {1, 2, 3}\n",
      "result : {1, 2, 3}\n",
      "result : {8, 9, 7}\n",
      "result : {8, 9, 7}\n"
     ]
    }
   ],
   "source": [
    "'''\n",
    "차집합 : - / difference()\n",
    "'''\n",
    "\n",
    "print(set1, set2, sep='\\n')\n",
    "\n",
    "result = set1 - set2\n",
    "print('result :', result)\n",
    "\n",
    "result = set1.difference(set2)\n",
    "print('result :', result)\n",
    "\n",
    "result = set2 - set1\n",
    "print('result :', result)\n",
    "\n",
    "result = set2.difference(set1)\n",
    "print('result :', result)"
   ]
  },
  {
   "cell_type": "code",
   "execution_count": 5,
   "metadata": {},
   "outputs": [
    {
     "name": "stdout",
     "output_type": "stream",
     "text": [
      "{1, 2, 3, 4, 5, 6}\n",
      "{4, 5, 6, 7, 8, 9}\n",
      "result : {1, 2, 3, 7, 8, 9}\n",
      "result : {1, 2, 3, 7, 8, 9}\n",
      "result : {1, 2, 3, 7, 8, 9}\n",
      "result : {1, 2, 3, 7, 8, 9}\n"
     ]
    }
   ],
   "source": [
    "'''\n",
    "대칭차집합 : ^ / symmetric_difference()\n",
    "'''\n",
    "\n",
    "print(set1, set2, sep='\\n')\n",
    "\n",
    "result = set1 ^ set2\n",
    "print('result :', result)\n",
    "\n",
    "result = set1.symmetric_difference(set2)\n",
    "print('result :', result)\n",
    "\n",
    "result = set2 ^ set1\n",
    "print('result :', result)\n",
    "\n",
    "result = set2.symmetric_difference(set1)\n",
    "print('result :', result)"
   ]
  },
  {
   "cell_type": "code",
   "execution_count": 6,
   "metadata": {},
   "outputs": [
    {
     "name": "stdout",
     "output_type": "stream",
     "text": [
      "result : False\n",
      "result : False\n"
     ]
    }
   ],
   "source": [
    "'''\n",
    "# isdisjoint() - set1 과 set2 에 교집합이 있는지 알려줌\n",
    "#                교집합이 없으면 False, 있으면 True\n",
    "'''\n",
    "\n",
    "set1 = {1, 2, 3, 4, 5, 6}\n",
    "set2 = {4, 5, 6, 7, 8, 9}\n",
    "\n",
    "result = set1.isdisjoint(set2)\n",
    "print('result :', result)\n",
    "\n",
    "result = set2.isdisjoint(set1)\n",
    "print('result :', result)"
   ]
  },
  {
   "cell_type": "code",
   "execution_count": 7,
   "metadata": {},
   "outputs": [
    {
     "name": "stdout",
     "output_type": "stream",
     "text": [
      "result : True\n"
     ]
    }
   ],
   "source": [
    "'''\n",
    "# 부분집합인지 알아보기 : issubset()\n",
    "'''\n",
    "set3 = {2, 4, 6}\n",
    "set4 = {2, 3, 4, 5, 6, 7, 8, 9}\n",
    "\n",
    "result = set3.issubset(set4)\n",
    "print('result :', result)"
   ]
  },
  {
   "cell_type": "code",
   "execution_count": 8,
   "metadata": {},
   "outputs": [
    {
     "name": "stdout",
     "output_type": "stream",
     "text": [
      "result : False\n"
     ]
    }
   ],
   "source": [
    "'''\n",
    "# 확대집합인지 알아보기 : issuperset()\n",
    "'''\n",
    "set3 = {2, 4, 6}\n",
    "set4 = {2, 3, 4, 5, 6, 7, 8, 9}\n",
    "\n",
    "result = set3.issuperset(set4)\n",
    "print('result :', result)"
   ]
  }
 ],
 "metadata": {
  "interpreter": {
   "hash": "949c5d161ae06a9191be236957b0dfe2172f0f0097fbf05f4df159099ee18a3c"
  },
  "kernelspec": {
   "display_name": "Python 3.8.5 64-bit ('tjoeun')",
   "language": "python",
   "name": "python3"
  },
  "language_info": {
   "codemirror_mode": {
    "name": "ipython",
    "version": 3
   },
   "file_extension": ".py",
   "mimetype": "text/x-python",
   "name": "python",
   "nbconvert_exporter": "python",
   "pygments_lexer": "ipython3",
   "version": "3.8.5"
  },
  "orig_nbformat": 4
 },
 "nbformat": 4,
 "nbformat_minor": 2
}
