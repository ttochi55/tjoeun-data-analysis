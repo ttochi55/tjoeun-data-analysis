{
 "cells": [
  {
   "cell_type": "markdown",
   "metadata": {},
   "source": [
    "# tuple"
   ]
  },
  {
   "cell_type": "code",
   "execution_count": 1,
   "metadata": {},
   "outputs": [
    {
     "name": "stdout",
     "output_type": "stream",
     "text": [
      "tuple_movies <class 'tuple'> ('라바', '문어선생님', '지구의밤')\n"
     ]
    }
   ],
   "source": [
    "tuple_movies = ('라바', '문어선생님', '지구의밤')\n",
    "print('tuple_movies', type(tuple_movies), tuple_movies)"
   ]
  },
  {
   "cell_type": "code",
   "execution_count": 2,
   "metadata": {},
   "outputs": [
    {
     "name": "stdout",
     "output_type": "stream",
     "text": [
      "tuple_movies <class 'list'> ['라바', '문어선생님', '지구의밤']\n",
      "tuple_movies <class 'tuple'> ('라바', '문어선생님', '지구의밤')\n"
     ]
    }
   ],
   "source": [
    "'''\n",
    "각 type에는 type 이름과 같은 이름의 함수가 있음\n",
    "\n",
    "str()\n",
    "int()\n",
    "float()\n",
    "list()\n",
    "tuple()\n",
    "'''\n",
    "\n",
    "'''\n",
    "tuple --> list\n",
    "'''\n",
    "\n",
    "tuple_movies = list(tuple_movies)\n",
    "print('tuple_movies', type(tuple_movies), tuple_movies)\n",
    "\n",
    "'''\n",
    "list --> tuple\n",
    "'''\n",
    "\n",
    "tuple_movies = tuple(tuple_movies)\n",
    "print('tuple_movies', type(tuple_movies), tuple_movies)\n"
   ]
  },
  {
   "cell_type": "code",
   "execution_count": 3,
   "metadata": {},
   "outputs": [
    {
     "name": "stdout",
     "output_type": "stream",
     "text": [
      "range(10) : range(0, 10)\n",
      "list(range(10)) : [0, 1, 2, 3, 4, 5, 6, 7, 8, 9]\n",
      "tuple(range(10)) : (0, 1, 2, 3, 4, 5, 6, 7, 8, 9)\n",
      "tuple(range(1, 10)) : (1, 2, 3, 4, 5, 6, 7, 8, 9)\n",
      "tuple(range(1, 11)) : (1, 2, 3, 4, 5, 6, 7, 8, 9, 10)\n",
      "list(range(1, 11, 2)) : [1, 3, 5, 7, 9]\n",
      "list(range(2, 11, 2)) : [2, 4, 6, 8, 10]\n"
     ]
    }
   ],
   "source": [
    "'''\n",
    "    range() 함수 : argument 에 정수를 넣음\n",
    "        \n",
    "        range(end)              : 0 부터 (end-1)까지\n",
    "        range(start, end)       : start 부터 (end-1) 까지\n",
    "        range(start, end, step) : start 부터 (end-1) 까지 (step-1) 씩 건너뜀\n",
    "    \n",
    "'''\n",
    "\n",
    "print(\"range(10) :\", range(10))\n",
    "print(\"list(range(10)) :\", list(range(10)))\n",
    "print(\"tuple(range(10)) :\", tuple(range(10)))\n",
    "print(\"tuple(range(1, 10)) :\", tuple(range(1, 10)))\n",
    "print(\"tuple(range(1, 11)) :\", tuple(range(1, 11)))\n",
    "\n",
    "# 1부터 10까지의 정수 중 홀수만 출력하기\n",
    "print(\"list(range(1, 11, 2)) :\", list(range(1, 11, 2)))\n",
    "\n",
    "# 1부터 10까지의 정수 중 짝수만 출력하기\n",
    "print(\"list(range(2, 11, 2)) :\", list(range(2, 11, 2)))"
   ]
  },
  {
   "cell_type": "code",
   "execution_count": 4,
   "metadata": {},
   "outputs": [
    {
     "name": "stdout",
     "output_type": "stream",
     "text": [
      "(1, 2, 3, 4, 5)\n",
      "(1, 2, 3, 4, 5)\n",
      "(1, 2, 3, 4, 5)\n"
     ]
    }
   ],
   "source": [
    "'''\n",
    "range() 함수를 사용해서 1부터 10까지의 tuple 을 생성하고\n",
    "(1, 2, 3, 4, 5) 를 출력하세요\n",
    "\n",
    "1) range() 사용\n",
    "2) slicing (index) 사용\n",
    "'''\n",
    "\n",
    "# 1)\n",
    "print(tuple(range(1, 6)));\n",
    "\n",
    "# 2)\n",
    "print(tuple(range(1, 11))[:5]);\n",
    "\n",
    "# 2)\n",
    "tp1 = tuple(range(1, 11))\n",
    "print(tp1[:5])"
   ]
  },
  {
   "cell_type": "code",
   "execution_count": 5,
   "metadata": {},
   "outputs": [
    {
     "name": "stdout",
     "output_type": "stream",
     "text": [
      "[1, 2, 3, 4, 5, 6, 7, 8, 9, 10]\n",
      "5 in nums : True\n",
      "15 in nums : False\n",
      "15 not in nums : True\n",
      "23 in range(11, 51) : True\n",
      "23 in tuple(range(11, 51)) : True\n",
      "'o' in 'python' True\n"
     ]
    }
   ],
   "source": [
    "'''\n",
    "    str, list, tuple, range - sequencial type\n",
    "                    index -->   ㄴ squence가 있는 type\n",
    "                                    (순서)\n",
    "\n",
    "# in 연산자 : list 나 tuple, range 속에 \n",
    "#           지정한 data가 있는지 알아봄\n",
    "'''\n",
    "\n",
    "nums = list(range(1, 11))\n",
    "\n",
    "print(nums)\n",
    "print('5 in nums :', 5 in nums)\n",
    "print('15 in nums :', 15 in nums)\n",
    "print('15 not in nums :', 15 not in nums)\n",
    "print('23 in range(11, 51) :', 23 in range(11, 51))\n",
    "print('23 in tuple(range(11, 51)) :', 23 in tuple(range(11, 51)))\n",
    "\n",
    "print(\"'o' in 'python'\", 'o' in 'python')"
   ]
  }
 ],
 "metadata": {
  "interpreter": {
   "hash": "949c5d161ae06a9191be236957b0dfe2172f0f0097fbf05f4df159099ee18a3c"
  },
  "kernelspec": {
   "display_name": "Python 3.8.5 64-bit ('tjoeun')",
   "language": "python",
   "name": "python3"
  },
  "language_info": {
   "codemirror_mode": {
    "name": "ipython",
    "version": 3
   },
   "file_extension": ".py",
   "mimetype": "text/x-python",
   "name": "python",
   "nbconvert_exporter": "python",
   "pygments_lexer": "ipython3",
   "version": "3.8.5"
  },
  "orig_nbformat": 4
 },
 "nbformat": 4,
 "nbformat_minor": 2
}
