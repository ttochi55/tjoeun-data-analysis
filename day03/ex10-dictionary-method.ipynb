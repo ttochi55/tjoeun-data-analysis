{
 "cells": [
  {
   "cell_type": "markdown",
   "metadata": {},
   "source": [
    "# dictionary method"
   ]
  },
  {
   "cell_type": "code",
   "execution_count": 1,
   "metadata": {},
   "outputs": [
    {
     "name": "stdout",
     "output_type": "stream",
     "text": [
      "dt1 : <class 'dict'> {}\n",
      "dt2 : <class 'dict'> {}\n"
     ]
    }
   ],
   "source": [
    "\n",
    "'''\n",
    "dictionary data type : {} 를 사용함\n",
    "                        비어있는 dictionary 를 생성할 수 있음\n",
    "                            ㄴ {} / dict()\n",
    "                        key - value 가 한 쌍으로 하나의 item을 이룸\n",
    "                        index 가 없음 - 저장되는 순서가 보장 안 됨\n",
    "                            ㄴ value 를 구분하는 기준이 key 가 됨\n",
    "                            ㄴ key 는 중복을 허용하지 않음\n",
    "                                ㄴ immutable type 만 허용됨\n",
    "                            ㄴ value 만 중복을 허용함\n",
    "                                ㄴ mutable, immutable 다 허용됨\n",
    "'''\n",
    "\n",
    "dt1 = {}\n",
    "dt2 = dict()\n",
    "\n",
    "print('dt1 :', type(dt1), dt1)\n",
    "print('dt2 :', type(dt2), dt2)"
   ]
  },
  {
   "cell_type": "code",
   "execution_count": 2,
   "metadata": {},
   "outputs": [
    {
     "name": "stdout",
     "output_type": "stream",
     "text": [
      "dt2 : {'name': '더조은'}\n",
      "dt2 : {'name': '더조은', 'age': 24}\n",
      "student_info : {'name': '더조은', 'age': 24, 'addr': '종각'}\n"
     ]
    }
   ],
   "source": [
    "\n",
    "'''\n",
    "# 비어있는 dictionary 에 item(key-value) 추가하기\n",
    "# dictonary이름['key'] = value\n",
    "'''\n",
    "\n",
    "dt2['name'] = '더조은'\n",
    "print('dt2 :', dt2)\n",
    "\n",
    "\n",
    "dt2['age'] = 24\n",
    "print('dt2 :', dt2)\n",
    "\n",
    "\n",
    "student_info = {\"name\":\"더조은\", \"age\":24, \"addr\":\"종각\"}\n",
    "print('student_info :', student_info)"
   ]
  },
  {
   "cell_type": "code",
   "execution_count": 3,
   "metadata": {},
   "outputs": [
    {
     "name": "stdout",
     "output_type": "stream",
     "text": [
      "name : 더조은\n",
      "age : 24\n",
      "addr : 종각\n"
     ]
    }
   ],
   "source": [
    "print('name :', student_info['name'])\n",
    "print('age :', student_info['age'])\n",
    "print('addr :', student_info['addr'])"
   ]
  },
  {
   "cell_type": "code",
   "execution_count": 4,
   "metadata": {},
   "outputs": [
    {
     "name": "stdout",
     "output_type": "stream",
     "text": [
      "{'name': '더조은', 'age': 24, 'addr': '종각', 'phone': '01012345678'}\n",
      "{'name': '더조은', 'age': 24, 'addr': '종각', 'phone': '01012345678', 'weight': 98}\n",
      "{'name': '더조은', 'age': 24, 'addr': '종각', 'phone': '01012345678', 'weight': 98, 'height': 192}\n",
      "{'name': '더조은', 'age': 24, 'addr': '종각', 'phone': '01012345678', 'weight': 90, 'height': 192}\n"
     ]
    }
   ],
   "source": [
    "student_info['phone'] = '01012345678'\n",
    "print(student_info)\n",
    "\n",
    "student_info['weight'] = 98\n",
    "print(student_info)\n",
    "\n",
    "student_info['height'] = 192\n",
    "print(student_info)\n",
    "\n",
    "student_info['weight'] = 90\n",
    "print(student_info)"
   ]
  },
  {
   "cell_type": "code",
   "execution_count": 5,
   "metadata": {},
   "outputs": [
    {
     "name": "stdout",
     "output_type": "stream",
     "text": [
      "{'name': '더조은', 'age': 24, 'addr': '종각', 'phone': '01012345678', 'weight': 90, 'height': 192, 'grade': 3}\n",
      "{'name': '더조은', 'age': 25, 'addr': '종각', 'phone': '01012345678', 'weight': 90, 'height': 192, 'grade': 3}\n"
     ]
    }
   ],
   "source": [
    "'''\n",
    "dictionary 에 item 추가하기 : update() 메소드\n",
    "'''\n",
    "\n",
    "student_info.update(grade=3)\n",
    "print(student_info)\n",
    "\n",
    "student_info.update(age=25)\n",
    "print(student_info)"
   ]
  },
  {
   "cell_type": "code",
   "execution_count": 6,
   "metadata": {},
   "outputs": [
    {
     "name": "stdout",
     "output_type": "stream",
     "text": [
      "name 'submajor' is not defined\n"
     ]
    }
   ],
   "source": [
    "try:\n",
    "    # NameError: name 'submajor' is not defined\n",
    "    student_info.update(submajor)\n",
    "    print(student_info)\n",
    "except Exception as e:\n",
    "    print(e)"
   ]
  },
  {
   "cell_type": "code",
   "execution_count": 7,
   "metadata": {},
   "outputs": [
    {
     "name": "stdout",
     "output_type": "stream",
     "text": [
      "{'name': '더조은', 'age': 25, 'addr': '종각', 'phone': '01012345678', 'weight': 90, 'height': 192, 'grade': 3, 'std_no': 2201}\n",
      "{'name': '더조은', 'age': 25, 'addr': '종각', 'phone': '01012345678', 'weight': 90, 'height': 192, 'grade': 3, 'std_no': 2201, 'major': None}\n",
      "{'name': '더조은', 'age': 25, 'addr': '종각', 'phone': '01012345678', 'weight': 90, 'height': 192, 'grade': 3, 'std_no': 2201, 'major': None}\n"
     ]
    }
   ],
   "source": [
    "'''\n",
    "dictionary 에 item 추가하기 : setdefault() 메소드\n",
    "'''\n",
    "\n",
    "student_info.setdefault('std_no', 2201)\n",
    "print(student_info)\n",
    "\n",
    "student_info.setdefault('major')\n",
    "print(student_info)\n",
    "\n",
    "# 이미 있는 key 에 value를 변경할 수 없음 : Error 는 발생하지 않음\n",
    "student_info.setdefault('age', 26)\n",
    "print(student_info)"
   ]
  },
  {
   "cell_type": "code",
   "execution_count": 8,
   "metadata": {},
   "outputs": [
    {
     "name": "stdout",
     "output_type": "stream",
     "text": [
      "{'name': '더조은', 'age': 25, 'addr': '종각', 'phone': '01012345678', 'weight': 90, 'height': 192, 'grade': 3, 'std_no': 2201, 'major': None, 12: '파이썬', 15: '동아리'}\n"
     ]
    }
   ],
   "source": [
    "'''\n",
    "update() 메소드를 사용해서 key 를 숫자로 지정하기\n",
    "'''\n",
    "\n",
    "# SyntaxError: expression cannot contain assignment, perhaps you meant \"==\"?\n",
    "# student_info.update(11='code')\n",
    "# print(student_info)\n",
    "\n",
    "# 숫자를 키 값으로 넣고 싶은 경우\n",
    "student_info.update({12:'파이썬', 15:'동아리'})\n",
    "print(student_info)"
   ]
  },
  {
   "cell_type": "code",
   "execution_count": 9,
   "metadata": {},
   "outputs": [
    {
     "name": "stdout",
     "output_type": "stream",
     "text": [
      "{'name': '더조은', 'age': 25, 'addr': '종각', 'phone': '01012345678', 'weight': 90, 'height': 192, 'grade': 3, 'std_no': 2201, 'major': None, 12: '파이썬'}\n",
      "pop expected at least 1 argument, got 0\n"
     ]
    }
   ],
   "source": [
    "'''\n",
    "dictionary 에서 item 삭제하기\n",
    "\n",
    "pop(key)  : 지정한 key를 사용해서 삭제하기\n",
    "popitem() : 임의의 item 삭제하기 - python version 3.5 이하\n",
    "popitem() : 마지막 item 삭제하기 - python version 3.65 이상\n",
    "clear()   : 모든 item 삭제하기\n",
    "'''\n",
    "\n",
    "try:\n",
    "    student_info.pop(15)\n",
    "    print(student_info)\n",
    "except Exception as e:\n",
    "    print(e)\n",
    "\n",
    "try:\n",
    "    # TypeError: pop expected at least 1 argument, got 0\n",
    "    student_info.pop()\n",
    "    print(student_info)\n",
    "except Exception as e:\n",
    "    print(e)"
   ]
  },
  {
   "cell_type": "code",
   "execution_count": 10,
   "metadata": {},
   "outputs": [
    {
     "name": "stdout",
     "output_type": "stream",
     "text": [
      "{'name': '더조은', 'age': 25, 'addr': '종각', 'phone': '01012345678', 'weight': 90, 'height': 192, 'grade': 3, 'std_no': 2201, 'major': None}\n"
     ]
    }
   ],
   "source": [
    "\n",
    "try:\n",
    "    # KeyError: 'popitem(): dictionary is empty'\n",
    "    student_info.popitem()\n",
    "    print(student_info)\n",
    "except Exception as e:\n",
    "    print(e)\n"
   ]
  },
  {
   "cell_type": "code",
   "execution_count": 11,
   "metadata": {},
   "outputs": [
    {
     "name": "stdout",
     "output_type": "stream",
     "text": [
      "{}\n"
     ]
    }
   ],
   "source": [
    "student_info.clear()\n",
    "print(student_info)"
   ]
  }
 ],
 "metadata": {
  "interpreter": {
   "hash": "949c5d161ae06a9191be236957b0dfe2172f0f0097fbf05f4df159099ee18a3c"
  },
  "kernelspec": {
   "display_name": "Python 3.8.5 64-bit ('tjoeun')",
   "language": "python",
   "name": "python3"
  },
  "language_info": {
   "codemirror_mode": {
    "name": "ipython",
    "version": 3
   },
   "file_extension": ".py",
   "mimetype": "text/x-python",
   "name": "python",
   "nbconvert_exporter": "python",
   "pygments_lexer": "ipython3",
   "version": "3.8.5"
  },
  "orig_nbformat": 4
 },
 "nbformat": 4,
 "nbformat_minor": 2
}
