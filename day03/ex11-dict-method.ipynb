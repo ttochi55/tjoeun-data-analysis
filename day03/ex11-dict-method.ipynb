{
 "cells": [
  {
   "cell_type": "markdown",
   "metadata": {},
   "source": [
    "# dictionary method"
   ]
  },
  {
   "cell_type": "code",
   "execution_count": 1,
   "metadata": {},
   "outputs": [
    {
     "name": "stdout",
     "output_type": "stream",
     "text": [
      "0215 고가 : 10500 월\n"
     ]
    }
   ],
   "source": [
    "'''\n",
    "market 정보 저장하기 : 날짜정보 + 주가정보\n",
    "\n",
    "# list 의 경우\n",
    "market_0214 = [10500, 10100, 10800, 10600]\n",
    "market_0215 = [10100, 10000, 10500, 10200]\n",
    "market_0216 = [10300, 10100, 10800, 10900]\n",
    "'''\n",
    "\n",
    "'''\n",
    "# dictionary 의 경우\n",
    "# 날짜 정보를 key로 하고, 주가 정보를 value 로 저장함\n",
    "#                     시가 - 저가 - 고가 - 종가\n",
    "#                     open  low   high  close_price\n",
    "'''\n",
    "market_info = {\n",
    "    \"0214\" : [10500, 10100, 10800, 10600],\n",
    "    \"0215\" : [10100, 10000, 10500, 10200],\n",
    "    \"0216\" : [10300, 10100, 10800, 10900],\n",
    "}\n",
    "\n",
    "# 2월 15일자 고가를 출력하세요\n",
    "print('0215 고가 :', market_info['0215'][2], '월')"
   ]
  },
  {
   "cell_type": "code",
   "execution_count": 2,
   "metadata": {},
   "outputs": [
    {
     "name": "stdout",
     "output_type": "stream",
     "text": [
      "{'0214': [10500, 10100, 10800, 10600], '0215': [10100, 10000, 10500, 10200], '0216': [10300, 10100, 10800, 10900], '0217': [10200, 10000, 10600, 10400]}\n"
     ]
    }
   ],
   "source": [
    "'''\n",
    "market_info 에 '0217' 일자 OLHC(시가,저가,고가,종가) 정보를 추가하세요\n",
    "                         [10200, 10000, 10600, 10400]\n",
    "'''\n",
    "\n",
    "market_info['0217'] = [10200, 10000, 10600, 10400]\n",
    "print(market_info)"
   ]
  },
  {
   "cell_type": "code",
   "execution_count": 3,
   "metadata": {},
   "outputs": [
    {
     "name": "stdout",
     "output_type": "stream",
     "text": [
      "{11: '사과', 22: '오렌지', 33: '메론'}\n",
      "{11: '사과', 22: '딸기', 33: '메론'}\n"
     ]
    }
   ],
   "source": [
    "import json\n",
    "\n",
    "'''\n",
    "아래 fruits 에서 상품코드 22의 과일 이름을 \"딸기\"로 수정하세요\n",
    "'''\n",
    "\n",
    "fruits = {11:\"사과\", 22:\"오렌지\", 33: \"메론\"}\n",
    "print(fruits)\n",
    "# print(json.dumps(fruits, indent=4, ensure_ascii=False))\n",
    "\n",
    "fruits[22] = \"딸기\"\n",
    "print(fruits)\n",
    "# print(json.dumps(fruits, indent=4, ensure_ascii=False))"
   ]
  },
  {
   "cell_type": "code",
   "execution_count": 4,
   "metadata": {},
   "outputs": [
    {
     "name": "stdout",
     "output_type": "stream",
     "text": [
      "{'name': ['이순신', '안중근', '유관순'], 'age': [46, 30, 19], 'addr': ['동작구', '마포구', '종로구']}\n",
      "{'name': ['이순신', '안중근', '유관순'], 'age': [46, 30, 19], 'addr': ['동작구', '마포구', '종로구'], 'grade': [4, 3, 1]}\n"
     ]
    }
   ],
   "source": [
    "'''\n",
    "students_info 에 학년정보 grade 를 key 로 하고\n",
    "[4, 3, 1] 을 value 로 하는 item 을 추가하세요\n",
    "'''\n",
    "\n",
    "students_info = {\n",
    "    \"name\" : ['이순신', '안중근', '유관순'],\n",
    "    \"age\" : [46, 30, 19],\n",
    "    \"addr\" : ['동작구', '마포구', '종로구'],\n",
    "}\n",
    "print(students_info)\n",
    "\n",
    "students_info['grade'] = [4, 3, 1]\n",
    "print(students_info)"
   ]
  }
 ],
 "metadata": {
  "interpreter": {
   "hash": "949c5d161ae06a9191be236957b0dfe2172f0f0097fbf05f4df159099ee18a3c"
  },
  "kernelspec": {
   "display_name": "Python 3.8.5 64-bit ('tjoeun')",
   "language": "python",
   "name": "python3"
  },
  "language_info": {
   "codemirror_mode": {
    "name": "ipython",
    "version": 3
   },
   "file_extension": ".py",
   "mimetype": "text/x-python",
   "name": "python",
   "nbconvert_exporter": "python",
   "pygments_lexer": "ipython3",
   "version": "3.8.5"
  },
  "orig_nbformat": 4
 },
 "nbformat": 4,
 "nbformat_minor": 2
}
