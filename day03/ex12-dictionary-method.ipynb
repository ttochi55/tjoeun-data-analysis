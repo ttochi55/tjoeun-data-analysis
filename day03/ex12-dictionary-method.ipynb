{
 "cells": [
  {
   "cell_type": "markdown",
   "metadata": {},
   "source": [
    "# dictionary method"
   ]
  },
  {
   "cell_type": "code",
   "execution_count": 1,
   "metadata": {},
   "outputs": [
    {
     "name": "stdout",
     "output_type": "stream",
     "text": [
      "{'name': ['이순신', '안중근', '유관순'], 'age': [46, 30, 19], 'addr': ['동작구', '마포구', '종로구']}\n",
      "{'name': ['이순신', '안중근', '유관순'], 'age': [46, 30, 19], 'addr': ['동작구', '마포구', '종로구'], 'grade': [4, 3, 1]}\n"
     ]
    }
   ],
   "source": [
    "'''\n",
    "students_info 에 학년정보 grade 를 key 로 하고\n",
    "[4, 3, 1] 을 value 로 하는 item 을 추가하세요\n",
    "'''\n",
    "\n",
    "students_info = {\n",
    "    \"name\" : ['이순신', '안중근', '유관순'],\n",
    "    \"age\" : [46, 30, 19],\n",
    "    \"addr\" : ['동작구', '마포구', '종로구'],\n",
    "}\n",
    "print(students_info)\n",
    "\n",
    "students_info['grade'] = [4, 3, 1]\n",
    "print(students_info)"
   ]
  },
  {
   "cell_type": "code",
   "execution_count": 2,
   "metadata": {},
   "outputs": [
    {
     "name": "stdout",
     "output_type": "stream",
     "text": [
      "<class 'dict_keys'>\n",
      "dict_keys(['name', 'age', 'addr', 'grade'])\n",
      "--------------------------------------------------\n",
      "['name', 'age', 'addr', 'grade']\n",
      "addr\n"
     ]
    }
   ],
   "source": [
    "'''\n",
    "dictionary 에서 key 만 출력하기 : keys() 메소드\n",
    "'''\n",
    "\n",
    "print(type(students_info.keys()))\n",
    "print(students_info.keys())\n",
    "\n",
    "print('-' * 50)\n",
    "\n",
    "print(list(students_info.keys()))\n",
    "print(list(students_info.keys())[2])"
   ]
  },
  {
   "cell_type": "code",
   "execution_count": 3,
   "metadata": {},
   "outputs": [
    {
     "name": "stdout",
     "output_type": "stream",
     "text": [
      "'dict_keys' object is not subscriptable\n"
     ]
    }
   ],
   "source": [
    "try:\n",
    "    # TypeError: 'dict_keys' object is not subscriptable\n",
    "    print(students_info.keys()[2])\n",
    "except Exception as e:\n",
    "    print(e)"
   ]
  },
  {
   "cell_type": "code",
   "execution_count": 4,
   "metadata": {},
   "outputs": [
    {
     "name": "stdout",
     "output_type": "stream",
     "text": [
      "<class 'dict_values'>\n",
      "dict_values([['이순신', '안중근', '유관순'], [46, 30, 19], ['동작구', '마포구', '종로구'], [4, 3, 1]])\n",
      "--------------------------------------------------\n",
      "<class 'list'>\n",
      "[['이순신', '안중근', '유관순'], [46, 30, 19], ['동작구', '마포구', '종로구'], [4, 3, 1]]\n",
      "[46, 30, 19]\n"
     ]
    }
   ],
   "source": [
    "'''\n",
    "dictionary 에서 value 만 출력하기 - values() 메소드\n",
    "'''\n",
    "\n",
    "print(type(students_info.values()))\n",
    "print(students_info.values())\n",
    "\n",
    "print('-' * 50)\n",
    "\n",
    "print(type(list(students_info.values())))\n",
    "print(list(students_info.values()))\n",
    "print(list(students_info.values())[1])"
   ]
  },
  {
   "cell_type": "code",
   "execution_count": 5,
   "metadata": {},
   "outputs": [
    {
     "name": "stdout",
     "output_type": "stream",
     "text": [
      "name age addr grade --------------------------------------------------\n",
      "1 2 3 4 5 6 7 8 9 10 --------------------------------------------------\n",
      "1 2 3 4 5 6 7 8 9 10 "
     ]
    }
   ],
   "source": [
    "for key in students_info.keys():\n",
    "    print(key, end=\" \")\n",
    "\n",
    "print('-' * 50)\n",
    "    \n",
    "for number in range(1, 11):\n",
    "    print(number, end=\" \")\n",
    "    \n",
    "print('-' * 50)\n",
    "    \n",
    "for number in list(range(1, 11)):\n",
    "    print(number, end=\" \")"
   ]
  },
  {
   "cell_type": "code",
   "execution_count": 6,
   "metadata": {},
   "outputs": [
    {
     "name": "stdout",
     "output_type": "stream",
     "text": [
      "<class 'dict'>\n",
      "{'name': ['이순신', '안중근', '유관순'], 'age': [46, 30, 19], 'addr': ['동작구', '마포구', '종로구'], 'grade': [4, 3, 1]}\n",
      "--------------------------------------------------\n",
      "<class 'dict_items'>\n",
      "dict_items([('name', ['이순신', '안중근', '유관순']), ('age', [46, 30, 19]), ('addr', ['동작구', '마포구', '종로구']), ('grade', [4, 3, 1])])\n",
      "--------------------------------------------------\n",
      "<class 'list'>\n",
      "[('name', ['이순신', '안중근', '유관순']), ('age', [46, 30, 19]), ('addr', ['동작구', '마포구', '종로구']), ('grade', [4, 3, 1])]\n"
     ]
    }
   ],
   "source": [
    "'''\n",
    "dictionary 에서 item 출력하기 - items() 메소드\n",
    "'''\n",
    "\n",
    "print(type(students_info))\n",
    "print(students_info)\n",
    "\n",
    "print('-' * 50)\n",
    "\n",
    "print(type(students_info.items()))\n",
    "print( students_info.items())\n",
    "\n",
    "print('-' * 50)\n",
    "\n",
    "print(type(list(students_info.items())))\n",
    "print(list(students_info.items()))"
   ]
  },
  {
   "cell_type": "code",
   "execution_count": 7,
   "metadata": {},
   "outputs": [
    {
     "name": "stdout",
     "output_type": "stream",
     "text": [
      "-- student name --\n",
      "['이순신', '안중근', '유관순']\n",
      "['이순신', '안중근', '유관순']\n",
      "['이순신', '안중근', '유관순']\n"
     ]
    }
   ],
   "source": [
    "'''\n",
    "이름만 출력하기\n",
    "    1) values() 메소드를 호출한 후, list로 형변환한 후 indexing 하기\n",
    "    2) key 로 value 찾기\n",
    "    3) get() 메소드 사용하기\n",
    "'''\n",
    "\n",
    "print('-- student name --')\n",
    "print(list(students_info.values())[0])\n",
    "print(students_info['name'])\n",
    "print(students_info.get('name'))"
   ]
  },
  {
   "cell_type": "code",
   "execution_count": 8,
   "metadata": {},
   "outputs": [
    {
     "name": "stdout",
     "output_type": "stream",
     "text": [
      "'grade1'\n"
     ]
    }
   ],
   "source": [
    "try:\n",
    "    # KeyError: 'grade1'\n",
    "    grade1 = students_info['grade1']\n",
    "    print(grade1)\n",
    "except Exception as e:\n",
    "    print(e)"
   ]
  },
  {
   "cell_type": "code",
   "execution_count": 9,
   "metadata": {},
   "outputs": [
    {
     "name": "stdout",
     "output_type": "stream",
     "text": [
      "None\n"
     ]
    }
   ],
   "source": [
    "grade2 = students_info.get('grade2')\n",
    "print(grade2)"
   ]
  },
  {
   "cell_type": "code",
   "execution_count": 10,
   "metadata": {},
   "outputs": [
    {
     "name": "stdout",
     "output_type": "stream",
     "text": [
      "-- student addr --\n",
      "['동작구', '마포구', '종로구']\n",
      "['동작구', '마포구', '종로구']\n",
      "['동작구', '마포구', '종로구']\n",
      "-- student age --\n",
      "[46, 30, 19]\n",
      "[46, 30, 19]\n",
      "[46, 30, 19]\n",
      "-- student grade --\n",
      "[4, 3, 1]\n",
      "[4, 3, 1]\n",
      "[4, 3, 1]\n"
     ]
    }
   ],
   "source": [
    "print('-- student addr --')\n",
    "print(list(students_info.values())[2])\n",
    "print(students_info['addr'])\n",
    "print(students_info.get('addr'))\n",
    "\n",
    "print('-- student age --')\n",
    "print(list(students_info.values())[1])\n",
    "print(students_info['age'])\n",
    "print(students_info.get('age'))\n",
    "\n",
    "print('-- student grade --')\n",
    "print(list(students_info.values())[3])\n",
    "print(students_info['grade'])\n",
    "print(students_info.get('grade'))"
   ]
  },
  {
   "cell_type": "code",
   "execution_count": 11,
   "metadata": {},
   "outputs": [
    {
     "name": "stdout",
     "output_type": "stream",
     "text": [
      "{'name': ['이순신', '안중근', '유관순'], 'age': [46, 30, 19], 'addr': ['동작구', '마포구', '종로구'], 'grade': [4, 3, 1]}\n",
      "True\n",
      "False\n",
      "True\n",
      "--------------------------------------------------\n",
      "dict_keys(['name', 'age', 'addr', 'grade'])\n",
      "True\n",
      "False\n",
      "True\n",
      "--------------------------------------------------\n",
      "dict_values([['이순신', '안중근', '유관순'], [46, 30, 19], ['동작구', '마포구', '종로구'], [4, 3, 1]])\n",
      "True\n",
      "True\n",
      "True\n"
     ]
    }
   ],
   "source": [
    "'''\n",
    "dictionary 에서 in 연산자 사용하기\n",
    "    ㄴ 지정한 key 가 있는지 없는지 알아보기\n",
    "'''\n",
    "print(students_info)\n",
    "print('name' in students_info)\n",
    "print('weight' in students_info)\n",
    "print('height' not in students_info)\n",
    "\n",
    "print('-' * 50)\n",
    "\n",
    "print(students_info.keys())\n",
    "print('name' in students_info.keys())\n",
    "print('weight' in students_info.keys())\n",
    "print('height' not in students_info.keys())\n",
    "\n",
    "\n",
    "print('-' * 50)\n",
    "\n",
    "'''\n",
    "dictionary 에서 in 연산자 사용하기\n",
    "    ㄴ 지정한 value 가 있는지 없는지 알아보기\n",
    "'''\n",
    "\n",
    "print(students_info.values())\n",
    "print(['이순신', '안중근', '유관순'] in students_info.values())\n",
    "print(['동작구', '마포구', '종로구'] in students_info.values())\n",
    "print([46, 30, 19] in students_info.values())"
   ]
  },
  {
   "cell_type": "code",
   "execution_count": 12,
   "metadata": {},
   "outputs": [
    {
     "name": "stdout",
     "output_type": "stream",
     "text": [
      "4581164736 {'name': ['이순신', '안중근', '유관순'], 'age': [46, 30, 19], 'addr': ['동작구', '마포구', '종로구'], 'grade': [4, 3, 1]}\n",
      "4584075712 {'name': ['이순신', '안중근', '유관순'], 'age': [46, 30, 19], 'addr': ['동작구', '마포구', '종로구'], 'grade': [4, 3, 1]}\n"
     ]
    }
   ],
   "source": [
    "'''\n",
    "dictionary 복사하기\n",
    "'''\n",
    "\n",
    "print(id(students_info), students_info)\n",
    "students_info2 = students_info.copy()\n",
    "\n",
    "print(id(students_info2), students_info2)"
   ]
  },
  {
   "cell_type": "code",
   "execution_count": 15,
   "metadata": {},
   "outputs": [
    {
     "name": "stdout",
     "output_type": "stream",
     "text": [
      "4581458432 {'더조은': {'python': 3.5}, '아이티': {'python': 3.9}}\n",
      "4585036096 {'더조은': {'python': 3.5}, '아이티': {'python': 3.9}}\n",
      "--------------------------------------------------\n",
      "4581458432 {'더조은': {'python': 3.0}, '아이티': {'python': 3.9}}\n",
      "4585036096 {'더조은': {'python': 3.5}, '아이티': {'python': 3.9}}\n"
     ]
    }
   ],
   "source": [
    "'''\n",
    "dictionary : key   - immutable\n",
    "             value - immutable, mutable\n",
    "                ㄴ dictionary 도 넣을 수 있음\n",
    "'''\n",
    "\n",
    "versions1 = {\n",
    "    \"더조은\": {\"python\": 3.5}, \n",
    "    \"아이티\": {\"python\": 3.9},\n",
    "}\n",
    "versions2 = versions1.copy()\n",
    "\n",
    "print(id(versions1), versions1)\n",
    "print(id(versions2), versions2)\n",
    "\n",
    "print('-' * 50)\n",
    "\n",
    "versions1['더조은'] = {'python': 3.0}\n",
    "\n",
    "print(id(versions1), versions1)\n",
    "print(id(versions2), versions2)"
   ]
  },
  {
   "cell_type": "code",
   "execution_count": null,
   "metadata": {},
   "outputs": [],
   "source": []
  },
  {
   "cell_type": "code",
   "execution_count": null,
   "metadata": {},
   "outputs": [],
   "source": []
  }
 ],
 "metadata": {
  "interpreter": {
   "hash": "949c5d161ae06a9191be236957b0dfe2172f0f0097fbf05f4df159099ee18a3c"
  },
  "kernelspec": {
   "display_name": "Python 3.8.5 64-bit ('tjoeun')",
   "language": "python",
   "name": "python3"
  },
  "language_info": {
   "codemirror_mode": {
    "name": "ipython",
    "version": 3
   },
   "file_extension": ".py",
   "mimetype": "text/x-python",
   "name": "python",
   "nbconvert_exporter": "python",
   "pygments_lexer": "ipython3",
   "version": "3.8.5"
  },
  "orig_nbformat": 4
 },
 "nbformat": 4,
 "nbformat_minor": 2
}
