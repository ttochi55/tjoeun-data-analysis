{
 "cells": [
  {
   "cell_type": "markdown",
   "metadata": {},
   "source": [
    "# Set - frozenset"
   ]
  },
  {
   "cell_type": "code",
   "execution_count": 1,
   "metadata": {},
   "outputs": [
    {
     "name": "stdout",
     "output_type": "stream",
     "text": [
      "fs1 <class 'frozenset'> frozenset()\n"
     ]
    }
   ],
   "source": [
    "'''\n",
    "set type       : mutable type\n",
    "frozenset type : immutable type\n",
    "'''\n",
    "\n",
    "fs1 = frozenset()\n",
    "print('fs1', type(fs1), fs1)"
   ]
  },
  {
   "cell_type": "code",
   "execution_count": 2,
   "metadata": {},
   "outputs": [
    {
     "name": "stdout",
     "output_type": "stream",
     "text": [
      "fs2 <class 'frozenset'> frozenset({1, 2, 3, 4, 5, 6})\n"
     ]
    }
   ],
   "source": [
    "fs2 = frozenset([1, 2, 3, 4, 5, 6])\n",
    "print('fs2', type(fs2), fs2)"
   ]
  },
  {
   "cell_type": "code",
   "execution_count": 3,
   "metadata": {},
   "outputs": [
    {
     "name": "stdout",
     "output_type": "stream",
     "text": [
      "fs3 <class 'frozenset'> frozenset({34, 7, 8, 9, 10, 12, 56})\n"
     ]
    }
   ],
   "source": [
    "fs3 = frozenset((7, 8, 9, 10, 12, 56, 34))\n",
    "print('fs3', type(fs3), fs3)"
   ]
  },
  {
   "cell_type": "code",
   "execution_count": 4,
   "metadata": {},
   "outputs": [
    {
     "name": "stdout",
     "output_type": "stream",
     "text": [
      "'frozenset' object has no attribute 'add'\n"
     ]
    }
   ],
   "source": [
    "try:\n",
    "    # AttributeError: 'frozenset' object has no attribute 'add'\n",
    "    fs3.add(62)\n",
    "    fs3.update({77, 88, 99})\n",
    "    fs3.discard(10)\n",
    "    fs3.remove(8)\n",
    "    fs3.pop()\n",
    "    fs3.clear()\n",
    "except Exception as e:\n",
    "    print(e)"
   ]
  },
  {
   "cell_type": "code",
   "execution_count": 5,
   "metadata": {},
   "outputs": [
    {
     "name": "stdout",
     "output_type": "stream",
     "text": [
      "[1, 2, 4, 5]\n",
      "[1, 2, 4]\n"
     ]
    }
   ],
   "source": [
    "list1 = [1, 2, 3, 4, 5]\n",
    "list1.pop(2)\n",
    "print(list1)\n",
    "list1.pop()\n",
    "print(list1)"
   ]
  }
 ],
 "metadata": {
  "interpreter": {
   "hash": "949c5d161ae06a9191be236957b0dfe2172f0f0097fbf05f4df159099ee18a3c"
  },
  "kernelspec": {
   "display_name": "Python 3.8.5 64-bit ('tjoeun')",
   "language": "python",
   "name": "python3"
  },
  "language_info": {
   "codemirror_mode": {
    "name": "ipython",
    "version": 3
   },
   "file_extension": ".py",
   "mimetype": "text/x-python",
   "name": "python",
   "nbconvert_exporter": "python",
   "pygments_lexer": "ipython3",
   "version": "3.8.5"
  },
  "orig_nbformat": 4
 },
 "nbformat": 4,
 "nbformat_minor": 2
}
