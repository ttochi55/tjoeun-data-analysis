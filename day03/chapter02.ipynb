{
 "cells": [
  {
   "cell_type": "markdown",
   "metadata": {},
   "source": [
    "# 02 파이썬 기본 도구 익히기\n",
    "\n",
    "## 제2장 연습문제"
   ]
  },
  {
   "cell_type": "markdown",
   "metadata": {},
   "source": [
    "### 문제1\n",
    "\n",
    "다음 조건에 맞게 수량과 단가 변수를 만들어서 금액을 출력하시오.\n",
    "\n",
    "<처리조건>\n",
    "\n",
    "```\n",
    "<조건1> 수량 변수 : su = 5\n",
    "<조건2> 단가 변수 : dan = 800\n",
    "<조건3> su, dan 변수 주소 확인\n",
    "<조건4> 금액 계산 = 수량 x 단가\n",
    "<조건5> 기타 세부내용 <출력 화면 예시> 참고\n",
    "```\n",
    "\n",
    "<출력 화면 예시>\n",
    "\n",
    "```\n",
    "su 주소 : 1858560352\n",
    "dan 주소 : 2241324818224\n",
    "금액 = 4000\n",
    "```"
   ]
  },
  {
   "cell_type": "code",
   "execution_count": 1,
   "metadata": {},
   "outputs": [
    {
     "name": "stdout",
     "output_type": "stream",
     "text": [
      "su 주소 : 4528335504\n",
      "dan 주소 : 4585176560\n",
      "금액 = 805\n"
     ]
    }
   ],
   "source": [
    "su = 5\n",
    "dan = 800\n",
    "\n",
    "print('su 주소 :', id(su))\n",
    "print('dan 주소 :', id(dan))\n",
    "print('금액 =', su + dan)"
   ]
  },
  {
   "cell_type": "markdown",
   "metadata": {},
   "source": [
    "### 문제2\n",
    "\n",
    "다음과 같은 2차 방정식을 파이썬 수식으로 코딩하고, y의 결과를 확인하시오.\n",
    "\n",
    "<처리조건>\n",
    "\n",
    "```2차 방정식 : ```$y = 2.5 * x^2 + 3.3 * x + 6$ (단 $x$ = 2 일때)\n",
    "\n",
    "<출력 화면 예시>\n",
    "\n",
    "```\n",
    "2차 방정식 결과 = 22.6\n",
    "```"
   ]
  },
  {
   "cell_type": "code",
   "execution_count": 2,
   "metadata": {},
   "outputs": [
    {
     "name": "stdout",
     "output_type": "stream",
     "text": [
      "2차 방정식 결과 = 22.6\n"
     ]
    }
   ],
   "source": [
    "x = 2\n",
    "y = 2.5 * (x ** 2) + 3.3 * 2 + 6\n",
    "\n",
    "print('2차 방정식 결과 =', y)"
   ]
  },
  {
   "cell_type": "markdown",
   "metadata": {},
   "source": [
    "### 문제3\n",
    "\n",
    "지방(fat), 탄수화물(carbohydrate), 단백질(protein) 칼로리의 합계를 계산하는 프로그램을 작성하시오.\n",
    "\n",
    "<처리조건>\n",
    "\n",
    "```\n",
    "<조건1> 지방, 탄수화물, 단백질의 그램을 키보드로 입력받는다.\n",
    "<조건2> 총 칼로리 = 지방 * 9 + 단백질 * 4 + 탄수화물 * 4\n",
    "```\n",
    "\n",
    "<출력 화면 예시>\n",
    "\n",
    "```\n",
    "지방의 그램을 입력하세요 : 25\n",
    "탄수화물의 그램을 입력하세오 : 520\n",
    "단백질의 그램을 입력하세오 : 45\n",
    "총칼로리 : 2,485 cal\n",
    "```"
   ]
  },
  {
   "cell_type": "code",
   "execution_count": 3,
   "metadata": {},
   "outputs": [
    {
     "name": "stdout",
     "output_type": "stream",
     "text": [
      "지방의 그램을 입력하세요 : 25\n",
      "탄수화물의 그램을 입력하세요 : 520\n",
      "단백질의 그램을 입력하세요 : 45\n",
      "총칼로리 : 2,485 cal\n"
     ]
    }
   ],
   "source": [
    "fat = int(input('지방의 그램을 입력하세요 :'))\n",
    "carbohydrate = int(input('탄수화물의 그램을 입력하세오 :'))\n",
    "protein = int(input('단백질의 그램을 입력하세오 :'))\n",
    "cal = fat * 9 + carbohydrate * 4 + protein * 4\n",
    "\n",
    "print('지방의 그램을 입력하세요 :', fat)\n",
    "print('탄수화물의 그램을 입력하세요 :', carbohydrate)\n",
    "print('단백질의 그램을 입력하세요 :', protein)\n",
    "print('총칼로리 :', \"{:,} cal\".format(cal))"
   ]
  },
  {
   "cell_type": "markdown",
   "metadata": {},
   "source": [
    "### 문제4\n",
    "\n",
    "3개의 단어를 키보드로 입력 받아서 각 단어의 첫글자를 추출하여 단어의 약자를 출력하시오.\n",
    "\n",
    "<처리조건>\n",
    "\n",
    "```\n",
    "<조건1> 각 단어 변수(word1, word2, word3) 저장\n",
    "<조건2> 입력과 출력 구분선 : 문자열 연산\n",
    "<조건3> 각 변수의 첫 단어만 추출하여 변수(abbr) 저장\n",
    "```\n",
    "\n",
    "<출력 화면 예시>\n",
    "\n",
    "```\n",
    "첫번째 단어 : Korea\n",
    "두번째 단어 : Baseball\n",
    "세번째 단어 : Orag\n",
    "==============\n",
    "약자 : KBO\n",
    "```"
   ]
  },
  {
   "cell_type": "code",
   "execution_count": 4,
   "metadata": {},
   "outputs": [
    {
     "name": "stdout",
     "output_type": "stream",
     "text": [
      "첫번째 단어 : Korea\n",
      "두번째 단어 : Baseball\n",
      "세번째 단어 : Orag\n",
      "====================\n",
      "약자 : KBO\n"
     ]
    }
   ],
   "source": [
    "word1 = input('첫번째 단어 :').capitalize()\n",
    "word2 = input('두번째 단어 :').capitalize()\n",
    "word3 = input('세번째 단어 :').capitalize()\n",
    "word = word1[0] + word2[0] + word3[0]\n",
    "\n",
    "print('첫번째 단어 :', word1)\n",
    "print('두번째 단어 :', word2)\n",
    "print('세번째 단어 :', word3)\n",
    "print('=' * 20)\n",
    "print('약자 :', word)"
   ]
  }
 ],
 "metadata": {
  "interpreter": {
   "hash": "949c5d161ae06a9191be236957b0dfe2172f0f0097fbf05f4df159099ee18a3c"
  },
  "kernelspec": {
   "display_name": "Python 3.8.5 64-bit ('tjoeun')",
   "language": "python",
   "name": "python3"
  },
  "language_info": {
   "codemirror_mode": {
    "name": "ipython",
    "version": 3
   },
   "file_extension": ".py",
   "mimetype": "text/x-python",
   "name": "python",
   "nbconvert_exporter": "python",
   "pygments_lexer": "ipython3",
   "version": "3.8.5"
  },
  "orig_nbformat": 4
 },
 "nbformat": 4,
 "nbformat_minor": 2
}
