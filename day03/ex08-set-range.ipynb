{
 "cells": [
  {
   "cell_type": "markdown",
   "metadata": {},
   "source": [
    "# Set - range"
   ]
  },
  {
   "cell_type": "code",
   "execution_count": 1,
   "metadata": {},
   "outputs": [
    {
     "name": "stdout",
     "output_type": "stream",
     "text": [
      "set_range : {1, 2, 3, 4, 5, 6, 7, 8, 9, 10}\n"
     ]
    }
   ],
   "source": [
    "'''\n",
    "range() 함수 사용해서 set 생성하기\n",
    "'''\n",
    "\n",
    "set_range = set(range(1, 11))\n",
    "print('set_range :', set_range)"
   ]
  },
  {
   "cell_type": "code",
   "execution_count": 2,
   "metadata": {},
   "outputs": [
    {
     "name": "stdout",
     "output_type": "stream",
     "text": [
      "list_nums : [1, 2, 3, [4, 5], [6, 7], [8, 9]]\n"
     ]
    }
   ],
   "source": [
    "'''\n",
    "list 속에 list 나 tuple 포함하기\n",
    "'''\n",
    "\n",
    "list_nums = [1, 2, 3, [4, 5], [6, 7], [8, 9]]\n",
    "print('list_nums :', list_nums)"
   ]
  },
  {
   "cell_type": "code",
   "execution_count": 3,
   "metadata": {},
   "outputs": [
    {
     "name": "stdout",
     "output_type": "stream",
     "text": [
      "list_nums2 : [1, 2, 3, {4, 5, 6}]\n"
     ]
    }
   ],
   "source": [
    "'''\n",
    "list 속에 set 포함하기\n",
    "'''\n",
    "\n",
    "list_nums2 = [1, 2, 3, {4, 5, 6}]\n",
    "print('list_nums2 :', list_nums2)"
   ]
  },
  {
   "cell_type": "code",
   "execution_count": 4,
   "metadata": {},
   "outputs": [
    {
     "name": "stdout",
     "output_type": "stream",
     "text": [
      "tuple_nums2 : (1, 2, 3, {4, 5, 6})\n"
     ]
    }
   ],
   "source": [
    "'''\n",
    "tuple(immutable type) 속에 set 포함하기\n",
    "                           ㄴ mutable type\n",
    "'''\n",
    "\n",
    "tuple_nums2 = (1, 2, 3, {4, 5, 6})\n",
    "print('tuple_nums2 :', tuple_nums2)"
   ]
  },
  {
   "cell_type": "code",
   "execution_count": 5,
   "metadata": {},
   "outputs": [
    {
     "name": "stdout",
     "output_type": "stream",
     "text": [
      "set_nums2 : {1, 2, 3, (4, 5, 6)}\n"
     ]
    }
   ],
   "source": [
    "'''\n",
    "set(mutable)속에 tuple 포함하기\n",
    "                  ㄴ immutable type\n",
    "'''\n",
    "\n",
    "set_nums2 = {1, 2, 3, (4, 5, 6)}\n",
    "print('set_nums2 :', set_nums2)"
   ]
  },
  {
   "cell_type": "code",
   "execution_count": 6,
   "metadata": {},
   "outputs": [
    {
     "name": "stdout",
     "output_type": "stream",
     "text": [
      "unhashable type: 'list'\n"
     ]
    }
   ],
   "source": [
    "\n",
    "'''\n",
    "set(mutable)속에 list 포함하기\n",
    "                 ㄴ mutable type\n",
    "'''\n",
    "\n",
    "try:\n",
    "    # TypeError: unhashable type: 'list' <-- mutable type\n",
    "    set_nums2 = {1, 2, 3, [4, 5, 6]}\n",
    "    print('set_nums2 :', set_nums2)\n",
    "except Exception as e:\n",
    "    print(e)"
   ]
  },
  {
   "cell_type": "code",
   "execution_count": 7,
   "metadata": {},
   "outputs": [
    {
     "name": "stdout",
     "output_type": "stream",
     "text": [
      "unhashable type: 'set'\n"
     ]
    }
   ],
   "source": [
    "'''\n",
    "set(mutable)속에 set 포함하기\n",
    "                 ㄴ mutable type\n",
    "'''\n",
    "\n",
    "try:\n",
    "    # unhashable type: 'set'\n",
    "    set_nums2 = {1, 2, 3, {4, 5, 6}}\n",
    "    print('set_nums2 :', set_nums2)\n",
    "except Exception as e:\n",
    "    print(e)"
   ]
  }
 ],
 "metadata": {
  "interpreter": {
   "hash": "949c5d161ae06a9191be236957b0dfe2172f0f0097fbf05f4df159099ee18a3c"
  },
  "kernelspec": {
   "display_name": "Python 3.8.5 64-bit ('tjoeun')",
   "language": "python",
   "name": "python3"
  },
  "language_info": {
   "codemirror_mode": {
    "name": "ipython",
    "version": 3
   },
   "file_extension": ".py",
   "mimetype": "text/x-python",
   "name": "python",
   "nbconvert_exporter": "python",
   "pygments_lexer": "ipython3",
   "version": "3.8.5"
  },
  "orig_nbformat": 4
 },
 "nbformat": 4,
 "nbformat_minor": 2
}
