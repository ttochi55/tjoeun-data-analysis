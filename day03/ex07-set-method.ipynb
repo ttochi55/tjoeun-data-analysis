{
 "cells": [
  {
   "cell_type": "markdown",
   "metadata": {},
   "source": [
    "# Set - method"
   ]
  },
  {
   "cell_type": "code",
   "execution_count": 1,
   "metadata": {},
   "outputs": [
    {
     "name": "stdout",
     "output_type": "stream",
     "text": [
      "set1 : {1, 2, 3}\n",
      "set1 : {1, 2, 3, 6}\n"
     ]
    }
   ],
   "source": [
    "'''\n",
    "    set 자료형에 값 하나 추가하기 : add() 메소드\n",
    "        ㄴ mutable type\n",
    "'''\n",
    "\n",
    "set1 = {1, 2, 3}\n",
    "print('set1 :', set1)\n",
    "\n",
    "set1.add(6)\n",
    "print('set1 :', set1)"
   ]
  },
  {
   "cell_type": "code",
   "execution_count": 2,
   "metadata": {},
   "outputs": [
    {
     "name": "stdout",
     "output_type": "stream",
     "text": [
      "set1 : {1, 2, 3, 4, 5, 6}\n",
      "set1 : {1, 2, 3, 4, 5, 6, 7, 8, 9}\n",
      "set1 : {1, 2, 3, 4, 5, 6, 7, 8, 9}\n"
     ]
    }
   ],
   "source": [
    "'''\n",
    "    set 자료형에 값 여러 개 추가하기 : update() 메소드\n",
    "'''\n",
    "\n",
    "set1.update({4, 5 , 6})\n",
    "print('set1 :', set1)\n",
    "\n",
    "set1.update({7, 8 , 9})\n",
    "print('set1 :', set1)\n",
    "\n",
    "set1.update((7, 8 , 9))\n",
    "print('set1 :', set1)"
   ]
  },
  {
   "cell_type": "code",
   "execution_count": 3,
   "metadata": {},
   "outputs": [
    {
     "name": "stdout",
     "output_type": "stream",
     "text": [
      "set1 : {1, 2, 3, 4, 5, 6, 7, 8, 9}\n",
      "set1 : {1, 2, 3, 4, 5, 6, 7, 8}\n"
     ]
    }
   ],
   "source": [
    "'''\n",
    "    set 자료형에 저장된 item 삭제하기 :\n",
    "        ㄴ remove(), discard(), pop(), clear()\n",
    "'''\n",
    "\n",
    "print('set1 :', set1)\n",
    "\n",
    "# remove() : 삭제된 item 을 다시 삭제하는 경우 KeyError 발생\n",
    "#   ㄴ KeyError: 9\n",
    "set1.remove(9)\n",
    "print('set1 :', set1)"
   ]
  },
  {
   "cell_type": "code",
   "execution_count": 4,
   "metadata": {},
   "outputs": [
    {
     "name": "stdout",
     "output_type": "stream",
     "text": [
      "set1 : {1, 2, 3, 4, 5, 6, 8}\n",
      "set1 : {1, 2, 3, 4, 5, 6, 8}\n"
     ]
    }
   ],
   "source": [
    "set1.discard(7)\n",
    "print('set1 :', set1)\n",
    "\n",
    "# discard() : 없는 item 을 삭제하면 Error 발생 안 하고 실행만 안됨\n",
    "set1.discard(7)\n",
    "print('set1 :', set1)"
   ]
  },
  {
   "cell_type": "code",
   "execution_count": 5,
   "metadata": {},
   "outputs": [
    {
     "name": "stdout",
     "output_type": "stream",
     "text": [
      "set1 : {2, 3, 4, 5, 6, 8}\n",
      "set1 : {3, 4, 5, 6, 8}\n",
      "set1 : {4, 5, 6, 8}\n"
     ]
    }
   ],
   "source": [
    "'''\n",
    "# pop() : 인덱스가 없기 때문에 순서에 상관없이 임의로 삭제가 됨\n",
    "'''\n",
    "set1.pop()\n",
    "print('set1 :', set1)\n",
    "\n",
    "set1.pop()\n",
    "print('set1 :', set1)\n",
    "\n",
    "set1.pop()\n",
    "print('set1 :', set1)"
   ]
  },
  {
   "cell_type": "code",
   "execution_count": 6,
   "metadata": {},
   "outputs": [
    {
     "name": "stdout",
     "output_type": "stream",
     "text": [
      "set1 : set()\n"
     ]
    }
   ],
   "source": [
    "set1.clear()\n",
    "print('set1 :', set1)"
   ]
  },
  {
   "cell_type": "code",
   "execution_count": 7,
   "metadata": {},
   "outputs": [
    {
     "name": "stdout",
     "output_type": "stream",
     "text": [
      "set2 : 4352687232 {1, 2, 3, 4, 5, 6, 7, 8, 9}\n",
      "set2_copy : 4352687904 {1, 2, 3, 4, 5, 6, 7, 8, 9}\n"
     ]
    }
   ],
   "source": [
    "'''\n",
    "set 자료형 복사하기\n",
    "'''\n",
    "\n",
    "set2 = {1, 2, 3, 4, 5, 6, 7, 8, 9}\n",
    "set2_copy = set2.copy()\n",
    "print('set2 :', id(set2), set2)\n",
    "print('set2_copy :', id(set2_copy), set2_copy)"
   ]
  },
  {
   "cell_type": "code",
   "execution_count": 8,
   "metadata": {},
   "outputs": [
    {
     "name": "stdout",
     "output_type": "stream",
     "text": [
      "list1 : 4363731968 [1, 2, 3, 4, 5]\n",
      "list1_copy : 4363739328 [1, 2, 3, 4, 5]\n"
     ]
    }
   ],
   "source": [
    "list1 = [1, 2, 3, 4, 5]\n",
    "list1_copy = list1.copy()\n",
    "print('list1 :', id(list1), list1)\n",
    "print('list1_copy :', id(list1_copy), list1_copy)"
   ]
  },
  {
   "cell_type": "code",
   "execution_count": 9,
   "metadata": {},
   "outputs": [
    {
     "name": "stdout",
     "output_type": "stream",
     "text": [
      "'tuple' object has no attribute 'copy'\n"
     ]
    }
   ],
   "source": [
    "try:\n",
    "    # AttributeError: 'tuple' object has no attribute 'copy'\n",
    "    # tuple 에는 copy() 메소드가 없음\n",
    "    tp1 = (1, 2, 3, 4, 5)\n",
    "    tp1_copy = tp1.copy()\n",
    "    print('tp1 :', id(tp1), tp1)\n",
    "    print('tp1_copy :', id(tp1_copy), tp1_copy)\n",
    "except Exception as e:\n",
    "    print(e)"
   ]
  }
 ],
 "metadata": {
  "interpreter": {
   "hash": "949c5d161ae06a9191be236957b0dfe2172f0f0097fbf05f4df159099ee18a3c"
  },
  "kernelspec": {
   "display_name": "Python 3.8.5 64-bit ('tjoeun')",
   "language": "python",
   "name": "python3"
  },
  "language_info": {
   "codemirror_mode": {
    "name": "ipython",
    "version": 3
   },
   "file_extension": ".py",
   "mimetype": "text/x-python",
   "name": "python",
   "nbconvert_exporter": "python",
   "pygments_lexer": "ipython3",
   "version": "3.8.5"
  },
  "orig_nbformat": 4
 },
 "nbformat": 4,
 "nbformat_minor": 2
}
