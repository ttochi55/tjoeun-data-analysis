{
 "cells": [
  {
   "cell_type": "markdown",
   "metadata": {},
   "source": [
    "# 02 파이썬 기본 도구 익히기\n",
    "\n",
    "## 제2장 연습문제"
   ]
  },
  {
   "cell_type": "code",
   "execution_count": 1,
   "metadata": {},
   "outputs": [
    {
     "name": "stdout",
     "output_type": "stream",
     "text": [
      "su 주소 : 4298787472\n",
      "dan 주소 : 4355649264\n",
      "금액 : 4000\n"
     ]
    }
   ],
   "source": [
    "# 1 번\n",
    "su = 5\n",
    "dan = 800\n",
    "amount = su * dan\n",
    "\n",
    "print('su 주소 :', id(su))\n",
    "print('dan 주소 :', id(dan))\n",
    "print('금액 :', amount)"
   ]
  },
  {
   "cell_type": "code",
   "execution_count": 2,
   "metadata": {},
   "outputs": [
    {
     "name": "stdout",
     "output_type": "stream",
     "text": [
      "2차 방정식 결과 = 22.6\n"
     ]
    }
   ],
   "source": [
    "# 2 번\n",
    "# y = 2.5 * x * x + 3.3 * x + 6 : (x = 2)\n",
    "\n",
    "'''\n",
    "input(argument(인자값, 인자, 인수)) 함수 :\n",
    "        ㄴ 함수를 호출(call, invoke(invocation))할 때 넣어 주는 값\n",
    "                ㄴ 함수를 실행시킴\n",
    "\n",
    "input() 함수를 실행하면 argument 부분이 출력됨 : argument - 문자열\n",
    "         ㄴ 이 부분이 출력되면 사용자가 값을 입력하게 됨\n",
    "         ㄴ 사용자가 입력한 값을 입력하고 enter를 하면 이 값을 변수에 할당함\n",
    "         ㄴ 이 과정에서 반환된 값의 type은 문자열이 됨\n",
    "\n",
    "number = input(\"정수를 입력하세요 : \")\n",
    "          ㄴ 사용자가 입력한 값이 변수 number 에 할당됨\n",
    "'''\n",
    "\n",
    "# x = input(\"x의 값 2를 입력하세요 :\")\n",
    "# x = float(x)\n",
    "# x = int(x)\n",
    "# y = 2.5 * (x * x) + 3.3 * 2 + 6\n",
    "\n",
    "# print('2차 방정식 결과 =', y)\n",
    "\n",
    "x = float(input(\"x의 값 2를 입력하세요 :\"))\n",
    "y = 2.5 * (x ** 2) + 3.3 * 2 + 6\n",
    "\n",
    "print('2차 방정식 결과 =', y)"
   ]
  },
  {
   "cell_type": "code",
   "execution_count": 3,
   "metadata": {},
   "outputs": [
    {
     "name": "stdout",
     "output_type": "stream",
     "text": [
      "총칼로리 : 3430.308 cal\n",
      "총칼로리 : 3430.31 cal\n",
      "총칼로리 : 3430.308000 cal\n",
      "총칼로리 : 3430.31 cal\n",
      "총칼로리 : 3430.31 cal\n",
      "총칼로리 : 3,430.31 cal\n",
      "총칼로리 : 3,430.308 cal\n",
      "총칼로리 : 3430.31 cal\n",
      "총칼로리 : 3,430.31 cal\n",
      "--------------------------------------------------\n",
      "총칼로리 : 3,423 cal\n",
      "총칼로리 : 3,423 cal\n",
      "총칼로리 : 3,423 cal\n"
     ]
    }
   ],
   "source": [
    "# 3 번\n",
    "# 지방, 탄수화물, 단백질 칼로리의 합계를 계산하세요\n",
    "# fat, carbon, protain : cal\n",
    "# 각 값을 키보드로 입력 받아서 (input() 사용)\n",
    "# 총 칼로리 = 지방 * 9 + 단백질 * 4 + 탄수화물 * 4\n",
    "\n",
    "fat = input('지방의 그램을 입력하세요 :')\n",
    "carbon = input('탄수화물의 그램을 입력하세오 :')\n",
    "protain = input('단백질의 그램을 입력하세오 :')\n",
    "\n",
    "fat = float(fat)\n",
    "carbon = float(carbon)\n",
    "protain = float(protain)\n",
    "\n",
    "cal = fat * 9 + carbon * 4 + protain * 4\n",
    "\n",
    "print('총칼로리 :', cal, 'cal')\n",
    "print('총칼로리 :', format(cal, '.2f') , 'cal')\n",
    "\n",
    "print('총칼로리 : %f cal' % cal)\n",
    "print('총칼로리 : %.2f cal' % cal)\n",
    "\n",
    "print('총칼로리 : {:.2f} cal'.format(cal))\n",
    "print('총칼로리 : {:,.2f} cal'.format(cal))\n",
    "print('총칼로리 :', \"{:,} cal\".format(cal))\n",
    "\n",
    "print(f\"총칼로리 : {cal:.2f} cal\")\n",
    "print(f\"총칼로리 : {cal:,.2f} cal\")\n",
    "\n",
    "print('-' * 50)\n",
    "\n",
    "fat = int(fat)\n",
    "carbon = int(carbon)\n",
    "protain = int(protain)\n",
    "\n",
    "cal = fat * 9 + carbon * 4 + protain * 4\n",
    "\n",
    "print('총칼로리 :', \"{:,} cal\".format(cal))\n",
    "print('총칼로리 :', \"{:,d} cal\".format(cal))\n",
    "print('총칼로리 :', \"{0:,d} cal\".format(cal))\n"
   ]
  },
  {
   "cell_type": "code",
   "execution_count": 4,
   "metadata": {},
   "outputs": [
    {
     "name": "stdout",
     "output_type": "stream",
     "text": [
      "첫 번째 글자를 입력하세요 :  korea\n",
      "두 번째 글자를 입력하세요 :  boradcasting\n",
      "세 번째 글자를 입력하세요 :  system\n",
      "약자 : KBS\n",
      "--------------------------------------------------\n",
      "첫 번째 글자를 입력하세요 :  Korea\n",
      "두 번째 글자를 입력하세요 :  Boradcasting\n",
      "세 번째 글자를 입력하세요 :  System\n",
      "약자 : KBS\n"
     ]
    }
   ],
   "source": [
    "# 4 번\n",
    "# 3 글자를 입력받아서 각 단어의 첫 글자로 약자를 만들어서 출력하세요\n",
    "# KBS : Korea Boradcasting System\n",
    "\n",
    "word1 = input('첫 번째 글자를 입력하세요 : ')\n",
    "word2 = input('두 번째 글자를 입력하세요 : ')\n",
    "word3 = input('세 번째 글자를 입력하세요 : ')\n",
    "\n",
    "abbr = word1[0] + word2[0] + word3[0]\n",
    "\n",
    "print('첫 번째 글자를 입력하세요 : ', word1)\n",
    "print('두 번째 글자를 입력하세요 : ', word2)\n",
    "print('세 번째 글자를 입력하세요 : ', word3)\n",
    "print('약자 :', abbr.upper())\n",
    "\n",
    "print('-' * 50)\n",
    "\n",
    "word1 = word1.title()\n",
    "word2 = word2.title()\n",
    "word3 = word3.title()\n",
    "\n",
    "abbr = word1[0] + word2[0] + word3[0]\n",
    "\n",
    "print('첫 번째 글자를 입력하세요 : ', word1)\n",
    "print('두 번째 글자를 입력하세요 : ', word2)\n",
    "print('세 번째 글자를 입력하세요 : ', word3)\n",
    "print('약자 :', abbr.upper())"
   ]
  }
 ],
 "metadata": {
  "interpreter": {
   "hash": "949c5d161ae06a9191be236957b0dfe2172f0f0097fbf05f4df159099ee18a3c"
  },
  "kernelspec": {
   "display_name": "Python 3.8.5 64-bit ('tjoeun')",
   "language": "python",
   "name": "python3"
  },
  "language_info": {
   "codemirror_mode": {
    "name": "ipython",
    "version": 3
   },
   "file_extension": ".py",
   "mimetype": "text/x-python",
   "name": "python",
   "nbconvert_exporter": "python",
   "pygments_lexer": "ipython3",
   "version": "3.8.5"
  },
  "orig_nbformat": 4
 },
 "nbformat": 4,
 "nbformat_minor": 2
}
