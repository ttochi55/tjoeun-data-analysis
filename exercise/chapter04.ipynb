{
 "cells": [
  {
   "cell_type": "markdown",
   "metadata": {},
   "source": [
    "# 실전 예제로 배우는 파이썬 프로그래밍\n",
    "\n",
    "## 제4장 연습문제"
   ]
  },
  {
   "cell_type": "markdown",
   "metadata": {},
   "source": [
    "### [문제1]\n",
    "다음 lst 변수를 대상으로 각 단계별로 list를 연산하시오.\n",
    "\n",
    "```\n",
    "<각 단계별 출력 결과 예시>\n",
    "\n",
    "단계1 : [10, 1, 5, 2, 10, 1, 5, 2]\n",
    "단계2 : [10, 1, 5, 2, 10, 1, 5, 2, 20]\n",
    "단계3 : [1, 2, 1, 2]\n",
    "```\n",
    "\n",
    "```python\n",
    "lst = [10, 1, 5, 2] # list 생성\n",
    "```"
   ]
  },
  {
   "cell_type": "markdown",
   "metadata": {},
   "source": [
    "단계1 : lst 원소를 2배 생성하여 result 변수에 저장 및 출력하기"
   ]
  },
  {
   "cell_type": "code",
   "execution_count": 1,
   "metadata": {},
   "outputs": [
    {
     "name": "stdout",
     "output_type": "stream",
     "text": [
      "단계 1 : [10, 1, 5, 2, 10, 1, 5, 2]\n"
     ]
    }
   ],
   "source": [
    "lst = [10, 1, 5, 2]\n",
    "result = lst * 2\n",
    "print('단계 1 :', result)"
   ]
  },
  {
   "cell_type": "markdown",
   "metadata": {},
   "source": [
    "단계2 : lst의 처 번째 원소에 2를 곱하여 result 변수에 추가 및 출력하기"
   ]
  },
  {
   "cell_type": "code",
   "execution_count": 2,
   "metadata": {},
   "outputs": [
    {
     "name": "stdout",
     "output_type": "stream",
     "text": [
      "단계 1 : [10, 1, 5, 2, 10, 1, 5, 2, 20]\n"
     ]
    }
   ],
   "source": [
    "result.append(lst[0] * 2)\n",
    "print('단계 1 :', result)"
   ]
  },
  {
   "cell_type": "markdown",
   "metadata": {},
   "source": [
    "단계3 : result의 홀수 번째 원소만 result2 변수에 추가 및 출력하기"
   ]
  },
  {
   "cell_type": "code",
   "execution_count": 3,
   "metadata": {},
   "outputs": [
    {
     "name": "stdout",
     "output_type": "stream",
     "text": [
      "단계 1 : [1, 2, 1, 2]\n"
     ]
    }
   ],
   "source": [
    "result2 = [value for i, value in enumerate(result) if i % 2 != 0]\n",
    "print('단계 1 :', result2)"
   ]
  },
  {
   "cell_type": "markdown",
   "metadata": {},
   "source": [
    "### [문제2] list 원소 추가 및 요소 검사하기\n",
    "\n",
    "A형) list 크기를 키보드로 입력 받은 후, 입력 받은 크기만큼 임의 숫자를 list에 추가하고, list의 크기를 출력하시오.\n",
    "\n",
    "```\n",
    "<출력 결과 예시>\n",
    "\n",
    "vector 수 : 3\n",
    "4\n",
    "2\n",
    "5\n",
    "vector 크기 : 3\n",
    "```"
   ]
  },
  {
   "cell_type": "code",
   "execution_count": 4,
   "metadata": {},
   "outputs": [
    {
     "name": "stdout",
     "output_type": "stream",
     "text": [
      "vector 수 : 3\n",
      "4\n",
      "2\n",
      "5\n",
      "vector 크기 : 3\n"
     ]
    }
   ],
   "source": [
    "vector = int(input('vector 수 :'))\n",
    "lst = []\n",
    "\n",
    "print('vector 수 :', vector)\n",
    "\n",
    "for num in range(vector):\n",
    "    num = int(input())\n",
    "    lst.append(num)\n",
    "    print(num)\n",
    "\n",
    "print('vector 크기 :', len(lst))"
   ]
  },
  {
   "cell_type": "markdown",
   "metadata": {},
   "source": [
    "B형) list 크기를 키보드로 입력 받은 후, 입력 받은 크기만큼 임의 숫자를 list에 추가한다. 이후 list에서 찾을 값을 키보드로 입력한 후 해당 값이 list에 있으면 \"YES\", 없으면 \"NO\"를 출력하시오.\n",
    "\n",
    "```\n",
    "<출력 결과 예시>\n",
    "\n",
    "vector 수 : 5\n",
    "1\n",
    "2\n",
    "3\n",
    "4\n",
    "5\n",
    "3\n",
    "YES\n",
    "```"
   ]
  },
  {
   "cell_type": "code",
   "execution_count": 5,
   "metadata": {},
   "outputs": [
    {
     "name": "stdout",
     "output_type": "stream",
     "text": [
      "vector 수 : 5\n",
      "1\n",
      "2\n",
      "3\n",
      "4\n",
      "5\n",
      "3\n",
      "YES\n"
     ]
    }
   ],
   "source": [
    "vector = int(input('vector 수 :'))\n",
    "lst = []   \n",
    "\n",
    "print('vector 수 :', vector)\n",
    "\n",
    "for num in range(vector):\n",
    "    num = int(input())\n",
    "    lst.append(num)\n",
    "    print(num)\n",
    "\n",
    "search = int(input())\n",
    "print(search)\n",
    "\n",
    "match = [i for i in lst if i == search]\n",
    "\n",
    "if len(match):\n",
    "    print('YES')\n",
    "else:\n",
    "    print('NO')"
   ]
  },
  {
   "cell_type": "markdown",
   "metadata": {},
   "source": [
    "### [문제3] list 내포를 이용하여 문자열 처리하기\n",
    "\n",
    "A형) message 변수를 대상으로 'spam' 원소는 1 'ham' 원소는 0으로 dummy 변수를 생성하시오.   \n",
    "<조건> list + for 형식 적용\n",
    "\n",
    "```\n",
    "<출력결과 예시>\n",
    "[1, 0, 1, 0, 1]\n",
    "```"
   ]
  },
  {
   "cell_type": "code",
   "execution_count": 6,
   "metadata": {},
   "outputs": [
    {
     "name": "stdout",
     "output_type": "stream",
     "text": [
      "[1, 0, 1, 0, 1]\n"
     ]
    }
   ],
   "source": [
    "message = ['spam', 'ham', 'spam', 'ham', 'spam']\n",
    "dummy = [1 if msg == 'spam' else 0 for msg in message]\n",
    "print(dummy)"
   ]
  },
  {
   "cell_type": "markdown",
   "metadata": {},
   "source": [
    "B형) message 변수를 대상으로 'spam' 원소만 추출하여 spam_list에 추가하시오.   \n",
    "<조건> list + for + if 형식 적용\n",
    "\n",
    "```\n",
    "<출력결과 예시>\n",
    "\n",
    "['spam', 'spam', 'spam']\n",
    "```\n",
    "\n",
    "```python\n",
    "message = ['spam', 'ham', 'spam', 'ham', 'spam']\n",
    "```"
   ]
  },
  {
   "cell_type": "code",
   "execution_count": 7,
   "metadata": {},
   "outputs": [
    {
     "name": "stdout",
     "output_type": "stream",
     "text": [
      "['spam', 'spam', 'spam']\n"
     ]
    }
   ],
   "source": [
    "message = ['spam', 'ham', 'spam', 'ham', 'spam']\n",
    "spam_list = [msg for msg in message if msg == 'spam']\n",
    "print(spam_list)"
   ]
  },
  {
   "cell_type": "markdown",
   "metadata": {},
   "source": [
    "### [문제4] position 변수를 대상으로 중복되지 않은 직위와 직위별 빈도수를 출력하시오.\n",
    "\n",
    "```\n",
    "<출력결과 예시>\n",
    "\n",
    "중복되지 않은 직위 : ['사장', '과장', '대리', '부장']\n",
    "각 직위별 빈도수 : {'과장': 2, '부장': 1, '대리': 2, '사장': 1}\n",
    "```\n",
    "\n",
    "```python\n",
    "position = ['과장', '부장', '대리', '사장', '대리', '과장']\n",
    "```"
   ]
  },
  {
   "cell_type": "code",
   "execution_count": 8,
   "metadata": {},
   "outputs": [
    {
     "name": "stdout",
     "output_type": "stream",
     "text": [
      "중복되지 않은 직위 : ['부장', '과장', '사장', '대리']\n",
      "각 직위별 빈도 수 : {'과장': 2, '부장': 1, '대리': 2, '사장': 1}\n"
     ]
    }
   ],
   "source": [
    "position = ['과장', '부장', '대리', '사장', '대리', '과장']\n",
    "\n",
    "lst = list(set(position))\n",
    "dic = {}\n",
    "\n",
    "for pos in position:\n",
    "    if pos in dic:\n",
    "        dic[pos] += 1\n",
    "    else:\n",
    "        dic.update({pos: 1})\n",
    "    pass\n",
    "\n",
    "print('중복되지 않은 직위 :', lst)\n",
    "print('각 직위별 빈도 수 :', dic)"
   ]
  }
 ],
 "metadata": {
  "interpreter": {
   "hash": "949c5d161ae06a9191be236957b0dfe2172f0f0097fbf05f4df159099ee18a3c"
  },
  "kernelspec": {
   "display_name": "Python 3.8.5 64-bit ('tjoeun')",
   "language": "python",
   "name": "python3"
  },
  "language_info": {
   "codemirror_mode": {
    "name": "ipython",
    "version": 3
   },
   "file_extension": ".py",
   "mimetype": "text/x-python",
   "name": "python",
   "nbconvert_exporter": "python",
   "pygments_lexer": "ipython3",
   "version": "3.8.5"
  },
  "orig_nbformat": 4
 },
 "nbformat": 4,
 "nbformat_minor": 2
}
