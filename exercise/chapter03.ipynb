{
 "cells": [
  {
   "cell_type": "markdown",
   "metadata": {},
   "source": [
    "# 실전 예제로 배우는 파이썬 프로그래밍\n",
    "\n",
    "## 제3장 연습문제"
   ]
  },
  {
   "cell_type": "markdown",
   "metadata": {},
   "source": [
    "### [문제1] 조건문을 이용한 '짐의 무게 계산하기'\n",
    "\n",
    "A형) 항공사에서는 짐을 부칠 때, 10kg 이상이면 수수료 10,000원을 내야한다. 만약 10kg 미만이면 수수료는 없다. 사용자의 짐의 무게를 키보드로 입력 받아서 사용자가 지불하여야 할 금액을 계산하는 프로그램을 작성하시오.\n",
    "\n",
    "```\n",
    "<출력 결과 예시>\n",
    "짐의 무게는 얼마입니까? 8\n",
    "수수료는 없습니다.\n",
    "\n",
    "짐의 무게는 얼마입니까? 15\n",
    "수수료는 10,000원 입니다.\n",
    "```"
   ]
  },
  {
   "cell_type": "code",
   "execution_count": 1,
   "metadata": {},
   "outputs": [
    {
     "name": "stdout",
     "output_type": "stream",
     "text": [
      "짐의 무게는 얼마입니까? 8\n",
      "수수료는 없습니다.\n"
     ]
    }
   ],
   "source": [
    "weight = int(input('짐의 무게는 얼마입니까?'))\n",
    "\n",
    "if weight < 10 :\n",
    "    print('짐의 무게는 얼마입니까?', weight)\n",
    "    print('수수료는 없습니다.')\n",
    "else:\n",
    "    print('짐의 무게는 얼마입니까?', weight)\n",
    "    print(f\"수수료는 10,000원 입니다.\")"
   ]
  },
  {
   "cell_type": "code",
   "execution_count": 2,
   "metadata": {},
   "outputs": [
    {
     "name": "stdout",
     "output_type": "stream",
     "text": [
      "짐의 무게는 얼마입니까? 15\n",
      "수수료는 10,000원 입니다.\n"
     ]
    }
   ],
   "source": [
    "weight = int(input('짐의 무게는 얼마입니까?'))\n",
    "\n",
    "if weight < 10 :\n",
    "    print('짐의 무게는 얼마입니까?', weight)\n",
    "    print('수수료는 없습니다.')\n",
    "else:\n",
    "    print('짐의 무게는 얼마입니까?', weight)\n",
    "    print(f\"수수료는 10,000원 입니다.\")"
   ]
  },
  {
   "cell_type": "markdown",
   "metadata": {},
   "source": [
    "B형) 항공사에서는 짐을 부칠 때, 10kg이상 부터 수수료를 내야한다. 수수료는 10의 배수 단위로 10,000원씩 증가한다. 만약 10kg 미만이면 수수료는 없다. 사용자의 짐의 무게를 키보드로 입력받고, 사용자가 지불하여야 할 금액을 계산하는 프로그램을 작성하시오.\n",
    "\n",
    "<출력 결과 예시>\n",
    "```\n",
    "짐의 무게는 얼마입니까? 8\n",
    "수수료는 없습니다.\n",
    "\n",
    "짐의 무게는 얼마입니까? 15\n",
    "수수료는 10,000원 입니다.\n",
    "\n",
    "짐의 무게는 얼마입니까? 21\n",
    "수수료는 20,000원 입니다.\n",
    "```"
   ]
  },
  {
   "cell_type": "code",
   "execution_count": 3,
   "metadata": {},
   "outputs": [
    {
     "name": "stdout",
     "output_type": "stream",
     "text": [
      "짐의 무게는 얼마입니까? 8\n",
      "수수료는 없습니다.\n"
     ]
    }
   ],
   "source": [
    "weight = int(input('짐의 무게는 얼마입니까?'))\n",
    "\n",
    "if weight < 10 :\n",
    "    print('짐의 무게는 얼마입니까?', weight)\n",
    "    print('수수료는 없습니다.')\n",
    "else:\n",
    "    commission = 10000 * (weight // 10)\n",
    "    print('짐의 무게는 얼마입니까?', weight)\n",
    "    print(f\"수수료는 {commission:,}원 입니다.\")"
   ]
  },
  {
   "cell_type": "code",
   "execution_count": 4,
   "metadata": {},
   "outputs": [
    {
     "name": "stdout",
     "output_type": "stream",
     "text": [
      "짐의 무게는 얼마입니까? 15\n",
      "수수료는 10,000원 입니다.\n"
     ]
    }
   ],
   "source": [
    "weight = int(input('짐의 무게는 얼마입니까?'))\n",
    "\n",
    "if weight < 10 :\n",
    "    print('짐의 무게는 얼마입니까?', weight)\n",
    "    print('수수료는 없습니다.')\n",
    "else:\n",
    "    commission = 10000 * (weight // 10)\n",
    "    print('짐의 무게는 얼마입니까?', weight)\n",
    "    print(f\"수수료는 {commission:,}원 입니다.\")"
   ]
  },
  {
   "cell_type": "code",
   "execution_count": 5,
   "metadata": {},
   "outputs": [
    {
     "name": "stdout",
     "output_type": "stream",
     "text": [
      "짐의 무게는 얼마입니까? 21\n",
      "수수료는 20,000원 입니다.\n"
     ]
    }
   ],
   "source": [
    "weight = int(input('짐의 무게는 얼마입니까?'))\n",
    "\n",
    "if weight < 10 :\n",
    "    print('짐의 무게는 얼마입니까?', weight)\n",
    "    print('수수료는 없습니다.')\n",
    "else:\n",
    "    commission = 10000 * (weight // 10)\n",
    "    print('짐의 무게는 얼마입니까?', weight)\n",
    "    print(f\"수수료는 {commission:,}원 입니다.\")"
   ]
  },
  {
   "cell_type": "markdown",
   "metadata": {},
   "source": [
    "### [문제2] while 반복문을 이용한 '숫자 맞추기 게임'\n",
    "\n",
    "컴퓨터에 의해서 1~10 사이의 난수가 발생될 때 사용자가 예상되는 숫자를 키보드를 입력한 경우 일치하면 '~~ 성공 ~~' 메시지를 출력하고, 반복을 탈출한다.\n",
    "만약 사용자가 입력한 수가 난수 보다 더 크면 '더 작은 수 입력' 메시지를 출력하고, 반복을 계속한다. 또한 사용자가 입력한 수가 난수 보다 작으면 '더 큰 수 입력' 메시지를 출력하고, 반복을 계속한다. 위 내용이 실행될 수 있도록 프로그램의 빈 칸을 채우시오.\n",
    "\n",
    "```python\n",
    "print('>>숫자 맞추기 게임<< ')\n",
    "com = random.randint(1, 10) # 1~10 사이 난수 정수 발생\n",
    "\n",
    "while True:\n",
    "    my = int(input('예상 숫자를 입력하시오 : ')) # 숫자 입력\n",
    "```"
   ]
  },
  {
   "cell_type": "code",
   "execution_count": 9,
   "metadata": {},
   "outputs": [
    {
     "name": "stdout",
     "output_type": "stream",
     "text": [
      ">>숫자 맞추기 게임<< \n",
      "더 큰 수 입력 1\n",
      "더 작은 수 입력 10\n",
      "더 큰 수 입력 2\n",
      "더 작은 수 입력 9\n",
      "더 작은 수 입력 9\n",
      "더 큰 수 입력 3\n",
      "더 작은 수 입력 8\n",
      "더 큰 수 입력 4\n",
      "더 작은 수 입력 7\n",
      "더 큰 수 입력 5\n",
      "~~ 성공 ~~ 6\n"
     ]
    }
   ],
   "source": [
    "import random\n",
    "\n",
    "print('>>숫자 맞추기 게임<< ')\n",
    "com = random.randint(1, 10) # 1~10 사이 난수 정수 발생\n",
    "\n",
    "while True:\n",
    "    my = int(input('예상 숫자를 입력하시오 : ')) # 숫자 입력\n",
    "    if my == com:\n",
    "        print('~~ 성공 ~~', my)\n",
    "        break\n",
    "    elif my > com:\n",
    "        print('더 작은 수 입력', my)\n",
    "    elif my < com:\n",
    "        print('더 큰 수 입력', my)"
   ]
  },
  {
   "cell_type": "markdown",
   "metadata": {},
   "source": [
    "### [문제3] for 반복문을 이용한 '수열 출력하기'\n",
    "\n",
    "1~100 사이에서 3의 배수이면서 2의 배수가 아닌 수를 한 줄에 출력하고, 누적합을 출력 하시오.\n",
    "\n",
    "```\n",
    "<출력 결과>\n",
    "수열 = 3 9 15 21 27 33 39 45 51 57 63 69 75 81 87 93 99\n",
    "누적합 = 867\n",
    "```"
   ]
  },
  {
   "cell_type": "code",
   "execution_count": 7,
   "metadata": {},
   "outputs": [
    {
     "name": "stdout",
     "output_type": "stream",
     "text": [
      "수열 = 3 9 15 21 27 33 39 45 51 57 63 69 75 81 87 93 99\n",
      "누적합 = 867\n"
     ]
    }
   ],
   "source": [
    "from functools import reduce\n",
    "\n",
    "lst = []\n",
    "\n",
    "for i in range(1, 101):\n",
    "    if (i % 3 == 0) and (i % 2 != 0):\n",
    "        lst.append(i)\n",
    "\n",
    "print('수열 =', *lst)\n",
    "print('누적합 =', reduce(lambda n1, n2 : n1 + n2, lst))\n"
   ]
  },
  {
   "cell_type": "markdown",
   "metadata": {},
   "source": [
    "### [문제4] 중첩 반복문을 이용한 '단어 카운트하기(word count)'\n",
    "\n",
    "다음과 같은 multiline의 문자열 객체를 이용하여 단어를 추출하고 단어의 개수를 출력하시오.\n",
    "\n",
    "```python\n",
    "multiline=\"\"\"안녕하세요. 파이썬 세계로 오신걸\n",
    "환영합니다.\n",
    "파이썬은 비단뱀 처럼 매력적인 언어입니다.\"\"\"\n",
    "```\n",
    "\n",
    "```\n",
    "<출력 결과>\n",
    "\n",
    "안녕하세요.\n",
    "파이썬\n",
    "세계로\n",
    "오신걸\n",
    "환영합니다.\n",
    "파이썬은\n",
    "비단뱀\n",
    "처럼\n",
    "매력적인\n",
    "언어입니다.\n",
    "단어 개수 : 10\n",
    "```"
   ]
  },
  {
   "cell_type": "code",
   "execution_count": 8,
   "metadata": {},
   "outputs": [
    {
     "name": "stdout",
     "output_type": "stream",
     "text": [
      "안녕하세요.\n",
      "파이썬\n",
      "세계로\n",
      "오신걸\n",
      "환영합니다.\n",
      "파이썬은\n",
      "비단뱀\n",
      "처럼\n",
      "매력적인\n",
      "언어입니다.\n",
      "단어 개수 : 10\n"
     ]
    }
   ],
   "source": [
    "multiline=\"\"\"안녕하세요. 파이썬 세계로 오신걸\n",
    "환영합니다.\n",
    "파이썬은 비단뱀 처럼 매력적인 언어입니다.\"\"\"\n",
    "\n",
    "counter = 0\n",
    "\n",
    "for singleline in multiline.split('\\n'):\n",
    "    for word in singleline.split(' '):\n",
    "        counter += 1\n",
    "        print(word)\n",
    "    \n",
    "print('단어 개수 :', counter)"
   ]
  }
 ],
 "metadata": {
  "interpreter": {
   "hash": "949c5d161ae06a9191be236957b0dfe2172f0f0097fbf05f4df159099ee18a3c"
  },
  "kernelspec": {
   "display_name": "Python 3.8.5 64-bit ('tjoeun')",
   "language": "python",
   "name": "python3"
  },
  "language_info": {
   "codemirror_mode": {
    "name": "ipython",
    "version": 3
   },
   "file_extension": ".py",
   "mimetype": "text/x-python",
   "name": "python",
   "nbconvert_exporter": "python",
   "pygments_lexer": "ipython3",
   "version": "3.8.5"
  },
  "orig_nbformat": 4
 },
 "nbformat": 4,
 "nbformat_minor": 2
}
