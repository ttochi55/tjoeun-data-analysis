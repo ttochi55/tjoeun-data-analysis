{
 "cells": [
  {
   "cell_type": "markdown",
   "metadata": {},
   "source": [
    "# word"
   ]
  },
  {
   "cell_type": "code",
   "execution_count": 1,
   "metadata": {},
   "outputs": [
    {
     "name": "stdout",
     "output_type": "stream",
     "text": [
      "['안철수 \"단일화, 양당이 어떻게든 저를 없애려는 술수\"', '안철수 \"국민통합내각 꾸릴 것..인위적 정계개편 없다\"', '안철수 \"李·尹 총 한번 쏴 본적 없으니 몰라..난 해군 출신\"', '\"김건희, 공채 아니었다\"더니..\\'수원여대 공고문·면접 기록\\' 입수', '\"김건희 공채 아니었다\"더니..\\'수원여대 공고문·면접 기록\\' 입수', \"'허위이력' 김건희 수원여대 공채, 총 지원자 6명.. '채용비리'로 확대\", '\"오미크론 변이, 델타보다 입원율 절반..사망률은 10분의 1\"', '\"오미크론, 델타 대비 입원율 절반..사망률도 91% 낮아\"', \"'오미크론' 확진자 입원율 '델타'의 절반, 90%는 사흘 내 퇴원\", \"고승범 '회색 코뿔소' 걱정..전문가들 '떼로 온다' 맞장구\", \"'회색코뿔소' 언급한 고승범 위원장..시장 어떻길래\", '고승범 \"회색 코뿔소가 다가오기 시작했다\"..잠재위험 대응해야', \"이재명 의혹 제보자, 편의점서 죽 먹고 '마지막 외출'\", '윤석열 \"전기요금 인상 백지화\"..연일 중도층 겨냥 공약', \"의붓딸 학대 살해 계모..정인이법 첫 적용 '징역 30년'\", '권노갑·정대철, 민주당 복당..\"정권 재창출 돕겠다\"', '최태원, 공정거래위원장에 \"공정거래정책, 탄력 운영 바란다\"', '안철수 \"단일화? 거대 양당이 나를 없애려는 술수\"', '루이비통 롯데면세점 제주매장 운영중단..시내면세점 철수 시작', '송영길 \\'이재명 탄압\\' 여진 계속..\"宋 아니면 40% 돌파\"', '경찰, 협력업체 3곳 압수수색..부실 의혹 규명 주력', '화이자 먹는치료제 2만1천명분 오늘 도착..내일부터 처방', 'WHO \"전 세계 340만명 신규 확진\"..역대 최다치', \"'9시 제한' 거리두기 3주 연장..설 연휴 '모임 6명' 한시 완화 유력\", '포토뉴스', '택배노동자', '미국은 지금', '포토친구', 'None', 'None', 'None', 'None', 'None', 'None', 'None', 'None', 'None', 'None', '\\'군인 조롱 편지\\'에 목동 학원장 분노..\"그 여고 학생 다 나가라\"', '[단독]정부, 거리두기 3주 연장..6인까지 허용·9시 영업은 그대로', '\"내 거실 들여다보고 있었다\" 韓2600곳 실시간 생중계 쇼크', '\"사방이 온통 낭떠러지\"..29층까지 추락 후 필사의 탈출', \"'이재명 변호사비' 제보자 마지막 외출 CCTV 보니..\", '광주 아파트 붕괴사고 실종자 1명 발견..대형 크레인 반입', '개도 돈 물고 다니던 이 동네, 이젠 둘 중 한명 백수..문닫은 지방공장 4배 쑥', \"'9시 제한' 거리두기 3주 연장..설 연휴 '모임 6명' 한시 완화 유력(종합)\", '코스피', 'None', 'None', 'None', '코스닥', 'None', 'None', 'None', '다우', 'None', 'None', 'None', \"[바로잡습니다] 1월 10일자 B6면 '음원퀸 아이유..' 기사\", '[정정보도]이재명 아들 불법 도박에..\\'나꼼수\\' 김용민 \"이게 시빗거리?\" 관련', '바로잡습니다', \"[바로잡습니다] 29일 자 A6면 '새로운물결 김동연 후보 인터뷰' 기사 중 외\"]\n"
     ]
    }
   ],
   "source": [
    "'''\n",
    "1. pickle.load()\n",
    "2. text 전처리 : 함수 이용\n",
    "3. word count\n",
    "'''\n",
    "import pickle\n",
    "\n",
    "# 1. pickle.load()\n",
    "# load\n",
    "file = open('../dataset/data2/data.pickle', mode='rb')\n",
    "news_data2 = pickle.load(file)\n",
    "print(news_data2)"
   ]
  },
  {
   "cell_type": "code",
   "execution_count": null,
   "metadata": {},
   "outputs": [],
   "source": [
    "# 2. text 전처리\n",
    "import re\n",
    "\n",
    "def clean_text(text_string):\n",
    "    pass\n",
    "\n",
    "# 텍스트 전처리"
   ]
  },
  {
   "cell_type": "code",
   "execution_count": null,
   "metadata": {},
   "outputs": [],
   "source": [
    "# 3. word count\n",
    "word_count = {}"
   ]
  },
  {
   "cell_type": "code",
   "execution_count": null,
   "metadata": {},
   "outputs": [],
   "source": [
    "# 4. 단어 전처리\n",
    "# 불용 단어 제거\n",
    "del word_count[\"[나우어스]\"]"
   ]
  },
  {
   "cell_type": "code",
   "execution_count": null,
   "metadata": {},
   "outputs": [],
   "source": [
    "# 2회 이상 출현 단어 & 2~3자 단어 선정\n",
    "new_word_count = {}\n",
    "for word, cnt in word_count.items():\n",
    "    if cnt >= 2 and len(word) >= 2 and len(word) <= 4 : # (단어:빈도수)\n",
    "        print(word, '->', word_count[word])\n",
    "        new_word_count[word] = new_word_count.get(word, cnt)\n"
   ]
  },
  {
   "cell_type": "code",
   "execution_count": null,
   "metadata": {},
   "outputs": [],
   "source": [
    "# 5. top word Counter\n",
    "from collections import Counter\n",
    "\n",
    "counter = Counter(new_word_count) # 생성자 -> object\n",
    "top5_word = counter.most_common(5) # top 5\n",
    "\n",
    "print('>>Top 5 단어<<')\n",
    "print(top5_word)"
   ]
  },
  {
   "cell_type": "code",
   "execution_count": null,
   "metadata": {},
   "outputs": [],
   "source": [
    "words = [] # 단어\n",
    "counts = [] # 출현 빈도수\n",
    "for word, count in top5_word:\n",
    "    words.append(word)\n",
    "    counts.append(count)\n",
    "    \n",
    "print(words)\n",
    "print(counts)"
   ]
  },
  {
   "cell_type": "code",
   "execution_count": null,
   "metadata": {},
   "outputs": [],
   "source": [
    "import matplotlib.pyplot as plt\n",
    "\n",
    "# 차트에서 한글 지원\n",
    "from matplotlib import font_manager, rc\n",
    "font_name = font_manager.FontProperties(fname='').get\n",
    "rc('font',)"
   ]
  },
  {
   "cell_type": "code",
   "execution_count": null,
   "metadata": {},
   "outputs": [],
   "source": [
    "# 선 그래프\n",
    "plt.plot()\n",
    "plt.show()"
   ]
  },
  {
   "cell_type": "code",
   "execution_count": null,
   "metadata": {},
   "outputs": [],
   "source": [
    "# 막대 그래프\n",
    "plt.bar(words, counts)\n",
    "plt.show()"
   ]
  }
 ],
 "metadata": {
  "interpreter": {
   "hash": "949c5d161ae06a9191be236957b0dfe2172f0f0097fbf05f4df159099ee18a3c"
  },
  "kernelspec": {
   "display_name": "Python 3.8.5 64-bit ('tjoeun')",
   "language": "python",
   "name": "python3"
  },
  "language_info": {
   "codemirror_mode": {
    "name": "ipython",
    "version": 3
   },
   "file_extension": ".py",
   "mimetype": "text/x-python",
   "name": "python",
   "nbconvert_exporter": "python",
   "pygments_lexer": "ipython3",
   "version": "3.8.5"
  },
  "orig_nbformat": 4
 },
 "nbformat": 4,
 "nbformat_minor": 2
}
