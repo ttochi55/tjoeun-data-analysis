{
 "cells": [
  {
   "cell_type": "markdown",
   "metadata": {},
   "source": [
    "# numpy"
   ]
  },
  {
   "cell_type": "markdown",
   "metadata": {},
   "source": [
    "### Numpy ndarray\n",
    "\n",
    "* 기본 python 에서는 배열이 없음\n",
    "* numpy 의 ndarray 를 사용함\n",
    "* ndarrray 생성하기 : numpy 의 array() 함수를 사용해서 생성 함"
   ]
  },
  {
   "cell_type": "code",
   "execution_count": 1,
   "metadata": {},
   "outputs": [],
   "source": [
    "import numpy as np"
   ]
  },
  {
   "cell_type": "code",
   "execution_count": 2,
   "metadata": {},
   "outputs": [
    {
     "name": "stdout",
     "output_type": "stream",
     "text": [
      "<class 'list'>\n",
      "[1, 2, 3]\n"
     ]
    }
   ],
   "source": [
    "list1 = [1, 2, 3]\n",
    "print(type(list1))\n",
    "print(list1)"
   ]
  },
  {
   "cell_type": "code",
   "execution_count": 3,
   "metadata": {},
   "outputs": [
    {
     "name": "stdout",
     "output_type": "stream",
     "text": [
      "<class 'numpy.ndarray'>\n",
      "[1 2 3]\n"
     ]
    }
   ],
   "source": [
    "list1 = np.array(list1)\n",
    "print(type(list1))\n",
    "print(list1)"
   ]
  },
  {
   "cell_type": "markdown",
   "metadata": {},
   "source": [
    "### ndarray 의 shape 와 차원"
   ]
  },
  {
   "cell_type": "code",
   "execution_count": 4,
   "metadata": {},
   "outputs": [
    {
     "name": "stdout",
     "output_type": "stream",
     "text": [
      "<class 'numpy.ndarray'> (3,)\n",
      "[1 2 3]\n"
     ]
    }
   ],
   "source": [
    "array1 = np.array([1, 2, 3])\n",
    "print(type(array1), array1.shape)\n",
    "print(array1)"
   ]
  },
  {
   "cell_type": "code",
   "execution_count": 5,
   "metadata": {},
   "outputs": [
    {
     "name": "stdout",
     "output_type": "stream",
     "text": [
      "<class 'numpy.ndarray'> (2, 3)\n",
      "[[1 2 3]\n",
      " [4 5 6]]\n"
     ]
    }
   ],
   "source": [
    "array2 = np.array([\n",
    "                    [1, 2, 3],\n",
    "                    [4, 5, 6]\n",
    "                  ])\n",
    "print(type(array2), array2.shape)\n",
    "print(array2)"
   ]
  },
  {
   "cell_type": "code",
   "execution_count": 6,
   "metadata": {},
   "outputs": [
    {
     "name": "stdout",
     "output_type": "stream",
     "text": [
      "<class 'numpy.ndarray'> (1, 3)\n",
      "[[1 2 3]]\n"
     ]
    }
   ],
   "source": [
    "array3 = np.array([\n",
    "                    [1, 2, 3]\n",
    "                  ])\n",
    "print(type(array3), array3.shape)\n",
    "print(array3)"
   ]
  },
  {
   "cell_type": "markdown",
   "metadata": {},
   "source": [
    "### ndarray 의 ndim 속성 : 몇 차원인지 알려줌"
   ]
  },
  {
   "cell_type": "code",
   "execution_count": 7,
   "metadata": {},
   "outputs": [
    {
     "name": "stdout",
     "output_type": "stream",
     "text": [
      "array1 : 1 차원\n",
      "array2 : 2 차원\n",
      "array3 : 2 차원\n",
      "\n"
     ]
    }
   ],
   "source": [
    "print(f\"array1 : {array1.ndim} 차원\\n\"\n",
    "      f\"array2 : {array2.ndim} 차원\\n\"\n",
    "      f\"array3 : {array3.ndim} 차원\\n\")"
   ]
  },
  {
   "cell_type": "markdown",
   "metadata": {},
   "source": [
    "### dtype : 배열 속에 들어있는 data 의 type 을 알려줌"
   ]
  },
  {
   "cell_type": "code",
   "execution_count": 8,
   "metadata": {},
   "outputs": [
    {
     "name": "stdout",
     "output_type": "stream",
     "text": [
      "array1의 dtype : int64\n",
      "array2의 dtype : <U21\n",
      "array3의 dtype : float64\n"
     ]
    }
   ],
   "source": [
    "array1 = np.array([1, 2, 3])\n",
    "print(\"array1의 dtype :\", array1.dtype)\n",
    "\n",
    "# <U11 : 문자열을 의미함\n",
    "array2 = np.array([1, 2, '3'])\n",
    "print(\"array2의 dtype :\", array2.dtype)\n",
    "\n",
    "array3 = np.array([1, 2, 3.0])\n",
    "print(\"array3의 dtype :\", array3.dtype)"
   ]
  },
  {
   "cell_type": "markdown",
   "metadata": {},
   "source": [
    "### astype() : dtype을 반환함"
   ]
  },
  {
   "cell_type": "code",
   "execution_count": 9,
   "metadata": {},
   "outputs": [
    {
     "name": "stdout",
     "output_type": "stream",
     "text": [
      "int64 [1 2 3]\n",
      "float64 [1. 2. 3.]\n",
      "int32 [1 2 3]\n",
      "float64 [1. 2. 3.]\n",
      "float64 [1. 2. 3.]\n",
      "int32 [1 2 3]\n"
     ]
    }
   ],
   "source": [
    "array_int = np.array([1, 2, 3])\n",
    "print(array_int.dtype, array_int)\n",
    "\n",
    "array_float = array_int.astype('float64')\n",
    "print(array_float.dtype, array_float)\n",
    "\n",
    "array_int2 = array_float.astype('int32')\n",
    "print(array_int2.dtype, array_int2)\n",
    "\n",
    "array_float2 = np.array([1., 2., 3.])\n",
    "print(array_float2.dtype, array_float2)\n",
    "\n",
    "array_float2 = np.array([1.0, 2.0, 3.0])\n",
    "print(array_float2.dtype, array_float2)\n",
    "\n",
    "array_int3 = array_float2.astype('int32')\n",
    "print(array_int3.dtype, array_int3)"
   ]
  },
  {
   "cell_type": "markdown",
   "metadata": {},
   "source": [
    "### ndarray 연산 : axis 기반\n",
    "\n",
    "* axis=0 : 열끼리 연산함\n",
    "* axis=1 : 행 안에 있는 요소들끼리 연산함"
   ]
  },
  {
   "cell_type": "code",
   "execution_count": 10,
   "metadata": {},
   "outputs": [
    {
     "name": "stdout",
     "output_type": "stream",
     "text": [
      "2 차원\n",
      "21\n",
      "[5 7 9]\n",
      "[ 6 15]\n"
     ]
    }
   ],
   "source": [
    "array2 = np.array([\n",
    "                    [1, 2, 3],\n",
    "                    [4, 5, 6],\n",
    "                 ])\n",
    "\n",
    "print(array2.ndim, '차원')\n",
    "print(array2.sum())\n",
    "print(array2.sum(axis=0))\n",
    "print(array2.sum(axis=1))"
   ]
  },
  {
   "cell_type": "markdown",
   "metadata": {},
   "source": [
    "### ndarray : arange, zeros, ones"
   ]
  },
  {
   "cell_type": "code",
   "execution_count": 11,
   "metadata": {},
   "outputs": [
    {
     "name": "stdout",
     "output_type": "stream",
     "text": [
      "<class 'numpy.ndarray'> int64\n",
      "[0 1 2 3 4 5 6 7 8 9]\n"
     ]
    }
   ],
   "source": [
    "squence_array = np.arange(10)\n",
    "\n",
    "print(type(squence_array), squence_array.dtype)\n",
    "print(squence_array)"
   ]
  },
  {
   "cell_type": "code",
   "execution_count": 12,
   "metadata": {},
   "outputs": [
    {
     "name": "stdout",
     "output_type": "stream",
     "text": [
      "<class 'numpy.ndarray'> int32\n",
      "[[0 0]\n",
      " [0 0]\n",
      " [0 0]]\n"
     ]
    }
   ],
   "source": [
    "zero_array = np.zeros((3, 2), dtype='int32')\n",
    "\n",
    "print(type(zero_array), zero_array.dtype)\n",
    "print(zero_array)"
   ]
  },
  {
   "cell_type": "code",
   "execution_count": 13,
   "metadata": {},
   "outputs": [
    {
     "name": "stdout",
     "output_type": "stream",
     "text": [
      "<class 'numpy.ndarray'> int32\n",
      "[[1 1]\n",
      " [1 1]\n",
      " [1 1]]\n"
     ]
    }
   ],
   "source": [
    "one_array = np.ones((3, 2), dtype='int32')\n",
    "\n",
    "print(type(one_array), one_array.dtype)\n",
    "print(one_array)"
   ]
  },
  {
   "cell_type": "markdown",
   "metadata": {},
   "source": [
    "### ndarray 의 shape 변형하기 : reshape()"
   ]
  },
  {
   "cell_type": "code",
   "execution_count": 14,
   "metadata": {},
   "outputs": [
    {
     "name": "stdout",
     "output_type": "stream",
     "text": [
      "[0 1 2 3 4 5 6 7 8 9]\n",
      "\n",
      "[[0 1 2 3 4]\n",
      " [5 6 7 8 9]]\n",
      "\n",
      "[[0 1]\n",
      " [2 3]\n",
      " [4 5]\n",
      " [6 7]\n",
      " [8 9]]\n"
     ]
    }
   ],
   "source": [
    "array1 = np.arange(10)\n",
    "print(array1)\n",
    "print()\n",
    "\n",
    "array2 = array1.reshape(2, 5)\n",
    "print(array2)\n",
    "print()\n",
    "\n",
    "array3 = array1.reshape(5, 2)\n",
    "print(array3)\n",
    "\n",
    "# 행과 열의 크기를 data 개수에 맞게 지정해야 함\n",
    "# ValueError: cannot reshape array of size 10 into shape (3,3)\n",
    "# array4 = array1.reshape(3, 3)\n",
    "# print(array4)"
   ]
  },
  {
   "cell_type": "markdown",
   "metadata": {},
   "source": [
    "### reshape() 메소드에 -1 을 넣어서 반환하기\n",
    "\n",
    "* 행의 크기를 고정하고 열의 크기는 자동으로 결정되게 하기\n",
    "* 열의 크기를 고정하고 행의 크기는 자동으로 결정되게 하기"
   ]
  },
  {
   "cell_type": "code",
   "execution_count": 15,
   "metadata": {},
   "outputs": [
    {
     "name": "stdout",
     "output_type": "stream",
     "text": [
      "[0 1 2 3 4 5 6 7 8 9]\n"
     ]
    }
   ],
   "source": [
    "array1 = np.arange(10)\n",
    "print(array1)"
   ]
  },
  {
   "cell_type": "code",
   "execution_count": 16,
   "metadata": {},
   "outputs": [
    {
     "name": "stdout",
     "output_type": "stream",
     "text": [
      "1 (10,)\n",
      "[[0 1 2 3 4]\n",
      " [5 6 7 8 9]]\n"
     ]
    }
   ],
   "source": [
    "# 열의 크기를 5로 고정하고 행의 크기는 이에 맞추어서 결정됨\n",
    "array2 = array1.reshape(-1, 5)\n",
    "print(array1.ndim, array1.shape)\n",
    "print(array2)"
   ]
  },
  {
   "cell_type": "code",
   "execution_count": 17,
   "metadata": {},
   "outputs": [
    {
     "name": "stdout",
     "output_type": "stream",
     "text": [
      "1 (10,)\n",
      "[[0 1]\n",
      " [2 3]\n",
      " [4 5]\n",
      " [6 7]\n",
      " [8 9]]\n"
     ]
    }
   ],
   "source": [
    "# 행의 크기를 5로 고정하고 열의 크기는 이에 맞추어서 결정됨\n",
    "array3 = array1.reshape(5, -1)\n",
    "print(array1.ndim, array1.shape)\n",
    "print(array3)"
   ]
  },
  {
   "cell_type": "code",
   "execution_count": 18,
   "metadata": {},
   "outputs": [
    {
     "name": "stdout",
     "output_type": "stream",
     "text": [
      "1 (5,)\n",
      "[0 1 2 3 4]\n"
     ]
    }
   ],
   "source": [
    "array1 = np.arange(5)\n",
    "print(array1.ndim, array1.shape)\n",
    "print(array1)"
   ]
  },
  {
   "cell_type": "code",
   "execution_count": 19,
   "metadata": {},
   "outputs": [
    {
     "name": "stdout",
     "output_type": "stream",
     "text": [
      "2 (5, 1)\n",
      "[[0]\n",
      " [1]\n",
      " [2]\n",
      " [3]\n",
      " [4]]\n"
     ]
    }
   ],
   "source": [
    "# 1차원 ndarray -> 2차원 ndarray\n",
    "# 열 axis 의 크기는 1로 함\n",
    "array2d = array1.reshape(-1, 1)\n",
    "\n",
    "print(array2d.ndim, array2d.shape)\n",
    "print(array2d)"
   ]
  },
  {
   "cell_type": "code",
   "execution_count": 20,
   "metadata": {},
   "outputs": [
    {
     "name": "stdout",
     "output_type": "stream",
     "text": [
      "1 (5,)\n",
      "[0 1 2 3 4]\n"
     ]
    }
   ],
   "source": [
    "# 2차원 ndarray -> 1차원 ndarray\n",
    "array1d = array2d.reshape(-1,)\n",
    "print(array1d.ndim, array1d.shape)\n",
    "print(array1d)"
   ]
  },
  {
   "cell_type": "code",
   "execution_count": 21,
   "metadata": {},
   "outputs": [],
   "source": [
    "# reshape()에 -1 은 열에 지정하든지, 행에 지정하든지 \n",
    "# 한 군데에만 지정할 수 있음\n",
    "\n",
    "# ValueError: can only specify one unknown dimension\n",
    "# array1.reshape(-1, -1)"
   ]
  },
  {
   "cell_type": "markdown",
   "metadata": {},
   "source": [
    "### ndarray 에서 data set 선택하기 : indexing\n",
    "\n",
    "* 특정 위치에 있는 값 추출하기"
   ]
  },
  {
   "cell_type": "code",
   "execution_count": 22,
   "metadata": {},
   "outputs": [
    {
     "name": "stdout",
     "output_type": "stream",
     "text": [
      "1 (9,)\n",
      "[1 2 3 4 5 6 7 8 9]\n",
      "<class 'numpy.int64'> 3\n",
      "<class 'numpy.int64'> 9\n",
      "<class 'numpy.int64'> 8\n",
      "[9 2 3 4 5 6 7 8 0]\n"
     ]
    }
   ],
   "source": [
    "array1 = np.arange(1, 10)\n",
    "print(array1.ndim, array1.shape)\n",
    "print(array1)\n",
    "\n",
    "value = array1[2]\n",
    "print(type(value), value)\n",
    "\n",
    "value = array1[-1]\n",
    "print(type(value), value)\n",
    "\n",
    "value = array1[-2]\n",
    "print(type(value), value)\n",
    "\n",
    "array1[8] = 0\n",
    "array1[0] = 9\n",
    "print(array1)"
   ]
  },
  {
   "cell_type": "code",
   "execution_count": 23,
   "metadata": {},
   "outputs": [
    {
     "name": "stdout",
     "output_type": "stream",
     "text": [
      "2 (3, 3)\n",
      "[[1 2 3]\n",
      " [4 5 6]\n",
      " [7 8 9]]\n"
     ]
    }
   ],
   "source": [
    "array1d = np.arange(1, 10)\n",
    "array2d = array1d.reshape(3, 3)\n",
    "print(array2d.ndim, array2d.shape)\n",
    "print(array2d)"
   ]
  },
  {
   "cell_type": "code",
   "execution_count": 24,
   "metadata": {},
   "outputs": [
    {
     "name": "stdout",
     "output_type": "stream",
     "text": [
      "[0,0] : 1\n",
      "[0,1] : 2\n",
      "[1,0] : 4\n",
      "[2,2] : 9\n"
     ]
    }
   ],
   "source": [
    "print('[0,0] :', array2d[0,0])\n",
    "print('[0,1] :', array2d[0,1])\n",
    "print('[1,0] :', array2d[1,0])\n",
    "print('[2,2] :', array2d[2,2])"
   ]
  },
  {
   "cell_type": "markdown",
   "metadata": {},
   "source": [
    "### Slicing"
   ]
  },
  {
   "cell_type": "code",
   "execution_count": 25,
   "metadata": {},
   "outputs": [
    {
     "name": "stdout",
     "output_type": "stream",
     "text": [
      "1 (9,)\n",
      "[1 2 3 4 5 6 7 8 9]\n",
      "\n",
      "1 (3,)\n",
      "[1 2 3]\n",
      "\n",
      "1 (6,)\n",
      "[4 5 6 7 8 9]\n",
      "\n",
      "1 (9,)\n",
      "[1 2 3 4 5 6 7 8 9]\n"
     ]
    }
   ],
   "source": [
    "array1 = np.arange(1, 10)\n",
    "print(array1.ndim, array1.shape)\n",
    "print(array1)\n",
    "print()\n",
    "\n",
    "array2 = array1[0:3]\n",
    "print(array2.ndim, array2.shape)\n",
    "print(array2)\n",
    "print()\n",
    "\n",
    "array3 = array1[3:]\n",
    "print(array3.ndim, array3.shape)\n",
    "print(array3)\n",
    "print()\n",
    "\n",
    "array4 = array1[:]\n",
    "print(array4.ndim, array4.shape)\n",
    "print(array4)"
   ]
  },
  {
   "cell_type": "code",
   "execution_count": 26,
   "metadata": {},
   "outputs": [
    {
     "name": "stdout",
     "output_type": "stream",
     "text": [
      "2 (3, 3)\n",
      "[[1 2 3]\n",
      " [4 5 6]\n",
      " [7 8 9]]\n",
      "\n",
      "array2d[0:2,0:2] :\n",
      "[[1 2]\n",
      " [4 5]]\n",
      "array2d[1:3,0:3] :\n",
      "[[4 5 6]\n",
      " [7 8 9]]\n",
      "array2d[1:3,:] :\n",
      "[[4 5 6]\n",
      " [7 8 9]]\n",
      "array2d[:,:] :\n",
      "[[1 2 3]\n",
      " [4 5 6]\n",
      " [7 8 9]]\n",
      "array2d[:2,1:] :\n",
      "[[2 3]\n",
      " [5 6]]\n",
      "array2d[:2,0] :\n",
      "[1 4]\n"
     ]
    }
   ],
   "source": [
    "array1d = np.arange(1, 10)\n",
    "array2d = array1d.reshape(3, 3)\n",
    "print(array2d.ndim, array2d.shape)\n",
    "print(array2d)\n",
    "print()\n",
    "\n",
    "print('array2d[0:2,0:2] :', array2d[0:2,0:2], sep='\\n')\n",
    "print('array2d[1:3,0:3] :', array2d[1:3,0:3], sep='\\n')\n",
    "print('array2d[1:3,:] :', array2d[1:3,:], sep='\\n')\n",
    "print('array2d[:,:] :', array2d[:,:], sep='\\n')\n",
    "print('array2d[:2,1:] :', array2d[:2,1:], sep='\\n')\n",
    "print('array2d[:2,0] :', array2d[:2,0], sep='\\n')"
   ]
  },
  {
   "cell_type": "code",
   "execution_count": 27,
   "metadata": {},
   "outputs": [
    {
     "name": "stdout",
     "output_type": "stream",
     "text": [
      "2 (3, 3)\n",
      "[[1 2 3]\n",
      " [4 5 6]\n",
      " [7 8 9]]\n",
      "\n"
     ]
    }
   ],
   "source": [
    "# arrayed = np.arange([[1,2,3],[4,5,6],[7,8,9]])\n",
    "array1d = np.arange(1, 10)\n",
    "array2d = array1d.reshape(3, 3)\n",
    "\n",
    "print(array2d.ndim, array2d.shape)\n",
    "print(array2d)\n",
    "print()"
   ]
  },
  {
   "cell_type": "code",
   "execution_count": 28,
   "metadata": {},
   "outputs": [
    {
     "name": "stdout",
     "output_type": "stream",
     "text": [
      "2\n"
     ]
    }
   ],
   "source": [
    "# 1 행 2 열 : [0,1]\n",
    "print(array2d[0,1])"
   ]
  },
  {
   "cell_type": "code",
   "execution_count": 29,
   "metadata": {},
   "outputs": [
    {
     "name": "stdout",
     "output_type": "stream",
     "text": [
      "[2 5 8]\n"
     ]
    }
   ],
   "source": [
    "# 2열\n",
    "print(array2d[:,1])"
   ]
  },
  {
   "cell_type": "code",
   "execution_count": 30,
   "metadata": {},
   "outputs": [
    {
     "name": "stdout",
     "output_type": "stream",
     "text": [
      "[8]\n"
     ]
    }
   ],
   "source": [
    "# 3행 2열\n",
    "print(array2d[2:,1])"
   ]
  },
  {
   "cell_type": "code",
   "execution_count": 31,
   "metadata": {},
   "outputs": [
    {
     "name": "stdout",
     "output_type": "stream",
     "text": [
      "[2 5]\n"
     ]
    }
   ],
   "source": [
    "# 두번째 열의 첫 번째 부터 두 번째까지\n",
    "print(array2d[:2,1])"
   ]
  },
  {
   "cell_type": "code",
   "execution_count": 32,
   "metadata": {},
   "outputs": [
    {
     "name": "stdout",
     "output_type": "stream",
     "text": [
      "[7 9]\n"
     ]
    }
   ],
   "source": [
    "# 세 번째 행에서 첫 번째 세 번째 요서\n",
    "print(array2d[2, [0,2]]) # [7 9]"
   ]
  },
  {
   "cell_type": "code",
   "execution_count": 33,
   "metadata": {},
   "outputs": [
    {
     "name": "stdout",
     "output_type": "stream",
     "text": [
      "[[False False False]\n",
      " [ True  True  True]\n",
      " [ True  True  True]]\n"
     ]
    }
   ],
   "source": [
    "print(array2d > 3)"
   ]
  },
  {
   "cell_type": "code",
   "execution_count": 34,
   "metadata": {},
   "outputs": [
    {
     "name": "stdout",
     "output_type": "stream",
     "text": [
      "[4 5 6 7 8 9]\n"
     ]
    }
   ],
   "source": [
    "print(array2d[array2d > 3])"
   ]
  },
  {
   "cell_type": "code",
   "execution_count": 35,
   "metadata": {},
   "outputs": [
    {
     "name": "stdout",
     "output_type": "stream",
     "text": [
      "[[  1   2   3]\n",
      " [  4 555   6]\n",
      " [  7   8   9]]\n"
     ]
    }
   ],
   "source": [
    "array2d[1,1] = 555\n",
    "print(array2d)"
   ]
  },
  {
   "cell_type": "code",
   "execution_count": 36,
   "metadata": {},
   "outputs": [
    {
     "name": "stdout",
     "output_type": "stream",
     "text": [
      "[[  1   2   3]\n",
      " [  4 555   6]\n",
      " [  7   8   9]]\n",
      "555\n",
      "555\n"
     ]
    }
   ],
   "source": [
    "print(array2d)\n",
    "\n",
    "# 속도가 빠름\n",
    "print(array2d[1,1])\n",
    "\n",
    "# 속도가 느림\n",
    "print(array2d[1][1])"
   ]
  },
  {
   "cell_type": "code",
   "execution_count": 37,
   "metadata": {},
   "outputs": [
    {
     "name": "stdout",
     "output_type": "stream",
     "text": [
      "[[  1   2   3]\n",
      " [  4 555   6]\n",
      " [  7   8   9]]\n",
      "[8 9]\n",
      "CPU times: user 444 µs, sys: 63 µs, total: 507 µs\n",
      "Wall time: 489 µs\n"
     ]
    }
   ],
   "source": [
    "%%time\n",
    "print(array2d)\n",
    "print(array2d[2, 1:3])"
   ]
  },
  {
   "cell_type": "code",
   "execution_count": 38,
   "metadata": {},
   "outputs": [
    {
     "name": "stdout",
     "output_type": "stream",
     "text": [
      "[[  1   2   3]\n",
      " [  4 555   6]\n",
      " [  7   8   9]]\n",
      "[8 9]\n",
      "CPU times: user 537 µs, sys: 109 µs, total: 646 µs\n",
      "Wall time: 621 µs\n"
     ]
    }
   ],
   "source": [
    "%%time\n",
    "print(array2d)\n",
    "print(array2d[2][1:3])"
   ]
  },
  {
   "cell_type": "markdown",
   "metadata": {},
   "source": [
    "### tolist() : ndarray 를 list 로 반환 함"
   ]
  },
  {
   "cell_type": "code",
   "execution_count": 39,
   "metadata": {},
   "outputs": [
    {
     "name": "stdout",
     "output_type": "stream",
     "text": [
      "[[1 2 3]\n",
      " [4 5 6]\n",
      " [7 8 9]]\n",
      "\n",
      "1 차원\n",
      "[3 6]\n",
      "tolist() : [3, 6]\n",
      "\n",
      "2 차원\n",
      "[[1 2]\n",
      " [7 8]]\n",
      "tolist() : [[1, 2], [7, 8]]\n",
      "\n",
      "2 차원\n",
      "[[1 2 3]\n",
      " [4 5 6]]\n",
      "\n"
     ]
    }
   ],
   "source": [
    "array1d = np.arange(1, 10)\n",
    "array2d = array1d.reshape(3, 3)\n",
    "\n",
    "print(array2d)\n",
    "print()\n",
    "\n",
    "array3 = array2d[[0,1],2]\n",
    "print(array3.ndim, '차원')\n",
    "print(array3)\n",
    "print('tolist() :', array3.tolist())\n",
    "print()\n",
    "\n",
    "array4 = array2d[[0,2], 0:2]\n",
    "print(array4.ndim, '차원')\n",
    "print(array4)\n",
    "print('tolist() :', array4.tolist())\n",
    "print()\n",
    "\n",
    "array5 = array2d[[0,1]]\n",
    "print(array5.ndim, '차원')\n",
    "print(array5)\n",
    "print()\n"
   ]
  },
  {
   "cell_type": "markdown",
   "metadata": {},
   "source": [
    "### Boolean Indexing"
   ]
  },
  {
   "cell_type": "code",
   "execution_count": 40,
   "metadata": {},
   "outputs": [
    {
     "name": "stdout",
     "output_type": "stream",
     "text": [
      "[1 2 3 4 5 6 7 8 9]\n"
     ]
    }
   ],
   "source": [
    "array1d = np.arange(1, 10)\n",
    "print(array1d)"
   ]
  },
  {
   "cell_type": "code",
   "execution_count": 41,
   "metadata": {},
   "outputs": [
    {
     "name": "stdout",
     "output_type": "stream",
     "text": [
      "[False False False False False  True  True  True  True]\n"
     ]
    }
   ],
   "source": [
    "print(array1d > 5)"
   ]
  },
  {
   "cell_type": "code",
   "execution_count": 42,
   "metadata": {},
   "outputs": [
    {
     "name": "stdout",
     "output_type": "stream",
     "text": [
      "<class 'numpy.ndarray'>\n",
      "[False False False False False  True  True  True  True]\n"
     ]
    }
   ],
   "source": [
    "result = array1d > 5\n",
    "print(type(result))\n",
    "print(result)"
   ]
  },
  {
   "cell_type": "code",
   "execution_count": 43,
   "metadata": {},
   "outputs": [
    {
     "name": "stdout",
     "output_type": "stream",
     "text": [
      "[6 7 8 9]\n"
     ]
    }
   ],
   "source": [
    "print(array1d[array1d > 5])"
   ]
  },
  {
   "cell_type": "code",
   "execution_count": 44,
   "metadata": {},
   "outputs": [
    {
     "name": "stdout",
     "output_type": "stream",
     "text": [
      "[6 7 8 9]\n"
     ]
    }
   ],
   "source": [
    "boolean_indexes = np.array([False,False,False,False,False,True,True,True,True])\n",
    "print(array1d[boolean_indexes])"
   ]
  },
  {
   "cell_type": "code",
   "execution_count": 45,
   "metadata": {},
   "outputs": [
    {
     "data": {
      "text/plain": [
       "array([4, 5, 6, 7])"
      ]
     },
     "execution_count": 45,
     "metadata": {},
     "output_type": "execute_result"
    }
   ],
   "source": [
    "# array1d 의 index 로 이루어진 list 생성하기\n",
    "#  ㄴ 이것을 ndarray 로 변환하기 (np.array())\n",
    "array_indexes = np.array([5, 6, 7 ,8])\n",
    "array1d[array_indexes]\n",
    "\n",
    "array_indexes2 = np.array([3, 4, 5, 6])\n",
    "array1d[array_indexes2]"
   ]
  },
  {
   "cell_type": "code",
   "execution_count": 46,
   "metadata": {},
   "outputs": [
    {
     "name": "stdout",
     "output_type": "stream",
     "text": [
      "[1 2 3 4 5 6 7 8 9]\n",
      "[5, 6, 7, 8]\n",
      "[6 7 8 9]\n"
     ]
    }
   ],
   "source": [
    "array1d = np.arange(1, 10)\n",
    "print(array1d)\n",
    "\n",
    "list_boolean_filtering = []\n",
    "for i in range(0, 9):\n",
    "    if array1d[i] > 5:\n",
    "        list_boolean_filtering.append(i)\n",
    "print(list_boolean_filtering)\n",
    "\n",
    "array_boolean_filtering = np.array(list_boolean_filtering)\n",
    "print(array1d[array_boolean_filtering])"
   ]
  },
  {
   "cell_type": "markdown",
   "metadata": {},
   "source": [
    "### 행렬정렬"
   ]
  },
  {
   "cell_type": "code",
   "execution_count": 47,
   "metadata": {},
   "outputs": [
    {
     "name": "stdout",
     "output_type": "stream",
     "text": [
      "원본이 변형되지 않음\n",
      "원본 : [3 1 5 9]\n",
      "정렬 : [1 3 5 9]\n"
     ]
    }
   ],
   "source": [
    "# np.sort() 로 정렬하기\n",
    "origin_array = np.array([3, 1, 5, 9])\n",
    "sort_array = np.sort(origin_array)\n",
    "print('원본이 변형되지 않음')\n",
    "print('원본 :', origin_array)\n",
    "print('정렬 :', sort_array)"
   ]
  },
  {
   "cell_type": "code",
   "execution_count": 48,
   "metadata": {},
   "outputs": [
    {
     "name": "stdout",
     "output_type": "stream",
     "text": [
      "origin_array(원본행렬의) 의 index 번호가 출력됨\n",
      "[1 0 2 3]\n",
      "[3 1 5 9]\n",
      "\n",
      "[0 1 2 3]\n",
      "[1 0 2 3]\n",
      "\n",
      "None\n",
      "[1 0 2 3]\n"
     ]
    }
   ],
   "source": [
    "origin_array = np.array([3, 1, 5, 9])\n",
    "\n",
    "# ndarray.argsort() : 원본행렬을 정렬해서 원본요소의 index 를 출력함\n",
    "argsort_array = origin_array.argsort()\n",
    "print('origin_array(원본행렬의) 의 index 번호가 출력됨')\n",
    "print(argsort_array)\n",
    "print(origin_array)\n",
    "print()\n",
    "\n",
    "'''\n",
    "원본행렬 :\n",
    "  [3 1 5 9]\n",
    "sort_array(정렬된 행렬):\n",
    "  [1 3 5 9]\n",
    "argsort_array :\n",
    "  [1 0 2 3]\n",
    "'''\n",
    "\n",
    "sort_argort_array = np.sort(argsort_array)\n",
    "print(sort_argort_array)\n",
    "print(argsort_array)\n",
    "print()\n",
    "\n",
    "# ndarray 의 sort() 메소드\n",
    "# 원본 자체를 정렬하고 새로운 ndarray를 생성(반환)하지 않음\n",
    "sort_array2 = origin_array.sort()\n",
    "print(sort_array2)\n",
    "print(argsort_array)"
   ]
  },
  {
   "cell_type": "code",
   "execution_count": 49,
   "metadata": {},
   "outputs": [
    {
     "name": "stdout",
     "output_type": "stream",
     "text": [
      "정렬 전 원본 : [3 1 5 9]\n",
      "정렬 : [1 3 5 9]\n",
      "정렬 후 원본 : [3 1 5 9]\n"
     ]
    }
   ],
   "source": [
    "origin_array = np.array([3, 1, 5, 9])\n",
    "sort_array = np.sort(origin_array)\n",
    "\n",
    "print('정렬 전 원본 :', origin_array)\n",
    "print('정렬 :', sort_array)\n",
    "print('정렬 후 원본 :', origin_array)"
   ]
  },
  {
   "cell_type": "code",
   "execution_count": 50,
   "metadata": {},
   "outputs": [
    {
     "name": "stdout",
     "output_type": "stream",
     "text": [
      "정렬 전 원본 : [3 1 5 9]\n",
      "정렬 : [1 3 5 9]\n",
      "정렬 후 원본 : [3 1 5 9]\n"
     ]
    }
   ],
   "source": [
    "'''\n",
    "원본 :                  [3 1 5 9]\n",
    "원본의 index :           [0 1 2 3]\n",
    "정렬 :                  [1 3 5 9]\n",
    "정렬되기 전의 원본의 인덱스 : [1 0 2 3]\n",
    "sort_indexes :\n",
    " [1 0 2 3] <-- [1, 3, 5, 9] 정렬되기 전의 index가 정렬된 상태로 배치됨\n",
    "'''\n",
    "origin_array = np.array([3, 1, 5, 9])\n",
    "sort_indexes = np.argsort(origin_array)\n",
    "\n",
    "# 원본행렬의 요소들이 정렬되지는 않고 정렬된 원소들의 index 가 배치됨\n",
    "print('정렬 전 원본 :', origin_array)\n",
    "print('정렬 :', origin_array[sort_indexes])\n",
    "print('정렬 후 원본 :', origin_array)"
   ]
  },
  {
   "cell_type": "markdown",
   "metadata": {},
   "source": [
    "### slicing (step) [::-1] 을 활용해서 np.sort() 함수로 내림차순 정렬하기"
   ]
  },
  {
   "cell_type": "code",
   "execution_count": 51,
   "metadata": {},
   "outputs": [
    {
     "name": "stdout",
     "output_type": "stream",
     "text": [
      "원본행렬이 변형되지 않음\n",
      "[9 5 3 1]\n",
      "[3 1 5 9]\n"
     ]
    }
   ],
   "source": [
    "origin_array = np.array([3, 1, 5, 9])\n",
    "sort_array_descending = np.sort(origin_array)[::-1]\n",
    "print('원본행렬이 변형되지 않음')\n",
    "print(sort_array_descending)\n",
    "print(origin_array)"
   ]
  },
  {
   "cell_type": "code",
   "execution_count": 52,
   "metadata": {},
   "outputs": [
    {
     "name": "stdout",
     "output_type": "stream",
     "text": [
      "[9 5 3 1]\n",
      "[3 1 5 9]\n",
      "\n",
      "[3 2 0 1]\n",
      "[3 1 5 9]\n"
     ]
    }
   ],
   "source": [
    "# 원본 요소들을 내림차순으로 정렬하기 - [9 5 3 1]\n",
    "origin_array = np.array([3, 1, 5, 9])\n",
    "sort_array_descending = np.sort(origin_array)[::-1]\n",
    "print(sort_array_descending)\n",
    "print(origin_array)\n",
    "print()\n",
    "\n",
    "# 정렬된 상태의 요소들의 (정렬되기 전의) index 들이 배치됨\n",
    "sort_indexes_descending = np.argsort(origin_array)[::-1]\n",
    "print(sort_indexes_descending)\n",
    "print(origin_array)"
   ]
  },
  {
   "cell_type": "markdown",
   "metadata": {},
   "source": [
    "### 행(row) 방향으로 정렬하기 / 열(column) 방향으로 정렬하기"
   ]
  },
  {
   "cell_type": "code",
   "execution_count": 53,
   "metadata": {},
   "outputs": [
    {
     "name": "stdout",
     "output_type": "stream",
     "text": [
      "[[ 8 12]\n",
      " [ 7  1]]\n",
      "sum : 28\n",
      "\n",
      "-- axis=0 : 축이 행 - row 방향으로 정렬하기 -\n",
      "[[ 7  1]\n",
      " [ 8 12]]\n",
      "sum : [15 13]\n",
      "\n",
      "-- axis=1 : 축이 열 - column 방향으로 정렬하기 -\n",
      "[[ 8 12]\n",
      " [ 1  7]]\n",
      "sum : [20  8]\n",
      "\n"
     ]
    }
   ],
   "source": [
    "array2d = np.array([\n",
    "    [8, 12],\n",
    "    [7, 1]\n",
    "])\n",
    "\n",
    "print(array2d)\n",
    "print('sum :', array2d.sum())\n",
    "print()\n",
    "\n",
    "print('-- axis=0 : 축이 행 - row 방향으로 정렬하기 -')\n",
    "row_array2d = np.sort(array2d, axis=0)\n",
    "print(row_array2d)\n",
    "print('sum :', row_array2d.sum(axis=0))\n",
    "print()\n",
    "\n",
    "print('-- axis=1 : 축이 열 - column 방향으로 정렬하기 -')\n",
    "row_array2d = np.sort(array2d, axis=1)\n",
    "print(row_array2d)\n",
    "print('sum :', row_array2d.sum(axis=1))\n",
    "print()"
   ]
  },
  {
   "cell_type": "markdown",
   "metadata": {},
   "source": [
    "### key-value 형태의 data를 ndarray 로 생성하고 argsort()를 호출해서 key 값 정렬하기\n",
    "\n",
    "이순신=80, 강감찬=76, 안중근=92, 유관순=56, 장보고=70"
   ]
  },
  {
   "cell_type": "code",
   "execution_count": 54,
   "metadata": {},
   "outputs": [
    {
     "name": "stdout",
     "output_type": "stream",
     "text": [
      "['이순신' '강감찬' '안중근' '유관순' '장보고']\n",
      "[80 76 92 56 70]\n",
      "\n",
      "몸무게의 오름차순 순으로 이름 정렬하기\n",
      "몸무게의 오름차순 순으로 정렬된 이름 :\n",
      "['유관순' '장보고' '강감찬' '이순신' '안중근']\n",
      "\n",
      "몸무게의 오름차순 순으로 몸무게 정렬하기\n",
      "몸무게의 오름차순 순으로 정렬된 몸무게 :\n",
      "[56 70 76 80 92]\n"
     ]
    }
   ],
   "source": [
    "name_array = np.array(['이순신', '강감찬', '안중근', '유관순', '장보고'])\n",
    "weight_array = np.array([80, 76, 92, 56, 70])\n",
    "\n",
    "print(name_array)\n",
    "print(weight_array)\n",
    "print()\n",
    "\n",
    "# weight_array 의 정렬된 값에 해당하는 원본 행렬 위치 index 를 잔환하고\n",
    "# 이것을 사용해서 name_array 에서 name 값 추출하기\n",
    "sort_indexes_weight = np.argsort(weight_array)\n",
    "\n",
    "print('몸무게의 오름차순 순으로 이름 정렬하기')\n",
    "sort_name_by_weight = name_array[sort_indexes_weight]\n",
    "print('몸무게의 오름차순 순으로 정렬된 이름 :')\n",
    "print(sort_name_by_weight)\n",
    "print()\n",
    "\n",
    "print('몸무게의 오름차순 순으로 몸무게 정렬하기')\n",
    "sort_weight_by_weight = weight_array[sort_indexes_weight]\n",
    "print('몸무게의 오름차순 순으로 정렬된 몸무게 :')\n",
    "print(sort_weight_by_weight)"
   ]
  },
  {
   "cell_type": "markdown",
   "metadata": {},
   "source": [
    "### 행렬의 내적(합)과 전치행렬\n",
    "\n",
    "* 행렬의 내적(합)"
   ]
  },
  {
   "cell_type": "code",
   "execution_count": 55,
   "metadata": {},
   "outputs": [
    {
     "name": "stdout",
     "output_type": "stream",
     "text": [
      "[[1 2 3]\n",
      " [4 5 6]]\n",
      "\n",
      "[[ 7  8]\n",
      " [ 9 10]\n",
      " [11 12]]\n"
     ]
    }
   ],
   "source": [
    "A = np.array([\n",
    "    [1, 2, 3],\n",
    "    [4, 5, 6]\n",
    "])\n",
    "B = np.array([\n",
    "    [7, 8],\n",
    "    [9, 10],\n",
    "    [11, 12]\n",
    "])\n",
    "\n",
    "print(A)\n",
    "print()\n",
    "\n",
    "print(B)"
   ]
  },
  {
   "cell_type": "code",
   "execution_count": 56,
   "metadata": {},
   "outputs": [
    {
     "name": "stdout",
     "output_type": "stream",
     "text": [
      "[[ 58  64]\n",
      " [139 154]]\n"
     ]
    }
   ],
   "source": [
    "'''\n",
    "행렬의 내적(합) : np.dot() 함수 사용\n",
    "\n",
    "[1 2 3] [7 8]\n",
    "[4 5 6] [9 10]\n",
    "        [11 12]\n",
    "'''\n",
    "product_array = np.dot(A, B)\n",
    "print(product_array)"
   ]
  },
  {
   "cell_type": "code",
   "execution_count": 57,
   "metadata": {},
   "outputs": [
    {
     "name": "stdout",
     "output_type": "stream",
     "text": [
      "[[2 5 1]\n",
      " [3 0 1]]\n",
      "\n"
     ]
    }
   ],
   "source": [
    "'''\n",
    "전치 행렬 : np.transpose() 함수 사용\n",
    "\n",
    "[2 3]\n",
    "[5 0] [2 5 1]\n",
    "[1 1] [3 0 1]\n",
    "\n",
    "[1 2 3] [1 4 7]\n",
    "[4 5 6] [2 5 8]\n",
    "[7 8 9] [3 6 9]\n",
    "\n",
    "[1 2] [1 3 5]\n",
    "[3 4] [2 4 6]\n",
    "[5 6]\n",
    "'''\n",
    "C = np.array([\n",
    "    [2, 3],\n",
    "    [5, 0],\n",
    "    [1, 1]\n",
    "])\n",
    "transpose_matrix1 = np.transpose(C)\n",
    "print(transpose_matrix1)\n",
    "print()"
   ]
  },
  {
   "cell_type": "code",
   "execution_count": 58,
   "metadata": {},
   "outputs": [
    {
     "name": "stdout",
     "output_type": "stream",
     "text": [
      "[[1 4 7]\n",
      " [2 5 8]\n",
      " [3 6 9]]\n",
      "\n"
     ]
    }
   ],
   "source": [
    "D = np.array([\n",
    "    [1, 2, 3],\n",
    "    [4, 5, 6],\n",
    "    [7, 8, 9]\n",
    "])\n",
    "product_array = np.transpose(D)\n",
    "print(product_array)\n",
    "print()"
   ]
  },
  {
   "cell_type": "code",
   "execution_count": 59,
   "metadata": {},
   "outputs": [
    {
     "name": "stdout",
     "output_type": "stream",
     "text": [
      "[[1 3 5]\n",
      " [2 4 6]]\n"
     ]
    }
   ],
   "source": [
    "E = np.array([\n",
    "    [1, 2],\n",
    "    [3, 4],\n",
    "    [5, 6]\n",
    "])\n",
    "product_array = np.transpose(E)\n",
    "print(product_array)"
   ]
  }
 ],
 "metadata": {
  "interpreter": {
   "hash": "949c5d161ae06a9191be236957b0dfe2172f0f0097fbf05f4df159099ee18a3c"
  },
  "kernelspec": {
   "display_name": "Python 3.8.5 64-bit ('tjoeun')",
   "language": "python",
   "name": "python3"
  },
  "language_info": {
   "codemirror_mode": {
    "name": "ipython",
    "version": 3
   },
   "file_extension": ".py",
   "mimetype": "text/x-python",
   "name": "python",
   "nbconvert_exporter": "python",
   "pygments_lexer": "ipython3",
   "version": "3.8.5"
  },
  "orig_nbformat": 4
 },
 "nbformat": 4,
 "nbformat_minor": 2
}
