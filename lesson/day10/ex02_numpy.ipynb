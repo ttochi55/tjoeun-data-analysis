{
 "cells": [
  {
   "cell_type": "markdown",
   "id": "2a39d048",
   "metadata": {},
   "source": [
    "### Numpy ndarray\n",
    "* 기본 python 에서는 배열이 없음\n",
    "* numpy 의 ndarray 를 사용함\n",
    "* ndarray 생성하기 : numpy 이 array() 함수를 사용해서 생성함"
   ]
  },
  {
   "cell_type": "code",
   "execution_count": null,
   "id": "20b84d8c",
   "metadata": {},
   "outputs": [],
   "source": [
    "import numpy as np"
   ]
  },
  {
   "cell_type": "code",
   "execution_count": null,
   "id": "c5a8a613",
   "metadata": {},
   "outputs": [],
   "source": [
    "list1 = [1, 2, 3]\n",
    "print(\"list1 :\",list1)\n",
    "print(\"list1 :\",type(list1))"
   ]
  },
  {
   "cell_type": "code",
   "execution_count": null,
   "id": "96a16ad0",
   "metadata": {},
   "outputs": [],
   "source": [
    "array1 = np.array(list1)\n",
    "print(\"array1 :\",array1)\n",
    "print(\"array1 :\",type(array1))"
   ]
  },
  {
   "cell_type": "markdown",
   "id": "23fa3143",
   "metadata": {},
   "source": [
    "### ndarray 의 shape 와 차원"
   ]
  },
  {
   "cell_type": "code",
   "execution_count": null,
   "id": "3b6ac691",
   "metadata": {},
   "outputs": [],
   "source": [
    "array1 = np.array([1, 2, 3])\n",
    "print(\"array1 :\",array1)\n",
    "print(\"array1 :\",type(array1))\n",
    "print(\"array1 :\",array1.shape)"
   ]
  },
  {
   "cell_type": "code",
   "execution_count": null,
   "id": "3dd9f7c3",
   "metadata": {},
   "outputs": [],
   "source": [
    "array2 = np.array([\n",
    "                    [1, 2, 3], \n",
    "                    [4, 5, 6],\n",
    "                    [7, 8, 9],\n",
    "                    [10, 11, 12]\n",
    "                  ])\n",
    "print(\"array2 :\",array2)\n",
    "print(\"array2 :\",type(array2))\n",
    "print(\"array2 :\",array2.shape)"
   ]
  },
  {
   "cell_type": "code",
   "execution_count": null,
   "id": "26e78622",
   "metadata": {},
   "outputs": [],
   "source": [
    "array3 = np.array([\n",
    "                    [1, 2, 3]                   \n",
    "                  ])\n",
    "print(\"array3 :\",array3)\n",
    "print(\"array3 :\",type(array3))\n",
    "print(\"array3 :\",array3.shape)"
   ]
  },
  {
   "cell_type": "markdown",
   "id": "b0c5f4ed",
   "metadata": {},
   "source": [
    "### ndarray 의 ndim 속성 : 몇 차원인지 알려줌"
   ]
  },
  {
   "cell_type": "code",
   "execution_count": null,
   "id": "1ae882ad",
   "metadata": {},
   "outputs": [],
   "source": [
    "print(f\"array1 : {array1.ndim} 차원\\n\"\n",
    "      f\"array2 : {array2.ndim} 차원\\n\"\n",
    "      f\"array3 : {array3.ndim} 차원\\n\")"
   ]
  },
  {
   "cell_type": "markdown",
   "id": "2ec51759",
   "metadata": {},
   "source": [
    "### dtype : 배열 속에 들어있는 data 의 type을 알려줌"
   ]
  },
  {
   "cell_type": "code",
   "execution_count": null,
   "id": "07c4b349",
   "metadata": {},
   "outputs": [],
   "source": [
    "array1 = np.array([1, 2, 3])\n",
    "array2 = np.array([1, 2, \"3\"])\n",
    "array3 = np.array([1, 2, 3.0])\n",
    "print(\"array1의 dtype :\",array1.dtype)\n",
    "# <U11 : 문자열을 의미함\n",
    "print(\"array2의 dtype :\",array2.dtype)\n",
    "print(\"array3의 dtype :\",array3.dtype)"
   ]
  },
  {
   "cell_type": "markdown",
   "id": "165b10e9",
   "metadata": {},
   "source": [
    "### astype() : dtype을 변환함"
   ]
  },
  {
   "cell_type": "code",
   "execution_count": null,
   "id": "530370a2",
   "metadata": {},
   "outputs": [],
   "source": [
    "array_int = np.array([1, 2, 3])\n",
    "print(\"array_int dtype :\",array_int.dtype)\n",
    "array_float = array_int.astype(\"float64\")\n",
    "print(\"array_float dtype :\",array_float.dtype)\n",
    "print(\"-\" * 50)\n",
    "array_int2 = array_float.astype(\"int32\")\n",
    "print(\"array_int2 dtype :\",array_int2.dtype)\n",
    "\n",
    "array_float2 = np.array([1., 2., 3.])\n",
    "array_float2 = np.array([1.0, 2.0, 3.0])\n",
    "print(\"array_float2       :\",array_float2)\n",
    "print(\"array_float2 dtype :\",array_float2.dtype)\n",
    "array_int3 = array_float2.astype(\"int32\")\n",
    "print(\"array_int3       :\",array_int3)\n",
    "print(\"array_int3 dtype :\",array_int3.dtype)"
   ]
  },
  {
   "cell_type": "markdown",
   "id": "ac5545d7",
   "metadata": {},
   "source": [
    "### ndarray 연산 : axis 기반\n",
    "* axis=0 : 축이 행 - 열끼리 연산함\n",
    "* axis=1 : 축이 열 - 행 안에 있는 요소들끼리 연산함"
   ]
  },
  {
   "cell_type": "code",
   "execution_count": null,
   "id": "43c7285a",
   "metadata": {},
   "outputs": [],
   "source": [
    "array2 = np.array([\n",
    "                   [1, 2, 3],\n",
    "                   [4, 5, 6]\n",
    "                 ])\n",
    "\n",
    "print(\"array2.sum() ;\",array2.sum())\n",
    "print(\"array2.sum(axis=0) ;\",array2.sum(axis=0))\n",
    "print(\"array2.sum(axis=1) ;\",array2.sum(axis=1))"
   ]
  },
  {
   "cell_type": "markdown",
   "id": "d06708f4",
   "metadata": {},
   "source": [
    "### ndarray : arange, zeros, ones"
   ]
  },
  {
   "cell_type": "code",
   "execution_count": null,
   "id": "73143c8f",
   "metadata": {},
   "outputs": [],
   "source": [
    "squence_array = np.arange(10)\n",
    "print(\"squence_array :\",squence_array)\n",
    "print(\"squence_array :\",type(squence_array))\n",
    "print(\"squence_array.dtype :\",squence_array.dtype)"
   ]
  },
  {
   "cell_type": "code",
   "execution_count": null,
   "id": "66782f5e",
   "metadata": {},
   "outputs": [],
   "source": [
    "zero_array = np.zeros((3, 2), dtype=\"int32\")\n",
    "print(\"zero_array :\",zero_array)\n",
    "print(\"zero_array :\",type(zero_array))\n",
    "print(\"zero_array.dtype :\",zero_array.dtype)"
   ]
  },
  {
   "cell_type": "code",
   "execution_count": null,
   "id": "cb3aced8",
   "metadata": {},
   "outputs": [],
   "source": [
    "one_array = np.ones((3, 2), dtype=\"int32\")\n",
    "print(\"one_array :\",one_array)\n",
    "print(\"one_array :\",type(one_array))\n",
    "print(\"one_array.dtype :\",one_array.dtype)"
   ]
  },
  {
   "cell_type": "markdown",
   "id": "31fda7e7",
   "metadata": {},
   "source": [
    "### ndarray 의  shape 변형하기 :  reshape()"
   ]
  },
  {
   "cell_type": "code",
   "execution_count": null,
   "id": "d29a5c63",
   "metadata": {},
   "outputs": [],
   "source": [
    "array1 = np.arange(10)\n",
    "print(\"array1 :\\n\",array1)\n",
    "array2 = array1.reshape(2, 5)\n",
    "print(\"array2 :\\n\",array2)\n",
    "array3 = array1.reshape(5, 2)\n",
    "print(\"array3 :\\n\",array3)\n",
    "\n",
    "# 행과 열의 크기를 data 개수에 맞게 지정해야 함\n",
    "# ValueError: cannot reshape array of size 10 into shape (3,3)\n",
    "# array4 = array1.reshape(3, 3)\n",
    "# print(\"array4 :\\n\",array4)"
   ]
  },
  {
   "cell_type": "markdown",
   "id": "0420cb3f",
   "metadata": {},
   "source": [
    "### reshape() 메소드에 -1 을 넣어서 변환하기\n",
    "* 행의 크기를 고정하고 열의 크기는 자동으로 결정되게 하기\n",
    "* 열의 크기를 고정하고 행의 크기는 자동으로 결정되게 하기"
   ]
  },
  {
   "cell_type": "code",
   "execution_count": null,
   "id": "17a13952",
   "metadata": {},
   "outputs": [],
   "source": [
    "array1 = np.arange(10)\n",
    "print(\"array1 :\\n\",array1)"
   ]
  },
  {
   "cell_type": "code",
   "execution_count": null,
   "id": "178908a9",
   "metadata": {},
   "outputs": [],
   "source": [
    "# 열의 크기를 5로 고정하고 행의 크기는 이에 맞추어서 결정됨\n",
    "array2 = array1.reshape(-1, 5)\n",
    "print(\"array2 :\",array2.shape)\n",
    "print(\"array2 :\\n\",array2)"
   ]
  },
  {
   "cell_type": "code",
   "execution_count": null,
   "id": "6a999c26",
   "metadata": {},
   "outputs": [],
   "source": [
    "# 행의 크기를 5로 고정하고 열의 크기는 이에 맞추어서 결정됨\n",
    "array3 = array1.reshape(5, -1)\n",
    "print(\"array3 :\",array3.shape)\n",
    "print(\"array3 :\\n\",array3)"
   ]
  },
  {
   "cell_type": "code",
   "execution_count": null,
   "id": "bc1e9f7b",
   "metadata": {},
   "outputs": [],
   "source": [
    "array1 = np.arange(5)\n",
    "print(\"array1 :\",array1.shape)\n",
    "print(\"array1 :\\n\",array1)\n",
    "print(\"-\" * 40)\n",
    "\n",
    "# 1차원 ndarray -> 2차원 ndarray\n",
    "# 열 axis 의 크기는 1로 함\n",
    "array2d = array1.reshape(-1, 1)\n",
    "print(\"array2d :\",array2d.shape)\n",
    "print(\"array2d :\\n\",array2d)\n",
    "print(\"-\" * 40)\n",
    "\n",
    "# 2차원 ndarray -> 1차원 ndarray\n",
    "array1d = array2d.reshape(-1,)\n",
    "print(\"array1d :\",array1d.shape)\n",
    "print(\"array1d :\\n\",array1d)"
   ]
  },
  {
   "cell_type": "code",
   "execution_count": null,
   "id": "1053b069",
   "metadata": {},
   "outputs": [],
   "source": [
    "# reshape()에 -1 은 열에 지정하든지, 행에 지정하든지 \n",
    "# 한 군데에만 지정할 수 있음\n",
    "# ValueError: can only specify one unknown dimension\n",
    "# array1.reshape(-1, -1)"
   ]
  },
  {
   "cell_type": "markdown",
   "id": "0da64e94",
   "metadata": {},
   "source": [
    "### ndarray 에서 data set 선택하기 : indexing\n",
    "* 특정 위치에 있는 값 추출하기"
   ]
  },
  {
   "cell_type": "code",
   "execution_count": null,
   "id": "29ecbca6",
   "metadata": {},
   "outputs": [],
   "source": [
    "array1 = np.arange(1, 10)\n",
    "print(\"array1 :\",array1.shape)\n",
    "print(\"array1 :\\n\",array1)\n",
    "print(\"-\" * 40)\n",
    "\n",
    "value = array1[2]\n",
    "print(\"value :\",value)\n",
    "print(\"value :\",type(value))\n",
    "print(\"-\" * 40)\n",
    "\n",
    "value = array1[-1]\n",
    "print(\"value :\",value)\n",
    "print(\"value :\",type(value))\n",
    "print(\"-\" * 40)\n",
    "\n",
    "value = array1[-2]\n",
    "print(\"value :\",value)\n",
    "print(\"value :\",type(value))\n",
    "print(\"-\" * 40)\n",
    "\n",
    "array1[8] = 0\n",
    "array1[0] = 9\n",
    "print(\"array1 :\",array1.shape)\n",
    "print(\"array1 :\\n\",array1)\n",
    "print(\"-\" * 40)"
   ]
  },
  {
   "cell_type": "code",
   "execution_count": null,
   "id": "d60778b0",
   "metadata": {},
   "outputs": [],
   "source": [
    "array1d = np.arange(1, 10)\n",
    "array2d = array1d.reshape(3, 3)\n",
    "print(\"array2d :\",array2d.shape)\n",
    "print(\"array2d :\\n\",array2d)\n",
    "print(\"-\" * 40)\n",
    "\n",
    "print(\"array2d[0,0] :\",array2d[0,0])\n",
    "print(\"array2d[0,1] :\",array2d[0,1])\n",
    "print(\"array2d[1,0] :\",array2d[1,0])\n",
    "print(\"array2d[2,2] :\",array2d[2,2])"
   ]
  },
  {
   "cell_type": "markdown",
   "id": "4de8c70e",
   "metadata": {},
   "source": [
    "### Slicing"
   ]
  },
  {
   "cell_type": "code",
   "execution_count": null,
   "id": "44b3cc29",
   "metadata": {},
   "outputs": [],
   "source": [
    "array1 = np.arange(1, 10)\n",
    "print(\"array1 :\",array1.shape)\n",
    "print(\"array1 :\\n\",type(array1))\n",
    "print(\"array1 :\\n\",array1)\n",
    "print(\"-\" * 40)\n",
    "\n",
    "array2 = array1[0:3]\n",
    "print(\"array2 :\",array2.shape)\n",
    "print(\"array2 :\\n\",type(array2))\n",
    "print(\"array2 :\\n\",array2)\n",
    "print(\"-\" * 40)\n",
    "\n",
    "array3 = array1[:3]\n",
    "print(\"array3 :\",array3.shape)\n",
    "print(\"array3 :\\n\",type(array3))\n",
    "print(\"array3 :\\n\",array3)\n",
    "print(\"-\" * 40)\n",
    "\n",
    "array4 = array1[3:]\n",
    "print(\"array4 :\",array4.shape)\n",
    "print(\"array4 :\\n\",type(array4))\n",
    "print(\"array4 :\\n\",array4)\n",
    "print(\"-\" * 40)\n",
    "\n",
    "array5 = array1[:]\n",
    "print(\"array5 :\",array5.shape)\n",
    "print(\"array5 :\\n\",type(array5))\n",
    "print(\"array5 :\\n\",array5)\n",
    "print(\"-\" * 40)"
   ]
  },
  {
   "cell_type": "code",
   "execution_count": null,
   "id": "03b989d2",
   "metadata": {},
   "outputs": [],
   "source": [
    "array1d = np.arange(1, 10)\n",
    "array2d = array1d.reshape(3, 3)\n",
    "print(\"array2d :\",array2d.shape)\n",
    "print(\"array2d :\\n\",type(array2d))\n",
    "print(\"array2d :\\n\",array2d)\n",
    "print(\"=\" * 40)\n",
    "\n",
    "# 1, 2 행 X 1, 2 열\n",
    "print(\"array2d[0:2, 0:2] :\\n\",array2d[0:2, 0:2])\n",
    "print(\"-\" * 40)\n",
    "# 1, 2 행 X 1, 2, 3 열\n",
    "print(\"array2d[1:3, 0:3] :\\n\",array2d[1:3, 0:3])\n",
    "print(\"-\" * 40)\n",
    "# 1, 2 행 X 1, 2, 3 열 : 시작과 끝을 생략하면 처음부터 끝까지\n",
    "print(\"array2d[1:3, :] :\\n\",array2d[1:3, :])\n",
    "print(\"array2d[1:3, 0:3] :\\n\",array2d[1:3, 0:3])\n",
    "print(\"-\" * 40)\n",
    "# 1, 2, 3 행 X 1, 2, 3 열 : 시작과 끝을 생략하면 처음부터 끝까지\n",
    "print(\"array2d[:, :] :\\n\",array2d[:, :])\n",
    "print(\"array2d[0:3, 0:3] :\\n\",array2d[0:3, 0:3])\n",
    "print(\"-\" * 40)\n",
    "# 1, 2 행 X 2, 3 열\n",
    "print(\"array2d[:2, 1:] :\\n\",array2d[:2, 1:])\n",
    "print(\"array2d[0:2, 1:3] :\\n\",array2d[:2, 1:])\n",
    "print(\"-\" * 40)\n",
    "# 1, 2 행 X 1 열\n",
    "print(\"array2d[:2, 0] :\\n\",array2d[:2, 0])\n",
    "print(\"array2d[0:2, 0] :\\n\",array2d[0:2, 0])\n",
    "print(\"-\" * 40)"
   ]
  },
  {
   "cell_type": "code",
   "execution_count": null,
   "id": "1119247d",
   "metadata": {},
   "outputs": [],
   "source": [
    "import numpy as np\n",
    "array1d = np.arange(1, 10)\n",
    "array2d = array1d.reshape(3, 3)\n",
    "# array2d = nd.array([[1,2,3],[4,5,6],[7,8,9]])\n",
    "print(\"array2d :\",array2d.shape)\n",
    "print(\"array2d :\\n\",type(array2d))\n",
    "print(\"array2d :\\n\",array2d)\n",
    "print(\"-\" * 40)"
   ]
  },
  {
   "cell_type": "code",
   "execution_count": null,
   "id": "518ce157",
   "metadata": {},
   "outputs": [],
   "source": [
    "# 1 행 2 열 : [0,1]\n",
    "print(array2d[0,1])"
   ]
  },
  {
   "cell_type": "code",
   "execution_count": null,
   "id": "151e835e",
   "metadata": {},
   "outputs": [],
   "source": [
    "# 2열\n",
    "print(array2d[:,1])"
   ]
  },
  {
   "cell_type": "code",
   "execution_count": null,
   "id": "6df7ce8e",
   "metadata": {},
   "outputs": [],
   "source": [
    "print(array2d[2:,1])"
   ]
  },
  {
   "cell_type": "code",
   "execution_count": null,
   "id": "c0a7beec",
   "metadata": {},
   "outputs": [],
   "source": [
    "# 두 번째 열의 첫 번째 부터 두 번째까지\n",
    "print(array2d[:2,1])"
   ]
  },
  {
   "cell_type": "code",
   "execution_count": null,
   "id": "3d2775f3",
   "metadata": {},
   "outputs": [],
   "source": [
    "# 세 번째 행에서 첫 번째 세 번째 요소\n",
    "print(array2d[2, [0,2]])"
   ]
  },
  {
   "cell_type": "code",
   "execution_count": null,
   "id": "b2257d83",
   "metadata": {},
   "outputs": [],
   "source": [
    "print(array2d > 3)"
   ]
  },
  {
   "cell_type": "code",
   "execution_count": null,
   "id": "e256e363",
   "metadata": {},
   "outputs": [],
   "source": [
    "print(array2d[array2d > 3])"
   ]
  },
  {
   "cell_type": "code",
   "execution_count": null,
   "id": "b816781e",
   "metadata": {},
   "outputs": [],
   "source": [
    "array2d[1,1] = 555\n",
    "print(\"array2d :\\n\",array2d)"
   ]
  },
  {
   "cell_type": "code",
   "execution_count": null,
   "id": "d74d0ec3",
   "metadata": {},
   "outputs": [],
   "source": [
    "# 속도가 빠름\n",
    "print(\"array2d[1,1] :\",array2d[1,1])\n",
    "# 속도가 느림\n",
    "print(\"array2d[1][1] :\",array2d[1][1])"
   ]
  },
  {
   "cell_type": "code",
   "execution_count": null,
   "id": "5804059a",
   "metadata": {},
   "outputs": [],
   "source": [
    "print(\"array2d[2, 1:3] :\",array2d[2, 1:3])"
   ]
  },
  {
   "cell_type": "code",
   "execution_count": null,
   "id": "ade68c3f",
   "metadata": {},
   "outputs": [],
   "source": [
    "print(\"array2d[:2, 1:3] :\",array2d[2, 1:3])"
   ]
  },
  {
   "cell_type": "markdown",
   "id": "e83c3093",
   "metadata": {},
   "source": [
    "### tolist() : ndarray 를 list 로 변환함\n",
    "*  array2d[[0,1],2] : fancy indexing"
   ]
  },
  {
   "cell_type": "code",
   "execution_count": null,
   "id": "c62ef4fb",
   "metadata": {},
   "outputs": [],
   "source": [
    "array1d = np.arange(1, 10)\n",
    "array2d = array1d.reshape(3, 3)\n",
    "print(\"array2d :\\n\",array2d)\n",
    "\n",
    "array3 = array2d[[0,1],2]\n",
    "print(\"array2d[[0,1],2] :\\n\",array2d[[0,1],2])\n",
    "print(\"array3 :\\n\",array3)\n",
    "list_array3 = array3.tolist()\n",
    "print(\"list_array3 :\",list_array3)\n",
    "print(\"list_array3 :\",type(list_array3))\n",
    "\n",
    "array4 = array2d[[0,2], 0:2]\n",
    "print(\"array2d[[0,2], 0:2] :\\n\",array2d[[0,2], 0:2])\n",
    "print(\"array4 :\\n\",array4)\n",
    "print(\"array4.tolist() :\\n\",array4.tolist())\n",
    "\n",
    "array5 = array2d[[0,1]]\n",
    "print(\"array2d[[0,1]] :\\n\",array2d[[0,1]])\n",
    "print(\"array5 :\\n\",array5)\n",
    "print(\"array5.tolist() :\\n\",array5.tolist())"
   ]
  },
  {
   "cell_type": "markdown",
   "id": "434a5b8d",
   "metadata": {},
   "source": [
    "### Boolean Indexing"
   ]
  },
  {
   "cell_type": "code",
   "execution_count": null,
   "id": "b881f8e3",
   "metadata": {},
   "outputs": [],
   "source": [
    "array1d = np.arange(1, 10)\n",
    "print(\"array1d :\\n\",array1d)"
   ]
  },
  {
   "cell_type": "code",
   "execution_count": null,
   "id": "7f2f07cb",
   "metadata": {},
   "outputs": [],
   "source": [
    "print(array1d > 5)"
   ]
  },
  {
   "cell_type": "code",
   "execution_count": null,
   "id": "3770a1ed",
   "metadata": {},
   "outputs": [],
   "source": [
    "result = array1d > 5\n",
    "print(\"result :\\n\",result)\n",
    "print(\"result :\\n\",type(result))"
   ]
  },
  {
   "cell_type": "code",
   "execution_count": null,
   "id": "41709653",
   "metadata": {},
   "outputs": [],
   "source": [
    "print(\"array1d[array1d > 5] :\\n\",array1d[array1d > 5])"
   ]
  },
  {
   "cell_type": "code",
   "execution_count": null,
   "id": "4aa7d84e",
   "metadata": {},
   "outputs": [],
   "source": [
    "boolean_indexes = np.array([False, False, False, False, False, True, True, True, True])\n",
    "print(\"array1d[boolean_indexes] :\\n\",array1d[boolean_indexes])"
   ]
  },
  {
   "cell_type": "code",
   "execution_count": null,
   "id": "de437aa9",
   "metadata": {},
   "outputs": [],
   "source": [
    "# array1d 의 inde 로 이루어진 list 생성하기\n",
    "#  ㄴ 이것을 ndarray 로 변환하기 (np.array())\n",
    "array_indexes = np.array([5, 6, 7, 8])\n",
    "print(\"array1d[array_indexes] :\\n\",array1d[array_indexes])\n",
    "\n",
    "array_indexes2 = np.array([3, 4, 5, 6])\n",
    "print(\"array1d[array_indexes2] :\\n\",array1d[array_indexes2])"
   ]
  },
  {
   "cell_type": "code",
   "execution_count": null,
   "id": "a1aa34e6",
   "metadata": {},
   "outputs": [],
   "source": [
    "array1d = np.arange(1, 10)\n",
    "print(\"array1d :\\n\",array1d)\n",
    "\n",
    "list_boolean_filtering = []\n",
    "\n",
    "for i in range(0, 9):\n",
    "    # 6, 7, 8, 9\n",
    "    if array1d[i] > 5:\n",
    "        list_boolean_filtering.append(array1d[i])\n",
    "print(\"list_boolean_filtering :\\n\",list_boolean_filtering)        \n",
    "\n",
    "array_boolean_filtering = np.array(list_boolean_filtering)\n",
    "print(\"array_boolean_filtering :\\n\",array_boolean_filtering)"
   ]
  },
  {
   "cell_type": "markdown",
   "id": "a9e4224d",
   "metadata": {},
   "source": [
    "### np.sort() 함수 / ndarray.sort() 메소드 / ndarray.argsort() 메소드\n",
    "* 행렬 정렬"
   ]
  },
  {
   "cell_type": "code",
   "execution_count": null,
   "id": "56f261f7",
   "metadata": {},
   "outputs": [],
   "source": [
    "origin_array = np.array([3, 1, 5, 9])\n",
    "print(\"원본행렬 :\\n\",origin_array)\n",
    "print(\"원본행렬 타입 :\\n\",type(origin_array))"
   ]
  },
  {
   "cell_type": "code",
   "execution_count": null,
   "id": "115eea4c",
   "metadata": {},
   "outputs": [],
   "source": [
    "# np.sort() 로 정렬하기 - 원본이 변형되지 않음\n",
    "# 기본 python의 sorted() 함수가 정렬된 새로운 list를 반환한는 것 처럼 \n",
    "# np.sort() 함수는 정렬된 새로운 ndarray를 반환함\n",
    "sort_array = np.sort(origin_array)\n",
    "print(\"sort_array :\\n\",sort_array)\n",
    "print(\"npl.sort() : 원본이 변형되지 않음\")\n",
    "print(\"원본행렬 :\\n\",origin_array)"
   ]
  },
  {
   "cell_type": "code",
   "execution_count": null,
   "id": "67b2a714",
   "metadata": {},
   "outputs": [],
   "source": [
    "# ndarray.argsort() : 원본행렬을 정렬해서 원본요소의 index 를 배치함\n",
    "#                     원본 행렬의 index를 정렬된 상태에서 배치함\n",
    "argsort_array = origin_array.argsort()\n",
    "print(\"origin_array(원본행렬)의 index 번호가 출력됨\")\n",
    "print(\"argsort_array :\\n\",argsort_array)\n",
    "print(\"-\" * 40)\n",
    "'''\n",
    "원본행렬 :\n",
    " [3 1 5 9]\n",
    "sort_array(정렬된 행렬) :\n",
    " [1 3 5 9]\n",
    "argsort_array(원본 행렬의 index를 정렬된 상태에서 출력함) :\n",
    " [1 0 2 3]\n",
    "'''\n",
    "\n",
    "# ndarray 의 sort() 메소드\n",
    "# 원본자체를 정렬하고 새로운 ndarray를 생성(반환)하지 않음\n",
    "sort_array2 = origin_array.sort()\n",
    "print(\"sort_array2 :\\n\",sort_array2)\n",
    "print(\"원본행렬이 정렬됨\")\n",
    "print(\"origin_array :\\n\",origin_array)"
   ]
  },
  {
   "cell_type": "code",
   "execution_count": null,
   "id": "6bcbfbc3",
   "metadata": {},
   "outputs": [],
   "source": [
    "origin_array = np.array([3, 1, 5, 9])\n",
    "print(\"원본행렬(정렬 전) :\\n\",origin_array)\n",
    "print(\"원본행렬 타입 :\\n\",type(origin_array))"
   ]
  },
  {
   "cell_type": "code",
   "execution_count": null,
   "id": "f377ce6a",
   "metadata": {
    "scrolled": true
   },
   "outputs": [],
   "source": [
    "sort_array = np.sort(origin_array)\n",
    "print(\"sort_array :\\n\",sort_array)"
   ]
  },
  {
   "cell_type": "code",
   "execution_count": null,
   "id": "8f7ac5a2",
   "metadata": {},
   "outputs": [],
   "source": [
    "print(\"원본행렬(np.sort()로 정렬 후) - 변함없음 :\\n\",origin_array)"
   ]
  },
  {
   "cell_type": "code",
   "execution_count": null,
   "id": "2742f847",
   "metadata": {},
   "outputs": [],
   "source": [
    "sort_indexes = np.argsort(origin_array)\n",
    "print(\"원본행렬(np.argsort() 실행 후) - 변함없음 :\\n\",origin_array)\n",
    "print(\"원본행렬의 요소들이 정렬되지는 않고 정렬된 원소들의 index가 배치됨\")\n",
    "print(\"sort_indexes :\\n\",sort_indexes)\n",
    "'''\n",
    "원본                       : [3 1 5 9]\n",
    "원본의 index               : [0 1 2 3]\n",
    "정렬                       : [1 3 5 9]\n",
    "정렬되기 전의 원본의 index : [1 0 2 3]\n",
    "sort_indexes :\n",
    " [1 0 2 3]    <-- [1, 3, 5, 9] 정렬되기 전의 index가 정렬된 상태로 배치됨\n",
    "'''"
   ]
  },
  {
   "cell_type": "markdown",
   "id": "fb9ae295",
   "metadata": {},
   "source": [
    "### slicing (step) [::-1] 을 활용해서 np.sort() 함수로 내림차순정렬하기"
   ]
  },
  {
   "cell_type": "code",
   "execution_count": null,
   "id": "781b1bc5",
   "metadata": {},
   "outputs": [],
   "source": [
    "origin_array = np.array([3, 1, 5, 9])\n",
    "print(\"origin_array :\\n\",origin_array)\n",
    "\n",
    "sort_array_descending = np.sort(origin_array)[::-1]\n",
    "print(\"내림차순 정렬 :\\n\",sort_array_descending)\n",
    "print(\"원본행렬이 변형되지 않음\")\n",
    "print(\"origin_array :\\n\",origin_array)"
   ]
  },
  {
   "cell_type": "code",
   "execution_count": null,
   "id": "d6eedda7",
   "metadata": {},
   "outputs": [],
   "source": [
    "# 원본 요소들을 내림차순 정렬하기 - [9 5 3 1]\n",
    "sort_array_descending = np.sort(origin_array)[::-1]\n",
    "print(\"sort_array_descending :\\n\",sort_array_descending)\n",
    "\n",
    "# 정렬된 상태의 요소들의 (정렬되기 전의) index 들이 배치됨\n",
    "sort_indexes_descending = np.argsort(origin_array)[::-1]\n",
    "print(\"sort_indexes_descending :\\n\",sort_indexes_descending)\n",
    "\n",
    "print(\"원본행렬이 변형되지 않음\")\n",
    "print(\"origin_array :\\n\",origin_array)"
   ]
  },
  {
   "cell_type": "markdown",
   "id": "abfc6601",
   "metadata": {},
   "source": [
    "### 행(row)방향으로 정렬하기 / 열(column)방향으로 정렬하기"
   ]
  },
  {
   "cell_type": "code",
   "execution_count": null,
   "id": "44b52e8e",
   "metadata": {},
   "outputs": [],
   "source": [
    "array2d = np.array([\n",
    "                    [8, 12],\n",
    "                    [7, 1]\n",
    "                  ])\n",
    "print(\"array2d :\",array2d.shape)\n",
    "print(\"array2d :\\n\",type(array2d))\n",
    "print(\"array2d :\\n\",array2d)\n",
    "print()\n",
    "print(\"-- axis=0 : 축이 행 -  row 방향으로 정렬하기 --\")\n",
    "row_array2d = np.sort(array2d, axis=0)\n",
    "print(\"row_array2d :\\n\",row_array2d)\n",
    "print()\n",
    "print(\"-- axis=1 : 축이 열 - column 방향으로 정렬하기 --\")\n",
    "col_array2d = np.sort(array2d, axis=1)\n",
    "print(\"col_array2d :\\n\",col_array2d)"
   ]
  },
  {
   "cell_type": "markdown",
   "id": "c2ce8602",
   "metadata": {},
   "source": [
    "### key-value 형태의 data를 이순신=80, 강감찬=76, 안중근=92, 유관순=56, <br>장보고=70 을 ndarray 로 생성하고 argsort()를 호출해서 key값 정렬하기"
   ]
  },
  {
   "cell_type": "code",
   "execution_count": 81,
   "id": "05fea0c8",
   "metadata": {},
   "outputs": [
    {
     "name": "stdout",
     "output_type": "stream",
     "text": [
      "name_array :\n",
      " ['이순신' '강감찬' '안중근' '유관순' '장보고']\n",
      "weight_array :\n",
      " [80 76 92 56 70]\n",
      "--------------------------------------------------\n",
      "sort_weight :\n",
      " [56 70 76 80 92]\n",
      "sort_indexes_weight :\n",
      " [3 4 1 0 2]\n",
      "몸무게의 오름차순 순으로 이름 정렬하기\n",
      "몸무게의 오름차순 순으로 정렬된 이름 :\n",
      " ['유관순' '장보고' '강감찬' '이순신' '안중근']\n",
      "--------------------------------------------------\n",
      "몸무게의 오름차순 순으로 몸무게 정렬하기\n",
      "몸무게의 오름차순 순으로 정렬된 몸무게 :\n",
      " [56 70 76 80 92]\n"
     ]
    }
   ],
   "source": [
    "name_array   = np.array([\"이순신\", \"강감찬\", \"안중근\", \"유관순\", \"장보고\"])\n",
    "weight_array = np.array([80, 76, 92, 56, 70])\n",
    "\n",
    "print(\"name_array :\\n\",name_array)\n",
    "print(\"weight_array :\\n\",weight_array)\n",
    "print(\"-\" * 50)\n",
    "\n",
    "\n",
    "# weight_array 의 정렬된 값에 해당하는 원본 행렬 위치 index를 반환하고\n",
    "# 이것을 사용해서 name_array에서 name값 추출하기\n",
    "sort_weight = np.sort(weight_array)\n",
    "print(\"sort_weight :\\n\",sort_weight)\n",
    "sort_indexes_weight = np.argsort(weight_array)\n",
    "print(\"sort_indexes_weight :\\n\",sort_indexes_weight)\n",
    "\n",
    "print(\"몸무게의 오름차순 순으로 이름 정렬하기\")\n",
    "sort_name_by_weight = name_array[sort_indexes_weight]\n",
    "print(\"몸무게의 오름차순 순으로 정렬된 이름 :\\n\",sort_name_by_weight)\n",
    "print(\"-\" * 50)\n",
    "\n",
    "print(\"몸무게의 오름차순 순으로 몸무게 정렬하기\")\n",
    "sort_weight_by_weight = weight_array[sort_indexes_weight]\n",
    "print(\"몸무게의 오름차순 순으로 정렬된 몸무게 :\\n\",sort_weight_by_weight)"
   ]
  },
  {
   "cell_type": "markdown",
   "id": "93e104a7",
   "metadata": {},
   "source": [
    "### 행렬의 내적과 전치행렬\n",
    "* 행렬의 내적 : np.dot() 함수 사용"
   ]
  },
  {
   "cell_type": "code",
   "execution_count": 82,
   "id": "e5927cfa",
   "metadata": {},
   "outputs": [
    {
     "name": "stdout",
     "output_type": "stream",
     "text": [
      "A :\n",
      " [[1 2 3]\n",
      " [4 5 6]]\n",
      "B :\n",
      " [[ 7  8]\n",
      " [ 9 10]\n",
      " [11 12]]\n"
     ]
    }
   ],
   "source": [
    "A = np.array([\n",
    "               [1, 2, 3],\n",
    "               [4, 5, 6]\n",
    "             ])\n",
    "B = np.array([\n",
    "               [7, 8],\n",
    "               [9, 10],\n",
    "               [11, 12] \n",
    "             ])\n",
    "print(\"A :\\n\",A)\n",
    "print(\"B :\\n\",B)"
   ]
  },
  {
   "cell_type": "code",
   "execution_count": 84,
   "id": "003d99ef",
   "metadata": {},
   "outputs": [
    {
     "name": "stdout",
     "output_type": "stream",
     "text": [
      "product_array(행렬의 내적) :\n",
      " [[ 58  64]\n",
      " [139 154]]\n"
     ]
    }
   ],
   "source": [
    "product_array = np.dot(A, B)\n",
    "print(\"product_array(행렬의 내적) :\\n\",product_array)"
   ]
  },
  {
   "cell_type": "markdown",
   "id": "1d24e636",
   "metadata": {},
   "source": [
    "* 전치 행렬 : np.transpose() 함수 사용"
   ]
  },
  {
   "cell_type": "code",
   "execution_count": 85,
   "id": "108b1fcd",
   "metadata": {},
   "outputs": [
    {
     "name": "stdout",
     "output_type": "stream",
     "text": [
      "C 의 전치행렬 :\n",
      " [[2 5 1]\n",
      " [3 0 1]]\n"
     ]
    }
   ],
   "source": [
    "C = np.array([[2, 3],\n",
    "              [5, 0],\n",
    "              [1, 1]    \n",
    "             ])\n",
    "transpose_matrix1 = np.transpose(C)\n",
    "print(\"C 의 전치행렬 :\\n\",transpose_matrix1)"
   ]
  },
  {
   "cell_type": "code",
   "execution_count": 87,
   "id": "b70566b4",
   "metadata": {
    "scrolled": true
   },
   "outputs": [
    {
     "name": "stdout",
     "output_type": "stream",
     "text": [
      "D 의 전치행렬 :\n",
      " [[1 4 7]\n",
      " [2 5 8]\n",
      " [3 6 9]]\n"
     ]
    }
   ],
   "source": [
    "D = np.array([[1, 2, 3],\n",
    "              [4, 5, 6],\n",
    "              [7, 8, 9]\n",
    "             ])\n",
    "transpose_matrix2 = np.transpose(D)\n",
    "print(\"D 의 전치행렬 :\\n\",transpose_matrix2)"
   ]
  },
  {
   "cell_type": "code",
   "execution_count": 88,
   "id": "742983f7",
   "metadata": {},
   "outputs": [
    {
     "name": "stdout",
     "output_type": "stream",
     "text": [
      "E 의 전치행렬 :\n",
      " [[1 3 5]\n",
      " [2 4 6]]\n"
     ]
    }
   ],
   "source": [
    "E = np.array([[1, 2],\n",
    "              [3, 4],\n",
    "              [5, 6]    \n",
    "             ])\n",
    "transpose_matrix3 = np.transpose(E)\n",
    "print(\"E 의 전치행렬 :\\n\",transpose_matrix3)"
   ]
  },
  {
   "cell_type": "code",
   "execution_count": null,
   "id": "364f57b7",
   "metadata": {},
   "outputs": [],
   "source": []
  },
  {
   "cell_type": "code",
   "execution_count": null,
   "id": "fc2731c3",
   "metadata": {},
   "outputs": [],
   "source": []
  }
 ],
 "metadata": {
  "kernelspec": {
   "display_name": "Python 3 (ipykernel)",
   "language": "python",
   "name": "python3"
  },
  "language_info": {
   "codemirror_mode": {
    "name": "ipython",
    "version": 3
   },
   "file_extension": ".py",
   "mimetype": "text/x-python",
   "name": "python",
   "nbconvert_exporter": "python",
   "pygments_lexer": "ipython3",
   "version": "3.8.12"
  }
 },
 "nbformat": 4,
 "nbformat_minor": 5
}
