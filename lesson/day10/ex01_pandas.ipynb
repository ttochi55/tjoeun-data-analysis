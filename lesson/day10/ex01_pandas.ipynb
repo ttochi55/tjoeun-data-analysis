{
 "cells": [
  {
   "cell_type": "markdown",
   "id": "c7b6097b",
   "metadata": {},
   "source": [
    "### Pandas DataFrame"
   ]
  },
  {
   "cell_type": "code",
   "execution_count": null,
   "id": "e6f74972",
   "metadata": {},
   "outputs": [],
   "source": [
    "import pandas as pd"
   ]
  },
  {
   "cell_type": "code",
   "execution_count": null,
   "id": "acbf621a",
   "metadata": {},
   "outputs": [],
   "source": [
    "'''\n",
    "Survived\t0이면 사망, 1이면 생존\tint64\n",
    "Pclass\t    티켓 등급 : 1, 2, 3\tint64\n",
    "Name\t    승객 이름 : Surname, Title. Firstname\tobject\n",
    "Sex\t\t    성별 : male, female\tobject\n",
    "Age\t\t    승객의 나이\tfloat64\n",
    "SibSp\t\t형제, 자매, 배우자의 합\tint64\n",
    "Parch\t\t부모, 자식의 합\tint64\n",
    "Ticket\t\t티켓 번호\tobject\n",
    "Fare\t\t요금\tfloat64\n",
    "Cabin\t\t객실 번호\tobject\n",
    "Embarked\t선착장 : C(Cherbourg), Q(Queenstown), S(Southampton)\tobject\n",
    "'''"
   ]
  },
  {
   "cell_type": "markdown",
   "id": "eb168f93",
   "metadata": {},
   "source": [
    "### read_csv()\n",
    "* read_csv() : csv 파일을 DataFrame 으로 loading 함"
   ]
  },
  {
   "cell_type": "code",
   "execution_count": null,
   "id": "40025253",
   "metadata": {},
   "outputs": [],
   "source": [
    "titanic_df = pd.read_csv(\"titanic_train.csv\")\n",
    "print(\"titanic_df 의 타입 :\",type(titanic_df))"
   ]
  },
  {
   "cell_type": "markdown",
   "id": "5e919f04",
   "metadata": {},
   "source": [
    "### head()\n",
    "* DataFrame 의 앞에 있는 5 개의 data를 추출함\n",
    "* head() 의 () 안에 지정하는 숫자만큼 추출함"
   ]
  },
  {
   "cell_type": "code",
   "execution_count": null,
   "id": "e9e3152f",
   "metadata": {},
   "outputs": [],
   "source": [
    "titanic_df.head()"
   ]
  },
  {
   "cell_type": "code",
   "execution_count": null,
   "id": "a81d08be",
   "metadata": {},
   "outputs": [],
   "source": [
    "titanic_df.head(10)"
   ]
  },
  {
   "cell_type": "markdown",
   "id": "e97e7e91",
   "metadata": {},
   "source": [
    "### dictionary 로 DataFrame 생성하기"
   ]
  },
  {
   "cell_type": "code",
   "execution_count": null,
   "id": "0d5c48e4",
   "metadata": {},
   "outputs": [],
   "source": [
    "dict1 = {\n",
    "         \"Name\" : [\"이순신\", \"더조은\", \"강감찬\", \"유관순\"],\n",
    "         \"Year\" : [1545, 1970, 948, 1902],\n",
    "         \"Gender\" : [\"Male\", \"Male\", \"Male\", \"Female\"]\n",
    "        }\n",
    "\n",
    "# dictionary 를 DataFrame 으로 변환하기\n",
    "data_df = pd.DataFrame(dict1)\n",
    "print(data_df)\n",
    "print(\"-\" * 50)"
   ]
  },
  {
   "cell_type": "code",
   "execution_count": null,
   "id": "af19475e",
   "metadata": {},
   "outputs": [],
   "source": [
    "# 새로운 column 명 추가하기\n",
    "data_df = pd.DataFrame(dict1, columns=[\"Name\", \"Year\", \"Gender\", \"Age\"])\n",
    "print(data_df)\n",
    "print(\"-\" * 50)"
   ]
  },
  {
   "cell_type": "code",
   "execution_count": null,
   "id": "b511bcde",
   "metadata": {},
   "outputs": [],
   "source": [
    "# index 이름 변경하기\n",
    "data_df = pd.DataFrame(dict1, index = [\"one\", \"two\", \"three\", \"four\"])\n",
    "print(data_df)\n",
    "print(\"-\" * 50)"
   ]
  },
  {
   "cell_type": "markdown",
   "id": "43968551",
   "metadata": {},
   "source": [
    "### DataFrame 의 column 명과 index"
   ]
  },
  {
   "cell_type": "code",
   "execution_count": null,
   "id": "b08c039f",
   "metadata": {},
   "outputs": [],
   "source": [
    "print(titanic_df.info())"
   ]
  },
  {
   "cell_type": "code",
   "execution_count": null,
   "id": "7d00c5d7",
   "metadata": {},
   "outputs": [],
   "source": [
    "print(\"columns :\\n\",titanic_df.columns)\n",
    "print(\"index   :\\n\",titanic_df.index)\n",
    "print(\"index value :\\n\",titanic_df.index.values)"
   ]
  },
  {
   "cell_type": "markdown",
   "id": "10a5aa98",
   "metadata": {},
   "source": [
    "### DataFrame 에서 Series 추출하기"
   ]
  },
  {
   "cell_type": "code",
   "execution_count": null,
   "id": "e589c605",
   "metadata": {},
   "outputs": [],
   "source": [
    "# DataFrame 객체에 []연산자 안에 한 개의 컬럼명을 입력하면 Series 객체로 반환함\n",
    "series_name = titanic_df[\"Name\"]\n",
    "print(series_name.head(3))\n",
    "print(\"series_name type :\",type(series_name))"
   ]
  },
  {
   "cell_type": "code",
   "execution_count": null,
   "id": "e2d9e813",
   "metadata": {},
   "outputs": [],
   "source": [
    "series_age = titanic_df[\"Age\"]\n",
    "print(series_age.head(3))\n",
    "print(\"series_age type :\",type(series_age))"
   ]
  },
  {
   "cell_type": "code",
   "execution_count": null,
   "id": "905c6dfc",
   "metadata": {},
   "outputs": [],
   "source": [
    "# DataFrame 객체에 []연산자 안에 여러 개의 컬럼명을 리스트로 입력하면 \n",
    "# 해당 컬럼들로 구성된 DataFrame 객체로 반환함\n",
    "name_age = titanic_df[[\"Name\", \"Age\"]]\n",
    "print(name_age.head(3))\n",
    "print(\"name_age type :\",type(name_age))"
   ]
  },
  {
   "cell_type": "code",
   "execution_count": null,
   "id": "251635c7",
   "metadata": {},
   "outputs": [],
   "source": [
    "# DataFrame 객체에 []연산자 안에 한 개의 컬럼명을 리스트로 입력하면 \n",
    "# 해당 컬럼들로 구성된 DataFrame 객체로 반환함\n",
    "name_df = titanic_df[[\"Name\"]]\n",
    "print(name_df.head(3))\n",
    "print(\"name_df type :\",type(name_df))"
   ]
  },
  {
   "cell_type": "markdown",
   "id": "aa3173a2",
   "metadata": {},
   "source": [
    "### shape 속성\n",
    "* DataFrame 의 행(Row)과 열(Column)의 크기를 가지고 있는 속성"
   ]
  },
  {
   "cell_type": "code",
   "execution_count": null,
   "id": "ab975e9f",
   "metadata": {},
   "outputs": [],
   "source": [
    "print(\"titanic_df.shape :\",titanic_df.shape)"
   ]
  },
  {
   "cell_type": "markdown",
   "id": "78c2787c",
   "metadata": {},
   "source": [
    "### info() 메소드\n",
    "* DataFrame 내의 컬럼명, 데이터타입, Null건수, 데이터 건수 등의 정보를 반환함"
   ]
  },
  {
   "cell_type": "code",
   "execution_count": null,
   "id": "a7b33c38",
   "metadata": {},
   "outputs": [],
   "source": [
    "print(\"titanic_df.info() :\",titanic_df.info())"
   ]
  },
  {
   "cell_type": "markdown",
   "id": "af77d2b8",
   "metadata": {},
   "source": [
    "### describe() 메소드\n",
    "* 데이터값들의 평균, 표준편차, 4분의 분포도를 반환함\n",
    "* 숫자형 컬럼들에 대해서만 해당 정보를 반환함"
   ]
  },
  {
   "cell_type": "code",
   "execution_count": null,
   "id": "3525d59d",
   "metadata": {},
   "outputs": [],
   "source": [
    "titanic_df.describe()"
   ]
  },
  {
   "cell_type": "markdown",
   "id": "47d780b8",
   "metadata": {},
   "source": [
    "### value_counts()\n",
    "* 같은 값이 몇 건 있는지 알려줌 - 개별 데이터값의 분포도를 제공해 줌\n",
    "* value_counts() 는 Series 객체에서만 호출할 수 있음\n",
    "* DataFrame 객체를 Series 객체로 변환해서 호출함"
   ]
  },
  {
   "cell_type": "code",
   "execution_count": null,
   "id": "8ef645e5",
   "metadata": {},
   "outputs": [],
   "source": [
    "value_counts = titanic_df[\"Pclass\"].value_counts()\n",
    "print(\"value_counts :\\n\",value_counts,sep=\"\")\n",
    "print(\"value_counts 타입 :\",type(value_counts))"
   ]
  },
  {
   "cell_type": "code",
   "execution_count": null,
   "id": "1775c82b",
   "metadata": {
    "scrolled": true
   },
   "outputs": [],
   "source": [
    "titanic_pclass = titanic_df[\"Pclass\"]\n",
    "print(\"titanic_pclass 타입 :\",type(titanic_pclass))\n",
    "print(\"titanic_pclass.head() :\\n\",titanic_pclass.head(),sep=\"\")"
   ]
  },
  {
   "cell_type": "markdown",
   "id": "3f111a50",
   "metadata": {},
   "source": [
    "### sort_values()\n",
    "* by=정렬할컬럼이름, ascending=True(오름차순)-default,False(내림차순)"
   ]
  },
  {
   "cell_type": "code",
   "execution_count": null,
   "id": "3b8023e4",
   "metadata": {},
   "outputs": [],
   "source": [
    "titanic_df.sort_values(by=\"Pclass\",ascending=False)"
   ]
  },
  {
   "cell_type": "code",
   "execution_count": null,
   "id": "e7ba5aef",
   "metadata": {},
   "outputs": [],
   "source": [
    "titanic_df.sort_values(by=\"Pclass\")"
   ]
  },
  {
   "cell_type": "code",
   "execution_count": null,
   "id": "bd3cbbad",
   "metadata": {},
   "outputs": [],
   "source": [
    "titanic_df[[\"Name\", \"Age\"]].sort_values(by=\"Age\")"
   ]
  },
  {
   "cell_type": "code",
   "execution_count": null,
   "id": "8dacf15d",
   "metadata": {},
   "outputs": [],
   "source": [
    "titanic_df[[\"Name\",\"Age\",\"Pclass\"]].sort_values(by=\"Age\")"
   ]
  },
  {
   "cell_type": "code",
   "execution_count": null,
   "id": "fc8f719f",
   "metadata": {},
   "outputs": [],
   "source": [
    "# by=[\"Pclass\",\"Age\"]\n",
    "# ㄴ 객실등급으로 오름차순 정렬을 한 뒤\n",
    "#    객실등급별로 나이로 오름차순 정렬을 함\n",
    "titanic_df[[\"Name\",\"Age\",\"Pclass\"]].sort_values(by=[\"Pclass\",\"Age\"])"
   ]
  },
  {
   "cell_type": "markdown",
   "id": "6a34fd9a",
   "metadata": {},
   "source": [
    "### 아래 부분은 ex02 Numpy 를 학습한 후 공부하세요"
   ]
  },
  {
   "cell_type": "markdown",
   "id": "b6d896aa",
   "metadata": {},
   "source": [
    "### DataFrame, list, dictionary, ndarray 상호 변환하기\n",
    "* list, ndarray 에서 DataFrame 변환하기"
   ]
  },
  {
   "cell_type": "code",
   "execution_count": null,
   "id": "bb720aae",
   "metadata": {},
   "outputs": [],
   "source": [
    "import numpy as np\n",
    "\n",
    "col_name1 = ['col1']\n",
    "list1 = [1, 2, 3]\n",
    "array1 = np.array(list1)\n",
    "print(\"array1 :\\n\",array1)\n",
    "print(\"array1.shape :\\n\",array1.shape)\n",
    "print()\n",
    "print(\"-\" * 50)\n",
    "print()\n",
    "list1_df = pd.DataFrame(list1, columns=col_name1)\n",
    "print(\"-- 1차원 리스트로 생성한 DataFrame --\\n\",list1_df)\n",
    "print()\n",
    "array1_df = pd.DataFrame(array1, columns=col_name1)\n",
    "print(\"-- 1차원 ndarray로 생성한 DataFrame --\\n\",array1_df)\n"
   ]
  },
  {
   "cell_type": "code",
   "execution_count": null,
   "id": "be8ef9f8",
   "metadata": {},
   "outputs": [],
   "source": [
    "# column 명 3 개로 구성된 list 생성하기\n",
    "col_name2 = [\"col1\", \"col2\", \"col3\"]\n",
    "\n",
    "# 2행 3열 (2 X 3) 의 리스트와 ndarray 를 생성한 후\n",
    "# 이들을 DataFrame 으로 변환하기\n",
    "list2 = [[1, 2, 3], \n",
    "         [11, 22, 33]]\n",
    "array2 = np.array(list2)\n",
    "print(\"array2.shape :\",array2.shape)\n",
    "print()\n",
    "print(\"-\" * 50)\n",
    "print()\n",
    "\n",
    "list2_df = pd.DataFrame(list2, columns=col_name2)\n",
    "print(\"-- 2차원 리스트로 생성한 DataFrame --\\n\",list2_df)\n",
    "print()\n",
    "array2_df = pd.DataFrame(array2, columns=col_name2)\n",
    "print(\"-- 2차원 ndarray로 생성한 DataFrame --\\n\",array2_df)"
   ]
  },
  {
   "cell_type": "markdown",
   "id": "a2f27582",
   "metadata": {},
   "source": [
    "### dictionary 에서  DataFrame 으로 변환하기\n",
    "* key 는 column 명으로 매핑되고 value 는 column 의 값으로 매핑됨\n",
    "\n"
   ]
  },
  {
   "cell_type": "code",
   "execution_count": null,
   "id": "334bde38",
   "metadata": {},
   "outputs": [],
   "source": [
    "dict1 = {\"이름\":[\"이순신\", \"강감찬\"], \"나이\":[48, 72], \"출생지\":[\"한성부\", \"관악구 봉천동\"]}\n",
    "dict1_df = pd.DataFrame(dict1)\n",
    "print(\"-- dictionary 로 생성한 DataFrame --\\n\",dict1_df)"
   ]
  },
  {
   "cell_type": "markdown",
   "id": "f83c976f",
   "metadata": {},
   "source": [
    "### DataFrame 을 ndarray 로 변환하기"
   ]
  },
  {
   "cell_type": "code",
   "execution_count": null,
   "id": "a457ba6b",
   "metadata": {},
   "outputs": [],
   "source": [
    "df2array = dict1_df.values\n",
    "print(\"df2array :\\n\",df2array)\n",
    "print(\"df2array :\\n\",type(df2array))\n",
    "print(\"df2array :\\n\",df2array.shape)"
   ]
  },
  {
   "cell_type": "markdown",
   "id": "1e66576d",
   "metadata": {},
   "source": [
    "### DataFrame 을 list 로 변환하기"
   ]
  },
  {
   "cell_type": "code",
   "execution_count": null,
   "id": "4ad12f97",
   "metadata": {},
   "outputs": [],
   "source": [
    "list3 = dict1_df.values.tolist()\n",
    "print(\"list3 :\\n\",list3)\n",
    "print(\"list3 :\\n\",type(list3))"
   ]
  },
  {
   "cell_type": "markdown",
   "id": "3a03b6e1",
   "metadata": {},
   "source": [
    "### DataFrame 을 dictionary 로 변환하기"
   ]
  },
  {
   "cell_type": "code",
   "execution_count": null,
   "id": "87a4db92",
   "metadata": {},
   "outputs": [],
   "source": [
    "dict3 = dict1_df.to_dict(\"list\")\n",
    "print(\"dict3 :\\n\",dict3)\n",
    "print(\"dict3 :\\n\",type(dict3))\n",
    "print(\"-\" * 40)\n",
    "\n",
    "dict4 = dict1_df.to_dict()\n",
    "print(\"dict4 :\\n\",dict4)\n",
    "print(\"dict4 :\\n\",type(dict4))\n",
    "print(\"-\" * 40)"
   ]
  },
  {
   "cell_type": "code",
   "execution_count": null,
   "id": "b419236e",
   "metadata": {},
   "outputs": [],
   "source": [
    "'''\n",
    "Survived\t0이면 사망, 1이면 생존\tint64\n",
    "Pclass\t    티켓 등급 : 1, 2, 3\tint64\n",
    "Name\t    승객 이름 : Surname, Title. Firstname\tobject\n",
    "Sex\t\t    성별 : male, female\tobject\n",
    "Age\t\t    승객의 나이\tfloat64\n",
    "SibSp\t\t형제, 자매, 배우자의 합\tint64\n",
    "Parch\t\t부모, 자식의 합\tint64\n",
    "Ticket\t\t티켓 번호\tobject\n",
    "Fare\t\t요금\tfloat64\n",
    "Cabin\t\t객실 번호\tobject\n",
    "Embarked\t선착장 : C(Cherbourg), Q(Queenstown), S(Southampton)\tobject\n",
    "'''"
   ]
  },
  {
   "cell_type": "markdown",
   "id": "0ba33534",
   "metadata": {},
   "source": [
    "### DataFrame 의 column dataset 에 access 하기\n",
    "* DataFrame 의 column dataset 의 생성과 수정은 [] 연산자를 사용해서 수행함\n",
    "* 새로운 column 에 값을 할당하는 경우,  []  안에 컬럼명을 입력하고 값을 할당함"
   ]
  },
  {
   "cell_type": "code",
   "execution_count": null,
   "id": "afe2d13e",
   "metadata": {},
   "outputs": [],
   "source": [
    "titanic_df.head()"
   ]
  },
  {
   "cell_type": "code",
   "execution_count": null,
   "id": "66648db7",
   "metadata": {},
   "outputs": [],
   "source": [
    "titanic_df[\"Age_0\"] = 0\n",
    "titanic_df.head()"
   ]
  },
  {
   "cell_type": "code",
   "execution_count": null,
   "id": "c469a29c",
   "metadata": {},
   "outputs": [],
   "source": [
    "titanic_df[\"Age_by_10\"] = titanic_df[\"Age\"] * 10\n",
    "titanic_df[\"Family_No\"] = titanic_df[\"SibSp\"] + titanic_df[\"Parch\"] + 1\n",
    "titanic_df.head(20)"
   ]
  },
  {
   "cell_type": "code",
   "execution_count": null,
   "id": "26376844",
   "metadata": {},
   "outputs": [],
   "source": [
    "titanic_df[\"Age_by_10\"] = titanic_df[\"Age_by_10\"] + 100\n",
    "titanic_df.head(20)"
   ]
  },
  {
   "cell_type": "markdown",
   "id": "cca2ed93",
   "metadata": {},
   "source": [
    "### DataFrame 데이터 삭제하기 - DataFrame 의 drop(컬럼명,axis=0/1) 메소드\n",
    "* axis 를 지정해서 삭제하기"
   ]
  },
  {
   "cell_type": "code",
   "execution_count": null,
   "id": "a412880c",
   "metadata": {},
   "outputs": [],
   "source": [
    "drop_titanic_df = titanic_df.drop(\"Age_0\", axis=1)\n",
    "print(\"원본은 변형되지 않고, 변형된(지정한 컬럼이 삭제된) 새로운 DataFrame(drop_titanic_df) 을 반환함\")\n",
    "print(\"titanic_df 를 출력하면 변함이 없고 drop_titanic_df 를 출력해야 결과를 확인할 수 있음\")\n",
    "titanic_df.head(10)"
   ]
  },
  {
   "cell_type": "code",
   "execution_count": null,
   "id": "4a8bca24",
   "metadata": {},
   "outputs": [],
   "source": [
    "drop_titanic_df"
   ]
  },
  {
   "cell_type": "markdown",
   "id": "e9026c14",
   "metadata": {},
   "source": [
    "### 여러 개의 column 삭제하기\n",
    "* drop() 메소드 안에 argument로 삭제할 컬럼명으로 구성된 리스트를 넣어줌\n",
    "* inplace=True 로 설정하면 원본이 변형됨 : inplace=False 가 default 값임\n",
    "*  ㄴ 원본을 변형(원본에서 삭제함)되면서 새로운 DataFrame을 반환하지 않음"
   ]
  },
  {
   "cell_type": "code",
   "execution_count": null,
   "id": "4bfeac38",
   "metadata": {},
   "outputs": [],
   "source": [
    "titanic_df = pd.read_csv(\"titanic_train.csv\")\n",
    "titanic_df[\"Age_0\"] = 0\n",
    "titanic_df[\"Age_by_10\"] = titanic_df[\"Age\"] * 10\n",
    "titanic_df[\"Family_No\"] = titanic_df[\"SibSp\"] + titanic_df[\"Parch\"] + 1\n",
    "titanic_df[\"Age_by_10\"] = titanic_df[\"Age_by_10\"] + 100\n",
    "titanic_df.head()"
   ]
  },
  {
   "cell_type": "code",
   "execution_count": null,
   "id": "1fac51d0",
   "metadata": {},
   "outputs": [],
   "source": [
    "drop_df = titanic_df.drop([\"Age_0\", \"Age_by_10\", \"Family_No\"], axis=1, inplace=True)\n",
    "print(\"inplace=True 로 설정했기 때문에 원본이 변형됨\")\n",
    "print(\"원본을 변형(원본에서 삭제함)되면서 새로운 DataFrame을 반환하지 않음\")\n",
    "print(\"drop_df :\",drop_df)\n",
    "titanic_df.head()"
   ]
  },
  {
   "cell_type": "markdown",
   "id": "5488262d",
   "metadata": {},
   "source": [
    "#### axis=0 이면 drop() 할 때 행(row) 방향으로 데이터를 삭제함"
   ]
  },
  {
   "cell_type": "code",
   "execution_count": 77,
   "id": "1cc9a8a2",
   "metadata": {},
   "outputs": [
    {
     "name": "stdout",
     "output_type": "stream",
     "text": [
      "-- drop(axis=0) 하기 전 --\n"
     ]
    },
    {
     "data": {
      "text/html": [
       "<div>\n",
       "<style scoped>\n",
       "    .dataframe tbody tr th:only-of-type {\n",
       "        vertical-align: middle;\n",
       "    }\n",
       "\n",
       "    .dataframe tbody tr th {\n",
       "        vertical-align: top;\n",
       "    }\n",
       "\n",
       "    .dataframe thead th {\n",
       "        text-align: right;\n",
       "    }\n",
       "</style>\n",
       "<table border=\"1\" class=\"dataframe\">\n",
       "  <thead>\n",
       "    <tr style=\"text-align: right;\">\n",
       "      <th></th>\n",
       "      <th>PassengerId</th>\n",
       "      <th>Survived</th>\n",
       "      <th>Pclass</th>\n",
       "      <th>Name</th>\n",
       "      <th>Sex</th>\n",
       "      <th>Age</th>\n",
       "      <th>SibSp</th>\n",
       "      <th>Parch</th>\n",
       "      <th>Ticket</th>\n",
       "      <th>Fare</th>\n",
       "      <th>Cabin</th>\n",
       "      <th>Embarked</th>\n",
       "    </tr>\n",
       "  </thead>\n",
       "  <tbody>\n",
       "    <tr>\n",
       "      <th>0</th>\n",
       "      <td>1</td>\n",
       "      <td>0</td>\n",
       "      <td>3</td>\n",
       "      <td>Braund, Mr....</td>\n",
       "      <td>male</td>\n",
       "      <td>22.0</td>\n",
       "      <td>1</td>\n",
       "      <td>0</td>\n",
       "      <td>A/5 21171</td>\n",
       "      <td>7.2500</td>\n",
       "      <td>NaN</td>\n",
       "      <td>S</td>\n",
       "    </tr>\n",
       "    <tr>\n",
       "      <th>1</th>\n",
       "      <td>2</td>\n",
       "      <td>1</td>\n",
       "      <td>1</td>\n",
       "      <td>Cumings, Mr...</td>\n",
       "      <td>female</td>\n",
       "      <td>38.0</td>\n",
       "      <td>1</td>\n",
       "      <td>0</td>\n",
       "      <td>PC 17599</td>\n",
       "      <td>71.2833</td>\n",
       "      <td>C85</td>\n",
       "      <td>C</td>\n",
       "    </tr>\n",
       "    <tr>\n",
       "      <th>2</th>\n",
       "      <td>3</td>\n",
       "      <td>1</td>\n",
       "      <td>3</td>\n",
       "      <td>Heikkinen, ...</td>\n",
       "      <td>female</td>\n",
       "      <td>26.0</td>\n",
       "      <td>0</td>\n",
       "      <td>0</td>\n",
       "      <td>STON/O2. 31...</td>\n",
       "      <td>7.9250</td>\n",
       "      <td>NaN</td>\n",
       "      <td>S</td>\n",
       "    </tr>\n",
       "    <tr>\n",
       "      <th>3</th>\n",
       "      <td>4</td>\n",
       "      <td>1</td>\n",
       "      <td>1</td>\n",
       "      <td>Futrelle, M...</td>\n",
       "      <td>female</td>\n",
       "      <td>35.0</td>\n",
       "      <td>1</td>\n",
       "      <td>0</td>\n",
       "      <td>113803</td>\n",
       "      <td>53.1000</td>\n",
       "      <td>C123</td>\n",
       "      <td>S</td>\n",
       "    </tr>\n",
       "    <tr>\n",
       "      <th>4</th>\n",
       "      <td>5</td>\n",
       "      <td>0</td>\n",
       "      <td>3</td>\n",
       "      <td>Allen, Mr. ...</td>\n",
       "      <td>male</td>\n",
       "      <td>35.0</td>\n",
       "      <td>0</td>\n",
       "      <td>0</td>\n",
       "      <td>373450</td>\n",
       "      <td>8.0500</td>\n",
       "      <td>NaN</td>\n",
       "      <td>S</td>\n",
       "    </tr>\n",
       "  </tbody>\n",
       "</table>\n",
       "</div>"
      ],
      "text/plain": [
       "   PassengerId  Survived  Pclass            Name     Sex   Age  SibSp  Parch          Ticket     Fare Cabin Embarked\n",
       "0            1         0       3  Braund, Mr....    male  22.0      1      0       A/5 21171   7.2500   NaN        S\n",
       "1            2         1       1  Cumings, Mr...  female  38.0      1      0        PC 17599  71.2833   C85        C\n",
       "2            3         1       3  Heikkinen, ...  female  26.0      0      0  STON/O2. 31...   7.9250   NaN        S\n",
       "3            4         1       1  Futrelle, M...  female  35.0      1      0          113803  53.1000  C123        S\n",
       "4            5         0       3  Allen, Mr. ...    male  35.0      0      0          373450   8.0500   NaN        S"
      ]
     },
     "execution_count": 77,
     "metadata": {},
     "output_type": "execute_result"
    }
   ],
   "source": [
    "titanic_df = pd.read_csv(\"titanic_train.csv\")\n",
    "pd.set_option(\"display.width\", 1000)\n",
    "pd.set_option(\"display.max_colwidth\", 15)\n",
    "\n",
    "print(\"-- drop(axis=0) 하기 전 --\")\n",
    "titanic_df.head()"
   ]
  },
  {
   "cell_type": "code",
   "execution_count": 78,
   "id": "81c754e9",
   "metadata": {},
   "outputs": [
    {
     "name": "stdout",
     "output_type": "stream",
     "text": [
      "-- drop(axis=0) 한 후 --\n"
     ]
    },
    {
     "data": {
      "text/html": [
       "<div>\n",
       "<style scoped>\n",
       "    .dataframe tbody tr th:only-of-type {\n",
       "        vertical-align: middle;\n",
       "    }\n",
       "\n",
       "    .dataframe tbody tr th {\n",
       "        vertical-align: top;\n",
       "    }\n",
       "\n",
       "    .dataframe thead th {\n",
       "        text-align: right;\n",
       "    }\n",
       "</style>\n",
       "<table border=\"1\" class=\"dataframe\">\n",
       "  <thead>\n",
       "    <tr style=\"text-align: right;\">\n",
       "      <th></th>\n",
       "      <th>PassengerId</th>\n",
       "      <th>Survived</th>\n",
       "      <th>Pclass</th>\n",
       "      <th>Name</th>\n",
       "      <th>Sex</th>\n",
       "      <th>Age</th>\n",
       "      <th>SibSp</th>\n",
       "      <th>Parch</th>\n",
       "      <th>Ticket</th>\n",
       "      <th>Fare</th>\n",
       "      <th>Cabin</th>\n",
       "      <th>Embarked</th>\n",
       "    </tr>\n",
       "  </thead>\n",
       "  <tbody>\n",
       "    <tr>\n",
       "      <th>3</th>\n",
       "      <td>4</td>\n",
       "      <td>1</td>\n",
       "      <td>1</td>\n",
       "      <td>Futrelle, M...</td>\n",
       "      <td>female</td>\n",
       "      <td>35.0</td>\n",
       "      <td>1</td>\n",
       "      <td>0</td>\n",
       "      <td>113803</td>\n",
       "      <td>53.1000</td>\n",
       "      <td>C123</td>\n",
       "      <td>S</td>\n",
       "    </tr>\n",
       "    <tr>\n",
       "      <th>4</th>\n",
       "      <td>5</td>\n",
       "      <td>0</td>\n",
       "      <td>3</td>\n",
       "      <td>Allen, Mr. ...</td>\n",
       "      <td>male</td>\n",
       "      <td>35.0</td>\n",
       "      <td>0</td>\n",
       "      <td>0</td>\n",
       "      <td>373450</td>\n",
       "      <td>8.0500</td>\n",
       "      <td>NaN</td>\n",
       "      <td>S</td>\n",
       "    </tr>\n",
       "    <tr>\n",
       "      <th>5</th>\n",
       "      <td>6</td>\n",
       "      <td>0</td>\n",
       "      <td>3</td>\n",
       "      <td>Moran, Mr. ...</td>\n",
       "      <td>male</td>\n",
       "      <td>NaN</td>\n",
       "      <td>0</td>\n",
       "      <td>0</td>\n",
       "      <td>330877</td>\n",
       "      <td>8.4583</td>\n",
       "      <td>NaN</td>\n",
       "      <td>Q</td>\n",
       "    </tr>\n",
       "    <tr>\n",
       "      <th>6</th>\n",
       "      <td>7</td>\n",
       "      <td>0</td>\n",
       "      <td>1</td>\n",
       "      <td>McCarthy, M...</td>\n",
       "      <td>male</td>\n",
       "      <td>54.0</td>\n",
       "      <td>0</td>\n",
       "      <td>0</td>\n",
       "      <td>17463</td>\n",
       "      <td>51.8625</td>\n",
       "      <td>E46</td>\n",
       "      <td>S</td>\n",
       "    </tr>\n",
       "    <tr>\n",
       "      <th>7</th>\n",
       "      <td>8</td>\n",
       "      <td>0</td>\n",
       "      <td>3</td>\n",
       "      <td>Palsson, Ma...</td>\n",
       "      <td>male</td>\n",
       "      <td>2.0</td>\n",
       "      <td>3</td>\n",
       "      <td>1</td>\n",
       "      <td>349909</td>\n",
       "      <td>21.0750</td>\n",
       "      <td>NaN</td>\n",
       "      <td>S</td>\n",
       "    </tr>\n",
       "  </tbody>\n",
       "</table>\n",
       "</div>"
      ],
      "text/plain": [
       "   PassengerId  Survived  Pclass            Name     Sex   Age  SibSp  Parch  Ticket     Fare Cabin Embarked\n",
       "3            4         1       1  Futrelle, M...  female  35.0      1      0  113803  53.1000  C123        S\n",
       "4            5         0       3  Allen, Mr. ...    male  35.0      0      0  373450   8.0500   NaN        S\n",
       "5            6         0       3  Moran, Mr. ...    male   NaN      0      0  330877   8.4583   NaN        Q\n",
       "6            7         0       1  McCarthy, M...    male  54.0      0      0   17463  51.8625   E46        S\n",
       "7            8         0       3  Palsson, Ma...    male   2.0      3      1  349909  21.0750   NaN        S"
      ]
     },
     "execution_count": 78,
     "metadata": {},
     "output_type": "execute_result"
    }
   ],
   "source": [
    "titanic_df.drop([0, 1, 2], axis=0, inplace=True)\n",
    "\n",
    "print(\"-- drop(axis=0) 한 후 --\")\n",
    "titanic_df.head()"
   ]
  },
  {
   "cell_type": "markdown",
   "id": "c93bf895",
   "metadata": {},
   "source": []
  },
  {
   "cell_type": "code",
   "execution_count": null,
   "id": "aa55133b",
   "metadata": {},
   "outputs": [],
   "source": []
  },
  {
   "cell_type": "code",
   "execution_count": null,
   "id": "16d9d5c4",
   "metadata": {},
   "outputs": [],
   "source": []
  },
  {
   "cell_type": "code",
   "execution_count": null,
   "id": "7d3af97f",
   "metadata": {},
   "outputs": [],
   "source": []
  }
 ],
 "metadata": {
  "kernelspec": {
   "display_name": "Python 3 (ipykernel)",
   "language": "python",
   "name": "python3"
  },
  "language_info": {
   "codemirror_mode": {
    "name": "ipython",
    "version": 3
   },
   "file_extension": ".py",
   "mimetype": "text/x-python",
   "name": "python",
   "nbconvert_exporter": "python",
   "pygments_lexer": "ipython3",
   "version": "3.8.12"
  }
 },
 "nbformat": 4,
 "nbformat_minor": 5
}
