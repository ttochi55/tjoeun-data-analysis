{
 "cells": [
  {
   "cell_type": "code",
   "execution_count": null,
   "id": "68b9ba6f",
   "metadata": {},
   "outputs": [],
   "source": [
    "print(\"프로그램 시작!!\")\n",
    "x = [10, 30, 25.2, \"num\", 14, 51]\n",
    "for i in x:\n",
    "    print(i)\n",
    "    try:\n",
    "        y = i ** 2\n",
    "        print(\"i = \",i,\", y = \",y,sep=\"\")\n",
    "    except:\n",
    "        print(i,\"(은)는 숫자가 아닙니다\",sep=\"\")\n",
    "print(\"프로그램 종료\")    "
   ]
  },
  {
   "cell_type": "code",
   "execution_count": 9,
   "id": "6bcf2458",
   "metadata": {},
   "outputs": [
    {
     "name": "stdout",
     "output_type": "stream",
     "text": [
      "dir(builtins) :\n",
      " ['ArithmeticError', 'AssertionError', 'AttributeError', 'BaseException', 'BlockingIOError', 'BrokenPipeError', 'BufferError', 'BytesWarning', 'ChildProcessError', 'ConnectionAbortedError', 'ConnectionError', 'ConnectionRefusedError', 'ConnectionResetError', 'DeprecationWarning', 'EOFError', 'Ellipsis', 'EnvironmentError', 'Exception', 'False', 'FileExistsError', 'FileNotFoundError', 'FloatingPointError', 'FutureWarning', 'GeneratorExit', 'IOError', 'ImportError', 'ImportWarning', 'IndentationError', 'IndexError', 'InterruptedError', 'IsADirectoryError', 'KeyError', 'KeyboardInterrupt', 'LookupError', 'MemoryError', 'ModuleNotFoundError', 'NameError', 'None', 'NotADirectoryError', 'NotImplemented', 'NotImplementedError', 'OSError', 'OverflowError', 'PendingDeprecationWarning', 'PermissionError', 'ProcessLookupError', 'RecursionError', 'ReferenceError', 'ResourceWarning', 'RuntimeError', 'RuntimeWarning', 'StopAsyncIteration', 'StopIteration', 'SyntaxError', 'SyntaxWarning', 'SystemError', 'SystemExit', 'TabError', 'TimeoutError', 'True', 'TypeError', 'UnboundLocalError', 'UnicodeDecodeError', 'UnicodeEncodeError', 'UnicodeError', 'UnicodeTranslateError', 'UnicodeWarning', 'UserWarning', 'ValueError', 'Warning', 'WindowsError', 'ZeroDivisionError', '__IPYTHON__', '__build_class__', '__debug__', '__doc__', '__import__', '__loader__', '__name__', '__package__', '__spec__', 'abs', 'all', 'any', 'ascii', 'bin', 'bool', 'breakpoint', 'bytearray', 'bytes', 'callable', 'chr', 'classmethod', 'compile', 'complex', 'copyright', 'credits', 'delattr', 'dict', 'dir', 'display', 'divmod', 'enumerate', 'eval', 'exec', 'execfile', 'filter', 'float', 'format', 'frozenset', 'get_ipython', 'getattr', 'globals', 'hasattr', 'hash', 'help', 'hex', 'id', 'input', 'int', 'isinstance', 'issubclass', 'iter', 'len', 'license', 'list', 'locals', 'map', 'max', 'memoryview', 'min', 'next', 'object', 'oct', 'open', 'ord', 'pow', 'print', 'property', 'range', 'repr', 'reversed', 'round', 'runfile', 'set', 'setattr', 'slice', 'sorted', 'staticmethod', 'str', 'sum', 'super', 'tuple', 'type', 'vars', 'zip']\n"
     ]
    }
   ],
   "source": [
    "import builtins\n",
    "print(\"dir(builtins) :\\n\",dir(builtins))"
   ]
  },
  {
   "cell_type": "code",
   "execution_count": 16,
   "id": "f92c9c22",
   "metadata": {},
   "outputs": [
    {
     "name": "stdout",
     "output_type": "stream",
     "text": [
      "\n",
      "유형별 예외처리\n",
      "div = 395.26\n",
      "오류정보 : [Errno 2] No such file or directory: 'test2.txt'\n",
      "finally 영역 - 항상 실행되는 영역\n"
     ]
    }
   ],
   "source": [
    "# 유형별 예외처리\n",
    "print(\"\\n유형별 예외처리\")\n",
    "try:\n",
    "    div = 1000 / 2.53\n",
    "    print(\"div = %5.2f\" %(div))\n",
    "    # div = 1000 / 0\n",
    "    f = open(\"test2.txt\", \"r\", encoding=\"utf-8\")\n",
    "    num = int(input(\"숫자 입력 : \"))\n",
    "    print(\"num :\",num)\n",
    "    \n",
    "except ZeroDivisionError as zero:   \n",
    "    print(\"오류정보 :\",zero)\n",
    "except FileNotFoundError as fnf:\n",
    "    print(\"오류정보 :\",fnf)\n",
    "except Exception as e:\n",
    "    print(\"오류정보 :\",e)\n",
    "    \n",
    "finally:\n",
    "    print(\"finally 영역 - 항상 실행되는 영역\")"
   ]
  },
  {
   "cell_type": "code",
   "execution_count": null,
   "id": "9c419ede",
   "metadata": {},
   "outputs": [],
   "source": []
  },
  {
   "cell_type": "code",
   "execution_count": null,
   "id": "ec02cd81",
   "metadata": {},
   "outputs": [],
   "source": []
  },
  {
   "cell_type": "code",
   "execution_count": null,
   "id": "9d2d3d80",
   "metadata": {},
   "outputs": [],
   "source": []
  }
 ],
 "metadata": {
  "kernelspec": {
   "display_name": "Python 3 (ipykernel)",
   "language": "python",
   "name": "python3"
  },
  "language_info": {
   "codemirror_mode": {
    "name": "ipython",
    "version": 3
   },
   "file_extension": ".py",
   "mimetype": "text/x-python",
   "name": "python",
   "nbconvert_exporter": "python",
   "pygments_lexer": "ipython3",
   "version": "3.8.12"
  }
 },
 "nbformat": 4,
 "nbformat_minor": 5
}
