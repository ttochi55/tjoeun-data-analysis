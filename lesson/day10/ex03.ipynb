{
 "cells": [
  {
   "cell_type": "markdown",
   "id": "94db183b",
   "metadata": {},
   "source": [
    "### 삼성전자 종가 데이터를 Series로 생성하기\n",
    "    "
   ]
  },
  {
   "cell_type": "code",
   "execution_count": null,
   "id": "cd6e9aa6",
   "metadata": {},
   "outputs": [],
   "source": [
    "'''\n",
    "read_csv() 함수의 parameter\n",
    "\n",
    "path : 경로\n",
    "index_col : index 로 사용할 컬럼번호나 이름\n",
    "header : 컬럼 이름으로 사용할 row의 인덱스번호 - 기본값은 0 임\n",
    "squeeze : row 하나인 경우 Seriese 를 반환함 - 기본값은 False 임\n",
    "'''"
   ]
  },
  {
   "cell_type": "code",
   "execution_count": 53,
   "id": "5a7f07b7",
   "metadata": {
    "ExecuteTime": {
     "end_time": "2022-03-14T02:14:48.127945Z",
     "start_time": "2022-03-14T02:14:48.103962Z"
    }
   },
   "outputs": [
    {
     "name": "stdout",
     "output_type": "stream",
     "text": [
      "sscp_sr : <class 'pandas.core.series.Series'>\n"
     ]
    },
    {
     "data": {
      "text/plain": [
       "Date\n",
       "2018-01-02    51020\n",
       "2018-01-03    51620\n",
       "2018-01-04    51080\n",
       "2018-01-05    52120\n",
       "2018-01-08    52020\n",
       "Name: Close, dtype: int64"
      ]
     },
     "execution_count": 53,
     "metadata": {},
     "output_type": "execute_result"
    }
   ],
   "source": [
    "import pandas as pd\n",
    "\n",
    "sscp_sr= pd.read_csv(\"data/삼성전자 종가.csv\", index_col=0, squeeze=True, header=0)\n",
    "print(\"sscp_sr :\",type(sscp_sr))\n",
    "sscp_sr.head()\n"
   ]
  },
  {
   "cell_type": "code",
   "execution_count": 2,
   "id": "e08c2de3",
   "metadata": {
    "ExecuteTime": {
     "end_time": "2022-03-14T02:09:31.015966Z",
     "start_time": "2022-03-14T02:09:31.008970Z"
    }
   },
   "outputs": [
    {
     "data": {
      "text/plain": [
       "Index(['2018-01-02', '2018-01-03', '2018-01-04', '2018-01-05', '2018-01-08',\n",
       "       '2018-01-09', '2018-01-10', '2018-01-11', '2018-01-12', '2018-01-15',\n",
       "       ...\n",
       "       '2021-12-06', '2021-12-07', '2021-12-08', '2021-12-09', '2021-12-10',\n",
       "       '2021-12-13', '2021-12-14', '2021-12-15', '2021-12-16', '2021-12-17'],\n",
       "      dtype='object', name='Date', length=977)"
      ]
     },
     "execution_count": 2,
     "metadata": {},
     "output_type": "execute_result"
    }
   ],
   "source": [
    "# read_csv()  함수를 실행할 때 squeeze parameter를 True로 지정하면\n",
    "# DataFrame 객체가 아니고 Series 객체가 생성됨\n",
    "# Date 는 index 가 되고 Close 만 data로 사용하게 됨\n",
    "sscp_sr.index"
   ]
  },
  {
   "cell_type": "code",
   "execution_count": 3,
   "id": "c5e227ca",
   "metadata": {
    "ExecuteTime": {
     "end_time": "2022-03-14T02:09:32.904305Z",
     "start_time": "2022-03-14T02:09:32.897297Z"
    }
   },
   "outputs": [
    {
     "data": {
      "text/plain": [
       "77400"
      ]
     },
     "execution_count": 3,
     "metadata": {},
     "output_type": "execute_result"
    }
   ],
   "source": [
    "# loc[index 명]  <-- 실제 data 를 반환함 : close price\n",
    "sscp_sr.loc[\"2021-12-07\"]"
   ]
  },
  {
   "cell_type": "code",
   "execution_count": 4,
   "id": "efe85765",
   "metadata": {
    "ExecuteTime": {
     "end_time": "2022-03-14T02:09:34.673129Z",
     "start_time": "2022-03-14T02:09:34.657138Z"
    }
   },
   "outputs": [
    {
     "data": {
      "text/plain": [
       "49500"
      ]
     },
     "execution_count": 4,
     "metadata": {},
     "output_type": "execute_result"
    }
   ],
   "source": [
    "# iloc[index 번호]  <-- 실제 data 를 반환함 : close price\n",
    "# 100 번째 data 값 알아보기\n",
    "sscp_sr.iloc[100]"
   ]
  },
  {
   "cell_type": "markdown",
   "id": "a76428c0",
   "metadata": {},
   "source": [
    "### Series 에 행 추가하기"
   ]
  },
  {
   "cell_type": "code",
   "execution_count": 5,
   "id": "4de4a8b6",
   "metadata": {
    "ExecuteTime": {
     "end_time": "2022-03-14T02:09:52.239282Z",
     "start_time": "2022-03-14T02:09:52.232275Z"
    }
   },
   "outputs": [
    {
     "data": {
      "text/plain": [
       "Date\n",
       "2018-01-02    51020\n",
       "2018-01-03    51620\n",
       "2018-01-04    51080\n",
       "2018-01-05    52120\n",
       "2018-01-08    52020\n",
       "              ...  \n",
       "2021-12-13    76800\n",
       "2021-12-14    77000\n",
       "2021-12-15    77600\n",
       "2021-12-16    77800\n",
       "2021-12-17    78000\n",
       "Name: Close, Length: 977, dtype: int64"
      ]
     },
     "execution_count": 5,
     "metadata": {},
     "output_type": "execute_result"
    }
   ],
   "source": [
    "sscp_sr"
   ]
  },
  {
   "cell_type": "code",
   "execution_count": 6,
   "id": "f39d033f",
   "metadata": {
    "ExecuteTime": {
     "end_time": "2022-03-14T02:09:53.938264Z",
     "start_time": "2022-03-14T02:09:53.920285Z"
    }
   },
   "outputs": [
    {
     "data": {
      "text/plain": [
       "(977,)"
      ]
     },
     "execution_count": 6,
     "metadata": {},
     "output_type": "execute_result"
    }
   ],
   "source": [
    "# sscp_sr 에 있는 data 의 개수 : shape\n",
    "sscp_sr.shape"
   ]
  },
  {
   "cell_type": "code",
   "execution_count": 7,
   "id": "09cfddc9",
   "metadata": {
    "ExecuteTime": {
     "end_time": "2022-03-14T02:09:55.479265Z",
     "start_time": "2022-03-14T02:09:55.465283Z"
    }
   },
   "outputs": [
    {
     "data": {
      "text/plain": [
       "Date\n",
       "2018-01-02    51020\n",
       "2018-01-03    51620\n",
       "2018-01-04    51080\n",
       "2018-01-05    52120\n",
       "2018-01-08    52020\n",
       "              ...  \n",
       "2021-12-14    77000\n",
       "2021-12-15    77600\n",
       "2021-12-16    77800\n",
       "2021-12-17    78000\n",
       "2021-12-24    79000\n",
       "Name: Close, Length: 978, dtype: int64"
      ]
     },
     "execution_count": 7,
     "metadata": {},
     "output_type": "execute_result"
    }
   ],
   "source": [
    "# 없는 index 이름을 지정해서 값을 할당하면 행이 추가됨\n",
    "sscp_sr.loc[\"2021-12-24\"] = 79000\n",
    "sscp_sr"
   ]
  },
  {
   "cell_type": "code",
   "execution_count": 8,
   "id": "0379c344",
   "metadata": {
    "ExecuteTime": {
     "end_time": "2022-03-14T02:09:59.563272Z",
     "start_time": "2022-03-14T02:09:59.545267Z"
    }
   },
   "outputs": [
    {
     "data": {
      "text/plain": [
       "Date\n",
       "2018-01-02    51020\n",
       "2018-01-03    51620\n",
       "2018-01-04    51080\n",
       "2018-01-05    52120\n",
       "2018-01-08    52020\n",
       "              ...  \n",
       "2021-12-14    77000\n",
       "2021-12-15    77600\n",
       "2021-12-16    77800\n",
       "2021-12-17    78230\n",
       "2021-12-24    79000\n",
       "Name: Close, Length: 978, dtype: int64"
      ]
     },
     "execution_count": 8,
     "metadata": {},
     "output_type": "execute_result"
    }
   ],
   "source": [
    "# 이미 존재하는 index 이름을 지정해서 값을 할당하면 행의 값이 변경(수정)됨\n",
    "sscp_sr.loc[\"2021-12-17\"] = 78230\n",
    "sscp_sr"
   ]
  },
  {
   "cell_type": "code",
   "execution_count": 9,
   "id": "7bbe91b7",
   "metadata": {
    "ExecuteTime": {
     "end_time": "2022-03-14T02:10:01.374261Z",
     "start_time": "2022-03-14T02:10:01.353263Z"
    }
   },
   "outputs": [
    {
     "data": {
      "text/plain": [
       "count      978.000000\n",
       "mean     57318.282209\n",
       "std      14094.637471\n",
       "min      37450.000000\n",
       "25%      46300.000000\n",
       "50%      51300.000000\n",
       "75%      70200.000000\n",
       "max      91000.000000\n",
       "Name: Close, dtype: float64"
      ]
     },
     "execution_count": 9,
     "metadata": {},
     "output_type": "execute_result"
    }
   ],
   "source": [
    "sscp_sr.describe()"
   ]
  },
  {
   "cell_type": "markdown",
   "id": "553a6eb8",
   "metadata": {},
   "source": [
    "### Series 연결하기"
   ]
  },
  {
   "cell_type": "code",
   "execution_count": 52,
   "id": "dbf260ef",
   "metadata": {
    "ExecuteTime": {
     "end_time": "2022-03-14T02:14:40.854435Z",
     "start_time": "2022-03-14T02:14:40.776955Z"
    }
   },
   "outputs": [],
   "source": [
    "sscp1_sr = pd.read_excel(\"data/samsung_excel.xlsx\", sheet_name=\"Sheet1\", index_col=0, squeeze=True)\n",
    "sscp2_sr = pd.read_excel(\"data/samsung_excel.xlsx\", sheet_name=\"Sheet2\", index_col=0, squeeze=True)"
   ]
  },
  {
   "cell_type": "code",
   "execution_count": 11,
   "id": "86043bf2",
   "metadata": {
    "ExecuteTime": {
     "end_time": "2022-03-14T02:10:05.383767Z",
     "start_time": "2022-03-14T02:10:05.376772Z"
    }
   },
   "outputs": [
    {
     "data": {
      "text/plain": [
       "Date\n",
       "2018-01-02    51020\n",
       "2018-01-03    51620\n",
       "2018-01-04    51080\n",
       "2018-01-05    52120\n",
       "2018-01-08    52020\n",
       "              ...  \n",
       "2019-12-23    55500\n",
       "2019-12-24    55000\n",
       "2019-12-26    55400\n",
       "2019-12-27    56500\n",
       "2019-12-30    55800\n",
       "Name: Close, Length: 490, dtype: int64"
      ]
     },
     "execution_count": 11,
     "metadata": {},
     "output_type": "execute_result"
    }
   ],
   "source": [
    "sscp1_sr"
   ]
  },
  {
   "cell_type": "code",
   "execution_count": 12,
   "id": "7b5bbc2e",
   "metadata": {
    "ExecuteTime": {
     "end_time": "2022-03-14T02:10:07.273403Z",
     "start_time": "2022-03-14T02:10:07.266408Z"
    }
   },
   "outputs": [
    {
     "data": {
      "text/plain": [
       "Date\n",
       "2020-01-02    55200\n",
       "2020-01-03    55500\n",
       "2020-01-06    55500\n",
       "2020-01-07    55800\n",
       "2020-01-08    56800\n",
       "              ...  \n",
       "2021-12-20    77100\n",
       "2021-12-21    78100\n",
       "2021-12-22    79400\n",
       "2021-12-23    79900\n",
       "2021-12-24    80500\n",
       "Name: Close, Length: 492, dtype: int64"
      ]
     },
     "execution_count": 12,
     "metadata": {},
     "output_type": "execute_result"
    }
   ],
   "source": [
    "sscp2_sr"
   ]
  },
  {
   "cell_type": "code",
   "execution_count": 13,
   "id": "ecb3bf80",
   "metadata": {
    "ExecuteTime": {
     "end_time": "2022-03-14T02:10:09.290892Z",
     "start_time": "2022-03-14T02:10:09.280898Z"
    }
   },
   "outputs": [
    {
     "data": {
      "text/plain": [
       "Date\n",
       "2018-01-02    51020\n",
       "2018-01-03    51620\n",
       "2018-01-04    51080\n",
       "2018-01-05    52120\n",
       "2018-01-08    52020\n",
       "              ...  \n",
       "2021-12-20    77100\n",
       "2021-12-21    78100\n",
       "2021-12-22    79400\n",
       "2021-12-23    79900\n",
       "2021-12-24    80500\n",
       "Name: Close, Length: 982, dtype: int64"
      ]
     },
     "execution_count": 13,
     "metadata": {},
     "output_type": "execute_result"
    }
   ],
   "source": [
    "# ignore_index : 기본값은 False \n",
    "#              - True 로 하면 sscp3_sr 의 index 가 0, 1, 2... 로 지정됨\n",
    "sscp3_sr = sscp1_sr.append(sscp2_sr, ignore_index=False)\n",
    "sscp3_sr"
   ]
  },
  {
   "cell_type": "code",
   "execution_count": 14,
   "id": "be9fed70",
   "metadata": {
    "ExecuteTime": {
     "end_time": "2022-03-14T02:10:11.123327Z",
     "start_time": "2022-03-14T02:10:11.113323Z"
    }
   },
   "outputs": [
    {
     "data": {
      "text/plain": [
       "91000"
      ]
     },
     "execution_count": 14,
     "metadata": {},
     "output_type": "execute_result"
    }
   ],
   "source": [
    "# 삼성전자의 고점과 저점\n",
    "sscp_sr.max()"
   ]
  },
  {
   "cell_type": "code",
   "execution_count": 15,
   "id": "4020dc09",
   "metadata": {
    "ExecuteTime": {
     "end_time": "2022-03-14T02:10:13.123257Z",
     "start_time": "2022-03-14T02:10:13.104266Z"
    }
   },
   "outputs": [
    {
     "data": {
      "text/plain": [
       "37450"
      ]
     },
     "execution_count": 15,
     "metadata": {},
     "output_type": "execute_result"
    }
   ],
   "source": [
    "sscp_sr.min()"
   ]
  },
  {
   "cell_type": "code",
   "execution_count": 16,
   "id": "975bde3f",
   "metadata": {
    "ExecuteTime": {
     "end_time": "2022-03-14T02:10:14.682254Z",
     "start_time": "2022-03-14T02:10:14.664249Z"
    }
   },
   "outputs": [
    {
     "data": {
      "text/plain": [
       "Index(['2021-01-11'], dtype='object', name='Date')"
      ]
     },
     "execution_count": 16,
     "metadata": {},
     "output_type": "execute_result"
    }
   ],
   "source": [
    "sscp_sr.index[sscp_sr.values == sscp_sr.max()]"
   ]
  },
  {
   "cell_type": "code",
   "execution_count": 17,
   "id": "a221fd8f",
   "metadata": {
    "ExecuteTime": {
     "end_time": "2022-03-14T02:10:16.171248Z",
     "start_time": "2022-03-14T02:10:16.152256Z"
    }
   },
   "outputs": [
    {
     "data": {
      "text/plain": [
       "Index(['2019-01-04'], dtype='object', name='Date')"
      ]
     },
     "execution_count": 17,
     "metadata": {},
     "output_type": "execute_result"
    }
   ],
   "source": [
    "sscp_sr.index[sscp_sr.values == sscp_sr.min()]"
   ]
  },
  {
   "cell_type": "code",
   "execution_count": 18,
   "id": "c9fdb033",
   "metadata": {
    "ExecuteTime": {
     "end_time": "2022-03-14T02:10:18.046242Z",
     "start_time": "2022-03-14T02:10:18.040255Z"
    }
   },
   "outputs": [
    {
     "data": {
      "text/plain": [
       "37450"
      ]
     },
     "execution_count": 18,
     "metadata": {},
     "output_type": "execute_result"
    }
   ],
   "source": [
    "sscp_sr.iloc[sscp_sr.argmin()]"
   ]
  },
  {
   "cell_type": "code",
   "execution_count": 19,
   "id": "6ef45506",
   "metadata": {
    "ExecuteTime": {
     "end_time": "2022-03-14T02:10:19.462241Z",
     "start_time": "2022-03-14T02:10:19.456255Z"
    }
   },
   "outputs": [
    {
     "data": {
      "text/plain": [
       "91000"
      ]
     },
     "execution_count": 19,
     "metadata": {},
     "output_type": "execute_result"
    }
   ],
   "source": [
    "sscp_sr.iloc[sscp_sr.argmax()]"
   ]
  },
  {
   "cell_type": "code",
   "execution_count": 20,
   "id": "4949bf35",
   "metadata": {
    "ExecuteTime": {
     "end_time": "2022-03-14T02:10:20.970233Z",
     "start_time": "2022-03-14T02:10:20.952253Z"
    }
   },
   "outputs": [
    {
     "name": "stdout",
     "output_type": "stream",
     "text": [
      "<class 'str'>\n"
     ]
    },
    {
     "data": {
      "text/plain": [
       "'2019-01-04'"
      ]
     },
     "execution_count": 20,
     "metadata": {},
     "output_type": "execute_result"
    }
   ],
   "source": [
    "print(type(sscp_sr.index[sscp_sr.argmin()]))\n",
    "sscp_sr.index[sscp_sr.argmin()]"
   ]
  },
  {
   "cell_type": "code",
   "execution_count": 21,
   "id": "b608abed",
   "metadata": {
    "ExecuteTime": {
     "end_time": "2022-03-14T02:10:22.862238Z",
     "start_time": "2022-03-14T02:10:22.856251Z"
    }
   },
   "outputs": [
    {
     "data": {
      "text/plain": [
       "'2021-01-11'"
      ]
     },
     "execution_count": 21,
     "metadata": {},
     "output_type": "execute_result"
    }
   ],
   "source": [
    "sscp_sr.index[sscp_sr.argmax()]"
   ]
  },
  {
   "cell_type": "markdown",
   "id": "1148da60",
   "metadata": {},
   "source": [
    "### 삼성전자 수익률"
   ]
  },
  {
   "cell_type": "code",
   "execution_count": 51,
   "id": "197ae12d",
   "metadata": {
    "ExecuteTime": {
     "end_time": "2022-03-14T02:14:31.467747Z",
     "start_time": "2022-03-14T02:14:31.456764Z"
    }
   },
   "outputs": [
    {
     "data": {
      "text/plain": [
       "Date\n",
       "2018-01-02    51020\n",
       "2018-01-03    51620\n",
       "2018-01-04    51080\n",
       "2018-01-05    52120\n",
       "2018-01-08    52020\n",
       "              ...  \n",
       "2021-12-13    76800\n",
       "2021-12-14    77000\n",
       "2021-12-15    77600\n",
       "2021-12-16    77800\n",
       "2021-12-17    78000\n",
       "Name: Close, Length: 977, dtype: int64"
      ]
     },
     "execution_count": 51,
     "metadata": {},
     "output_type": "execute_result"
    }
   ],
   "source": [
    "sscp_sr= pd.read_csv(\"data/삼성전자 종가.csv\", index_col=0, squeeze=True, header=0)\n",
    "sscp_sr"
   ]
  },
  {
   "cell_type": "code",
   "execution_count": 36,
   "id": "3bbe93ff",
   "metadata": {
    "ExecuteTime": {
     "end_time": "2022-03-14T02:12:33.666101Z",
     "start_time": "2022-03-14T02:12:33.648095Z"
    }
   },
   "outputs": [
    {
     "data": {
      "text/plain": [
       "Date\n",
       "2018-01-02        NaN\n",
       "2018-01-03    51020.0\n",
       "2018-01-04    51620.0\n",
       "2018-01-05    51080.0\n",
       "2018-01-08    52120.0\n",
       "               ...   \n",
       "2021-12-13    76900.0\n",
       "2021-12-14    76800.0\n",
       "2021-12-15    77000.0\n",
       "2021-12-16    77600.0\n",
       "2021-12-17    77800.0\n",
       "Name: Close, Length: 977, dtype: float64"
      ]
     },
     "execution_count": 36,
     "metadata": {},
     "output_type": "execute_result"
    }
   ],
   "source": [
    "sscp_sr.shift(1)"
   ]
  },
  {
   "cell_type": "code",
   "execution_count": 37,
   "id": "b66070db",
   "metadata": {
    "ExecuteTime": {
     "end_time": "2022-03-14T02:12:35.549097Z",
     "start_time": "2022-03-14T02:12:35.529094Z"
    }
   },
   "outputs": [
    {
     "data": {
      "text/plain": [
       "Date\n",
       "2018-01-02       NaN\n",
       "2018-01-03     600.0\n",
       "2018-01-04    -540.0\n",
       "2018-01-05    1040.0\n",
       "2018-01-08    -100.0\n",
       "               ...  \n",
       "2021-12-13    -100.0\n",
       "2021-12-14     200.0\n",
       "2021-12-15     600.0\n",
       "2021-12-16     200.0\n",
       "2021-12-17     200.0\n",
       "Name: Close, Length: 977, dtype: float64"
      ]
     },
     "execution_count": 37,
     "metadata": {},
     "output_type": "execute_result"
    }
   ],
   "source": [
    "sscp_sr - sscp_sr.shift(1)"
   ]
  },
  {
   "cell_type": "code",
   "execution_count": 39,
   "id": "77deef2e",
   "metadata": {
    "ExecuteTime": {
     "end_time": "2022-03-14T02:13:10.633055Z",
     "start_time": "2022-03-14T02:13:10.624060Z"
    }
   },
   "outputs": [
    {
     "data": {
      "text/plain": [
       "Date\n",
       "2018-01-02         NaN\n",
       "2018-01-03    1.176009\n",
       "2018-01-04   -1.046106\n",
       "2018-01-05    2.036022\n",
       "2018-01-08   -0.191865\n",
       "                ...   \n",
       "2021-12-13   -0.130039\n",
       "2021-12-14    0.260417\n",
       "2021-12-15    0.779221\n",
       "2021-12-16    0.257732\n",
       "2021-12-17    0.257069\n",
       "Name: Close, Length: 977, dtype: float64"
      ]
     },
     "execution_count": 39,
     "metadata": {},
     "output_type": "execute_result"
    }
   ],
   "source": [
    "return_value = (sscp_sr - sscp_sr.shift(1)) / sscp_sr.shift(1)\n",
    "return_value = return_value * 100\n",
    "return_value"
   ]
  },
  {
   "cell_type": "code",
   "execution_count": 40,
   "id": "bb88933f",
   "metadata": {
    "ExecuteTime": {
     "end_time": "2022-03-14T02:13:12.830047Z",
     "start_time": "2022-03-14T02:13:12.816065Z"
    }
   },
   "outputs": [
    {
     "data": {
      "text/plain": [
       "10.470588235294118"
      ]
     },
     "execution_count": 40,
     "metadata": {},
     "output_type": "execute_result"
    }
   ],
   "source": [
    "return_value.max()"
   ]
  },
  {
   "cell_type": "code",
   "execution_count": 41,
   "id": "479047b5",
   "metadata": {
    "ExecuteTime": {
     "end_time": "2022-03-14T02:13:14.561056Z",
     "start_time": "2022-03-14T02:13:14.552061Z"
    }
   },
   "outputs": [
    {
     "data": {
      "text/plain": [
       "'2020-03-24'"
      ]
     },
     "execution_count": 41,
     "metadata": {},
     "output_type": "execute_result"
    }
   ],
   "source": [
    "return_value.index[return_value.argmax()]"
   ]
  },
  {
   "cell_type": "markdown",
   "id": "d6fbd017",
   "metadata": {},
   "source": [
    "### NaN 값 삭제하기 - dropna() 메소드 사용"
   ]
  },
  {
   "cell_type": "code",
   "execution_count": 43,
   "id": "115c5ef1",
   "metadata": {
    "ExecuteTime": {
     "end_time": "2022-03-14T02:13:26.954042Z",
     "start_time": "2022-03-14T02:13:26.944047Z"
    }
   },
   "outputs": [
    {
     "data": {
      "text/plain": [
       "Date\n",
       "2018-01-02         NaN\n",
       "2018-01-03    1.176009\n",
       "2018-01-04   -1.046106\n",
       "2018-01-05    2.036022\n",
       "2018-01-08   -0.191865\n",
       "                ...   \n",
       "2021-12-13   -0.130039\n",
       "2021-12-14    0.260417\n",
       "2021-12-15    0.779221\n",
       "2021-12-16    0.257732\n",
       "2021-12-17    0.257069\n",
       "Name: Close, Length: 977, dtype: float64"
      ]
     },
     "execution_count": 43,
     "metadata": {},
     "output_type": "execute_result"
    }
   ],
   "source": [
    "return_value = (sscp_sr - sscp_sr.shift(1)) / sscp_sr.shift(1)\n",
    "return_value = return_value * 100\n",
    "return_value"
   ]
  },
  {
   "cell_type": "code",
   "execution_count": 44,
   "id": "e4775ce5",
   "metadata": {
    "ExecuteTime": {
     "end_time": "2022-03-14T02:13:29.573030Z",
     "start_time": "2022-03-14T02:13:29.561037Z"
    }
   },
   "outputs": [
    {
     "data": {
      "text/plain": [
       "Date\n",
       "2018-01-03    1.176009\n",
       "2018-01-04   -1.046106\n",
       "2018-01-05    2.036022\n",
       "2018-01-08   -0.191865\n",
       "2018-01-09   -3.114187\n",
       "                ...   \n",
       "2021-12-13   -0.130039\n",
       "2021-12-14    0.260417\n",
       "2021-12-15    0.779221\n",
       "2021-12-16    0.257732\n",
       "2021-12-17    0.257069\n",
       "Name: Close, Length: 976, dtype: float64"
      ]
     },
     "execution_count": 44,
     "metadata": {},
     "output_type": "execute_result"
    }
   ],
   "source": [
    "# 결측치 삭제하기\n",
    "return_value.dropna()"
   ]
  },
  {
   "cell_type": "code",
   "execution_count": 45,
   "id": "5cf91838",
   "metadata": {
    "ExecuteTime": {
     "end_time": "2022-03-14T02:13:31.766029Z",
     "start_time": "2022-03-14T02:13:31.760046Z"
    }
   },
   "outputs": [
    {
     "data": {
      "text/plain": [
       "Date\n",
       "2018-01-02    0.000000\n",
       "2018-01-03    1.176009\n",
       "2018-01-04   -1.046106\n",
       "2018-01-05    2.036022\n",
       "2018-01-08   -0.191865\n",
       "                ...   \n",
       "2021-12-13   -0.130039\n",
       "2021-12-14    0.260417\n",
       "2021-12-15    0.779221\n",
       "2021-12-16    0.257732\n",
       "2021-12-17    0.257069\n",
       "Name: Close, Length: 977, dtype: float64"
      ]
     },
     "execution_count": 45,
     "metadata": {},
     "output_type": "execute_result"
    }
   ],
   "source": [
    "# 결측치 를 0 으로 바꾸기\n",
    "return_value.fillna(0)"
   ]
  },
  {
   "cell_type": "code",
   "execution_count": 46,
   "id": "3dde6e38",
   "metadata": {
    "ExecuteTime": {
     "end_time": "2022-03-14T02:13:33.498019Z",
     "start_time": "2022-03-14T02:13:33.488035Z"
    }
   },
   "outputs": [
    {
     "data": {
      "text/plain": [
       "Date\n",
       "2018-01-02         NaN\n",
       "2018-01-03    1.176009\n",
       "2018-01-04   -1.046106\n",
       "2018-01-05    2.036022\n",
       "2018-01-08   -0.191865\n",
       "                ...   \n",
       "2021-12-13   -0.130039\n",
       "2021-12-14    0.260417\n",
       "2021-12-15    0.779221\n",
       "2021-12-16    0.257732\n",
       "2021-12-17    0.257069\n",
       "Name: Close, Length: 977, dtype: float64"
      ]
     },
     "execution_count": 46,
     "metadata": {},
     "output_type": "execute_result"
    }
   ],
   "source": [
    "# index 순서대로 정렬하기\n",
    "return_value.sort_index(ascending=True)"
   ]
  },
  {
   "cell_type": "code",
   "execution_count": 47,
   "id": "3049ca4b",
   "metadata": {
    "ExecuteTime": {
     "end_time": "2022-03-14T02:13:35.107663Z",
     "start_time": "2022-03-14T02:13:35.096669Z"
    }
   },
   "outputs": [
    {
     "data": {
      "text/plain": [
       "Date\n",
       "2018-01-02         NaN\n",
       "2018-01-03    1.176009\n",
       "2018-01-04   -1.046106\n",
       "2018-01-05    2.036022\n",
       "2018-01-08   -0.191865\n",
       "                ...   \n",
       "2021-12-13   -0.130039\n",
       "2021-12-14    0.260417\n",
       "2021-12-15    0.779221\n",
       "2021-12-16    0.257732\n",
       "2021-12-17    0.257069\n",
       "Name: Close, Length: 977, dtype: float64"
      ]
     },
     "execution_count": 47,
     "metadata": {},
     "output_type": "execute_result"
    }
   ],
   "source": [
    "return_value.sort_index()"
   ]
  },
  {
   "cell_type": "code",
   "execution_count": 48,
   "id": "6354742d",
   "metadata": {
    "ExecuteTime": {
     "end_time": "2022-03-14T02:13:37.474300Z",
     "start_time": "2022-03-14T02:13:37.457293Z"
    }
   },
   "outputs": [
    {
     "data": {
      "text/plain": [
       "Date\n",
       "2018-01-02         NaN\n",
       "2018-01-03    1.176009\n",
       "2018-01-04   -1.046106\n",
       "2018-01-05    2.036022\n",
       "2018-01-08   -0.191865\n",
       "Name: Close, dtype: float64"
      ]
     },
     "execution_count": 48,
     "metadata": {},
     "output_type": "execute_result"
    }
   ],
   "source": [
    "return_value.sort_index(ascending=True).head(5)"
   ]
  },
  {
   "cell_type": "code",
   "execution_count": 49,
   "id": "f2241941",
   "metadata": {
    "ExecuteTime": {
     "end_time": "2022-03-14T02:13:39.456018Z",
     "start_time": "2022-03-14T02:13:39.448023Z"
    },
    "scrolled": true
   },
   "outputs": [
    {
     "data": {
      "text/plain": [
       "Date\n",
       "2018-03-06     4.026549\n",
       "2018-09-14     4.086266\n",
       "2018-11-02     4.744958\n",
       "2019-03-21     4.086266\n",
       "2020-03-20     5.704307\n",
       "2020-03-24    10.470588\n",
       "2020-04-17     4.897959\n",
       "2020-06-03     6.031128\n",
       "2020-06-16     4.408818\n",
       "2020-07-28     5.395683\n",
       "2020-11-16     4.905063\n",
       "2020-11-23     4.327666\n",
       "2020-12-24     5.277402\n",
       "2021-01-08     7.117008\n",
       "2021-02-25     4.024390\n",
       "2021-11-22     5.196629\n",
       "2021-12-01     4.347826\n",
       "Name: Close, dtype: float64"
      ]
     },
     "execution_count": 49,
     "metadata": {},
     "output_type": "execute_result"
    }
   ],
   "source": [
    "return_value[return_value.values >= 4]"
   ]
  },
  {
   "cell_type": "code",
   "execution_count": 50,
   "id": "b03127d2",
   "metadata": {
    "ExecuteTime": {
     "end_time": "2022-03-14T02:13:42.482154Z",
     "start_time": "2022-03-14T02:13:41.864020Z"
    }
   },
   "outputs": [
    {
     "data": {
      "text/plain": [
       "<AxesSubplot:xlabel='Date'>"
      ]
     },
     "execution_count": 50,
     "metadata": {},
     "output_type": "execute_result"
    },
    {
     "data": {
      "image/png": "[encoded data removed]",
      "text/plain": [
       "<Figure size 432x288 with 1 Axes>"
      ]
     },
     "metadata": {
      "needs_background": "light"
     },
     "output_type": "display_data"
    }
   ],
   "source": [
    "sscp_sr.rolling(window=30).mean().plot()"
   ]
  }
 ],
 "metadata": {
  "hide_input": false,
  "kernelspec": {
   "display_name": "Python 3 (ipykernel)",
   "language": "python",
   "name": "python3"
  },
  "language_info": {
   "codemirror_mode": {
    "name": "ipython",
    "version": 3
   },
   "file_extension": ".py",
   "mimetype": "text/x-python",
   "name": "python",
   "nbconvert_exporter": "python",
   "pygments_lexer": "ipython3",
   "version": "3.9.7"
  },
  "toc": {
   "base_numbering": 1,
   "nav_menu": {},
   "number_sections": true,
   "sideBar": true,
   "skip_h1_title": false,
   "title_cell": "Table of Contents",
   "title_sidebar": "Contents",
   "toc_cell": false,
   "toc_position": {},
   "toc_section_display": true,
   "toc_window_display": false
  },
  "varInspector": {
   "cols": {
    "lenName": 16,
    "lenType": 16,
    "lenVar": 40
   },
   "kernels_config": {
    "python": {
     "delete_cmd_postfix": "",
     "delete_cmd_prefix": "del ",
     "library": "var_list.py",
     "varRefreshCmd": "print(var_dic_list())"
    },
    "r": {
     "delete_cmd_postfix": ") ",
     "delete_cmd_prefix": "rm(",
     "library": "var_list.r",
     "varRefreshCmd": "cat(var_dic_list()) "
    }
   },
   "types_to_exclude": [
    "module",
    "function",
    "builtin_function_or_method",
    "instance",
    "_Feature"
   ],
   "window_display": false
  }
 },
 "nbformat": 4,
 "nbformat_minor": 5
}
