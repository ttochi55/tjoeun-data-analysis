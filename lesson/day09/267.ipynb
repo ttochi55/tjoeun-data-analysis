{
 "cells": [
  {
   "cell_type": "code",
   "execution_count": 1,
   "id": "a826ef0f",
   "metadata": {
    "scrolled": true
   },
   "outputs": [
    {
     "name": "stdout",
     "output_type": "stream",
     "text": [
      "<!DOCTYPE html>\n",
      "\n",
      "<html lang=\"en\">\n",
      "<head>\n",
      "<meta charset=\"utf-8\"/>\n",
      "<meta content=\"IE=edge\" http-equiv=\"X-UA-Compatible\"/>\n",
      "<meta content=\"width=device-width, initial-scale=1.0\" name=\"viewport\"/>\n",
      "<title>id/class 선택자, 표 꾸미기</title>\n",
      "<style type=\"text/css\">\n",
      "  table{\n",
      "     border-collapse : collapse; /* 중복 테두리 제거 */\n",
      "     border : 3px solid black; /* 테두리 굵기 실선 색 */\n",
      "     width: 80%; /* 화면 전체 폭 */\n",
      "     text-align: center;  /* 텍스트 정렬 방식 */\n",
      "  }\n",
      "  tr{\n",
      "     height: 24px;  /* 줄 간격 */\n",
      "     font-size: 13px; /* 글자 크기 */\n",
      "  }\n",
      "  /* 행 위에 마우스 오버 시 */\n",
      "  tr:hover{\n",
      "     color: #ffffff; /* 글자색 흰색 */\n",
      "     font-weight: bold; /* 굵게 */\n",
      "     background-color: #00ccff; /* 배경색 : 하늘색 계열 */\n",
      "     cursor: pointer;  /* 커서 모양 변경 */   \n",
      "  }\n",
      "  /* 표 제목 열 스타일 적용 */\n",
      "  th{\n",
      "     height: 25px;\n",
      "     font-size: 14px;\n",
      "     background-color: #e0bbd2; /* RGB 색상표 - NAVER */  \n",
      "  }\n",
      "  /* 형식 : #id이름{ 속성 : 값; } - 이름 중복 불가능 */\n",
      "  #id{width : 15%}\n",
      "  #name{width: 10%}\n",
      "  #major{width: 25%}\n",
      "  #email{width: 60%}\n",
      "  /* 형식 : .class이름{ 속성 : 값;} - 이름 중복 가능 */\n",
      "  .odd{background-color: #F2FF9D;} /* 홀수행 배경색 적용 */\n",
      "</style>\n",
      "</head>\n",
      "<body>\n",
      "<table border=\"1\" id=\"tab\">\n",
      "<tr> <!-- 1행 -->\n",
      "<!-- 제목 열 : th -->\n",
      "<th id=\"id\"> 학번 </th>\n",
      "<th id=\"name\"> 이름 </th>\n",
      "<th id=\"major\"> 학과 </th>\n",
      "<th id=\"email\"> 이메일 </th>\n",
      "</tr>\n",
      "<tr> <!-- 2행 -->\n",
      "<td> 201601 </td>\n",
      "<td> 홍길동 </td>\n",
      "<td> 체육학과 </td>\n",
      "<td> hong@naver.com </td>\n",
      "</tr>\n",
      "<tr class=\"odd\"> <!-- 3행(홀수) -->\n",
      "<td> 201602 </td>\n",
      "<td> 이순신 </td>\n",
      "<td> 해양학과 </td>\n",
      "<td> lee@naver.com </td>\n",
      "</tr>\n",
      "<tr> <!-- 4행 -->\n",
      "<td> 201603 </td>\n",
      "<td> 강감찬 </td>\n",
      "<td> 정치외교 </td>\n",
      "<td> kang@naver.com </td>\n",
      "</tr>\n",
      "<tr class=\"odd\"> <!-- 5행 -->\n",
      "<td> 201604 </td>\n",
      "<td> 유관순 </td>\n",
      "<td> 유아교육 </td>\n",
      "<td> you@naver.com </td>\n",
      "</tr>\n",
      "</table>\n",
      "</body>\n",
      "</html>\n",
      "\n"
     ]
    }
   ],
   "source": [
    "'''\n",
    "- 선택자(selector) 이용 내용 추출하기\n",
    "  -> 웹 문서 디자인(css)용으로 사용\n",
    "  -> 선택자 : id(#), class(.) \n",
    "  -> soup.select_one('#id') : 하나의 요소 추출 \n",
    "  -> soup.select('.class') : 여러 개의 요소 추출 \n",
    "'''\n",
    "\n",
    "from bs4 import BeautifulSoup\n",
    "\n",
    "# 1. html source 가져오기 \n",
    "file = open('C:/Users/user/python_week/test/day09/data2/html03.html', mode='r', encoding='utf-8')\n",
    "source = file.read()\n",
    "\n",
    "# 2. html 파싱\n",
    "html = BeautifulSoup(source, 'html.parser')\n",
    "print(html)"
   ]
  },
  {
   "cell_type": "code",
   "execution_count": 2,
   "id": "eb45f23d",
   "metadata": {},
   "outputs": [
    {
     "name": "stdout",
     "output_type": "stream",
     "text": [
      ">> table 선택자 <<\n",
      "<table border=\"1\" id=\"tab\">\n",
      "<tr> <!-- 1행 -->\n",
      "<!-- 제목 열 : th -->\n",
      "<th id=\"id\"> 학번 </th>\n",
      "<th id=\"name\"> 이름 </th>\n",
      "<th id=\"major\"> 학과 </th>\n",
      "<th id=\"email\"> 이메일 </th>\n",
      "</tr>\n",
      "<tr> <!-- 2행 -->\n",
      "<td> 201601 </td>\n",
      "<td> 홍길동 </td>\n",
      "<td> 체육학과 </td>\n",
      "<td> hong@naver.com </td>\n",
      "</tr>\n",
      "<tr class=\"odd\"> <!-- 3행(홀수) -->\n",
      "<td> 201602 </td>\n",
      "<td> 이순신 </td>\n",
      "<td> 해양학과 </td>\n",
      "<td> lee@naver.com </td>\n",
      "</tr>\n",
      "<tr> <!-- 4행 -->\n",
      "<td> 201603 </td>\n",
      "<td> 강감찬 </td>\n",
      "<td> 정치외교 </td>\n",
      "<td> kang@naver.com </td>\n",
      "</tr>\n",
      "<tr class=\"odd\"> <!-- 5행 -->\n",
      "<td> 201604 </td>\n",
      "<td> 유관순 </td>\n",
      "<td> 유아교육 </td>\n",
      "<td> you@naver.com </td>\n",
      "</tr>\n",
      "</table>\n"
     ]
    }
   ],
   "source": [
    "# 3. 선택자 이용 태그 내용 가져오기 \n",
    "# 1) id 선택자\n",
    "print('>> table 선택자 <<') \n",
    "table = html.select_one('#tab') # <table id='tab'>\n",
    "print(table) # 1개 element "
   ]
  },
  {
   "cell_type": "code",
   "execution_count": 3,
   "id": "f58ffc72",
   "metadata": {},
   "outputs": [
    {
     "name": "stdout",
     "output_type": "stream",
     "text": [
      " 학번 \n",
      " 이름 \n",
      " 학과 \n",
      " 이메일 \n"
     ]
    }
   ],
   "source": [
    "ths = table.find_all('th')\n",
    "for th in ths :\n",
    "    print(th.string)"
   ]
  },
  {
   "cell_type": "code",
   "execution_count": 6,
   "id": "6516e316",
   "metadata": {},
   "outputs": [
    {
     "name": "stdout",
     "output_type": "stream",
     "text": [
      ">> 선택자 & 계층 <<\n",
      "[<th id=\"id\"> 학번 </th>, <th id=\"name\"> 이름 </th>, <th id=\"major\"> 학과 </th>, <th id=\"email\"> 이메일 </th>]\n",
      "--------------------------------------------------\n",
      "<th id=\"id\"> 학번 </th>\n",
      "<th id=\"name\"> 이름 </th>\n",
      "<th id=\"major\"> 학과 </th>\n",
      "<th id=\"email\"> 이메일 </th>\n"
     ]
    }
   ],
   "source": [
    "print('>> 선택자 & 계층 <<')\n",
    "ths = html.select('#tab > tr > th')\n",
    "print(ths) # list\n",
    "print(\"-\" * 50)\n",
    "for th in ths :\n",
    "    print(th)"
   ]
  },
  {
   "cell_type": "code",
   "execution_count": 7,
   "id": "08d2d213",
   "metadata": {},
   "outputs": [
    {
     "name": "stdout",
     "output_type": "stream",
     "text": [
      " 학번 \n",
      " 이름 \n",
      " 학과 \n",
      " 이메일 \n"
     ]
    }
   ],
   "source": [
    "for th in ths :\n",
    "    print(th.string)"
   ]
  },
  {
   "cell_type": "code",
   "execution_count": 8,
   "id": "32717075",
   "metadata": {},
   "outputs": [
    {
     "name": "stdout",
     "output_type": "stream",
     "text": [
      "[<tr class=\"odd\"> <!-- 3행(홀수) -->\n",
      "<td> 201602 </td>\n",
      "<td> 이순신 </td>\n",
      "<td> 해양학과 </td>\n",
      "<td> lee@naver.com </td>\n",
      "</tr>, <tr class=\"odd\"> <!-- 5행 -->\n",
      "<td> 201604 </td>\n",
      "<td> 유관순 </td>\n",
      "<td> 유아교육 </td>\n",
      "<td> you@naver.com </td>\n",
      "</tr>]\n"
     ]
    }
   ],
   "source": [
    "# 2) class 선택자 : tr tag class='odd'\n",
    "trs = html.select(\"#tab > .odd\")  # 홀수 행\n",
    "print(trs)"
   ]
  },
  {
   "cell_type": "code",
   "execution_count": 9,
   "id": "db616519",
   "metadata": {},
   "outputs": [
    {
     "name": "stdout",
     "output_type": "stream",
     "text": [
      "### tr > td 출력 ### \n",
      " 201602 \n",
      " 이순신 \n",
      " 해양학과 \n",
      " lee@naver.com \n",
      " 201604 \n",
      " 유관순 \n",
      " 유아교육 \n",
      " you@naver.com \n"
     ]
    }
   ],
   "source": [
    "print('### tr > td 출력 ### ')\n",
    "for tr in trs : # 행 : 2회 반복 \n",
    "    #print(tr)\n",
    "    tds = tr.find_all('td')\n",
    "    for td in tds : # 열 \n",
    "        print(td.string)"
   ]
  },
  {
   "cell_type": "code",
   "execution_count": 10,
   "id": "a8db5571",
   "metadata": {
    "scrolled": true
   },
   "outputs": [
    {
     "name": "stdout",
     "output_type": "stream",
     "text": [
      "[<tr class=\"odd\"> <!-- 3행(홀수) -->\n",
      "<td> 201602 </td>\n",
      "<td> 이순신 </td>\n",
      "<td> 해양학과 </td>\n",
      "<td> lee@naver.com </td>\n",
      "</tr>, <tr class=\"odd\"> <!-- 5행 -->\n",
      "<td> 201604 </td>\n",
      "<td> 유관순 </td>\n",
      "<td> 유아교육 </td>\n",
      "<td> you@naver.com </td>\n",
      "</tr>]\n"
     ]
    }
   ],
   "source": [
    "# 4) 태그[속성=값] 찾기 \n",
    "trs = html.select(\"tr[class=odd]\")\n",
    "print(trs)"
   ]
  },
  {
   "cell_type": "code",
   "execution_count": 11,
   "id": "655c05d0",
   "metadata": {},
   "outputs": [
    {
     "name": "stdout",
     "output_type": "stream",
     "text": [
      "### tr > td 출력 ### \n",
      " 201602 \n",
      " 이순신 \n",
      " 해양학과 \n",
      " lee@naver.com \n",
      " 201604 \n",
      " 유관순 \n",
      " 유아교육 \n",
      " you@naver.com \n"
     ]
    }
   ],
   "source": [
    "print('### tr > td 출력 ### ')\n",
    "for tr in trs : # 행 : 2회 반복 \n",
    "    #print(tr)\n",
    "    tds = tr.find_all('td')\n",
    "    for td in tds : # 열 \n",
    "        print(td.string)"
   ]
  }
 ],
 "metadata": {
  "kernelspec": {
   "display_name": "Python 3 (ipykernel)",
   "language": "python",
   "name": "python3"
  },
  "language_info": {
   "codemirror_mode": {
    "name": "ipython",
    "version": 3
   },
   "file_extension": ".py",
   "mimetype": "text/x-python",
   "name": "python",
   "nbconvert_exporter": "python",
   "pygments_lexer": "ipython3",
   "version": "3.8.12"
  }
 },
 "nbformat": 4,
 "nbformat_minor": 5
}
