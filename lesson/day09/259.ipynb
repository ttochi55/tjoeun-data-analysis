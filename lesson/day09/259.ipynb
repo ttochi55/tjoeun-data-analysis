{
 "cells": [
  {
   "cell_type": "code",
   "execution_count": null,
   "id": "99be0124",
   "metadata": {},
   "outputs": [],
   "source": [
    "'''\n",
    "1. tag 이름으로 찾기 \n",
    "2. find('tag')함수 찾기 \n",
    "'''\n",
    "\n",
    "from bs4 import BeautifulSoup\n",
    "\n",
    "# 1. 로컬 서버 파일 읽기 \n",
    "file = open('C:/Users/user/python_week/test/day09/data2/html01.html', mode='r', encoding='utf-8')\n",
    "text = file.read()\n",
    "print(text)"
   ]
  },
  {
   "cell_type": "code",
   "execution_count": 2,
   "id": "92b80d86",
   "metadata": {},
   "outputs": [
    {
     "name": "stdout",
     "output_type": "stream",
     "text": [
      "<!DOCTYPE html>\n",
      "\n",
      "<html>\n",
      "<head>\n",
      "<meta charset=\"utf-8\"/>\n",
      "<title> html5 - 시멘틱 태그 </title>\n",
      "</head>\n",
      "<body>\n",
      "<h1> 시멘틱 태그 ?</h1>\n",
      "<p> html5에서 웹문서에 의미를 부여하는 태그를 의미 </p>\n",
      "<h2> 주요 시멘틱 태그 </h2>\n",
      "<ul>\n",
      "<li> header : 문서의 머리말(사이트 소개, 제목, 로그 )</li>\n",
      "<li> nav : 네이게이션(메뉴) </li>\n",
      "<li> section : 웹 문서를 장(chapter)으로 볼 때 절을 구분하는 태그</li>\n",
      "<li> aside : 문서의 보조 내용(광고, 즐겨찾기, 링크) </li>\n",
      "<li> footer : 문서의 꼬리말(작성자, 저작권, 개인정보보호) </li>\n",
      "</ul>\n",
      "</body>\n",
      "</html>\n",
      "\n"
     ]
    }
   ],
   "source": [
    "# 2. html 파싱\n",
    "html = BeautifulSoup(text, 'html.parser')\n",
    "print(html)"
   ]
  },
  {
   "cell_type": "code",
   "execution_count": 4,
   "id": "51f4ee81",
   "metadata": {},
   "outputs": [
    {
     "name": "stdout",
     "output_type": "stream",
     "text": [
      "h1 :  <h1> 시멘틱 태그 ?</h1>\n",
      "h1 :   시멘틱 태그 ?\n"
     ]
    }
   ],
   "source": [
    "# 3. 태그 내용 가져오기 \n",
    "\n",
    "# 1) tag 이용 \n",
    "h1 = html.html.body.h1 # 계층 접근\n",
    "print('h1 : ', h1) # h1 : \n",
    "print('h1 : ', h1.string) # h1 : "
   ]
  },
  {
   "cell_type": "code",
   "execution_count": 6,
   "id": "47fce537",
   "metadata": {},
   "outputs": [
    {
     "name": "stdout",
     "output_type": "stream",
     "text": [
      "h2 :  <h2> 주요 시멘틱 태그 </h2>\n",
      "h2 :   주요 시멘틱 태그 \n"
     ]
    }
   ],
   "source": [
    "# 2) find()함수 : 태그 찾기 \n",
    "h2 = html.find('h2')\n",
    "print('h2 : ', h2)\n",
    "print('h2 : ', h2.string) # h2 :   주요 시멘틱 태그"
   ]
  },
  {
   "cell_type": "code",
   "execution_count": 7,
   "id": "249f9536",
   "metadata": {},
   "outputs": [
    {
     "name": "stdout",
     "output_type": "stream",
     "text": [
      "[<li> header : 문서의 머리말(사이트 소개, 제목, 로그 )</li>, <li> nav : 네이게이션(메뉴) </li>, <li> section : 웹 문서를 장(chapter)으로 볼 때 절을 구분하는 태그</li>, <li> aside : 문서의 보조 내용(광고, 즐겨찾기, 링크) </li>, <li> footer : 문서의 꼬리말(작성자, 저작권, 개인정보보호) </li>]\n",
      " header : 문서의 머리말(사이트 소개, 제목, 로그 )\n",
      " nav : 네이게이션(메뉴) \n",
      " section : 웹 문서를 장(chapter)으로 볼 때 절을 구분하는 태그\n",
      " aside : 문서의 보조 내용(광고, 즐겨찾기, 링크) \n",
      " footer : 문서의 꼬리말(작성자, 저작권, 개인정보보호) \n"
     ]
    }
   ],
   "source": [
    "# 3) find_all('tag')\n",
    "lis = html.find_all('li') # list 반환\n",
    "print(lis) \n",
    "# [<li> header : 문서의 머리말(사이트 소개, 제목, 로그 )</li>, <li> nav : 네이게이션(메뉴) </li>, <li> section : 웹 문서를 장(chapter)을 볼 때 절을 구분하는 태그</li>, <li> aside : 문서의 보조 내용(광고, 즐겨찾기, 링크) </li>, <li> footer : 문서의 꼬리말(작성자, 저작권, 개인정보보호) </li>]\n",
    "\n",
    "for li in lis :\n",
    "    print(li.string)"
   ]
  },
  {
   "cell_type": "code",
   "execution_count": null,
   "id": "13c5d23c",
   "metadata": {},
   "outputs": [],
   "source": []
  },
  {
   "cell_type": "code",
   "execution_count": null,
   "id": "0ff42c0a",
   "metadata": {},
   "outputs": [],
   "source": []
  }
 ],
 "metadata": {
  "kernelspec": {
   "display_name": "Python 3 (ipykernel)",
   "language": "python",
   "name": "python3"
  },
  "language_info": {
   "codemirror_mode": {
    "name": "ipython",
    "version": 3
   },
   "file_extension": ".py",
   "mimetype": "text/x-python",
   "name": "python",
   "nbconvert_exporter": "python",
   "pygments_lexer": "ipython3",
   "version": "3.8.12"
  }
 },
 "nbformat": 4,
 "nbformat_minor": 5
}
