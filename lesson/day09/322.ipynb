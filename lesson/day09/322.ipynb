{
 "cells": [
  {
   "cell_type": "code",
   "execution_count": 4,
   "id": "ccd30909",
   "metadata": {},
   "outputs": [
    {
     "name": "stdout",
     "output_type": "stream",
     "text": [
      "join 급여 입력 : 2500\n",
      "7566 JONES 2975.00 SALES CHICAGO\n",
      "7698 BLAKE 2850.00 SALES CHICAGO\n",
      "7788 SCOTT 3000.00 SALES CHICAGO\n",
      "7839 KING 5000.00 OPERATIONS BOSTON\n",
      "7902 FORD 3000.00 RESEARCH DALLAS\n",
      "검색된 레코드 수 : 5\n"
     ]
    }
   ],
   "source": [
    "import pymysql\n",
    "\n",
    "config = {\n",
    "    'host' : '127.0.0.1',\n",
    "    'user' : 'scott',\n",
    "    'password' : 'tiger',\n",
    "    'database' : 'employees',\n",
    "    'port' : 3309,\n",
    "    'charset':'utf8',\n",
    "    'use_unicode' : True}\n",
    "\n",
    "try :\n",
    "    conn = pymysql.connect(**config)\n",
    "    cursor = conn.cursor()\n",
    "    \n",
    "    # inner join\n",
    "    pay = int(input('join 급여 입력 : '))\n",
    "    sql =f\"\"\"select e.empno, e.ename, e.sal, d.dname, d.loc\n",
    "    from emp e inner join dept d\n",
    "    on e.dname = d.dname and e.sal >= {pay}\"\"\"\n",
    "    \n",
    "    cursor.execute(sql)\n",
    "    data = cursor.fetchall()\n",
    "    for row in data :\n",
    "        print(row[0], row[1], row[2], row[3], row[4])\n",
    "\n",
    "    print('검색된 레코드 수 :', len(data))\n",
    "\n",
    "        \n",
    "except Exception as e :\n",
    "    print('db error :', e)\n",
    "finally:\n",
    "    cursor.close()\n",
    "    conn.close()    \n",
    "\n"
   ]
  }
 ],
 "metadata": {
  "kernelspec": {
   "display_name": "Python 3 (ipykernel)",
   "language": "python",
   "name": "python3"
  },
  "language_info": {
   "codemirror_mode": {
    "name": "ipython",
    "version": 3
   },
   "file_extension": ".py",
   "mimetype": "text/x-python",
   "name": "python",
   "nbconvert_exporter": "python",
   "pygments_lexer": "ipython3",
   "version": "3.8.12"
  }
 },
 "nbformat": 4,
 "nbformat_minor": 5
}
