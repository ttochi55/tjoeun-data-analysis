{
 "cells": [
  {
   "cell_type": "code",
   "execution_count": 1,
   "id": "3d93079d",
   "metadata": {},
   "outputs": [],
   "source": [
    "'''\n",
    "312 page\n",
    "\n",
    "csv -> db table\n",
    "  1차 실행 : table 생성 -> 레코드 추가\n",
    "  2차 실행 : 레코드 검색\n",
    "'''\n",
    "import pandas as pd"
   ]
  },
  {
   "cell_type": "code",
   "execution_count": 3,
   "id": "8900393f",
   "metadata": {},
   "outputs": [],
   "source": [
    "import pymysql"
   ]
  },
  {
   "cell_type": "code",
   "execution_count": 4,
   "id": "eaa71570",
   "metadata": {},
   "outputs": [],
   "source": [
    "# csv 파일을 DataFrame 으로 변환함\n",
    "bmi = pd.read_csv(\"C:/Users/user/python_week/test/day09/data2/bmi.csv\")"
   ]
  },
  {
   "cell_type": "code",
   "execution_count": 5,
   "id": "bf8958b4",
   "metadata": {
    "scrolled": true
   },
   "outputs": [
    {
     "name": "stdout",
     "output_type": "stream",
     "text": [
      "<class 'pandas.core.frame.DataFrame'>\n",
      "RangeIndex: 20000 entries, 0 to 19999\n",
      "Data columns (total 3 columns):\n",
      " #   Column  Non-Null Count  Dtype \n",
      "---  ------  --------------  ----- \n",
      " 0   height  20000 non-null  int64 \n",
      " 1   weight  20000 non-null  int64 \n",
      " 2   label   20000 non-null  object\n",
      "dtypes: int64(2), object(1)\n",
      "memory usage: 468.9+ KB\n",
      "None\n"
     ]
    }
   ],
   "source": [
    "print(bmi.info())"
   ]
  },
  {
   "cell_type": "code",
   "execution_count": 6,
   "id": "5a387691",
   "metadata": {},
   "outputs": [
    {
     "name": "stdout",
     "output_type": "stream",
     "text": [
      "   height  weight   label\n",
      "0     184      61    thin\n",
      "1     189      56    thin\n",
      "2     183      79  normal\n",
      "3     143      40  normal\n",
      "4     187      66  normal\n"
     ]
    }
   ],
   "source": [
    "print(bmi.head())"
   ]
  },
  {
   "cell_type": "code",
   "execution_count": 7,
   "id": "7b496038",
   "metadata": {},
   "outputs": [],
   "source": [
    "height = bmi[\"height\"]\n",
    "weight = bmi[\"weight\"]\n",
    "label  = bmi[\"label\"]"
   ]
  },
  {
   "cell_type": "code",
   "execution_count": 8,
   "id": "6a4b50e2",
   "metadata": {},
   "outputs": [
    {
     "data": {
      "text/plain": [
       "0        184\n",
       "1        189\n",
       "2        183\n",
       "3        143\n",
       "4        187\n",
       "        ... \n",
       "19995    168\n",
       "19996    190\n",
       "19997    179\n",
       "19998    148\n",
       "19999    167\n",
       "Name: height, Length: 20000, dtype: int64"
      ]
     },
     "execution_count": 8,
     "metadata": {},
     "output_type": "execute_result"
    }
   ],
   "source": [
    "height"
   ]
  },
  {
   "cell_type": "code",
   "execution_count": 9,
   "id": "2fe249e0",
   "metadata": {},
   "outputs": [
    {
     "data": {
      "text/plain": [
       "0        61\n",
       "1        56\n",
       "2        79\n",
       "3        40\n",
       "4        66\n",
       "         ..\n",
       "19995    74\n",
       "19996    62\n",
       "19997    77\n",
       "19998    57\n",
       "19999    71\n",
       "Name: weight, Length: 20000, dtype: int64"
      ]
     },
     "execution_count": 9,
     "metadata": {},
     "output_type": "execute_result"
    }
   ],
   "source": [
    "weight"
   ]
  },
  {
   "cell_type": "code",
   "execution_count": 10,
   "id": "ab665378",
   "metadata": {
    "scrolled": true
   },
   "outputs": [
    {
     "data": {
      "text/plain": [
       "0          thin\n",
       "1          thin\n",
       "2        normal\n",
       "3        normal\n",
       "4        normal\n",
       "          ...  \n",
       "19995       fat\n",
       "19996      thin\n",
       "19997    normal\n",
       "19998       fat\n",
       "19999       fat\n",
       "Name: label, Length: 20000, dtype: object"
      ]
     },
     "execution_count": 10,
     "metadata": {},
     "output_type": "execute_result"
    }
   ],
   "source": [
    "label"
   ]
  },
  {
   "cell_type": "code",
   "execution_count": 12,
   "id": "e169c86d",
   "metadata": {},
   "outputs": [],
   "source": [
    "config = {\n",
    "    'host' : '127.0.0.1',\n",
    "    'user' : 'scott',\n",
    "    'password' : 'tiger',\n",
    "    'database' : 'work',\n",
    "    'port' : 3309,\n",
    "    'charset':'utf8',\n",
    "    'use_unicode' : True}"
   ]
  },
  {
   "cell_type": "code",
   "execution_count": 13,
   "id": "8f36b931",
   "metadata": {},
   "outputs": [
    {
     "name": "stdout",
     "output_type": "stream",
     "text": [
      "테이블 없음\n",
      "100 레코드 추가\n"
     ]
    }
   ],
   "source": [
    "try :\n",
    "    conn = pymysql.connect(**config)\n",
    "    cursor = conn.cursor()\n",
    "\n",
    "    # table 조회\n",
    "    cursor.execute(\"show tables\")\n",
    "    tables = cursor.fetchall()\n",
    "    sw = False\n",
    "    for table in tables :\n",
    "        #print(table) # ('bmi_tab',)\n",
    "        #print(table[0]) # bmi_tab\n",
    "        if table[0] == 'bmi_tab' :\n",
    "            sw = True # table 있는 경우 swapping\n",
    "\n",
    "    if not sw :\n",
    "        print('테이블 없음')\n",
    "        # table 없으면 생성\n",
    "        sql=\"\"\"create table bmi_tab(\n",
    "        height int not null,\n",
    "        weight int not null,\n",
    "        label varchar(15) not null\n",
    "        )\"\"\"\n",
    "        cursor.execute(sql)\n",
    "\n",
    "    cursor.execute(\"select * from bmi_tab\")\n",
    "    rows = cursor.fetchall()\n",
    "    if rows : # 레코드 있는 경우 : 레코드 조회\n",
    "        for row in rows :\n",
    "            print(f\"{row[0]}    {row[1]}    {row[2]}\")\n",
    "\n",
    "        print('전체 레코드 수 : ', len(rows))\n",
    "    else: # 레코드 없는 경우 : 레코드 추가\n",
    "        print(\"100 레코드 추가\")\n",
    "        for i in range(100) :\n",
    "            h = height[i]\n",
    "            w = weight[i]\n",
    "            l = label[i]\n",
    "            cursor.execute(f\"insert into bmi_tab values({h}, {w}, '{l}')\")\n",
    "            conn.commit()\n",
    "\n",
    "except Exception as e:\n",
    "    print('db error :', e)\n",
    "finally:\n",
    "    cursor.close()\n",
    "    conn.close()\n"
   ]
  },
  {
   "cell_type": "code",
   "execution_count": null,
   "id": "1b9f2922",
   "metadata": {},
   "outputs": [],
   "source": []
  }
 ],
 "metadata": {
  "kernelspec": {
   "display_name": "Python 3 (ipykernel)",
   "language": "python",
   "name": "python3"
  },
  "language_info": {
   "codemirror_mode": {
    "name": "ipython",
    "version": 3
   },
   "file_extension": ".py",
   "mimetype": "text/x-python",
   "name": "python",
   "nbconvert_exporter": "python",
   "pygments_lexer": "ipython3",
   "version": "3.8.12"
  }
 },
 "nbformat": 4,
 "nbformat_minor": 5
}
