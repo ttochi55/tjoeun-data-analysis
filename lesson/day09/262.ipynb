{
 "cells": [
  {
   "cell_type": "code",
   "execution_count": 1,
   "id": "a243557e",
   "metadata": {},
   "outputs": [],
   "source": [
    "'''\n",
    "1. tag 속성과 내용 가져오기\n",
    "2. 정규표현식으로 속성값 가져오기\n",
    "\n",
    " tag element : tag + attr + content\n",
    " ex) <a href ='www.naver.com'>네이버</a>\n",
    "'''\n",
    "\n",
    "from bs4 import BeautifulSoup # html 파싱\n",
    "\n",
    "# 1. 로컬 파일 가져오기\n",
    "file = open('C:/Users/user/python_week/test/day09/data2/html02.html', mode='r', encoding='utf-8')\n",
    "source = file.read()"
   ]
  },
  {
   "cell_type": "code",
   "execution_count": 2,
   "id": "195db4a2",
   "metadata": {},
   "outputs": [
    {
     "name": "stdout",
     "output_type": "stream",
     "text": [
      "\n",
      "<!DOCTYPE html>\n",
      "\n",
      "<html>\n",
      "<head>\n",
      "<meta content=\"text/html; charset=utf-8\" http-equiv=\"Content-Type\"/>\n",
      "<title>선(hr), 줄바꿈(br), 링크(a)</title>\n",
      "</head>\n",
      "<body>\n",
      "<hr/>\n",
      "<h1> 링크 태그 </h1>\n",
      "<hr/>\n",
      "<!-- 링크 태그 -->\n",
      "<!-- 형식) <태그명 속성=\"값\"> 내용 </태그명> -->\n",
      "<a href=\"www.naver.com\">네이버</a>\n",
      "<a href=\"http://www.naver.com\">네이버</a>\n",
      "<br/><br/> <!-- 줄바꿈 -->\n",
      "<a href=\"http://www.naver.com\" target=\"_blank\">네이버 새창으로</a>\n",
      "<br/><br/>\n",
      "<a href=\"www.duam.net\">다음</a>\n",
      "<a href=\"https://www.daum.net\">다음</a>\n",
      "<a href=\"http://www.daum.net\">다음</a>\n",
      "</body>\n",
      "</html>\n",
      "\n"
     ]
    }
   ],
   "source": [
    "# 2. html 파싱\n",
    "html = BeautifulSoup(source, 'html.parser')\n",
    "print(html)"
   ]
  },
  {
   "cell_type": "code",
   "execution_count": 3,
   "id": "2a3f67ce",
   "metadata": {},
   "outputs": [
    {
     "name": "stdout",
     "output_type": "stream",
     "text": [
      "links size : 6\n",
      "links :\n",
      " [<a href=\"www.naver.com\">네이버</a>, <a href=\"http://www.naver.com\">네이버</a>, <a href=\"http://www.naver.com\" target=\"_blank\">네이버 새창으로</a>, <a href=\"www.duam.net\">다음</a>, <a href=\"https://www.daum.net\">다음</a>, <a href=\"http://www.daum.net\">다음</a>]\n"
     ]
    }
   ],
   "source": [
    "# 3. tag 속성 찾기\n",
    "links = html.find_all('a') # list 반환\n",
    "print('links size :', len(links))\n",
    "print('links :\\n', links)"
   ]
  },
  {
   "cell_type": "code",
   "execution_count": 4,
   "id": "735fe496",
   "metadata": {},
   "outputs": [
    {
     "name": "stdout",
     "output_type": "stream",
     "text": [
      "link : <a href=\"www.naver.com\">네이버</a>\n",
      "link.attrs : {'href': 'www.naver.com'}\n",
      "link.attrs['href'] : www.naver.com\n",
      "예외발생 :  'target' 속성 없음\n",
      "--------------------------------------------------\n",
      "link : <a href=\"http://www.naver.com\">네이버</a>\n",
      "link.attrs : {'href': 'http://www.naver.com'}\n",
      "link.attrs['href'] : http://www.naver.com\n",
      "예외발생 :  'target' 속성 없음\n",
      "--------------------------------------------------\n",
      "link : <a href=\"http://www.naver.com\" target=\"_blank\">네이버 새창으로</a>\n",
      "link.attrs : {'href': 'http://www.naver.com', 'target': '_blank'}\n",
      "link.attrs['href'] : http://www.naver.com\n",
      "link.attrs['target'] : _blank\n",
      "--------------------------------------------------\n",
      "link : <a href=\"www.duam.net\">다음</a>\n",
      "link.attrs : {'href': 'www.duam.net'}\n",
      "link.attrs['href'] : www.duam.net\n",
      "예외발생 :  'target' 속성 없음\n",
      "--------------------------------------------------\n",
      "link : <a href=\"https://www.daum.net\">다음</a>\n",
      "link.attrs : {'href': 'https://www.daum.net'}\n",
      "link.attrs['href'] : https://www.daum.net\n",
      "예외발생 :  'target' 속성 없음\n",
      "--------------------------------------------------\n",
      "link : <a href=\"http://www.daum.net\">다음</a>\n",
      "link.attrs : {'href': 'http://www.daum.net'}\n",
      "link.attrs['href'] : http://www.daum.net\n",
      "예외발생 :  'target' 속성 없음\n",
      "--------------------------------------------------\n",
      "==================================================\n",
      "link.attrs['href'] : www.naver.com\n",
      "--------------------------------------------------\n",
      "link.attrs['href'] : http://www.naver.com\n",
      "--------------------------------------------------\n",
      "link.attrs['href'] : http://www.naver.com\n",
      "link.attrs['target'] : _blank\n",
      "--------------------------------------------------\n",
      "link.attrs['href'] : www.duam.net\n",
      "--------------------------------------------------\n",
      "link.attrs['href'] : https://www.daum.net\n",
      "--------------------------------------------------\n",
      "link.attrs['href'] : http://www.daum.net\n",
      "--------------------------------------------------\n",
      "==================================================\n"
     ]
    }
   ],
   "source": [
    "for link in links :\n",
    "    print('link :',link) # element\n",
    "    print('link.attrs :',link.attrs) # dict\n",
    "    try :\n",
    "        print(\"link.attrs['href'] :\",link.attrs['href']) # 5개\n",
    "        print(\"link.attrs['target'] :\",link.attrs['target']) # 1개 - error(1,2,4,5)\n",
    "    except Exception as e :\n",
    "        print('예외발생 : ', e,'속성 없음')\n",
    "    print(\"-\" * 50)    \n",
    "print(\"=\" * 50)        \n",
    "\n",
    "for link in links :\n",
    "    if 'target' in link.attrs :\n",
    "        print(\"link.attrs['href'] :\",link.attrs['href'])\n",
    "        print(\"link.attrs['target'] :\",link.attrs['target'])\n",
    "    else :\n",
    "        print(\"link.attrs['href'] :\",link.attrs['href'])\n",
    "    print(\"-\" * 50)    \n",
    "print(\"=\" * 50)        "
   ]
  }
 ],
 "metadata": {
  "kernelspec": {
   "display_name": "Python 3 (ipykernel)",
   "language": "python",
   "name": "python3"
  },
  "language_info": {
   "codemirror_mode": {
    "name": "ipython",
    "version": 3
   },
   "file_extension": ".py",
   "mimetype": "text/x-python",
   "name": "python",
   "nbconvert_exporter": "python",
   "pygments_lexer": "ipython3",
   "version": "3.8.12"
  }
 },
 "nbformat": 4,
 "nbformat_minor": 5
}
