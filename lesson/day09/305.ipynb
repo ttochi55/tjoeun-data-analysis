{
 "cells": [
  {
   "cell_type": "code",
   "execution_count": 1,
   "id": "5888c9f3",
   "metadata": {},
   "outputs": [],
   "source": [
    "import warnings\n",
    "warnings.filterwarnings(action=\"ignore\")"
   ]
  },
  {
   "cell_type": "code",
   "execution_count": 2,
   "id": "a23ecbe8",
   "metadata": {},
   "outputs": [
    {
     "name": "stdout",
     "output_type": "stream",
     "text": [
      "Requirement already satisfied: pymysql in c:\\programdata\\anaconda3\\lib\\site-packages (1.0.2)\n"
     ]
    },
    {
     "name": "stderr",
     "output_type": "stream",
     "text": [
      "WARNING: You are using pip version 21.3.1; however, version 22.0.4 is available.\n",
      "You should consider upgrading via the 'C:\\ProgramData\\Anaconda3\\python.exe -m pip install --upgrade pip' command.\n"
     ]
    }
   ],
   "source": [
    "'''\n",
    "305 page\n",
    "'''\n",
    "!pip install pymysql"
   ]
  },
  {
   "cell_type": "code",
   "execution_count": 3,
   "id": "32c4a55b",
   "metadata": {},
   "outputs": [],
   "source": [
    "import pymysql"
   ]
  },
  {
   "cell_type": "code",
   "execution_count": 4,
   "id": "59d430da",
   "metadata": {},
   "outputs": [
    {
     "name": "stdout",
     "output_type": "stream",
     "text": [
      "(1, 4, 0, 'final', 0)\n"
     ]
    }
   ],
   "source": [
    "print(pymysql.version_info)"
   ]
  },
  {
   "cell_type": "code",
   "execution_count": 5,
   "id": "38e43d9e",
   "metadata": {},
   "outputs": [],
   "source": [
    "config = {\n",
    "    'host' : '127.0.0.1',\n",
    "    'user' : 'scott',\n",
    "    'password' : 'tiger',\n",
    "    'database' : 'work',\n",
    "    'port' : 3309,\n",
    "    'charset':'utf8',\n",
    "    'use_unicode' : True}"
   ]
  },
  {
   "cell_type": "code",
   "execution_count": 6,
   "id": "0dbdd521",
   "metadata": {},
   "outputs": [
    {
     "name": "stdout",
     "output_type": "stream",
     "text": [
      "(('goods',),)\n",
      "table 있음\n"
     ]
    }
   ],
   "source": [
    "try :\n",
    "    # db 연동 객체 \n",
    "    conn = pymysql.connect(**config)\n",
    "    # sql문 실행 객체\n",
    "    cursor = conn.cursor()\n",
    "\n",
    "    sql = \"show tables\"\n",
    "    cursor.execute(sql)\n",
    "    \n",
    "    tables = cursor.fetchall()\n",
    "    # 전체 table 목록 출력\n",
    "    print(tables)\n",
    "\n",
    "    # table 유무\n",
    "    if tables:\n",
    "        print('table 있음')\n",
    "    else:\n",
    "        print('table 없음') \n",
    "\n",
    "except Exception as e :\n",
    "    print('db error :', e)\n",
    "    conn.rollback()\n",
    "finally:\n",
    "    cursor.close()\n",
    "    conn.close()"
   ]
  },
  {
   "cell_type": "code",
   "execution_count": null,
   "id": "fbb957f4",
   "metadata": {},
   "outputs": [],
   "source": []
  },
  {
   "cell_type": "code",
   "execution_count": null,
   "id": "7951cf7f",
   "metadata": {},
   "outputs": [],
   "source": []
  }
 ],
 "metadata": {
  "kernelspec": {
   "display_name": "Python 3 (ipykernel)",
   "language": "python",
   "name": "python3"
  },
  "language_info": {
   "codemirror_mode": {
    "name": "ipython",
    "version": 3
   },
   "file_extension": ".py",
   "mimetype": "text/x-python",
   "name": "python",
   "nbconvert_exporter": "python",
   "pygments_lexer": "ipython3",
   "version": "3.8.12"
  }
 },
 "nbformat": 4,
 "nbformat_minor": 5
}
