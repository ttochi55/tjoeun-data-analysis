{
 "cells": [
  {
   "cell_type": "markdown",
   "metadata": {},
   "source": [
    "# class - polymorphism"
   ]
  },
  {
   "cell_type": "code",
   "execution_count": 1,
   "metadata": {},
   "outputs": [
    {
     "name": "stdout",
     "output_type": "stream",
     "text": [
      "날것이 납니다\n",
      "비행기가 납니다\n",
      "새가 납니다\n",
      "종이비행기가 납니다\n"
     ]
    }
   ],
   "source": [
    "'''\n",
    "다형성 : polymorphism\n",
    "  ㄴ 같은 실행 code 가 실행 시점에서 들어오는 객체에 따라\n",
    "     실행 결과가 다른 것\n",
    "'''\n",
    "\n",
    "class Flight:\n",
    "    def fly(self):\n",
    "        print('날것이 납니다')\n",
    "        \n",
    "class Airplane(Flight):\n",
    "    # overriding\n",
    "    def fly(self):\n",
    "        print('비행기가 납니다')\n",
    "        \n",
    "class Bird(Flight):\n",
    "    # overriding\n",
    "    def fly(self):\n",
    "        print('새가 납니다')\n",
    "        \n",
    "class PaperAirplane(Flight):\n",
    "    # overriding\n",
    "    def fly(self):\n",
    "        print('종이비행기가 납니다')\n",
    "\n",
    "f1 = Flight()         # 조상\n",
    "a1 = Airplane()       # 자식들\n",
    "b1 = Bird()           # 자식들\n",
    "p1 = PaperAirplane()  # 자식들\n",
    "\n",
    "f1.fly()\n",
    "a1.fly()\n",
    "b1.fly()\n",
    "p1.fly()\n"
   ]
  },
  {
   "cell_type": "code",
   "execution_count": 2,
   "metadata": {},
   "outputs": [
    {
     "name": "stdout",
     "output_type": "stream",
     "text": [
      "날것이 납니다\n",
      "비행기가 납니다\n",
      "새가 납니다\n",
      "종이비행기가 납니다\n"
     ]
    }
   ],
   "source": [
    "list_flights = [f1, a1, b1, p1]\n",
    "\n",
    "for flight in list_flights:\n",
    "    flight.fly()"
   ]
  },
  {
   "cell_type": "code",
   "execution_count": 3,
   "metadata": {},
   "outputs": [
    {
     "name": "stdout",
     "output_type": "stream",
     "text": [
      "날것이 납니다\n",
      "비행기가 납니다\n",
      "새가 납니다\n",
      "종이비행기가 납니다\n"
     ]
    }
   ],
   "source": [
    "f1 = Flight()         # 조상\n",
    "a1 = Airplane()       # 자식들\n",
    "b1 = Bird()           # 자식들\n",
    "p1 = PaperAirplane()  # 자식들\n",
    "\n",
    "f1.fly()\n",
    "\n",
    "f1 = a1\n",
    "f1.fly()\n",
    "\n",
    "f1 = b1\n",
    "f1.fly()\n",
    "\n",
    "f1 = p1\n",
    "f1.fly()"
   ]
  },
  {
   "cell_type": "code",
   "execution_count": 4,
   "metadata": {},
   "outputs": [
    {
     "name": "stdout",
     "output_type": "stream",
     "text": [
      "Parent1 입니다\n",
      "Parent2 입니다\n",
      "--------------------------------------------------\n",
      "Parent1 입니다\n"
     ]
    }
   ],
   "source": [
    "'''\n",
    "다중상속 : 상속관계에서 하나의 자식에 부모가 여럿인 관계\n",
    "'''\n",
    "\n",
    "class Parent1:\n",
    "    def display_myself(self):\n",
    "        print('Parent1 입니다')\n",
    "        \n",
    "class Parent2:\n",
    "    def display_myself(self):\n",
    "        print('Parent2 입니다')\n",
    "        \n",
    "class Child(Parent1, Parent2):\n",
    "    def display_child(self):\n",
    "        Parent1.display_myself(self)\n",
    "        Parent2.display_myself(self)\n",
    "        \n",
    "ch1 = Child()\n",
    "ch1.display_child()\n",
    "print('-' * 50)\n",
    "\n",
    "ch1.display_myself()"
   ]
  },
  {
   "cell_type": "code",
   "execution_count": 5,
   "metadata": {},
   "outputs": [
    {
     "name": "stdout",
     "output_type": "stream",
     "text": [
      "f1 : True True True\n",
      "a1 : True False False\n",
      "b1 : True False False\n",
      "p1 : True False False\n"
     ]
    }
   ],
   "source": [
    "'''\n",
    "isinstance(변수, 클래스이름)\n",
    "'''\n",
    "\n",
    "class Flight:\n",
    "    def fly(self):\n",
    "        print('날것이 납니다')\n",
    "        \n",
    "class Airplane(Flight):\n",
    "    def fly(self):\n",
    "        print('비행기가 납니다')\n",
    "        \n",
    "class Bird(Flight):\n",
    "    def fly(self):\n",
    "        print('새가 납니다')\n",
    "        \n",
    "class PaperAirplane(Flight):\n",
    "    def fly(self):\n",
    "        print('종이비행기가 납니다')\n",
    "\n",
    "f1 = Flight()         # 조상\n",
    "a1 = Airplane()       # 자식들\n",
    "b1 = Bird()           # 자식들\n",
    "p1 = PaperAirplane()  # 자식들\n",
    "\n",
    "print('f1 :', isinstance(f1, Flight),        isinstance(p1, Flight),        isinstance(f1, Flight))\n",
    "print('a1 :', isinstance(a1, Airplane),      isinstance(f1, Airplane),      isinstance(f1, Airplane))\n",
    "print('b1 :', isinstance(b1, Bird),          isinstance(a1, Bird),          isinstance(f1, Bird))\n",
    "print('p1 :', isinstance(p1, PaperAirplane), isinstance(b1, PaperAirplane), isinstance(f1, PaperAirplane))\n"
   ]
  },
  {
   "cell_type": "code",
   "execution_count": 6,
   "metadata": {},
   "outputs": [
    {
     "name": "stdout",
     "output_type": "stream",
     "text": [
      "Flight : True True\n",
      "Airplane : True False\n",
      "Bird : True False\n",
      "PaperAirplane : True False\n"
     ]
    }
   ],
   "source": [
    "'''\n",
    "issubclass(클래스이름, 클래스이름)\n",
    "'''\n",
    "\n",
    "print('Flight :',        issubclass(Flight, Flight),        issubclass(Flight, Flight))\n",
    "print('Airplane :',      issubclass(Airplane, Flight),      issubclass(Flight, Airplane))\n",
    "print('Bird :',          issubclass(Bird, Flight),          issubclass(Flight, Bird))\n",
    "print('PaperAirplane :', issubclass(PaperAirplane, Flight), issubclass(Flight, PaperAirplane))"
   ]
  }
 ],
 "metadata": {
  "interpreter": {
   "hash": "949c5d161ae06a9191be236957b0dfe2172f0f0097fbf05f4df159099ee18a3c"
  },
  "kernelspec": {
   "display_name": "Python 3.8.5 64-bit ('tjoeun')",
   "language": "python",
   "name": "python3"
  },
  "language_info": {
   "codemirror_mode": {
    "name": "ipython",
    "version": 3
   },
   "file_extension": ".py",
   "mimetype": "text/x-python",
   "name": "python",
   "nbconvert_exporter": "python",
   "pygments_lexer": "ipython3",
   "version": "3.8.5"
  },
  "orig_nbformat": 4
 },
 "nbformat": 4,
 "nbformat_minor": 2
}
