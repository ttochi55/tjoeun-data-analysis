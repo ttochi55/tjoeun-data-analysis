{
 "cells": [
  {
   "cell_type": "markdown",
   "metadata": {},
   "source": [
    "# class - classmethod, staticmethod"
   ]
  },
  {
   "cell_type": "code",
   "execution_count": 1,
   "metadata": {},
   "outputs": [
    {
     "name": "stdout",
     "output_type": "stream",
     "text": [
      "name : car2\n",
      "name : Sonata2\n",
      "name : car2\n",
      "name : SM7\n"
     ]
    }
   ],
   "source": [
    "'''\n",
    "classmethod()  : 클래스 메소드       : cls 를 사용함\n",
    "                 @classmethod\n",
    "staticmethod() : 스태틱(정적) 메소드  : cls 나 self 를 사용하지 않음\n",
    "                 @staticmethod\n",
    "'''\n",
    "\n",
    "class Car:\n",
    "    name = 'car2'\n",
    "    \n",
    "    def __init__(self):\n",
    "        self.out = 'name : ' + self.name\n",
    "    \n",
    "    # 스태틱메소드\n",
    "    @staticmethod\n",
    "    def static_name():\n",
    "        return Car()\n",
    "    \n",
    "    # 클래스메소드\n",
    "    @classmethod\n",
    "    def class_name(cls):\n",
    "        return cls()\n",
    "    \n",
    "    # 인스턴스메소드\n",
    "    def name_output(self):\n",
    "        print(self.out)\n",
    "        \n",
    "class Sonata(Car):\n",
    "    # 클래스변수\n",
    "    name = 'Sonata2'\n",
    "    \n",
    "class SM7(Car):\n",
    "    # 클래스변수\n",
    "    name = 'SM7'\n",
    "    \n",
    "c1 = Sonata.static_name()\n",
    "c1.name_output()\n",
    "\n",
    "c2 = Sonata.class_name()\n",
    "c2.name_output()\n",
    "\n",
    "c3 = Car.class_name()\n",
    "c3.name_output()\n",
    "\n",
    "c4 = SM7.class_name()\n",
    "c4.name_output()"
   ]
  }
 ],
 "metadata": {
  "interpreter": {
   "hash": "949c5d161ae06a9191be236957b0dfe2172f0f0097fbf05f4df159099ee18a3c"
  },
  "kernelspec": {
   "display_name": "Python 3.8.5 64-bit ('tjoeun')",
   "language": "python",
   "name": "python3"
  },
  "language_info": {
   "codemirror_mode": {
    "name": "ipython",
    "version": 3
   },
   "file_extension": ".py",
   "mimetype": "text/x-python",
   "name": "python",
   "nbconvert_exporter": "python",
   "pygments_lexer": "ipython3",
   "version": "3.8.5"
  },
  "orig_nbformat": 4
 },
 "nbformat": 4,
 "nbformat_minor": 2
}
