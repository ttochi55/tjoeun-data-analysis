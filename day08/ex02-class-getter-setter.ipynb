{
 "cells": [
  {
   "cell_type": "markdown",
   "metadata": {},
   "source": [
    "# class getter setter"
   ]
  },
  {
   "cell_type": "code",
   "execution_count": 1,
   "metadata": {},
   "outputs": [
    {
     "name": "stdout",
     "output_type": "stream",
     "text": [
      "문 : 4 게\n",
      "색상 : black 색\n",
      "\n",
      "-- car1 의 정보 --\n",
      "문 : 4 게\n",
      "색상 : black 색\n",
      "기어 : auto 색\n",
      "\n",
      "-- car2 의 정보 --\n",
      "문 : 4 게\n",
      "색상 : black 색\n"
     ]
    }
   ],
   "source": [
    "class Car:\n",
    "    def __init__(self):\n",
    "        self.door = 4\n",
    "        self.color = 'black'\n",
    "        \n",
    "    def display_car_info(self):\n",
    "        print(f\"문 : {self.door} 게\",\n",
    "              f\"색상 : {self.color} 색\",\n",
    "              sep=\"\\n\")\n",
    "        \n",
    "car1 = Car()\n",
    "\n",
    "# python 에서는 클래스를 작성할 때는 없던 멤버변수를\n",
    "# 객체를 생성한 후에 그 주소지에 접근해서\n",
    "# 새롭게 값을 할당해서 추가할 수 있음\n",
    "car1.gear_type = 'auto'\n",
    "car1.display_car_info()\n",
    "print()\n",
    "\n",
    "\n",
    "print(\"-- car1 의 정보 --\")\n",
    "print(f\"문 : {car1.door} 게\",\n",
    "      f\"색상 : {car1.color} 색\",\n",
    "      f\"기어 : {car1.gear_type} 색\",\n",
    "      sep=\"\\n\")\n",
    "\n",
    "print()\n",
    "\n",
    "car2 = Car()\n",
    "\n",
    "print(\"-- car2 의 정보 --\")\n",
    "print(f\"문 : {car2.door} 게\",\n",
    "      f\"색상 : {car2.color} 색\",\n",
    "    #   f\"기어 : {car2.gear_type} 색\",\n",
    "      sep=\"\\n\")\n"
   ]
  },
  {
   "cell_type": "code",
   "execution_count": 2,
   "metadata": {},
   "outputs": [
    {
     "name": "stdout",
     "output_type": "stream",
     "text": [
      "p1은 24 살 입니다\n",
      "p1은 0 살 입니다\n",
      "p1은 24 살 입니다\n"
     ]
    }
   ],
   "source": [
    "class Person:\n",
    "    def __init__(self):\n",
    "        self.__age = 0\n",
    "        \n",
    "    # getter : 해당 클래스의 멤버변수의 값을 알려주는(반환하는) 역할\n",
    "    def get_age(self):\n",
    "        return self.__age\n",
    "        \n",
    "    # setter : 해당 클래스의 멤버변수에 값을 할당하는 역할\n",
    "    def set_age(self, age):\n",
    "        self.__age = age\n",
    "        \n",
    "p1 = Person()\n",
    "\n",
    "# 나이를 24 살로 설정하기\n",
    "# p1.__age = 24\n",
    "# print(p1.__age)\n",
    "#   ㄴ 이 code 는 아래와 같은 이유로 에러가 발생하지는 않으나\n",
    "#      가독성이 떨어지고 혼란스럽기 때문에 사용을 권장하지 않음\n",
    "# python 에서는 클래스를 작성할 때는 없던 멤버변수를\n",
    "# 객체를 생성한 후에 그 주소지에 접근해서\n",
    "# 새롭게 값을 할당해서 추가할 수 없음\n",
    "\n",
    "# 은닉변수와 이름이 같을 뿐 실제로는 다른 메모리에 위치하기 때문에 \n",
    "# 클래스 내부의 멤버변수 값은 변하지 않는다.\n",
    "# 멤버변수와 동일하게 변수 이름을 사용하는 것은 권장하지 않는다.\n",
    "p1.__age = 24\n",
    "print(f\"p1은 {p1.__age} 살 입니다\")\n",
    "print(f\"p1은 {p1.get_age()} 살 입니다\")\n",
    "\n",
    "# 'Person' object has no attribute '__age'\n",
    "# self.__age 는 private 멤버변수이므로 직접 접근해서 값을 출력할 수 없음\n",
    "# print(p1.__age)\n",
    "\n",
    "# 나이를 24 살로 설정하기 - setter 사용하기\n",
    "p1.set_age(24)\n",
    "print(f\"p1은 {p1.get_age()} 살 입니다\")\n"
   ]
  },
  {
   "cell_type": "code",
   "execution_count": 3,
   "metadata": {},
   "outputs": [
    {
     "name": "stdout",
     "output_type": "stream",
     "text": [
      "25\n",
      "--------------------------------------------------\n",
      "15 세 이상만 가입할 수 있습니다\n",
      "20 세 이상의 회원인 경우에만 나이를 조회할 수 있음\n",
      "?\n"
     ]
    }
   ],
   "source": [
    "'''\n",
    "멤버변수의 이름과 똑같은 이름으로 메소드를 작성해서\n",
    "getter / setter 역할을 하게 하기\n",
    "'''\n",
    "\n",
    "class Person2:\n",
    "    def __init__(self):\n",
    "        self.__age = 0\n",
    "        \n",
    "    # 데코레이터를 사용해서 getter 만들기\n",
    "    # @property 를 붙여줌\n",
    "    @property\n",
    "    def age(self):\n",
    "        if self.__age >= 20:\n",
    "            return self.__age\n",
    "        else:\n",
    "            print(\"20 세 이상의 회원인 경우에만 나이를 조회할 수 있음\")\n",
    "            return '?'\n",
    "    \n",
    "    # 데코레이터를 사용해서 setter 만들기\n",
    "    # @멤버변수이름.setter\n",
    "    @age.setter\n",
    "    def age(self, age):\n",
    "        if age >= 15:\n",
    "            self.__age = age\n",
    "        else:\n",
    "            print('15 세 이상만 가입할 수 있습니다')\n",
    "    \n",
    "# Person2 객체 생성하기\n",
    "p2 = Person2()\n",
    "\n",
    "# 데코레이터를 사용해서 getter / setter 를 설정한 경우,\n",
    "# private 멤버변수에 값을 할당하는 code\n",
    "#   ㄴ private 멤버변수에 직접 접근하는 것 같이 보이나,\n",
    "#      실제로는 데코레이터를 사용해서 설정한 setter 를 호출함\n",
    "p2.age = 25\n",
    "\n",
    "# private 멤버변수에 값을 조회하는 code\n",
    "#   ㄴ private 멤버변수에 직접 접근하는 것 같이 보이나,\n",
    "#      실제로는 데코레이터를 사용해서 설정한 getter 를 호출함\n",
    "print(p2.age)\n",
    "print('-' * 50)\n",
    "\n",
    "p2_2 = Person2()\n",
    "p2_2.age = 14\n",
    "print(p2_2.age)"
   ]
  },
  {
   "cell_type": "code",
   "execution_count": 4,
   "metadata": {},
   "outputs": [
    {
     "name": "stdout",
     "output_type": "stream",
     "text": [
      "13세 이상만 가입할 수 있습니다\n",
      "이름 : 더조은, 나이 : 가입 안됨\n",
      "--------------------------------------------------\n",
      "이름 : 아이티, 나이 : 16\n"
     ]
    }
   ],
   "source": [
    "class Member:\n",
    "    def __init__(self):\n",
    "        self.__name = ''\n",
    "        self.__age = 0\n",
    "        \n",
    "    @property\n",
    "    def age(self):\n",
    "        if self.__age <= 12:\n",
    "            return '가입 안됨'\n",
    "        else:\n",
    "            return self.__age\n",
    "        \n",
    "    @age.setter\n",
    "    def age(self, age):\n",
    "        if age <= 12:\n",
    "            print('13세 이상만 가입할 수 있습니다')\n",
    "        else:\n",
    "            self.__age = age\n",
    "\n",
    "    @property\n",
    "    def name(self):\n",
    "        return self.__name\n",
    "    \n",
    "    @name.setter\n",
    "    def name(self, name):\n",
    "        self.__name = name\n",
    "        \n",
    "m1 = Member()\n",
    "m1.name = '더조은'\n",
    "m1.age = 10\n",
    "print(f\"이름 : {m1.name}, 나이 : {m1.age}\")\n",
    "print('-' * 50)\n",
    "\n",
    "m2 = Member()\n",
    "m2.name = '아이티'\n",
    "m2.age = 16\n",
    "print(f\"이름 : {m2.name}, 나이 : {m2.age}\")"
   ]
  },
  {
   "cell_type": "code",
   "execution_count": 5,
   "metadata": {},
   "outputs": [
    {
     "name": "stdout",
     "output_type": "stream",
     "text": [
      "책 이름이 \"파이썬기본서\" 인 Book 객체가 생성됨\n"
     ]
    }
   ],
   "source": [
    "'''\n",
    "생성자의 매개변수의 개수에 맞도록\n",
    "argument 를 넣어 주어야 함\n",
    "\n",
    "클래스이름() <-- 해당 클래스의 생성자를 호출하는 code\n",
    "          <-- 객체를 생성하는 code\n",
    "'''\n",
    "\n",
    "class Book:\n",
    "    def __init__(self, book_name):\n",
    "        self.name = book_name\n",
    "        print(f\"책 이름이 \\\"{self.name}\\\" 인 Book 객체가 생성됨\")\n",
    "        \n",
    "book1 = Book('파이썬기본서')"
   ]
  },
  {
   "cell_type": "code",
   "execution_count": 6,
   "metadata": {},
   "outputs": [
    {
     "name": "stdout",
     "output_type": "stream",
     "text": [
      "이름은 이순신 이고, 나이는 48 살 입니다.\n"
     ]
    }
   ],
   "source": [
    "class Student:\n",
    "    def __init__(self, name, age):\n",
    "        self.name = name\n",
    "        self.age = age\n",
    "        \n",
    "    def introduce_myself(self):\n",
    "        print(f\"이름은 {self.name} 이고, 나이는 {self.age} 살 입니다.\")\n",
    "        \n",
    "std1 = Student('이순신', 48)\n",
    "std1.introduce_myself()"
   ]
  },
  {
   "cell_type": "code",
   "execution_count": 7,
   "metadata": {},
   "outputs": [
    {
     "name": "stdout",
     "output_type": "stream",
     "text": [
      "이름 : 아이티\n",
      "직업 : 기획자\n",
      "아이티 -- 기획자\n",
      "아카데미\n",
      "관리자\n"
     ]
    }
   ],
   "source": [
    "class Employee:\n",
    "    def __init__(self, name, job):\n",
    "        self.name = name\n",
    "        self.job = job\n",
    "        \n",
    "    def set_info(self, name, job):\n",
    "        self.name = name\n",
    "        self.job = job\n",
    "        \n",
    "    def set_name(self, name):\n",
    "        self.name = name\n",
    "        \n",
    "    def set_job(self, job):\n",
    "        self.job = job\n",
    "        \n",
    "    def get_name(self):\n",
    "        return self.name\n",
    "    \n",
    "    def get_job(self):\n",
    "        return self.job\n",
    "    \n",
    "    def display_info(self):\n",
    "        print(f\"이름 : {self.name}\",\n",
    "              f\"직업 : {self.job}\",\n",
    "              sep='\\n')\n",
    "        \n",
    "    def get_info(self):\n",
    "        return f\"{self.name} -- {self.job}\"\n",
    "\n",
    "emp1 = Employee('더조은', '개발자')\n",
    "\n",
    "emp1.set_info('아이티', '기획자')\n",
    "emp1.display_info()\n",
    "print(emp1.get_info())\n",
    "\n",
    "emp1.set_name('아카데미')\n",
    "print(emp1.get_name())\n",
    "\n",
    "emp1.set_job('관리자')\n",
    "print(emp1.get_job())"
   ]
  },
  {
   "cell_type": "markdown",
   "metadata": {},
   "source": [
    "## \\_\\_str\\_\\_"
   ]
  },
  {
   "cell_type": "code",
   "execution_count": 8,
   "metadata": {},
   "outputs": [
    {
     "name": "stdout",
     "output_type": "stream",
     "text": [
      "<__main__.Employee2 object at 0x10e6b3280>\n",
      "이름 : 더조은 직업 : 개발자\n"
     ]
    }
   ],
   "source": [
    "'''\n",
    "__str__ 메소드 : 참조변수를 출력하면 자동으로 __str__ 메소드가 호출ㄹ됨\n",
    "                기본적으로 클래스이름과 객체의 주소를 반환함\n",
    "                __str__ 메소드의 내용 (return 값 - 문자열임)을\n",
    "                변경해서 멤버변수의 값을 문자열로 반환하게 해서\n",
    "                참조변수를 출력했을 때 멤버변수들의 값을 확인하는데\n",
    "                주로 사용됨\n",
    "'''\n",
    "class Employee2:\n",
    "    def __init__(self, name, job):\n",
    "        self.name = name\n",
    "        self.job = job\n",
    "emp1 = Employee2('더조은', '개발자')\n",
    "print(emp1)\n",
    "\n",
    "class Employee3:\n",
    "    def __init__(self, name, job):\n",
    "        self.name = name\n",
    "        self.job = job\n",
    "\n",
    "    def __str__(self):\n",
    "        return f\"이름 : {self.name} 직업 : {self.job}\"\n",
    "\n",
    "emp1 = Employee3('더조은', '개발자')\n",
    "print(emp1)"
   ]
  }
 ],
 "metadata": {
  "interpreter": {
   "hash": "949c5d161ae06a9191be236957b0dfe2172f0f0097fbf05f4df159099ee18a3c"
  },
  "kernelspec": {
   "display_name": "Python 3.8.5 64-bit ('tjoeun')",
   "language": "python",
   "name": "python3"
  },
  "language_info": {
   "codemirror_mode": {
    "name": "ipython",
    "version": 3
   },
   "file_extension": ".py",
   "mimetype": "text/x-python",
   "name": "python",
   "nbconvert_exporter": "python",
   "pygments_lexer": "ipython3",
   "version": "3.8.5"
  },
  "orig_nbformat": 4
 },
 "nbformat": 4,
 "nbformat_minor": 2
}
