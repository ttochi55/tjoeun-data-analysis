{
 "cells": [
  {
   "cell_type": "markdown",
   "metadata": {},
   "source": [
    "# chapter03"
   ]
  },
  {
   "cell_type": "code",
   "execution_count": 1,
   "metadata": {},
   "outputs": [
    {
     "name": "stdout",
     "output_type": "stream",
     "text": [
      "수수료는 1,000 원 입니다\n"
     ]
    }
   ],
   "source": [
    "# 1)\n",
    "# weight = int(input('짐의 무게는 얼마입니까?'))\n",
    "weight = 15\n",
    "\n",
    "if weight < 10:\n",
    "    print('수수료는 없습니다.')\n",
    "else:\n",
    "    print('수수료는 ' + format(1000, '3,d') + ' 원 입니다')"
   ]
  },
  {
   "cell_type": "code",
   "execution_count": 2,
   "metadata": {},
   "outputs": [
    {
     "name": "stdout",
     "output_type": "stream",
     "text": [
      "수수료는 1,000.000000 원 입니다\n"
     ]
    },
    {
     "data": {
      "text/plain": [
       "\"\\nelse:\\n    weight_charge = weight // 10 * 10000\\n    print('수수료는 ' + format(1000, '3,d') + ' 원 입니다')\\n\""
      ]
     },
     "execution_count": 2,
     "metadata": {},
     "output_type": "execute_result"
    }
   ],
   "source": [
    "# 2)\n",
    "# weight = int(input('짐의 무게는 얼마입니까?'))\n",
    "weight = 15\n",
    "\n",
    "if weight < 10:\n",
    "    print('수수료는 없습니다.')\n",
    "else:\n",
    "    weight_charge = weight / 10 * 10000\n",
    "    print('수수료는 ' + format(1000, '3,f') + ' 원 입니다')\n",
    "    \n",
    "'''\n",
    "else:\n",
    "    weight_charge = weight // 10 * 10000\n",
    "    print('수수료는 ' + format(1000, '3,d') + ' 원 입니다')\n",
    "'''"
   ]
  },
  {
   "cell_type": "code",
   "execution_count": 3,
   "metadata": {},
   "outputs": [
    {
     "name": "stdout",
     "output_type": "stream",
     "text": [
      "수열 = [5, 7, 11, 13, 17, 19, 23, 25, 29, 31, 35, 37, 41, 43, 47, 49, 53, 55, 59, 61, 65, 67, 71, 73, 77, 79, 83, 85, 89, 91, 95, 97]\n",
      "누적 합 = 1632\n"
     ]
    }
   ],
   "source": [
    "# 3)\n",
    "cnt = tot = 0\n",
    "dataset = []\n",
    "\n",
    "for cnt in range(1, 100):\n",
    "    cnt += 1\n",
    "    if cnt % 3 and cnt % 2 != 0:\n",
    "        tot += cnt\n",
    "        dataset.append(cnt)\n",
    "    else:\n",
    "        continue\n",
    "    \n",
    "print(\"수열 =\", dataset)\n",
    "print(\"누적 합 =\", tot)"
   ]
  },
  {
   "cell_type": "code",
   "execution_count": 4,
   "metadata": {},
   "outputs": [
    {
     "name": "stdout",
     "output_type": "stream",
     "text": [
      "단어 개수 : 10\n"
     ]
    }
   ],
   "source": [
    "# 4)\n",
    "cnt = 0\n",
    "sen = []\n",
    "word = []\n",
    "multiline=\"\"\"안녕하세요. 파이썬 세계로 오신걸 환영합니다.\n",
    "파이썬은 비단뱀 처럼 매력적인 언어입니다.\"\"\"\n",
    "\n",
    "for line in multiline.split():\n",
    "    sen.append(line)\n",
    "    for w in line.split():\n",
    "        word.append(w)\n",
    "        cnt += 1\n",
    "\n",
    "print('단어 개수 :', cnt)"
   ]
  }
 ],
 "metadata": {
  "interpreter": {
   "hash": "949c5d161ae06a9191be236957b0dfe2172f0f0097fbf05f4df159099ee18a3c"
  },
  "kernelspec": {
   "display_name": "Python 3.8.5 64-bit ('tjoeun')",
   "language": "python",
   "name": "python3"
  },
  "language_info": {
   "codemirror_mode": {
    "name": "ipython",
    "version": 3
   },
   "file_extension": ".py",
   "mimetype": "text/x-python",
   "name": "python",
   "nbconvert_exporter": "python",
   "pygments_lexer": "ipython3",
   "version": "3.8.5"
  },
  "orig_nbformat": 4
 },
 "nbformat": 4,
 "nbformat_minor": 2
}
