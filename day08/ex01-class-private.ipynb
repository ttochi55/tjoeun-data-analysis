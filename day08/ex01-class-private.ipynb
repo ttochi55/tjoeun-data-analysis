{
 "cells": [
  {
   "cell_type": "markdown",
   "metadata": {},
   "source": [
    "# class private"
   ]
  },
  {
   "cell_type": "code",
   "execution_count": 1,
   "metadata": {},
   "outputs": [],
   "source": [
    "'''\n",
    "파이썬에서는 모든 변수가\n",
    "객체의 주소를 저장하는 참조변수(reference variable)임\n",
    "'''\n",
    "\n",
    "number = 11\n",
    "name = '더조은'"
   ]
  },
  {
   "cell_type": "code",
   "execution_count": 2,
   "metadata": {},
   "outputs": [
    {
     "name": "stdout",
     "output_type": "stream",
     "text": [
      "m1 : 6\n",
      "m2 : 30\n"
     ]
    }
   ],
   "source": [
    "class Multiplication:\n",
    "    def __init__(self, num1, num2):\n",
    "        self.num1 = num1\n",
    "        self.num2 = num2\n",
    "    def multiply(self) :\n",
    "        return self.num1 * self.num2\n",
    "    \n",
    "m1 = Multiplication(2, 3)\n",
    "result1 = m1.multiply()\n",
    "print('m1 :', result1)\n",
    "\n",
    "m2 = Multiplication(5, 6)\n",
    "result2 = m2.multiply()\n",
    "print('m2 :', result2)"
   ]
  },
  {
   "cell_type": "code",
   "execution_count": 3,
   "metadata": {},
   "outputs": [
    {
     "name": "stdout",
     "output_type": "stream",
     "text": [
      "m1 : 6\n",
      "m2 : 30\n"
     ]
    }
   ],
   "source": [
    "class Multiplication2:\n",
    "    def __init__(self):\n",
    "        self.num1 = 0\n",
    "        self.num2 = 0\n",
    "    def multiply(self) :\n",
    "        return self.num1 * self.num2\n",
    "    \n",
    "m1 = Multiplication2()\n",
    "m1.num1 = 2\n",
    "m1.num2 = 3\n",
    "result1 = m1.multiply()\n",
    "print('m1 :', result1)\n",
    "\n",
    "m2 = Multiplication2()\n",
    "m2.num1 = 5\n",
    "m2.num2 = 6\n",
    "result2 = m2.multiply()\n",
    "print('m2 :', result2)"
   ]
  },
  {
   "cell_type": "code",
   "execution_count": 4,
   "metadata": {},
   "outputs": [
    {
     "name": "stdout",
     "output_type": "stream",
     "text": [
      "m1 : 6\n",
      "m2 : 30\n"
     ]
    }
   ],
   "source": [
    "class Multiplication3:\n",
    "    def __init__(self):\n",
    "        self.num1 = 0\n",
    "        self.num2 = 0\n",
    "    def set_data(self, num1, num2):\n",
    "        self.num1 = num1\n",
    "        self.num2 = num2\n",
    "    def multiply(self) :\n",
    "        return self.num1 * self.num2\n",
    "    \n",
    "m1 = Multiplication3()\n",
    "m1.set_data(2, 3)\n",
    "result1 = m1.multiply()\n",
    "print('m1 :', result1)\n",
    "\n",
    "m2 = Multiplication3()\n",
    "m2.set_data(5, 6)\n",
    "result2 = m2.multiply()\n",
    "print('m2 :', result2)"
   ]
  },
  {
   "cell_type": "code",
   "execution_count": 5,
   "metadata": {},
   "outputs": [
    {
     "name": "stdout",
     "output_type": "stream",
     "text": [
      "이름 : 더조은\n",
      "나이 : 21\n"
     ]
    }
   ],
   "source": [
    "class Student:\n",
    "    # 생성자를 작성하지 않는 경우\n",
    "    # 매개변수(parameter)가 없는 생성자가\n",
    "    #   ㄴ 기본생성자 : default constructor\n",
    "    # 자동으로 만들어짐\n",
    "    def set_data(self, name, age):\n",
    "        self.name = name\n",
    "        self.age = age\n",
    "    def display_info(self):\n",
    "        print(f\"이름 : {self.name}\", \n",
    "              f\"나이 : {self.age}\",\n",
    "              sep='\\n')\n",
    "\n",
    "s1 = Student()\n",
    "s1.set_data('더조은', 21)\n",
    "s1.display_info()"
   ]
  },
  {
   "cell_type": "code",
   "execution_count": 6,
   "metadata": {},
   "outputs": [
    {
     "name": "stdout",
     "output_type": "stream",
     "text": [
      "계좌 개설을 축하합니다 !!\n",
      "현재 잔액: 10,000 원\n",
      "20,000 원을 입금 하셨습니다\n",
      "현재 잔액: 30,000 원\n",
      "50,000 원을 입금 하셨습니다\n",
      "현재 잔액: 80,000 원\n",
      "30,000 원을 출금 하셨습니다\n",
      "현재 잔액: 50,000 원\n",
      "60,000 원을 출금 하셨습니다\n",
      "현재 잔액: -10,000 원\n",
      "-60,000 원을 입금 하셨습니다\n",
      "현재 잔액: -70,000 원\n"
     ]
    }
   ],
   "source": [
    "class Account:\n",
    "    def __init__(self):\n",
    "        self.balance = 0\n",
    "    \n",
    "    # 계좌 개설하는 메소드\n",
    "    # self 를 사용하는 메소드 <-- instance 메소드\n",
    "    # instance 메소드에서는 instance 메소드를 호출할 수 있음\n",
    "    # instance 메소드를 호출할 때는 앞에 self를 붙여줌\n",
    "    def open_account(self, money):\n",
    "        self.balance += money\n",
    "        print('계좌 개설을 축하합니다 !!')\n",
    "        self.display_account()\n",
    "        \n",
    "    # 입금하는 메소드\n",
    "    def deposit(self, money):\n",
    "        self.balance += money\n",
    "        print(f\"{money:,} 원을 입금 하셨습니다\")\n",
    "        self.display_account()\n",
    "    \n",
    "    # 출금하는 메소드\n",
    "    def withdraw(self, money):\n",
    "        self.balance -= money\n",
    "        print(f\"{money:,} 원을 출금 하셨습니다\")\n",
    "        self.display_account()\n",
    "    \n",
    "    # 현재 잔액을 출력하는 메소드\n",
    "    # self 를 사용하는 메소드 <-- instance 메소드\n",
    "    def display_account(self):\n",
    "        print(f\"현재 잔액: {self.balance:,} 원\")\n",
    "        \n",
    "        \n",
    "acc1 = Account()\n",
    "acc1.open_account(10000)\n",
    "\n",
    "acc1.deposit(20000)\n",
    "acc1.deposit(50000)\n",
    "\n",
    "acc1.withdraw(30000)\n",
    "acc1.withdraw(60000)\n",
    "\n",
    "acc1.deposit(-60000)"
   ]
  },
  {
   "cell_type": "code",
   "execution_count": 7,
   "metadata": {},
   "outputs": [
    {
     "name": "stdout",
     "output_type": "stream",
     "text": [
      "계좌 개설을 축하합니다 !!\n",
      "현재 잔액: 10,000 원\n",
      "20,000 원을 입금 하셨습니다\n",
      "현재 잔액: 30,000 원\n",
      "50,000 원을 입금 하셨습니다\n",
      "현재 잔액: 80,000 원\n",
      "30,000 원을 출금 하셨습니다\n",
      "현재 잔액: 50,000 원\n",
      "잔액이 부족 합니다\n",
      "현재 잔액: 50,000 원\n",
      "입금하시려는 금액을 확인해 주세요\n",
      "현재 잔액: 50,000 원\n"
     ]
    }
   ],
   "source": [
    "class Account2:\n",
    "    def __init__(self):\n",
    "        self.balance = 0\n",
    "    \n",
    "    def open_account(self, money):\n",
    "        self.balance += money\n",
    "        print('계좌 개설을 축하합니다 !!')\n",
    "        self.display_account()\n",
    "        \n",
    "    def deposit(self, money):\n",
    "        if money > 0:\n",
    "            self.balance += money\n",
    "            print(f\"{money:,} 원을 입금 하셨습니다\")\n",
    "        else:\n",
    "            print('입금하시려는 금액을 확인해 주세요')\n",
    "        self.display_account()\n",
    "    \n",
    "    def withdraw(self, money):\n",
    "        if self.balance >= money:\n",
    "            self.balance -= money\n",
    "            print(f\"{money:,} 원을 출금 하셨습니다\")\n",
    "        else:\n",
    "            print('잔액이 부족 합니다')\n",
    "        self.display_account()\n",
    "    \n",
    "    def display_account(self):\n",
    "        print(f\"현재 잔액: {self.balance:,} 원\")\n",
    "        \n",
    "        \n",
    "acc2 = Account2()\n",
    "acc2.open_account(10000)\n",
    "\n",
    "acc2.deposit(20000)\n",
    "acc2.deposit(50000)\n",
    "\n",
    "acc2.withdraw(30000)\n",
    "acc2.withdraw(60000)\n",
    "\n",
    "acc2.deposit(-60000)"
   ]
  },
  {
   "cell_type": "code",
   "execution_count": 8,
   "metadata": {},
   "outputs": [
    {
     "name": "stdout",
     "output_type": "stream",
     "text": [
      "계좌 개설을 축하합니다 !!\n",
      "현재 잔액: 10,000 원\n",
      "20,000 원을 입금 하셨습니다\n",
      "현재 잔액: 30,000 원\n",
      "50,000 원을 입금 하셨습니다\n",
      "현재 잔액: 80,000 원\n",
      "30,000 원을 출금 하셨습니다\n",
      "현재 잔액: 50,000 원\n",
      "잔액이 부족 합니다\n",
      "현재 잔액: 50,000 원\n",
      "40,000 원을 입금 하셨습니다\n",
      "현재 잔액: 90,000 원\n"
     ]
    }
   ],
   "source": [
    "'''\n",
    "멤버변수 앞에 '__' (던더)를 붙이면 private member variable 이 됨\n",
    "멤버변수가 private 이 되면 클래스 외부에서는 직접적으로 접근하지 못함\n",
    "클래스 내부에서만 접근해서 사용할 수 있음\n",
    "    ㄴ 같은 클래스에 있는 멤버변수에서만 사용(접근)할 수 있음\n",
    "멤버변수의 은닉화\n",
    "'''\n",
    "\n",
    "class Account3:\n",
    "    def __init__(self):\n",
    "        self.__balance = 0\n",
    "        \n",
    "    def open_account(self, money):\n",
    "        self.__balance += money\n",
    "        print('계좌 개설을 축하합니다 !!')\n",
    "        self.display_account()\n",
    "        \n",
    "    def deposit(self, money):\n",
    "        if money > 0:\n",
    "            self.__balance += money\n",
    "            print(f\"{money:,} 원을 입금 하셨습니다\")\n",
    "        else:\n",
    "            print('입금하시려는 금액을 확인해 주세요')\n",
    "        self.display_account()\n",
    "    \n",
    "    def withdraw(self, money):\n",
    "        if self.__balance >= money:\n",
    "            self.__balance -= money\n",
    "            print(f\"{money:,} 원을 출금 하셨습니다\")\n",
    "        else:\n",
    "            print('잔액이 부족 합니다')\n",
    "        self.display_account()\n",
    "    \n",
    "    def display_account(self):\n",
    "        print(f\"현재 잔액: {self.__balance:,} 원\")\n",
    "        \n",
    "        \n",
    "acc3 = Account3()\n",
    "acc3.open_account(10000)\n",
    "\n",
    "acc3.deposit(20000)\n",
    "acc3.deposit(50000)\n",
    "\n",
    "acc3.withdraw(30000)\n",
    "acc3.withdraw(60000)\n",
    "\n",
    "# acc3.__balance = -70000\n",
    "\n",
    "acc3.deposit(40000)"
   ]
  },
  {
   "cell_type": "code",
   "execution_count": 9,
   "metadata": {},
   "outputs": [
    {
     "name": "stdout",
     "output_type": "stream",
     "text": [
      "계좌정보 : (10000, '더조은', '001-125-9865-14')\n",
      "계좌정보 : (40000, '더조은', '001-125-9865-14')\n",
      "계좌정보 : (20000, '더조은', '001-125-9865-14')\n",
      "입금액을 확인해 주세요\n",
      "잔액이 부족 합니다\n"
     ]
    }
   ],
   "source": [
    "class Account4:\n",
    "    def __init__(self, balance, name, no):\n",
    "        self.__balance = balance\n",
    "        self.__name = name\n",
    "        self.__no = no\n",
    "        \n",
    "    # 계좌정보 확인하기 : 멤버변수의 값을 반환함 <-- getter 라고 함\n",
    "    def get_account(self):\n",
    "        return self.__balance, self.__name, self.__no\n",
    "\n",
    "    # 입금하는 메소드\n",
    "    def deposit(self, money) :\n",
    "        if money < 0:\n",
    "            print('입금액을 확인해 주세요')\n",
    "            return\n",
    "        self.__balance += money\n",
    "        \n",
    "    # 출금하는 메소드\n",
    "    def widhdraw(self, money) :\n",
    "        if money > self.__balance:\n",
    "            print('잔액이 부족 합니다')\n",
    "            return\n",
    "        self.__balance -= money\n",
    "        \n",
    "# Account4 의 객체(Object or instance) 생성하기\n",
    "# Account4 클래스의 생성자의 parameter 에\n",
    "# 전달할 data 들을 넣어줌\n",
    "acc4 = Account4(10000, '더조은', '001-125-9865-14')\n",
    "\n",
    "# 계좌정보 출력하기\n",
    "# self.__balance 는 private 멤버변수이므로\n",
    "# acc4.__balance 라고 해서 직접 접근이 안됨\n",
    "# self.__balance 와 같은 클래스에 있는 \n",
    "# 메소드에서만 접근할 수 있음\n",
    "acc4_info = acc4.get_account()\n",
    "print(\"계좌정보 :\", acc4_info)\n",
    "\n",
    "# 입금하기\n",
    "acc4.deposit(30000)\n",
    "acc4_info = acc4.get_account()\n",
    "print(\"계좌정보 :\", acc4_info)\n",
    "\n",
    "# 출금하기\n",
    "acc4.widhdraw(20000)\n",
    "acc4_info = acc4.get_account()\n",
    "print(\"계좌정보 :\", acc4_info)\n",
    "\n",
    "acc4.deposit(-80000)\n",
    "acc4.widhdraw(30000)"
   ]
  },
  {
   "cell_type": "code",
   "execution_count": 10,
   "metadata": {},
   "outputs": [
    {
     "name": "stdout",
     "output_type": "stream",
     "text": [
      "30,000 원을 입금 하셨습니다\n",
      "(40000, '더조은', '001-125-9865-14')\n",
      "20,000 원을 출금 하셨습니다\n",
      "(20000, '더조은', '001-125-9865-14')\n",
      "입금액을 확인해 주세요\n",
      "잔액이 부족 합니다\n"
     ]
    }
   ],
   "source": [
    "class Account5:\n",
    "    def __init__(self, balance, name, no):\n",
    "        self.__balance = balance\n",
    "        self.__name = name\n",
    "        self.__no = no\n",
    "        \n",
    "    def get_account(self):\n",
    "        return self.__balance, self.__name, self.__no\n",
    "\n",
    "    def deposit(self, money) :\n",
    "        if money < 0:\n",
    "            print('입금액을 확인해 주세요')\n",
    "            return\n",
    "        self.__balance += money\n",
    "        print(f\"{money:,} 원을 입금 하셨습니다\")\n",
    "        print(self.get_account())\n",
    "        \n",
    "    def widhdraw(self, money) :\n",
    "        if money > self.__balance:\n",
    "            print('잔액이 부족 합니다')\n",
    "            return\n",
    "        self.__balance -= money\n",
    "        print(f\"{money:,} 원을 출금 하셨습니다\")\n",
    "        print(self.get_account())\n",
    "\n",
    "acc5 = Account5(10000, '더조은', '001-125-9865-14')\n",
    "\n",
    "acc5.deposit(30000)\n",
    "acc5.widhdraw(20000)\n",
    "\n",
    "acc5.deposit(-80000)\n",
    "acc5.widhdraw(30000)"
   ]
  }
 ],
 "metadata": {
  "interpreter": {
   "hash": "949c5d161ae06a9191be236957b0dfe2172f0f0097fbf05f4df159099ee18a3c"
  },
  "kernelspec": {
   "display_name": "Python 3.8.5 64-bit ('tjoeun')",
   "language": "python",
   "name": "python3"
  },
  "language_info": {
   "codemirror_mode": {
    "name": "ipython",
    "version": 3
   },
   "file_extension": ".py",
   "mimetype": "text/x-python",
   "name": "python",
   "nbconvert_exporter": "python",
   "pygments_lexer": "ipython3",
   "version": "3.8.5"
  },
  "orig_nbformat": 4
 },
 "nbformat": 4,
 "nbformat_minor": 2
}
