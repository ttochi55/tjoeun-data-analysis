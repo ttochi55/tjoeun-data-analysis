{
 "cells": [
  {
   "cell_type": "markdown",
   "metadata": {},
   "source": [
    "# chapter04"
   ]
  },
  {
   "cell_type": "code",
   "execution_count": 3,
   "metadata": {},
   "outputs": [
    {
     "name": "stdout",
     "output_type": "stream",
     "text": [
      "[10, 1, 5, 2]\n",
      "[10, 1, 5, 2, 10, 1, 5, 2]\n",
      "[10, 1, 5, 2, 10, 1, 5, 2, 20]\n"
     ]
    }
   ],
   "source": [
    "# 1)\n",
    "lst = [10, 1, 5, 2]\n",
    "print(lst)\n",
    "lst = lst * 2\n",
    "print(lst)\n",
    "lst.append(lst[0] * 2)\n",
    "print(lst)"
   ]
  },
  {
   "cell_type": "code",
   "execution_count": 4,
   "metadata": {},
   "outputs": [
    {
     "name": "stdout",
     "output_type": "stream",
     "text": [
      "vector 수 : 3\n",
      "10\n",
      "5\n",
      "1\n",
      "vector 크기 : 3\n"
     ]
    }
   ],
   "source": [
    "# 2_A)\n",
    "import random\n",
    "\n",
    "list_numbers = []\n",
    "# list_size = int(input('리스트의 크기를 입력하세요 :'))\n",
    "list_size = 3\n",
    "print(f\"vector 수 : {list_size}\")\n",
    "\n",
    "for idx in range(list_size):\n",
    "    list_numbers.append(random.randint(1,10))\n",
    "    \n",
    "for number in list_numbers:\n",
    "    print(number)\n",
    "    \n",
    "print(f'vector 크기 : {list_size}')"
   ]
  },
  {
   "cell_type": "code",
   "execution_count": 5,
   "metadata": {},
   "outputs": [
    {
     "name": "stdout",
     "output_type": "stream",
     "text": [
      "vector 수 : 3\n",
      "7\n",
      "2\n",
      "3\n",
      "10 이(가) 리스트 안에 있나요? NO\n"
     ]
    }
   ],
   "source": [
    "# 2_B)\n",
    "import random\n",
    "\n",
    "list_numbers = []\n",
    "# list_size = int(input('리스트의 크기를 입력하세요 :'))\n",
    "list_size = 3\n",
    "print(f\"vector 수 : {list_size}\")\n",
    "\n",
    "for idx in range(list_size):\n",
    "    list_numbers.append(random.randint(1,10))\n",
    "    \n",
    "for number in list_numbers:\n",
    "    print(number)\n",
    "    \n",
    "num = random.randint(1,10)\n",
    "\n",
    "if num in list_numbers:\n",
    "    result = \"YES\"\n",
    "else:\n",
    "    result = \"NO\"\n",
    "    \n",
    "print(f'{num} 이(가) 리스트 안에 있나요?', result)"
   ]
  },
  {
   "cell_type": "code",
   "execution_count": 6,
   "metadata": {},
   "outputs": [
    {
     "name": "stdout",
     "output_type": "stream",
     "text": [
      "[1, 0, 1, 0, 1]\n"
     ]
    }
   ],
   "source": [
    "# 3_A)\n",
    "message = ['spam', 'ham', 'spam', 'ham', 'spam']\n",
    "spam_list = [int(bool(str1)) if str1 == 'spam' else int(not bool(str1)) for str1 in message]\n",
    "print(spam_list)"
   ]
  },
  {
   "cell_type": "code",
   "execution_count": 7,
   "metadata": {},
   "outputs": [
    {
     "name": "stdout",
     "output_type": "stream",
     "text": [
      "['spam', 'spam', 'spam']\n"
     ]
    }
   ],
   "source": [
    "# 3_B)\n",
    "message = ['spam', 'ham', 'spam', 'ham', 'spam']\n",
    "spam_list = [str1 for str1 in message if str1 == 'spam']\n",
    "print(spam_list)"
   ]
  },
  {
   "cell_type": "code",
   "execution_count": 8,
   "metadata": {},
   "outputs": [
    {
     "name": "stdout",
     "output_type": "stream",
     "text": [
      "중복되지 않는 직위 ['과장', '대리', '부장', '사장']\n"
     ]
    }
   ],
   "source": [
    "# 4)\n",
    "position = ['과장', '부장', '대리', '사장', '대리', '과장']\n",
    "\n",
    "non_dup = set(position)\n",
    "non_dup = list(non_dup)\n",
    "\n",
    "non_dup.sort()\n",
    "print('중복되지 않는 직위', non_dup)"
   ]
  },
  {
   "cell_type": "code",
   "execution_count": 9,
   "metadata": {},
   "outputs": [
    {
     "name": "stdout",
     "output_type": "stream",
     "text": [
      "각 직위별 빈도 수 {'과장': 2, '대리': 2, '부장': 1, '사장': 1}\n"
     ]
    }
   ],
   "source": [
    "frequency_position = {}\n",
    "\n",
    "for idx in range(len(non_dup)):\n",
    "    frequency_position[non_dup[idx]] = position.count(non_dup[idx])\n",
    "    \n",
    "print('각 직위별 빈도 수', frequency_position)"
   ]
  }
 ],
 "metadata": {
  "interpreter": {
   "hash": "949c5d161ae06a9191be236957b0dfe2172f0f0097fbf05f4df159099ee18a3c"
  },
  "kernelspec": {
   "display_name": "Python 3.8.5 64-bit ('tjoeun')",
   "language": "python",
   "name": "python3"
  },
  "language_info": {
   "codemirror_mode": {
    "name": "ipython",
    "version": 3
   },
   "file_extension": ".py",
   "mimetype": "text/x-python",
   "name": "python",
   "nbconvert_exporter": "python",
   "pygments_lexer": "ipython3",
   "version": "3.8.5"
  },
  "orig_nbformat": 4
 },
 "nbformat": 4,
 "nbformat_minor": 2
}
