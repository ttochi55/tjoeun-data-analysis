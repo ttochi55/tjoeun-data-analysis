{
 "cells": [
  {
   "cell_type": "markdown",
   "metadata": {},
   "source": [
    "# class - inheritance(extends), overriding"
   ]
  },
  {
   "cell_type": "markdown",
   "metadata": {},
   "source": [
    "## extends"
   ]
  },
  {
   "cell_type": "code",
   "execution_count": 1,
   "metadata": {},
   "outputs": [
    {
     "name": "stdout",
     "output_type": "stream",
     "text": [
      "덧셈 : 18\n",
      "뺄셈 : 2\n",
      "곱셈 : 80\n",
      "나눗셈 : 1.25\n"
     ]
    }
   ],
   "source": [
    "'''\n",
    "클래스 상속 (inheritance)\n",
    "  ㄴ 확장 (extension) __ extends 키워드 사용 (in java)\n",
    "      ㄴ 조상클래스에서 작성한 내용을 기본값으로 해서 (default)\n",
    "         자식클래스에서 내용을 확장해서 사용함\n",
    "         \n",
    "    형식) python\n",
    "    class 자식클래스이름(조상클래스이름)\n",
    "'''\n",
    "\n",
    "# + - * / 만 할 수 있음\n",
    "class Calc4:\n",
    "    def __init__(self, num1, num2):\n",
    "        self.num1 = num1\n",
    "        self.num2 = num2\n",
    "    \n",
    "    def add(self):\n",
    "        self.result = self.num1 + self.num2\n",
    "        return self.result\n",
    "    \n",
    "    def subtract(self):\n",
    "        self.result = self.num1 - self.num2\n",
    "        return self.result\n",
    "    \n",
    "    def multiply(self):\n",
    "        self.result = self.num1 * self.num2\n",
    "        return self.result\n",
    "    \n",
    "    def divide(self):\n",
    "        self.result = self.num1 / self.num2\n",
    "        return self.result\n",
    "    \n",
    "c1 = Calc4(10, 8)\n",
    "\n",
    "print('덧셈 :', c1.add())\n",
    "print('뺄셈 :', c1.subtract())\n",
    "print('곱셈 :', c1.multiply())\n",
    "print('나눗셈 :', c1.divide())"
   ]
  },
  {
   "cell_type": "code",
   "execution_count": 2,
   "metadata": {},
   "outputs": [
    {
     "name": "stdout",
     "output_type": "stream",
     "text": [
      "덧셈 : 18\n",
      "뺄셈 : 2\n",
      "곱셈 : 80\n",
      "나눗셈 : 1.25\n",
      "제곱 : 100000000\n"
     ]
    }
   ],
   "source": [
    "'''\n",
    "상속 : default   :  부모클래스 (Parent, Super)\n",
    "      추상적         기반클래스(base, class)\n",
    "      extension :  자식클래스 (Child, Sub)\n",
    "      구체적         파생클래스 (derived class)\n",
    "      \n",
    "                                생물\n",
    "               동물                             식물\n",
    "        척추동물     무척추동물               꽃식물      민꽃식물\n",
    "      \n",
    "포유류/조류/파충류    절지동물 연체동물          속씨식물\n",
    "/양서류/어류                         씽딱잎식물 외떡잎식물\n",
    "'''\n",
    "\n",
    "# + - * / 도 하고 제곱연산도 할 수 있는 클래스 작성하기\n",
    "class Calc4Power(Calc4):\n",
    "    def power(self):\n",
    "        self.result = self.num1 ** self.num2\n",
    "        return self.result\n",
    "        \n",
    "c2 = Calc4Power(10, 8)\n",
    "\n",
    "print('덧셈 :', c2.add())\n",
    "print('뺄셈 :', c2.subtract())\n",
    "print('곱셈 :', c2.multiply())\n",
    "print('나눗셈 :', c2.divide())\n",
    "print('제곱 :', c2.power())"
   ]
  },
  {
   "cell_type": "code",
   "execution_count": 3,
   "metadata": {},
   "outputs": [
    {
     "name": "stdout",
     "output_type": "stream",
     "text": [
      "소리를 냅니다\n",
      "소리를 냅니다\n",
      "소리를 냅니다\n"
     ]
    }
   ],
   "source": [
    "class Animal:\n",
    "    def sound(self):\n",
    "        print('소리를 냅니다')\n",
    "        \n",
    "class Dog(Animal):\n",
    "    pass\n",
    "\n",
    "class Cat(Animal):\n",
    "    pass\n",
    "\n",
    "a1 = Animal()\n",
    "a1.sound()\n",
    "\n",
    "d1 = Dog()\n",
    "d1.sound()\n",
    "\n",
    "c1 = Cat()\n",
    "c1.sound()"
   ]
  },
  {
   "cell_type": "markdown",
   "metadata": {},
   "source": [
    "## overriding"
   ]
  },
  {
   "cell_type": "code",
   "execution_count": 4,
   "metadata": {},
   "outputs": [
    {
     "name": "stdout",
     "output_type": "stream",
     "text": [
      "소리를 냅니다\n",
      "소리를 냅니다\n",
      "멍멍 ~~~\n",
      "소리를 냅니다\n",
      "야옹 ~~~\n"
     ]
    }
   ],
   "source": [
    "'''\n",
    "super()\n",
    "  ㄴ 상속관계에서 자식에서 부모를 지칭할 때 사용함\n",
    "  \n",
    "메소드 overriding\n",
    "  ㄴ 상속관계에서 부모클래스에 정의되어있는 메소드를\n",
    "     자식클래스에서 상속받아서 사용할 때,\n",
    "     선언부는 부모클래스에 있는 메소드의 선언부와 똑같이 하고\n",
    "     bodu(몸통-구현부)의 내용은 해당 자식클래스에 맞게\n",
    "     변형해서 사용하는 기법\n",
    "'''\n",
    "class Animal:\n",
    "    def sound(self):\n",
    "        print('소리를 냅니다')\n",
    "        \n",
    "class Dog(Animal):\n",
    "    def sound(self):\n",
    "        super().sound()\n",
    "        print('멍멍 ~~~')\n",
    "\n",
    "class Cat(Animal):\n",
    "    def sound(self):\n",
    "        super().sound()\n",
    "        print('야옹 ~~~')\n",
    "\n",
    "a1 = Animal()\n",
    "a1.sound()\n",
    "\n",
    "d1 = Dog()\n",
    "d1.sound()\n",
    "\n",
    "c1 = Cat()\n",
    "c1.sound()"
   ]
  },
  {
   "cell_type": "code",
   "execution_count": 5,
   "metadata": {},
   "outputs": [
    {
     "name": "stdout",
     "output_type": "stream",
     "text": [
      "연필\n",
      "연필 패키지 가격 : 1500\n",
      "--------------------------------------------------\n",
      "지우개 가격 : 50 원\n",
      "지우개 패키지 가격 : 750\n"
     ]
    }
   ],
   "source": [
    "class Product:\n",
    "    def __init__(self, name):\n",
    "        self.name = name\n",
    "        self.price = 10\n",
    "        \n",
    "    def __str__(self):\n",
    "        return self.name\n",
    "    \n",
    "    def package_price(self):\n",
    "        return self.price * 10\n",
    "    \n",
    "class Pencil(Product):\n",
    "    def __init__(self, name):\n",
    "        '''\n",
    "        자식클래스에서 부모클래스에 있는 메소드를 호출할 때\n",
    "        (생성자나 일반메소드 모두)\n",
    "        부모클래스의 이름을 사용해서 호출하면 argument로 self 를 넣어줘야 함\n",
    "        super() 를 사용해서 호출하면 argument 로 self 를 넣어주지 않음\n",
    "        '''\n",
    "        super().__init__(name)\n",
    "        # Product.__init__(self, name)\n",
    "        self.price = 100\n",
    "    \n",
    "    # overriding \n",
    "    def package_price(self):\n",
    "        return self.price * 15\n",
    "    \n",
    "class Eraser(Product):\n",
    "    def __init__(self, name):\n",
    "        super().__init__(name)\n",
    "        # Product.__init__(self, name)\n",
    "        self.price = 50\n",
    "    \n",
    "    # overriding\n",
    "    def package_price(self):\n",
    "        return self.price * 15\n",
    "    \n",
    "    # overriding\n",
    "    def __str__(self):\n",
    "        return Product.__str__(self) + ' 가격 : ' + str(self.price) + ' 원'\n",
    "    \n",
    "\n",
    "p1 = Pencil('연필')\n",
    "print(p1)\n",
    "print('연필 패키지 가격 :', p1.package_price())\n",
    "print('-' * 50)\n",
    "\n",
    "e1 = Eraser('지우개')\n",
    "print(e1)\n",
    "print('지우개 패키지 가격 :', e1.package_price())\n"
   ]
  },
  {
   "cell_type": "code",
   "execution_count": 6,
   "metadata": {},
   "outputs": [
    {
     "name": "stdout",
     "output_type": "stream",
     "text": [
      "총 수령 금액(정규직) : 4,300,000 원\n",
      "총 수령 금액(임시직) : 3,200,000 원\n"
     ]
    }
   ],
   "source": [
    "class Employee:\n",
    "    name = None\n",
    "    pay = 0\n",
    "    \n",
    "    def __init__(self, name):\n",
    "        self.name = name\n",
    "    def pay_calc(self, base, bonus):\n",
    "        pass\n",
    "    \n",
    "# 정규직 사원\n",
    "class Permanent(Employee):\n",
    "    def __init__(self, name):\n",
    "        super().__init__(name)\n",
    "        \n",
    "    # overriding\n",
    "    def pay_calc(self, base, bonus):\n",
    "        '''\n",
    "        급여 = 기본급 + 상여금\n",
    "        '''\n",
    "        self.pay = base + bonus\n",
    "        print(\"총 수령 금액(정규직) :\", f\"{self.pay:,} 원\")\n",
    "        \n",
    "# 임시직 직원\n",
    "class Temporary(Employee):\n",
    "    def __init__(self, name):\n",
    "        super().__init__(name)\n",
    "        \n",
    "    # overriding\n",
    "    def pay_calc(self, time_pay, time):\n",
    "        '''\n",
    "        급여 = 시간당급여 * 시간\n",
    "        '''\n",
    "        self.pay = time_pay * time\n",
    "        print(\"총 수령 금액(임시직) :\", f\"{self.pay:,} 원\")\n",
    "        \n",
    "p1 = Permanent('더조은')\n",
    "p1.pay_calc(4000000, 300000)\n",
    "\n",
    "t1 = Temporary('아이티')\n",
    "t1.pay_calc(20000, 160)"
   ]
  }
 ],
 "metadata": {
  "interpreter": {
   "hash": "949c5d161ae06a9191be236957b0dfe2172f0f0097fbf05f4df159099ee18a3c"
  },
  "kernelspec": {
   "display_name": "Python 3.8.5 64-bit ('tjoeun')",
   "language": "python",
   "name": "python3"
  },
  "language_info": {
   "codemirror_mode": {
    "name": "ipython",
    "version": 3
   },
   "file_extension": ".py",
   "mimetype": "text/x-python",
   "name": "python",
   "nbconvert_exporter": "python",
   "pygments_lexer": "ipython3",
   "version": "3.8.5"
  },
  "orig_nbformat": 4
 },
 "nbformat": 4,
 "nbformat_minor": 2
}
