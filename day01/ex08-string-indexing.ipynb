{
 "cells": [
  {
   "cell_type": "markdown",
   "metadata": {},
   "source": [
    "# 파이썬 기초수업\n",
    "\n",
    "문자열 인덱싱(indexing)"
   ]
  },
  {
   "cell_type": "code",
   "execution_count": 56,
   "metadata": {},
   "outputs": [
    {
     "name": "stdout",
     "output_type": "stream",
     "text": [
      "len(str1) : 42\n"
     ]
    }
   ],
   "source": [
    "# 문자열의 길이 = 문자열 속에 있는 문자(공백 포함)들의 개수\n",
    "# 문자열의 길이 - 1 = 맨 마지막 index 번호\n",
    "\n",
    "str1 = 'Python is my favorite programming language'\n",
    "\n",
    "print('len(str1) :', len(str1))"
   ]
  },
  {
   "cell_type": "code",
   "execution_count": 57,
   "metadata": {},
   "outputs": [
    {
     "name": "stdout",
     "output_type": "stream",
     "text": [
      "f\n",
      "p\n",
      "m\n",
      "g\n",
      "e\n",
      "e\n",
      "P\n"
     ]
    }
   ],
   "source": [
    "'''\n",
    "  Python is my favorite programming language\n",
    " 012345678901234567890123456789012345678901\n",
    "           1         2         3         4\n",
    "'''\n",
    "\n",
    "print(str1[13])\n",
    "print(str1[22])\n",
    "print(str1[28])\n",
    "print(str1[37])\n",
    "\n",
    "print(str1[-1])\n",
    "print(str1[41])\n",
    "print(str1[0])"
   ]
  },
  {
   "cell_type": "code",
   "execution_count": 58,
   "metadata": {},
   "outputs": [
    {
     "name": "stdout",
     "output_type": "stream",
     "text": [
      "favorite\n",
      "favorit\n",
      "Python is my favorite programming language\n",
      "Python\n",
      "Python\n",
      "Python is my favorite pr\n",
      "Python is my favorite pr\n",
      "Pto sm aoiep\n",
      "Ph   vi \n",
      "Python is my favorite programming language\n",
      "Python is my favorite programming languag\n",
      "Python is my favorite programming languag\n",
      "Python is my favorite programming language\n",
      "Python is my favorite programming language\n"
     ]
    }
   ],
   "source": [
    "'''\n",
    "문자열 slicing\n",
    "문자열[start:end] - start 포함 end 안 포함\n",
    "문자열[start:] - start 부터 끝까지\n",
    "문자열[:end] - 맨 처음부터 end 안 포함\n",
    "문자열[:end:step] - 맨 처음부터 end 안 포함 (step-1) 만큼 건너뛰기\n",
    "문자열[:] - 맨 처음부터 끝까지\n",
    "\n",
    "  Python is my favorite programming language\n",
    " 012345678901234567890123456789012345678901\n",
    "           1         2         3         4\n",
    "'''\n",
    "\n",
    "print(str1[13:21])  # favorite\n",
    "print(str1[13:20])  # favorit\n",
    "print(str1[:])      # Python is my favorite programming language\n",
    "print(str1[0:6])    # Python\n",
    "print(str1[:6])     # Python\n",
    "\n",
    "print(str1[:24])    # Python is my favorite pr\n",
    "print(str1[:24:1])  # Python is my favorite pr\n",
    "print(str1[:24:2])  # Pto sm aoiep\n",
    "print(str1[:24:3])  # Ph   vi \n",
    "\n",
    "print(str1[:])      # Python is my favorite programming language\n",
    "print(str1[:-1])    # Python is my favorite programming languag\n",
    "print(str1[:41])    # Python is my favorite programming languag\n",
    "print(str1[:len(str1)])    # Python is my favorite programming language\n",
    "print(str1[:42])    # Python is my favorite programming language"
   ]
  },
  {
   "cell_type": "code",
   "execution_count": 59,
   "metadata": {},
   "outputs": [
    {
     "name": "stdout",
     "output_type": "stream",
     "text": [
      "Python is my favorite programming language\n",
      "Python is my favorite programming language\n",
      "Python is my favorite\n",
      "Python is my favorite\n",
      "Python is my favorite programming language and....\n",
      "Python is my favorite programming language\n"
     ]
    }
   ],
   "source": [
    "str1 = 'Python is my favorite programming language'\n",
    "print(str1[:len(str1)])\n",
    "print(str1[:42])\n",
    "\n",
    "str1 = 'Python is my favorite'\n",
    "print(str1[:len(str1)])\n",
    "print(str1[:42])\n",
    "\n",
    "str1 = 'Python is my favorite programming language and....'\n",
    "print(str1[:len(str1)])\n",
    "print(str1[:42])"
   ]
  },
  {
   "cell_type": "code",
   "execution_count": 60,
   "metadata": {},
   "outputs": [
    {
     "name": "stdout",
     "output_type": "stream",
     "text": [
      "20220212\n"
     ]
    }
   ],
   "source": [
    "date_info = \"20220212sunny\"\n",
    "\n",
    "'''\n",
    "date_info 에서 날짜부분만 출력하세요\n",
    "(slicing 을 사용하세요)\n",
    "  ㄴ index 번호를 알아야 함 <-- len() / find() / index()\n",
    "'''\n",
    "\n",
    "idx_s = date_info.find('s')\n",
    "print(date_info[:idx_s])"
   ]
  },
  {
   "cell_type": "code",
   "execution_count": 61,
   "metadata": {},
   "outputs": [
    {
     "name": "stdout",
     "output_type": "stream",
     "text": [
      "sunny\n"
     ]
    }
   ],
   "source": [
    "date_info = \"20220212sunny\"\n",
    "\n",
    "'''\n",
    "date_info 에서 날짜부분만 출력하세요\n",
    "'''\n",
    "\n",
    "idx_s = date_info.find('s')\n",
    "print(date_info[idx_s:])"
   ]
  },
  {
   "cell_type": "code",
   "execution_count": 62,
   "metadata": {},
   "outputs": [
    {
     "name": "stdout",
     "output_type": "stream",
     "text": [
      "2022\n",
      "02\n",
      "12\n"
     ]
    }
   ],
   "source": [
    "date_info = \"20220212sunny\"\n",
    "print(date_info[0:4]) # date_info 에서 연도만 출력하세요\n",
    "print(date_info[4:6]) # date_info 에서 월만 출력하세요\n",
    "print(date_info[6:8]) # date_info 에서 일짜만 출력하세요"
   ]
  },
  {
   "cell_type": "code",
   "execution_count": 63,
   "metadata": {},
   "outputs": [
    {
     "name": "stdout",
     "output_type": "stream",
     "text": [
      "yo\n",
      "yo\n",
      "yo\n",
      "yo\n"
     ]
    }
   ],
   "source": [
    "'''\n",
    "str2 에서 slicing (스텝) 을 사용해서 'yo' 를 출력하세요\n",
    "str2 에서 indexing (연결연산자) 을 사용해서 'yo' 를 출력하세요\n",
    "'''\n",
    "str2 = 'python'\n",
    "\n",
    "print(str2[1::3])\n",
    "print(str2[1] + str2[4])\n",
    "print(str2[1] + str2[-2])\n",
    "\n",
    "idx1 = str2.find('y')\n",
    "idx2 = str2.find('o')\n",
    "print(str2[idx1] + str2[idx2])"
   ]
  },
  {
   "cell_type": "code",
   "execution_count": 64,
   "metadata": {},
   "outputs": [
    {
     "name": "stdout",
     "output_type": "stream",
     "text": [
      "pytthon\n",
      "pytthon\n",
      "pytthon\n"
     ]
    }
   ],
   "source": [
    "'''\n",
    "# str2 문자열('python') 을 아래와 같이 출력하세요\n",
    "'pytthon' : indexing, slicing, 연결연산자\n",
    "'''\n",
    "str2 = 'python'\n",
    "\n",
    "print(str2[:3] + \"t\" + str2[3:])\n",
    "print(str2[:3] + str2[2] + str2[3:])\n",
    "print(str2[:3] + str2[2:])"
   ]
  },
  {
   "cell_type": "code",
   "execution_count": 65,
   "metadata": {},
   "outputs": [
    {
     "name": "stdout",
     "output_type": "stream",
     "text": [
      "programming\n",
      "programming\n",
      "programming\n",
      "programming\n"
     ]
    }
   ],
   "source": [
    "'''\n",
    "# str3 문자열 에 저장된 문자열을 programming 으로 고쳐보세요\n",
    "1) 'programming' : indexing, slicing, 연결연산자\n",
    "2) replace() 메소드\n",
    "'''\n",
    "str3 = 'proqramming'\n",
    "\n",
    "print(str3[:3] + 'g' + str3[4:])\n",
    "print(str3[:3] + str3[-1] + str3[4:])\n",
    "print(str3.replace('q', 'g'))\n",
    "print(str3.replace('proqramming', 'programming'))"
   ]
  }
 ],
 "metadata": {
  "interpreter": {
   "hash": "949c5d161ae06a9191be236957b0dfe2172f0f0097fbf05f4df159099ee18a3c"
  },
  "kernelspec": {
   "display_name": "Python 3.8.5 64-bit ('tjoeun')",
   "language": "python",
   "name": "python3"
  },
  "language_info": {
   "codemirror_mode": {
    "name": "ipython",
    "version": 3
   },
   "file_extension": ".py",
   "mimetype": "text/x-python",
   "name": "python",
   "nbconvert_exporter": "python",
   "pygments_lexer": "ipython3",
   "version": "3.8.5"
  },
  "orig_nbformat": 4
 },
 "nbformat": 4,
 "nbformat_minor": 2
}
