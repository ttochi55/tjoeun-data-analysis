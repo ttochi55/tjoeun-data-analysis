{
 "cells": [
  {
   "cell_type": "markdown",
   "metadata": {},
   "source": [
    "# 파이썬 기초수업\n",
    "\n",
    "문자열 인덱싱(indexing)"
   ]
  },
  {
   "cell_type": "code",
   "execution_count": 41,
   "metadata": {},
   "outputs": [
    {
     "name": "stdout",
     "output_type": "stream",
     "text": [
      "짝짝짝\n",
      "홀홀홀\n"
     ]
    }
   ],
   "source": [
    "'''\n",
    "'짝짝짝' 이 출력되도록 해 보세요 : step 사용하기\n",
    "'홀홀홀' 이 출력되도록 해 보세요 : step 사용하기\n",
    "'''\n",
    "str1 = '홀짝홀짝홀짝'\n",
    "\n",
    "print(str1[1::2])\n",
    "print(str1[0::2])"
   ]
  },
  {
   "cell_type": "code",
   "execution_count": 42,
   "metadata": {},
   "outputs": [
    {
     "name": "stdout",
     "output_type": "stream",
     "text": [
      "nohtyp\n"
     ]
    }
   ],
   "source": [
    "'''\n",
    "문자열 거꾸로 출력하기\n",
    "- 'nohtyp' 을 출력하세요\n",
    "'''\n",
    "\n",
    "str2 = 'python'\n",
    "print(str2[::-1])"
   ]
  },
  {
   "cell_type": "code",
   "execution_count": 43,
   "metadata": {},
   "outputs": [
    {
     "name": "stdout",
     "output_type": "stream",
     "text": [
      "01065988754\n",
      "01065988754\n"
     ]
    }
   ],
   "source": [
    "'''\n",
    "전화번호에서 '-'를 제거하고 출력하세요\n",
    "'''\n",
    "\n",
    "phone = '010-6598-8754'\n",
    "\n",
    "# slicing\n",
    "print(phone[:3] + phone[4:8] + phone[9:])\n",
    "\n",
    "# 2) replace() : 문자열 제거할 때는 ''(빈문자열) 사용\n",
    "print(phone.replace('-', ''))"
   ]
  },
  {
   "cell_type": "code",
   "execution_count": 44,
   "metadata": {},
   "outputs": [
    {
     "name": "stdout",
     "output_type": "stream",
     "text": [
      "naver\n",
      "['http://www', 'naver', 'com']\n",
      "naver\n",
      "naver\n"
     ]
    }
   ],
   "source": [
    "'''\n",
    "아래의 문자열에서 'naver'를 출력하세요\n",
    "1) slicing\n",
    "2) split()\n",
    "'''\n",
    "\n",
    "url_addr = 'http://www.naver.com'\n",
    "\n",
    "# 1) slicing\n",
    "start = url_addr.find('naver')\n",
    "end = start + len('naver')\n",
    "print(url_addr[start:end])\n",
    "\n",
    "# 2) split()\n",
    "print(url_addr.split('.'))\n",
    "print(url_addr.split('.')[1])\n",
    "print(url_addr.split('.')[-2])\n"
   ]
  },
  {
   "cell_type": "code",
   "execution_count": 45,
   "metadata": {},
   "outputs": [
    {
     "name": "stdout",
     "output_type": "stream",
     "text": [
      "이름: 이순신 나이: 48 \n",
      "이름: 강감찬 나이: 72\n",
      "이름: 이순신 나이: 48 \n",
      "이름: 강감찬 나이: 72\n",
      "이름: 이순신 나이: 48 \n",
      "이름: 강감찬 나이: 72\n"
     ]
    }
   ],
   "source": [
    "'''\n",
    "1) print formatting (%-formatting)을 사용해서\n",
    "아래와 같이 출력하세요\n",
    "\n",
    "이름: 이순신 나이: 48\n",
    "이름: 강감찬 나이: 72\n",
    "\n",
    "2) str.format()\n",
    "\n",
    "3) f-string\n",
    "'''\n",
    "\n",
    "name1 = '이순신'\n",
    "age1 = 48\n",
    "name2 = '강감찬'\n",
    "age2 = 72\n",
    "\n",
    "print(\"이름: %s 나이: %d \\n이름: %s 나이: %d\" % (name1, age1, name2, age2))\n",
    "print(\"이름: {} 나이: {} \\n이름: {} 나이: {}\".format(name1, age1, name2, age2))\n",
    "print(f\"이름: {name1} 나이: {age1} \\n이름: {name2} 나이: {age2}\")\n"
   ]
  },
  {
   "cell_type": "code",
   "execution_count": 46,
   "metadata": {},
   "outputs": [
    {
     "name": "stdout",
     "output_type": "stream",
     "text": [
      "6548325658\n",
      "result : 6548325658\n",
      "result : <class 'str'>\n",
      "number : 6548325658\n",
      "number : <class 'int'>\n"
     ]
    }
   ],
   "source": [
    "'''\n",
    "아래 문자열의 ,를 제거하고\n",
    "정수타입(int) 으로 변환해서 출력하세요\n",
    "'''\n",
    "\n",
    "quoted_share = '6,548,325,658'\n",
    "print(quoted_share.replace(',',''))\n",
    "\n",
    "result = quoted_share.replace(',','')\n",
    "print('result :', result)\n",
    "print('result :', type(result))\n",
    "# result : <class 'str'>\n",
    "#            ㄴ type\n",
    "\n",
    "number = int(result)\n",
    "print('number :', number)\n",
    "print('number :', type(number))\n",
    "# result : <class 'int'>\n",
    "#            ㄴ type"
   ]
  },
  {
   "cell_type": "code",
   "execution_count": 47,
   "metadata": {},
   "outputs": [
    {
     "name": "stdout",
     "output_type": "stream",
     "text": [
      "True\n",
      "True\n"
     ]
    }
   ],
   "source": [
    "'''\n",
    "endswith('문자열') 메소드\n",
    "  : 해당 문자열이 지정한 문자열로 끝나는지 알아보는 메소드\n",
    "'''\n",
    "\n",
    "file1 = \"20220212보고서.xlsx\"\n",
    "print(file1.endswith('.xlsx'))\n",
    "\n",
    "'''\n",
    "  해당 문자열이 'xlsx' 나 'xls' 로 끝나는지 알아보기\n",
    "'''\n",
    "print(file1.endswith(('.xlsx', '.xls')))"
   ]
  },
  {
   "cell_type": "code",
   "execution_count": 48,
   "metadata": {},
   "outputs": [
    {
     "name": "stdout",
     "output_type": "stream",
     "text": [
      "True\n"
     ]
    }
   ],
   "source": [
    "'''\n",
    "startswith('문자열') 메소드\n",
    "  : 해당 문자열이 지정한 문자열로 시작하는지 알아보는 메소드\n",
    "'''\n",
    "\n",
    "file1 = \"20220212보고서.xlsx\"\n",
    "print(file1.startswith('2022'))"
   ]
  }
 ],
 "metadata": {
  "interpreter": {
   "hash": "949c5d161ae06a9191be236957b0dfe2172f0f0097fbf05f4df159099ee18a3c"
  },
  "kernelspec": {
   "display_name": "Python 3.8.5 64-bit ('tjoeun')",
   "language": "python",
   "name": "python3"
  },
  "language_info": {
   "codemirror_mode": {
    "name": "ipython",
    "version": 3
   },
   "file_extension": ".py",
   "mimetype": "text/x-python",
   "name": "python",
   "nbconvert_exporter": "python",
   "pygments_lexer": "ipython3",
   "version": "3.8.5"
  },
  "orig_nbformat": 4
 },
 "nbformat": 4,
 "nbformat_minor": 2
}
