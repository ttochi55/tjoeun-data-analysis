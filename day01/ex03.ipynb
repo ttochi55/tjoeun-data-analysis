{
 "cells": [
  {
   "cell_type": "markdown",
   "metadata": {},
   "source": [
    "# 파이썬 기초수업\n",
    "\n",
    "문자열 포맷"
   ]
  },
  {
   "cell_type": "code",
   "execution_count": 14,
   "metadata": {},
   "outputs": [
    {
     "data": {
      "text/plain": [
       "'\\n1) %-formatting\\n   ㄴ format          specifier\\n      서식(형식, 양식)   지정자\\n      %문자 - 서식문자, 형식문자, 양식문자, 변환문자\\n\\n2) str.format() - format 메소드(함수)\\n      ㄴ (.) : 접근연산자(access operator)\\n\\n3) f-string : 문자열(따옴표) 앞에 알파벳 f를 붙임\\n'"
      ]
     },
     "execution_count": 14,
     "metadata": {},
     "output_type": "execute_result"
    }
   ],
   "source": [
    "'''\n",
    "1) %-formatting\n",
    "   ㄴ format          specifier\n",
    "      서식(형식, 양식)   지정자\n",
    "      %문자 - 서식문자, 형식문자, 양식문자, 변환문자\n",
    "\n",
    "2) str.format() - format 메소드(함수)\n",
    "      ㄴ (.) : 접근연산자(access operator)\n",
    "\n",
    "3) f-string : 문자열(따옴표) 앞에 알파벳 f를 붙임\n",
    "'''"
   ]
  },
  {
   "cell_type": "code",
   "execution_count": 15,
   "metadata": {},
   "outputs": [],
   "source": [
    "'''\n",
    "이름 : 이순신, 나이 : 46 세\n",
    "'''\n",
    "\n",
    "name = '이순신'\n",
    "age = 46"
   ]
  },
  {
   "cell_type": "code",
   "execution_count": 16,
   "metadata": {},
   "outputs": [
    {
     "name": "stdout",
     "output_type": "stream",
     "text": [
      "이름 : 이순신, 나이 : 46 세\n",
      "이름 : 이순신\n",
      "나이 : 46 세\n"
     ]
    }
   ],
   "source": [
    "# 1) %-formatting (print-formatting)\n",
    "\n",
    "'''\n",
    "서식문자\n",
    "%s - 문자열(string-str)\n",
    "%c - 문자 1개(character)\n",
    "%d - 정수(decimal : integer - int)\n",
    "%f - 실수(부동소수(floating-point) - float)\n",
    "%o - 8진수\n",
    "%x - 16진수\n",
    "%b - 2진수\n",
    "%% - Literal(실제값) % (문자 % 자체) \n",
    "'''\n",
    "\n",
    "print(\"이름 : %s, 나이 : %d 세\" % (name, age))\n",
    "print(\"이름 : %s\" % name)\n",
    "print(\"나이 : %d 세\" % age)"
   ]
  },
  {
   "cell_type": "code",
   "execution_count": 17,
   "metadata": {},
   "outputs": [
    {
     "name": "stdout",
     "output_type": "stream",
     "text": [
      "이름 : 이순신, 나이 : 46 세, 직업 : 장군\n",
      "이름 : 이순신, 나이 : 46 세, 직업 : 장군\n",
      "이름 : 46, 나이 : 장군 세, 직업 : 이순신\n",
      "이름 : 이순신, 나이 : 46 세, 직업 : 장군\n"
     ]
    }
   ],
   "source": [
    "'''\n",
    "2) str.format() - format 메소드(함수)\n",
    "      ㄴ (.) : 접근연산자(access operator)\n",
    "'''\n",
    "job = '장군'\n",
    "\n",
    "print(\"이름 : {}, 나이 : {} 세, 직업 : {}\".format(name, age, job))\n",
    "print(\"이름 : {0}, 나이 : {1} 세, 직업 : {2}\".format(name, age, job))\n",
    "print(\"이름 : {1}, 나이 : {2} 세, 직업 : {0}\".format(name, age, job))\n",
    "print(\"이름 : {1}, 나이 : {0} 세, 직업 : {2}\".format(age, name, job))"
   ]
  },
  {
   "cell_type": "code",
   "execution_count": 18,
   "metadata": {},
   "outputs": [
    {
     "name": "stdout",
     "output_type": "stream",
     "text": [
      "이름 : 이순신, 나이 : 46, 직업 : 장군\n"
     ]
    }
   ],
   "source": [
    "'''\n",
    "3) f-string : 문자열(따옴표) 앞에 알파벳 f를 붙임\n",
    "'''\n",
    "\n",
    "print(f\"이름 : {name}, 나이 : {age}, 직업 : {job}\")"
   ]
  }
 ],
 "metadata": {
  "interpreter": {
   "hash": "949c5d161ae06a9191be236957b0dfe2172f0f0097fbf05f4df159099ee18a3c"
  },
  "kernelspec": {
   "display_name": "Python 3.8.5 64-bit ('tjoeun')",
   "language": "python",
   "name": "python3"
  },
  "language_info": {
   "codemirror_mode": {
    "name": "ipython",
    "version": 3
   },
   "file_extension": ".py",
   "mimetype": "text/x-python",
   "name": "python",
   "nbconvert_exporter": "python",
   "pygments_lexer": "ipython3",
   "version": "3.8.5"
  },
  "orig_nbformat": 4
 },
 "nbformat": 4,
 "nbformat_minor": 2
}
