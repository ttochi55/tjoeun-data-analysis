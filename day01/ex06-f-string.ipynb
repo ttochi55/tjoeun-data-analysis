{
 "cells": [
  {
   "cell_type": "markdown",
   "metadata": {},
   "source": [
    "# 파이썬 기초수업\n",
    "\n",
    "f-string"
   ]
  },
  {
   "cell_type": "code",
   "execution_count": 7,
   "metadata": {},
   "outputs": [
    {
     "name": "stdout",
     "output_type": "stream",
     "text": [
      "나는 하루에 coffee를 5잔 마십니다\n"
     ]
    }
   ],
   "source": [
    "tea = \"coffee\"\n",
    "count = 5\n",
    "\n",
    "'''\n",
    "나는 하루에 커피를 5잔 마십니다\n",
    "'''\n",
    "\n",
    "print(f\"나는 하루에 {tea}를 {count}잔 마십니다\")"
   ]
  },
  {
   "cell_type": "code",
   "execution_count": 8,
   "metadata": {},
   "outputs": [
    {
     "name": "stdout",
     "output_type": "stream",
     "text": [
      "variable : 3.14\n"
     ]
    }
   ],
   "source": [
    "key = \"variable\"\n",
    "value = 3.14\n",
    "dict1 = f\"{key} : {value}\"\n",
    "\n",
    "print(dict1)"
   ]
  },
  {
   "cell_type": "code",
   "execution_count": 9,
   "metadata": {},
   "outputs": [
    {
     "name": "stdout",
     "output_type": "stream",
     "text": [
      "python              \n",
      "              python\n",
      "       python       \n"
     ]
    }
   ],
   "source": [
    "str2 = \"python\"\n",
    "s1 = f\"{str2: <20}\"\n",
    "s2 = f\"{str2: >20}\"\n",
    "s3 = f\"{str2: ^20}\"\n",
    "\n",
    "print(s1)\n",
    "print(s2)\n",
    "print(s3)"
   ]
  },
  {
   "cell_type": "code",
   "execution_count": 10,
   "metadata": {},
   "outputs": [
    {
     "name": "stdout",
     "output_type": "stream",
     "text": [
      "나이 : 23, {number}, {23}\n"
     ]
    }
   ],
   "source": [
    "number = 23\n",
    "print(f\"나이 : {number}, {{number}}, {{{number}}}\")"
   ]
  }
 ],
 "metadata": {
  "interpreter": {
   "hash": "949c5d161ae06a9191be236957b0dfe2172f0f0097fbf05f4df159099ee18a3c"
  },
  "kernelspec": {
   "display_name": "Python 3.8.5 64-bit ('tjoeun')",
   "language": "python",
   "name": "python3"
  },
  "language_info": {
   "codemirror_mode": {
    "name": "ipython",
    "version": 3
   },
   "file_extension": ".py",
   "mimetype": "text/x-python",
   "name": "python",
   "nbconvert_exporter": "python",
   "pygments_lexer": "ipython3",
   "version": "3.8.5"
  },
  "orig_nbformat": 4
 },
 "nbformat": 4,
 "nbformat_minor": 2
}
