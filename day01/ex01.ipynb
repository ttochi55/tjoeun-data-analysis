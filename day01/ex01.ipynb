{
 "cells": [
  {
   "cell_type": "markdown",
   "metadata": {},
   "source": [
    "# 파이썬 기초수업\n",
    "\n",
    "데이터 타입 및 주석"
   ]
  },
  {
   "cell_type": "code",
   "execution_count": 1,
   "metadata": {},
   "outputs": [
    {
     "data": {
      "text/plain": [
       "'\\n여러 줄\\n주석\\n입니다\\n'"
      ]
     },
     "execution_count": 1,
     "metadata": {},
     "output_type": "execute_result"
    }
   ],
   "source": [
    "# 주석 (comment - memo) : 프로그램이 실행되는 부분이 아니고 \n",
    "#                        메모를 남겨두는 부분\n",
    "# 한 줄 주석\n",
    "'''\n",
    "여러 줄\n",
    "주석\n",
    "입니다\n",
    "'''"
   ]
  },
  {
   "cell_type": "code",
   "execution_count": 2,
   "metadata": {},
   "outputs": [],
   "source": [
    "number1 = 11\n",
    "number2 = 22\n",
    "name = '더조은'\n",
    "number3 = '33'\n",
    "\n",
    "# 숫자 : 따옴표로 감싸지 않은 부분 - 11, 22\n",
    "# 문자(열) : 따옴표로 감싼 부분 - 더조은, 33\n",
    "# = : 할당연산자 - 오른쪽에 있는 값을 왼쪽에 할당(저장)함\n",
    "#                                   assign(ment)\n",
    "# == : 같다라는 의미를 가진 비교연산자\n",
    "# 10 == 10\n",
    "# 변수 : (숫자가 아니면서) 따옴표로 감싸지 않은 부분\n",
    "# variable (name : 이름표 - 데이터가 메모리 상에서 어떤 위치에\n",
    "#                         있는지 알려주는 역할을 함)"
   ]
  },
  {
   "cell_type": "code",
   "execution_count": 3,
   "metadata": {},
   "outputs": [
    {
     "name": "stdout",
     "output_type": "stream",
     "text": [
      "C : 3\n",
      "id(a) : 4506741264\n",
      "id(b) : 4506741296\n"
     ]
    }
   ],
   "source": [
    "a = 1\n",
    "b = 2\n",
    "c = a + b\n",
    "print('C :', c)\n",
    "\n",
    "# 메모리에 저장 된 주소 확인하기\n",
    "print('id(a) :', id(a));\n",
    "print('id(b) :', id(b));"
   ]
  },
  {
   "cell_type": "code",
   "execution_count": 4,
   "metadata": {},
   "outputs": [],
   "source": [
    "# program - (일의) 절차, 순서\n",
    "# programming - program 을 작성하는 것\n",
    "# computer - 사람의 언어를 모름 - 기계어 (0/1)\n",
    "#                             machine language - binary code\n",
    "#                             ㄴ computer         이진수\n",
    "# 프로그램 소스(파이썬) >> 기계어 : interpreter"
   ]
  },
  {
   "cell_type": "code",
   "execution_count": 5,
   "metadata": {},
   "outputs": [
    {
     "data": {
      "text/plain": [
       "\"\\n변수 : 1) data 를 저장한 공간에 붙이는 이름표\\n      2) data 를 저장한 공간\\n      \\n      number1 = 111\\n      1) 변수 <-- number1\\n      2) 변수 <-- number1이라는 이름표가 붙은 공간\\n      \\n변수를 사용하는 이유\\ndata 가 RAM 에 저장될 때\\nRAM 에 이미 정해진 어떤 주소지에 저장이 되는데\\nnumber 는 이 주소지로 data 의 위치를 파악함\\n이 data 를 활용하려면 이 주소를 computer 에게\\n알려줘야 하는데... 이 주소를 사용하는 것이 어려워서\\n대신 '뱐수' 라는 이름표를 사용함\\n(cf. 도메인 주소)\\n\""
      ]
     },
     "execution_count": 5,
     "metadata": {},
     "output_type": "execute_result"
    }
   ],
   "source": [
    "'''\n",
    "변수 : 1) data 를 저장한 공간에 붙이는 이름표\n",
    "      2) data 를 저장한 공간\n",
    "      \n",
    "      number1 = 111\n",
    "      1) 변수 <-- number1\n",
    "      2) 변수 <-- number1이라는 이름표가 붙은 공간\n",
    "      \n",
    "변수를 사용하는 이유\n",
    "data 가 RAM 에 저장될 때\n",
    "RAM 에 이미 정해진 어떤 주소지에 저장이 되는데\n",
    "number 는 이 주소지로 data 의 위치를 파악함\n",
    "이 data 를 활용하려면 이 주소를 computer 에게\n",
    "알려줘야 하는데... 이 주소를 사용하는 것이 어려워서\n",
    "대신 '뱐수' 라는 이름표를 사용함\n",
    "(cf. 도메인 주소)\n",
    "'''"
   ]
  },
  {
   "cell_type": "code",
   "execution_count": 6,
   "metadata": {},
   "outputs": [
    {
     "data": {
      "text/plain": [
       "\"\\ndata type\\n 자료 형(태) : 자료형\\n \\n type : 형\\n \\n *** 데이터를 하나 저장하는 type ***\\n 숫자형 - 정수(integer : int), 실수(float : 부동소수점),\\n        복소수(complex) - 허수를 포함한 실수\\n 문자열 - string : str type\\n 논리형 - boolean : bool type\\n \\n *** 데이터를 여러 개 저장하는 type ***\\n 리스트(list)\\n 튜플(tuple)\\n 셋(set)\\n 사전(dictionary)\\n \\n None - 데이터를 저장하고 있지 않은 상태\\n        ㄴ name = '더조은'\\n           name = None\\n\""
      ]
     },
     "execution_count": 6,
     "metadata": {},
     "output_type": "execute_result"
    }
   ],
   "source": [
    "'''\n",
    "data type\n",
    " 자료 형(태) : 자료형\n",
    " \n",
    " type : 형\n",
    " \n",
    " *** 데이터를 하나 저장하는 type ***\n",
    " 숫자형 - 정수(integer : int), 실수(float : 부동소수점),\n",
    "        복소수(complex) - 허수를 포함한 실수\n",
    " 문자열 - string : str type\n",
    " 논리형 - boolean : bool type\n",
    " \n",
    " *** 데이터를 여러 개 저장하는 type ***\n",
    " 리스트(list)\n",
    " 튜플(tuple)\n",
    " 셋(set)\n",
    " 사전(dictionary)\n",
    " \n",
    " None - 데이터를 저장하고 있지 않은 상태\n",
    "        ㄴ name = '더조은'\n",
    "           name = None\n",
    "'''"
   ]
  }
 ],
 "metadata": {
  "kernelspec": {
   "display_name": "Python 3",
   "language": "python",
   "name": "python3"
  },
  "language_info": {
   "codemirror_mode": {
    "name": "ipython",
    "version": 3
   },
   "file_extension": ".py",
   "mimetype": "text/x-python",
   "name": "python",
   "nbconvert_exporter": "python",
   "pygments_lexer": "ipython3",
   "version": "3.8.5"
  }
 },
 "nbformat": 4,
 "nbformat_minor": 4
}
