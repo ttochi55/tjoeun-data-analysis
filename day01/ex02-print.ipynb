{
 "cells": [
  {
   "cell_type": "markdown",
   "metadata": {},
   "source": [
    "# 파이썬 기초수업\n",
    "\n",
    "- python 의 문자열 출력 방법들\n",
    "- 연결연산자(+), 반점(,) 을 사용함"
   ]
  },
  {
   "cell_type": "code",
   "execution_count": 58,
   "metadata": {},
   "outputs": [
    {
     "name": "stdout",
     "output_type": "stream",
     "text": [
      "안녕하세요 '더조은학원' 입니다\n"
     ]
    }
   ],
   "source": [
    "print(\"안녕하세요 '더조은학원' 입니다\")"
   ]
  },
  {
   "cell_type": "code",
   "execution_count": 59,
   "metadata": {},
   "outputs": [
    {
     "name": "stdout",
     "output_type": "stream",
     "text": [
      "안녕하세요 \"더조은학원\" 입니다\n"
     ]
    }
   ],
   "source": [
    "print(\"안녕하세요 \\\"더조은학원\\\" 입니다\")"
   ]
  },
  {
   "cell_type": "code",
   "execution_count": 60,
   "metadata": {},
   "outputs": [
    {
     "name": "stdout",
     "output_type": "stream",
     "text": [
      "안녕하세요 \"더조은학원\" 입니다\n"
     ]
    }
   ],
   "source": [
    "print('안녕하세요 \"더조은학원\" 입니다')"
   ]
  },
  {
   "cell_type": "code",
   "execution_count": 61,
   "metadata": {},
   "outputs": [
    {
     "name": "stdout",
     "output_type": "stream",
     "text": [
      "안녕하세요 '더조은학원' 입니다\n"
     ]
    }
   ],
   "source": [
    "print('안녕하세요 \\'더조은학원\\' 입니다')"
   ]
  },
  {
   "cell_type": "code",
   "execution_count": 62,
   "metadata": {},
   "outputs": [],
   "source": [
    "# \\n : new line - 줄바꿈(개행) 문자"
   ]
  },
  {
   "cell_type": "code",
   "execution_count": 63,
   "metadata": {},
   "outputs": [
    {
     "name": "stdout",
     "output_type": "stream",
     "text": [
      "안녕하세요 \n",
      "더조은 학원에 \n",
      "오신 것을 \n",
      "환영합니다\n"
     ]
    }
   ],
   "source": [
    "print(\"안녕하세요 \\n더조은 학원에 \\n오신 것을 \\n환영합니다\")"
   ]
  },
  {
   "cell_type": "code",
   "execution_count": 64,
   "metadata": {},
   "outputs": [
    {
     "name": "stdout",
     "output_type": "stream",
     "text": [
      "안녕하세요 \t더조은 학원에 \t오신 것을 \t환영합니다\n"
     ]
    }
   ],
   "source": [
    "# \\t : tab 문자\n",
    "print(\"안녕하세요 \\t더조은 학원에 \\t오신 것을 \\t환영합니다\")"
   ]
  },
  {
   "cell_type": "code",
   "execution_count": 65,
   "metadata": {},
   "outputs": [
    {
     "name": "stdout",
     "output_type": "stream",
     "text": [
      "안녕하세요\n",
      "더조은 학원에\n",
      "오신 것을\n",
      "화영합니다\n",
      "\n"
     ]
    }
   ],
   "source": [
    "greeting = \"\"\"안녕하세요\n",
    "더조은 학원에\n",
    "오신 것을\n",
    "화영합니다\n",
    "\"\"\"\n",
    "print(greeting)"
   ]
  },
  {
   "cell_type": "code",
   "execution_count": 66,
   "metadata": {},
   "outputs": [
    {
     "name": "stdout",
     "output_type": "stream",
     "text": [
      "안녕하세요\n",
      "더조은 학원에\n",
      "오신 것을\n",
      "화영합니다\n",
      "\n"
     ]
    }
   ],
   "source": [
    "greeting = '''안녕하세요\n",
    "더조은 학원에\n",
    "오신 것을\n",
    "화영합니다\n",
    "'''\n",
    "print(greeting)"
   ]
  },
  {
   "cell_type": "code",
   "execution_count": 67,
   "metadata": {},
   "outputs": [
    {
     "name": "stdout",
     "output_type": "stream",
     "text": [
      "hello python good program\n"
     ]
    }
   ],
   "source": [
    "'''\n",
    " + 연산자 : 문자열에서 사용하면 연결(concatenation) 의 의미\n",
    "                           ㄴ 연결연산자\n",
    "'''\n",
    "\n",
    "str1 = 'hello'\n",
    "str2 = ' python'\n",
    "str3 = ' good'\n",
    "str4 = ' program'\n",
    "\n",
    "print(str1 + str2 + str3 + str4)\n"
   ]
  },
  {
   "cell_type": "code",
   "execution_count": 68,
   "metadata": {},
   "outputs": [
    {
     "name": "stdout",
     "output_type": "stream",
     "text": [
      "이름 : 이순신, 나이 : 46 세\n",
      "이름 : 이순신 , 나이 : 46 세\n",
      "이름 : 이순신 , 나이 : 46 세\n",
      "이순신46\n"
     ]
    }
   ],
   "source": [
    "'''\n",
    "           ******************************\n",
    "           문자열은 문자열끼리만 연결할(+) 수 있음\n",
    "           숫자는 숫자끼리만 더할(+) 수 있음\n",
    "           ******************************\n",
    "'''\n",
    "\n",
    "name = '이순신'\n",
    "age = 46\n",
    "\n",
    "'''\n",
    "이름 : 이순신, 나이 : 46 세\n",
    "'''\n",
    "\n",
    "# 연결연산자를 사용하는 경우\n",
    "# TypeError: can only concatenate str (not \"int\") to str\n",
    "# (문자열을 사용하는 경우에는 숫자형과 문자열을 동시 사용하지 못함)\n",
    "# print('이름 : '+ name +', 나이 : '+ age +' 세')\n",
    "print('이름 : '+ name +', 나이 : '+ str(age) +' 세')\n",
    "\n",
    "# 반점을 사용하는 경우에는 age 라고만 해도 괜찮음\n",
    "print('이름 :', name ,', 나이 :', str(age) ,'세')\n",
    "print('이름 :', name ,', 나이 :', age ,'세')\n",
    "print(name, age, sep='')"
   ]
  },
  {
   "cell_type": "code",
   "execution_count": 69,
   "metadata": {},
   "outputs": [
    {
     "name": "stdout",
     "output_type": "stream",
     "text": [
      "--------------------\n",
      "더조은 더조은 더조은 \n",
      "--------------------\n"
     ]
    }
   ],
   "source": [
    "'''\n",
    "문자열 곱하기\n",
    "'''\n",
    "\n",
    "str5 = '더조은 '\n",
    "\n",
    "print('-' * 20)\n",
    "print(str5 * 3)\n",
    "print('-' * 20)"
   ]
  },
  {
   "cell_type": "code",
   "execution_count": 70,
   "metadata": {},
   "outputs": [
    {
     "name": "stdout",
     "output_type": "stream",
     "text": [
      "문자 : Lift is too short. You should learn python.\n",
      "길이 : 43\n"
     ]
    }
   ],
   "source": [
    "'''\n",
    "문자열 길이 구하기 : len() 함수\n",
    "                 ㄴ length\n",
    "'''\n",
    "\n",
    "str6 = 'Lift is too short. You should learn python.'\n",
    "\n",
    "print('문자 :', str6)\n",
    "print('길이 :', len(str6))"
   ]
  }
 ],
 "metadata": {
  "interpreter": {
   "hash": "949c5d161ae06a9191be236957b0dfe2172f0f0097fbf05f4df159099ee18a3c"
  },
  "kernelspec": {
   "display_name": "Python 3.8.5 64-bit ('tjoeun')",
   "language": "python",
   "name": "python3"
  },
  "language_info": {
   "codemirror_mode": {
    "name": "ipython",
    "version": 3
   },
   "file_extension": ".py",
   "mimetype": "text/x-python",
   "name": "python",
   "nbconvert_exporter": "python",
   "pygments_lexer": "ipython3",
   "version": "3.8.5"
  },
  "orig_nbformat": 4
 },
 "nbformat": 4,
 "nbformat_minor": 2
}
