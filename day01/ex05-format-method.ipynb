{
 "cells": [
  {
   "cell_type": "markdown",
   "metadata": {},
   "source": [
    "# 파이썬 기초수업\n",
    "\n",
    "str.format() 메소드"
   ]
  },
  {
   "cell_type": "code",
   "execution_count": 46,
   "metadata": {},
   "outputs": [
    {
     "name": "stdout",
     "output_type": "stream",
     "text": [
      "나는 메론을 3개 먹었습니다\n",
      "나는 메론을 3개 먹었습니다\n",
      "나는 메론을 3개 먹었습니다\n",
      "나는 3개의 메론을 먹었습니다\n"
     ]
    }
   ],
   "source": [
    "fruit = '메론'\n",
    "count = 3\n",
    "days = 2\n",
    "\n",
    "'''\n",
    "나는 메론을 3개 먹었습니다\n",
    "'''\n",
    "\n",
    "print(\"나는 %s을 %d개 먹었습니다\" % (fruit, count))\n",
    "print(\"나는 {}을 {}개 먹었습니다\".format(fruit, count))\n",
    "print(\"나는 {0}을 {1}개 먹었습니다\".format(fruit, count))\n",
    "print(\"나는 {1}개의 {0}을 먹었습니다\".format(fruit, count))"
   ]
  },
  {
   "cell_type": "code",
   "execution_count": 47,
   "metadata": {},
   "outputs": [
    {
     "name": "stdout",
     "output_type": "stream",
     "text": [
      "나는 수박을 5개 먹었습니다\n"
     ]
    }
   ],
   "source": [
    "print(\"나는 {fruit}을 {count}개 먹었습니다\".format(fruit=\"수박\", count=5))"
   ]
  },
  {
   "cell_type": "code",
   "execution_count": 48,
   "metadata": {},
   "outputs": [
    {
     "name": "stdout",
     "output_type": "stream",
     "text": [
      "나는 메론을 3개 먹고 2일 동안 배가 아팠습니다\n",
      "나는 메론을 3개 먹고 2일 동안 배가 아팠습니다\n",
      "나는 2일 동안 배가 아팠습니다. 메론을 3개 먹었기 때문입니다\n"
     ]
    }
   ],
   "source": [
    "'''\n",
    "나는 메론을 3개 먹고 2일 동안 배가 아팠습니다\n",
    "'''\n",
    "\n",
    "days = 2\n",
    "\n",
    "print(\"나는 {}을 {}개 먹고 {}일 동안 배가 아팠습니다\".format(fruit, count, days))\n",
    "print(\"나는 {0}을 {1}개 먹고 {2}일 동안 배가 아팠습니다\".format(fruit, count, days))\n",
    "\n",
    "'''\n",
    "나는 2일 동안 배가 아팠습니다. 메론을 3개 먹었기 때문입니다\n",
    "'''\n",
    "\n",
    "print(\"나는 {2}일 동안 배가 아팠습니다. {0}을 {1}개 먹었기 때문입니다\".format(fruit, count, days))"
   ]
  },
  {
   "cell_type": "code",
   "execution_count": 49,
   "metadata": {},
   "outputs": [
    {
     "name": "stdout",
     "output_type": "stream",
     "text": [
      "py        \n",
      "        py\n",
      "    py    \n"
     ]
    }
   ],
   "source": [
    "print(\"{:<10}\".format(\"py\")) # 10자리 확보하면서 왼쪽 정렬\n",
    "print(\"{:>10}\".format(\"py\")) # 10자리 확보하면서 오른쪽 정렬\n",
    "print(\"{0:^10}\".format(\"py\")) # 캐럿(^) 문자열 - 중간 정렬"
   ]
  },
  {
   "cell_type": "code",
   "execution_count": 50,
   "metadata": {},
   "outputs": [
    {
     "name": "stdout",
     "output_type": "stream",
     "text": [
      "thon      \n",
      "      thon\n",
      "    py    \n"
     ]
    }
   ],
   "source": [
    "print(\"{1:<10}\".format(\"py\", \"thon\"))\n",
    "print(\"{1:>10}\".format(\"py\", \"thon\"))\n",
    "print(\"{0:^10}\".format(\"py\", \"thon\"))"
   ]
  },
  {
   "cell_type": "code",
   "execution_count": 51,
   "metadata": {},
   "outputs": [
    {
     "name": "stdout",
     "output_type": "stream",
     "text": [
      "py========\n",
      "========py\n",
      "====py====\n"
     ]
    }
   ],
   "source": [
    "print(\"{:=<10}\".format(\"py\"))\n",
    "print(\"{:=>10}\".format(\"py\"))\n",
    "print(\"{:=^10}\".format(\"py\"))"
   ]
  },
  {
   "cell_type": "code",
   "execution_count": 52,
   "metadata": {},
   "outputs": [
    {
     "name": "stdout",
     "output_type": "stream",
     "text": [
      "py********\n",
      "********py\n",
      "****py****\n"
     ]
    }
   ],
   "source": [
    "print(\"{:*<10}\".format(\"py\"))\n",
    "print(\"{:*>10}\".format(\"py\"))\n",
    "print(\"{:*^10}\".format(\"py\"))"
   ]
  },
  {
   "cell_type": "code",
   "execution_count": 53,
   "metadata": {},
   "outputs": [
    {
     "name": "stdout",
     "output_type": "stream",
     "text": [
      "3.1416\n",
      "3.1416\n",
      "    3.1416\n",
      "3.1416    \n",
      "    3.1416\n"
     ]
    }
   ],
   "source": [
    "figure = 3.1415926535\n",
    "\n",
    "print(\"{:.4f}\".format(figure))\n",
    "print(\"{:0.4f}\".format(figure))\n",
    "print(\"{:10.4f}\".format(figure))\n",
    "print(\"{:<10.4f}\".format(figure))\n",
    "print(\"{:>10.4f}\".format(figure))\n",
    "\n",
    "# format() 메소드에서는 <, >, ^를 사용해야 함\n",
    "# print(\"{:-10.4f}\".format(figure))"
   ]
  },
  {
   "cell_type": "code",
   "execution_count": 54,
   "metadata": {},
   "outputs": [
    {
     "name": "stdout",
     "output_type": "stream",
     "text": [
      "25,689,749\n",
      "25,689,749\n",
      "     25,689,749\n",
      "25,689,749     \n"
     ]
    }
   ],
   "source": [
    "print(\"{:,}\".format(25689749))\n",
    "print(format(25689749, ','))\n",
    "\n",
    "# format(25689749, ',') 속에 있는 숫자는 문자열로 인식함\n",
    "print(\"%15s\" % format(25689749, ','))\n",
    "print(\"%-15s\" % format(25689749, ','))\n",
    "\n",
    "# %d 로 하면 에러가 발생함\n",
    "#print(\"%15d\" % format(25689749, ','))"
   ]
  }
 ],
 "metadata": {
  "interpreter": {
   "hash": "949c5d161ae06a9191be236957b0dfe2172f0f0097fbf05f4df159099ee18a3c"
  },
  "kernelspec": {
   "display_name": "Python 3.8.5 64-bit ('tjoeun')",
   "language": "python",
   "name": "python3"
  },
  "language_info": {
   "codemirror_mode": {
    "name": "ipython",
    "version": 3
   },
   "file_extension": ".py",
   "mimetype": "text/x-python",
   "name": "python",
   "nbconvert_exporter": "python",
   "pygments_lexer": "ipython3",
   "version": "3.8.5"
  },
  "orig_nbformat": 4
 },
 "nbformat": 4,
 "nbformat_minor": 2
}
