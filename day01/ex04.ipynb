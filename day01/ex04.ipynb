{
 "cells": [
  {
   "cell_type": "markdown",
   "metadata": {},
   "source": [
    "# 파이썬 기초수업\n",
    "\n",
    "%-formatting (print-formatting)"
   ]
  },
  {
   "cell_type": "code",
   "execution_count": 33,
   "metadata": {},
   "outputs": [
    {
     "name": "stdout",
     "output_type": "stream",
     "text": [
      "나의 이름은 이순신 입니다\n"
     ]
    }
   ],
   "source": [
    "print(\"나의 이름은 %s 입니다\" % \"이순신\")"
   ]
  },
  {
   "cell_type": "code",
   "execution_count": 34,
   "metadata": {},
   "outputs": [
    {
     "name": "stdout",
     "output_type": "stream",
     "text": [
      "나의 이름은 더조은 입니다\n",
      "나의 이름은 더조은 입니다\n",
      "나의 이름은 더조은 입니다\n"
     ]
    }
   ],
   "source": [
    "name = \"더조은\"\n",
    "print(\"나의 이름은 %s 입니다\" % name)\n",
    "print(\"나의 이름은 %s 입니다\" % name)\n",
    "print(\"나의 이름은 %s 입니다\" % name)"
   ]
  },
  {
   "cell_type": "code",
   "execution_count": 35,
   "metadata": {},
   "outputs": [
    {
     "name": "stdout",
     "output_type": "stream",
     "text": [
      "나이는 21 살 입니다\n"
     ]
    }
   ],
   "source": [
    "age = 21\n",
    "print(\"나이는 %d 살 입니다\" % age)"
   ]
  },
  {
   "cell_type": "code",
   "execution_count": 36,
   "metadata": {},
   "outputs": [
    {
     "name": "stdout",
     "output_type": "stream",
     "text": [
      "나는 감자를 5개 먹었습니다\n",
      "나는 감자를 5개 먹었습니다\n"
     ]
    }
   ],
   "source": [
    "food = \"감자\"\n",
    "count = 5\n",
    "\n",
    "'''\n",
    "나는 감자를 5개 먹었습니다\n",
    "'''\n",
    "\n",
    "print(\"나는 %s를 %d개 먹었습니다\" % (food, count))\n",
    "\n",
    "str1 = \"나는 %s를 %d개 먹었습니다\" % (food, count)\n",
    "print(str1)"
   ]
  },
  {
   "cell_type": "code",
   "execution_count": 37,
   "metadata": {},
   "outputs": [
    {
     "name": "stdout",
     "output_type": "stream",
     "text": [
      "우리반 학생들은 모두 100명 이고 \n",
      "남자는 60명 입니다 \n",
      "여학생의 비율은 40% 입니다\n"
     ]
    }
   ],
   "source": [
    "total = 100\n",
    "male = 60\n",
    "female = 40\n",
    "\n",
    "'''\n",
    "우리반 학생들은 모두 100명 이고\n",
    "남자는 60명 입니다\n",
    "여학생의 비율은 40% 입니다\n",
    "'''\n",
    "\n",
    "# TypeError: not enough arguments for format string\n",
    "# print(\"우리반 학생들은 모두 %d명 이고 \\n남자는 %d명 입니다 \\n여학생의 비율은 %d% 입니다\" % (total, male, female))\n",
    "\n",
    "str1 = \"우리반 학생들은 모두 %d명 이고 \\n남자는 %d명 입니다 \\n여학생의 비율은 %d%% 입니다\" % (total, male, female)\n",
    "print(str1)"
   ]
  },
  {
   "cell_type": "code",
   "execution_count": 38,
   "metadata": {},
   "outputs": [
    {
     "name": "stdout",
     "output_type": "stream",
     "text": [
      "우리반 학생들은 모두 100명 이고\n",
      "남자는 60명 입니다\n",
      "여학생의 비율은 40% 입니다\n"
     ]
    }
   ],
   "source": [
    "print(\"우리반 학생들은 모두 %d명 이고\" \\\n",
    "      \"\\n남자는 %d명 입니다\" \\\n",
    "      \"\\n여학생의 비율은 %d%% 입니다\" \\\n",
    "      % (total, male, female))"
   ]
  },
  {
   "cell_type": "code",
   "execution_count": 39,
   "metadata": {},
   "outputs": [
    {
     "name": "stdout",
     "output_type": "stream",
     "text": [
      "py\n",
      "        py\n",
      "py        \n",
      "hello     더조은\n"
     ]
    }
   ],
   "source": [
    "print(\"%s\" % \"py\")\n",
    "\n",
    "# 전체 출력자리가 10자리이면서 오른쪽 정렬\n",
    "print(\"%10s\" % \"py\")\n",
    "\n",
    "# 전체 출력자리가 10자리이면서 왼쪽 정렬\n",
    "print(\"%-10s\" % \"py\")\n",
    "print(\"%-10s더조은\" % \"hello\")"
   ]
  },
  {
   "cell_type": "code",
   "execution_count": 40,
   "metadata": {},
   "outputs": [
    {
     "name": "stdout",
     "output_type": "stream",
     "text": [
      "3.141593\n",
      "3.1416\n",
      "    3.1416\n"
     ]
    }
   ],
   "source": [
    "print(\"%f\" % 3.1415926535)\n",
    "\n",
    "# 소수점 4자리까지 출력\n",
    "print(\"%.4f\" % 3.1415926535)\n",
    "\n",
    "# 전체 출력자리가 10자리이면서 소수점 4자리까지 출력\n",
    "print(\"%10.4f\" % 3.1415926535)"
   ]
  }
 ],
 "metadata": {
  "interpreter": {
   "hash": "949c5d161ae06a9191be236957b0dfe2172f0f0097fbf05f4df159099ee18a3c"
  },
  "kernelspec": {
   "display_name": "Python 3.8.5 64-bit ('tjoeun')",
   "language": "python",
   "name": "python3"
  },
  "language_info": {
   "codemirror_mode": {
    "name": "ipython",
    "version": 3
   },
   "file_extension": ".py",
   "mimetype": "text/x-python",
   "name": "python",
   "nbconvert_exporter": "python",
   "pygments_lexer": "ipython3",
   "version": "3.8.5"
  },
  "orig_nbformat": 4
 },
 "nbformat": 4,
 "nbformat_minor": 2
}
