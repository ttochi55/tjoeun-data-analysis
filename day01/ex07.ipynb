{
 "cells": [
  {
   "cell_type": "markdown",
   "metadata": {},
   "source": [
    "# 파이썬 기초수업\n",
    "\n",
    "문자열 관련된 함수"
   ]
  },
  {
   "cell_type": "code",
   "execution_count": 54,
   "metadata": {},
   "outputs": [
    {
     "data": {
      "text/plain": [
       "'\\n문자열(str type) 에 사용하는 메소드들\\n                         ㄴ 특정 type에서 사용하는 함수\\n'"
      ]
     },
     "execution_count": 54,
     "metadata": {},
     "output_type": "execute_result"
    }
   ],
   "source": [
    "'''\n",
    "문자열(str type) 에 사용하는 메소드들\n",
    "                         ㄴ 특정 type에서 사용하는 함수\n",
    "'''"
   ]
  },
  {
   "cell_type": "code",
   "execution_count": 55,
   "metadata": {},
   "outputs": [
    {
     "name": "stdout",
     "output_type": "stream",
     "text": [
      "o의 개수 2\n",
      "l의 개수 2\n"
     ]
    }
   ],
   "source": [
    "# count() 함수 - 문자열에서 지정한 문자의 개수를 알려줌\n",
    "\n",
    "str1 = \"hello python\"\n",
    "\n",
    "print(\"o의 개수\", str1.count('o'))\n",
    "print(\"l의 개수\", str1.count('l'))"
   ]
  },
  {
   "cell_type": "code",
   "execution_count": 56,
   "metadata": {},
   "outputs": [
    {
     "name": "stdout",
     "output_type": "stream",
     "text": [
      "str2.find('b') : 26\n",
      "str2.find('g') : 10\n",
      "str2.rfind('g') : 49\n",
      "str2.find('w') : -1\n",
      "str2.find('z') : -1\n"
     ]
    }
   ],
   "source": [
    "# find() 함수 - 지정한 문자열의 index를 알려줌\n",
    "#              해당 문자열에 여러 개 있는 경우, 맨 첫 번째를 알려줌\n",
    "#\n",
    "# rfind() 함수 - 지정한 문자열의 index를 알려줌\n",
    "#               맨 뒤에 있는 것의 index를 알려줌\n",
    "#\n",
    "# 없는 문자열을 지정한 경우에는 -1을 반환해 줌\n",
    "\n",
    "str2 = \"python programming is the best programming language.\"\n",
    "\n",
    "print(\"str2.find('b') :\", str2.find('b'))\n",
    "print(\"str2.find('g') :\", str2.find('g'))\n",
    "print(\"str2.rfind('g') :\", str2.rfind('g'))\n",
    "print(\"str2.find('w') :\", str2.find('w'))\n",
    "print(\"str2.find('z') :\", str2.find('z'))"
   ]
  },
  {
   "cell_type": "code",
   "execution_count": 57,
   "metadata": {},
   "outputs": [
    {
     "name": "stdout",
     "output_type": "stream",
     "text": [
      "str2.index('i') : 15\n",
      "str2.rindex('i') : 39\n"
     ]
    }
   ],
   "source": [
    "# index() 함수 - 지정한 문자열의 index를 알려줌\n",
    "#              해당 문자열에 여러 개 있는 경우, 맨 첫 번째를 알려줌\n",
    "#\n",
    "# rindex() 함수 - 지정한 문자열의 index를 알려줌\n",
    "#               맨 뒤에 있는 것의 index를 알려줌\n",
    "#\n",
    "# 없는 문자열을 지정하면 에러가 발생함\n",
    "\n",
    "str2 = \"python programming is the best programming language.\"\n",
    "print(\"str2.index('i') :\", str2.index('i'))\n",
    "print(\"str2.rindex('i') :\", str2.rindex('i'))\n",
    "\n",
    "# ValueError: substring not found\n",
    "#print(\"str2.index('z') :\", str2.index('z'))\n"
   ]
  },
  {
   "cell_type": "code",
   "execution_count": 58,
   "metadata": {},
   "outputs": [
    {
     "name": "stdout",
     "output_type": "stream",
     "text": [
      "str3 : pyTHon progRAMming IS Best PROgramming\n",
      "str3.upper() : PYTHON PROGRAMMING IS BEST PROGRAMMING\n",
      "str3.lower() : python programming is best programming\n",
      "str3.capitalize() : Python programming is best programming\n",
      "str3.title() : Python Programming Is Best Programming\n"
     ]
    }
   ],
   "source": [
    "str3 = 'pyTHon progRAMming IS Best PROgramming'\n",
    "print('str3 :', str3)\n",
    "\n",
    "'''\n",
    "upper case - 대문자 / lower case - 소문자\n",
    "upper()      문자열을 모두 대문자로 만들어줌\n",
    "lower()      문자열을 모두 소문자로 만들어줌\n",
    "capitalize() 문자열의 첫 문자만 대문자로 만들어줌\n",
    "title()      문자열의 첫 문자만 대문자로 만들어줌\n",
    "'''\n",
    "\n",
    "print('str3.upper() :', str3.upper())\n",
    "print('str3.lower() :', str3.lower())\n",
    "print('str3.capitalize() :', str3.capitalize())\n",
    "print('str3.title() :', str3.title())"
   ]
  },
  {
   "cell_type": "code",
   "execution_count": 59,
   "metadata": {},
   "outputs": [
    {
     "name": "stdout",
     "output_type": "stream",
     "text": [
      "str4.isupper() : False\n",
      "str4.islower() : True\n"
     ]
    }
   ],
   "source": [
    "'''\n",
    "isupper() : 해당 문자열이 대문자인지 확인함\n",
    "islower() : 해당 문자열이 소문자인지 확인함\n",
    "'''\n",
    "\n",
    "str4 = 'p'\n",
    "print('str4.isupper() :', str4.isupper())\n",
    "print('str4.islower() :', str4.islower())"
   ]
  },
  {
   "cell_type": "code",
   "execution_count": 60,
   "metadata": {},
   "outputs": [
    {
     "name": "stdout",
     "output_type": "stream",
     "text": [
      "p,y,t,h,o,n, ,p,r,o,g,r,a,m,m,i,n,g\n",
      "p y t h o n   p r o g r a m m i n g\n",
      "p-y-t-h-o-n- -p-r-o-g-r-a-m-m-i-n-g\n"
     ]
    }
   ],
   "source": [
    "'''\n",
    "join() 메소드 \n",
    "- 문자열의 각 문자들을 지정한 구분자(separator)로 나눔\n",
    "\n",
    "[형식]\n",
    "\"구분자(separator)\".join('대상문자열/대상리스트')\n",
    "'''\n",
    "\n",
    "str5 = 'python programming'\n",
    "\n",
    "# p,y,t,h,o,n, ,p,r,o,g,r,a,m,m,i,n,g\n",
    "print(','.join(str5))\n",
    "\n",
    "# p y t h o n   p r o g r a m m i n g\n",
    "print(' '.join(str5))\n",
    "\n",
    "# p-y-t-h-o-n- -p-r-o-g-r-a-m-m-i-n-g\n",
    "print('-'.join(str5))"
   ]
  },
  {
   "cell_type": "code",
   "execution_count": 61,
   "metadata": {},
   "outputs": [
    {
     "name": "stdout",
     "output_type": "stream",
     "text": [
      "orange blue red yellow white pink\n",
      "orange_blue_red_yellow_white_pink\n",
      "orange|blue|red|yellow|white|pink\n"
     ]
    }
   ],
   "source": [
    "color = 'skyblue'\n",
    "colors = ['orange', 'blue', 'red', 'yellow', 'white', 'pink']\n",
    "print(\" \".join(colors))\n",
    "print(\"_\".join(colors))\n",
    "print(\"|\".join(colors))"
   ]
  },
  {
   "cell_type": "code",
   "execution_count": 62,
   "metadata": {},
   "outputs": [
    {
     "name": "stdout",
     "output_type": "stream",
     "text": [
      "['Python', 'is', 'the', 'best', 'programming', 'language']\n",
      "['Python', 'is', 'the', 'best', 'programming', 'language']\n",
      "['Py', 'hon is ', 'he bes', ' programming language']\n",
      "['Python is the best pro', 'rammin', ' lan', 'ua', 'e']\n"
     ]
    }
   ],
   "source": [
    "'''\n",
    "split() - 문자열 속에 있는 문자들을 지정한 \n",
    "          구분자로 나누어서 리스트를 생성함\n",
    "'''\n",
    "\n",
    "str6 = 'Python is the best programming language'\n",
    "print(str6.split())\n",
    "print(str6.split(' '))\n",
    "print(str6.split('t'))\n",
    "print(str6.split('g'))"
   ]
  },
  {
   "cell_type": "code",
   "execution_count": 63,
   "metadata": {},
   "outputs": [
    {
     "name": "stdout",
     "output_type": "stream",
     "text": [
      "['orange', 'blue', 'red', 'yellow', 'white', 'pink']\n"
     ]
    }
   ],
   "source": [
    "str7 = 'orange|blue|red|yellow|white|pink'\n",
    "print(str7.split('|'))"
   ]
  },
  {
   "cell_type": "code",
   "execution_count": 64,
   "metadata": {},
   "outputs": [
    {
     "name": "stdout",
     "output_type": "stream",
     "text": [
      "str8 : Python program is the best programming language\n",
      "str8 : Python program is one of the programming language\n",
      "str9 : Python program is one of the programming language\n",
      "str8 : Python program is the best programming language\n"
     ]
    }
   ],
   "source": [
    "'''\n",
    "replace(old, new) \n",
    "- 문자열 속에 있는 문자 중에서 old를 new로 변경함\n",
    "'''\n",
    "\n",
    "str8 = 'Python program is the best programming language'\n",
    "str8.replace('the best', 'one of the')\n",
    "print('str8 :', str8)\n",
    "print('str8 :', str8.replace('the best', 'one of the'))\n",
    "\n",
    "str9 = str8.replace('the best', 'one of the')\n",
    "print('str9 :', str9)\n",
    "print('str8 :', str8)"
   ]
  },
  {
   "cell_type": "code",
   "execution_count": 65,
   "metadata": {},
   "outputs": [
    {
     "name": "stdout",
     "output_type": "stream",
     "text": [
      "str10 :  python \n",
      "str10 : python\n",
      "str10 :  python\n",
      "str10 : python \n"
     ]
    }
   ],
   "source": [
    "'''\n",
    "strip() / rstrip() / lstrip()\n",
    "공백제거    right      left\n",
    "양쪽       오른쪽       왼쪽\n",
    "'''\n",
    "\n",
    "str10 = ' python '\n",
    "print('str10 :', str10)\n",
    "print('str10 :', str10.strip())\n",
    "print('str10 :', str10.rstrip())\n",
    "print('str10 :', str10.lstrip())"
   ]
  }
 ],
 "metadata": {
  "interpreter": {
   "hash": "949c5d161ae06a9191be236957b0dfe2172f0f0097fbf05f4df159099ee18a3c"
  },
  "kernelspec": {
   "display_name": "Python 3.8.5 64-bit ('tjoeun')",
   "language": "python",
   "name": "python3"
  },
  "language_info": {
   "codemirror_mode": {
    "name": "ipython",
    "version": 3
   },
   "file_extension": ".py",
   "mimetype": "text/x-python",
   "name": "python",
   "nbconvert_exporter": "python",
   "pygments_lexer": "ipython3",
   "version": "3.8.5"
  },
  "orig_nbformat": 4
 },
 "nbformat": 4,
 "nbformat_minor": 2
}
