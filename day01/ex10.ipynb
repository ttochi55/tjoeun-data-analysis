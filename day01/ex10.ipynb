{
 "cells": [
  {
   "cell_type": "markdown",
   "metadata": {},
   "source": [
    "# 파이썬 기초수업\n",
    "\n",
    "스와핑"
   ]
  },
  {
   "cell_type": "code",
   "execution_count": 9,
   "metadata": {},
   "outputs": [
    {
     "name": "stdout",
     "output_type": "stream",
     "text": [
      "number1 : 123\n",
      "number1 : 456\n",
      "number1 : 789\n"
     ]
    }
   ],
   "source": [
    "'''\n",
    "변수(variable) - 값을 여러개 저장할 수 있음\n",
    "                 ㄴ 한번에 하나만 저장할 수 있음\n",
    "'''\n",
    "number1 = 123\n",
    "print(f\"number1 :\", number1)\n",
    "number1 = 456\n",
    "print(f\"number1 :\", number1)\n",
    "number1 = 789\n",
    "print(f\"number1 :\", number1)"
   ]
  },
  {
   "cell_type": "code",
   "execution_count": 8,
   "metadata": {},
   "outputs": [
    {
     "name": "stdout",
     "output_type": "stream",
     "text": [
      "num1 : 11, num2 : 22\n",
      "num1 : 22, num2 : 11\n",
      "num1 : 11, num2 : 22\n"
     ]
    }
   ],
   "source": [
    "num1 = 11\n",
    "num2 = 22\n",
    "print(f\"num1 : {num1}, num2 : {num2}\")\n",
    "\n",
    "'''\n",
    "변수 스와핑(맞바꿈)이 안 됨\n",
    "'''\n",
    "# num1 = num2\n",
    "# num2 = num1\n",
    "# print(f\"num1 : {num1}, num2 : {num2}\")\n",
    "\n",
    "'''\n",
    "변수 스와핑: 전통적 스타일\n",
    "'''\n",
    "cup = num1\n",
    "num1 = num2\n",
    "num2 = cup\n",
    "print(f\"num1 : {num1}, num2 : {num2}\")\n",
    "\n",
    "'''\n",
    "변수 스와핑: 파이썬 스타일\n",
    "'''\n",
    "num1, num2 = num2, num1\n",
    "print(f\"num1 : {num1}, num2 : {num2}\")"
   ]
  },
  {
   "cell_type": "code",
   "execution_count": 14,
   "metadata": {},
   "outputs": [
    {
     "name": "stdout",
     "output_type": "stream",
     "text": [
      "t1 : (11, 22)\n",
      "t2 : (11, 22)\n",
      "n1 : 11, n2 : 22\n",
      "n1 : 11, n2 : 22, n3 : 33\n",
      "n1 : 11, n2 : 22\n"
     ]
    }
   ],
   "source": [
    "t1 = (11, 22)\n",
    "print(\"t1 :\", t1)\n",
    "\n",
    "'''\n",
    "# tuple 은 소괄호를 생략할 수 있음\n",
    "# 변수 하나는 개별적인 여러개의 값을 저장할 수 없음\n",
    "'''\n",
    "t2 = 11, 22\n",
    "print(\"t2 :\", t2)\n",
    "\n",
    "'''\n",
    "# = (할당연산자) 오른쪽에는 값이 하나만 올 수 있음\n",
    "# tuple 은 소괄호를 생략할 수 있음\n",
    "# unpacking\n",
    "'''\n",
    "n1, n2 = 11, 22\n",
    "print(f\"n1 : {n1}, n2 : {n2}\")\n",
    "\n",
    "n1, n2, n3 = 11, 22, 33\n",
    "print(f\"n1 : {n1}, n2 : {n2}, n3 : {n3}\")\n",
    "\n",
    "n1, n2 = (11, 22)\n",
    "print(f\"n1 : {n1}, n2 : {n2}\")"
   ]
  },
  {
   "cell_type": "code",
   "execution_count": 18,
   "metadata": {},
   "outputs": [
    {
     "name": "stdout",
     "output_type": "stream",
     "text": [
      "10, 20, 30\n"
     ]
    }
   ],
   "source": [
    "print(10, end=\", \")\n",
    "print(20, end=\", \")\n",
    "print(30, end=\"\\n\")"
   ]
  }
 ],
 "metadata": {
  "interpreter": {
   "hash": "949c5d161ae06a9191be236957b0dfe2172f0f0097fbf05f4df159099ee18a3c"
  },
  "kernelspec": {
   "display_name": "Python 3.8.5 64-bit ('tjoeun')",
   "language": "python",
   "name": "python3"
  },
  "language_info": {
   "codemirror_mode": {
    "name": "ipython",
    "version": 3
   },
   "file_extension": ".py",
   "mimetype": "text/x-python",
   "name": "python",
   "nbconvert_exporter": "python",
   "pygments_lexer": "ipython3",
   "version": "3.8.5"
  },
  "orig_nbformat": 4
 },
 "nbformat": 4,
 "nbformat_minor": 2
}
