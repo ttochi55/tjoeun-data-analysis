{
 "cells": [
  {
   "cell_type": "markdown",
   "metadata": {},
   "source": [
    "# 파이썬 기초수업\n",
    "\n",
    "문자열 포맷"
   ]
  },
  {
   "cell_type": "code",
   "execution_count": 28,
   "metadata": {},
   "outputs": [
    {
     "name": "stdout",
     "output_type": "stream",
     "text": [
      "010 1234 5678\n",
      "010 1234 5678\n",
      "01012345678\n",
      "010-1234-5678\n",
      "010,1234,5678\n",
      "010|1234|5678\n"
     ]
    }
   ],
   "source": [
    "print('010','1234','5678')\n",
    "print('010','1234','5678', sep=' ')\n",
    "print('010','1234','5678', sep='')\n",
    "print('010','1234','5678', sep='-')\n",
    "print('010','1234','5678', sep=',')\n",
    "print('010','1234','5678', sep='|')"
   ]
  },
  {
   "cell_type": "code",
   "execution_count": 29,
   "metadata": {},
   "outputs": [
    {
     "name": "stdout",
     "output_type": "stream",
     "text": [
      "num1 + num2 = 30 | num1 X num2 = 200\n",
      "num1 + num2 = 30 | num1 X num2 = 200\n",
      "num1 + num2 = 30 | num1 X num2 = 200\n"
     ]
    }
   ],
   "source": [
    "'''\n",
    "num1 + num2 = 30 | num1 X num2 = 200\n",
    "\n",
    "1) %-formatting\n",
    "2) str.format()\n",
    "3) f-string\n",
    "'''\n",
    "\n",
    "num1 = 10\n",
    "num2 = 20\n",
    "\n",
    "print(\"num1 + num2 = %d | num1 X num2 = %d\" % (num1 + num2, num1 * num2))\n",
    "print(\"num1 + num2 = {} | num1 X num2 = {}\".format(num1 + num2, num1 * num2))\n",
    "print(f\"num1 + num2 = {num1 + num2} | num1 X num2 = {num1 * num2}\")"
   ]
  },
  {
   "cell_type": "code",
   "execution_count": 30,
   "metadata": {},
   "outputs": [
    {
     "name": "stdout",
     "output_type": "stream",
     "text": [
      "python====\n",
      "==python==\n",
      "====python\n"
     ]
    }
   ],
   "source": [
    "print(\"{0:=<10}\".format('python'))\n",
    "print(\"{0:=^10}\".format('python'))\n",
    "print(\"{0:=>10}\".format('python'))"
   ]
  },
  {
   "cell_type": "code",
   "execution_count": 31,
   "metadata": {},
   "outputs": [
    {
     "name": "stdout",
     "output_type": "stream",
     "text": [
      "python====\n",
      "python====\n",
      "==python==\n",
      "====python\n"
     ]
    }
   ],
   "source": [
    "# SyntaxError: f-string expression part cannot include a backslash\n",
    "# print(f\"{\\\"python\\\":=<10}\")\n",
    "print(f\"\"\"{\"python\":=<10}\"\"\")\n",
    "\n",
    "print(f\"{'python':=<10}\")\n",
    "print(f\"{'python':=^10}\")\n",
    "print(f\"{'python':=>10}\")"
   ]
  },
  {
   "cell_type": "code",
   "execution_count": 32,
   "metadata": {},
   "outputs": [
    {
     "name": "stdout",
     "output_type": "stream",
     "text": [
      "3.141593\n"
     ]
    }
   ],
   "source": [
    "'''\n",
    "3.141593\n",
    "3.14156\n",
    "    3.14156\n",
    "'''\n",
    "\n",
    "pi = 3.1415926535\n",
    "print(\"%f\" % pi)"
   ]
  },
  {
   "cell_type": "code",
   "execution_count": 33,
   "metadata": {},
   "outputs": [
    {
     "name": "stdout",
     "output_type": "stream",
     "text": [
      "3.141593\n",
      "3.1416\n",
      "3.1416    \n",
      "    3.1416\n"
     ]
    }
   ],
   "source": [
    "# 1) %-formatting\n",
    "print(\"%f\" % 3.1415926535)\n",
    "print(\"%.4f\" % 3.1415926535)\n",
    "print(\"%-10.4f\" % 3.1415926535)\n",
    "print(\"%10.4f\" % 3.1415926535)"
   ]
  },
  {
   "cell_type": "code",
   "execution_count": 34,
   "metadata": {},
   "outputs": [
    {
     "name": "stdout",
     "output_type": "stream",
     "text": [
      "3.141593\n",
      "3.1416\n",
      "3.1416    \n",
      "    3.1416\n",
      "  3.1416  \n"
     ]
    }
   ],
   "source": [
    "# 2) str.format()\n",
    "print(\"{:f}\".format(3.1415926535))\n",
    "print(\"{:.4f}\".format(3.1415926535))\n",
    "print(\"{:<10.4f}\".format(3.1415926535))\n",
    "print(\"{:>10.4f}\".format(3.1415926535))\n",
    "print(\"{:^10.4f}\".format(3.1415926535))"
   ]
  },
  {
   "cell_type": "code",
   "execution_count": 35,
   "metadata": {},
   "outputs": [
    {
     "name": "stdout",
     "output_type": "stream",
     "text": [
      "3.141593\n",
      "3.1416\n",
      "3.1416    \n",
      "    3.1416\n",
      "  3.1416  \n"
     ]
    }
   ],
   "source": [
    "# 3) f-string\n",
    "print(f\"{3.1415926535:f}\")\n",
    "print(f\"{3.1415926535:.4f}\")\n",
    "print(f\"{3.1415926535:<10.4f}\")\n",
    "print(f\"{3.1415926535:>10.4f}\")\n",
    "print(f\"{3.1415926535:^10.4f}\")"
   ]
  }
 ],
 "metadata": {
  "interpreter": {
   "hash": "949c5d161ae06a9191be236957b0dfe2172f0f0097fbf05f4df159099ee18a3c"
  },
  "kernelspec": {
   "display_name": "Python 3.8.5 64-bit ('tjoeun')",
   "language": "python",
   "name": "python3"
  },
  "language_info": {
   "codemirror_mode": {
    "name": "ipython",
    "version": 3
   },
   "file_extension": ".py",
   "mimetype": "text/x-python",
   "name": "python",
   "nbconvert_exporter": "python",
   "pygments_lexer": "ipython3",
   "version": "3.8.5"
  },
  "orig_nbformat": 4
 },
 "nbformat": 4,
 "nbformat_minor": 2
}
