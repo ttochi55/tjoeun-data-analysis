{
 "cells": [
  {
   "cell_type": "markdown",
   "metadata": {},
   "source": [
    "# 파이썬 기초수업\n",
    "\n",
    "연산자"
   ]
  },
  {
   "cell_type": "code",
   "execution_count": null,
   "metadata": {},
   "outputs": [],
   "source": [
    "'''\n",
    "연산자\n",
    "1. 산술연산자 : +, -, *, /, //, %\n",
    "2. 관계(비교)연산자 : >, <, >=, <=, ==, !=\n",
    "3. 논리연산자 : and, or, not : 연산의 대상 - bool type (True, False)\n",
    "4. 비트 연산자 : &, |, ^, ~, <<, >> : 연산의 대상 - bit(1, 0)\n",
    "5. 할당(대입)연산자 : =\n",
    "'''"
   ]
  },
  {
   "cell_type": "code",
   "execution_count": 12,
   "metadata": {},
   "outputs": [
    {
     "name": "stdout",
     "output_type": "stream",
     "text": [
      "add : 18\n",
      "sub : 2\n",
      "multi : 80\n",
      "div1 : 1.25\n",
      "div2 : 1\n",
      "mod : 2\n",
      "mod : 0\n"
     ]
    }
   ],
   "source": [
    "'''\n",
    "1. 산술연산자 : +, -, *, /, //, %\n",
    "'''\n",
    "\n",
    "num1 = 10\n",
    "num2 = 8\n",
    "\n",
    "print('add :', num1 + num2)\n",
    "print('sub :', num1 - num2)\n",
    "print('multi :', num1 * num2)\n",
    "\n",
    "# 나눗셈 : 정수, 실수 반환함\n",
    "print('div1 :', num1 / num2)\n",
    "\n",
    "# 나눗셈 : 정수부분만 반환함 : 몫\n",
    "print('div2 :', num1 // num2)\n",
    "\n",
    "# 나머지 연산 : 나눗셈 결과에서 나머지를 반환함\n",
    "# 배수 판별할 때 많이 사용함\n",
    "# 10 % 8 <-- 2\n",
    "# 10 % 2 <-- 0\n",
    "# 40 % 8 <-- 0\n",
    "print('mod :', num1 % num2)\n",
    "\n",
    "num1 = 40\n",
    "print('mod :', num1 % num2)"
   ]
  },
  {
   "cell_type": "code",
   "execution_count": 11,
   "metadata": {},
   "outputs": [
    {
     "name": "stdout",
     "output_type": "stream",
     "text": [
      "== : False\n",
      "!= : True\n",
      "> : True\n",
      "< : False\n",
      ">= : True\n",
      "<= : False\n"
     ]
    }
   ],
   "source": [
    "'''\n",
    "2. 관계(비교)연산자 : >, <, >=, <=, ==, !=\n",
    "                : 결과값은 항상 True 나 False 가 나옴\n",
    "'''\n",
    "\n",
    "num1 = 10\n",
    "num2 = 8\n",
    "\n",
    "# 동등비교 : == (같은지 비교함), != (다른지 비교함)\n",
    "print('== :', num1 == num2)\n",
    "print('!= :', num1 != num2)\n",
    "\n",
    "# 크기비교 : >, <, >=, <=\n",
    "print('> :', num1 > num2)\n",
    "print('< :', num1 < num2)\n",
    "print('>= :', num1 >= num2)\n",
    "print('<= :', num1 <= num2)"
   ]
  },
  {
   "cell_type": "code",
   "execution_count": 16,
   "metadata": {},
   "outputs": [
    {
     "name": "stdout",
     "output_type": "stream",
     "text": [
      "True and True : True\n",
      "True and False : False\n",
      "False and True : False\n",
      "False and False : False\n"
     ]
    }
   ],
   "source": [
    "'''\n",
    "3. 논리연산자 : and, or, not : 연산의 대상 - bool type (True, False)\n",
    "    ㄴ 연산의 대상이 논리자료형임 : True, False\n",
    "       연산의 결과도 논리자료형이 됨     \n",
    "'''\n",
    "\n",
    "'''\n",
    "1) and 논리연산자 : 두 값이 모두(동시에) True인 경우에만 True를 반환함\n",
    "                 두 개 중 하나라도 False 이면 False 를 반환함\n",
    "                 첫 번째 값이 False 이면 두 번째 값을 확인하지 않음\n",
    "'''\n",
    "\n",
    "print('True and True :', True and True)\n",
    "print('True and False :', True and False)\n",
    "print('False and True :', False and True)\n",
    "print('False and False :', False and False)"
   ]
  },
  {
   "cell_type": "code",
   "execution_count": 15,
   "metadata": {},
   "outputs": [
    {
     "name": "stdout",
     "output_type": "stream",
     "text": [
      "True or True : True\n",
      "True or False : True\n",
      "False or True : True\n",
      "False or False : False\n"
     ]
    }
   ],
   "source": [
    "'''\n",
    "2) or 논리연산자 : 두 값이 모두(동시에) False인 경우에만 False를 반환함\n",
    "                두 개 중 하나라도 True 이면 True 를 반환함\n",
    "                첫 번째 값이 True 이면 두 번째 값을 확인하지 않음\n",
    "'''\n",
    "\n",
    "print('True or True :', True or True)\n",
    "print('True or False :', True or False)\n",
    "print('False or True :', False or True)\n",
    "print('False or False :', False or False)"
   ]
  },
  {
   "cell_type": "code",
   "execution_count": 22,
   "metadata": {},
   "outputs": [
    {
     "name": "stdout",
     "output_type": "stream",
     "text": [
      "bool(1) : True\n",
      "bool(23) : True\n",
      "bool(-98) : True\n",
      "bool(0) : False\n"
     ]
    }
   ],
   "source": [
    "'''\n",
    "정수  --> 논라값\n",
    " 1   --> True\n",
    " 23  --> True\n",
    " -98 --> True\n",
    " 0   --> False\n",
    "'''\n",
    "print('bool(1) :', bool(1))\n",
    "print('bool(23) :', bool(23))\n",
    "print('bool(-98) :', bool(-98))\n",
    "print('bool(0) :', bool(0))"
   ]
  },
  {
   "cell_type": "code",
   "execution_count": 23,
   "metadata": {},
   "outputs": [
    {
     "name": "stdout",
     "output_type": "stream",
     "text": [
      "10 and 5 : 5\n",
      "10 and 5 : True\n",
      "0 and 5 : 0\n",
      "0 and 5 : False\n"
     ]
    }
   ],
   "source": [
    "print('10 and 5 :', 10 and 5)\n",
    "print('10 and 5 :', bool(10) and bool(5)) \n",
    "print('0 and 5 :', 0 and 5)\n",
    "print('0 and 5 :', bool(0) and bool(5))"
   ]
  },
  {
   "cell_type": "code",
   "execution_count": 24,
   "metadata": {},
   "outputs": [
    {
     "name": "stdout",
     "output_type": "stream",
     "text": [
      "10 or 5 : 10\n",
      "10 or 5 : True\n",
      "0 or 5 : 5\n",
      "0 or 5 : True\n"
     ]
    }
   ],
   "source": [
    "print('10 or 5 :', 10 or 5)\n",
    "print('10 or 5 :', bool(10) or bool(5)) \n",
    "print('0 or 5 :', 0 or 5)\n",
    "print('0 or 5 :', bool(0) or bool(5))"
   ]
  },
  {
   "cell_type": "code",
   "execution_count": 26,
   "metadata": {},
   "outputs": [
    {
     "name": "stdout",
     "output_type": "stream",
     "text": [
      "True and True : True\n",
      "True and False : False\n",
      "False and True : False\n",
      "False and False : False\n"
     ]
    }
   ],
   "source": [
    "# and 논리연산자\n",
    "# 두 값이 모두(동시에) True인 경우에만 True를 반환함\n",
    "# 두 개 중 하나라도 False 이면 False 를 반환함\n",
    "\n",
    "result1 = True and True and True and True and True\n",
    "result2 = True and False and False and False and False\n",
    "result3 = False and True and True and True and True\n",
    "result4 = False and False and False and False and False\n",
    "\n",
    "print('True and True :', result1)\n",
    "print('True and False :', result2)\n",
    "print('False and True :', result3)\n",
    "print('False and False :', result4)"
   ]
  },
  {
   "cell_type": "code",
   "execution_count": 25,
   "metadata": {},
   "outputs": [
    {
     "name": "stdout",
     "output_type": "stream",
     "text": [
      "True or True : True\n",
      "True or False : True\n",
      "False or True : True\n",
      "False or False : False\n"
     ]
    }
   ],
   "source": [
    "# or 논리연산자\n",
    "# 두 값이 모두(동시에) False인 경우에만 False를 반환함\n",
    "# 두 개 중 하나라도 True 이면 True 를 반환함\n",
    "\n",
    "result1 = True or True or True or True or True\n",
    "result2 = True or False or False or False or False\n",
    "result3 = False or True or True or True or True\n",
    "result4 = False or False or False or False or False\n",
    "\n",
    "print('True or True :', result1)\n",
    "print('True or False :', result2)\n",
    "print('False or True :', result3)\n",
    "print('False or False :', result4)"
   ]
  },
  {
   "cell_type": "code",
   "execution_count": 29,
   "metadata": {},
   "outputs": [
    {
     "name": "stdout",
     "output_type": "stream",
     "text": [
      "result : True\n",
      "result : False\n",
      "result : False\n",
      "result : True\n"
     ]
    }
   ],
   "source": [
    "'''\n",
    "논리부정연산자 : not : True -> False / False -> True\n",
    "'''\n",
    "\n",
    "result = True\n",
    "print('result :', result)\n",
    "print('result :', not result)\n",
    "\n",
    "result = False\n",
    "print('result :', result)\n",
    "print('result :', not result)"
   ]
  },
  {
   "cell_type": "code",
   "execution_count": 31,
   "metadata": {},
   "outputs": [
    {
     "name": "stdout",
     "output_type": "stream",
     "text": [
      "result1 : False\n",
      "result2 : True\n"
     ]
    }
   ],
   "source": [
    "num1 = 10\n",
    "num2 = 8\n",
    "\n",
    "result1 = num1 >= 50 and num2 < 10\n",
    "print('result1 :', result1)\n",
    "\n",
    "result2 = num1 >= 50 or num2 < 10\n",
    "print('result2 :', result2)"
   ]
  }
 ],
 "metadata": {
  "interpreter": {
   "hash": "949c5d161ae06a9191be236957b0dfe2172f0f0097fbf05f4df159099ee18a3c"
  },
  "kernelspec": {
   "display_name": "Python 3.8.5 64-bit ('tjoeun')",
   "language": "python",
   "name": "python3"
  },
  "language_info": {
   "codemirror_mode": {
    "name": "ipython",
    "version": 3
   },
   "file_extension": ".py",
   "mimetype": "text/x-python",
   "name": "python",
   "nbconvert_exporter": "python",
   "pygments_lexer": "ipython3",
   "version": "3.8.5"
  },
  "orig_nbformat": 4
 },
 "nbformat": 4,
 "nbformat_minor": 2
}
