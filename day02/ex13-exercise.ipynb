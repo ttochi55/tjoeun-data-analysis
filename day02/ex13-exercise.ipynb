{
 "cells": [
  {
   "cell_type": "markdown",
   "metadata": {},
   "source": [
    "# 파이썬 기초수업"
   ]
  },
  {
   "cell_type": "code",
   "execution_count": 1,
   "metadata": {},
   "outputs": [
    {
     "name": "stdout",
     "output_type": "stream",
     "text": [
      "[100, 130, 140, 150, 160, 170]\n"
     ]
    }
   ],
   "source": [
    "'''\n",
    "날짜와 주가 정보가 들어있는 prices 리스트에서\n",
    "날짜 정보를 제외하고 주가 정보만 출력하세요\n",
    "slicing 을 사용하세요\n",
    "'''\n",
    "\n",
    "prices = ['20220213', 100, 130, 140, 150, 160, 170]\n",
    "print(prices[1:])"
   ]
  },
  {
   "cell_type": "code",
   "execution_count": 6,
   "metadata": {},
   "outputs": [
    {
     "name": "stdout",
     "output_type": "stream",
     "text": [
      "[7, 4, 9, 2, 0, 1, 3]\n",
      "[3, 1, 0, 2, 9, 4, 7]\n",
      "[7, 4, 9, 2, 0, 1, 3]\n"
     ]
    }
   ],
   "source": [
    "'''\n",
    "numbers 를 순서를 거꾸로해서 출력하세요\n",
    "1) reverse() 메소드 사용하기\n",
    "2) slicing 사용하기\n",
    "'''\n",
    "\n",
    "numbers = [7, 4, 9, 2, 0, 1, 3]\n",
    "print(numbers)\n",
    "\n",
    "# 1) reverse() 메소드 사용하기\n",
    "numbers.reverse()\n",
    "print(numbers)\n",
    "\n",
    "# 2) slicing 사용하기\n",
    "print(numbers[::-1])"
   ]
  },
  {
   "cell_type": "code",
   "execution_count": 7,
   "metadata": {},
   "outputs": [
    {
     "name": "stdout",
     "output_type": "stream",
     "text": [
      "[7, 4, 9, 2, 0, 1, 3]\n",
      "[0, 1, 2, 3, 4, 7, 9]\n",
      "[0, 1, 2, 3, 4, 7, 9]\n"
     ]
    }
   ],
   "source": [
    "'''\n",
    "numbers 를 내림차순으로 출력하세요\n",
    "            ㄴ reverse=True\n",
    "1) sorted() 함수 \n",
    "2) sort() 메소드\n",
    "'''\n",
    "\n",
    "numbers = [7, 4, 9, 2, 0, 1, 3]\n",
    "print(numbers)\n",
    "\n",
    "# 1) sorted() 함수 \n",
    "print(sorted(numbers, reverse=False))\n",
    "\n",
    "# 2) sort() 메소드\n",
    "numbers.sort(reverse=False)\n",
    "print(numbers)"
   ]
  },
  {
   "cell_type": "code",
   "execution_count": 10,
   "metadata": {},
   "outputs": [
    {
     "name": "stdout",
     "output_type": "stream",
     "text": [
      "['SK하이닉스', '미래에셋', 'LG전자', '삼성전자']\n",
      "SK하이닉스 미래에셋 LG전자 삼성전자\n"
     ]
    }
   ],
   "source": [
    "'''\n",
    "company = ['SK하이닉스', '미래에셋', 'LG전자', '삼성전자']\n",
    "'''\n",
    "\n",
    "company = ['SK하이닉스', '미래에셋', 'LG전자', '삼성전자']\n",
    "print(company)\n",
    "\n",
    "'''\n",
    "아래와 같이 출력되도록 해보세요\n",
    "\n",
    "[출력]\n",
    "SK하이닉스 미래에셋 LG전자 삼성전자\n",
    "\n",
    "[힌트]\n",
    "join() 메서드 사용하기\n",
    "'구분자(separator)'.join(문자열/리스트)\n",
    "'''\n",
    "\n",
    "company = ' '.join(company)\n",
    "print(company)"
   ]
  },
  {
   "cell_type": "code",
   "execution_count": 11,
   "metadata": {},
   "outputs": [
    {
     "name": "stdout",
     "output_type": "stream",
     "text": [
      "['SK하이닉스', '미래에셋', 'LG전자', '삼성전자']\n",
      "SK하이닉스\n",
      "미래에셋\n",
      "LG전자\n",
      "삼성전자\n"
     ]
    }
   ],
   "source": [
    "'''\n",
    "company = ['SK하이닉스', '미래에셋', 'LG전자', '삼성전자']\n",
    "'''\n",
    "\n",
    "company = ['SK하이닉스', '미래에셋', 'LG전자', '삼성전자']\n",
    "print(company)\n",
    "\n",
    "'''\n",
    "아래와 같이 출력되도록 해보세요\n",
    "\n",
    "[출력]\n",
    "SK하이닉스\n",
    "미래에셋\n",
    "LG전자\n",
    "삼성전자\n",
    "\n",
    "[힌트]\n",
    "join() 메서드 사용하기\n",
    "'구분자(separator)'.join(문자열/리스트)\n",
    "'''\n",
    "\n",
    "company = '\\n'.join(company)\n",
    "print(company)"
   ]
  }
 ],
 "metadata": {
  "interpreter": {
   "hash": "949c5d161ae06a9191be236957b0dfe2172f0f0097fbf05f4df159099ee18a3c"
  },
  "kernelspec": {
   "display_name": "Python 3.8.5 64-bit ('tjoeun')",
   "language": "python",
   "name": "python3"
  },
  "language_info": {
   "codemirror_mode": {
    "name": "ipython",
    "version": 3
   },
   "file_extension": ".py",
   "mimetype": "text/x-python",
   "name": "python",
   "nbconvert_exporter": "python",
   "pygments_lexer": "ipython3",
   "version": "3.8.5"
  },
  "orig_nbformat": 4
 },
 "nbformat": 4,
 "nbformat_minor": 2
}
