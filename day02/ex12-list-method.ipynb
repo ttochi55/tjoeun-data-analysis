{
 "cells": [
  {
   "cell_type": "markdown",
   "metadata": {},
   "source": [
    "# 파이썬 기초수업\n",
    "\n",
    "리스트"
   ]
  },
  {
   "cell_type": "code",
   "execution_count": 2,
   "metadata": {},
   "outputs": [
    {
     "name": "stdout",
     "output_type": "stream",
     "text": [
      "['동물사전', '닥터두리틀', '쵸콜릿공장', '마이펫', '마틸다']\n"
     ]
    }
   ],
   "source": [
    "list_movie = ['동물사전', '닥터두리틀', '쵸콜릿공장', '마이펫', '마틸다']\n",
    "print(list_movie)"
   ]
  },
  {
   "cell_type": "code",
   "execution_count": 3,
   "metadata": {},
   "outputs": [
    {
     "name": "stdout",
     "output_type": "stream",
     "text": [
      "['동물사전', '닥터두리틀', '쵸콜릿공장', '마이펫', '마틸다', '지구의 밤']\n",
      "['동물사전', '닥터두리틀', '쵸콜릿공장', '마이펫', '마틸다', '지구의 밤']\n"
     ]
    }
   ],
   "source": [
    "'''\n",
    "'지구의 밤' 을 list_movie 맨 뒤에 추가하세요\n",
    "'''\n",
    "\n",
    "list_movie = ['동물사전', '닥터두리틀', '쵸콜릿공장', '마이펫', '마틸다']\n",
    "list_movie.append('지구의 밤')\n",
    "print(list_movie)\n",
    "\n",
    "list_movie = ['동물사전', '닥터두리틀', '쵸콜릿공장', '마이펫', '마틸다']\n",
    "list_movie.extend(['지구의 밤'])\n",
    "print(list_movie)"
   ]
  },
  {
   "cell_type": "code",
   "execution_count": 4,
   "metadata": {},
   "outputs": [
    {
     "name": "stdout",
     "output_type": "stream",
     "text": [
      "['동물사전', '닥터두리틀', '패딩턴', '쵸콜릿공장', '마이펫', '마틸다']\n"
     ]
    }
   ],
   "source": [
    "'''\n",
    "'패딩턴' 을 '닥터두리틀'과 '초콜릿공장' 사이에 추가하세요\n",
    "'''\n",
    "\n",
    "list_movie = ['동물사전', '닥터두리틀', '쵸콜릿공장', '마이펫', '마틸다']\n",
    "list_movie.insert(2, '패딩턴')\n",
    "print(list_movie)\n"
   ]
  },
  {
   "cell_type": "code",
   "execution_count": 5,
   "metadata": {},
   "outputs": [
    {
     "name": "stdout",
     "output_type": "stream",
     "text": [
      "['동물사전', '닥터두리틀', '쵸콜릿공장', '마틸다']\n",
      "['동물사전', '닥터두리틀', '쵸콜릿공장', '마틸다']\n",
      "['동물사전', '닥터두리틀', '쵸콜릿공장', '마틸다']\n",
      "['동물사전', '닥터두리틀', '쵸콜릿공장', '마틸다']\n",
      "['동물사전', '닥터두리틀', '쵸콜릿공장', '마틸다']\n"
     ]
    }
   ],
   "source": [
    "'''\n",
    "'마이펫'을 삭제하세요\n",
    "'''\n",
    "\n",
    "list_movie = ['동물사전', '닥터두리틀', '쵸콜릿공장', '마이펫', '마틸다']\n",
    "list_movie.remove('마이펫')\n",
    "print(list_movie)\n",
    "\n",
    "list_movie = ['동물사전', '닥터두리틀', '쵸콜릿공장', '마이펫', '마틸다']\n",
    "list_movie.pop(3)\n",
    "print(list_movie)\n",
    "\n",
    "list_movie = ['동물사전', '닥터두리틀', '쵸콜릿공장', '마이펫', '마틸다']\n",
    "list_movie.pop(list_movie.index('마이펫'))\n",
    "print(list_movie)\n",
    "\n",
    "list_movie = ['동물사전', '닥터두리틀', '쵸콜릿공장', '마이펫', '마틸다']\n",
    "del list_movie[3]\n",
    "print(list_movie)\n",
    "\n",
    "list_movie = ['동물사전', '닥터두리틀', '쵸콜릿공장', '마이펫', '마틸다']\n",
    "del list_movie[list_movie.index('마이펫')]\n",
    "print(list_movie)"
   ]
  },
  {
   "cell_type": "code",
   "execution_count": 6,
   "metadata": {},
   "outputs": [
    {
     "name": "stdout",
     "output_type": "stream",
     "text": [
      "['동물사전', '닥터두리틀', '쵸콜릿공장', '마이펫']\n",
      "['동물사전', '닥터두리틀', '쵸콜릿공장', '마이펫']\n",
      "['동물사전', '닥터두리틀', '쵸콜릿공장', '마이펫']\n",
      "['동물사전', '닥터두리틀', '쵸콜릿공장', '마이펫']\n"
     ]
    }
   ],
   "source": [
    "'''\n",
    "'마틸다'와 '지구의 밤'을 삭제하세요\n",
    "'''\n",
    "\n",
    "# '지구의 밤', '마틸다' 순서로 삭제할 때\n",
    "list_movie = ['동물사전', '닥터두리틀', '쵸콜릿공장', '마이펫', '마틸다', '지구의 밤']\n",
    "list_movie.pop(5)\n",
    "list_movie.pop(4)\n",
    "print(list_movie)\n",
    "\n",
    "# '마틸다', '지구의 밤' 순서로 삭제할 때\n",
    "list_movie = ['동물사전', '닥터두리틀', '쵸콜릿공장', '마이펫', '마틸다', '지구의 밤']\n",
    "list_movie.pop(4)\n",
    "list_movie.pop(4)\n",
    "print(list_movie)\n",
    "\n",
    "list_movie = ['동물사전', '닥터두리틀', '쵸콜릿공장', '마이펫', '마틸다', '지구의 밤']\n",
    "del list_movie[4:]\n",
    "print(list_movie)\n",
    "\n",
    "list_movie = ['동물사전', '닥터두리틀', '쵸콜릿공장', '마이펫', '마틸다', '지구의 밤']\n",
    "del list_movie[4:6]\n",
    "print(list_movie)"
   ]
  },
  {
   "cell_type": "code",
   "execution_count": 7,
   "metadata": {},
   "outputs": [
    {
     "name": "stdout",
     "output_type": "stream",
     "text": [
      "max : 10\n",
      "min : 1\n",
      "sum : 55\n"
     ]
    }
   ],
   "source": [
    "'''\n",
    "list 에 사용하는 내장함수(built-in function)\n",
    "\n",
    "max() : 최대값 구하기\n",
    "min() : 최소값 구하기\n",
    "sum() : 합계 구하기\n",
    "'''\n",
    "\n",
    "list_nums = [1, 2, 3, 4, 5, 6, 7, 8, 9, 10]\n",
    "print('max :', max(list_nums))\n",
    "print('min :', min(list_nums))\n",
    "print('sum :', sum(list_nums))"
   ]
  },
  {
   "cell_type": "code",
   "execution_count": 8,
   "metadata": {},
   "outputs": [
    {
     "name": "stdout",
     "output_type": "stream",
     "text": [
      "5.5\n",
      "5.5\n"
     ]
    }
   ],
   "source": [
    "'''\n",
    "리스트에서 평균 구하기 : 내장함수가 없음\n",
    "'''\n",
    "list_nums = [1, 2, 3, 4, 5, 6, 7, 8, 9, 10]\n",
    "\n",
    "# 1) numpy 모듈에 있는 mean() 함수 사용하기\n",
    "import numpy\n",
    "print(numpy.mean(list_nums))\n",
    "\n",
    "# 2) statistics 모듈에 있는 mean() 함수 사용하기\n",
    "import statistics\n",
    "print(statistics.mean(list_nums))\n"
   ]
  }
 ],
 "metadata": {
  "interpreter": {
   "hash": "949c5d161ae06a9191be236957b0dfe2172f0f0097fbf05f4df159099ee18a3c"
  },
  "kernelspec": {
   "display_name": "Python 3.8.5 64-bit ('tjoeun')",
   "language": "python",
   "name": "python3"
  },
  "language_info": {
   "codemirror_mode": {
    "name": "ipython",
    "version": 3
   },
   "file_extension": ".py",
   "mimetype": "text/x-python",
   "name": "python",
   "nbconvert_exporter": "python",
   "pygments_lexer": "ipython3",
   "version": "3.8.5"
  },
  "orig_nbformat": 4
 },
 "nbformat": 4,
 "nbformat_minor": 2
}
