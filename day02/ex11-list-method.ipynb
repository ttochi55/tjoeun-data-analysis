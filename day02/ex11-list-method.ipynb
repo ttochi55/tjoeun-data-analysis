{
 "cells": [
  {
   "cell_type": "markdown",
   "metadata": {},
   "source": [
    "# 파이썬 기초수업\n",
    "\n",
    "리스트 삭제"
   ]
  },
  {
   "cell_type": "code",
   "execution_count": 1,
   "metadata": {},
   "outputs": [
    {
     "name": "stdout",
     "output_type": "stream",
     "text": [
      "['f', 'd', 'a', 'w', 'e', 'k', 'b', 'c']\n",
      "['f', 'd', 'a', 'w', 'k', 'b', 'c']\n",
      "['f', 'd', 'a', 'w', 'b', 'c']\n",
      "['f', 'a', 'w', 'b', 'c', 'd']\n"
     ]
    }
   ],
   "source": [
    "'''\n",
    "list에서 item(요소) 제거하기\n",
    "'''\n",
    "\n",
    "# remove() : 지정한 값을 삭제함\n",
    "#            ㄴ 지정한 값이 여러개 있는 경우, 맨 앙에 있는 item 을 삭제함\n",
    "#               삭제된 item 뒤에 있는 item 들이 모두 한 칸씩 앞으로 이동함\n",
    "#          : insert() 의 반대\n",
    "\n",
    "alphabet_list = ['f', 'd', 'a', 'w', 'e', 'k', 'b', 'c']\n",
    "print(alphabet_list)\n",
    "\n",
    "alphabet_list.remove('e')\n",
    "print(alphabet_list)\n",
    "\n",
    "alphabet_list.remove('k')\n",
    "print(alphabet_list)\n",
    "\n",
    "# remove() 메소드에서는 index 번호로 삭제할 수 없음\n",
    "# ValueError: list.remove(x): x not in list\n",
    "#alphabet_list.remove(2)\n",
    "\n",
    "# 삭제될 값이 중복되는 경우 앞에것만 삭제 됨\n",
    "alphabet_list.append('d')\n",
    "alphabet_list.remove('d')\n",
    "print(alphabet_list)"
   ]
  },
  {
   "cell_type": "code",
   "execution_count": 2,
   "metadata": {},
   "outputs": [
    {
     "name": "stdout",
     "output_type": "stream",
     "text": [
      "d\n",
      "['f', 'a', 'w', 'b', 'c']\n"
     ]
    }
   ],
   "source": [
    "'''\n",
    "pop() : list 에 저장되어 있는 item 중에서\n",
    "        맨 마지막 item을 꺼내서 반환 함\n",
    "'''\n",
    "\n",
    "alphabet_list = ['f', 'a', 'w', 'b', 'c', 'd']\n",
    "print(alphabet_list.pop())\n",
    "print(alphabet_list)"
   ]
  },
  {
   "cell_type": "code",
   "execution_count": 3,
   "metadata": {},
   "outputs": [
    {
     "name": "stdout",
     "output_type": "stream",
     "text": [
      "w\n",
      "['f', 'a', 'b', 'c']\n"
     ]
    }
   ],
   "source": [
    "'''\n",
    "pop(인덱스) : 지정한 index에 해당하는 item을 반환 함\n",
    "'''\n",
    "\n",
    "alphabet_list = ['f', 'a', 'w', 'b', 'c']\n",
    "print(alphabet_list.pop(2))\n",
    "print(alphabet_list)"
   ]
  },
  {
   "cell_type": "code",
   "execution_count": 4,
   "metadata": {},
   "outputs": [
    {
     "name": "stdout",
     "output_type": "stream",
     "text": [
      "c\n",
      "['f', 'a', 'b']\n"
     ]
    }
   ],
   "source": [
    "alphabet_list = ['f', 'a', 'b', 'c']\n",
    "print(alphabet_list.pop(-1))\n",
    "print(alphabet_list)"
   ]
  },
  {
   "cell_type": "code",
   "execution_count": 5,
   "metadata": {},
   "outputs": [
    {
     "name": "stdout",
     "output_type": "stream",
     "text": [
      "[]\n"
     ]
    }
   ],
   "source": [
    "'''\n",
    "clear() : list에 저장된 item 모두를 삭제함\n",
    "          item만 삭제하고 list 자체는 남겨둠\n",
    "            ㄴ 빈 list 만 남음\n",
    "'''\n",
    "\n",
    "alphabet_list = ['f', 'a', 'b']\n",
    "alphabet_list.clear()\n",
    "print(alphabet_list)"
   ]
  },
  {
   "cell_type": "code",
   "execution_count": 6,
   "metadata": {},
   "outputs": [
    {
     "name": "stdout",
     "output_type": "stream",
     "text": [
      "['f', 'a', 'w', 'b', 'd']\n"
     ]
    }
   ],
   "source": [
    "'''\n",
    "del 명령어 : 지정한 index에 해당하는 item을 삭제함\n",
    "            해당 item을 list에서만 꺼내는 것이 아니고\n",
    "            메모리에서 그 item을 삭제함\n",
    "'''\n",
    "\n",
    "alphabet_list = ['f', 'a', 'w', 'b', 'c', 'd']\n",
    "del alphabet_list[4]\n",
    "print(alphabet_list)\n",
    "\n",
    "# NameError: name 'num' is not defined\n",
    "#del alphabet_list\n",
    "#print(alphabet_list)"
   ]
  },
  {
   "cell_type": "code",
   "execution_count": 7,
   "metadata": {},
   "outputs": [
    {
     "name": "stdout",
     "output_type": "stream",
     "text": [
      "111\n"
     ]
    }
   ],
   "source": [
    "num = 111\n",
    "print(num)\n",
    "\n",
    "# NameError: name 'num' is not defined\n",
    "#del num\n",
    "#print(num)"
   ]
  },
  {
   "cell_type": "code",
   "execution_count": 9,
   "metadata": {},
   "outputs": [
    {
     "name": "stdout",
     "output_type": "stream",
     "text": [
      "3\n",
      "5\n"
     ]
    }
   ],
   "source": [
    "'''\n",
    " count(item) : list 에 있는 data(item) 중에서\n",
    "               count() 메소드에 지정한 item의 개수를 반환함\n",
    "'''\n",
    "\n",
    "list_numbers = [1, 2, 2, 3, 3, 3, 4, 4, 4, 4, 5, 5, 5, 5, 5]\n",
    "print(list_numbers.count(3))\n",
    "print(list_numbers.count(5))"
   ]
  }
 ],
 "metadata": {
  "interpreter": {
   "hash": "949c5d161ae06a9191be236957b0dfe2172f0f0097fbf05f4df159099ee18a3c"
  },
  "kernelspec": {
   "display_name": "Python 3.8.5 64-bit ('tjoeun')",
   "language": "python",
   "name": "python3"
  },
  "language_info": {
   "codemirror_mode": {
    "name": "ipython",
    "version": 3
   },
   "file_extension": ".py",
   "mimetype": "text/x-python",
   "name": "python",
   "nbconvert_exporter": "python",
   "pygments_lexer": "ipython3",
   "version": "3.8.5"
  },
  "orig_nbformat": 4
 },
 "nbformat": 4,
 "nbformat_minor": 2
}
