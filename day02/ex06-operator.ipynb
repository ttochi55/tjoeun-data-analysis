{
 "cells": [
  {
   "cell_type": "markdown",
   "metadata": {},
   "source": [
    "# 파이썬 기초수업\n",
    "\n",
    "연산자"
   ]
  },
  {
   "cell_type": "code",
   "execution_count": 42,
   "metadata": {},
   "outputs": [
    {
     "name": "stdout",
     "output_type": "stream",
     "text": [
      "2진수 0b1010\n",
      "8진수 0o12\n",
      "16진수 0xa\n",
      "10진수 10\n"
     ]
    }
   ],
   "source": [
    "'''\n",
    " 2 진수  : binary number      : bin(10진수)\n",
    " 8 진수  : octal number       : oct(10진수)\n",
    " 16 진수 : hexadecimal number : hex(10진수)\n",
    " 10 진수 : decimal number\n",
    "'''\n",
    "\n",
    "number = 10\n",
    "print('2진수', bin(number))\n",
    "print('8진수', oct(number))\n",
    "print('16진수', hex(number))\n",
    "print('10진수', number)"
   ]
  },
  {
   "cell_type": "code",
   "execution_count": 43,
   "metadata": {},
   "outputs": [
    {
     "name": "stdout",
     "output_type": "stream",
     "text": [
      "2진수 0b1010\n",
      "2진수 0b101\n"
     ]
    }
   ],
   "source": [
    "'''\n",
    "4. 비트 연산자 : &, |, ^, ~, <<, >> : 연산의 대상 - bit(1, 0)\n",
    "'''\n",
    "\n",
    "num1 = 10\n",
    "num2 = 5\n",
    "\n",
    "print('2진수', bin(num1))\n",
    "print('2진수', bin(num2))"
   ]
  },
  {
   "cell_type": "code",
   "execution_count": 44,
   "metadata": {},
   "outputs": [
    {
     "name": "stdout",
     "output_type": "stream",
     "text": [
      "0\n"
     ]
    }
   ],
   "source": [
    "'''\n",
    "1) & : 비트 and 연산자\n",
    "----------\n",
    "    1010\n",
    " &  0101\n",
    "----------\n",
    "    0000\n",
    "'''\n",
    "\n",
    "num1 = 10\n",
    "num2 = 5\n",
    "print(num1 & num2)"
   ]
  },
  {
   "cell_type": "code",
   "execution_count": 45,
   "metadata": {},
   "outputs": [
    {
     "name": "stdout",
     "output_type": "stream",
     "text": [
      "15\n"
     ]
    }
   ],
   "source": [
    "'''\n",
    "2) | : 비트 or 연산자\n",
    "----------\n",
    "    1010\n",
    " |  0101\n",
    "----------\n",
    "    1111\n",
    "'''\n",
    "\n",
    "num1 = 10\n",
    "num2 = 5\n",
    "print(num1 | num2)"
   ]
  },
  {
   "cell_type": "code",
   "execution_count": 46,
   "metadata": {},
   "outputs": [
    {
     "name": "stdout",
     "output_type": "stream",
     "text": [
      "15\n"
     ]
    }
   ],
   "source": [
    "'''\n",
    "3) ^ : 비트 XOR 연산자\n",
    "     : 두 비트 중에서 서로 반대인 경우에만 1을 반환함\n",
    "----------\n",
    "    1010\n",
    " ^  0101\n",
    "----------\n",
    "    1111\n",
    "'''\n",
    "\n",
    "num1 = 10\n",
    "num2 = 5\n",
    "print(num1 ^ num2)"
   ]
  },
  {
   "cell_type": "code",
   "execution_count": 47,
   "metadata": {},
   "outputs": [
    {
     "name": "stdout",
     "output_type": "stream",
     "text": [
      "5\n"
     ]
    }
   ],
   "source": [
    "'''\n",
    "4) ~ : 비트를 반대로 바꿈 : 1 -> 0 / 0 ->1\n",
    "----------\n",
    "    1010\n",
    " ~  0101 \n",
    " &  0101\n",
    "----------\n",
    "    1111\n",
    "'''\n",
    "\n",
    "num1 = 10\n",
    "num2 = 5\n",
    "print(~num1 & num2)"
   ]
  },
  {
   "cell_type": "code",
   "execution_count": 48,
   "metadata": {},
   "outputs": [
    {
     "name": "stdout",
     "output_type": "stream",
     "text": [
      "num << 1 : 5 10\n",
      "num << 2 : 5 20\n",
      "num << 3 : 5 40\n",
      "num << 4 : 5 80\n",
      "num << 5 : 5 160\n"
     ]
    }
   ],
   "source": [
    "'''\n",
    "5) <<, >> : 쉬프트 연산자\n",
    "'''\n",
    "\n",
    "num = 5 # (2진수) 101, bin(5)\n",
    "\n",
    "'''\n",
    "<< : 레프트 쉬프트 연산자\n",
    "   : 비트를 지정한 정수(n)만큼 왼쪽으로 이동함\n",
    "   : 원래의 값에 곱하기 2 한 결과와 같음\n",
    "   : 원래의 값 * (2 ** n) 만큼 증가함\n",
    "   \n",
    "      0101\n",
    "   (0)1010\n",
    "  (01)0100\n",
    "'''\n",
    "\n",
    "# 변수에 할당된 값은 할당연산자를 사용해서\n",
    "# 다시 (다른 값으로) 할당하지 않으면 변하지 않음\n",
    "\n",
    "# 레프트 쉬프트 연산하기 전과 후\n",
    "print('num << 1 :', num, num << 1)\n",
    "print('num << 2 :', num, num << 2)\n",
    "print('num << 3 :', num, num << 3)\n",
    "print('num << 4 :', num, num << 4)\n",
    "print('num << 5 :', num, num << 5)"
   ]
  },
  {
   "cell_type": "code",
   "execution_count": 49,
   "metadata": {},
   "outputs": [
    {
     "name": "stdout",
     "output_type": "stream",
     "text": [
      "num >> 1 : 5 2\n",
      "num >> 2 : 5 1\n",
      "num >> 3 : 5 0\n",
      "num >> 4 : 5 0\n",
      "num >> 5 : 5 0\n"
     ]
    }
   ],
   "source": [
    "'''\n",
    ">> : 라이트 쉬프트 연산자\n",
    "   : 비트를 지정한 정수만큼 오른쪽으로 이동함\n",
    "   : 맨 끝을 벗어난 자리 값은 없어지면서 빈 자리는 0으로 채워진다\n",
    "   : 원래의 값에 나누기 2 한 결과와 같음\n",
    "   : 원래의 값 // (2 ** n) 만큼 감소함\n",
    "   \n",
    "   0101\n",
    "   0010(1)\n",
    "   0001(01)\n",
    "'''\n",
    "\n",
    "# 라이트 쉬프트 연산하기 전과 후\n",
    "print('num >> 1 :', num, num >> 1)\n",
    "print('num >> 2 :', num, num >> 2)\n",
    "print('num >> 3 :', num, num >> 3)\n",
    "print('num >> 4 :', num, num >> 4)\n",
    "print('num >> 5 :', num, num >> 5)\n"
   ]
  }
 ],
 "metadata": {
  "interpreter": {
   "hash": "949c5d161ae06a9191be236957b0dfe2172f0f0097fbf05f4df159099ee18a3c"
  },
  "kernelspec": {
   "display_name": "Python 3.8.5 64-bit ('tjoeun')",
   "language": "python",
   "name": "python3"
  },
  "language_info": {
   "codemirror_mode": {
    "name": "ipython",
    "version": 3
   },
   "file_extension": ".py",
   "mimetype": "text/x-python",
   "name": "python",
   "nbconvert_exporter": "python",
   "pygments_lexer": "ipython3",
   "version": "3.8.5"
  },
  "orig_nbformat": 4
 },
 "nbformat": 4,
 "nbformat_minor": 2
}
