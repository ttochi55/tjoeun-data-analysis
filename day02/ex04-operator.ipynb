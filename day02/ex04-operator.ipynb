{
 "cells": [
  {
   "cell_type": "markdown",
   "metadata": {},
   "source": [
    "# 파이썬 기초수업\n",
    "\n",
    "증감 연산자\n"
   ]
  },
  {
   "cell_type": "code",
   "execution_count": 21,
   "metadata": {},
   "outputs": [
    {
     "name": "stdout",
     "output_type": "stream",
     "text": [
      "0 0 0\n"
     ]
    }
   ],
   "source": [
    "'''\n",
    "두 개 이상의 변수에 동시에 같은 값 할당하기\n",
    "num1, num2, num3 변수들을 동시에 0으로 할당하기\n",
    "할당 연산자의 연산 방향: 오른쪽에서 왼쪽으로\n",
    "'''\n",
    "\n",
    "num1 = num2 = num3 = 0\n",
    "print(num1, num2, num3)"
   ]
  },
  {
   "cell_type": "code",
   "execution_count": 22,
   "metadata": {},
   "outputs": [
    {
     "name": "stdout",
     "output_type": "stream",
     "text": [
      "num4 : 10\n",
      "num4 : 11\n",
      "num4 : 12\n"
     ]
    }
   ],
   "source": [
    "'''\n",
    "변수에 할당된 값 1 증가 시키기\n",
    "할당 연산자 왼쪽에 있는 변수와\n",
    "오른쪽에 있는 변수가 같은 경우에만\n",
    "줄여서 쓸 수 있음\n",
    "'''\n",
    "\n",
    "num4 = 10\n",
    "print('num4 :', num4)\n",
    "\n",
    "num4 = num4 + 1\n",
    "print('num4 :', num4)\n",
    "\n",
    "num4 += 1\n",
    "print('num4 :', num4)\n",
    "\n",
    "# SyntaxError: invalid syntax\n",
    "# num4++\n",
    "# print('num4 :', num4)\n",
    "\n",
    "# SyntaxError: invalid syntax\n",
    "# ++num4\n",
    "# print('num4 :', num4)"
   ]
  },
  {
   "cell_type": "code",
   "execution_count": 23,
   "metadata": {},
   "outputs": [
    {
     "name": "stdout",
     "output_type": "stream",
     "text": [
      "num4 : 10\n",
      "num4 : 9\n",
      "num4 : 8\n"
     ]
    }
   ],
   "source": [
    "'''\n",
    "변수에 할당된 값 1 감소 시키기\n",
    "할당 연산자 왼쪽에 있는 변수와\n",
    "오른쪽에 있는 변수가 같은 경우에만\n",
    "줄여서 쓸 수 있음\n",
    "'''\n",
    "\n",
    "num4 = 10\n",
    "print('num4 :', num4)\n",
    "\n",
    "num4 = num4 - 1\n",
    "print('num4 :', num4)\n",
    "\n",
    "num4 -= 1\n",
    "print('num4 :', num4)\n",
    "\n",
    "# SyntaxError: invalid syntax\n",
    "# num4--\n",
    "# print('num4 :', num4)\n",
    "\n",
    "# SyntaxError: invalid syntax\n",
    "# --num4\n",
    "# print('num4 :', num4)"
   ]
  },
  {
   "cell_type": "code",
   "execution_count": 24,
   "metadata": {},
   "outputs": [
    {
     "data": {
      "text/plain": [
       "'\\nC, Java\\n\\nint number = 1;\\nnumber = number + 1;\\nnumber += 1;\\nnumber++; (증가연산자: python에서는 안 됨)\\n++number; (증가연산자: python에서는 안 됨)\\n'"
      ]
     },
     "execution_count": 24,
     "metadata": {},
     "output_type": "execute_result"
    }
   ],
   "source": [
    "'''\n",
    "C, Java\n",
    "\n",
    "int number = 1;\n",
    "number = number + 1;\n",
    "number += 1;\n",
    "number++; (증가연산자: python에서는 안 됨)\n",
    "++number; (증가연산자: python에서는 안 됨)\n",
    "'''"
   ]
  }
 ],
 "metadata": {
  "interpreter": {
   "hash": "949c5d161ae06a9191be236957b0dfe2172f0f0097fbf05f4df159099ee18a3c"
  },
  "kernelspec": {
   "display_name": "Python 3.8.5 64-bit ('tjoeun')",
   "language": "python",
   "name": "python3"
  },
  "language_info": {
   "codemirror_mode": {
    "name": "ipython",
    "version": 3
   },
   "file_extension": ".py",
   "mimetype": "text/x-python",
   "name": "python",
   "nbconvert_exporter": "python",
   "pygments_lexer": "ipython3",
   "version": "3.8.5"
  },
  "orig_nbformat": 4
 },
 "nbformat": 4,
 "nbformat_minor": 2
}
