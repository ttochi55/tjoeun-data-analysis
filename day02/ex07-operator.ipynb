{
 "cells": [
  {
   "cell_type": "markdown",
   "metadata": {},
   "source": [
    "# 파이썬 기초수업\n",
    "\n",
    "연산자"
   ]
  },
  {
   "cell_type": "code",
   "execution_count": 1,
   "metadata": {},
   "outputs": [
    {
     "name": "stdout",
     "output_type": "stream",
     "text": [
      "num1 : 11\n",
      "num1 : 22\n",
      "num1 : 33\n"
     ]
    }
   ],
   "source": [
    "'''\n",
    "5. 할당(대입) 연산자 : = : 오른쪽에 있는 값을 왼쪽(변수)에 할당함\n",
    "                        ㄴ literal(실제값), 변수\n",
    "'''\n",
    "\n",
    "num1 = 11\n",
    "num2 = num1\n",
    "print('num1 :', num1)\n",
    "\n",
    "num1 = 22\n",
    "print('num1 :', num1)\n",
    "\n",
    "num1 = 33\n",
    "print('num1 :', num1)"
   ]
  },
  {
   "cell_type": "code",
   "execution_count": 2,
   "metadata": {},
   "outputs": [
    {
     "name": "stdout",
     "output_type": "stream",
     "text": [
      "10 20 30\n"
     ]
    }
   ],
   "source": [
    "'''\n",
    "(변수) 초기화 : 변수에 처음으로 값을 할당하는 것\n",
    "             변수를 초기화하지 않으면 사용할 수 없음\n",
    "                                 ㄴ print(), 연산\n",
    "'''\n",
    "\n",
    "number1 = 10\n",
    "number2 = 20\n",
    "result = number1 + number2\n",
    "print(number1, number2, result)"
   ]
  },
  {
   "cell_type": "code",
   "execution_count": 3,
   "metadata": {},
   "outputs": [],
   "source": [
    "# NameError: name 'score' is not defined\n",
    "#                             ㄴ 메모리에 올라가 있지 않음\n",
    "# python 에서는 변수에 값을 할당할 때\n",
    "# 값이 할당된 변수가 메모리에 올라감\n",
    "\n",
    "#print(score)"
   ]
  },
  {
   "cell_type": "code",
   "execution_count": 4,
   "metadata": {},
   "outputs": [
    {
     "name": "stdout",
     "output_type": "stream",
     "text": [
      "Zero : 24\n",
      "Int1 : 28\n",
      "Float : 24\n",
      "None : 16\n",
      "String : 49\n"
     ]
    }
   ],
   "source": [
    "'''\n",
    "변수 크기 확인하기\n",
    "'''\n",
    "import sys\n",
    "\n",
    "num0 = 0\n",
    "num1 = 11\n",
    "num2 = 6.25\n",
    "num3 = None\n",
    "num4 = ''\n",
    "\n",
    "print('Zero :', sys.getsizeof(num0))\n",
    "print('Int1 :', sys.getsizeof(num1))\n",
    "print('Float :', sys.getsizeof(num2))\n",
    "print('None :', sys.getsizeof(num3))\n",
    "print('String :', sys.getsizeof(num4))"
   ]
  }
 ],
 "metadata": {
  "interpreter": {
   "hash": "949c5d161ae06a9191be236957b0dfe2172f0f0097fbf05f4df159099ee18a3c"
  },
  "kernelspec": {
   "display_name": "Python 3.8.5 64-bit ('tjoeun')",
   "language": "python",
   "name": "python3"
  },
  "language_info": {
   "codemirror_mode": {
    "name": "ipython",
    "version": 3
   },
   "file_extension": ".py",
   "mimetype": "text/x-python",
   "name": "python",
   "nbconvert_exporter": "python",
   "pygments_lexer": "ipython3",
   "version": "3.8.5"
  },
  "orig_nbformat": 4
 },
 "nbformat": 4,
 "nbformat_minor": 2
}
