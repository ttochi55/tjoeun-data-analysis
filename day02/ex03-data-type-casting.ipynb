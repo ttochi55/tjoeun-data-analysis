{
 "cells": [
  {
   "cell_type": "markdown",
   "metadata": {},
   "source": [
    "# 파이썬 기초수업\n",
    "\n",
    "데이터 형 변환(data type casting)"
   ]
  },
  {
   "cell_type": "code",
   "execution_count": 14,
   "metadata": {},
   "outputs": [
    {
     "name": "stdout",
     "output_type": "stream",
     "text": [
      "type(name) : <class 'str'> 더조은\n",
      "type(age) : <class 'int'> 27\n"
     ]
    }
   ],
   "source": [
    "'''\n",
    "data type : data 가 저장(할당)되는 공간의 형태(크기와 모양(구조))\n",
    "\n",
    "형(type) 변환 : str type -> int type\n",
    "  ㄴ casting\n",
    "'''\n",
    "\n",
    "name = '더조은'\n",
    "age = 27\n",
    "\n",
    "print('type(name) :', type(name), name)\n",
    "print('type(age) :', type(age), age)"
   ]
  },
  {
   "cell_type": "code",
   "execution_count": 15,
   "metadata": {},
   "outputs": [
    {
     "name": "stdout",
     "output_type": "stream",
     "text": [
      "type(age) : <class 'str'> 27\n",
      "type(age) : <class 'int'> 27\n",
      "이름 : 더조은, 나이 : 27\n",
      "이름 : 더조은, 나이 : 27\n",
      "type(age) : <class 'str'> 27\n",
      "이름 : 더조은, 나이 : 28\n"
     ]
    }
   ],
   "source": [
    "'''\n",
    "int type -> str type : str(age)\n",
    "str type -> int type : int(age)\n",
    "'''\n",
    "\n",
    "age = str(age)\n",
    "print('type(age) :', type(age), age)\n",
    "\n",
    "age = int(age)\n",
    "print('type(age) :', type(age), age)\n",
    "\n",
    "name = '더조은'\n",
    "age = 27\n",
    "print(\"이름 : \" + name + \", 나이 : \" + str(age))\n",
    "\n",
    "name = '더조은'\n",
    "age = 27\n",
    "age = str(age)\n",
    "print(\"이름 : \" + name + \", 나이 : \" + age)\n",
    "print('type(age) :', type(age), age)\n",
    "\n",
    "# 1년후 나이 -> 28\n",
    "age = int(age) + 1\n",
    "age = str(age)\n",
    "print(\"이름 : \" + name + \", 나이 : \" + age)"
   ]
  },
  {
   "cell_type": "code",
   "execution_count": 16,
   "metadata": {},
   "outputs": [
    {
     "name": "stdout",
     "output_type": "stream",
     "text": [
      "num1 : <class 'float'> 3.14\n",
      "num1 : <class 'int'> 3\n"
     ]
    }
   ],
   "source": [
    "'''\n",
    "실수(float type) --> 정수(int type)\n",
    "'''\n",
    "\n",
    "num1 = 3.14\n",
    "print('num1 :', type(num1), num1)\n",
    "\n",
    "num1 = int(num1)\n",
    "print('num1 :', type(num1), num1)"
   ]
  },
  {
   "cell_type": "code",
   "execution_count": 17,
   "metadata": {},
   "outputs": [
    {
     "name": "stdout",
     "output_type": "stream",
     "text": [
      "num1 : <class 'float'> 3.0\n"
     ]
    }
   ],
   "source": [
    "'''\n",
    "정수(int type) --> 정수(float type): float()\n",
    "'''\n",
    "\n",
    "num1 = 3\n",
    "num1 = float(num1)\n",
    "print('num1 :', type(num1), num1)"
   ]
  },
  {
   "cell_type": "code",
   "execution_count": 18,
   "metadata": {},
   "outputs": [
    {
     "name": "stdout",
     "output_type": "stream",
     "text": [
      "b1 : <class 'bool'> True\n",
      "b1 : <class 'int'> 1\n",
      "b2 : <class 'bool'> False\n",
      "b2 : <class 'int'> 0\n"
     ]
    }
   ],
   "source": [
    "'''\n",
    "논리형(bool type) --> 정수(int type) : int()\n",
    "'''\n",
    "\n",
    "b1 = True\n",
    "print('b1 :', type(b1), b1)\n",
    "\n",
    "b1 = int(b1)\n",
    "print('b1 :', type(b1), b1)\n",
    "\n",
    "\n",
    "b2 = False\n",
    "print('b2 :', type(b2), b2)\n",
    "\n",
    "b2 = int(b2)\n",
    "print('b2 :', type(b2), b2)"
   ]
  },
  {
   "cell_type": "code",
   "execution_count": 19,
   "metadata": {},
   "outputs": [
    {
     "name": "stdout",
     "output_type": "stream",
     "text": [
      "str1 : <class 'str'>\n",
      "str1 : 111111111111111\n",
      "str1 : 1115\n",
      "str1 : 116\n",
      "str1 : 555\n",
      "str1 : 16850581551\n"
     ]
    }
   ],
   "source": [
    "'''\n",
    "문자열(str type) --> 정수(int type) : int()\n",
    "  숫자 모양의 문자열만 정수자료형으로 변환할 수 있음\n",
    "'''\n",
    "\n",
    "str1 = '111'\n",
    "print('str1 :', type(str1))\n",
    "print('str1 :', str1 * 5)\n",
    "print('str1 :', str1 + str(5))\n",
    "print('str1 :', int(str1) + 5) # 더하기\n",
    "print('str1 :', int(str1) * 5) # 곱하기\n",
    "print('str1 :', int(str1) ** 5) # 제곱"
   ]
  },
  {
   "cell_type": "code",
   "execution_count": 20,
   "metadata": {},
   "outputs": [
    {
     "name": "stdout",
     "output_type": "stream",
     "text": [
      "str2 : <class 'str'> 3.141592\n",
      "str2 : <class 'float'> 3.141592\n"
     ]
    }
   ],
   "source": [
    "'''\n",
    "실수 모양의 문자열을 숫자로 변환하기\n",
    "실수 모양의 문자열은 int() 로 변환하지 못하고\n",
    "                float() 로 변환해야 함\n",
    "'''\n",
    "\n",
    "str2 = '3.141592'\n",
    "print('str2 :', type(str2), str2)\n",
    "\n",
    "# ValueError: invalid literal for int() with 10진수(base 10): '3.141592'\n",
    "# str2 = int(str2)\n",
    "str2 = float(str2)\n",
    "print('str2 :', type(str2), str2)"
   ]
  },
  {
   "cell_type": "code",
   "execution_count": 21,
   "metadata": {},
   "outputs": [
    {
     "name": "stdout",
     "output_type": "stream",
     "text": [
      "str3 : <class 'str'> 123456\n",
      "str3 : <class 'int'> 123456\n",
      "str3 : <class 'float'> 123456.0\n"
     ]
    }
   ],
   "source": [
    "'''\n",
    "정수 모양의 문자열을 숫자로 변환하기\n",
    "정수 모양의 문자열은 float() 로도 변환할 수 있고\n",
    "                int() 로 변환할 수 있다\n",
    "'''\n",
    "\n",
    "str3 = '123456'\n",
    "print('str3 :', type(str3), str3)\n",
    "\n",
    "str3 = '123456'\n",
    "str3 = int(str3)\n",
    "print('str3 :', type(str3), str3)\n",
    "\n",
    "str3 = '123456'\n",
    "str3 = float(str3)\n",
    "print('str3 :', type(str3), str3)"
   ]
  }
 ],
 "metadata": {
  "interpreter": {
   "hash": "949c5d161ae06a9191be236957b0dfe2172f0f0097fbf05f4df159099ee18a3c"
  },
  "kernelspec": {
   "display_name": "Python 3.8.5 64-bit ('tjoeun')",
   "language": "python",
   "name": "python3"
  },
  "language_info": {
   "codemirror_mode": {
    "name": "ipython",
    "version": 3
   },
   "file_extension": ".py",
   "mimetype": "text/x-python",
   "name": "python",
   "nbconvert_exporter": "python",
   "pygments_lexer": "ipython3",
   "version": "3.8.5"
  },
  "orig_nbformat": 4
 },
 "nbformat": 4,
 "nbformat_minor": 2
}
