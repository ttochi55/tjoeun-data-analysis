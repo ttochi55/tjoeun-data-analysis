{
 "cells": [
  {
   "cell_type": "markdown",
   "metadata": {},
   "source": [
    "# 파이썬 기초수업\n",
    "\n",
    "리스트 타입"
   ]
  },
  {
   "cell_type": "code",
   "execution_count": 1,
   "metadata": {},
   "outputs": [],
   "source": [
    "'''\n",
    "리스트 자료형 - list data type\n",
    "* (여러 개의 값을 한꺼번에 저장하는 data type\n",
    "   list, tuple, set, dictionary)\n",
    " \n",
    "1. list : [] 사용함\n",
    "          index 번호를 사용함\n",
    "          비어있는 list 를 만들 수 있음\n",
    "          data type 이 서로 다른 여러 가지 값들을 저장할 수 있음\n",
    "          list 내부에 list를 저장할 수 있음\n",
    "          mutable type 임\n",
    "            ㄴ 원본이 변형 됨\n",
    "'''\n",
    "\n",
    "import sys"
   ]
  },
  {
   "cell_type": "code",
   "execution_count": 2,
   "metadata": {},
   "outputs": [
    {
     "name": "stdout",
     "output_type": "stream",
     "text": [
      "list1 : <class 'list'> 56\n",
      "list2 : <class 'list'> 56\n"
     ]
    }
   ],
   "source": [
    "'''\n",
    "# 리스트 생성하기\n",
    "# []를 사용하거나, list() 함수를 사용함\n",
    "'''\n",
    "\n",
    "list1 = []\n",
    "print(\"list1 :\", type(list1), sys.getsizeof(list1))\n",
    "\n",
    "list2 = list()\n",
    "print(\"list2 :\", type(list2), sys.getsizeof(list2))"
   ]
  },
  {
   "cell_type": "code",
   "execution_count": 3,
   "metadata": {},
   "outputs": [
    {
     "name": "stdout",
     "output_type": "stream",
     "text": [
      "list3 : <class 'list'> 96\n",
      "list4 : <class 'list'> 88\n",
      "list5 : <class 'list'> 96\n",
      "list6 : <class 'list'> 96\n",
      "list7 : <class 'list'> 96\n"
     ]
    }
   ],
   "source": [
    "list3 = [1, 2, 3, 4, 5]\n",
    "list4 = ['python', 'program', 'best', 'language']\n",
    "list5 = [1, 2, 3, 'python', 'programming']\n",
    "list6 = [1, 2, 3, 'python', ['program', 'language']]\n",
    "list7 = [1, 2, 3, 'python', ['program', 'language', ['best', 'programming']]]\n",
    "\n",
    "print(\"list3 :\", type(list3), sys.getsizeof(list3))\n",
    "print(\"list4 :\", type(list4), sys.getsizeof(list4))\n",
    "print(\"list5 :\", type(list5), sys.getsizeof(list5))\n",
    "print(\"list6 :\", type(list6), sys.getsizeof(list6))\n",
    "print(\"list7 :\", type(list7), sys.getsizeof(list7))"
   ]
  },
  {
   "cell_type": "code",
   "execution_count": 4,
   "metadata": {},
   "outputs": [
    {
     "name": "stdout",
     "output_type": "stream",
     "text": [
      "list6[3] : python\n",
      "list6[4][1] : language\n"
     ]
    }
   ],
   "source": [
    "list6 = [1, 2, 3, 'python', ['program', 'language']]\n",
    "\n",
    "# indexing 을 사용해서 'python'을 출력하세요\n",
    "print('list6[3] :', list6[3])\n",
    "\n",
    "# indexing 을 사용해서 'language'을 출력하세요\n",
    "print('list6[4][1] :', list6[4][1])"
   ]
  },
  {
   "cell_type": "code",
   "execution_count": 5,
   "metadata": {},
   "outputs": [
    {
     "name": "stdout",
     "output_type": "stream",
     "text": [
      "list7[4][2][0] : best\n",
      "list7[-1][-1][0] : best\n",
      "list7[-1][-1][-1] : programming\n",
      "program language\n",
      "['program', 'language']\n",
      "program language\n",
      "['program', 'language']\n",
      "program language\n",
      "program language\n"
     ]
    }
   ],
   "source": [
    "list7 = [1, 2, 3, 'python', ['program', 'language', ['best', 'programming']]]\n",
    "\n",
    "# indexing 을 사용해서 'best'을 출력하세요\n",
    "print('list7[4][2][0] :', list7[4][2][0])\n",
    "print('list7[-1][-1][0] :', list7[-1][-1][0])\n",
    "print('list7[-1][-1][-1] :', list7[-1][-1][-1])\n",
    "\n",
    "# indexing(slicing) 을 사용해서 program language 을 출력하세요\n",
    "print(list7[4][0], list7[4][1])\n",
    "print(list7[4][:2])\n",
    "print(list7[4][0] +' '+ list7[4][1])\n",
    "print(list7[-1][:2])\n",
    "print(list7[-1][0], list7[-1][1])\n",
    "print(list7[-1][0] +' '+ list7[-1][1])"
   ]
  },
  {
   "cell_type": "code",
   "execution_count": 10,
   "metadata": {},
   "outputs": [
    {
     "name": "stdout",
     "output_type": "stream",
     "text": [
      "list8 [11, 22, 33, 44, 55]\n",
      "list8[3] 44\n",
      "list8 [11, 22, 33, 888, 55]\n",
      "list8[3] 888\n"
     ]
    }
   ],
   "source": [
    "'''\n",
    "list - mutable type\n",
    "        ㄴ 원본이 변형 됨\n",
    "'''\n",
    "\n",
    "list8 = [11, 22, 33, 44, 55]\n",
    "print('list8', list8)\n",
    "print('list8[3]', list8[3])\n",
    "\n",
    "list8[3] = 888\n",
    "print('list8', list8)\n",
    "print('list8[3]', list8[3])"
   ]
  },
  {
   "cell_type": "code",
   "execution_count": 21,
   "metadata": {},
   "outputs": [
    {
     "name": "stdout",
     "output_type": "stream",
     "text": [
      "str1 : python\n",
      "str1[3] : h\n",
      "pytyon\n"
     ]
    }
   ],
   "source": [
    "'''\n",
    "cf. str type - immutable type\n",
    "                ㄴ 원본이 변형되지 않음\n",
    "'''\n",
    "\n",
    "str1 = 'python'\n",
    "print('str1 :', str1)\n",
    "print('str1[3] :', str1[3])\n",
    "\n",
    "# TypeError: 'str' object does not support item assignment\n",
    "#str1[3] = 'y'\n",
    "#print('str1 :', str1)\n",
    "\n",
    "print(str1[:3] + 'y' + str1[4:])"
   ]
  },
  {
   "cell_type": "code",
   "execution_count": 28,
   "metadata": {},
   "outputs": [
    {
     "name": "stdout",
     "output_type": "stream",
     "text": [
      "result : hello python\n",
      "str2 : hello\n",
      "result : hello python\n",
      "str2 : hello\n"
     ]
    }
   ],
   "source": [
    "'''\n",
    "hello python\n",
    "'''\n",
    "\n",
    "# 원본은 변함이 없고 새롭게 메모리에 올려서 출력 함\n",
    "str2 = 'hello'\n",
    "print('result :', str2 + ' python')\n",
    "print('str2 :', str2)\n",
    "\n",
    "result = str2 + ' python'\n",
    "print('result :', result)\n",
    "print('str2 :', str2)"
   ]
  },
  {
   "cell_type": "code",
   "execution_count": 29,
   "metadata": {},
   "outputs": [
    {
     "name": "stdout",
     "output_type": "stream",
     "text": [
      "result : 4461378928 python program\n",
      "str3 : 4349788336 python\n"
     ]
    }
   ],
   "source": [
    "'''\n",
    "id(변수) : 메모리 저장 위치 확인\n",
    "'''\n",
    "str3 = 'python'\n",
    "result = str3 + ' program'\n",
    "\n",
    "print('result :', id(result), result)\n",
    "print('str3 :', id(str3), str3)"
   ]
  },
  {
   "cell_type": "code",
   "execution_count": 33,
   "metadata": {},
   "outputs": [
    {
     "name": "stdout",
     "output_type": "stream",
     "text": [
      "list_numbers[::2] : [1, 3, 5, 7, 9]\n",
      "list_numbers[0::2] : [1, 3, 5, 7, 9]\n",
      "list_numbers[1::2] : [2, 4, 6, 8, 10]\n"
     ]
    }
   ],
   "source": [
    "'''\n",
    "list slicing\n",
    "[start:end]       : 시작 포함 끝 안 포함\n",
    "[start:end:step]  : 시작 포함 끝 안 포함 (step - 1) 만큼 건너뜀\n",
    "'''\n",
    "\n",
    "list_numbers = [1, 2, 3, 4, 5, 6, 7, 8,9, 10]\n",
    "\n",
    "# 홀수만 출력하기\n",
    "print('list_numbers[::2] :', list_numbers[::2])\n",
    "print('list_numbers[0::2] :', list_numbers[0::2])\n",
    "\n",
    "\n",
    "# 짝수만 출력하기\n",
    "print('list_numbers[1::2] :', list_numbers[1::2])\n",
    "\n"
   ]
  }
 ],
 "metadata": {
  "interpreter": {
   "hash": "949c5d161ae06a9191be236957b0dfe2172f0f0097fbf05f4df159099ee18a3c"
  },
  "kernelspec": {
   "display_name": "Python 3.8.5 64-bit ('tjoeun')",
   "language": "python",
   "name": "python3"
  },
  "language_info": {
   "codemirror_mode": {
    "name": "ipython",
    "version": 3
   },
   "file_extension": ".py",
   "mimetype": "text/x-python",
   "name": "python",
   "nbconvert_exporter": "python",
   "pygments_lexer": "ipython3",
   "version": "3.8.5"
  },
  "orig_nbformat": 4
 },
 "nbformat": 4,
 "nbformat_minor": 2
}
