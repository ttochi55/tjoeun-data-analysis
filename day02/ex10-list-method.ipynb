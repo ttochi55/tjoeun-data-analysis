{
 "cells": [
  {
   "cell_type": "markdown",
   "metadata": {},
   "source": [
    "# 파이썬 기초수업\n",
    "\n",
    "리스트 추가"
   ]
  },
  {
   "cell_type": "code",
   "execution_count": 2,
   "metadata": {},
   "outputs": [
    {
     "name": "stdout",
     "output_type": "stream",
     "text": [
      "['d', 'a', 'e', 'b', 'c']\n",
      "3\n"
     ]
    }
   ],
   "source": [
    "alphabet_list = ['d', 'a', 'e', 'b', 'c']\n",
    "print(alphabet_list)\n",
    "\n",
    "'''\n",
    "index() 메소드 : 지정한 item의 index 번호를 알려줌\n",
    "list 에는 rindex() 나 find() / rfind() 메소드가 없음\n",
    "'''\n",
    "\n",
    "print(alphabet_list.index('b'))"
   ]
  },
  {
   "cell_type": "code",
   "execution_count": 5,
   "metadata": {},
   "outputs": [
    {
     "name": "stdout",
     "output_type": "stream",
     "text": [
      "['d', 'a', 'e', 'b', 'c']\n",
      "['f', 'd', 'a', 'e', 'b', 'c']\n",
      "['f', 'd', 'a', 'w', 'e', 'b', 'c']\n",
      "['f', 'd', 'a', 'w', 'e', 'k', 'b', 'c']\n"
     ]
    }
   ],
   "source": [
    "'''\n",
    "insert(인덱스) 메소드 : list 의 특정 index 에 data 삽입하기\n",
    "                     지정한 index에 data가 삽입되고\n",
    "                     새로 insert 되는 data 뒤에 있는\n",
    "                     기존의 data 들은 모두 한 칸씩 뒤로 밀림\n",
    "'''\n",
    "\n",
    "alphabet_list = ['d', 'a', 'e', 'b', 'c']\n",
    "print(alphabet_list)\n",
    "\n",
    "# alphabet_list의 0번째 index에 'f'를 추가하세요\n",
    "alphabet_list.insert(0, 'f')\n",
    "print(alphabet_list)\n",
    "\n",
    "alphabet_list.insert(3, 'w')\n",
    "print(alphabet_list)\n",
    "\n",
    "alphabet_list.insert(-2, 'k')\n",
    "print(alphabet_list)"
   ]
  }
 ],
 "metadata": {
  "interpreter": {
   "hash": "949c5d161ae06a9191be236957b0dfe2172f0f0097fbf05f4df159099ee18a3c"
  },
  "kernelspec": {
   "display_name": "Python 3.8.5 64-bit ('tjoeun')",
   "language": "python",
   "name": "python3"
  },
  "language_info": {
   "codemirror_mode": {
    "name": "ipython",
    "version": 3
   },
   "file_extension": ".py",
   "mimetype": "text/x-python",
   "name": "python",
   "nbconvert_exporter": "python",
   "pygments_lexer": "ipython3",
   "version": "3.8.5"
  },
  "orig_nbformat": 4
 },
 "nbformat": 4,
 "nbformat_minor": 2
}
