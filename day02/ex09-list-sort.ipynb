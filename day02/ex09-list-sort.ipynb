{
 "cells": [
  {
   "cell_type": "markdown",
   "metadata": {},
   "source": [
    "# 파이썬 기초수업\n",
    "\n",
    "리스트 정렬"
   ]
  },
  {
   "cell_type": "code",
   "execution_count": 60,
   "metadata": {},
   "outputs": [
    {
     "name": "stdout",
     "output_type": "stream",
     "text": [
      "list 합치기 : [1, 2, 3, 4, 5, 6, 7, 8, 9, 10]\n",
      "list 반복하기 : [1, 2, 3, 4, 5, 1, 2, 3, 4, 5, 1, 2, 3, 4, 5]\n",
      "list 에 들어있는 data(item) 개수 구하기 : 5\n"
     ]
    }
   ],
   "source": [
    "list1 = [1, 2, 3, 4, 5]\n",
    "list2 = [6, 7, 8, 9, 10]\n",
    "\n",
    "print('list 합치기 :', list1 + list2)\n",
    "print('list 반복하기 :', list1 * 3)\n",
    "print('list 에 들어있는 data(item) 개수 구하기 :', len(list1))"
   ]
  },
  {
   "cell_type": "code",
   "execution_count": 61,
   "metadata": {},
   "outputs": [
    {
     "name": "stdout",
     "output_type": "stream",
     "text": [
      "hello33\n",
      "hello33\n",
      "hello33\n",
      "hello33\n"
     ]
    }
   ],
   "source": [
    "str1 = 'hello'\n",
    "list3 = [11, 22, 33, 44, 55]\n",
    "\n",
    "'''\n",
    "hello33 을 출력하세요\n",
    "'''\n",
    "\n",
    "print(str1 + str(list3[2]))\n",
    "print(\"%s%d\" % (str1, list3[2]))\n",
    "print(\"{}{}\".format(str1, list3[2]))\n",
    "print(f\"{str1}{list3[2]}\")"
   ]
  },
  {
   "cell_type": "code",
   "execution_count": 62,
   "metadata": {},
   "outputs": [
    {
     "name": "stdout",
     "output_type": "stream",
     "text": [
      "hello world\n"
     ]
    }
   ],
   "source": [
    "'''\n",
    "immutable type\n",
    "str 에 문자 추가하기\n",
    "'''\n",
    "\n",
    "str1 = 'hello'\n",
    "print(str1 + ' world')"
   ]
  },
  {
   "cell_type": "code",
   "execution_count": 63,
   "metadata": {},
   "outputs": [
    {
     "name": "stdout",
     "output_type": "stream",
     "text": [
      "list1 : [1, 2, 3, 4, 5]\n",
      "list1 : [1, 2, 3, 4, 5, 6]\n",
      "list1 : [1, 2, 3, 4, 5, 6, [7, 8]]\n",
      "list1 : [1, 2, 3, 4, 5, 6, [7, 8], 9, 10]\n"
     ]
    }
   ],
   "source": [
    "'''\n",
    "mutable type\n",
    "list 에 data(item) 추가하기\n",
    "'''\n",
    "\n",
    "list1 = [1, 2, 3, 4, 5]\n",
    "print('list1 :', list1)\n",
    "\n",
    "# 1) append() 메소드 : list 의 맨 뒤에 item 을 추가함\n",
    "list1.append(6)\n",
    "print('list1 :', list1)\n",
    "\n",
    "# TypeError: append() takes exactly one argument (2 given)\n",
    "#list1.append(7, 8)\n",
    "\n",
    "# [1, 2, 3, 4, 5, 6, [7, 8]]\n",
    "list1.append([7, 8])\n",
    "print('list1 :', list1)\n",
    "\n",
    "'''\n",
    "extend() 메소드 : argument 로 list 를 지정할 수 있음\n",
    "'''\n",
    "\n",
    "list1.extend([9, 10])\n",
    "print('list1 :', list1)"
   ]
  },
  {
   "cell_type": "code",
   "execution_count": 64,
   "metadata": {},
   "outputs": [
    {
     "name": "stdout",
     "output_type": "stream",
     "text": [
      "[6, 3, 8, 1, 0]\n"
     ]
    }
   ],
   "source": [
    "'''\n",
    "list 정렬하기(오름차순)\n",
    "     sorted() 함수 : 특정 type 에 속하지 않은 함수\n",
    "     sort() 메소드 : 접근연산자를 사용함\n",
    "     \n",
    "     내림차순으로 하려면 reverse 파라미터에 True 를 할당하면 됨\n",
    "       ㄴ reverse 의 default 값 <-- False\n",
    "'''\n",
    "\n",
    "list2 = [6, 3, 8, 1, 0]\n",
    "print(list2)"
   ]
  },
  {
   "cell_type": "code",
   "execution_count": 65,
   "metadata": {},
   "outputs": [
    {
     "name": "stdout",
     "output_type": "stream",
     "text": [
      "[6, 3, 8, 1, 0]\n",
      "[0, 1, 3, 6, 8]\n",
      "[6, 3, 8, 1, 0]\n"
     ]
    }
   ],
   "source": [
    "list2 = [6, 3, 8, 1, 0]\n",
    "print(list2)\n",
    "\n",
    "# 1) sorted() 함수 : 특정 type 에 속하지 않은 함수\n",
    "#     ㄴ 원본을 변형시키지 않음 : immutable 처럼 사용할 수 있음\n",
    "# 원본에 있는 data를 가져와서 정렬작업을 해서 새로운 list를 생성함\n",
    "sorted_list = sorted(list2)\n",
    "\n",
    "print(sorted_list)\n",
    "print(list2)"
   ]
  },
  {
   "cell_type": "code",
   "execution_count": 66,
   "metadata": {},
   "outputs": [
    {
     "name": "stdout",
     "output_type": "stream",
     "text": [
      "[6, 3, 8, 1, 0]\n",
      "None\n",
      "[0, 1, 3, 6, 8]\n"
     ]
    }
   ],
   "source": [
    "list2 = [6, 3, 8, 1, 0]\n",
    "print(list2)\n",
    "\n",
    "# 2) sort() 메소드 : 접근연산자를 사용함\n",
    "#     ㄴ 원본을 변형시킴 : mutable 로 동작함\n",
    "#     ㄴ 정렬 작업을 하면서 새로운 list를 생성하지 않음\n",
    "sort_list = list2.sort()\n",
    "\n",
    "print(sort_list)\n",
    "print(list2)"
   ]
  },
  {
   "cell_type": "code",
   "execution_count": 67,
   "metadata": {},
   "outputs": [
    {
     "name": "stdout",
     "output_type": "stream",
     "text": [
      "[7, 4, 9, 3, 6, 1]\n",
      "[9, 7, 6, 4, 3, 1]\n",
      "[7, 4, 9, 3, 6, 1]\n"
     ]
    }
   ],
   "source": [
    "'''\n",
    "     내림차순으로 하려면 reverse 파라미터에 True 를 할당하면 됨\n",
    "       ㄴ reverse 의 default 값 <-- False\n",
    "'''\n",
    "\n",
    "list3 = [7, 4, 9, 3, 6, 1]\n",
    "print(list3)\n",
    "\n",
    "sorted_list = sorted(list3, reverse=True)\n",
    "print(sorted_list)\n",
    "print(list3)\n"
   ]
  },
  {
   "cell_type": "code",
   "execution_count": 68,
   "metadata": {},
   "outputs": [
    {
     "name": "stdout",
     "output_type": "stream",
     "text": [
      "[7, 4, 9, 3, 6, 1]\n",
      "None\n",
      "[9, 7, 6, 4, 3, 1]\n"
     ]
    }
   ],
   "source": [
    "list3 = [7, 4, 9, 3, 6, 1]\n",
    "print(list3)\n",
    "\n",
    "sorted_list = list3.sort(reverse=True)\n",
    "print(sorted_list)\n",
    "print(list3)\n"
   ]
  },
  {
   "cell_type": "code",
   "execution_count": 69,
   "metadata": {},
   "outputs": [
    {
     "name": "stdout",
     "output_type": "stream",
     "text": [
      "[8, 3, 5, 1, 9, 2]\n",
      "[2, 9, 1, 5, 3, 8]\n",
      "[1, 2, 3, 5, 8, 9]\n",
      "[9, 8, 5, 3, 2, 1]\n",
      "[9, 8, 5, 3, 2, 1]\n"
     ]
    }
   ],
   "source": [
    "'''\n",
    "reverse() 메소드 : 정렬 기능은 없고 단지 순서를 반대 방향으로 바꿔 줌\n",
    "'''\n",
    "\n",
    "list4 = [8, 3, 5, 1, 9, 2]\n",
    "print(list4)\n",
    "\n",
    "list4.reverse()\n",
    "print(list4)\n",
    "\n",
    "# 정렬 후 reverse() 사용시 정렬 효과가 있음\n",
    "sorted_list = sorted(list4)\n",
    "print(sorted_list)\n",
    "\n",
    "sorted_list.reverse()\n",
    "print(sorted_list)\n",
    "\n",
    "list4.sort()\n",
    "list4.reverse()\n",
    "print(list4)"
   ]
  },
  {
   "cell_type": "code",
   "execution_count": null,
   "metadata": {},
   "outputs": [],
   "source": []
  },
  {
   "cell_type": "code",
   "execution_count": null,
   "metadata": {},
   "outputs": [],
   "source": []
  },
  {
   "cell_type": "code",
   "execution_count": null,
   "metadata": {},
   "outputs": [],
   "source": []
  }
 ],
 "metadata": {
  "interpreter": {
   "hash": "949c5d161ae06a9191be236957b0dfe2172f0f0097fbf05f4df159099ee18a3c"
  },
  "kernelspec": {
   "display_name": "Python 3.8.5 64-bit ('tjoeun')",
   "language": "python",
   "name": "python3"
  },
  "language_info": {
   "codemirror_mode": {
    "name": "ipython",
    "version": 3
   },
   "file_extension": ".py",
   "mimetype": "text/x-python",
   "name": "python",
   "nbconvert_exporter": "python",
   "pygments_lexer": "ipython3",
   "version": "3.8.5"
  },
  "orig_nbformat": 4
 },
 "nbformat": 4,
 "nbformat_minor": 2
}
