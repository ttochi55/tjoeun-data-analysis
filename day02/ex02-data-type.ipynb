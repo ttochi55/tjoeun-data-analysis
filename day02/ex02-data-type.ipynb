{
 "cells": [
  {
   "cell_type": "markdown",
   "metadata": {},
   "source": [
    "# 파이썬 기초수업\n",
    "\n",
    "데이터타입"
   ]
  },
  {
   "cell_type": "code",
   "execution_count": 16,
   "metadata": {},
   "outputs": [
    {
     "data": {
      "text/plain": [
       "\"\\n# data type : data가 저장된 공간의 형태(type)\\n#\\n# 자료 형\\n# 변수 - variable(name)\\n# 변수이름, 함수이름, 클래스이름\\n#    name,   name,    name   <-- identifier\\n#\\n# python 은 변수에 어떤 자료형(data type)의 \\n# data를 할당하느냐에 따라서 \\n# 해당변수의 type이 결정됨\\n#   ㄴ같은 이름의 변수에 서로 다른 타입을 지정할 수 있다.\\n#\\n# (C, Java)\\n# int number;\\n# numer = 111; (o)\\n# numer = 6.35; (x)\\n# numer = '더조은'; (x)\\n#\\n# (Python)\\n# number (x) <- data를 저장하기 전에 먼저 공간을 확보하지 못함\\n# numer = 111 (o) <- data가 할당(저장) 되면서 해당 type의 공간이 확보됨\\n# number = 6.25 (o)\\n# number = '더조은' (o)\\n\""
      ]
     },
     "execution_count": 16,
     "metadata": {},
     "output_type": "execute_result"
    }
   ],
   "source": [
    "'''\n",
    "# data type : data가 저장된 공간의 형태(type)\n",
    "#\n",
    "# 자료 형\n",
    "# 변수 - variable(name)\n",
    "# 변수이름, 함수이름, 클래스이름\n",
    "#    name,   name,    name   <-- identifier\n",
    "#\n",
    "# python 은 변수에 어떤 자료형(data type)의 \n",
    "# data를 할당하느냐에 따라서 \n",
    "# 해당변수의 type이 결정됨\n",
    "#   ㄴ 같은 이름의 변수에 서로 다른 타입을 지정할 수 있다.\n",
    "#\n",
    "# (C, Java)\n",
    "# int number;\n",
    "# numer = 111; (o)\n",
    "# numer = 6.35; (x)\n",
    "# numer = '더조은'; (x)\n",
    "#\n",
    "# (Python)\n",
    "# number (x) <- data를 저장하기 전에 먼저 공간을 확보하지 못함\n",
    "# numer = 111 (o) <- data가 할당(저장) 되면서 해당 type의 공간이 확보됨\n",
    "# number = 6.25 (o)\n",
    "# number = '더조은' (o)\n",
    "'''"
   ]
  },
  {
   "cell_type": "code",
   "execution_count": 17,
   "metadata": {},
   "outputs": [
    {
     "name": "stdout",
     "output_type": "stream",
     "text": [
      "var1 : hello python\n",
      "var1 : <class 'str'>\n",
      "var1 : hello python\n",
      "var1 : <class 'str'>\n"
     ]
    }
   ],
   "source": [
    "'''\n",
    "# python 에서 변수 선언시 ';' 은 일반적으로 사용하지 않는다.\n",
    "'''\n",
    "var1 = 'hello python'\n",
    "print('var1 :', var1)\n",
    "print('var1 :', type(var1))\n",
    "\n",
    "'''\n",
    "# python 에서 ';' 을 사용하는 경우는\n",
    "# 명령문을 한 줄에 두 개 이상 적성할때 각 명령문을 구분하기 위해서 사용한다.\n",
    "'''\n",
    "var1 = 'hello python'; print('var1 :', var1); print('var1 :', type(var1))"
   ]
  },
  {
   "cell_type": "code",
   "execution_count": 18,
   "metadata": {},
   "outputs": [
    {
     "name": "stdout",
     "output_type": "stream",
     "text": [
      "var1 : hello python\n",
      "var1 : <class 'str'>\n"
     ]
    }
   ],
   "source": [
    "'''\n",
    "# 문자열(자료형): str type - <class 'str'>\n",
    "# class = type\n",
    "'''\n",
    "\n",
    "var1 = 'hello python'\n",
    "print('var1 :', var1)\n",
    "print('var1 :', type(var1))"
   ]
  },
  {
   "cell_type": "code",
   "execution_count": 19,
   "metadata": {},
   "outputs": [
    {
     "name": "stdout",
     "output_type": "stream",
     "text": [
      "var1 : 111\n",
      "var1 : <class 'int'>\n"
     ]
    }
   ],
   "source": [
    "'''\n",
    "# 정수(자료형) : int(integer) type - <class 'int'>\n",
    "'''\n",
    "var1 = 111\n",
    "print('var1 :', var1)\n",
    "print('var1 :', type(var1))"
   ]
  },
  {
   "cell_type": "code",
   "execution_count": 20,
   "metadata": {},
   "outputs": [
    {
     "name": "stdout",
     "output_type": "stream",
     "text": [
      "var1 : 6.25\n",
      "var1 : <class 'float'>\n"
     ]
    }
   ],
   "source": [
    "'''\n",
    "# 실수(자료형) : float type - <class 'float'>\n",
    "'''\n",
    "var1 = 6.25\n",
    "print('var1 :', var1)\n",
    "print('var1 :', type(var1))"
   ]
  },
  {
   "cell_type": "code",
   "execution_count": 21,
   "metadata": {},
   "outputs": [
    {
     "name": "stdout",
     "output_type": "stream",
     "text": [
      "var1 : (5+6j)\n",
      "var1 : <class 'complex'>\n",
      "var2 : (5+6j)\n",
      "var2 : <class 'complex'>\n",
      "var3 : (5-6j)\n",
      "var3 : <class 'complex'>\n",
      "var4 : (5-6j)\n",
      "var4 : <class 'complex'>\n",
      "5.0\n",
      "-6.0\n"
     ]
    }
   ],
   "source": [
    "'''\n",
    "# 복소수(자료형) : complex type - <class 'complex'>\n",
    "# 복소수란 실수와 허수를 합친 수를 의미하며, 수학에서는 i 파이썬이서는 j로 표현한다\n",
    "'''\n",
    "var1 = 5 + 6j\n",
    "print('var1 :', var1)\n",
    "print('var1 :', type(var1))\n",
    "\n",
    "var2 = complex(5, 6)\n",
    "print('var2 :', var2)\n",
    "print('var2 :', type(var2))\n",
    "\n",
    "var3 = 5 - 6j\n",
    "print('var3 :', var3)\n",
    "print('var3 :', type(var3))\n",
    "\n",
    "var4 = complex(5, -6)\n",
    "print('var4 :', var4)\n",
    "print('var4 :', type(var4))\n",
    "\n",
    "var3 = 5 - 6j\n",
    "print(var3.real) # real number: 실수\n",
    "print(var3.imag) # imaginary number: 허수"
   ]
  },
  {
   "cell_type": "code",
   "execution_count": 22,
   "metadata": {},
   "outputs": [
    {
     "name": "stdout",
     "output_type": "stream",
     "text": [
      "var1 : False\n",
      "var1 : <class 'bool'>\n"
     ]
    }
   ],
   "source": [
    "'''\n",
    "# 논리(자료형) : bool(boolean) type - <class 'bool'>\n",
    "'''\n",
    "\n",
    "var1 = False\n",
    "\n",
    "print('var1 :', var1)\n",
    "print('var1 :', type(var1))"
   ]
  },
  {
   "cell_type": "code",
   "execution_count": 23,
   "metadata": {},
   "outputs": [
    {
     "name": "stdout",
     "output_type": "stream",
     "text": [
      "var1 : False\n",
      "var1 : <class 'bool'>\n"
     ]
    }
   ],
   "source": [
    "'''\n",
    "# 논리(자료형) <-- 비교(연산)식\n",
    "# 식(값) - expression(표현식)\n",
    "'''\n",
    "\n",
    "num1 = 11\n",
    "num2 = 22\n",
    "var1 = num1 > num2 # False\n",
    "\n",
    "print('var1 :', var1)\n",
    "print('var1 :', type(var1))"
   ]
  }
 ],
 "metadata": {
  "interpreter": {
   "hash": "949c5d161ae06a9191be236957b0dfe2172f0f0097fbf05f4df159099ee18a3c"
  },
  "kernelspec": {
   "display_name": "Python 3.8.5 64-bit ('tjoeun')",
   "language": "python",
   "name": "python3"
  },
  "language_info": {
   "codemirror_mode": {
    "name": "ipython",
    "version": 3
   },
   "file_extension": ".py",
   "mimetype": "text/x-python",
   "name": "python",
   "nbconvert_exporter": "python",
   "pygments_lexer": "ipython3",
   "version": "3.8.5"
  },
  "orig_nbformat": 4
 },
 "nbformat": 4,
 "nbformat_minor": 2
}
