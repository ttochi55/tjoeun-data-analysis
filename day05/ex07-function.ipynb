{
 "cells": [
  {
   "cell_type": "markdown",
   "metadata": {},
   "source": [
    "# 함수 (function)"
   ]
  },
  {
   "cell_type": "code",
   "execution_count": 1,
   "metadata": {},
   "outputs": [
    {
     "name": "stdout",
     "output_type": "stream",
     "text": [
      "여기는 test1 함수 입니다\n",
      "test1() : None\n",
      "더조은 학원\n"
     ]
    }
   ],
   "source": [
    "'''\n",
    "함수 (function)\n",
    "    ㄴ 반복되는 일정 부분의 code를 한 덩어리로 묶어서\n",
    "        작성한 후, 이 부분에 이름을 붙이고 이 부분을 실행하는 경우,\n",
    "        이 이름을 호출해서 실행하는 방법 <-- code 의 재사용\n",
    "                 ㄴ 호출할 때 넣어주는 값 : argument\n",
    "                                  (인자, 인잣값, 인수)\n",
    "        \n",
    "        input 과          output 이 있음\n",
    "          ㄴ parameter       ㄴ return (값)\n",
    "\n",
    "    형식) def 라는 keyword 를 사용함\n",
    "          ㄴ definition\n",
    "        \n",
    "    def 함수이름(parameter-매개변수): <-- 함수 선언부\n",
    "        명령어(statement)...  |\n",
    "        명령어(statement)...  | <-- 함수 body(몸통)\n",
    "        명령어(statement)...  |\n",
    "        ......\n",
    "        return (값)\n",
    "          ㄴ 함수는 return 값이 없어도\n",
    "             그 실행을 완료하면 자동으로 return함\n",
    "                ㄴ return 값이 없는 경우에는\n",
    "                   return keyword 를 생략할 수 있음\n",
    "                ㄴ return 값이 있는 경우에는\n",
    "                   return keyword 를 생략할 수 없음\n",
    "'''\n",
    "\n",
    "def test1():\n",
    "    print('여기는 test1 함수 입니다')\n",
    "\n",
    "# 함수 호출부    \n",
    "print('test1() :', test1())\n",
    "print('더조은 학원')"
   ]
  },
  {
   "cell_type": "code",
   "execution_count": 2,
   "metadata": {},
   "outputs": [
    {
     "name": "stdout",
     "output_type": "stream",
     "text": [
      "여기는 test2 함수 입니다\n",
      "test2() : 100\n"
     ]
    }
   ],
   "source": [
    "'''\n",
    "# 2) parameter 는 없고 return 값은 있는 경우\n",
    "'''\n",
    "\n",
    "def test2():\n",
    "    print('여기는 test2 함수 입니다')\n",
    "    return 100\n",
    "\n",
    "print('test2() :', test2())"
   ]
  },
  {
   "cell_type": "code",
   "execution_count": 3,
   "metadata": {},
   "outputs": [
    {
     "name": "stdout",
     "output_type": "stream",
     "text": [
      "여기는 test3 함수 입니다\n",
      "parameter 로 전달받은 값은 3 (number) 입니다\n",
      "여기는 test3 함수 입니다\n",
      "parameter 로 전달받은 값은 더조은 (number) 입니다\n",
      "여기는 test3 함수 입니다\n",
      "parameter 로 전달받은 값은 True (number) 입니다\n"
     ]
    }
   ],
   "source": [
    "'''\n",
    "# 3) parameter 는 있는데 return 값이 없는 경우\n",
    "\n",
    "파이썬에서는 한 변수가\n",
    "'''\n",
    "\n",
    "def test3(number):\n",
    "    print('여기는 test3 함수 입니다')\n",
    "    print('parameter 로 전달받은 값은', number, '(number) 입니다')\n",
    "\n",
    "test3(3)\n",
    "test3('더조은')\n",
    "test3(True)"
   ]
  },
  {
   "cell_type": "code",
   "execution_count": 4,
   "metadata": {},
   "outputs": [
    {
     "name": "stdout",
     "output_type": "stream",
     "text": [
      "여기는 test4 함수 입니다\n",
      "이름: 홍길돌, 번호: 23\n",
      "test4() : True\n"
     ]
    }
   ],
   "source": [
    "'''\n",
    "# 4) parameter 값도 있고 return 값도 있는 경우\n",
    "'''\n",
    "\n",
    "def test4(name, number):\n",
    "    print('여기는 test4 함수 입니다')\n",
    "    print(f\"이름: {name}, 번호: {number}\")\n",
    "    return True\n",
    "    \n",
    "print('test4() :', test4('홍길돌', 23))"
   ]
  },
  {
   "cell_type": "code",
   "execution_count": 5,
   "metadata": {},
   "outputs": [
    {
     "name": "stdout",
     "output_type": "stream",
     "text": [
      "6\n",
      "40\n"
     ]
    }
   ],
   "source": [
    "def multiply(num1, num2):\n",
    "    return num1 * num2\n",
    "\n",
    "print(multiply(2, 3))\n",
    "\n",
    "result = multiply(5, 8)\n",
    "print(result)"
   ]
  },
  {
   "cell_type": "code",
   "execution_count": 6,
   "metadata": {},
   "outputs": [
    {
     "name": "stdout",
     "output_type": "stream",
     "text": [
      "72\n",
      "460\n",
      "460\n"
     ]
    }
   ],
   "source": [
    "def multiply2(num1, num2):\n",
    "    return (num1 + 10) * (num2 + 3)\n",
    "\n",
    "result = multiply2(2, 3)\n",
    "print(result)\n",
    "\n",
    "result = multiply2(num1=10, num2=20)\n",
    "print(result)\n",
    "\n",
    "result = multiply2(num2=20, num1=10)\n",
    "print(result)"
   ]
  },
  {
   "cell_type": "code",
   "execution_count": 7,
   "metadata": {},
   "outputs": [
    {
     "name": "stdout",
     "output_type": "stream",
     "text": [
      "<class 'tuple'> (1,)\n",
      "1\n",
      "<class 'tuple'> (1, 2, 3)\n",
      "6\n",
      "<class 'tuple'> (1, 2, 3, 4, 5)\n",
      "15\n"
     ]
    }
   ],
   "source": [
    "'''\n",
    "# parameter 를 하나 지정하고\n",
    "# data 를 여러개 전달받는 방법\n",
    "# 전달되어 온 data 들은 tuple type으로 받게 됨\n",
    "'''\n",
    "\n",
    "def add_many(*numbers):\n",
    "    print(type(numbers), numbers)\n",
    "    \n",
    "    result = 0\n",
    "    for number in numbers:\n",
    "        result += number\n",
    "    return result\n",
    "\n",
    "result = add_many(1)\n",
    "print(result)\n",
    "\n",
    "result = add_many(1, 2, 3)\n",
    "print(result)\n",
    "\n",
    "result = add_many(1, 2, 3, 4, 5)\n",
    "print(result)"
   ]
  },
  {
   "cell_type": "code",
   "execution_count": 8,
   "metadata": {},
   "outputs": [
    {
     "name": "stdout",
     "output_type": "stream",
     "text": [
      "n1 : 11 n2 : 22\n",
      "n1 : 22 n2 : 11\n"
     ]
    }
   ],
   "source": [
    "# 변수 swap\n",
    "n1 = 11\n",
    "n2 = 22\n",
    "print('n1 :', n1, 'n2 :', n2)\n",
    "\n",
    "n2, n1 = n1, n2\n",
    "print('n1 :', n1, 'n2 :', n2)"
   ]
  },
  {
   "cell_type": "code",
   "execution_count": 9,
   "metadata": {},
   "outputs": [
    {
     "name": "stdout",
     "output_type": "stream",
     "text": [
      "16 -14 120 0.008333333333333333\n"
     ]
    }
   ],
   "source": [
    "def add_multi(operator, *numbers):\n",
    "    result = 1\n",
    "    if operator == 'add':\n",
    "        for i in numbers:\n",
    "            result += i\n",
    "    elif operator == 'sub':\n",
    "        for i in numbers:\n",
    "            result -= i\n",
    "    elif operator == 'multi':\n",
    "        for i in numbers:\n",
    "            result *= i\n",
    "    elif operator == 'div':\n",
    "        for i in numbers:\n",
    "            result /= i\n",
    "    return result\n",
    "\n",
    "result1 = add_multi('add', 1, 2, 3, 4, 5)\n",
    "result2 = add_multi('sub', 1, 2, 3, 4, 5)\n",
    "result3 = add_multi('multi', 1, 2, 3, 4, 5)\n",
    "result4 = add_multi('div', 1, 2, 3, 4, 5)\n",
    "\n",
    "print(result1, result2, result3, result4)"
   ]
  },
  {
   "cell_type": "code",
   "execution_count": 10,
   "metadata": {},
   "outputs": [
    {
     "name": "stdout",
     "output_type": "stream",
     "text": [
      "우리집 아이들은 ('더조은', '아이티', '아카데미', '학원') 입니다\n"
     ]
    }
   ],
   "source": [
    "def children(*kids):\n",
    "    print(f\"우리집 아이들은 {kids} 입니다\")\n",
    "    \n",
    "children('더조은', '아이티', '아카데미', '학원')"
   ]
  },
  {
   "cell_type": "code",
   "execution_count": 11,
   "metadata": {},
   "outputs": [
    {
     "name": "stdout",
     "output_type": "stream",
     "text": [
      "우리집 아이들은 더조은, 아이티, 아카데미, 학원 입니다\n"
     ]
    }
   ],
   "source": [
    "def children2(*kids):\n",
    "    print(f\"우리집 아이들은 {', '.join(kids)} 입니다\")\n",
    "    \n",
    "children2('더조은', '아이티', '아카데미', '학원')"
   ]
  },
  {
   "cell_type": "code",
   "execution_count": 12,
   "metadata": {},
   "outputs": [
    {
     "name": "stdout",
     "output_type": "stream",
     "text": [
      "{'name': '이순신', 'age': 48}\n"
     ]
    }
   ],
   "source": [
    "'''\n",
    "def 함수이름(**parameter):\n",
    "    statement....\n",
    "    \n",
    "**parameter : 매개변수에 dictionary 를 전달함\n",
    "                ㄴ key, value를 한 쌍으로 같이 받음\n",
    "'''\n",
    "\n",
    "def print_dict(**info):\n",
    "    print(info)\n",
    "\n",
    "# {'이름': \"이순신\", '나이': 48}\n",
    "print_dict(name=\"이순신\", age=48)"
   ]
  },
  {
   "cell_type": "code",
   "execution_count": 13,
   "metadata": {},
   "outputs": [
    {
     "name": "stdout",
     "output_type": "stream",
     "text": [
      "성은 '이' 이고, 이름은 '순신' 입니다\n"
     ]
    }
   ],
   "source": [
    "def print_name(**name):\n",
    "    print(f\"성은 '{name['first_name']}' 이고, 이름은 '{name['last_name']}' 입니다\")\n",
    "    \n",
    "print_name(first_name=\"이\", last_name=\"순신\")\n"
   ]
  }
 ],
 "metadata": {
  "interpreter": {
   "hash": "949c5d161ae06a9191be236957b0dfe2172f0f0097fbf05f4df159099ee18a3c"
  },
  "kernelspec": {
   "display_name": "Python 3.8.5 64-bit ('tjoeun')",
   "language": "python",
   "name": "python3"
  },
  "language_info": {
   "codemirror_mode": {
    "name": "ipython",
    "version": 3
   },
   "file_extension": ".py",
   "mimetype": "text/x-python",
   "name": "python",
   "nbconvert_exporter": "python",
   "pygments_lexer": "ipython3",
   "version": "3.8.5"
  },
  "orig_nbformat": 4
 },
 "nbformat": 4,
 "nbformat_minor": 2
}
