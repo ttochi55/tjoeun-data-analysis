{
 "cells": [
  {
   "cell_type": "markdown",
   "metadata": {},
   "source": [
    "# list - comprehension"
   ]
  },
  {
   "cell_type": "code",
   "execution_count": 1,
   "metadata": {},
   "outputs": [
    {
     "name": "stdout",
     "output_type": "stream",
     "text": [
      "[3, 6, 9, 12, 15]\n"
     ]
    }
   ],
   "source": [
    "'''\n",
    "list 내포 (comprehension)\n",
    "  ㄴ list 안에 for문(if문)을 사용함  \n",
    "'''\n",
    "list_num1 = [1, 2, 3, 4, 5]\n",
    "list_num2 = []\n",
    "\n",
    "for num in list_num1:\n",
    "    list_num2.append(num * 3)\n",
    "    \n",
    "print(list_num2)"
   ]
  },
  {
   "cell_type": "code",
   "execution_count": 2,
   "metadata": {},
   "outputs": [
    {
     "name": "stdout",
     "output_type": "stream",
     "text": [
      "[3, 6, 9, 12, 15]\n"
     ]
    }
   ],
   "source": [
    "'''\n",
    "list_num1 의 각 요소에 3을 곱해서\n",
    "list_num2 에 저장하고 출력하세요\n",
    "'''\n",
    "list_num1 = [1, 2, 3, 4, 5]\n",
    "list_num2 = [num * 3 for num in list_num1]\n",
    "\n",
    "print(list_num2)"
   ]
  },
  {
   "cell_type": "code",
   "execution_count": 3,
   "metadata": {},
   "outputs": [
    {
     "name": "stdout",
     "output_type": "stream",
     "text": [
      "[1, 4, 9, 16, 25]\n",
      "[1, 4, 9, 16, 25]\n"
     ]
    }
   ],
   "source": [
    "'''\n",
    "list_num3 의 각 요소를 제곱해서\n",
    "list_num4 에 저장하고 출력하세요\n",
    "1) for 문 사용\n",
    "2) list 내포 사용\n",
    "'''\n",
    "# 1)\n",
    "list_num3 = [1, 2, 3, 4, 5]\n",
    "list_num4 = []\n",
    "\n",
    "for num in list_num3 :\n",
    "    list_num4.append(num ** 2)\n",
    "\n",
    "print(list_num4)\n",
    "\n",
    "\n",
    "# 2)\n",
    "list_num3 = [1, 2, 3, 4, 5]\n",
    "list_num4 = [num ** 2 for num in list_num3]\n",
    "\n",
    "print(list_num4)"
   ]
  },
  {
   "cell_type": "code",
   "execution_count": 4,
   "metadata": {},
   "outputs": [
    {
     "name": "stdout",
     "output_type": "stream",
     "text": [
      "[4, 16]\n",
      "[4, 16]\n"
     ]
    }
   ],
   "source": [
    "'''\n",
    "list_num3 의 각 요소중 짝수만\n",
    "list_num4 에 저장하고 출력하세요\n",
    "1) for 문 사용\n",
    "2) list 내포 사용\n",
    "'''\n",
    "# 1)\n",
    "list_num3 = [1, 2, 3, 4, 5]\n",
    "list_num4 = []\n",
    "\n",
    "for num in list_num3 :\n",
    "    if num % 2 == 0 :\n",
    "        list_num4.append(num ** 2)\n",
    "\n",
    "print(list_num4)\n",
    "\n",
    "\n",
    "# 2)\n",
    "list_num3 = [1, 2, 3, 4, 5]\n",
    "list_num4 = [num ** 2 for num in list_num3 if num % 2 == 0]\n",
    "\n",
    "print(list_num4)"
   ]
  },
  {
   "cell_type": "code",
   "execution_count": 5,
   "metadata": {},
   "outputs": [
    {
     "name": "stdout",
     "output_type": "stream",
     "text": [
      "평균 : 79.0 점\n"
     ]
    }
   ],
   "source": [
    "'''\n",
    "A 학급에 모두 10 명의 학생이 있습니다.\n",
    "이 학생들의 중간고사 점수는\n",
    "[70, 60, 55, 75, 95, 90, 80, 80, 85, 100]\n",
    "입니다.\n",
    "for 문을 사용해서 A 학급의 평균을 출력하세요\n",
    "'''\n",
    "\n",
    "scores = [70, 60, 55, 75, 95, 90, 80, 80, 85, 100]\n",
    "total = 0\n",
    "\n",
    "for score in scores :\n",
    "    total += score\n",
    "\n",
    "average = total / len(scores)\n",
    "\n",
    "print(f\"평균 : {average} 점\")\n"
   ]
  },
  {
   "cell_type": "code",
   "execution_count": 6,
   "metadata": {},
   "outputs": [
    {
     "name": "stdout",
     "output_type": "stream",
     "text": [
      "2\n",
      "--------------------------------------------------\n",
      "[1, 1, 2, 3, 5, 8, 13, 21, 34, 55]\n",
      "--------------------------------------------------\n",
      "[1, 1, 2, 3, 5, 8, 13, 21, 34, 55]\n",
      "--------------------------------------------------\n",
      "[1, 1, 2, 3, 5, 8, 13, 21, 34, 55]\n",
      "[None, None, None, None, None, None, None, None]\n"
     ]
    }
   ],
   "source": [
    "'''\n",
    "피보나치 수열을 출력하세요\n",
    "[1, 1, 2, 3, 5, 8, 13, 21, 34, 55]\n",
    "'''\n",
    "\n",
    "fibonacci = [1, 1]\n",
    "result = fibonacci[0] + fibonacci[1]\n",
    "print(result)\n",
    "print('-' * 50)\n",
    "\n",
    "fibonacci = [1, 1]\n",
    "for idx in range(1, 9) :\n",
    "    fibonacci.append(fibonacci[idx-1] + fibonacci[idx])\n",
    "    \n",
    "print(fibonacci)\n",
    "print('-' * 50)\n",
    "\n",
    "fibonacci = [1, 1]\n",
    "for idx in range(0, 8) :\n",
    "    fibonacci.append(fibonacci[idx] + fibonacci[idx+1])\n",
    "    \n",
    "print(fibonacci)\n",
    "print('-' * 50)\n",
    "\n",
    "fibonacci = [1, 1]\n",
    "list_result = [fibonacci.append(fibonacci[idx] + fibonacci[idx+1]) for idx in range(0, 8)]\n",
    "\n",
    "print(fibonacci)\n",
    "print(list_result)\n"
   ]
  },
  {
   "cell_type": "code",
   "execution_count": 7,
   "metadata": {},
   "outputs": [
    {
     "name": "stdout",
     "output_type": "stream",
     "text": [
      "Lf s t shrt, y shld lrn pythn\n"
     ]
    }
   ],
   "source": [
    "'''\n",
    "Life is too short, you should learn python\n",
    "\n",
    "리스트 내포를 사용해서 위 문자열에서\n",
    "모음을 제거하고 출력하세요\n",
    "'''\n",
    "\n",
    "str1 = 'Life is too short, you should learn python'\n",
    "vowels = 'aeiou'\n",
    "list_result = [letter for letter in str1 if letter not in vowels]\n",
    "\n",
    "print(''.join(list_result))"
   ]
  },
  {
   "cell_type": "code",
   "execution_count": 8,
   "metadata": {},
   "outputs": [
    {
     "name": "stdout",
     "output_type": "stream",
     "text": [
      "Lf s t shrt, y shld lrn pythn 13\n"
     ]
    }
   ],
   "source": [
    "import re\n",
    "\n",
    "str1 = 'Life is too short, you should learn python'\n",
    "txt, n = re.subn('[aeiou]', '', str1)\n",
    "\n",
    "print(txt, n)"
   ]
  }
 ],
 "metadata": {
  "interpreter": {
   "hash": "949c5d161ae06a9191be236957b0dfe2172f0f0097fbf05f4df159099ee18a3c"
  },
  "kernelspec": {
   "display_name": "Python 3.8.5 64-bit ('tjoeun')",
   "language": "python",
   "name": "python3"
  },
  "language_info": {
   "codemirror_mode": {
    "name": "ipython",
    "version": 3
   },
   "file_extension": ".py",
   "mimetype": "text/x-python",
   "name": "python",
   "nbconvert_exporter": "python",
   "pygments_lexer": "ipython3",
   "version": "3.8.5"
  },
  "orig_nbformat": 4
 },
 "nbformat": 4,
 "nbformat_minor": 2
}
