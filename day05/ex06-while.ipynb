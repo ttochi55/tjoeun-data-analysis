{
 "cells": [
  {
   "cell_type": "markdown",
   "metadata": {},
   "source": [
    "# while"
   ]
  },
  {
   "cell_type": "code",
   "execution_count": 1,
   "metadata": {},
   "outputs": [
    {
     "name": "stdout",
     "output_type": "stream",
     "text": [
      "1 2 3 4 5 \n"
     ]
    }
   ],
   "source": [
    "'''\n",
    "while 문 - 반복문\n",
    "\n",
    "형식)\n",
    "    while 조건(변수, bool type 값, 비교식):\n",
    "        반복할 명령문\n",
    "        반복할 명령문\n",
    "        반복할 명령문\n",
    "        ......\n",
    "        \n",
    "    for 변수 in iterable type:\n",
    "        반복할 명령문\n",
    "        반복할 명령문\n",
    "        반복할 명령문\n",
    "        ......\n",
    "    \n",
    "'''\n",
    "\n",
    "# 1 ~ 5 출력하기\n",
    "# while 문에서 반복횟수 설정하기\n",
    "# 초기화식\n",
    "\n",
    "number = 0\n",
    "\n",
    "# while 조건문 : 반복조건\n",
    "# (False가 되면 반복을 종료함)\n",
    "while number < 5:\n",
    "    # 증가식(감소식)\n",
    "    number += 1\n",
    "    print(number, end=' ')\n",
    "print()"
   ]
  },
  {
   "cell_type": "code",
   "execution_count": 2,
   "metadata": {},
   "outputs": [
    {
     "name": "stdout",
     "output_type": "stream",
     "text": [
      "9 8 7 6 5 4 3 2 1 0 \n"
     ]
    }
   ],
   "source": [
    "number = 10\n",
    "\n",
    "while number > 0:\n",
    "    number -= 1\n",
    "    print(number, end=' ')\n",
    "print()"
   ]
  },
  {
   "cell_type": "code",
   "execution_count": 3,
   "metadata": {},
   "outputs": [
    {
     "name": "stdout",
     "output_type": "stream",
     "text": [
      "10 9 8 7 6 5 4 3 2 1 \n"
     ]
    }
   ],
   "source": [
    "number = 10\n",
    "\n",
    "while number > 0:\n",
    "    print(number, end=' ')\n",
    "    number -= 1\n",
    "print()"
   ]
  },
  {
   "cell_type": "code",
   "execution_count": 4,
   "metadata": {},
   "outputs": [
    {
     "name": "stdout",
     "output_type": "stream",
     "text": [
      "5 5 4 4 4 1 2 4 6 6 4 3 \n"
     ]
    }
   ],
   "source": [
    "import random\n",
    "\n",
    "number = 0\n",
    "\n",
    "while number != 3:\n",
    "    number = random.randint(1, 6)\n",
    "    print(number, end=' ')\n",
    "print()\n"
   ]
  },
  {
   "cell_type": "code",
   "execution_count": 5,
   "metadata": {},
   "outputs": [
    {
     "data": {
      "text/plain": [
       "'\\n무한 반복\\n'"
      ]
     },
     "execution_count": 5,
     "metadata": {},
     "output_type": "execute_result"
    }
   ],
   "source": [
    "'''\n",
    "무한 반복\n",
    "'''\n",
    "\n",
    "# while True:\n",
    "#     print('더조은 학원')\n",
    "    \n",
    "# while 1:\n",
    "#     print('더조은 학원')\n",
    "    \n",
    "# while 'python':\n",
    "#     print('더조은 학원')"
   ]
  },
  {
   "cell_type": "code",
   "execution_count": 6,
   "metadata": {},
   "outputs": [
    {
     "name": "stdout",
     "output_type": "stream",
     "text": [
      "1 2 3 4 5 6 7 8 9 10 11 12 13 14 15 16 17 18 19 20 \n"
     ]
    }
   ],
   "source": [
    "'''\n",
    "break / continue\n",
    "'''\n",
    "number = 0\n",
    "\n",
    "while True:\n",
    "    number += 1\n",
    "    print(number, end=' ')\n",
    "    if number == 20:\n",
    "        break\n",
    "print()"
   ]
  },
  {
   "cell_type": "code",
   "execution_count": 7,
   "metadata": {},
   "outputs": [
    {
     "name": "stdout",
     "output_type": "stream",
     "text": [
      "2 x 1 = 2\n",
      "2 x 2 = 4\n",
      "2 x 3 = 6\n",
      "2 x 4 = 8\n",
      "2 x 5 = 10\n",
      "2 x 6 = 12\n",
      "2 x 7 = 14\n",
      "2 x 8 = 16\n",
      "2 x 9 = 18\n",
      "\n",
      "3 x 1 = 3\n",
      "3 x 2 = 6\n",
      "3 x 3 = 9\n",
      "3 x 4 = 12\n",
      "3 x 5 = 15\n",
      "3 x 6 = 18\n",
      "3 x 7 = 21\n",
      "3 x 8 = 24\n",
      "3 x 9 = 27\n",
      "\n"
     ]
    }
   ],
   "source": [
    "for i in range(2, 10):\n",
    "    for j in range(1, 10):\n",
    "        if i == 4:\n",
    "            break\n",
    "        print(f\"{i} x {j} = {i * j}\")\n",
    "    else:\n",
    "        print()\n",
    "        continue\n",
    "    break"
   ]
  },
  {
   "cell_type": "code",
   "execution_count": 8,
   "metadata": {},
   "outputs": [
    {
     "name": "stdout",
     "output_type": "stream",
     "text": [
      "2 x 1 = 2\n",
      "2 x 2 = 4\n",
      "2 x 3 = 6\n",
      "2 x 4 = 8\n",
      "2 x 5 = 10\n",
      "2 x 6 = 12\n",
      "2 x 7 = 14\n",
      "2 x 8 = 16\n",
      "2 x 9 = 18\n",
      "\n",
      "3 x 1 = 3\n",
      "3 x 2 = 6\n",
      "3 x 3 = 9\n",
      "3 x 4 = 12\n",
      "3 x 5 = 15\n",
      "3 x 6 = 18\n",
      "3 x 7 = 21\n",
      "3 x 8 = 24\n",
      "3 x 9 = 27\n",
      "\n"
     ]
    }
   ],
   "source": [
    "for i in range(2, 10):\n",
    "    if i == 4:\n",
    "        break\n",
    "    for j in range(1, 10):\n",
    "        print(f\"{i} x {j} = {i * j}\")\n",
    "    print()"
   ]
  },
  {
   "cell_type": "code",
   "execution_count": 9,
   "metadata": {},
   "outputs": [
    {
     "name": "stdout",
     "output_type": "stream",
     "text": [
      "2 x 1 = 2\n",
      "2 x 2 = 4\n",
      "2 x 3 = 6\n",
      "2 x 4 = 8\n",
      "2 x 5 = 10\n",
      "2 x 6 = 12\n",
      "2 x 7 = 14\n",
      "2 x 8 = 16\n",
      "2 x 9 = 18\n",
      "\n",
      "3 x 1 = 3\n",
      "3 x 2 = 6\n",
      "3 x 3 = 9\n",
      "3 x 4 = 12\n",
      "3 x 5 = 15\n",
      "3 x 6 = 18\n",
      "3 x 7 = 21\n",
      "3 x 8 = 24\n",
      "3 x 9 = 27\n",
      "\n",
      "5 x 1 = 5\n",
      "5 x 2 = 10\n",
      "5 x 3 = 15\n",
      "5 x 4 = 20\n",
      "5 x 5 = 25\n",
      "5 x 6 = 30\n",
      "5 x 7 = 35\n",
      "5 x 8 = 40\n",
      "5 x 9 = 45\n",
      "\n",
      "6 x 1 = 6\n",
      "6 x 2 = 12\n",
      "6 x 3 = 18\n",
      "6 x 4 = 24\n",
      "6 x 5 = 30\n",
      "6 x 6 = 36\n",
      "6 x 7 = 42\n",
      "6 x 8 = 48\n",
      "6 x 9 = 54\n",
      "\n",
      "7 x 1 = 7\n",
      "7 x 2 = 14\n",
      "7 x 3 = 21\n",
      "7 x 4 = 28\n",
      "7 x 5 = 35\n",
      "7 x 6 = 42\n",
      "7 x 7 = 49\n",
      "7 x 8 = 56\n",
      "7 x 9 = 63\n",
      "\n",
      "8 x 1 = 8\n",
      "8 x 2 = 16\n",
      "8 x 3 = 24\n",
      "8 x 4 = 32\n",
      "8 x 5 = 40\n",
      "8 x 6 = 48\n",
      "8 x 7 = 56\n",
      "8 x 8 = 64\n",
      "8 x 9 = 72\n",
      "\n",
      "9 x 1 = 9\n",
      "9 x 2 = 18\n",
      "9 x 3 = 27\n",
      "9 x 4 = 36\n",
      "9 x 5 = 45\n",
      "9 x 6 = 54\n",
      "9 x 7 = 63\n",
      "9 x 8 = 72\n",
      "9 x 9 = 81\n",
      "\n"
     ]
    }
   ],
   "source": [
    "for i in range(2, 10):\n",
    "    if i == 4:\n",
    "        continue\n",
    "    for j in range(1, 10):\n",
    "        print(f\"{i} x {j} = {i * j}\")\n",
    "    print()"
   ]
  },
  {
   "cell_type": "code",
   "execution_count": 10,
   "metadata": {},
   "outputs": [
    {
     "name": "stdout",
     "output_type": "stream",
     "text": [
      "정답 입니다\n",
      "42 번만에 성공 했습니다\n"
     ]
    }
   ],
   "source": [
    "'''\n",
    "숫자 맞히기\n",
    "1 부터 100 까지의 정수 중에서 숫자 맞혀보기\n",
    "\n",
    "[출력]\n",
    "정답입니다\n",
    "00 번만에 성공 했습니다\n",
    "'''\n",
    "\n",
    "import random\n",
    "\n",
    "answer = random.randint(1, 100)\n",
    "# number = int(input('1부터 100까지의 정수 중에서 하나를 입력하세요 :'))\n",
    "number = 1\n",
    "counter = 0\n",
    "\n",
    "while answer != number:\n",
    "    if answer > number:\n",
    "        # number = int(input('더 큰 수를 입력하세요'))\n",
    "        number += 1\n",
    "        counter += 1\n",
    "    elif answer < number:\n",
    "        # number = int(input('더 작은 수를 입력하세요:'))\n",
    "        number -= 1\n",
    "        counter += 1\n",
    "\n",
    "print(\"정답 입니다\")\n",
    "print(f\"{counter} 번만에 성공 했습니다\")"
   ]
  },
  {
   "cell_type": "code",
   "execution_count": 11,
   "metadata": {},
   "outputs": [
    {
     "name": "stdout",
     "output_type": "stream",
     "text": [
      "2\n",
      "4\n",
      "6\n",
      "8\n",
      "10 까지만 출력합니다\n",
      "프로그램 종료\n"
     ]
    }
   ],
   "source": [
    "'''\n",
    "# 1부터 15까지의 정수 중에서\n",
    "# 10까지의 짝수만 출력하기\n",
    "'''\n",
    "\n",
    "for number in range(1, 16):\n",
    "    if number % 2 == 1:\n",
    "        continue\n",
    "    if number == 10:\n",
    "        print(f\"{number} 까지만 출력합니다\")\n",
    "        break\n",
    "    print(\"{}\".format(number))\n",
    "print('프로그램 종료')\n"
   ]
  },
  {
   "cell_type": "code",
   "execution_count": 12,
   "metadata": {},
   "outputs": [
    {
     "name": "stdout",
     "output_type": "stream",
     "text": [
      "서로 비겼습니다\n",
      "컴퓨터: 바위, 사람: 바위\n"
     ]
    }
   ],
   "source": [
    "'''\n",
    "가위, 바위, 보 게임\n",
    " 1    2   3\n",
    " \n",
    "----------------------------------\n",
    "winner(computer)\n",
    "computer   user   computer - user\n",
    "   1        3      -2\n",
    "   2        1       1\n",
    "   3        2       1\n",
    "\n",
    "----------------------------------\n",
    "winner(user)\n",
    "computer   user   computer - user\n",
    "   1        2      -1\n",
    "   2        3      -1\n",
    "   3        1       2\n",
    "\n",
    "----------------------------------\n",
    "'''\n",
    "\n",
    "import random\n",
    "\n",
    "computer_input = random.randint(1, 3)\n",
    "# user_input = input('가위 바위 보 중에 하나를 입력하세요 :')\n",
    "user_input = '바위'\n",
    "# user_input = '주먹'\n",
    "user_output = 0\n",
    "\n",
    "try:\n",
    "    if computer_input == 1:\n",
    "        computer_output = '가위'\n",
    "    elif computer_input == 2:\n",
    "        computer_output = '바위'\n",
    "    elif computer_input == 3:\n",
    "        computer_output = '보'\n",
    "\n",
    "    if user_input == '가위':\n",
    "        user_output = 1\n",
    "    elif user_input == '바위':\n",
    "        user_output = 2\n",
    "    elif user_input == '보':\n",
    "        user_output = 3\n",
    "    else:\n",
    "        raise Exception('가위, 바위, 보 중에 하나만 입력 해 주세요')\n",
    "    \n",
    "    result = computer_input - user_output\n",
    "\n",
    "    if result == 1 or result == -2:\n",
    "        print('컴퓨터가 이겼습니다')\n",
    "    elif result == -1 or result == 2:\n",
    "        print('사람이 이겼습니다')\n",
    "    elif result in [-9, -8, -7]:\n",
    "        print('가위, 바위, 보 중에 하나만 입력 해 주세요')\n",
    "    elif result == -9 or result == -8 or result == -7:\n",
    "        print('가위, 바위, 보 중에 하나만 입력 해 주세요')\n",
    "    else:\n",
    "        print('서로 비겼습니다')\n",
    "    \n",
    "    if user_output != 10:\n",
    "        print(f\"컴퓨터: {computer_output}, 사람: {user_input}\")\n",
    "    else:\n",
    "        pass\n",
    "except Exception as e:\n",
    "    print(e)"
   ]
  },
  {
   "cell_type": "code",
   "execution_count": 13,
   "metadata": {},
   "outputs": [
    {
     "name": "stdout",
     "output_type": "stream",
     "text": [
      "2 x 1 =  2\t3 x 1 =  3\t4 x 1 =  4\t5 x 1 =  5\t6 x 1 =  6\t7 x 1 =  7\t8 x 1 =  8\t9 x 1 =  9\t\n",
      "2 x 2 =  4\t3 x 2 =  6\t4 x 2 =  8\t5 x 2 = 10\t6 x 2 = 12\t7 x 2 = 14\t8 x 2 = 16\t9 x 2 = 18\t\n",
      "2 x 3 =  6\t3 x 3 =  9\t4 x 3 = 12\t5 x 3 = 15\t6 x 3 = 18\t7 x 3 = 21\t8 x 3 = 24\t9 x 3 = 27\t\n",
      "2 x 4 =  8\t3 x 4 = 12\t4 x 4 = 16\t5 x 4 = 20\t6 x 4 = 24\t7 x 4 = 28\t8 x 4 = 32\t9 x 4 = 36\t\n",
      "2 x 5 = 10\t3 x 5 = 15\t4 x 5 = 20\t5 x 5 = 25\t6 x 5 = 30\t7 x 5 = 35\t8 x 5 = 40\t9 x 5 = 45\t\n",
      "2 x 6 = 12\t3 x 6 = 18\t4 x 6 = 24\t5 x 6 = 30\t6 x 6 = 36\t7 x 6 = 42\t8 x 6 = 48\t9 x 6 = 54\t\n",
      "2 x 7 = 14\t3 x 7 = 21\t4 x 7 = 28\t5 x 7 = 35\t6 x 7 = 42\t7 x 7 = 49\t8 x 7 = 56\t9 x 7 = 63\t\n",
      "2 x 8 = 16\t3 x 8 = 24\t4 x 8 = 32\t5 x 8 = 40\t6 x 8 = 48\t7 x 8 = 56\t8 x 8 = 64\t9 x 8 = 72\t\n",
      "2 x 9 = 18\t3 x 9 = 27\t4 x 9 = 36\t5 x 9 = 45\t6 x 9 = 54\t7 x 9 = 63\t8 x 9 = 72\t9 x 9 = 81\t\n"
     ]
    }
   ],
   "source": [
    "'''\n",
    "구구단 옆으로 출력하기\n",
    "'''\n",
    "\n",
    "for i in range(1, 10):\n",
    "    for j in range(2, 10):\n",
    "        print(f\"{j} x {i} = {i * j:2d}\", end='\\t')\n",
    "    print()"
   ]
  },
  {
   "cell_type": "code",
   "execution_count": 14,
   "metadata": {},
   "outputs": [
    {
     "name": "stdout",
     "output_type": "stream",
     "text": [
      "*****\n",
      "*****\n",
      "*****\n",
      "*****\n",
      "*****\n"
     ]
    }
   ],
   "source": [
    "'''\n",
    "*****\n",
    "*****\n",
    "*****\n",
    "*****\n",
    "*****\n",
    "'''\n",
    "\n",
    "for i in range(5):\n",
    "    for j in range(5):\n",
    "        print(\"*\", end='')\n",
    "    print()"
   ]
  },
  {
   "cell_type": "code",
   "execution_count": 15,
   "metadata": {},
   "outputs": [
    {
     "name": "stdout",
     "output_type": "stream",
     "text": [
      "*\n",
      "**\n",
      "***\n",
      "****\n",
      "*****\n"
     ]
    }
   ],
   "source": [
    "'''\n",
    "*\n",
    "**\n",
    "***\n",
    "****\n",
    "*****\n",
    "'''\n",
    "\n",
    "for i in range(0, 5):\n",
    "    for j in range(0, i+1):\n",
    "        print(\"*\", end='')\n",
    "    print()"
   ]
  },
  {
   "cell_type": "code",
   "execution_count": 16,
   "metadata": {},
   "outputs": [
    {
     "name": "stdout",
     "output_type": "stream",
     "text": [
      "*\n",
      "***\n",
      "*****\n",
      "*******\n",
      "*********\n"
     ]
    }
   ],
   "source": [
    "'''\n",
    "*\n",
    "***\n",
    "*****\n",
    "*******\n",
    "*********\n",
    "'''\n",
    "\n",
    "for i in range(0, 5):\n",
    "    for j in range(0, 2*i+1):\n",
    "        print(\"*\", end='')\n",
    "    print()"
   ]
  },
  {
   "cell_type": "code",
   "execution_count": 17,
   "metadata": {},
   "outputs": [
    {
     "name": "stdout",
     "output_type": "stream",
     "text": [
      "    *\n",
      "   ***\n",
      "  *****\n",
      " *******\n",
      "*********\n"
     ]
    }
   ],
   "source": [
    "'''\n",
    "    *\n",
    "   ***\n",
    "  *****\n",
    " *******\n",
    "*********\n",
    "'''\n",
    "\n",
    "for i in range(0, 5):\n",
    "    for j in range(0, 4-i):\n",
    "        print(' ', end='')\n",
    "    for j in range(0, 2*i+1):\n",
    "        print(\"*\", end='')\n",
    "    print()"
   ]
  }
 ],
 "metadata": {
  "interpreter": {
   "hash": "949c5d161ae06a9191be236957b0dfe2172f0f0097fbf05f4df159099ee18a3c"
  },
  "kernelspec": {
   "display_name": "Python 3.8.5 64-bit ('tjoeun')",
   "language": "python",
   "name": "python3"
  },
  "language_info": {
   "codemirror_mode": {
    "name": "ipython",
    "version": 3
   },
   "file_extension": ".py",
   "mimetype": "text/x-python",
   "name": "python",
   "nbconvert_exporter": "python",
   "pygments_lexer": "ipython3",
   "version": "3.8.5"
  },
  "orig_nbformat": 4
 },
 "nbformat": 4,
 "nbformat_minor": 2
}
