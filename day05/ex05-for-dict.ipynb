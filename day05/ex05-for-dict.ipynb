{
 "cells": [
  {
   "cell_type": "markdown",
   "metadata": {},
   "source": [
    "# for dict"
   ]
  },
  {
   "cell_type": "code",
   "execution_count": 1,
   "metadata": {},
   "outputs": [
    {
     "name": "stdout",
     "output_type": "stream",
     "text": [
      "A 형 학생 : 4 명\n",
      "B 형 학생 : 2 명\n",
      "AB 형 학생 : 2 명\n",
      "O 형 학생 : 4 명\n"
     ]
    }
   ],
   "source": [
    "'''\n",
    "아래에 학생 12 명의 혈액형이 있습니다\n",
    "['A', 'A', 'A', 'O', 'O', 'O', 'B', 'O', 'AB', 'B', 'AB', 'A']\n",
    "for 문을 사용해서 각 혈액형 별 학생 수를 출력하세요\n",
    "\n",
    "[힌트]\n",
    "count() 사용하기\n",
    "'''\n",
    "\n",
    "bloods = ['A', 'A', 'A', 'O', 'O', 'O', 'B', 'O', 'AB', 'B', 'AB', 'A']\n",
    "\n",
    "print('A 형 학생 :', bloods.count('A'), '명')\n",
    "print('B 형 학생 :', bloods.count('B'), '명')\n",
    "print('AB 형 학생 :', bloods.count('AB'), '명')\n",
    "print('O 형 학생 :', bloods.count('O'), '명')"
   ]
  },
  {
   "cell_type": "code",
   "execution_count": 2,
   "metadata": {},
   "outputs": [
    {
     "name": "stdout",
     "output_type": "stream",
     "text": [
      "A 형 학생 : 4 명\n",
      "B 형 학생 : 2 명\n",
      "AB 형 학생 : 2 명\n",
      "O 형 학생 : 4 명\n"
     ]
    }
   ],
   "source": [
    "bloods = ['A', 'A', 'A', 'O', 'O', 'O', 'B', 'O', 'AB', 'B', 'AB', 'A']\n",
    "\n",
    "blood_A = 0\n",
    "blood_B = 0\n",
    "blood_AB = 0\n",
    "blood_O = 0\n",
    "\n",
    "for blood in bloods:\n",
    "    if blood == 'A':\n",
    "        blood_A += 1\n",
    "    elif blood == 'B':\n",
    "        blood_B += 1\n",
    "    elif blood == 'AB':\n",
    "        blood_AB += 1\n",
    "    elif blood == 'O':\n",
    "        blood_O += 1\n",
    "\n",
    "print(f\"A 형 학생 : {blood_A} 명\")\n",
    "print(f\"B 형 학생 : {blood_B} 명\")\n",
    "print(f\"AB 형 학생 : {blood_AB} 명\")\n",
    "print(f\"O 형 학생 : {blood_O} 명\")"
   ]
  },
  {
   "cell_type": "code",
   "execution_count": 3,
   "metadata": {},
   "outputs": [
    {
     "name": "stdout",
     "output_type": "stream",
     "text": [
      "이순신 강감찬 안중근 유관순 \n",
      "이순신 강감찬 안중근 유관순 \n",
      "98 85 67 92 \n"
     ]
    }
   ],
   "source": [
    "'''\n",
    "# dictionary 의 key 값만 출력하기\n",
    "# 학생 이름만 출력하기\n",
    "'''\n",
    "\n",
    "dict_scores = {\n",
    "    \"이순신\" : 98,\n",
    "    \"강감찬\" : 85,\n",
    "    \"안중근\" : 67,\n",
    "    \"유관순\" : 92\n",
    "}\n",
    "\n",
    "for name in dict_scores:\n",
    "    print(name, end=\" \")\n",
    "print()\n",
    "\n",
    "for name in dict_scores.keys():\n",
    "    print(name, end=\" \")\n",
    "print()\n",
    "\n",
    "for name in dict_scores.values():\n",
    "    print(name, end=\" \")\n",
    "print()"
   ]
  },
  {
   "cell_type": "code",
   "execution_count": 4,
   "metadata": {},
   "outputs": [
    {
     "name": "stdout",
     "output_type": "stream",
     "text": [
      "이순신 98\n",
      "강감찬 85\n",
      "안중근 67\n",
      "유관순 92\n"
     ]
    }
   ],
   "source": [
    "'''\n",
    "학생 이름과 점수 같이 출력하기\n",
    "'''\n",
    "\n",
    "for name, score in dict_scores.items():\n",
    "    print(name, score)"
   ]
  },
  {
   "cell_type": "code",
   "execution_count": 5,
   "metadata": {},
   "outputs": [
    {
     "name": "stdout",
     "output_type": "stream",
     "text": [
      "{'이순신': 98, '강감찬': 85, '안중근': 67, '유관순': 92}\n",
      "['이순신', '강감찬', '안중근', '유관순']\n",
      "[98, 85, 67, 92]\n"
     ]
    }
   ],
   "source": [
    "'''\n",
    "리스트 내포에서 dictionary 사용하기\n",
    "'''\n",
    "\n",
    "dict1 = {name : age for name, age in dict_scores.items()}\n",
    "print(dict1)\n",
    "\n",
    "names = [name for name in dict_scores]\n",
    "print(names)\n",
    "\n",
    "age = [age for age in dict_scores.values()]\n",
    "print(age)"
   ]
  },
  {
   "cell_type": "code",
   "execution_count": 6,
   "metadata": {},
   "outputs": [
    {
     "name": "stdout",
     "output_type": "stream",
     "text": [
      "지구의 질량 : 5.97219e+24\n"
     ]
    }
   ],
   "source": [
    "'''\n",
    "중첩 dictionary\n",
    "'''\n",
    "\n",
    "planet = {\n",
    "    'Mercury' : {\n",
    "        'mean_radius': 2439.7, # 행성의 평균 반지름\n",
    "        'mass': 3.3022E+23, # 질량\n",
    "        'orbital_period': 87.969 # 공전 주기\n",
    "    },\n",
    "    'Venus' : {\n",
    "        'mean_radius': 6051.8,\n",
    "        'mass': 4.8676E+24, # 지수문자 10의 24제곱\n",
    "        'orbital_period' : 224.70096\n",
    "    },\n",
    "    'Earth' : {\n",
    "        'mean_radius': 6371.0,\n",
    "        'mass': 5.97219E+24,\n",
    "        'orbital_period': 365.25641\n",
    "    }\n",
    "}\n",
    "\n",
    "'''\n",
    "지구의 질량을 출력 하세요\n",
    "'''\n",
    "\n",
    "print(\"지구의 질량 :\", planet['Earth']['mass'])"
   ]
  },
  {
   "cell_type": "code",
   "execution_count": 7,
   "metadata": {},
   "outputs": [
    {
     "name": "stdout",
     "output_type": "stream",
     "text": [
      "2반의 총점 : 240 점\n"
     ]
    }
   ],
   "source": [
    "classes = {\n",
    "    '1반': {\n",
    "        '학생수': 30,\n",
    "        '반평균': 70.0,\n",
    "        '총점': 210\n",
    "    },\n",
    "    '2반': {\n",
    "        '학생수': 30,\n",
    "        '반평균': 80.0,\n",
    "        '총점': 240\n",
    "    },\n",
    "    '3반': {\n",
    "        '학생수': 30,\n",
    "        '반평균': 90.0,\n",
    "        '총점': 270\n",
    "    }\n",
    "}\n",
    "\n",
    "print(\"2반의 총점 :\", classes['2반']['총점'], '점')"
   ]
  },
  {
   "cell_type": "code",
   "execution_count": 8,
   "metadata": {},
   "outputs": [
    {
     "name": "stdout",
     "output_type": "stream",
     "text": [
      "4367490560 {'학생수': 30, '반평균': 80.0, '총점': 240}\n",
      "4368591296 {'학생수': 30, '반평균': 80.0, '총점': 240}\n",
      "--------------------------------------------------\n",
      "4367490560 {'학생수': 30, '반평균': 80.0, '총점': 260}\n",
      "4368591296 {'학생수': 30, '반평균': 80.0, '총점': 260}\n"
     ]
    }
   ],
   "source": [
    "'''\n",
    "# dictionary 복사하기\n",
    "'''\n",
    "\n",
    "# 얕은 복사: copy() 메소드 사용\n",
    "classes2 = classes.copy()\n",
    "\n",
    "print(id(classes), classes['2반'])\n",
    "print(id(classes2), classes2['2반'])\n",
    "print('-' * 50)\n",
    "classes['2반']['총점'] = 260\n",
    "\n",
    "print(id(classes), classes['2반'])\n",
    "print(id(classes2), classes2['2반'])"
   ]
  },
  {
   "cell_type": "code",
   "execution_count": 9,
   "metadata": {},
   "outputs": [
    {
     "name": "stdout",
     "output_type": "stream",
     "text": [
      "4367490560 {'학생수': 30, '반평균': 80.0, '총점': 260}\n",
      "4372139840 {'학생수': 30, '반평균': 80.0, '총점': 260}\n",
      "--------------------------------------------------\n",
      "4367490560 {'학생수': 30, '반평균': 80.0, '총점': 210}\n",
      "4372139840 {'학생수': 30, '반평균': 80.0, '총점': 260}\n"
     ]
    }
   ],
   "source": [
    "# 깊은 복사: deepcopy() 함수 사용\n",
    "import copy\n",
    "\n",
    "classes3 = copy.deepcopy(classes)\n",
    "\n",
    "print(id(classes), classes['2반'])\n",
    "print(id(classes3), classes3['2반'])\n",
    "print('-' * 50)\n",
    "\n",
    "classes['2반']['총점'] = 210\n",
    "\n",
    "print(id(classes), classes['2반'])\n",
    "print(id(classes3), classes3['2반'])"
   ]
  }
 ],
 "metadata": {
  "interpreter": {
   "hash": "949c5d161ae06a9191be236957b0dfe2172f0f0097fbf05f4df159099ee18a3c"
  },
  "kernelspec": {
   "display_name": "Python 3.8.5 64-bit ('tjoeun')",
   "language": "python",
   "name": "python3"
  },
  "language_info": {
   "codemirror_mode": {
    "name": "ipython",
    "version": 3
   },
   "file_extension": ".py",
   "mimetype": "text/x-python",
   "name": "python",
   "nbconvert_exporter": "python",
   "pygments_lexer": "ipython3",
   "version": "3.8.5"
  },
  "orig_nbformat": 4
 },
 "nbformat": 4,
 "nbformat_minor": 2
}
