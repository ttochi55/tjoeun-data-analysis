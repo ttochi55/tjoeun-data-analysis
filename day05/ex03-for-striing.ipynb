{
 "cells": [
  {
   "cell_type": "markdown",
   "metadata": {},
   "source": [
    "# for string"
   ]
  },
  {
   "cell_type": "code",
   "execution_count": 1,
   "metadata": {},
   "outputs": [
    {
     "name": "stdout",
     "output_type": "stream",
     "text": [
      "['나는 더조은 입니다', '주소는 마포구 입니다', '나이는 30세 입니다']\n",
      "['나는', '더조은', '입니다', '주소는', '마포구', '입니다', '나이는', '30세', '입니다']\n",
      "문장 개수 : 3\n",
      "단어 개수 : 9\n"
     ]
    }
   ],
   "source": [
    "'''\n",
    "아래의 str1 에 저장돈 문자열에서\n",
    "문장 단위로 list_sentences 에 저장하고\n",
    "단어(띄어쓰기로 구분함) 단위로 list_words 에 저장하세요\n",
    "\n",
    "문장 개수와 단어(띄어쓰기로 구분함) 개수도 출력하세요\n",
    "'''\n",
    "\n",
    "str1 = '''나는 더조은 입니다\n",
    "주소는 마포구 입니다\n",
    "나이는 30세 입니다'''\n",
    "\n",
    "list_sentences = []\n",
    "list_words = []\n",
    "\n",
    "for sentence in str1.split('\\n') :\n",
    "    list_sentences.append(sentence)\n",
    "    for word in sentence.split(' ') :\n",
    "        list_words.append(word)\n",
    "\n",
    "print(list_sentences)\n",
    "print(list_words)\n",
    "print('문장 개수 :', len(list_sentences))\n",
    "print('단어 개수 :', len(list_words))"
   ]
  },
  {
   "cell_type": "code",
   "execution_count": 2,
   "metadata": {},
   "outputs": [
    {
     "name": "stdout",
     "output_type": "stream",
     "text": [
      "정답률은 60.0% 입니다\n"
     ]
    }
   ],
   "source": [
    "'''\n",
    "# 정답률을 출력하는 프로그램을 작성 하시오\n",
    "\n",
    "# 정답률을 출력 하세요\n",
    "# 정답률은 60% 입니다\n",
    "'''\n",
    "answers  = [1, 3, 4, 2, 2]\n",
    "solution = [1, 2, 4, 1, 2]\n",
    "\n",
    "# 전체 문항수 저장하는 변수\n",
    "problems = len(solution)\n",
    "\n",
    "# 학생이 입력한 답안과 정답지의 정답이\n",
    "# 일치하는지를 저장하는 변수\n",
    "# 맞으면 1, 틀리면 0을 저장함\n",
    "correct = 0\n",
    "\n",
    "# 정답률을 저장하는 변수\n",
    "correct_rate = 0\n",
    "\n",
    "# 문항의 개수만큼 반복하면서\n",
    "# 정답을 맞혔으면 correct 에는 1을 저장하고\n",
    "# 틀렸으면 correct 에는 0을 저장함\n",
    "#   ㄴ 정답지와 학생 답안을 비교해서\n",
    "#      True면 1, False 면 0 이 되도록 int() 로 형변환함\n",
    "# 100 / problems : 한 문제당 점수\n",
    "# 100 / problems 에 correct 에 저장된 값을 곱해서\n",
    "# correct_rate 에 누적 덧셈을 함 <-- 정답률이 구해짐\n",
    "\n",
    "for i, answer in enumerate(answers) :\n",
    "    if answer == solution[i] :\n",
    "        correct_rate += 1\n",
    "        \n",
    "print(f\"정답률은 {correct_rate / problems * 100:.1f}% 입니다\")"
   ]
  }
 ],
 "metadata": {
  "interpreter": {
   "hash": "949c5d161ae06a9191be236957b0dfe2172f0f0097fbf05f4df159099ee18a3c"
  },
  "kernelspec": {
   "display_name": "Python 3.8.5 64-bit ('tjoeun')",
   "language": "python",
   "name": "python3"
  },
  "language_info": {
   "codemirror_mode": {
    "name": "ipython",
    "version": 3
   },
   "file_extension": ".py",
   "mimetype": "text/x-python",
   "name": "python",
   "nbconvert_exporter": "python",
   "pygments_lexer": "ipython3",
   "version": "3.8.5"
  },
  "orig_nbformat": 4
 },
 "nbformat": 4,
 "nbformat_minor": 2
}
