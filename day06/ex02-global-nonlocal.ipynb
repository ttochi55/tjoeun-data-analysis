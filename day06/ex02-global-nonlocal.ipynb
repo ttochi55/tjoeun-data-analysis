{
 "cells": [
  {
   "cell_type": "markdown",
   "metadata": {},
   "source": [
    "\n",
    "# global nonlocal"
   ]
  },
  {
   "cell_type": "code",
   "execution_count": 1,
   "metadata": {},
   "outputs": [
    {
     "name": "stdout",
     "output_type": "stream",
     "text": [
      "-- test1 함수 내부 : 지역 --\n",
      "4323760944 10\n",
      "-- test1 함수 내부 : 지역 --\n",
      "4323760976 11\n",
      "-- test1 함수 외부 : 전역 --\n",
      "4323760656 1\n"
     ]
    }
   ],
   "source": [
    "'''\n",
    "전역변수 : global variable\n",
    "  ㄴ 함수 바깥 영역에서 선언된 변수\n",
    "\n",
    "지역변수 : local variable\n",
    "  ㄴ 함수 내부에서 선언된 변수\n",
    "  \n",
    "전역변수 number가 위치한 곳과\n",
    "test1() 함수가 실행되는 곳이\n",
    "메모리 상에서 서로 다른 주소지이므로\n",
    "전역변수 number 와 test1() 함수의 지역변수 number 는\n",
    "서로 다른 변수임 <-- 서로 영향을 받지 않음\n",
    "'''\n",
    "\n",
    "number = 1\n",
    "\n",
    "def test1(number):\n",
    "    print('-- test1 함수 내부 : 지역 --')\n",
    "    print(id(number), number)\n",
    "    number = number + 1\n",
    "    print('-- test1 함수 내부 : 지역 --')\n",
    "    print(id(number), number)\n",
    "    return\n",
    "\n",
    "test1(10)\n",
    "\n",
    "print('-- test1 함수 외부 : 전역 --')\n",
    "print(id(number), number)"
   ]
  },
  {
   "cell_type": "code",
   "execution_count": 2,
   "metadata": {},
   "outputs": [
    {
     "name": "stdout",
     "output_type": "stream",
     "text": [
      "2\n"
     ]
    }
   ],
   "source": [
    "'''\n",
    "험수 안에서 전역변수를 사용하고자 할 때는\n",
    "global 이라는 키워드를 붙여주면 됨\n",
    "'''\n",
    "number2 = 1\n",
    "\n",
    "def test2():\n",
    "    global number2\n",
    "    number2 = number2 + 1\n",
    "    return\n",
    "    \n",
    "test2()\n",
    "print(number2)"
   ]
  },
  {
   "cell_type": "code",
   "execution_count": 3,
   "metadata": {},
   "outputs": [
    {
     "name": "stdout",
     "output_type": "stream",
     "text": [
      "number in inner() : 333\n",
      "number in outer() : 222\n",
      "number (global) : 111\n"
     ]
    }
   ],
   "source": [
    "number = 111\n",
    "\n",
    "def outer():\n",
    "    number = 222\n",
    "    def inner():\n",
    "        number = 333\n",
    "        print('number in inner() :', number)\n",
    "    inner()\n",
    "    print('number in outer() :', number)\n",
    "        \n",
    "outer()\n",
    "print('number (global) :', number)"
   ]
  },
  {
   "cell_type": "code",
   "execution_count": 4,
   "metadata": {},
   "outputs": [
    {
     "name": "stdout",
     "output_type": "stream",
     "text": [
      "nonlocal number in outer2() : 333\n",
      "number in outer2() : 333\n",
      "number (global) : 111\n"
     ]
    }
   ],
   "source": [
    "number = 111\n",
    "\n",
    "def outer2():\n",
    "    number = 222\n",
    "    def inner2():\n",
    "        nonlocal number\n",
    "        number = 333\n",
    "        print('nonlocal number in outer2() :', number)\n",
    "    inner2()\n",
    "    print('number in outer2() :', number)\n",
    "        \n",
    "outer2()\n",
    "print('number (global) :', number)"
   ]
  },
  {
   "cell_type": "code",
   "execution_count": 5,
   "metadata": {},
   "outputs": [
    {
     "name": "stdout",
     "output_type": "stream",
     "text": [
      "global number in outer3() : 333\n",
      "number in outer3() : 222\n",
      "number (global) : 333\n"
     ]
    }
   ],
   "source": [
    "number = 111\n",
    "\n",
    "def outer3():\n",
    "    number = 222\n",
    "    def inner3():\n",
    "        global number\n",
    "        number = 333\n",
    "        print('global number in outer3() :', number)\n",
    "    inner3()\n",
    "    print('number in outer3() :', number)\n",
    "        \n",
    "outer3()\n",
    "print('number (global) :', number)"
   ]
  }
 ],
 "metadata": {
  "interpreter": {
   "hash": "949c5d161ae06a9191be236957b0dfe2172f0f0097fbf05f4df159099ee18a3c"
  },
  "kernelspec": {
   "display_name": "Python 3.8.5 64-bit ('tjoeun')",
   "language": "python",
   "name": "python3"
  },
  "language_info": {
   "codemirror_mode": {
    "name": "ipython",
    "version": 3
   },
   "file_extension": ".py",
   "mimetype": "text/x-python",
   "name": "python",
   "nbconvert_exporter": "python",
   "pygments_lexer": "ipython3",
   "version": "3.8.5"
  },
  "orig_nbformat": 4
 },
 "nbformat": 4,
 "nbformat_minor": 2
}
