{
 "cells": [
  {
   "cell_type": "markdown",
   "metadata": {},
   "source": [
    "# file"
   ]
  },
  {
   "cell_type": "code",
   "execution_count": 1,
   "metadata": {},
   "outputs": [],
   "source": [
    "'''\n",
    "파일 생성하기\n",
    "\n",
    "형식)\n",
    "파일이름 : 파일 이름앞에 경로 포함\n",
    "변수 = open(\"파일이름.확장자\", \"파일열기모드\", encoding=\"인코딩형식\")\n",
    "  <-- 이렇게 하면 파일 객체가 생성되고 변수를 사용해서 control 함\n",
    "  \n",
    "파일열기모드 :\n",
    "\n",
    "    r   읽기모드(read)  - 파일을 읽는 경우 : 파일이 없으면 error 발생함\n",
    "    r+  읽기쓰기모드     - 파일이 없으면 error 발생하고\n",
    "                        쓰기의 경우, 기존의 data 를 완전히 삭제하고 새로 씀\n",
    "                        global <-- ggg : ggg\n",
    "    w   쓰기모드(write) - 파일에 내용을 쓰는 경우 : 파일이 없으면 새로 생성함\n",
    "    w+  읽기쓰기모드     - 파일이 없으면 새로 생성함\n",
    "                        쓰기의 경우, 기존의 data를 덮어씀\n",
    "                        global <-- ggg : gggbal\n",
    "    a   추가모드(append) - 파일에 기존의 내용이 있으면 그 이후에 추가 함\n",
    "                         파일이 없으면 새로 생성함\n",
    "    a+  읽기추가(쓰기) - 파일이 없으면 새로 생성함\n",
    "    \n",
    "    rt  (r + t) : t (text mode)\n",
    "    rb  (r + b) : b (binary mode)\n",
    "'''\n",
    "\n",
    "# 변수 = open(\"파일이름.확장자\", \"파일열기모드\", encoding=\"인코딩형식\")\n",
    "file1 = open('../dataset/newfile.txt', 'w', encoding='utf-8')\n",
    "\n",
    "for idx in range(1, 11):\n",
    "    data = f\"{idx} 번째 줄 입니다.\\n\"\n",
    "    file1.write(data)\n",
    "\n",
    "# close() 메소드가 하는 일\n",
    "# 파일 I/O 작업을 마치면\n",
    "# 메모리에 생성되었던 파일객체를 삭제함    \n",
    "file1.close()"
   ]
  },
  {
   "cell_type": "code",
   "execution_count": 2,
   "metadata": {},
   "outputs": [
    {
     "name": "stdout",
     "output_type": "stream",
     "text": [
      "1 번째 줄 입니다.\n",
      "2 번째 줄 입니다.\n",
      "3 번째 줄 입니다.\n",
      "4 번째 줄 입니다.\n",
      "5 번째 줄 입니다.\n",
      "6 번째 줄 입니다.\n",
      "7 번째 줄 입니다.\n",
      "8 번째 줄 입니다.\n",
      "9 번째 줄 입니다.\n",
      "10 번째 줄 입니다.\n"
     ]
    }
   ],
   "source": [
    "file2 = open('../dataset/newfile.txt', 'r', encoding='utf-8')\n",
    "\n",
    "while True:\n",
    "    text_line = file2.readlines()\n",
    "    if not text_line:\n",
    "        break\n",
    "    for str1 in text_line:\n",
    "        print(str1, end='')\n",
    "        \n",
    "file2.close()"
   ]
  },
  {
   "cell_type": "code",
   "execution_count": 3,
   "metadata": {},
   "outputs": [],
   "source": [
    "file3 = open('../dataset/newfile.txt', 'w', encoding='utf-8')\n",
    "\n",
    "for idx in range(1, 11):\n",
    "    data = f\"{idx} 번째 줄 입니다.\\n\"\n",
    "    file3.write(data)\n",
    "        \n",
    "file3.close()"
   ]
  },
  {
   "cell_type": "code",
   "execution_count": 4,
   "metadata": {},
   "outputs": [
    {
     "name": "stdout",
     "output_type": "stream",
     "text": [
      "1 번째 줄 입니다.\n",
      "2 번째 줄 입니다.\n",
      "3 번째 줄 입니다.\n",
      "4 번째 줄 입니다.\n",
      "5 번째 줄 입니다.\n",
      "6 번째 줄 입니다.\n",
      "7 번째 줄 입니다.\n",
      "8 번째 줄 입니다.\n",
      "9 번째 줄 입니다.\n",
      "10 번째 줄 입니다.\n"
     ]
    }
   ],
   "source": [
    "file4 = open('../dataset/newfile.txt', 'r', encoding='utf-8')\n",
    "\n",
    "while True:\n",
    "    text_line = file4.readlines()\n",
    "    if not text_line:\n",
    "        break\n",
    "    for str1 in text_line:\n",
    "        print(str1, end='')\n",
    "        \n",
    "file4.close()"
   ]
  },
  {
   "cell_type": "code",
   "execution_count": 5,
   "metadata": {},
   "outputs": [],
   "source": [
    "file5 = open('../dataset/basic_test.txt', 'w', encoding='utf-8')\n",
    "file5.write('Hello python!!')\n",
    "file5.close()"
   ]
  },
  {
   "cell_type": "code",
   "execution_count": 6,
   "metadata": {},
   "outputs": [
    {
     "name": "stdout",
     "output_type": "stream",
     "text": [
      "Hello python!!\n"
     ]
    }
   ],
   "source": [
    "file6 = open('../dataset/basic_test.txt', 'r', encoding='utf-8')\n",
    "read_text = file6.read()\n",
    "print(read_text)\n",
    "file6.close()"
   ]
  },
  {
   "cell_type": "code",
   "execution_count": 7,
   "metadata": {},
   "outputs": [],
   "source": [
    "import random\n",
    "from random import *\n",
    "\n",
    "hangul = list('가나다라마바사아자차카타파하')\n",
    "file7 = open('../dataset/info.txt', 'w', encoding='utf-8')\n",
    "\n",
    "for i in range(30):\n",
    "    name = choice(hangul) + choice(hangul) + choice(hangul)\n",
    "    weight = randrange(40, 100)\n",
    "    height = randrange(140, 200)\n",
    "    file7.write(f\"{name}, {weight}, {height}\\n\")\n",
    "\n",
    "file7.close()"
   ]
  },
  {
   "cell_type": "code",
   "execution_count": 8,
   "metadata": {},
   "outputs": [
    {
     "name": "stdout",
     "output_type": "stream",
     "text": [
      "라타파, 78, 152\n",
      "타아나, 95, 179\n",
      "파타바, 97, 197\n",
      "마카차, 52, 189\n",
      "아라라, 99, 188\n",
      "아라파, 66, 154\n",
      "가가아, 74, 182\n",
      "타파라, 41, 155\n",
      "파바아, 81, 195\n",
      "사바하, 81, 173\n",
      "파아마, 50, 173\n",
      "바자자, 46, 169\n",
      "자카나, 58, 178\n",
      "사다가, 77, 168\n",
      "카차자, 76, 171\n",
      "카라마, 40, 155\n",
      "아하파, 49, 188\n",
      "차사바, 70, 179\n",
      "마바자, 92, 189\n",
      "하가차, 46, 149\n",
      "아사아, 50, 162\n",
      "라다라, 75, 171\n",
      "가라차, 53, 144\n",
      "가아나, 50, 167\n",
      "가사라, 55, 164\n",
      "나파라, 84, 164\n",
      "다다타, 54, 191\n",
      "나아차, 72, 194\n",
      "나타다, 95, 148\n",
      "파타차, 64, 178\n"
     ]
    }
   ],
   "source": [
    "file8 = open('../dataset/info.txt', 'r', encoding='utf-8')\n",
    "\n",
    "while True:\n",
    "    text_line = file8.readlines()\n",
    "    if not text_line:\n",
    "        break\n",
    "    for str1 in text_line:\n",
    "        print(str1, end='')\n",
    "\n",
    "file8.close()"
   ]
  }
 ],
 "metadata": {
  "interpreter": {
   "hash": "949c5d161ae06a9191be236957b0dfe2172f0f0097fbf05f4df159099ee18a3c"
  },
  "kernelspec": {
   "display_name": "Python 3.8.5 64-bit ('tjoeun')",
   "language": "python",
   "name": "python3"
  },
  "language_info": {
   "codemirror_mode": {
    "name": "ipython",
    "version": 3
   },
   "file_extension": ".py",
   "mimetype": "text/x-python",
   "name": "python",
   "nbconvert_exporter": "python",
   "pygments_lexer": "ipython3",
   "version": "3.8.5"
  },
  "orig_nbformat": 4
 },
 "nbformat": 4,
 "nbformat_minor": 2
}
