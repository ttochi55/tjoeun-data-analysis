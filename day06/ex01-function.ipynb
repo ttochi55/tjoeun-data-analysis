{
 "cells": [
  {
   "cell_type": "markdown",
   "metadata": {},
   "source": [
    "# function"
   ]
  },
  {
   "cell_type": "code",
   "execution_count": 1,
   "metadata": {},
   "outputs": [
    {
     "name": "stdout",
     "output_type": "stream",
     "text": [
      "(18, 2, 80, 1.25)\n",
      "18 2 80 1.25\n",
      "18 2 80 1.25\n"
     ]
    }
   ],
   "source": [
    "def operations(n1, n2):\n",
    "    return n1+n2, n1-n2, n1*n2, n1/n2\n",
    "\n",
    "result = operations(10, 8)\n",
    "print(result)\n",
    "\n",
    "result_add, result_sub, result_multi, result_div = operations(10, 8)\n",
    "print(result_add, result_sub, result_multi, result_div)\n",
    "\n",
    "result_add, result_sub, result_multi, result_div = 18, 2, 80, 1.25\n",
    "result_add, result_sub, result_multi, result_div = (18, 2, 80, 1.25)\n",
    "print(result_add, result_sub, result_multi, result_div)"
   ]
  },
  {
   "cell_type": "code",
   "execution_count": 2,
   "metadata": {},
   "outputs": [
    {
     "name": "stdout",
     "output_type": "stream",
     "text": [
      "덧셈\n",
      "33\n"
     ]
    }
   ],
   "source": [
    "'''\n",
    "return\n",
    "    1) 함수를 종료함\n",
    "    2) 프로그램의 흐름을 함수를 호출한 곳으로 되돌림\n",
    "        ㄴ return 값이 있는 경우에는 그 값도 가지고 돌아감\n",
    "'''\n",
    "\n",
    "def add(n1, n2):\n",
    "    print('덧셈')\n",
    "    return n1 + n2\n",
    "\n",
    "result = add(11, 22)\n",
    "print(result)"
   ]
  },
  {
   "cell_type": "code",
   "execution_count": 3,
   "metadata": {},
   "outputs": [
    {
     "name": "stdout",
     "output_type": "stream",
     "text": [
      "더조은 님, 안녕하세요\n",
      "아이티 님, 안녕하세요\n",
      "아카데미 님, 안녕하세요\n"
     ]
    }
   ],
   "source": [
    "'''\n",
    "# name 에 전달된 이름이 '이순신' 인 경우,\n",
    "# if 문이 True 가 되어서 return 함으로 함수가 바로 종료됨\n",
    "# 안녕하세요 가 출력되지 않음\n",
    "'''\n",
    "\n",
    "def say_hello(name):\n",
    "    if name == '이순신':\n",
    "        return\n",
    "    print(f\"{name} 님, 안녕하세요\")\n",
    "    return\n",
    "\n",
    "say_hello('더조은')\n",
    "say_hello('아이티')\n",
    "say_hello('아카데미')\n",
    "say_hello('이순신')"
   ]
  },
  {
   "cell_type": "code",
   "execution_count": 4,
   "metadata": {},
   "outputs": [
    {
     "name": "stdout",
     "output_type": "stream",
     "text": [
      "이름 : 홍길동\n",
      "나이 : 32\n",
      "성별 : 남자\n",
      "--------------------------------------------------\n",
      "이름 : 임꺽정\n",
      "나이 : 49\n",
      "성별 : 남자\n",
      "--------------------------------------------------\n",
      "이름 : 유관순\n",
      "나이 : 18\n",
      "성별 : 여자\n",
      "--------------------------------------------------\n",
      "이름 : 유관순\n",
      "나이 : 18\n",
      "성별 : 여자\n",
      "--------------------------------------------------\n"
     ]
    }
   ],
   "source": [
    "'''\n",
    "함수 기본값 매개변수\n",
    "    default value parameter\n",
    "        ㄴ parameter 로 들어오는 argument 를 미리 정함\n",
    "        ㄴ parameter 중에서 맨 마지막에 위치해야 함\n",
    "'''\n",
    "\n",
    "def info_person(name, age, man=True):\n",
    "    print(f\"이름 : {name}\")\n",
    "    print(f\"나이 : {age}\")\n",
    "    if man:\n",
    "        print(\"성별 : 남자\")\n",
    "    else:\n",
    "        print(\"성별 : 여자\")\n",
    "    print('-' * 50)\n",
    "        \n",
    "info_person('홍길동', 32)\n",
    "info_person('임꺽정', 49)\n",
    "info_person('유관순', 18, False)\n",
    "info_person('유관순', 18, man=False)"
   ]
  },
  {
   "cell_type": "code",
   "execution_count": 5,
   "metadata": {},
   "outputs": [
    {
     "name": "stdout",
     "output_type": "stream",
     "text": [
      "<class 'list'>\n",
      "strawberry watermelon mango \n",
      "<class 'tuple'>\n",
      "banana peach melon \n"
     ]
    }
   ],
   "source": [
    "def print_fruits(fruits):\n",
    "    print(type(fruits))\n",
    "    for fruit in fruits:\n",
    "        print(fruit, end=\" \")\n",
    "    print()\n",
    "    \n",
    "fruits_list = ['strawberry', 'watermelon', 'mango']\n",
    "fruits_tuple = ('banana', 'peach', 'melon')\n",
    "\n",
    "print_fruits(fruits_list)\n",
    "print_fruits(fruits_tuple)"
   ]
  },
  {
   "cell_type": "code",
   "execution_count": 6,
   "metadata": {},
   "outputs": [
    {
     "name": "stdout",
     "output_type": "stream",
     "text": [
      "<class 'tuple'>\n",
      "['strawberry', 'watermelon', 'mango'] \n",
      "<class 'tuple'>\n",
      "('banana', 'peach', 'melon') \n"
     ]
    }
   ],
   "source": [
    "'''\n",
    "# *fruits : 비어있는 tuple를 생성해서\n",
    "# parameter 로 전달되어온 값을 이 tuple 에 저장함\n",
    "'''\n",
    "\n",
    "def print_fruits(*fruits):\n",
    "    print(type(fruits))\n",
    "    for fruit in fruits:\n",
    "        print(fruit, end=\" \")\n",
    "    print()\n",
    "    \n",
    "fruits_list = ['strawberry', 'watermelon', 'mango']\n",
    "fruits_tuple = ('banana', 'peach', 'melon')\n",
    "\n",
    "print_fruits(fruits_list)\n",
    "print_fruits(fruits_tuple)"
   ]
  }
 ],
 "metadata": {
  "interpreter": {
   "hash": "949c5d161ae06a9191be236957b0dfe2172f0f0097fbf05f4df159099ee18a3c"
  },
  "kernelspec": {
   "display_name": "Python 3.8.5 64-bit ('tjoeun')",
   "language": "python",
   "name": "python3"
  },
  "language_info": {
   "codemirror_mode": {
    "name": "ipython",
    "version": 3
   },
   "file_extension": ".py",
   "mimetype": "text/x-python",
   "name": "python",
   "nbconvert_exporter": "python",
   "pygments_lexer": "ipython3",
   "version": "3.8.5"
  },
  "orig_nbformat": 4
 },
 "nbformat": 4,
 "nbformat_minor": 2
}
