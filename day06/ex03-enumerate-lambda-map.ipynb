{
 "cells": [
  {
   "cell_type": "markdown",
   "metadata": {},
   "source": [
    "# enumerate"
   ]
  },
  {
   "cell_type": "code",
   "execution_count": 1,
   "metadata": {},
   "outputs": [
    {
     "name": "stdout",
     "output_type": "stream",
     "text": [
      "1 번째 요소는 1 입니다\n",
      "2 번째 요소는 2 입니다\n",
      "3 번째 요소는 3 입니다\n",
      "4 번째 요소는 4 입니다\n",
      "5 번째 요소는 5 입니다\n",
      "--------------------------------------------------\n",
      "1 번째 요소는 1 입니다\n",
      "2 번째 요소는 2 입니다\n",
      "3 번째 요소는 3 입니다\n",
      "4 번째 요소는 4 입니다\n",
      "5 번째 요소는 5 입니다\n",
      "--------------------------------------------------\n"
     ]
    }
   ],
   "source": [
    "'''\n",
    "enumerate : item 의 index 와 값을 반환함\n",
    "'''\n",
    "\n",
    "list_numbers = [1, 2, 3, 4, 5]\n",
    "\n",
    "for idx, value in enumerate(list_numbers):\n",
    "    print(f\"{idx+1} 번째 요소는 {value} 입니다\")\n",
    "print('-' * 50)\n",
    "\n",
    "for idx, value in enumerate(list_numbers, start=1):\n",
    "    print(f\"{idx} 번째 요소는 {value} 입니다\")\n",
    "print('-' * 50)\n",
    "    "
   ]
  },
  {
   "cell_type": "code",
   "execution_count": 2,
   "metadata": {},
   "outputs": [
    {
     "name": "stdout",
     "output_type": "stream",
     "text": [
      "1 2 3 (4, 5, 6)\n"
     ]
    }
   ],
   "source": [
    "'''\n",
    "# parameter 가 여러 개인 경우,\n",
    "# *n4 parameter 는 항상 맨 마지막에 위치해야 함\n",
    "'''\n",
    "\n",
    "def test4(n1, n2, n3, *n4):\n",
    "    print(n1, n2, n3, n4)\n",
    "    \n",
    "test4(1, 2, 3, 4, 5, 6)"
   ]
  },
  {
   "cell_type": "markdown",
   "metadata": {},
   "source": [
    "## lambda()"
   ]
  },
  {
   "cell_type": "code",
   "execution_count": 3,
   "metadata": {},
   "outputs": [
    {
     "name": "stdout",
     "output_type": "stream",
     "text": [
      "33\n"
     ]
    }
   ],
   "source": [
    "'''\n",
    "lambda 함수 : lambda 키워드를 사용해서 함수를 간결하게 표현함\n",
    "  ㄴ 함수를 변수에 할당할 수도 있고\n",
    "    함수를 parameter 나 return 값으로 사용할 수 있음\n",
    "    \n",
    "    형식)\n",
    "    lambda [parameter] : return 값\n",
    "'''\n",
    "\n",
    "def add(n1, n2):\n",
    "    return n1 + n2\n",
    "result = add(11, 22)\n",
    "\n",
    "print(result)"
   ]
  },
  {
   "cell_type": "code",
   "execution_count": 4,
   "metadata": {},
   "outputs": [
    {
     "name": "stdout",
     "output_type": "stream",
     "text": [
      "30\n"
     ]
    }
   ],
   "source": [
    "'''\n",
    "# lambda 함수 직접 실행하기\n",
    "'''\n",
    "result = (lambda n1, n2 : n1 + n2)(10, 20)\n",
    "print(result)"
   ]
  },
  {
   "cell_type": "code",
   "execution_count": 5,
   "metadata": {},
   "outputs": [
    {
     "name": "stdout",
     "output_type": "stream",
     "text": [
      "33\n"
     ]
    }
   ],
   "source": [
    "'''\n",
    "# lambda 함수를 변수에 할당하기\n",
    "'''\n",
    "test1 = lambda n1, n2 : n1 + n2\n",
    "result = test1(11, 22)\n",
    "print(result)"
   ]
  },
  {
   "cell_type": "code",
   "execution_count": 6,
   "metadata": {},
   "outputs": [
    {
     "name": "stdout",
     "output_type": "stream",
     "text": [
      "result : 12\n",
      "result : -2\n",
      "result : 35\n",
      "result : 0.7142857142857143\n",
      "--------------------------------------------------\n",
      "result : hello python\n",
      "result : 777\n"
     ]
    }
   ],
   "source": [
    "'''\n",
    "# 항상 return 값이 출력 됨\n",
    "'''\n",
    "print('result :', (lambda n1, n2 : n1 + n2)(5, 7))\n",
    "print('result :', (lambda n1, n2 : n1 - n2)(5, 7))\n",
    "print('result :', (lambda n1, n2 : n1 * n2)(5, 7))\n",
    "print('result :', (lambda n1, n2 : n1 / n2)(5, 7))\n",
    "\n",
    "print('-' * 50)\n",
    "\n",
    "print('result :', (lambda n1, n2 : 'hello python')(5, 7))\n",
    "print('result :', (lambda n1, n2 : 777)(5, 7))"
   ]
  },
  {
   "cell_type": "code",
   "execution_count": 7,
   "metadata": {},
   "outputs": [
    {
     "name": "stdout",
     "output_type": "stream",
     "text": [
      "result : 12\n",
      "result : 16\n"
     ]
    }
   ],
   "source": [
    "'''\n",
    "# lambda 함수에서 default value parameter 사용하기\n",
    "'''\n",
    "print('result :', (lambda n1, n2=11 : n1 + n2)(5, 7))\n",
    "print('result :', (lambda n1, n2=11 : n1 + n2)(5))"
   ]
  },
  {
   "cell_type": "code",
   "execution_count": 8,
   "metadata": {},
   "outputs": [
    {
     "name": "stdout",
     "output_type": "stream",
     "text": [
      "result : 55\n"
     ]
    }
   ],
   "source": [
    "'''\n",
    "# lambda 함수 속에서 전역 변수 사용하기\n",
    "#   ㄴ global 키워드를 사용하지 않아도 됨\n",
    "'''\n",
    "number = 22\n",
    "print('result :', (lambda n1 : n1 + number)(33))"
   ]
  },
  {
   "cell_type": "code",
   "execution_count": 9,
   "metadata": {},
   "outputs": [
    {
     "name": "stdout",
     "output_type": "stream",
     "text": [
      "20\n",
      "20\n"
     ]
    }
   ],
   "source": [
    "'''\n",
    "add_10 함수를 실행해 보고\n",
    "lambda 형태로 변형해서 실행해 보세요\n",
    "'''\n",
    "\n",
    "def add_10(number):\n",
    "    return number + 10\n",
    "\n",
    "result = add_10(10)\n",
    "print(result)\n",
    "\n",
    "# lambda 함수를 print() 함수의 argument 로 사용\n",
    "result = (lambda number : number + 10)(10)\n",
    "print(result)"
   ]
  },
  {
   "cell_type": "code",
   "execution_count": 10,
   "metadata": {},
   "outputs": [
    {
     "name": "stdout",
     "output_type": "stream",
     "text": [
      "33\n"
     ]
    }
   ],
   "source": [
    "'''\n",
    "# lambda 함수 속에서는 변수에 값을 할당할 수 없음\n",
    "'''\n",
    "# SyntaxError: invalid syntax\n",
    "# print((lambda n1 : n2 = 11, n1 + n2)(11))\n",
    "print((lambda n1, n2 : n1 + n2)(11, 22))"
   ]
  },
  {
   "cell_type": "markdown",
   "metadata": {},
   "source": [
    "## map()"
   ]
  },
  {
   "cell_type": "code",
   "execution_count": 11,
   "metadata": {},
   "outputs": [
    {
     "name": "stdout",
     "output_type": "stream",
     "text": [
      "[1, 4, 9, 16, 25]\n"
     ]
    }
   ],
   "source": [
    "'''\n",
    "map() 함수\n",
    "  ㄴ 함수와 list 를 전달받아서\n",
    "    list 에서 요소를 하나씩 꺼내서 함수를 적용한 후\n",
    "    (list 의 요소들이 하나씩 차례대로 이 함수의 parameter로 전달됨)\n",
    "    그 결과 값들로 구성된 map 객체가 생성됨\n",
    "'''\n",
    "\n",
    "result = list(map(lambda n : n ** 2, [1, 2, 3, 4, 5]))\n",
    "print(result)"
   ]
  },
  {
   "cell_type": "code",
   "execution_count": 12,
   "metadata": {},
   "outputs": [
    {
     "name": "stdout",
     "output_type": "stream",
     "text": [
      "[1, 4, 9, 16, 25]\n"
     ]
    }
   ],
   "source": [
    "list_numbers = [1, 2, 3, 4, 5]\n",
    "\n",
    "def test1(n):\n",
    "    return n ** 2\n",
    "\n",
    "print(list(map(test1, list_numbers)))"
   ]
  },
  {
   "cell_type": "code",
   "execution_count": 13,
   "metadata": {},
   "outputs": [
    {
     "name": "stdout",
     "output_type": "stream",
     "text": [
      "[1.2, 2.4, 3.6, 4.5, 5.1]\n",
      "[1, 2, 3, 4, 5]\n"
     ]
    }
   ],
   "source": [
    "'''\n",
    "for 문을 사용해서 float_numbers 에 저장된 요소들을\n",
    "정수로 변환해서 list에 저장해서 이 list 를 출력하세요\n",
    "'''\n",
    "\n",
    "float_numbers = [1.2, 2.4, 3.6, 4.5, 5.1]\n",
    "print(float_numbers)\n",
    "\n",
    "int_numbers = []\n",
    "for number in float_numbers:\n",
    "    int_numbers.append(int(number))\n",
    "print(int_numbers)"
   ]
  },
  {
   "cell_type": "code",
   "execution_count": 14,
   "metadata": {},
   "outputs": [
    {
     "name": "stdout",
     "output_type": "stream",
     "text": [
      "[1.2, 2.4, 3.6, 4.5, 5.1]\n",
      "[1, 2, 3, 4, 5]\n"
     ]
    }
   ],
   "source": [
    "'''\n",
    "for 문을 사용해서 float_numbers 에 저장된 요소들을\n",
    "정수로 변환해서 list에 저장해서 이 list 를\n",
    "반환하는 함수를 작성해서 호출하여\n",
    "반환된 값을 확인 하세요\n",
    "'''\n",
    "\n",
    "float_numbers = [1.2, 2.4, 3.6, 4.5, 5.1]\n",
    "print(float_numbers)\n",
    "\n",
    "def float2int(float_list):\n",
    "    int_numbers = []\n",
    "    for real_number in float_list:\n",
    "        int_numbers.append(int(real_number))\n",
    "    return int_numbers\n",
    "        \n",
    "print(float2int(float_numbers))"
   ]
  },
  {
   "cell_type": "code",
   "execution_count": 15,
   "metadata": {},
   "outputs": [
    {
     "name": "stdout",
     "output_type": "stream",
     "text": [
      "[1.2, 2.4, 3.6, 4.5, 5.1]\n",
      "[1, 2, 3, 4, 5]\n",
      "[1, 2, 3, 4, 5]\n",
      "[1, 2, 3, 4, 5]\n",
      "['1.2', '2.4', '3.6', '4.5', '5.1']\n"
     ]
    }
   ],
   "source": [
    "'''\n",
    "실수로 구성된 리스트를 정수로 구성된 리스트로\n",
    "변환하는 code 를 작성하세요\n",
    "map() 함수를 사용 하세요\n",
    "'''\n",
    "float_numbers = [1.2, 2.4, 3.6, 4.5, 5.1]\n",
    "print(float_numbers)\n",
    "\n",
    "# 1) 일반함수와 list 를 사용힘\n",
    "def float2int(float_list):\n",
    "    int_number = int(float_list * 10 // 10)\n",
    "    return int_number\n",
    "\n",
    "print(list(map(float2int, float_numbers)))\n",
    "\n",
    "# 2) lambda 함수와 list 를 사용함\n",
    "result = list(map(lambda n : int(n * 10 // 10), float_numbers))\n",
    "print(result)\n",
    "\n",
    "# 3) 내장함수 int 를 사용함\n",
    "int_numbers = list(map(int, float_numbers))\n",
    "print(int_numbers)\n",
    "\n",
    "# 4) 내장함수 str 을 사용해서 문자열로 바꾸기\n",
    "str_numbers = list(map(str, float_numbers))\n",
    "print(str_numbers)\n"
   ]
  },
  {
   "cell_type": "code",
   "execution_count": 16,
   "metadata": {},
   "outputs": [
    {
     "name": "stdout",
     "output_type": "stream",
     "text": [
      "33\n"
     ]
    }
   ],
   "source": [
    "'''\n",
    "# unpacking\n",
    "num1, num2 = result\n",
    "'''\n",
    "# result = input('정수 두 개를 공백으로 구분해서 입력하세요 :').split()\n",
    "result = '11 22'.split()\n",
    "\n",
    "# 11 과 22 를 입력해서 total 에 33 을 저장함\n",
    "# map() 함수 사용하기\n",
    "# input() 을 통해서 입력된 값은 모두 문자열이 됨\n",
    "# result : ['11', '22'] <-- 문자열 리스트\n",
    "#   ㄴ int 리스트로 만들어야 함\n",
    "num1, num2 = map(int, result)\n",
    "total = num1 + num2\n",
    "print(total)"
   ]
  },
  {
   "cell_type": "code",
   "execution_count": 17,
   "metadata": {},
   "outputs": [
    {
     "name": "stdout",
     "output_type": "stream",
     "text": [
      "[1, 2, '3', 4, 5, '6', 7, 8, '9', 10, 11, '12', 13, 14, '15', 16, 17, '18', 19, 20]\n"
     ]
    }
   ],
   "source": [
    "'''\n",
    "아래의 list_nums 의 요소 중 3의 배수만\n",
    "문자열로 변환하세요.\n",
    "map() 함수 활용하기\n",
    "1) 일반함수\n",
    "2) lambda 함수 - lambda 식\n",
    "3) if 조건문 사용 : number % 3 == 0\n",
    "'''\n",
    "list_nums = list(range(1, 21))\n",
    "\n",
    "# 일반함수\n",
    "def int2str(num):\n",
    "    if num % 3 == 0:\n",
    "        return str(num)\n",
    "    return num\n",
    "\n",
    "result = list(map(int2str, list_nums))\n",
    "print(result)"
   ]
  },
  {
   "cell_type": "code",
   "execution_count": 18,
   "metadata": {},
   "outputs": [
    {
     "name": "stdout",
     "output_type": "stream",
     "text": [
      "[1, 2, '3', 4, 5, '6', 7, 8, '9', 10, 11, '12', 13, 14, '15', 16, 17, '18', 19, 20]\n"
     ]
    }
   ],
   "source": [
    "'''\n",
    "# lambda 식에서 조건문 사용하기 : 3의 배수만 문자열로 변환하기\n",
    "'''\n",
    "list_nums = list(range(1, 21))\n",
    "result = list(map(lambda n : str(n) if n % 3 == 0 else n, list_nums))\n",
    "print(result)"
   ]
  },
  {
   "cell_type": "code",
   "execution_count": 19,
   "metadata": {},
   "outputs": [
    {
     "name": "stdout",
     "output_type": "stream",
     "text": [
      "13\n",
      "['1', 2.0, 13, 14, 15, 16, 17, 18, 19, 20, 21, 22, 23, 24, 25, 26, 27, 28, 29, 30]\n"
     ]
    }
   ],
   "source": [
    "'''\n",
    "# 1은 문자열로 변환하고 2는 실수로 변환하고\n",
    "# 나머지는 모두 10을 더해서 출력하세요\n",
    "'''\n",
    "# number = int(input('정수 하나를 입력하세요 :'))\n",
    "number = 3\n",
    "result = (lambda n : str(n) if n == 1 else float(n) if n == 2 else n + 10)(number)\n",
    "print(result)\n",
    "\n",
    "list_nums = list(range(1, 21))\n",
    "result = list(map(lambda n : str(n) if n == 1 else float(n) if n == 2 else n + 10, list_nums))\n",
    "print(result)"
   ]
  },
  {
   "cell_type": "code",
   "execution_count": 20,
   "metadata": {},
   "outputs": [
    {
     "name": "stdout",
     "output_type": "stream",
     "text": [
      "[2, 8, 18, 32, 50]\n"
     ]
    }
   ],
   "source": [
    "list1 = [1, 2, 3, 4, 5]\n",
    "list2 = [2, 4, 6, 8, 10]\n",
    "\n",
    "result = list(map(lambda i, j : i * j, list1, list2))\n",
    "print(result)"
   ]
  }
 ],
 "metadata": {
  "interpreter": {
   "hash": "949c5d161ae06a9191be236957b0dfe2172f0f0097fbf05f4df159099ee18a3c"
  },
  "kernelspec": {
   "display_name": "Python 3.8.5 64-bit ('tjoeun')",
   "language": "python",
   "name": "python3"
  },
  "language_info": {
   "codemirror_mode": {
    "name": "ipython",
    "version": 3
   },
   "file_extension": ".py",
   "mimetype": "text/x-python",
   "name": "python",
   "nbconvert_exporter": "python",
   "pygments_lexer": "ipython3",
   "version": "3.8.5"
  },
  "orig_nbformat": 4
 },
 "nbformat": 4,
 "nbformat_minor": 2
}
