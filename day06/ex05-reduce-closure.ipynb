{
 "cells": [
  {
   "cell_type": "markdown",
   "metadata": {},
   "source": [
    "# reduce"
   ]
  },
  {
   "cell_type": "code",
   "execution_count": 1,
   "metadata": {},
   "outputs": [
    {
     "data": {
      "text/plain": [
       "'\\nreduce() 함수\\n    ㄴ iterable type data 의 각 요소를 지정한 함수로\\n      처리한 후 누적 연산을 해서 반환함\\n      \\n    reduce() 함수는 functools 모듈에 있음\\n    import functools 해서 사용해야 함\\n'"
      ]
     },
     "execution_count": 1,
     "metadata": {},
     "output_type": "execute_result"
    }
   ],
   "source": [
    "'''\n",
    "reduce() 함수\n",
    "    ㄴ iterable type data 의 각 요소를 지정한 함수로\n",
    "      처리한 후 누적 연산을 해서 반환함\n",
    "      \n",
    "    reduce() 함수는 functools 모듈에 있음\n",
    "    import functools 해서 사용해야 함\n",
    "'''\n",
    "\n",
    "# 1) 사용법\n",
    "# import functools\n",
    "# functools.reduce()\n",
    "\n",
    "# 2) 사용법\n",
    "# from functools import reduce\n",
    "# reduce()"
   ]
  },
  {
   "cell_type": "code",
   "execution_count": 2,
   "metadata": {},
   "outputs": [
    {
     "name": "stdout",
     "output_type": "stream",
     "text": [
      "15\n",
      "15\n"
     ]
    }
   ],
   "source": [
    "from functools import reduce\n",
    "\n",
    "def add_nums(n1, n2):\n",
    "    return n1 + n2\n",
    "\n",
    "list_nums = [1, 2, 3, 4, 5]\n",
    "result = reduce(add_nums, list_nums)\n",
    "print(result)\n",
    "\n",
    "result = reduce(lambda n1, n2 : n1 + n2, list_nums)\n",
    "print(result)"
   ]
  },
  {
   "cell_type": "markdown",
   "metadata": {},
   "source": [
    "## closure"
   ]
  },
  {
   "cell_type": "code",
   "execution_count": 3,
   "metadata": {},
   "outputs": [
    {
     "name": "stdout",
     "output_type": "stream",
     "text": [
      "44\n"
     ]
    }
   ],
   "source": [
    "'''\n",
    "함수 클로저 : closure\n",
    "    ㄴ 함수가 호출되면 해당 함수가 실행되기 위한 메모리 공간이 확보됨. \n",
    "      이곳에 지역변수들이 생성됨.\n",
    "      이 함수가 그 실행을 모두 완료하고 return 하면\n",
    "      이 함수는 종료가 되고 이 함수의 실행을 위해서 확보했던 메모리 공간도 없어짐.\n",
    "      이 순간 이 함수의 지역변수들도 자동으로 메모리에서 삭제됨.\n",
    "      그런데, 이 함수((outer()) 의 지역변수를\n",
    "      내부함수(inner()) 에서 사용하고 있는 경우에는\n",
    "      내부함수(inner()) 의 실행을 위해서 내부함수가\n",
    "      사용하고 있는 외부함수의 지역변수들은 \n",
    "      메모리에서 삭제하지 않고 남겨둠.\n",
    "       ㄴ 이렇게 남아있는 메모리 부분을 클로저라고 함\n",
    "      이 때의 내부함수를 클로저함수라고 함\n",
    "      \n",
    "\n",
    "종료하다, 함수를 종료하다는 뜻을 가지고 있음\n",
    "'''\n",
    "number = 1\n",
    "\n",
    "def outer():\n",
    "    n1 = 11\n",
    "    n2 = 22\n",
    "    n3 = 33\n",
    "    def inner(num):\n",
    "        sum = n1 + n2 + num\n",
    "        print(sum)\n",
    "    return inner\n",
    "        \n",
    "outer()(11)"
   ]
  },
  {
   "cell_type": "code",
   "execution_count": 4,
   "metadata": {},
   "outputs": [
    {
     "name": "stdout",
     "output_type": "stream",
     "text": [
      "33\n"
     ]
    }
   ],
   "source": [
    "'''\n",
    "return 값이 있는 함수를 호출하는 경우에는\n",
    "그 함수를 호출하는 code 가 바로 그 함수의\n",
    "return 값을 받는 code 임\n",
    "'''\n",
    "\n",
    "def add(n1, n2):\n",
    "    return n1 + n2\n",
    "\n",
    "result = add(11, 22)\n",
    "print(result)"
   ]
  },
  {
   "cell_type": "code",
   "execution_count": 5,
   "metadata": {},
   "outputs": [
    {
     "data": {
      "text/plain": [
       "55"
      ]
     },
     "execution_count": 5,
     "metadata": {},
     "output_type": "execute_result"
    }
   ],
   "source": [
    "number = 1\n",
    "\n",
    "def outer():\n",
    "    n1 = 11\n",
    "    n2 = 22\n",
    "    n3 = 33\n",
    "    def inner(num):\n",
    "        return n1 + n2 + num\n",
    "    return inner\n",
    "        \n",
    "outer()(22)"
   ]
  },
  {
   "cell_type": "code",
   "execution_count": 6,
   "metadata": {},
   "outputs": [
    {
     "data": {
      "text/plain": [
       "77"
      ]
     },
     "execution_count": 6,
     "metadata": {},
     "output_type": "execute_result"
    }
   ],
   "source": [
    "number = 1\n",
    "\n",
    "def outer():\n",
    "    n1 = 11\n",
    "    n2 = 22\n",
    "    n3 = 33\n",
    "    def inner(num):\n",
    "        return n1 + n2 + num\n",
    "    return inner(44)\n",
    "        \n",
    "outer()"
   ]
  },
  {
   "cell_type": "code",
   "execution_count": 7,
   "metadata": {},
   "outputs": [
    {
     "data": {
      "text/plain": [
       "55"
      ]
     },
     "execution_count": 7,
     "metadata": {},
     "output_type": "execute_result"
    }
   ],
   "source": [
    "number = 1\n",
    "\n",
    "def outer():\n",
    "    n1 = 11\n",
    "    n2 = 22\n",
    "    n3 = 33\n",
    "    def inner(num):\n",
    "        return n1 + n2 + num\n",
    "    return inner\n",
    "        \n",
    "outer()(22)"
   ]
  },
  {
   "cell_type": "code",
   "execution_count": 8,
   "metadata": {},
   "outputs": [
    {
     "name": "stdout",
     "output_type": "stream",
     "text": [
      "35\n",
      "35\n"
     ]
    }
   ],
   "source": [
    "def calc():\n",
    "    n1 = 3\n",
    "    n2 = 5\n",
    "    def multi_add(n3):\n",
    "        return n1 * n3 + n2\n",
    "    return multi_add\n",
    "\n",
    "print(calc()(10))\n",
    "\n",
    "inner_function = calc()\n",
    "print(inner_function(10))"
   ]
  },
  {
   "cell_type": "code",
   "execution_count": 9,
   "metadata": {},
   "outputs": [
    {
     "data": {
      "text/plain": [
       "35"
      ]
     },
     "execution_count": 9,
     "metadata": {},
     "output_type": "execute_result"
    }
   ],
   "source": [
    "def calc2():\n",
    "    n1 = 3\n",
    "    n2 = 5\n",
    "    return lambda n3 : n1 * n3 + n2\n",
    "\n",
    "calc2()(10)"
   ]
  }
 ],
 "metadata": {
  "interpreter": {
   "hash": "949c5d161ae06a9191be236957b0dfe2172f0f0097fbf05f4df159099ee18a3c"
  },
  "kernelspec": {
   "display_name": "Python 3.8.5 64-bit ('tjoeun')",
   "language": "python",
   "name": "python3"
  },
  "language_info": {
   "codemirror_mode": {
    "name": "ipython",
    "version": 3
   },
   "file_extension": ".py",
   "mimetype": "text/x-python",
   "name": "python",
   "nbconvert_exporter": "python",
   "pygments_lexer": "ipython3",
   "version": "3.8.5"
  },
  "orig_nbformat": 4
 },
 "nbformat": 4,
 "nbformat_minor": 2
}
