{
 "cells": [
  {
   "cell_type": "markdown",
   "metadata": {},
   "source": [
    "# filter"
   ]
  },
  {
   "cell_type": "code",
   "execution_count": 1,
   "metadata": {},
   "outputs": [
    {
     "name": "stdout",
     "output_type": "stream",
     "text": [
      "[8, 6, 9]\n",
      "[8, 6, 9]\n"
     ]
    }
   ],
   "source": [
    "'''\n",
    "filter() : iterable type data 에서 특정 조건에 맞는 요소만 가져옴\n",
    "\n",
    "# list_nums 의 요소에 있는 값 중에서\n",
    "# 5 보다 크고 10 보다 작은 수만 추출해서\n",
    "# 리스트로 생성하세요\n",
    "'''\n",
    "\n",
    "# 1) 일반함수 사용하기\n",
    "# return 값이 bool type (True, False)\n",
    "\n",
    "list_nums = [8, 3, 2, 10, 15, 6, 1, 9, 0, 12]\n",
    "\n",
    "def filtering1(num):\n",
    "    # return 5 < num and num < 10\n",
    "    return 5 < num < 10\n",
    "\n",
    "result = list(filter(filtering1, list_nums))\n",
    "print(result)\n",
    "\n",
    "# 2) lambda 식 사용하기\n",
    "result = list(filter(lambda n : 5 < n < 10, list_nums))\n",
    "print(result)"
   ]
  },
  {
   "cell_type": "code",
   "execution_count": 2,
   "metadata": {},
   "outputs": [
    {
     "name": "stdout",
     "output_type": "stream",
     "text": [
      "[False, False, True, False, False, True, False, False, True, False]\n",
      "[3, 6, 9]\n",
      "[3, 6, 9]\n"
     ]
    }
   ],
   "source": [
    "'''\n",
    "list_nums 중에서 3의 배수만 추출해서\n",
    "list로 생성하세요\n",
    "filter() 함수 사용하기\n",
    "1) 일반함수 사용\n",
    "2) lambda 식 사용\n",
    "'''\n",
    "\n",
    "list_nums = [1, 2, 3, 4, 5, 6, 7, 8, 9, 10]\n",
    "\n",
    "# 1) 일반함수 사용\n",
    "def times3(num):\n",
    "    return num % 3 == 0\n",
    "\n",
    "result = list(map(times3, list_nums))\n",
    "print(result)\n",
    "\n",
    "result = list(filter(times3, list_nums))\n",
    "print(result)\n",
    "\n",
    "# 2) lambda 식 사용\n",
    "result = list(filter(lambda n : n % 3 == 0, list_nums))\n",
    "print(result)"
   ]
  },
  {
   "cell_type": "code",
   "execution_count": 3,
   "metadata": {},
   "outputs": [
    {
     "name": "stdout",
     "output_type": "stream",
     "text": [
      "[1, 4, 9, 16, 25, 36, 49, 64, 81, 100]\n",
      "[1, 4, 9, 16, 25, 36, 49, 64, 81, 100]\n"
     ]
    }
   ],
   "source": [
    "'''\n",
    "power() : 제곱함수\n",
    "'''\n",
    "\n",
    "def power(num):\n",
    "    return num * num\n",
    "\n",
    "list_nums = [1, 2, 3, 4, 5, 6, 7, 8, 9, 10]\n",
    "\n",
    "print(list(map(power, list_nums)))\n",
    "print(list(map(lambda n : n * n, list_nums)))"
   ]
  },
  {
   "cell_type": "code",
   "execution_count": 4,
   "metadata": {},
   "outputs": [
    {
     "name": "stdout",
     "output_type": "stream",
     "text": [
      "[2, 3, 4, 5, 6, 7, 8, 9, 10, 11]\n",
      "[2, 3, 4, 5, 6, 7, 8, 9, 10, 11]\n",
      "[2, 3, 4, 5, 6, 7, 8, 9, 10, 11]\n"
     ]
    }
   ],
   "source": [
    "'''\n",
    "list_nums 의 각 요소에 1을 더한 값으로 \n",
    "이루어진 list 를 생성하고 출력하세요 <-- list_result\n",
    "map() 함수 사용\n",
    "'''\n",
    "\n",
    "list_nums = [1, 2, 3, 4, 5, 6, 7, 8, 9, 10]\n",
    "\n",
    "# 1) for loop\n",
    "list_result = []\n",
    "for num in list_nums:\n",
    "    list_result.append(num + 1)\n",
    "print(list_result)\n",
    "\n",
    "# 2) map()\n",
    "def add1(num):\n",
    "    return num + 1\n",
    "\n",
    "list_result = list(map(add1, list_nums))\n",
    "print(list_result)\n",
    "\n",
    "# 3) lambda\n",
    "list_result = list(map(lambda n : n + 1, list_nums))\n",
    "print(list_result)"
   ]
  },
  {
   "cell_type": "code",
   "execution_count": 5,
   "metadata": {},
   "outputs": [
    {
     "name": "stdout",
     "output_type": "stream",
     "text": [
      "[2, 4, 6, 8, 10]\n",
      "[2, 4, 6, 8, 10]\n",
      "[2, 4, 6, 8, 10]\n"
     ]
    }
   ],
   "source": [
    "'''\n",
    "list_nums 의 요소중 짝수만 추출해서\n",
    "list로 생성하세요\n",
    "filter() 함수 사용\n",
    "\n",
    "1) 일반함수\n",
    "2) lambda 식\n",
    "'''\n",
    "\n",
    "list_nums = [1, 2, 3, 4, 5, 6, 7, 8, 9, 10]\n",
    "\n",
    "# 1) 일반함수\n",
    "def filter1(num):\n",
    "    return num % 2 == 0\n",
    "\n",
    "result = list(filter(filter1, list_nums))\n",
    "print(result)\n",
    "\n",
    "# 2) lambda 식\n",
    "result = list(filter(lambda n : n % 2 == 0, list_nums))\n",
    "print(result)\n",
    "\n",
    "# 3) 리스트 내포 : list comprehesion 으로 해보세요 - 속도는 위 방법들보다 가장 빠르다.\n",
    "result = [n for n in list_nums if n % 2 == 0]\n",
    "print(result)"
   ]
  }
 ],
 "metadata": {
  "interpreter": {
   "hash": "949c5d161ae06a9191be236957b0dfe2172f0f0097fbf05f4df159099ee18a3c"
  },
  "kernelspec": {
   "display_name": "Python 3.8.5 64-bit ('tjoeun')",
   "language": "python",
   "name": "python3"
  },
  "language_info": {
   "codemirror_mode": {
    "name": "ipython",
    "version": 3
   },
   "file_extension": ".py",
   "mimetype": "text/x-python",
   "name": "python",
   "nbconvert_exporter": "python",
   "pygments_lexer": "ipython3",
   "version": "3.8.5"
  },
  "orig_nbformat": 4
 },
 "nbformat": 4,
 "nbformat_minor": 2
}
