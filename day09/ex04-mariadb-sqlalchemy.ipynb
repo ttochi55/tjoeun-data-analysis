{
 "cells": [
  {
   "cell_type": "markdown",
   "metadata": {},
   "source": [
    "# mariadb - sqlalchemy"
   ]
  },
  {
   "cell_type": "code",
   "execution_count": 1,
   "metadata": {},
   "outputs": [],
   "source": [
    "'''\n",
    "312 page\n",
    "\n",
    "csv -> db table\n",
    "  1차 실행 : table 생성 -> 레코드 추가\n",
    "  2차 실행 : 레코드 검색\n",
    "'''\n",
    "\n",
    "import pandas as pd"
   ]
  },
  {
   "cell_type": "code",
   "execution_count": 2,
   "metadata": {},
   "outputs": [],
   "source": [
    "import pymysql\n",
    "\n",
    "config = {\n",
    "    'host' : 'host',\n",
    "    'port' : 3306,\n",
    "    'db' : 'db',\n",
    "    'user' : 'user',\n",
    "    'password' : 'password',\n",
    "    'charset' : 'utf8mb4',\n",
    "    'cursorclass': pymysql.cursors.DictCursor\n",
    "}"
   ]
  },
  {
   "cell_type": "code",
   "execution_count": 3,
   "metadata": {},
   "outputs": [
    {
     "data": {
      "text/html": [
       "<div>\n",
       "<style scoped>\n",
       "    .dataframe tbody tr th:only-of-type {\n",
       "        vertical-align: middle;\n",
       "    }\n",
       "\n",
       "    .dataframe tbody tr th {\n",
       "        vertical-align: top;\n",
       "    }\n",
       "\n",
       "    .dataframe thead th {\n",
       "        text-align: right;\n",
       "    }\n",
       "</style>\n",
       "<table border=\"1\" class=\"dataframe\">\n",
       "  <thead>\n",
       "    <tr style=\"text-align: right;\">\n",
       "      <th></th>\n",
       "      <th>height</th>\n",
       "      <th>weight</th>\n",
       "      <th>label</th>\n",
       "    </tr>\n",
       "  </thead>\n",
       "  <tbody>\n",
       "    <tr>\n",
       "      <th>0</th>\n",
       "      <td>184</td>\n",
       "      <td>61</td>\n",
       "      <td>thin</td>\n",
       "    </tr>\n",
       "    <tr>\n",
       "      <th>1</th>\n",
       "      <td>189</td>\n",
       "      <td>56</td>\n",
       "      <td>thin</td>\n",
       "    </tr>\n",
       "    <tr>\n",
       "      <th>2</th>\n",
       "      <td>183</td>\n",
       "      <td>79</td>\n",
       "      <td>normal</td>\n",
       "    </tr>\n",
       "    <tr>\n",
       "      <th>3</th>\n",
       "      <td>143</td>\n",
       "      <td>40</td>\n",
       "      <td>normal</td>\n",
       "    </tr>\n",
       "    <tr>\n",
       "      <th>4</th>\n",
       "      <td>187</td>\n",
       "      <td>66</td>\n",
       "      <td>normal</td>\n",
       "    </tr>\n",
       "  </tbody>\n",
       "</table>\n",
       "</div>"
      ],
      "text/plain": [
       "   height  weight   label\n",
       "0     184      61    thin\n",
       "1     189      56    thin\n",
       "2     183      79  normal\n",
       "3     143      40  normal\n",
       "4     187      66  normal"
      ]
     },
     "execution_count": 3,
     "metadata": {},
     "output_type": "execute_result"
    }
   ],
   "source": [
    "# csv 파일을 DataFrame 으로 변환함\n",
    "bmi = pd.read_csv('../dataset/data2/bmi.csv')\n",
    "bmi.head()"
   ]
  },
  {
   "cell_type": "code",
   "execution_count": 4,
   "metadata": {},
   "outputs": [],
   "source": [
    "connection = pymysql.connect(**config)\n",
    "\n",
    "with connection:\n",
    "    with connection.cursor() as cursor:\n",
    "        sql = \"\"\"\n",
    "        CREATE TABLE IF NOT EXISTS `bmi_table`(\n",
    "            weight int(20),\n",
    "            height int(20),\n",
    "            label text\n",
    "        )\n",
    "        \"\"\"\n",
    "        cursor.execute(sql)\n",
    "\n",
    "    connection.commit()    "
   ]
  },
  {
   "cell_type": "code",
   "execution_count": 5,
   "metadata": {},
   "outputs": [
    {
     "data": {
      "text/plain": [
       "20000"
      ]
     },
     "execution_count": 5,
     "metadata": {},
     "output_type": "execute_result"
    }
   ],
   "source": [
    "from sqlalchemy import create_engine\n",
    "pymysql.install_as_MySQLdb()\n",
    "\n",
    "url = f\"mysql+mysqldb://{config['user']}:{config['password']}@{config['host']}/{config['db']}\"\n",
    "engine = create_engine(url, encoding='utf-8')\n",
    "\n",
    "bmi.to_sql('bmi_table', con=engine, if_exists='append', index=False)"
   ]
  },
  {
   "cell_type": "code",
   "execution_count": 6,
   "metadata": {},
   "outputs": [
    {
     "name": "stdout",
     "output_type": "stream",
     "text": [
      "{'weight': 61, 'height': 184, 'label': 'thin'}\n",
      "{'weight': 56, 'height': 189, 'label': 'thin'}\n",
      "{'weight': 79, 'height': 183, 'label': 'normal'}\n",
      "{'weight': 40, 'height': 143, 'label': 'normal'}\n",
      "{'weight': 66, 'height': 187, 'label': 'normal'}\n",
      "{'weight': 52, 'height': 161, 'label': 'normal'}\n",
      "{'weight': 54, 'height': 186, 'label': 'thin'}\n",
      "{'weight': 57, 'height': 144, 'label': 'fat'}\n",
      "{'weight': 55, 'height': 184, 'label': 'thin'}\n",
      "{'weight': 76, 'height': 165, 'label': 'fat'}\n"
     ]
    }
   ],
   "source": [
    "connection = pymysql.connect(**config)\n",
    "\n",
    "with connection:\n",
    "    with connection.cursor() as cursor:\n",
    "        sql = \"\"\"\n",
    "        SELECT * FROM `bmi_table` LIMIT 10\n",
    "        \"\"\"\n",
    "        cursor.execute(sql)\n",
    "        result = cursor.fetchall()\n",
    "        \n",
    "        for row in result:\n",
    "            print(row)\n",
    "\n",
    "    connection.commit()    "
   ]
  },
  {
   "cell_type": "code",
   "execution_count": 7,
   "metadata": {},
   "outputs": [],
   "source": [
    "connection = pymysql.connect(**config)\n",
    "\n",
    "with connection:\n",
    "    with connection.cursor() as cursor:\n",
    "        sql = \"\"\"\n",
    "        DROP TABLE IF EXISTS `bmi_table`\n",
    "        \"\"\"\n",
    "        cursor.execute(sql)\n",
    "\n",
    "    connection.commit()    "
   ]
  }
 ],
 "metadata": {
  "interpreter": {
   "hash": "949c5d161ae06a9191be236957b0dfe2172f0f0097fbf05f4df159099ee18a3c"
  },
  "kernelspec": {
   "display_name": "Python 3.8.5 64-bit ('tjoeun')",
   "language": "python",
   "name": "python3"
  },
  "language_info": {
   "codemirror_mode": {
    "name": "ipython",
    "version": 3
   },
   "file_extension": ".py",
   "mimetype": "text/x-python",
   "name": "python",
   "nbconvert_exporter": "python",
   "pygments_lexer": "ipython3",
   "version": "3.8.5"
  },
  "orig_nbformat": 4
 },
 "nbformat": 4,
 "nbformat_minor": 2
}
