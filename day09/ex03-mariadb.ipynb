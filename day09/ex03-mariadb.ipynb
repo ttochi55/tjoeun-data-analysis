{
 "cells": [
  {
   "cell_type": "markdown",
   "metadata": {},
   "source": [
    "# mariadb"
   ]
  },
  {
   "cell_type": "code",
   "execution_count": 1,
   "metadata": {},
   "outputs": [
    {
     "data": {
      "text/plain": [
       "'1.0.2'"
      ]
     },
     "execution_count": 1,
     "metadata": {},
     "output_type": "execute_result"
    }
   ],
   "source": [
    "import pymysql\n",
    "\n",
    "pymysql.__version__"
   ]
  },
  {
   "cell_type": "code",
   "execution_count": 2,
   "metadata": {},
   "outputs": [],
   "source": [
    "'''\n",
    "CRUD\n",
    "- create, read, update, delete\n",
    "'''\n",
    "config = {\n",
    "    'host' : 'host',\n",
    "    'port' : 3306,\n",
    "    'db' : 'db',\n",
    "    'user' : 'user',\n",
    "    'password' : 'password',\n",
    "    'charset' : 'utf8mb4',\n",
    "    'cursorclass': pymysql.cursors.DictCursor\n",
    "}"
   ]
  },
  {
   "cell_type": "code",
   "execution_count": 3,
   "metadata": {},
   "outputs": [],
   "source": [
    "connection = pymysql.connect(**config)\n",
    "\n",
    "with connection:\n",
    "    with connection.cursor() as cursor:\n",
    "        sql = \"\"\"\n",
    "        CREATE TABLE IF NOT EXISTS `goods`(\n",
    "            code int primary key,\n",
    "            name varchar(20) not null,\n",
    "            su int,\n",
    "            dan int\n",
    "        )\n",
    "        \"\"\"\n",
    "        cursor.execute(sql)\n",
    "\n",
    "    connection.commit()    "
   ]
  },
  {
   "cell_type": "code",
   "execution_count": 4,
   "metadata": {},
   "outputs": [],
   "source": [
    "connection = pymysql.connect(**config)\n",
    "\n",
    "with connection:\n",
    "    with connection.cursor() as cursor:\n",
    "        \n",
    "        cursor.execute(\"INSERT IGNORE INTO goods VALUES(1, '낸장고', 2, 400000)\")\n",
    "        cursor.execute(\"INSERT IGNORE INTO goods VALUES(2, '세탁기', 3, 350000)\")\n",
    "        cursor.execute(\"INSERT IGNORE INTO goods VALUES(3, '전자레인지', 2, 35000)\")\n",
    "        cursor.execute(\"INSERT IGNORE INTO goods VALUES(4, 'HDTV', 3, 150000)\")\n",
    "\n",
    "    connection.commit()"
   ]
  },
  {
   "cell_type": "code",
   "execution_count": 5,
   "metadata": {},
   "outputs": [
    {
     "name": "stdout",
     "output_type": "stream",
     "text": [
      "{'code': 1, 'name': '낸장고', 'su': 2, 'dan': 400000}\n",
      "{'code': 2, 'name': '세탁기', 'su': 3, 'dan': 350000}\n",
      "{'code': 3, 'name': '전자레인지', 'su': 2, 'dan': 35000}\n",
      "{'code': 4, 'name': 'HDTV', 'su': 3, 'dan': 150000}\n"
     ]
    }
   ],
   "source": [
    "connection = pymysql.connect(**config)\n",
    "\n",
    "with connection:\n",
    "    with connection.cursor() as cursor:\n",
    "        \n",
    "        sql = \"SELECT * FROM `goods`\"\n",
    "        cursor.execute(sql)\n",
    "        result = cursor.fetchall()\n",
    "        \n",
    "        for row in result:\n",
    "            print(row)"
   ]
  },
  {
   "cell_type": "code",
   "execution_count": 6,
   "metadata": {},
   "outputs": [],
   "source": [
    "connection = pymysql.connect(**config)\n",
    "\n",
    "with connection:\n",
    "    with connection.cursor() as cursor:\n",
    "        \n",
    "        sql = \"DROP TABLE IF EXISTS `goods`\"\n",
    "        cursor.execute(sql)\n",
    "        cursor.close()\n",
    "\n",
    "    connection.commit()"
   ]
  }
 ],
 "metadata": {
  "interpreter": {
   "hash": "949c5d161ae06a9191be236957b0dfe2172f0f0097fbf05f4df159099ee18a3c"
  },
  "kernelspec": {
   "display_name": "Python 3.8.5 64-bit ('tjoeun')",
   "language": "python",
   "name": "python3"
  },
  "language_info": {
   "codemirror_mode": {
    "name": "ipython",
    "version": 3
   },
   "file_extension": ".py",
   "mimetype": "text/x-python",
   "name": "python",
   "nbconvert_exporter": "python",
   "pygments_lexer": "ipython3",
   "version": "3.8.5"
  },
  "orig_nbformat": 4
 },
 "nbformat": 4,
 "nbformat_minor": 2
}
