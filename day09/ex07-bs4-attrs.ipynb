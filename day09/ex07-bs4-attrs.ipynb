{
 "cells": [
  {
   "cell_type": "markdown",
   "metadata": {},
   "source": [
    "# bs4 - attrs"
   ]
  },
  {
   "cell_type": "code",
   "execution_count": 1,
   "metadata": {},
   "outputs": [],
   "source": [
    "'''\n",
    "1. tag 이름으로 찾기\n",
    "2. find('tag') 함수 찾기\n",
    "'''\n",
    "\n",
    "from bs4 import BeautifulSoup\n",
    "\n",
    "# 1. 로컬 서버 파일 읽기\n",
    "file = open('../dataset/data2/html02.html', mode='r', encoding='utf-8')\n",
    "text = file.read()\n",
    "\n",
    "# print(text)"
   ]
  },
  {
   "cell_type": "code",
   "execution_count": 2,
   "metadata": {},
   "outputs": [],
   "source": [
    "# 2. html 파싱\n",
    "html = BeautifulSoup(text, 'html.parser')\n",
    "\n",
    "# print(html)"
   ]
  },
  {
   "cell_type": "code",
   "execution_count": 3,
   "metadata": {},
   "outputs": [
    {
     "name": "stdout",
     "output_type": "stream",
     "text": [
      "tag : <a href=\"www.naver.com\">네이버</a>\n",
      "text : 네이버\n",
      "href : www.naver.com\n",
      "\n",
      "tag : <a href=\"http://www.naver.com\">네이버</a>\n",
      "text : 네이버\n",
      "href : http://www.naver.com\n",
      "\n",
      "tag : <a href=\"http://www.naver.com\" target=\"_blank\">네이버 새창으로</a>\n",
      "text : 네이버 새창으로\n",
      "href : http://www.naver.com\n",
      "\n",
      "tag : <a href=\"www.duam.net\">다음</a>\n",
      "text : 다음\n",
      "href : www.duam.net\n",
      "\n",
      "tag : <a href=\"http://www.duam.net\">다음</a>\n",
      "text : 다음\n",
      "href : http://www.duam.net\n",
      "\n"
     ]
    }
   ],
   "source": [
    "# 3. 태그 속성 찾기\n",
    "links = html.find_all('a')\n",
    "\n",
    "for link in links:\n",
    "    print('tag :', link)\n",
    "    print('text :', link.text)\n",
    "    print('href :', link.attrs['href'])\n",
    "    print()"
   ]
  }
 ],
 "metadata": {
  "interpreter": {
   "hash": "949c5d161ae06a9191be236957b0dfe2172f0f0097fbf05f4df159099ee18a3c"
  },
  "kernelspec": {
   "display_name": "Python 3.8.5 64-bit ('tjoeun')",
   "language": "python",
   "name": "python3"
  },
  "language_info": {
   "codemirror_mode": {
    "name": "ipython",
    "version": 3
   },
   "file_extension": ".py",
   "mimetype": "text/x-python",
   "name": "python",
   "nbconvert_exporter": "python",
   "pygments_lexer": "ipython3",
   "version": "3.8.5"
  },
  "orig_nbformat": 4
 },
 "nbformat": 4,
 "nbformat_minor": 2
}
