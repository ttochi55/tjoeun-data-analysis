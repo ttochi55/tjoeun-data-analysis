{
 "cells": [
  {
   "cell_type": "markdown",
   "metadata": {},
   "source": [
    "# pandas"
   ]
  },
  {
   "cell_type": "code",
   "execution_count": 1,
   "metadata": {},
   "outputs": [],
   "source": [
    "'''\n",
    "240 page\n",
    "'''\n",
    "\n",
    "import pandas as pd\n",
    "import os"
   ]
  },
  {
   "cell_type": "code",
   "execution_count": 2,
   "metadata": {},
   "outputs": [
    {
     "name": "stdout",
     "output_type": "stream",
     "text": [
      "현재 디렉토리(폴더) : /Users/junhyun/Workspace/w3labkr.github.com/academy-tjoeun-data-analysis/day09\n"
     ]
    }
   ],
   "source": [
    "print('현재 디렉토리(폴더) :', os.getcwd())"
   ]
  },
  {
   "cell_type": "code",
   "execution_count": 3,
   "metadata": {},
   "outputs": [
    {
     "data": {
      "text/html": [
       "<div>\n",
       "<style scoped>\n",
       "    .dataframe tbody tr th:only-of-type {\n",
       "        vertical-align: middle;\n",
       "    }\n",
       "\n",
       "    .dataframe tbody tr th {\n",
       "        vertical-align: top;\n",
       "    }\n",
       "\n",
       "    .dataframe thead th {\n",
       "        text-align: right;\n",
       "    }\n",
       "</style>\n",
       "<table border=\"1\" class=\"dataframe\">\n",
       "  <thead>\n",
       "    <tr style=\"text-align: right;\">\n",
       "      <th></th>\n",
       "      <th>no</th>\n",
       "      <th>kor</th>\n",
       "      <th>eng</th>\n",
       "      <th>mat</th>\n",
       "      <th>dept</th>\n",
       "    </tr>\n",
       "  </thead>\n",
       "  <tbody>\n",
       "    <tr>\n",
       "      <th>0</th>\n",
       "      <td>101</td>\n",
       "      <td>88</td>\n",
       "      <td>85</td>\n",
       "      <td>86</td>\n",
       "      <td>101</td>\n",
       "    </tr>\n",
       "    <tr>\n",
       "      <th>1</th>\n",
       "      <td>102</td>\n",
       "      <td>70</td>\n",
       "      <td>90</td>\n",
       "      <td>92</td>\n",
       "      <td>101</td>\n",
       "    </tr>\n",
       "    <tr>\n",
       "      <th>2</th>\n",
       "      <td>103</td>\n",
       "      <td>90</td>\n",
       "      <td>45</td>\n",
       "      <td>55</td>\n",
       "      <td>101</td>\n",
       "    </tr>\n",
       "    <tr>\n",
       "      <th>3</th>\n",
       "      <td>104</td>\n",
       "      <td>55</td>\n",
       "      <td>52</td>\n",
       "      <td>74</td>\n",
       "      <td>102</td>\n",
       "    </tr>\n",
       "    <tr>\n",
       "      <th>4</th>\n",
       "      <td>105</td>\n",
       "      <td>65</td>\n",
       "      <td>85</td>\n",
       "      <td>96</td>\n",
       "      <td>102</td>\n",
       "    </tr>\n",
       "  </tbody>\n",
       "</table>\n",
       "</div>"
      ],
      "text/plain": [
       "    no  kor  eng  mat  dept\n",
       "0  101   88   85   86   101\n",
       "1  102   70   90   92   101\n",
       "2  103   90   45   55   101\n",
       "3  104   55   52   74   102\n",
       "4  105   65   85   96   102"
      ]
     },
     "execution_count": 3,
     "metadata": {},
     "output_type": "execute_result"
    }
   ],
   "source": [
    "# csv 파일에 저장된 data로 DataFrame 객체를 생성함\n",
    "score = pd.read_csv('../dataset/data/score.csv')\n",
    "score.head()"
   ]
  },
  {
   "cell_type": "code",
   "execution_count": 4,
   "metadata": {},
   "outputs": [],
   "source": [
    "# 컬럼 추출하기 <-- DataFrame 에서 컬럼 하나만 추출함 <-- Series\n",
    "kor = score.kor\n",
    "eng = score.eng\n",
    "mat = score.mat\n",
    "dept = score.dept"
   ]
  },
  {
   "cell_type": "code",
   "execution_count": 5,
   "metadata": {},
   "outputs": [
    {
     "data": {
      "text/plain": [
       "0    88\n",
       "1    70\n",
       "2    90\n",
       "3    55\n",
       "4    65\n",
       "Name: kor, dtype: int64"
      ]
     },
     "execution_count": 5,
     "metadata": {},
     "output_type": "execute_result"
    }
   ],
   "source": [
    "kor.head()"
   ]
  },
  {
   "cell_type": "code",
   "execution_count": 6,
   "metadata": {},
   "outputs": [],
   "source": [
    "kor = score['kor']\n",
    "eng = score['eng']\n",
    "mat = score['mat']\n",
    "dept = score['dept']"
   ]
  },
  {
   "cell_type": "code",
   "execution_count": 7,
   "metadata": {},
   "outputs": [
    {
     "data": {
      "text/plain": [
       "0    88\n",
       "1    70\n",
       "2    90\n",
       "3    55\n",
       "4    65\n",
       "Name: kor, dtype: int64"
      ]
     },
     "execution_count": 7,
     "metadata": {},
     "output_type": "execute_result"
    }
   ],
   "source": [
    "kor.head()"
   ]
  },
  {
   "cell_type": "code",
   "execution_count": 8,
   "metadata": {},
   "outputs": [
    {
     "data": {
      "text/html": [
       "<div>\n",
       "<style scoped>\n",
       "    .dataframe tbody tr th:only-of-type {\n",
       "        vertical-align: middle;\n",
       "    }\n",
       "\n",
       "    .dataframe tbody tr th {\n",
       "        vertical-align: top;\n",
       "    }\n",
       "\n",
       "    .dataframe thead th {\n",
       "        text-align: right;\n",
       "    }\n",
       "</style>\n",
       "<table border=\"1\" class=\"dataframe\">\n",
       "  <thead>\n",
       "    <tr style=\"text-align: right;\">\n",
       "      <th></th>\n",
       "      <th>no</th>\n",
       "      <th>kor</th>\n",
       "      <th>eng</th>\n",
       "      <th>mat</th>\n",
       "      <th>dept</th>\n",
       "    </tr>\n",
       "  </thead>\n",
       "  <tbody>\n",
       "    <tr>\n",
       "      <th>count</th>\n",
       "      <td>15.000000</td>\n",
       "      <td>15.000000</td>\n",
       "      <td>15.000000</td>\n",
       "      <td>15.000000</td>\n",
       "      <td>15.000000</td>\n",
       "    </tr>\n",
       "    <tr>\n",
       "      <th>mean</th>\n",
       "      <td>108.000000</td>\n",
       "      <td>71.400000</td>\n",
       "      <td>67.933333</td>\n",
       "      <td>71.333333</td>\n",
       "      <td>102.000000</td>\n",
       "    </tr>\n",
       "    <tr>\n",
       "      <th>std</th>\n",
       "      <td>4.472136</td>\n",
       "      <td>16.361104</td>\n",
       "      <td>15.957384</td>\n",
       "      <td>17.215718</td>\n",
       "      <td>0.845154</td>\n",
       "    </tr>\n",
       "    <tr>\n",
       "      <th>min</th>\n",
       "      <td>101.000000</td>\n",
       "      <td>40.000000</td>\n",
       "      <td>45.000000</td>\n",
       "      <td>41.000000</td>\n",
       "      <td>101.000000</td>\n",
       "    </tr>\n",
       "    <tr>\n",
       "      <th>25%</th>\n",
       "      <td>104.500000</td>\n",
       "      <td>59.000000</td>\n",
       "      <td>53.500000</td>\n",
       "      <td>59.000000</td>\n",
       "      <td>101.000000</td>\n",
       "    </tr>\n",
       "    <tr>\n",
       "      <th>50%</th>\n",
       "      <td>108.000000</td>\n",
       "      <td>75.000000</td>\n",
       "      <td>66.000000</td>\n",
       "      <td>75.000000</td>\n",
       "      <td>102.000000</td>\n",
       "    </tr>\n",
       "    <tr>\n",
       "      <th>75%</th>\n",
       "      <td>111.500000</td>\n",
       "      <td>85.000000</td>\n",
       "      <td>81.500000</td>\n",
       "      <td>85.000000</td>\n",
       "      <td>103.000000</td>\n",
       "    </tr>\n",
       "    <tr>\n",
       "      <th>max</th>\n",
       "      <td>115.000000</td>\n",
       "      <td>95.000000</td>\n",
       "      <td>90.000000</td>\n",
       "      <td>96.000000</td>\n",
       "      <td>103.000000</td>\n",
       "    </tr>\n",
       "  </tbody>\n",
       "</table>\n",
       "</div>"
      ],
      "text/plain": [
       "               no        kor        eng        mat        dept\n",
       "count   15.000000  15.000000  15.000000  15.000000   15.000000\n",
       "mean   108.000000  71.400000  67.933333  71.333333  102.000000\n",
       "std      4.472136  16.361104  15.957384  17.215718    0.845154\n",
       "min    101.000000  40.000000  45.000000  41.000000  101.000000\n",
       "25%    104.500000  59.000000  53.500000  59.000000  101.000000\n",
       "50%    108.000000  75.000000  66.000000  75.000000  102.000000\n",
       "75%    111.500000  85.000000  81.500000  85.000000  103.000000\n",
       "max    115.000000  95.000000  90.000000  96.000000  103.000000"
      ]
     },
     "execution_count": 8,
     "metadata": {},
     "output_type": "execute_result"
    }
   ],
   "source": [
    "score.describe()"
   ]
  },
  {
   "cell_type": "code",
   "execution_count": 9,
   "metadata": {},
   "outputs": [
    {
     "name": "stdout",
     "output_type": "stream",
     "text": [
      "국어 최고 점수 : 95\n",
      "영어 최고 점수 : 90\n",
      "수학 최고 점수 : 96\n"
     ]
    }
   ],
   "source": [
    "# 과목별 최고 점수\n",
    "print('국어 최고 점수 :', max(kor))\n",
    "print('영어 최고 점수 :', max(eng))\n",
    "print('수학 최고 점수 :', max(mat))"
   ]
  },
  {
   "cell_type": "code",
   "execution_count": 10,
   "metadata": {},
   "outputs": [
    {
     "name": "stdout",
     "output_type": "stream",
     "text": [
      "국어 최고 점수 : 40\n",
      "영어 최고 점수 : 45\n",
      "수학 최고 점수 : 41\n"
     ]
    }
   ],
   "source": [
    "# 과목별 최저 점수\n",
    "print('국어 최고 점수 :', min(kor))\n",
    "print('영어 최고 점수 :', min(eng))\n",
    "print('수학 최고 점수 :', min(mat))"
   ]
  },
  {
   "cell_type": "code",
   "execution_count": 11,
   "metadata": {},
   "outputs": [
    {
     "name": "stdout",
     "output_type": "stream",
     "text": [
      "국어 최고 점수 : 71.4\n",
      "영어 최고 점수 : 67.93333333333334\n",
      "수학 최고 점수 : 71.33333333333333\n"
     ]
    }
   ],
   "source": [
    "from statistics import mean\n",
    "\n",
    "# 과목별 평균 점수\n",
    "print('국어 최고 점수 :', mean(kor))\n",
    "print('영어 최고 점수 :', mean(eng))\n",
    "print('수학 최고 점수 :', mean(mat))"
   ]
  },
  {
   "cell_type": "code",
   "execution_count": 12,
   "metadata": {},
   "outputs": [
    {
     "name": "stdout",
     "output_type": "stream",
     "text": [
      "국어 최고 점수 : 71.4\n",
      "영어 최고 점수 : 67.933\n",
      "수학 최고 점수 : 71.333\n"
     ]
    }
   ],
   "source": [
    "# 과목별 평균 점수 : 소수점 셋째 자리까지만 출력하기\n",
    "print('국어 최고 점수 :', round(mean(kor), 3))\n",
    "print('영어 최고 점수 :', round(mean(eng), 3))\n",
    "print('수학 최고 점수 :', round(mean(mat), 3))"
   ]
  },
  {
   "cell_type": "code",
   "execution_count": 13,
   "metadata": {},
   "outputs": [
    {
     "data": {
      "text/plain": [
       "0    101\n",
       "1    101\n",
       "2    101\n",
       "3    102\n",
       "4    102\n",
       "Name: dept, dtype: int64"
      ]
     },
     "execution_count": 13,
     "metadata": {},
     "output_type": "execute_result"
    }
   ],
   "source": [
    "dept.head()"
   ]
  },
  {
   "cell_type": "code",
   "execution_count": 14,
   "metadata": {},
   "outputs": [
    {
     "data": {
      "text/plain": [
       "{101: 5, 102: 5, 103: 5}"
      ]
     },
     "execution_count": 14,
     "metadata": {},
     "output_type": "execute_result"
    }
   ],
   "source": [
    "# 학과별 인원수 파악히기 - dept 의  빈도수\n",
    "# 비어있는 dictionary\n",
    "dept_count = {}\n",
    "\n",
    "for key in dept:\n",
    "    dept_count[key] = dept_count.get(key, 0) + 1\n",
    "    \n",
    "dept_count"
   ]
  },
  {
   "cell_type": "code",
   "execution_count": 15,
   "metadata": {},
   "outputs": [],
   "source": [
    "'''\n",
    "242 page\n",
    "'''\n",
    "\n",
    "import pandas as pd"
   ]
  },
  {
   "cell_type": "code",
   "execution_count": 16,
   "metadata": {},
   "outputs": [
    {
     "data": {
      "text/plain": [
       "<pandas.io.excel._base.ExcelFile at 0x11003f1f0>"
      ]
     },
     "execution_count": 16,
     "metadata": {},
     "output_type": "execute_result"
    }
   ],
   "source": [
    "# (1) 엑셀 파일 읽기\n",
    "sam = pd.ExcelFile('../dataset/data/sam_kospi.xlsx')\n",
    "sam"
   ]
  },
  {
   "cell_type": "code",
   "execution_count": 17,
   "metadata": {},
   "outputs": [
    {
     "name": "stdout",
     "output_type": "stream",
     "text": [
      "<class 'pandas.core.frame.DataFrame'>\n"
     ]
    },
    {
     "data": {
      "text/html": [
       "<div>\n",
       "<style scoped>\n",
       "    .dataframe tbody tr th:only-of-type {\n",
       "        vertical-align: middle;\n",
       "    }\n",
       "\n",
       "    .dataframe tbody tr th {\n",
       "        vertical-align: top;\n",
       "    }\n",
       "\n",
       "    .dataframe thead th {\n",
       "        text-align: right;\n",
       "    }\n",
       "</style>\n",
       "<table border=\"1\" class=\"dataframe\">\n",
       "  <thead>\n",
       "    <tr style=\"text-align: right;\">\n",
       "      <th></th>\n",
       "      <th>Date</th>\n",
       "      <th>Open</th>\n",
       "      <th>High</th>\n",
       "      <th>Low</th>\n",
       "      <th>Close</th>\n",
       "      <th>Volume</th>\n",
       "    </tr>\n",
       "  </thead>\n",
       "  <tbody>\n",
       "    <tr>\n",
       "      <th>0</th>\n",
       "      <td>2015-10-30</td>\n",
       "      <td>1345000</td>\n",
       "      <td>1390000</td>\n",
       "      <td>1341000</td>\n",
       "      <td>1372000</td>\n",
       "      <td>498776</td>\n",
       "    </tr>\n",
       "    <tr>\n",
       "      <th>1</th>\n",
       "      <td>2015-10-29</td>\n",
       "      <td>1330000</td>\n",
       "      <td>1392000</td>\n",
       "      <td>1324000</td>\n",
       "      <td>1325000</td>\n",
       "      <td>622336</td>\n",
       "    </tr>\n",
       "    <tr>\n",
       "      <th>2</th>\n",
       "      <td>2015-10-28</td>\n",
       "      <td>1294000</td>\n",
       "      <td>1308000</td>\n",
       "      <td>1291000</td>\n",
       "      <td>1308000</td>\n",
       "      <td>257374</td>\n",
       "    </tr>\n",
       "    <tr>\n",
       "      <th>3</th>\n",
       "      <td>2015-10-27</td>\n",
       "      <td>1282000</td>\n",
       "      <td>1299000</td>\n",
       "      <td>1281000</td>\n",
       "      <td>1298000</td>\n",
       "      <td>131144</td>\n",
       "    </tr>\n",
       "    <tr>\n",
       "      <th>4</th>\n",
       "      <td>2015-10-26</td>\n",
       "      <td>1298000</td>\n",
       "      <td>1298000</td>\n",
       "      <td>1272000</td>\n",
       "      <td>1292000</td>\n",
       "      <td>151996</td>\n",
       "    </tr>\n",
       "  </tbody>\n",
       "</table>\n",
       "</div>"
      ],
      "text/plain": [
       "        Date     Open     High      Low    Close  Volume\n",
       "0 2015-10-30  1345000  1390000  1341000  1372000  498776\n",
       "1 2015-10-29  1330000  1392000  1324000  1325000  622336\n",
       "2 2015-10-28  1294000  1308000  1291000  1308000  257374\n",
       "3 2015-10-27  1282000  1299000  1281000  1298000  131144\n",
       "4 2015-10-26  1298000  1298000  1272000  1292000  151996"
      ]
     },
     "execution_count": 17,
     "metadata": {},
     "output_type": "execute_result"
    }
   ],
   "source": [
    "# (2) ExcelFile 객체를 DataFrame 객체로 변환하기\n",
    "#     ExcelFile 클래스의 parse() 메소드를 호출함\n",
    "kospi = sam.parse('sam_kospi')\n",
    "\n",
    "print(type(kospi))\n",
    "kospi.head()"
   ]
  },
  {
   "cell_type": "code",
   "execution_count": 18,
   "metadata": {},
   "outputs": [
    {
     "name": "stdout",
     "output_type": "stream",
     "text": [
      "<class 'pandas.core.frame.DataFrame'>\n"
     ]
    },
    {
     "data": {
      "text/html": [
       "<div>\n",
       "<style scoped>\n",
       "    .dataframe tbody tr th:only-of-type {\n",
       "        vertical-align: middle;\n",
       "    }\n",
       "\n",
       "    .dataframe tbody tr th {\n",
       "        vertical-align: top;\n",
       "    }\n",
       "\n",
       "    .dataframe thead th {\n",
       "        text-align: right;\n",
       "    }\n",
       "</style>\n",
       "<table border=\"1\" class=\"dataframe\">\n",
       "  <thead>\n",
       "    <tr style=\"text-align: right;\">\n",
       "      <th></th>\n",
       "      <th>Date</th>\n",
       "      <th>Open</th>\n",
       "      <th>High</th>\n",
       "      <th>Low</th>\n",
       "      <th>Close</th>\n",
       "      <th>Volume</th>\n",
       "    </tr>\n",
       "  </thead>\n",
       "  <tbody>\n",
       "    <tr>\n",
       "      <th>0</th>\n",
       "      <td>2015-10-30</td>\n",
       "      <td>1345000</td>\n",
       "      <td>1390000</td>\n",
       "      <td>1341000</td>\n",
       "      <td>1372000</td>\n",
       "      <td>498776</td>\n",
       "    </tr>\n",
       "    <tr>\n",
       "      <th>1</th>\n",
       "      <td>2015-10-29</td>\n",
       "      <td>1330000</td>\n",
       "      <td>1392000</td>\n",
       "      <td>1324000</td>\n",
       "      <td>1325000</td>\n",
       "      <td>622336</td>\n",
       "    </tr>\n",
       "    <tr>\n",
       "      <th>2</th>\n",
       "      <td>2015-10-28</td>\n",
       "      <td>1294000</td>\n",
       "      <td>1308000</td>\n",
       "      <td>1291000</td>\n",
       "      <td>1308000</td>\n",
       "      <td>257374</td>\n",
       "    </tr>\n",
       "    <tr>\n",
       "      <th>3</th>\n",
       "      <td>2015-10-27</td>\n",
       "      <td>1282000</td>\n",
       "      <td>1299000</td>\n",
       "      <td>1281000</td>\n",
       "      <td>1298000</td>\n",
       "      <td>131144</td>\n",
       "    </tr>\n",
       "    <tr>\n",
       "      <th>4</th>\n",
       "      <td>2015-10-26</td>\n",
       "      <td>1298000</td>\n",
       "      <td>1298000</td>\n",
       "      <td>1272000</td>\n",
       "      <td>1292000</td>\n",
       "      <td>151996</td>\n",
       "    </tr>\n",
       "  </tbody>\n",
       "</table>\n",
       "</div>"
      ],
      "text/plain": [
       "        Date     Open     High      Low    Close  Volume\n",
       "0 2015-10-30  1345000  1390000  1341000  1372000  498776\n",
       "1 2015-10-29  1330000  1392000  1324000  1325000  622336\n",
       "2 2015-10-28  1294000  1308000  1291000  1308000  257374\n",
       "3 2015-10-27  1282000  1299000  1281000  1298000  131144\n",
       "4 2015-10-26  1298000  1298000  1272000  1292000  151996"
      ]
     },
     "execution_count": 18,
     "metadata": {},
     "output_type": "execute_result"
    }
   ],
   "source": [
    "kospi = pd.read_excel('../dataset/data/sam_kospi.xlsx')\n",
    "\n",
    "print(type(kospi))\n",
    "kospi.head()"
   ]
  },
  {
   "cell_type": "code",
   "execution_count": 19,
   "metadata": {},
   "outputs": [
    {
     "name": "stdout",
     "output_type": "stream",
     "text": [
      "<class 'pandas.core.frame.DataFrame'>\n",
      "RangeIndex: 247 entries, 0 to 246\n",
      "Data columns (total 6 columns):\n",
      " #   Column  Non-Null Count  Dtype         \n",
      "---  ------  --------------  -----         \n",
      " 0   Date    247 non-null    datetime64[ns]\n",
      " 1   Open    247 non-null    int64         \n",
      " 2   High    247 non-null    int64         \n",
      " 3   Low     247 non-null    int64         \n",
      " 4   Close   247 non-null    int64         \n",
      " 5   Volume  247 non-null    int64         \n",
      "dtypes: datetime64[ns](1), int64(5)\n",
      "memory usage: 11.7 KB\n"
     ]
    }
   ],
   "source": [
    "kospi.info()"
   ]
  },
  {
   "cell_type": "code",
   "execution_count": 20,
   "metadata": {},
   "outputs": [],
   "source": [
    "# (3) 컬럼값 출력하기\n",
    "high = kospi['High']\n",
    "low = kospi['Low']"
   ]
  },
  {
   "cell_type": "code",
   "execution_count": 21,
   "metadata": {},
   "outputs": [
    {
     "name": "stdout",
     "output_type": "stream",
     "text": [
      "고가 평균 금액 : 1,307,947.37 원\n",
      "저가 평균 금액 : 1,280,919.03 원\n"
     ]
    }
   ],
   "source": [
    "# 고가와 저가의 평균 금액 구하기\n",
    "# statistics 모듈에 있는 mean() 함수 사용하기\n",
    "from statistics import mean\n",
    "print('고가 평균 금액 :', format(round(mean(high), 2), ','), '원')\n",
    "print('저가 평균 금액 :', format(round(mean(low), 2), ','), '원')"
   ]
  },
  {
   "cell_type": "code",
   "execution_count": 22,
   "metadata": {},
   "outputs": [
    {
     "name": "stdout",
     "output_type": "stream",
     "text": [
      "고가 평균 금액 : 1,307,947.37 원\n",
      "저가 평균 금액 : 1,280,919.03 원\n"
     ]
    }
   ],
   "source": [
    "# Series 객체에 있는 mean() 메소드 사용하기\n",
    "print('고가 평균 금액 :', format(round(high.mean(), 2), ','), '원')\n",
    "print('저가 평균 금액 :', format(round(low.mean(), 2), ','), '원')"
   ]
  }
 ],
 "metadata": {
  "interpreter": {
   "hash": "949c5d161ae06a9191be236957b0dfe2172f0f0097fbf05f4df159099ee18a3c"
  },
  "kernelspec": {
   "display_name": "Python 3.8.5 64-bit ('tjoeun')",
   "language": "python",
   "name": "python3"
  },
  "language_info": {
   "codemirror_mode": {
    "name": "ipython",
    "version": 3
   },
   "file_extension": ".py",
   "mimetype": "text/x-python",
   "name": "python",
   "nbconvert_exporter": "python",
   "pygments_lexer": "ipython3",
   "version": "3.8.5"
  },
  "orig_nbformat": 4
 },
 "nbformat": 4,
 "nbformat_minor": 2
}
