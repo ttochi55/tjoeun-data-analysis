{
 "cells": [
  {
   "cell_type": "markdown",
   "metadata": {},
   "source": [
    "# bs4 - find(), find_all()"
   ]
  },
  {
   "cell_type": "code",
   "execution_count": 1,
   "metadata": {},
   "outputs": [],
   "source": [
    "'''\n",
    "1. tag 이름으로 찾기\n",
    "2. find('tag') 함수 찾기\n",
    "'''\n",
    "\n",
    "from bs4 import BeautifulSoup\n",
    "\n",
    "# 1. 로컬 서버 파일 읽기\n",
    "file = open('../dataset/data2/html01.html', mode='r', encoding='utf-8')\n",
    "text = file.read()\n",
    "\n",
    "# print(text)"
   ]
  },
  {
   "cell_type": "code",
   "execution_count": 2,
   "metadata": {},
   "outputs": [],
   "source": [
    "# 2. html 파싱\n",
    "html = BeautifulSoup(text, 'html.parser')\n",
    "\n",
    "# print(html)"
   ]
  },
  {
   "cell_type": "code",
   "execution_count": 3,
   "metadata": {},
   "outputs": [
    {
     "name": "stdout",
     "output_type": "stream",
     "text": [
      "h1 : <h1> 시멘틱 태그 ?</h1>\n",
      "h1 :  시멘틱 태그 ?\n"
     ]
    }
   ],
   "source": [
    "# 3. 태그 내용 가져오기\n",
    "\n",
    "# 1) tag 이용\n",
    "h1 = html.html.body.h1 # 계층 접근\n",
    "\n",
    "print('h1 :', h1)\n",
    "print('h1 :', h1.string)"
   ]
  },
  {
   "cell_type": "code",
   "execution_count": 4,
   "metadata": {},
   "outputs": [
    {
     "name": "stdout",
     "output_type": "stream",
     "text": [
      "h2 : <h2> 주요 시멘틱 태그 </h2>\n",
      "h2 :  주요 시멘틱 태그 \n"
     ]
    }
   ],
   "source": [
    "# 2) find() 함수 : 태그 찾기\n",
    "h2 = html.find('h2')\n",
    "print('h2 :', h2)\n",
    "print('h2 :', h2.string)"
   ]
  },
  {
   "cell_type": "code",
   "execution_count": 5,
   "metadata": {},
   "outputs": [
    {
     "name": "stdout",
     "output_type": "stream",
     "text": [
      " header : 문서의 머리말(사이트 소개, 제목, 로그 )\n",
      " nav : 네이게이션(메뉴) \n",
      " section : 웹 문서를 장(chapter)으로 볼 때 절을 구분하는 태그\n",
      " aside : 문서의 보조 내용(광고, 즐겨찾기, 링크) \n",
      " footer : 문서의 꼬리말(작성자, 저작권, 개인정보보호) \n"
     ]
    }
   ],
   "source": [
    "# 3) find_all('tag')\n",
    "lst = html.find_all('li') # list 반환\n",
    "\n",
    "for li in lst:\n",
    "    print(li.string)"
   ]
  }
 ],
 "metadata": {
  "interpreter": {
   "hash": "949c5d161ae06a9191be236957b0dfe2172f0f0097fbf05f4df159099ee18a3c"
  },
  "kernelspec": {
   "display_name": "Python 3.8.5 64-bit ('tjoeun')",
   "language": "python",
   "name": "python3"
  },
  "language_info": {
   "codemirror_mode": {
    "name": "ipython",
    "version": 3
   },
   "file_extension": ".py",
   "mimetype": "text/x-python",
   "name": "python",
   "nbconvert_exporter": "python",
   "pygments_lexer": "ipython3",
   "version": "3.8.5"
  },
  "orig_nbformat": 4
 },
 "nbformat": 4,
 "nbformat_minor": 2
}
