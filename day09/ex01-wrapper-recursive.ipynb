{
 "cells": [
  {
   "cell_type": "markdown",
   "metadata": {},
   "source": [
    "# wrapper, recursive"
   ]
  },
  {
   "cell_type": "markdown",
   "metadata": {},
   "source": [
    "## Wrapper"
   ]
  },
  {
   "cell_type": "code",
   "execution_count": 1,
   "metadata": {},
   "outputs": [
    {
     "name": "stdout",
     "output_type": "stream",
     "text": [
      "방가워요!\n",
      "hi ~ 홍길동\n",
      "잘가요!\n"
     ]
    }
   ],
   "source": [
    "'''\n",
    "139 page\n",
    "'''\n",
    "# 래퍼 함수\n",
    "def wrap(func) :\n",
    "    def decorated() :        \n",
    "        print('방가워요!')\n",
    "        func()\n",
    "        print('잘가요!')\n",
    "    return decorated # 클로저 함수\n",
    "\n",
    "# 함수 장식자 적용\n",
    "@wrap\n",
    "def hello() :\n",
    "    print('hi ~', '홍길동')\n",
    "    \n",
    "hello()"
   ]
  },
  {
   "cell_type": "markdown",
   "metadata": {},
   "source": [
    "## Recursive"
   ]
  },
  {
   "cell_type": "code",
   "execution_count": 2,
   "metadata": {},
   "outputs": [
    {
     "name": "stdout",
     "output_type": "stream",
     "text": [
      "n:1 = 1\n",
      "n:5 = 15\n"
     ]
    }
   ],
   "source": [
    "'''\n",
    "142 page\n",
    "'''\n",
    "def Adder(n) :\n",
    "    if n == 1: # n=1 -> exit 조건\n",
    "        return 1\n",
    "    else:\n",
    "        # 재귀호출\n",
    "        result = n + Adder(n - 1)\n",
    "        # 5(first) -> 4(5-1) -> 3(4-1) -> 2(3-1) | [1(2-1)]\n",
    "        '''\n",
    "        1. stack(5, 4, 3, 2)\n",
    "        2. 덧셈 : 1 + [2 + 3 + 4 + 5]\n",
    "        '''\n",
    "        return result\n",
    "    \n",
    "print('n:1 =', Adder(1))\n",
    "print('n:5 =', Adder(5))"
   ]
  }
 ],
 "metadata": {
  "interpreter": {
   "hash": "949c5d161ae06a9191be236957b0dfe2172f0f0097fbf05f4df159099ee18a3c"
  },
  "kernelspec": {
   "display_name": "Python 3.8.5 64-bit ('tjoeun')",
   "language": "python",
   "name": "python3"
  },
  "language_info": {
   "codemirror_mode": {
    "name": "ipython",
    "version": 3
   },
   "file_extension": ".py",
   "mimetype": "text/x-python",
   "name": "python",
   "nbconvert_exporter": "python",
   "pygments_lexer": "ipython3",
   "version": "3.8.5"
  },
  "orig_nbformat": 4
 },
 "nbformat": 4,
 "nbformat_minor": 2
}
