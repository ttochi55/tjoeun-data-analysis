{
 "cells": [
  {
   "cell_type": "markdown",
   "metadata": {},
   "source": [
    "# sqlite3"
   ]
  },
  {
   "cell_type": "code",
   "execution_count": 1,
   "metadata": {},
   "outputs": [
    {
     "name": "stdout",
     "output_type": "stream",
     "text": [
      "3.32.3\n"
     ]
    }
   ],
   "source": [
    "'''\n",
    "289 page\n",
    "\n",
    "sqlite3 - 내장형 DBMS\n",
    "        - 기기 내부에서만 사용 가능함\n",
    "        - 외부 접근이 허용되지 않음\n",
    "'''\n",
    "import sqlite3\n",
    "\n",
    "print(sqlite3.sqlite_version)"
   ]
  },
  {
   "cell_type": "code",
   "execution_count": 2,
   "metadata": {},
   "outputs": [
    {
     "data": {
      "text/plain": [
       "<sqlite3.Cursor at 0x10d32cce0>"
      ]
     },
     "execution_count": 2,
     "metadata": {},
     "output_type": "execute_result"
    }
   ],
   "source": [
    "'''\n",
    "db 연결하기 - Connection 객체 생성하기\n",
    "'''\n",
    "\n",
    "# sqlite3 모듈에 정의되어 있는 connect() 함수를 호출함\n",
    "conn = sqlite3.connect('../dataset/data/sqlite_db')\n",
    "\n",
    "# sql 실행 객체 생성하기\n",
    "cursor = conn.cursor()\n",
    "\n",
    "# table 생성하기\n",
    "sql = \"CREATE TABLE IF NOT EXISTS `test_table`(name text(10), phone text(15), addr text(500))\"\n",
    "    \n",
    "# sql 문 실행하기\n",
    "cursor.execute(sql)"
   ]
  },
  {
   "cell_type": "code",
   "execution_count": 3,
   "metadata": {},
   "outputs": [],
   "source": [
    "# 레코드 추가하기\n",
    "cursor.execute(\"INSERT INTO `test_table` VALUES('이순신', '010-1234-5678', '서울시')\")\n",
    "cursor.execute(\"INSERT INTO `test_table` VALUES('홍길동', '010-5678-1234', '강원도')\")\n",
    "cursor.execute(\"INSERT INTO `test_table` VALUES('임꺽정', '111-2222-3333', '부산시')\")\n",
    "\n",
    "# DML 작업을 최종적으로 DB에 반영함\n",
    "conn.commit()"
   ]
  },
  {
   "cell_type": "code",
   "execution_count": 4,
   "metadata": {},
   "outputs": [
    {
     "name": "stdout",
     "output_type": "stream",
     "text": [
      "이름\t전화번호\t\t주소\n",
      "이순신\t010-1234-5678\t서울시\n",
      "홍길동\t010-5678-1234\t강원도\n",
      "임꺽정\t111-2222-3333\t부산시\n"
     ]
    }
   ],
   "source": [
    "# 레코드 조회하기 : * (모든 컬럼을 의미함)\n",
    "cursor.execute(\"SELECT * FROM `test_table`\")\n",
    "rows = cursor.fetchall()\n",
    "\n",
    "print(\"이름\", \"전화번호\", \"\\t주소\", sep='\\t')\n",
    "\n",
    "for row in rows:\n",
    "    print(row[0], row[1], row[2], sep='\\t')"
   ]
  },
  {
   "cell_type": "code",
   "execution_count": 5,
   "metadata": {},
   "outputs": [],
   "source": [
    "# 레코드 삭제하기\n",
    "cursor.execute(\"DROP TABLE IF EXISTS `test_table`\")\n",
    "\n",
    "# DML 작업을 최종적으로 DB에 반영함\n",
    "conn.commit()"
   ]
  },
  {
   "cell_type": "markdown",
   "metadata": {},
   "source": [
    "## try catch"
   ]
  },
  {
   "cell_type": "code",
   "execution_count": 6,
   "metadata": {},
   "outputs": [],
   "source": [
    "# sqlite3 모듈에 정의되어 있는 connect() 함수를 호출함\n",
    "conn = sqlite3.connect('../dataset/data/sqlite_db')\n",
    "\n",
    "# sql 실행 객체 생성하기\n",
    "cursor = conn.cursor()\n",
    "\n",
    "try :\n",
    "    \n",
    "    # table 생성하기\n",
    "    cursor.execute(\"CREATE TABLE IF NOT EXISTS `test_table`(name text(10), phone text(15), addr text(500))\")\n",
    "        \n",
    "    # DML 작업을 최종적으로 DB에 반영함\n",
    "    conn.commit()\n",
    "    \n",
    "except Exception as e :\n",
    "    print('DB 연결 실패 :', e)\n",
    "    \n",
    "    # DML 작업한 부분 실행 취소\n",
    "    conn.rollback()\n",
    "    \n",
    "finally:\n",
    "    cursor.close()\n",
    "    conn.close()"
   ]
  },
  {
   "cell_type": "code",
   "execution_count": 7,
   "metadata": {},
   "outputs": [],
   "source": [
    "# sqlite3 모듈에 정의되어 있는 connect() 함수를 호출함\n",
    "conn = sqlite3.connect('../dataset/data/sqlite_db')\n",
    "\n",
    "# sql 실행 객체 생성하기\n",
    "cursor = conn.cursor()\n",
    "\n",
    "try :\n",
    "    \n",
    "    # 레코드 추가하기\n",
    "    cursor.execute(\"INSERT INTO `test_table` VALUES('이순신', '010-1234-5678', '서울시')\")\n",
    "    cursor.execute(\"INSERT INTO `test_table` VALUES('홍길동', '010-5678-1234', '강원도')\")\n",
    "    cursor.execute(\"INSERT INTO `test_table` VALUES('임꺽정', '111-2222-3333', '부산시')\")\n",
    "\n",
    "    # DML 작업을 최종적으로 DB에 반영함\n",
    "    conn.commit()\n",
    "    \n",
    "except Exception as e :\n",
    "    print('DB 연결 실패 :', e)\n",
    "    \n",
    "    # DML 작업한 부분 실행 취소\n",
    "    conn.rollback()\n",
    "    \n",
    "finally:\n",
    "    cursor.close()\n",
    "    conn.close()"
   ]
  },
  {
   "cell_type": "code",
   "execution_count": 8,
   "metadata": {},
   "outputs": [
    {
     "name": "stdout",
     "output_type": "stream",
     "text": [
      "이름\t전화번호\t\t주소\n",
      "이순신\t010-1234-5678\t서울시\n",
      "홍길동\t010-5678-1234\t강원도\n",
      "임꺽정\t111-2222-3333\t부산시\n"
     ]
    }
   ],
   "source": [
    "# sqlite3 모듈에 정의되어 있는 connect() 함수를 호출함\n",
    "conn = sqlite3.connect('../dataset/data/sqlite_db')\n",
    "\n",
    "# sql 실행 객체 생성하기\n",
    "cursor = conn.cursor()\n",
    "\n",
    "try :\n",
    "    \n",
    "    # 레코드 조회하기 : * (모든 컬럼을 의미함)\n",
    "    cursor.execute(\"SELECT * FROM `test_table`\")\n",
    "    rows = cursor.fetchall()\n",
    "\n",
    "    print(\"이름\", \"전화번호\", \"\\t주소\", sep='\\t')\n",
    "\n",
    "    for row in rows:\n",
    "        print(row[0], row[1], row[2], sep='\\t')\n",
    "        \n",
    "except Exception as e :\n",
    "    print('DB 연결 실패 :', e)\n",
    "    \n",
    "    # DML 작업한 부분 실행 취소\n",
    "    conn.rollback()\n",
    "    \n",
    "finally:\n",
    "    cursor.close()\n",
    "    conn.close()"
   ]
  },
  {
   "cell_type": "code",
   "execution_count": 9,
   "metadata": {},
   "outputs": [],
   "source": [
    "# sqlite3 모듈에 정의되어 있는 connect() 함수를 호출함\n",
    "conn = sqlite3.connect('../dataset/data/sqlite_db')\n",
    "\n",
    "# sql 실행 객체 생성하기\n",
    "cursor = conn.cursor()\n",
    "\n",
    "try :\n",
    "    \n",
    "    # 레코드 삭제하기\n",
    "    cursor.execute(\"DROP TABLE IF EXISTS `test_table`\")\n",
    "\n",
    "    # DML 작업을 최종적으로 DB에 반영함\n",
    "    conn.commit()\n",
    "    \n",
    "except Exception as e :\n",
    "    print('DB 연결 실패 :', e)\n",
    "    \n",
    "    # DML 작업한 부분 실행 취소\n",
    "    conn.rollback()\n",
    "    \n",
    "finally:\n",
    "    cursor.close()\n",
    "    conn.close()"
   ]
  }
 ],
 "metadata": {
  "interpreter": {
   "hash": "949c5d161ae06a9191be236957b0dfe2172f0f0097fbf05f4df159099ee18a3c"
  },
  "kernelspec": {
   "display_name": "Python 3.8.5 64-bit ('tjoeun')",
   "language": "python",
   "name": "python3"
  },
  "language_info": {
   "codemirror_mode": {
    "name": "ipython",
    "version": 3
   },
   "file_extension": ".py",
   "mimetype": "text/x-python",
   "name": "python",
   "nbconvert_exporter": "python",
   "pygments_lexer": "ipython3",
   "version": "3.8.5"
  },
  "orig_nbformat": 4
 },
 "nbformat": 4,
 "nbformat_minor": 2
}
