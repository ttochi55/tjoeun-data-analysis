{
 "cells": [
  {
   "cell_type": "markdown",
   "metadata": {},
   "source": [
    "# crawling"
   ]
  },
  {
   "cell_type": "code",
   "execution_count": 1,
   "metadata": {},
   "outputs": [
    {
     "name": "stdout",
     "output_type": "stream",
     "text": [
      "source\n"
     ]
    }
   ],
   "source": [
    "# pip install urllib3\n",
    "import urllib.request # 원격 서버 파일 요청\n",
    "\n",
    "# pip install beautifulsoup4\n",
    "from bs4 import BeautifulSoup # html 파싱\n",
    "\n",
    "# 요청할 url\n",
    "url = 'https://www.naver.com/index.html'\n",
    "\n",
    "# 1. 원격 서버 파일 요청\n",
    "res = urllib.request.urlopen(url) # web 문서 get\n",
    "data = res.read() # text 형태로 읽음\n",
    "\n",
    "# 2. source 디코딩\n",
    "src = data.decode('utf-8') # 디코딩\n",
    "\n",
    "print('source')\n",
    "# print(src)"
   ]
  },
  {
   "cell_type": "code",
   "execution_count": 2,
   "metadata": {},
   "outputs": [
    {
     "name": "stdout",
     "output_type": "stream",
     "text": [
      "html 파싱\n"
     ]
    }
   ],
   "source": [
    "# 3. html 파싱\n",
    "html = BeautifulSoup(src, 'html.parser') # html source 파싱\n",
    "\n",
    "print('html 파싱')\n",
    "# print(html)"
   ]
  },
  {
   "cell_type": "code",
   "execution_count": 3,
   "metadata": {},
   "outputs": [
    {
     "name": "stdout",
     "output_type": "stream",
     "text": [
      "a tag : <a href=\"#newsstand\"><span>뉴스스탠드 바로가기</span></a>\n",
      "a tag 내용 : 뉴스스탠드 바로가기\n"
     ]
    }
   ],
   "source": [
    "# 4. 태그 내용\n",
    "a = html.find('a')\n",
    "\n",
    "print('a tag :', a)\n",
    "print('a tag 내용 :', a.text)"
   ]
  }
 ],
 "metadata": {
  "interpreter": {
   "hash": "949c5d161ae06a9191be236957b0dfe2172f0f0097fbf05f4df159099ee18a3c"
  },
  "kernelspec": {
   "display_name": "Python 3.8.5 64-bit ('tjoeun')",
   "language": "python",
   "name": "python3"
  },
  "language_info": {
   "codemirror_mode": {
    "name": "ipython",
    "version": 3
   },
   "file_extension": ".py",
   "mimetype": "text/x-python",
   "name": "python",
   "nbconvert_exporter": "python",
   "pygments_lexer": "ipython3",
   "version": "3.8.5"
  },
  "orig_nbformat": 4
 },
 "nbformat": 4,
 "nbformat_minor": 2
}
