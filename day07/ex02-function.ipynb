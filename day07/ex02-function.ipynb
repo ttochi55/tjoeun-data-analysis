{
 "cells": [
  {
   "cell_type": "markdown",
   "metadata": {},
   "source": [
    "# function"
   ]
  },
  {
   "cell_type": "code",
   "execution_count": 1,
   "metadata": {},
   "outputs": [
    {
     "name": "stdout",
     "output_type": "stream",
     "text": [
      "1300.0 원\n",
      "1300.0 원\n"
     ]
    }
   ],
   "source": [
    "'''\n",
    "현재 가격을 입력 받아서 (매개변수)\n",
    "30% 인상된 가격을 출력하는\n",
    "함수를 정의하고 호출하세요\n",
    "\n",
    "함수이름 : print_30\n",
    "'''\n",
    "\n",
    "def print_30(price):\n",
    "    print(f\"{price * 1.3} 원\")\n",
    "    \n",
    "# price = int(input('현재 가격을 입력하세요 :'))\n",
    "price = 1000\n",
    "print_30(price)\n",
    "\n",
    "def print_30high(price):\n",
    "    return price * 1.3\n",
    "\n",
    "# price = int(input('현재 가격을 입력하세요 :'))\n",
    "price = 1000\n",
    "result = print_30high(price)\n",
    "print(result, '원')\n"
   ]
  },
  {
   "cell_type": "code",
   "execution_count": 2,
   "metadata": {},
   "outputs": [
    {
     "name": "stdout",
     "output_type": "stream",
     "text": [
      "덧셈 : 5\n",
      "뺄셈 : -1\n",
      "곱셈 : 6\n",
      "나눗셈 : 0.6666666666666666\n",
      "------------------------------\n",
      "덧셈 : 5\n",
      "뺄셈 : -1\n",
      "곱셈 : 6\n",
      "나눗셈 : 0.6666666666666666\n"
     ]
    }
   ],
   "source": [
    "'''\n",
    "두 개의 정수를 입력 받아서\n",
    "덧셈, 뺄셈, 곱셈, 나눗셈의\n",
    "1) 결과를 출력하는 함수를 작성하세요\n",
    "    ㄴ return 값이 없는 함수\n",
    "    \n",
    "2) 결과를 반환하는 함수를 작성하세요\n",
    "    ㄴ 반환된 값을 출력하세요\n",
    "        return 값이 있는 함수\n",
    "        \n",
    "1) 과 2) 두 가지 모두 해 보세요\n",
    "\n",
    "함수 이름 : print_multi\n",
    "'''\n",
    "\n",
    "def print_multi(num1, num2):\n",
    "    print('덧셈 :', num1 + num2)\n",
    "    print('뺄셈 :', num1 - num2)\n",
    "    print('곱셈 :', num1 * num2)\n",
    "    print('나눗셈 :', num1 / num2)\n",
    "\n",
    "# num1, num2 = input('정수 두 개를 입력하세요 (공백으로 구분함) :').split()\n",
    "num1, num2 = '2 3'.split()\n",
    "\n",
    "num1 = int(num1)\n",
    "num2 = int(num2)\n",
    "\n",
    "print_multi(num1, num2)\n",
    "print('-' * 30)\n",
    "\n",
    "def print_multi2(num1, num2):\n",
    "    return num1 + num2, num1 - num2, num1 * num2, num1 / num2\n",
    "\n",
    "# num1, num2 = input('정수 두 개를 입력하세요 (공백으로 구분함) :').split()\n",
    "num1, num2 = '2 3'.split()\n",
    "\n",
    "num1 = int(num1)\n",
    "num2 = int(num2)\n",
    "\n",
    "add, substract, multiplelication, division = print_multi2(num1, num2)\n",
    "\n",
    "print('덧셈 :', add)\n",
    "print('뺄셈 :', substract)\n",
    "print('곱셈 :', multiplelication)\n",
    "print('나눗셈 :', division)\n",
    "\n"
   ]
  },
  {
   "cell_type": "code",
   "execution_count": 3,
   "metadata": {},
   "outputs": [
    {
     "name": "stdout",
     "output_type": "stream",
     "text": [
      "olleh\n",
      "olleh\n"
     ]
    }
   ],
   "source": [
    "'''\n",
    "입력된 문자열을 거꾸로 출력하는\n",
    "함수를 작성하고 호출하세요\n",
    "(결과를 출력하세요)\n",
    "[힌트] 슬라이싱 [::-1]\n",
    "\n",
    "함수이름 reverse_str\n",
    "'''\n",
    "\n",
    "def reverse_str(str1):\n",
    "    print(str1[::-1])\n",
    "\n",
    "# str1 = input('문자열을 입력하세요 :')\n",
    "str1 = 'hello'\n",
    "reverse_str(str1)\n",
    "\n",
    "def reverse_str2(str2):\n",
    "    return str2[::-1]\n",
    "\n",
    "# str2 = input('문자열을 입력하세요 :')\n",
    "str2 = 'hello'\n",
    "result = reverse_str2(str2)\n",
    "print(result)"
   ]
  },
  {
   "cell_type": "code",
   "execution_count": 4,
   "metadata": {},
   "outputs": [
    {
     "name": "stdout",
     "output_type": "stream",
     "text": [
      "평균 : 85.67 점\n"
     ]
    }
   ],
   "source": [
    "'''\n",
    "3 명의 학생 성적이 저장된 성적 리스트가 있습니다.\n",
    "학생들의 성적을 입력받아서\n",
    "평균을 반환하는 함수를 작성하고 호출하세요\n",
    "\n",
    "함수이름 : calc_score\n",
    "매개변수에 성적 리스트를 전달해서\n",
    "호출해 주세요\n",
    "'''\n",
    "\n",
    "# def calc_score(scores):\n",
    "#     total = 0\n",
    "#     for score in scores:\n",
    "#         total += score\n",
    "#     average = total / len(scores)\n",
    "#     return average\n",
    "\n",
    "def calc_score(scores):\n",
    "    return sum(scores) / len(scores)\n",
    "\n",
    "scores = [89, 92, 76]\n",
    "result = calc_score(scores)\n",
    "\n",
    "print(f\"평균 : {result:.2f} 점\")"
   ]
  },
  {
   "cell_type": "code",
   "execution_count": 5,
   "metadata": {},
   "outputs": [
    {
     "name": "stdout",
     "output_type": "stream",
     "text": [
      "[4, 6, 8, 10, 14]\n"
     ]
    }
   ],
   "source": [
    "'''\n",
    "숫자들이 저장된 리스트를 입력받아서\n",
    "짝수만 들어있는 리스트를\n",
    "반환하는 함수를 작성하고 호출하세요(출력)\n",
    "'''\n",
    "\n",
    "def even_numbers(list_numbers):\n",
    "    list_evens = []\n",
    "    for number in list_numbers:\n",
    "        if number % 2 == 0 :\n",
    "            list_evens.append(number)\n",
    "    return list_evens\n",
    "\n",
    "list_numbers = [1, 4, 3, 6, 5, 8, 9, 10, 14, 21]\n",
    "result = even_numbers(list_numbers)\n",
    "\n",
    "print(result)"
   ]
  },
  {
   "cell_type": "code",
   "execution_count": 6,
   "metadata": {},
   "outputs": [
    {
     "name": "stdout",
     "output_type": "stream",
     "text": [
      "['이름', '나이', '성별']\n"
     ]
    }
   ],
   "source": [
    "'''\n",
    "학생 한 사람의 정보(이름, 나이, 성별)가 저장된\n",
    "dictionary 를 입력받아서\n",
    "dictionary 의 key 값만 반환하는 함수를 작성하고\n",
    "호출하세요\n",
    "'''\n",
    "\n",
    "dict_info = {\n",
    "    \"이름\": \"홍길동\",\n",
    "    \"나이\": 39,\n",
    "    \"성별\": \"남\",\n",
    "}\n",
    "\n",
    "# def return_key(dictionary):\n",
    "#     list_keys = []\n",
    "#     for key in dictionary:\n",
    "#         list_keys.append(key)\n",
    "#     return list_keys\n",
    "\n",
    "\n",
    "# def return_key(dictionary):\n",
    "#     list_keys = []\n",
    "#     for key in dictionary.keys():\n",
    "#         list_keys.append(key)\n",
    "#     return list_keys\n",
    "\n",
    "def return_key(dictionary):\n",
    "    return list(dictionary.keys())\n",
    "\n",
    "result = return_key(dict_info)\n",
    "print(result)"
   ]
  },
  {
   "cell_type": "code",
   "execution_count": 7,
   "metadata": {},
   "outputs": [
    {
     "name": "stdout",
     "output_type": "stream",
     "text": [
      "['홍길동', 39, '남']\n"
     ]
    }
   ],
   "source": [
    "dict_info = {\n",
    "    \"이름\": \"홍길동\",\n",
    "    \"나이\": 39,\n",
    "    \"성별\": \"남\",\n",
    "}\n",
    "\n",
    "# def return_values(dictionary):\n",
    "#     list_values = []\n",
    "#     for key in dictionary:\n",
    "#         list_values.append(dictionary[key])\n",
    "#     return list_values\n",
    "\n",
    "# def return_values(dictionary):\n",
    "#     list_values = []\n",
    "#     for value in dictionary.values():\n",
    "#         list_values.append(value)\n",
    "#     return list_values\n",
    "\n",
    "def return_values(dictionary):\n",
    "    return list(dictionary.values())\n",
    "\n",
    "result = return_values(dict_info)\n",
    "print(result)"
   ]
  },
  {
   "cell_type": "code",
   "execution_count": 8,
   "metadata": {},
   "outputs": [
    {
     "name": "stdout",
     "output_type": "stream",
     "text": [
      "[('이름', '홍길동'), ('나이', 39), ('성별', '남')]\n"
     ]
    }
   ],
   "source": [
    "dict_info = {\n",
    "    \"이름\": \"홍길동\",\n",
    "    \"나이\": 39,\n",
    "    \"성별\": \"남\",\n",
    "}\n",
    "\n",
    "def return_key_value(dictionary):\n",
    "    list_key_value = []\n",
    "    for key, value  in dictionary.items():\n",
    "        list_key_value.append((key, value))\n",
    "    return list_key_value\n",
    "        \n",
    "result = return_key_value(dict_info)\n",
    "print(result)"
   ]
  },
  {
   "cell_type": "code",
   "execution_count": 9,
   "metadata": {},
   "outputs": [
    {
     "name": "stdout",
     "output_type": "stream",
     "text": [
      "abcdef\n",
      "ghijkl\n",
      "mnopqr\n",
      "stuvwx\n",
      "yz1234\n",
      "567890\n",
      "~!@#$%\n",
      "^&*()_\n",
      "+|\n"
     ]
    }
   ],
   "source": [
    "'''\n",
    "문자열 받아서 한 줄에 6 글자씩 출력하는\n",
    "함수를 작성하고 호출하세요\n",
    "\n",
    "문자열의 길이 : len(str1) - 55\n",
    "한줄에 6개씩 출력하는 경우의 줄(행)의 개수 : len(str1) // 6 (<--9)\n",
    "\n",
    "line_numer = len(str1) // 6 (<--9) + 1\n",
    "\n",
    "for 문의 반복 : in 연산자 다음에 지정 - range(line_number)\n",
    "\n",
    "for one_line in range(line_number):\n",
    "    print(str1[ : ])\n",
    "\n",
    "for one_line in range(56):    one_line  0  [0:6]\n",
    "    print(str1[ : ])                    1  [6:12]\n",
    "                                        2  [12:18]\n",
    "                                        3  [18:24]\n",
    "                                        4  [24:30]\n",
    "                                        5  [30:36]\n",
    "                                        6  [36:42]\n",
    "                                        7  [42:48]\n",
    "                                        8  [48:54]\n",
    "                                        9  [54:]\n",
    "\n",
    "'''\n",
    "\n",
    "str1 = 'abcdefghijklmnopqrstuvwxyz1234567890~!@#$%^&*()_+|'\n",
    "# step = int(input('한 줄에 출력될 문자 개수를 입력하세요 :'))\n",
    "step = 6\n",
    "\n",
    "def print_number_str(str1, step):\n",
    "    for idx in range(0, len(str1), step):\n",
    "        print(str1[idx:idx+step])\n",
    "    \n",
    "print_number_str(str1, step)"
   ]
  },
  {
   "cell_type": "code",
   "execution_count": 10,
   "metadata": {},
   "outputs": [
    {
     "name": "stdout",
     "output_type": "stream",
     "text": [
      "abcdef\n",
      "ghijkl\n",
      "mnopqr\n",
      "stuvwx\n",
      "yz1234\n",
      "567890\n",
      "~!@#$%\n",
      "^&*()_\n",
      "+|"
     ]
    }
   ],
   "source": [
    "str1 = 'abcdefghijklmnopqrstuvwxyz1234567890~!@#$%^&*()_+|'\n",
    "num1 = 6\n",
    "\n",
    "def print_6str(input_str, num):\n",
    "    count = 0\n",
    "    for str1 in input_str:\n",
    "        print(str1, end='')\n",
    "        count += 1\n",
    "        if count % num == 0:\n",
    "            print()\n",
    "        \n",
    "print_6str(str1, num1)"
   ]
  },
  {
   "cell_type": "code",
   "execution_count": 11,
   "metadata": {},
   "outputs": [
    {
     "name": "stdout",
     "output_type": "stream",
     "text": [
      "연봉 : 10,000,000 원\n",
      "월급 : 833,333 원\n"
     ]
    }
   ],
   "source": [
    "'''\n",
    "연봉을 입력받아서 <-- parameter\n",
    "월급을 반환하는 함수를 작성하고\n",
    "호출하여 결과를 확인하세요\n",
    "'''\n",
    "\n",
    "def return_salary(annual_income):\n",
    "    return annual_income / 12\n",
    "\n",
    "# annual_income = int(input('연봉을 입력 하세요 :'))\n",
    "annual_income = 10000000\n",
    "monthly_income = return_salary(annual_income)\n",
    "\n",
    "print(f\"연봉 : {annual_income:,.0f} 원\")\n",
    "print(f\"월급 : {monthly_income:,.0f} 원\")"
   ]
  },
  {
   "cell_type": "code",
   "execution_count": 12,
   "metadata": {},
   "outputs": [
    {
     "name": "stdout",
     "output_type": "stream",
     "text": [
      "OLHC : [10100, 10000, 10500, 10300]\n",
      "4월 3일 고가:  10700\n"
     ]
    }
   ],
   "source": [
    "'''\n",
    "dict_market 에 날짜를 키값으로 하는 OHLC 가 저장된 경우\n",
    "dict_market 과 날짜(키값)를 입력받아서\n",
    "OHLC 리스트를 반환하는 함수를 작성하세요\n",
    "\n",
    "O : OPEN PRICE 시가\n",
    "L : LOW PRICE 저가\n",
    "H : HIGH PRICE 고가\n",
    "C : CLOSE PRICE 종가\n",
    "'''\n",
    "\n",
    "dict_market = {\n",
    "    \"04/01\" : [10300, 10100, 10500, 10200],\n",
    "    \"04/02\" : [10100, 10000, 10500, 10300],\n",
    "    \"04/03\" : [10100, 10000, 10700, 10500],\n",
    "}\n",
    "\n",
    "def print_stock(market_info, date):\n",
    "    return market_info[date]\n",
    "\n",
    "olhc = print_stock(dict_market, '04/02')\n",
    "print('OLHC :', olhc)\n",
    "\n",
    "# 4월 3일의 고가를 출력 하세요\n",
    "lohc = print_stock(dict_market, '04/03')\n",
    "print('4월 3일 고가: ', lohc[2])"
   ]
  },
  {
   "cell_type": "code",
   "execution_count": 13,
   "metadata": {},
   "outputs": [
    {
     "name": "stdout",
     "output_type": "stream",
     "text": [
      "['p', 'y', 't', 'h', 'o', 'n']\n",
      "--------------------------------------------------\n",
      "['p, y, t, h, o, n']\n",
      "--------------------------------------------------\n",
      "['p', 'y', 't', 'h', 'o', 'n']\n"
     ]
    }
   ],
   "source": [
    "'''\n",
    "문자열을 입력 받아서\n",
    "해당 문자열을 구성하는 각각의 문자들을\n",
    "요소로 하는 리스트를 반환하는 함수를 작성하세요\n",
    "\n",
    "'python' --> ['p','y','t','h','o','n']\n",
    "'''\n",
    "\n",
    "# str1 = input('문자열을 입력 하세요 :')\n",
    "str1 = 'python'\n",
    "\n",
    "# 문자열에서 문자 하나하나를 꺼내서\n",
    "# 빈 리스트에 append 하기\n",
    "def return_list_str(str1):\n",
    "    list_str = []\n",
    "    for charcter in str1:\n",
    "        list_str.append(charcter)\n",
    "    return list_str\n",
    "\n",
    "result = return_list_str(str1)\n",
    "print(result)\n",
    "print('-' * 50)\n",
    "\n",
    "# join() 사용하기 - 문제의 의도와 다른 결과가 나옴\n",
    "# join() 으로 값을 구하고 리스트 안에 넣음\n",
    "def set_str(input_str):\n",
    "    return [', '.join(input_str)]\n",
    "\n",
    "result = set_str(str1)\n",
    "print(result)\n",
    "print('-' * 50)\n",
    "\n",
    "# list comprehension\n",
    "result = [i for i in str1]\n",
    "print(result)"
   ]
  }
 ],
 "metadata": {
  "interpreter": {
   "hash": "949c5d161ae06a9191be236957b0dfe2172f0f0097fbf05f4df159099ee18a3c"
  },
  "kernelspec": {
   "display_name": "Python 3.8.5 64-bit ('tjoeun')",
   "language": "python",
   "name": "python3"
  },
  "language_info": {
   "codemirror_mode": {
    "name": "ipython",
    "version": 3
   },
   "file_extension": ".py",
   "mimetype": "text/x-python",
   "name": "python",
   "nbconvert_exporter": "python",
   "pygments_lexer": "ipython3",
   "version": "3.8.5"
  },
  "orig_nbformat": 4
 },
 "nbformat": 4,
 "nbformat_minor": 2
}
