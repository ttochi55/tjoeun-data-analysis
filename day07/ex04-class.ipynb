{
 "cells": [
  {
   "cell_type": "markdown",
   "metadata": {},
   "source": [
    "# class"
   ]
  },
  {
   "cell_type": "code",
   "execution_count": 1,
   "metadata": {},
   "outputs": [
    {
     "name": "stdout",
     "output_type": "stream",
     "text": [
      "\n"
     ]
    }
   ],
   "source": [
    "'''\n",
    "클래스 : data 를 메모리에 loading 시킬 때\n",
    "       어떤 구성(모양)으로 loading 할지를\n",
    "       설명해 놓은 소스 - 설계도\n",
    "       \n",
    "       클래스 = 멤버 변수 + 멤버 메소드\n",
    "       \n",
    "       Object = 속성         +     기능\n",
    "                property          method\n",
    "                status(상태)\n",
    "                \n",
    "객체(Object, instance)\n",
    "    : 클래스에 설명해 놓은대로\n",
    "      메모리에 loading 되어서\n",
    "      활성화된 상태의 data - 실체\n",
    "      \n",
    "형식)\n",
    "class 클래스이름:\n",
    "    멤버변수\n",
    "    생성자\n",
    "    (멤버)메소드\n",
    "'''\n",
    "\n",
    "print()"
   ]
  },
  {
   "cell_type": "code",
   "execution_count": 2,
   "metadata": {},
   "outputs": [
    {
     "name": "stdout",
     "output_type": "stream",
     "text": [
      "result : 30\n"
     ]
    }
   ],
   "source": [
    "number = 10\n",
    "\n",
    "def add_test(n1, n2):\n",
    "    return n1 + n2\n",
    "\n",
    "result = add_test(number, 20)\n",
    "print('result :', result)"
   ]
  },
  {
   "cell_type": "code",
   "execution_count": 3,
   "metadata": {},
   "outputs": [
    {
     "name": "stdout",
     "output_type": "stream",
     "text": [
      "4459279792 안녕하세요\n",
      "4459281664 안녕하세요\n",
      "4459618464 안녕하세요\n"
     ]
    }
   ],
   "source": [
    "class PersonInfo():\n",
    "    def say_hello(self):\n",
    "        return '안녕하세요'\n",
    "        # print('안녕하세요')\n",
    "        \n",
    "p1 = PersonInfo()\n",
    "print(id(p1), p1.say_hello())\n",
    "\n",
    "p2 = PersonInfo()\n",
    "print(id(p2), p2.say_hello())\n",
    "\n",
    "p3 = PersonInfo()\n",
    "print(id(p3), p3.say_hello())"
   ]
  },
  {
   "cell_type": "code",
   "execution_count": 4,
   "metadata": {},
   "outputs": [
    {
     "name": "stdout",
     "output_type": "stream",
     "text": [
      "안녕하세요\n",
      "안녕하세요\n",
      "안녕하세요\n"
     ]
    }
   ],
   "source": [
    "def say_hello():\n",
    "    print('안녕하세요')\n",
    "\n",
    "say_hello()\n",
    "say_hello()\n",
    "say_hello()"
   ]
  },
  {
   "cell_type": "code",
   "execution_count": 5,
   "metadata": {},
   "outputs": [
    {
     "name": "stdout",
     "output_type": "stream",
     "text": [
      "3 8\n",
      "8\n",
      "--------------------\n",
      "6 8\n",
      "8\n",
      "--------------------\n",
      "2 7\n",
      "7\n"
     ]
    }
   ],
   "source": [
    "result1 = 0\n",
    "result2 = 0\n",
    "result3 = 0\n",
    "\n",
    "def add1(num):\n",
    "    global result1\n",
    "    result1 += num\n",
    "    return result1\n",
    "\n",
    "print(add1(3), add1(5))\n",
    "print(result1)\n",
    "print('-' * 20)\n",
    "\n",
    "def add2(num):\n",
    "    global result2\n",
    "    result2 += num\n",
    "    return result2\n",
    "\n",
    "print(add2(6), add2(2))\n",
    "print(result2)\n",
    "print('-' * 20)\n",
    "\n",
    "def add3(num):\n",
    "    global result3\n",
    "    result3 += num\n",
    "    return result3\n",
    "\n",
    "print(add3(2), add3(5))\n",
    "print(result3)"
   ]
  },
  {
   "cell_type": "code",
   "execution_count": 6,
   "metadata": {},
   "outputs": [
    {
     "name": "stdout",
     "output_type": "stream",
     "text": [
      "0 3 8\n",
      "0 6 8\n",
      "0 2 7\n"
     ]
    }
   ],
   "source": [
    "'''\n",
    "클래스를 사용하지 않는 것과 사용하는 것의 차이점\n",
    "\n",
    "클래스를 작성하지 않고 함수만 사용해서\n",
    "하나의 변수게 값을 누적해서 (그 변수를 독립적으로) 사용하려면\n",
    "사용하고자 하는 변수의 개수만큼 함수를 작성해야 하나\n",
    "클래스를 사용하는 경우에는 클래스를 계속 작성할 필요가 없음\n",
    "\n",
    "__메소드이름__ : 더블 언더라인 (던더) - 임의로 만드는 메소드가 아니라 파이썬에서 이미 만들어진 메스드를 의미함\n",
    "'''\n",
    "\n",
    "class Add:\n",
    "    def __init__(self):\n",
    "        '''\n",
    "        클래스의 멤버변수를 초기화하는 역할을 함\n",
    "        '''\n",
    "        self.result = 0\n",
    "        \n",
    "    def add(self, number):\n",
    "        self.result += number\n",
    "        return self.result\n",
    "\n",
    "a1 = Add()\n",
    "print(a1.result, a1.add(3), a1.add(5))\n",
    "\n",
    "a2 = Add()\n",
    "print(a2.result, a2.add(6), a2.add(2))\n",
    "\n",
    "a3 = Add()\n",
    "print(a3.result, a3.add(2), a3.add(5))"
   ]
  },
  {
   "cell_type": "code",
   "execution_count": 7,
   "metadata": {},
   "outputs": [
    {
     "name": "stdout",
     "output_type": "stream",
     "text": [
      "0 0 0\n",
      "2 5 7\n"
     ]
    }
   ],
   "source": [
    "'''\n",
    "def __init__(self):\n",
    "\n",
    "생성자 : 클래스에 설명되어 있는대로 데이터를 메모리에 올릴 때\n",
    "        멤버변수들을 초기화하는 역할을 주로 하는 메소드\n",
    "        \n",
    "        클래스의 정보를 실제로 실행 가능한 형태로 - Object(객체 : instance) <-- 객체를 생성 함\n",
    "        메모리에 올릴 때 자동으로 호출됨(실행됨)\n",
    "            ㄴ 클래스 이름() <-- 객체를 생성하는 코드\n",
    "            \n",
    "        생성된 객체들은 서로 영향을 받지 않고\n",
    "        독립적으로 동작함\n",
    "'''\n",
    "\n",
    "class Calculator:\n",
    "    def __init__(self):\n",
    "        self.num1 = 0\n",
    "        self.num2 = 0\n",
    "        self.result = 0\n",
    "        \n",
    "    def set_data(self, number1, number2):\n",
    "        self.num1 = number1\n",
    "        self.num2 = number2\n",
    "        \n",
    "    def add(self):\n",
    "        self.result = self.num1 + self.num2\n",
    "        return self.result\n",
    "    \n",
    "c1 = Calculator()\n",
    "print(c1.num1, c1.num2, c1.result)\n",
    "\n",
    "c1.set_data(2, 5)\n",
    "c1.add()\n",
    "print(c1.num1, c1.num2, c1.result)"
   ]
  },
  {
   "cell_type": "code",
   "execution_count": 8,
   "metadata": {},
   "outputs": [
    {
     "name": "stdout",
     "output_type": "stream",
     "text": [
      "이름: 더조은, 나이: 21 살\n",
      "이름: 김철수, 나이: 34 살\n"
     ]
    }
   ],
   "source": [
    "'''\n",
    "Child 클래스를 작성하고\n",
    "'더조은' 과 '김철수' 의\n",
    "이름과 나이를 출력하세요\n",
    "'''\n",
    "\n",
    "# 생성자 : 객체가 생성될 때\n",
    "#        멤버변수를 초기화 하는 코드\n",
    "\n",
    "class Child():\n",
    "    def __init__(self):\n",
    "        self.name = ''\n",
    "        self.age = 0\n",
    "                \n",
    "ch1 = Child()\n",
    "ch1.name = '더조은'\n",
    "ch1.age = 21\n",
    "\n",
    "print(f\"이름: {ch1.name}, 나이: {ch1.age} 살\")\n",
    "\n",
    "ch2 = Child()\n",
    "ch2.name = '김철수'\n",
    "ch2.age = 34\n",
    "\n",
    "print(f\"이름: {ch2.name}, 나이: {ch2.age} 살\")"
   ]
  },
  {
   "cell_type": "code",
   "execution_count": 9,
   "metadata": {},
   "outputs": [
    {
     "name": "stdout",
     "output_type": "stream",
     "text": [
      "이름: 더조은, 나이: 21 살\n",
      "이름: 김철수, 나이: 34 살\n"
     ]
    }
   ],
   "source": [
    "class Child():\n",
    "    def __init__(self):\n",
    "        self.name = ''\n",
    "        self.age = 0\n",
    "    \n",
    "    def set_name(self, name):\n",
    "        self.name = name\n",
    "                \n",
    "    def set_age(self, age):\n",
    "        self.age = age\n",
    "                \n",
    "ch1 = Child()\n",
    "ch2 = Child()\n",
    "\n",
    "ch1.set_name('더조은')\n",
    "ch1.set_age(21)\n",
    "\n",
    "print(f\"이름: {ch1.name}, 나이: {ch1.age} 살\")\n",
    "\n",
    "ch2.set_name('김철수')\n",
    "ch2.set_age(34)\n",
    "\n",
    "print(f\"이름: {ch2.name}, 나이: {ch2.age} 살\")"
   ]
  },
  {
   "cell_type": "code",
   "execution_count": 10,
   "metadata": {},
   "outputs": [
    {
     "name": "stdout",
     "output_type": "stream",
     "text": [
      "이름: 더조은, 나이: 21 살\n",
      "이름: 김철수, 나이: 34 살\n"
     ]
    }
   ],
   "source": [
    "class Child():\n",
    "    def __init__(self, name, age):\n",
    "        self.name = name\n",
    "        self.age = age\n",
    "    \n",
    "    def display_info(self):\n",
    "        print(f\"이름: {self.name}, 나이: {self.age} 살\")\n",
    "                \n",
    "ch1 = Child('더조은', 21)\n",
    "ch1.display_info()\n",
    "\n",
    "ch2 = Child('김철수', 34)\n",
    "ch2.display_info()"
   ]
  },
  {
   "cell_type": "code",
   "execution_count": 11,
   "metadata": {},
   "outputs": [
    {
     "name": "stdout",
     "output_type": "stream",
     "text": [
      "배기량 : 3000\n",
      "도어 : 4\n",
      "변속기 : auto\n",
      "\n",
      "배기량 : 3500\n",
      "도어 : 2\n",
      "변속기 : mannual\n",
      "\n"
     ]
    }
   ],
   "source": [
    "class Car:\n",
    "    def __init__(self, displacement, door, gear_type):\n",
    "        self.displacement = displacement\n",
    "        self.door = door\n",
    "        self.gear_type = gear_type\n",
    "        \n",
    "    def display_car_info(self):\n",
    "        print(f\"배기량 : {self.displacement}\", \n",
    "              f\"도어 : {self.door}\",\n",
    "              f\"변속기 : {self.gear_type}\",\n",
    "              sep='\\n')\n",
    "        print()\n",
    "        \n",
    "car1 = Car(3000, 4, 'auto')\n",
    "car1.display_car_info()\n",
    "\n",
    "car2 = Car(3500, 2, 'mannual')\n",
    "car2.display_car_info()"
   ]
  }
 ],
 "metadata": {
  "interpreter": {
   "hash": "949c5d161ae06a9191be236957b0dfe2172f0f0097fbf05f4df159099ee18a3c"
  },
  "kernelspec": {
   "display_name": "Python 3.8.5 64-bit ('tjoeun')",
   "language": "python",
   "name": "python3"
  },
  "language_info": {
   "codemirror_mode": {
    "name": "ipython",
    "version": 3
   },
   "file_extension": ".py",
   "mimetype": "text/x-python",
   "name": "python",
   "nbconvert_exporter": "python",
   "pygments_lexer": "ipython3",
   "version": "3.8.5"
  },
  "orig_nbformat": 4
 },
 "nbformat": 4,
 "nbformat_minor": 2
}
