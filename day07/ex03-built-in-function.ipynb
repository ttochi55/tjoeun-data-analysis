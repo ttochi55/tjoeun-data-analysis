{
 "cells": [
  {
   "cell_type": "markdown",
   "metadata": {},
   "source": [
    "# 내장 함수 (built-in function)"
   ]
  },
  {
   "cell_type": "code",
   "execution_count": 1,
   "metadata": {},
   "outputs": [
    {
     "name": "stdout",
     "output_type": "stream",
     "text": [
      "100\n",
      "400\n",
      "7\n"
     ]
    }
   ],
   "source": [
    "'''\n",
    "# 내장 함수 (built-in function)\n",
    "\n",
    "abs : absolute number\n",
    "'''\n",
    "\n",
    "print(abs(-100))\n",
    "print(abs(400))\n",
    "print(abs(-7))"
   ]
  },
  {
   "cell_type": "code",
   "execution_count": 2,
   "metadata": {},
   "outputs": [
    {
     "name": "stdout",
     "output_type": "stream",
     "text": [
      "True\n",
      "False\n",
      "False\n",
      "all([]) : True\n",
      "bool() : False\n"
     ]
    }
   ],
   "source": [
    "'''\n",
    "all (iterable type)\n",
    "        ㄴ list, tuple, range, ...\n",
    "    ㄴ 모든 요소가 0 이 아닌 경우      : True 반환\n",
    "                0 이 하나라도 있으면 : False 반환\n",
    "'''\n",
    "\n",
    "list_nums1 = [1, 2, 3, 4, 5]\n",
    "list_nums2 = [1, 2, 3, 0, 5]\n",
    "list_nums3 = [0, 2, 0, 4, 5]\n",
    "\n",
    "print(all(list_nums1))\n",
    "print(all(list_nums2))\n",
    "print(all(list_nums3))\n",
    "\n",
    "# 0 이 없어서 True\n",
    "print('all([]) :', all([]))\n",
    "\n",
    "# bool 에 비어있는 list 가 있으면 False\n",
    "print('bool() :', bool([]))\n"
   ]
  },
  {
   "cell_type": "code",
   "execution_count": 3,
   "metadata": {},
   "outputs": [
    {
     "name": "stdout",
     "output_type": "stream",
     "text": [
      "True\n",
      "False\n",
      "False\n"
     ]
    }
   ],
   "source": [
    "'''\n",
    "any(iterable type)\n",
    "  ㄴ 모든 요소가 0 인 경우 : False 반환\n",
    "    하나라도 0 이 아니면  : True 반환\n",
    "'''\n",
    "\n",
    "list1 = [1, 3, 5, 0, 7]\n",
    "list2 = [0, 0, '', 0]\n",
    "list3 = []\n",
    "\n",
    "print(any(list1))\n",
    "\n",
    "# 빈 문자열도 0 과 같이 인식함 : false\n",
    "print(any(list2))\n",
    "\n",
    "# 비어있는 리스트도 False를 반환 : false\n",
    "print(any(list3))"
   ]
  },
  {
   "cell_type": "code",
   "execution_count": 4,
   "metadata": {},
   "outputs": [
    {
     "name": "stdout",
     "output_type": "stream",
     "text": [
      "65 A\n",
      "97 a\n",
      "48 0\n"
     ]
    }
   ],
   "source": [
    "'''\n",
    "chr()  : ASCII CODE 를 입력하면 문자를 반환함\n",
    "ord()  : 입력받은 문자의 ASCII CODE 문자를 반환함\n",
    "'''\n",
    "\n",
    "print(ord('A'), chr(65))\n",
    "print(ord('a'), chr(97))\n",
    "print(ord('0'), chr(48))"
   ]
  },
  {
   "cell_type": "code",
   "execution_count": 5,
   "metadata": {},
   "outputs": [
    {
     "name": "stdout",
     "output_type": "stream",
     "text": [
      "(1, 2)\n"
     ]
    }
   ],
   "source": [
    "'''\n",
    "divmod(분자, 분모) : 몫과 나머지를 tuple 로 반환함\n",
    "'''\n",
    "\n",
    "print(divmod(10, 8))"
   ]
  },
  {
   "cell_type": "code",
   "execution_count": 6,
   "metadata": {},
   "outputs": [
    {
     "name": "stdout",
     "output_type": "stream",
     "text": [
      "1\n",
      "2\n",
      "3\n",
      "4\n",
      "5\n",
      "6\n",
      "7\n",
      "8\n",
      "9\n",
      "10\n"
     ]
    }
   ],
   "source": [
    "'''\n",
    "enumerate(iterable type) - 인덱스와 값을 tuple 로 반환함\n",
    "'''\n",
    "\n",
    "for num in range(1, 11):\n",
    "    print(num)"
   ]
  },
  {
   "cell_type": "code",
   "execution_count": 7,
   "metadata": {},
   "outputs": [
    {
     "name": "stdout",
     "output_type": "stream",
     "text": [
      "(0, 1)\n",
      "(1, 2)\n",
      "(2, 3)\n",
      "(3, 4)\n",
      "(4, 5)\n",
      "(5, 6)\n",
      "(6, 7)\n",
      "(7, 8)\n",
      "(8, 9)\n",
      "(9, 10)\n"
     ]
    }
   ],
   "source": [
    "for num in enumerate(range(1, 11)):\n",
    "    print(num)"
   ]
  },
  {
   "cell_type": "code",
   "execution_count": 8,
   "metadata": {},
   "outputs": [
    {
     "name": "stdout",
     "output_type": "stream",
     "text": [
      "0 - banana\n",
      "1 - apple\n",
      "2 - strawberry\n",
      "3 - watermelon\n"
     ]
    }
   ],
   "source": [
    "list_fruits = ['banana', 'apple', 'strawberry', 'watermelon']\n",
    "\n",
    "for idx, fruit in enumerate(list_fruits):\n",
    "    print(f\"{idx} - {fruit}\")"
   ]
  },
  {
   "cell_type": "code",
   "execution_count": 9,
   "metadata": {},
   "outputs": [
    {
     "name": "stdout",
     "output_type": "stream",
     "text": [
      "1 + 2\n",
      "3\n",
      "(1, 2)\n"
     ]
    }
   ],
   "source": [
    "'''\n",
    "eval('표현식') : 권장하지 않음\n",
    "    ㄴ 문자열로 되어있는 표현식의 결과값을 반환함\n",
    "'''\n",
    "\n",
    "print('1 + 2')\n",
    "print(eval('1 + 2'))\n",
    "print(eval('divmod(10, 8)'))"
   ]
  },
  {
   "cell_type": "code",
   "execution_count": 10,
   "metadata": {},
   "outputs": [
    {
     "name": "stdout",
     "output_type": "stream",
     "text": [
      "0x5\n",
      "0xf\n",
      "0x19\n",
      "0x23\n",
      "0x2d\n"
     ]
    }
   ],
   "source": [
    "'''\n",
    "hex(10진수 정수) - 정수(10진수)를 입력받아서 16진수로 반환함\n",
    "'''\n",
    "\n",
    "# 0xf\n",
    "print(hex(5))\n",
    "print(hex(15))\n",
    "print(hex(25))\n",
    "print(hex(35))\n",
    "print(hex(45))"
   ]
  },
  {
   "cell_type": "code",
   "execution_count": 11,
   "metadata": {},
   "outputs": [
    {
     "name": "stdout",
     "output_type": "stream",
     "text": [
      "4424837936 10\n"
     ]
    }
   ],
   "source": [
    "'''\n",
    "id(변수) - 변수에 저장된 주소값을 알려줌\n",
    "'''\n",
    "\n",
    "number = 10\n",
    "print(id(number), number)\n"
   ]
  },
  {
   "cell_type": "code",
   "execution_count": 12,
   "metadata": {},
   "outputs": [
    {
     "name": "stdout",
     "output_type": "stream",
     "text": [
      "0o12\n",
      "0o10\n",
      "0o4\n"
     ]
    }
   ],
   "source": [
    "'''\n",
    "oct(10진수 정수) - 8진수 반환\n",
    "'''\n",
    "\n",
    "print(oct(10))\n",
    "print(oct(8))\n",
    "print(oct(4))"
   ]
  },
  {
   "cell_type": "code",
   "execution_count": 13,
   "metadata": {},
   "outputs": [
    {
     "data": {
      "text/plain": [
       "'\\nmap() 함수\\nfilter() 함수\\n'"
      ]
     },
     "execution_count": 13,
     "metadata": {},
     "output_type": "execute_result"
    }
   ],
   "source": [
    "'''\n",
    "map() 함수\n",
    "filter() 함수\n",
    "'''"
   ]
  },
  {
   "cell_type": "code",
   "execution_count": 14,
   "metadata": {},
   "outputs": [
    {
     "name": "stdout",
     "output_type": "stream",
     "text": [
      "32\n",
      "32\n"
     ]
    }
   ],
   "source": [
    "'''\n",
    "pow(밑, 지수) : power\n",
    "'''\n",
    "\n",
    "# 2 의 5 제곱\n",
    "print(pow(2, 5))\n",
    "print(2 ** 5)"
   ]
  },
  {
   "cell_type": "code",
   "execution_count": 15,
   "metadata": {},
   "outputs": [
    {
     "name": "stdout",
     "output_type": "stream",
     "text": [
      "123\n",
      "124\n",
      "1234.33\n",
      "123.89\n",
      "123.9\n",
      "123.90\n"
     ]
    }
   ],
   "source": [
    "'''\n",
    "round() : 반올림\n",
    "'''\n",
    "\n",
    "print(round(123.456))\n",
    "print(round(123.756))\n",
    "\n",
    "# 소수점 둘째 자리 까지 출력\n",
    "print(round(1234.333, 2))\n",
    "\n",
    "# 소수점 둘째 자리 까지 출력 0 출력\n",
    "print(round(123.8856, 2))\n",
    "print(round(123.8956, 2))\n",
    "print(\"{:.2f}\".format(round(123.8956, 2)))"
   ]
  },
  {
   "cell_type": "code",
   "execution_count": 16,
   "metadata": {},
   "outputs": [
    {
     "name": "stdout",
     "output_type": "stream",
     "text": [
      "1.5 : 2\n",
      "2.5 : 2\n",
      "3.5 : 4\n",
      "4.5 : 4\n",
      "5.5 : 6\n",
      "6.5 : 6\n"
     ]
    }
   ],
   "source": [
    "'''\n",
    "파이썬에선 5를 반올림 하는 경우가 다른 언어와 다르다.\n",
    "반올림 한것과 안한것의 차이를 줄이기 위해 처리 방식이 다르다.\n",
    "\n",
    "홀수 반올림과 짝수 반올림이 다르다.\n",
    "'''\n",
    "\n",
    "print('1.5 :', round(1.5)) # 2\n",
    "print('2.5 :', round(2.5)) # 2\n",
    "\n",
    "print('3.5 :', round(3.5)) # 4\n",
    "print('4.5 :', round(4.5)) # 4\n",
    "\n",
    "print('5.5 :', round(5.5)) # 6\n",
    "print('6.5 :', round(6.5)) # 6"
   ]
  },
  {
   "cell_type": "code",
   "execution_count": 17,
   "metadata": {},
   "outputs": [
    {
     "name": "stdout",
     "output_type": "stream",
     "text": [
      "ceil : 3\n",
      "ceil : 3\n",
      "--------------------\n",
      "floor : 2\n",
      "floor : 2\n",
      "--------------------\n",
      "trunc : 23\n",
      "trunc : 2\n",
      "trunc : 0\n",
      "trunc : 1\n",
      "trunc : 2\n"
     ]
    }
   ],
   "source": [
    "'''\n",
    "ceil() - 올림\n",
    "floor() - 내림\n",
    "trunc() - 버림 : truncate\n",
    "'''\n",
    "\n",
    "# import math\n",
    "# from math import ceil\n",
    "from math import ceil, floor, trunc\n",
    "\n",
    "# 올림\n",
    "print('ceil :', ceil(2.3))\n",
    "print('ceil :', ceil(2.6))\n",
    "print('-' * 20)\n",
    "\n",
    "# 내림\n",
    "print('floor :', floor(2.3))\n",
    "print('floor :', floor(2.6))\n",
    "print('-' * 20)\n",
    "\n",
    "# 버림\n",
    "print('trunc :', trunc(23.45))\n",
    "print('trunc :', trunc(2.7))\n",
    "print('trunc :', trunc(0.5))\n",
    "print('trunc :', trunc(1.5))\n",
    "print('trunc :', trunc(2.8))"
   ]
  }
 ],
 "metadata": {
  "interpreter": {
   "hash": "949c5d161ae06a9191be236957b0dfe2172f0f0097fbf05f4df159099ee18a3c"
  },
  "kernelspec": {
   "display_name": "Python 3.8.5 64-bit ('tjoeun')",
   "language": "python",
   "name": "python3"
  },
  "language_info": {
   "codemirror_mode": {
    "name": "ipython",
    "version": 3
   },
   "file_extension": ".py",
   "mimetype": "text/x-python",
   "name": "python",
   "nbconvert_exporter": "python",
   "pygments_lexer": "ipython3",
   "version": "3.8.5"
  },
  "orig_nbformat": 4
 },
 "nbformat": 4,
 "nbformat_minor": 2
}
