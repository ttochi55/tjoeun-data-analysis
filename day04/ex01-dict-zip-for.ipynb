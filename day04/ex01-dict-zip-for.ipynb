{
 "cells": [
  {
   "cell_type": "markdown",
   "metadata": {},
   "source": [
    "# dict, zip, for"
   ]
  },
  {
   "cell_type": "code",
   "execution_count": 1,
   "metadata": {},
   "outputs": [
    {
     "name": "stdout",
     "output_type": "stream",
     "text": [
      "{'메로나': 1000, '폴라포': 1200, '빵빠레': 1800}\n"
     ]
    }
   ],
   "source": [
    "'''\n",
    "이름 : 가격\n",
    "메로나 : 1000\n",
    "폴라포 : 1200\n",
    "빵빠레 : 1800\n",
    "\n",
    "dict_icecream (딕셔너리 이름)\n",
    "아이스크림 이름을 key로 하고\n",
    "가격을 value로 하는 dictionary 를 생성하고 출력하세요\n",
    "'''\n",
    "\n",
    "dict_icecream = {\n",
    "    \"메로나\" : 1000,\n",
    "    \"폴라포\" : 1200,\n",
    "    \"빵빠레\" : 1800,\n",
    "}\n",
    "\n",
    "print(dict_icecream)"
   ]
  },
  {
   "cell_type": "code",
   "execution_count": 2,
   "metadata": {},
   "outputs": [
    {
     "name": "stdout",
     "output_type": "stream",
     "text": [
      "{'메로나': 1000, '폴라포': 1200, '빵빠레': 1800, '죠스바': 1200, '월드콘': 1500}\n"
     ]
    }
   ],
   "source": [
    "'''\n",
    "이름 : 가격\n",
    "죠스바 : 1200\n",
    "월드콘 : 1500\n",
    "\n",
    "이 data 를 dict_icecream 에 추가하고 출력하세요\n",
    "'''\n",
    "\n",
    "dict_icecream['죠스바'] = 1200\n",
    "dict_icecream['월드콘'] = 1500\n",
    "\n",
    "print(dict_icecream)"
   ]
  },
  {
   "cell_type": "code",
   "execution_count": 3,
   "metadata": {},
   "outputs": [
    {
     "name": "stdout",
     "output_type": "stream",
     "text": [
      "월드콘 가격 : 1,500 원\n"
     ]
    }
   ],
   "source": [
    "'''\n",
    "아래와 같이 출력하세요\n",
    "월드콘 가격 : 1500 원\n",
    "'''\n",
    "\n",
    "print('월드콘 가격 :', '{:,}'.format(dict_icecream['월드콘']), '원')"
   ]
  },
  {
   "cell_type": "code",
   "execution_count": 4,
   "metadata": {},
   "outputs": [
    {
     "name": "stdout",
     "output_type": "stream",
     "text": [
      "폴라포의 가격 : 1,300 원\n"
     ]
    }
   ],
   "source": [
    "'''\n",
    "폴라포의 가격을 1300 원으로 수정하고 출력하세요\n",
    "'''\n",
    "\n",
    "dict_icecream['폴라포'] = 1300\n",
    "\n",
    "print('폴라포의 가격 :', '{:,}'.format(dict_icecream['폴라포']), '원')"
   ]
  },
  {
   "cell_type": "code",
   "execution_count": 5,
   "metadata": {},
   "outputs": [
    {
     "name": "stdout",
     "output_type": "stream",
     "text": [
      "{'메로나': 1000, '폴라포': 1300, '빵빠레': 1800, '죠스바': 1200, '월드콘': 1500}\n",
      "{'메로나': 1000, '폴라포': 1300, '죠스바': 1200, '월드콘': 1500}\n"
     ]
    }
   ],
   "source": [
    "'''\n",
    "빵빠레를 삭제하고 dict_icecream 을 출력하세요\n",
    "'''\n",
    "\n",
    "print(dict_icecream)\n",
    "\n",
    "del dict_icecream['빵빠레']\n",
    "print(dict_icecream)"
   ]
  },
  {
   "cell_type": "code",
   "execution_count": 6,
   "metadata": {},
   "outputs": [
    {
     "name": "stdout",
     "output_type": "stream",
     "text": [
      "{'메로나': [300, 20], '비비빅': [400, 30], '죠스바': [250, 100]}\n"
     ]
    }
   ],
   "source": [
    "'''\n",
    "이름 : 가격 --> 재고\n",
    "메로나 : 300 --> 20\n",
    "비비빅 : 400 --> 30\n",
    "죠스바 : 250 --> 100\n",
    "\n",
    "icecream_inventory (dictionary 이름)\n",
    "이름을 key로 하고, 가격과 재고를 리스트로 해서 value로 하는\n",
    "dictionary 를 생성하고 출력하세요\n",
    "'''\n",
    "\n",
    "icecream_inventory = {\n",
    "    \"메로나\" : [300, 20],\n",
    "    \"비비빅\" : [400, 30],\n",
    "    \"죠스바\" : [250, 100],\n",
    "}\n",
    "\n",
    "print(icecream_inventory)"
   ]
  },
  {
   "cell_type": "code",
   "execution_count": 7,
   "metadata": {},
   "outputs": [
    {
     "name": "stdout",
     "output_type": "stream",
     "text": [
      "비비빅 가격 : 400 원\n"
     ]
    }
   ],
   "source": [
    "'''\n",
    "아래와 같이 출력하세요\n",
    "비비빅 가격 : 400원\n",
    "'''\n",
    "\n",
    "print('비비빅 가격 :', '{:,}'.format(icecream_inventory['비비빅'][0]), '원')"
   ]
  },
  {
   "cell_type": "code",
   "execution_count": 8,
   "metadata": {},
   "outputs": [
    {
     "name": "stdout",
     "output_type": "stream",
     "text": [
      "{'메로나': [300, 20], '비비빅': [400, 30], '죠스바': [250, 100], '월드콘': [500, 70]}\n"
     ]
    }
   ],
   "source": [
    "'''\n",
    "이름 : 가격 --> 재고\n",
    "월드콘 : 500 --> 70\n",
    "이 data를 icecream_inventory 에 추가하고 출력하세요\n",
    "'''\n",
    "\n",
    "icecream_inventory['월드콘'] = [500, 70]\n",
    "print(icecream_inventory)"
   ]
  },
  {
   "cell_type": "code",
   "execution_count": 9,
   "metadata": {},
   "outputs": [
    {
     "name": "stdout",
     "output_type": "stream",
     "text": [
      "['누가바', '폴라포', '빵빠레', '월드콘', '메로나']\n"
     ]
    }
   ],
   "source": [
    "'''\n",
    "아래의 dictionary 에서 아이스크립 이름들만 출력하세요\n",
    "'''\n",
    "\n",
    "dict_ice = {\n",
    "    \"누가바\" : 800,\n",
    "    \"폴라포\" : 1200,\n",
    "    \"빵빠레\" : 1800,\n",
    "    \"월드콘\" : 1500,\n",
    "    \"메로나\" : 1000,\n",
    "}\n",
    "\n",
    "print(list(dict_ice.keys()))"
   ]
  },
  {
   "cell_type": "code",
   "execution_count": 10,
   "metadata": {},
   "outputs": [
    {
     "name": "stdout",
     "output_type": "stream",
     "text": [
      "[800, 1200, 1800, 1500, 1000]\n"
     ]
    }
   ],
   "source": [
    "'''\n",
    "가격들만 출력하세요\n",
    "'''\n",
    "\n",
    "dict_ice = {\n",
    "    \"누가바\" : 800,\n",
    "    \"폴라포\" : 1200,\n",
    "    \"빵빠레\" : 1800,\n",
    "    \"월드콘\" : 1500,\n",
    "    \"메로나\" : 1000,\n",
    "}\n",
    "\n",
    "print(list(dict_ice.values()))"
   ]
  },
  {
   "cell_type": "code",
   "execution_count": 11,
   "metadata": {},
   "outputs": [
    {
     "name": "stdout",
     "output_type": "stream",
     "text": [
      "{'누가바': 800, '폴라포': 1200, '빵빠레': 1800, '월드콘': 1500, '메로나': 1000, '팥빙수': 2700, '아맛나': 1000}\n",
      "{'누가바': 800, '폴라포': 1200, '빵빠레': 1800, '월드콘': 1500, '메로나': 1000, '팥빙수': 2200, '아맛나': 1400}\n",
      "{'누가바': 800, '폴라포': 1200, '빵빠레': 1800, '월드콘': 1500, '메로나': 1000, '팥빙수': 2700, '아맛나': 1000}\n"
     ]
    }
   ],
   "source": [
    "'''\n",
    "dict_ice 에\n",
    "\"팥빙수\" : 2700,\n",
    "\"아맛나\" : 1000\n",
    "이 정보를 추가하세요\n",
    "\n",
    "1) key 에 value 할당하기\n",
    "2) update() 사용하기\n",
    "'''\n",
    "\n",
    "# 1)\n",
    "dict_ice['팥빙수'] = 2700\n",
    "dict_ice['아맛나'] = 1000\n",
    "\n",
    "print(dict_ice)\n",
    "\n",
    "# 2)\n",
    "dict_ice.update(팥빙수=2200)\n",
    "dict_ice.update(아맛나=1400)\n",
    "\n",
    "print(dict_ice)\n",
    "\n",
    "# 3)\n",
    "dict_ice.update({\n",
    "    '팥빙수' : 2700,\n",
    "    '아맛나' : 1000,\n",
    "})\n",
    "\n",
    "print(dict_ice)"
   ]
  },
  {
   "cell_type": "code",
   "execution_count": 12,
   "metadata": {},
   "outputs": [
    {
     "name": "stdout",
     "output_type": "stream",
     "text": [
      "{'apple': 50000, 'strawberry': 20000, 'peach': 30000}\n"
     ]
    }
   ],
   "source": [
    "'''\n",
    "zip() 함수와 dict() 함수를 사용해서\n",
    "tuple 로 dictionary 생성하기\n",
    "'''\n",
    "\n",
    "fruits = ('apple', 'strawberry', 'peach')\n",
    "prices = (50000, 20000, 30000)\n",
    "\n",
    "fruits_prices = dict(zip(fruits, prices))\n",
    "print(fruits_prices)"
   ]
  },
  {
   "cell_type": "code",
   "execution_count": 13,
   "metadata": {},
   "outputs": [
    {
     "name": "stdout",
     "output_type": "stream",
     "text": [
      "{'0215': 10500, '0216': 10300, '0217': 10600, '0218': 10100}\n"
     ]
    }
   ],
   "source": [
    "'''\n",
    "date 와 high_price 로 dictionary 를 생성하고 출력하세요\n",
    "'''\n",
    "date = ['0215', '0216', '0217', '0218']\n",
    "high_price = [10500, 10300, 10600, 10100]\n",
    "\n",
    "market_info = dict(zip(date, high_price))\n",
    "print(market_info)"
   ]
  },
  {
   "cell_type": "code",
   "execution_count": 14,
   "metadata": {},
   "outputs": [
    {
     "name": "stdout",
     "output_type": "stream",
     "text": [
      "총액 : 1,450 원\n",
      "총액 : 1,450 원\n",
      "총액 : 1,450 원\n"
     ]
    }
   ],
   "source": [
    "'''\n",
    "icecream_inventory :\n",
    "{'메로나': [300, 20], '비비빅': [400, 30], '죠스바': [250, 100], '월드콘': [500, 70]}\n",
    "\n",
    "아이스크립들의 가격의 총합계를 출력하세요\n",
    "[출력 예]\n",
    "총액 : 0000 원\n",
    "'''\n",
    "\n",
    "# 1)\n",
    "total = icecream_inventory['메로나'][0] +\\\n",
    "        icecream_inventory['비비빅'][0] +\\\n",
    "        icecream_inventory['죠스바'][0] +\\\n",
    "        icecream_inventory['월드콘'][0]\n",
    "\n",
    "print('총액 :', '{:,}'.format(total), '원')\n",
    "\n",
    "# 2)\n",
    "ice_prices = list(icecream_inventory.values())\n",
    "\n",
    "sum1 = 0\n",
    "for ice_info in ice_prices:\n",
    "    sum1 += ice_info[0]\n",
    "print('총액 :', '{:,}'.format(sum1), '원')\n",
    "\n",
    "# 3)\n",
    "sum2 = sum([value[0] for value in icecream_inventory.values()])\n",
    "print('총액 :', '{:,}'.format(sum2), '원')"
   ]
  }
 ],
 "metadata": {
  "interpreter": {
   "hash": "949c5d161ae06a9191be236957b0dfe2172f0f0097fbf05f4df159099ee18a3c"
  },
  "kernelspec": {
   "display_name": "Python 3.8.5 64-bit ('tjoeun')",
   "language": "python",
   "name": "python3"
  },
  "language_info": {
   "codemirror_mode": {
    "name": "ipython",
    "version": 3
   },
   "file_extension": ".py",
   "mimetype": "text/x-python",
   "name": "python",
   "nbconvert_exporter": "python",
   "pygments_lexer": "ipython3",
   "version": "3.8.5"
  },
  "orig_nbformat": 4
 },
 "nbformat": 4,
 "nbformat_minor": 2
}
