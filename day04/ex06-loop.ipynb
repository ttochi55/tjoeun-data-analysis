{
 "cells": [
  {
   "cell_type": "markdown",
   "metadata": {},
   "source": [
    "# loop"
   ]
  },
  {
   "cell_type": "code",
   "execution_count": 1,
   "metadata": {},
   "outputs": [
    {
     "name": "stdout",
     "output_type": "stream",
     "text": [
      "1, 2, 3, 4, 5, 6, 7, 8, 9, 10, \n",
      "--------------------------------------------------\n",
      "(1, 2), (3, 4), (5, 6), (7, 8), \n",
      "--------------------------------------------------\n",
      "1 2, 3 4, 5 6, 7 8, \n",
      "--------------------------------------------------\n",
      "2, 12, 30, 56, \n",
      "--------------------------------------------------\n",
      "1, 2, 3, 4, 5, 6, 7, 8, 9, 10, \n",
      "--------------------------------------------------\n"
     ]
    }
   ],
   "source": [
    "'''\n",
    "반복문 : loop statement\n",
    "\n",
    "형식)       iterate (순회)\n",
    "            str, list, tuple, set, range(), dict_keys, dict_values\n",
    "for 변수 in (iterable type):\n",
    "    statement....\n",
    "    statement....\n",
    "    statement....\n",
    "'''\n",
    "\n",
    "list_numbers = [1, 2, 3, 4, 5, 6, 7, 8, 9, 10]\n",
    "for number in list_numbers:\n",
    "    print(number, end=\", \")\n",
    "\n",
    "print()\n",
    "print('-' * 50)\n",
    "\n",
    "list_nums = [(1, 2), (3, 4), (5, 6), (7, 8)]\n",
    "for num in list_nums:\n",
    "    print(num, end=\", \")\n",
    "\n",
    "print()\n",
    "print('-' * 50)\n",
    "\n",
    "# unpacking\n",
    "list_nums = [(1, 2), (3, 4), (5, 6), (7, 8)]\n",
    "for num1, num2 in list_nums:\n",
    "    print(num1, num2, end=\", \")\n",
    "\n",
    "print()\n",
    "print('-' * 50)\n",
    "\n",
    "list_nums = [(1, 2), (3, 4), (5, 6), (7, 8)]\n",
    "for num1, num2 in list_nums:\n",
    "    print(num1 * num2, end=\", \")\n",
    "\n",
    "print()\n",
    "print('-' * 50)\n",
    "\n",
    "for i in range(1, 11):\n",
    "    print(i, end=\", \")\n",
    "\n",
    "print()\n",
    "print('-' * 50)"
   ]
  },
  {
   "cell_type": "code",
   "execution_count": 2,
   "metadata": {},
   "outputs": [
    {
     "name": "stdout",
     "output_type": "stream",
     "text": [
      "2, 4, 6, 8, 10, \n",
      "--------------------------------------------------\n",
      "1, 3, 5, 7, 9, "
     ]
    }
   ],
   "source": [
    "list_numbers = [1, 2, 3, 4, 5, 6, 7, 8, 9, 10]\n",
    "\n",
    "'''\n",
    "전체 출력\n",
    "for number in list_numbers:\n",
    "    print(number, end=\", \")\n",
    "\n",
    "\n",
    "for 문을 사용해서 list_numbers 에서 짝수만 출력하세요\n",
    "\n",
    "[힌트]\n",
    "if 문 사용 / % 연산자 사용\n",
    "'''\n",
    "\n",
    "for number in list_numbers:\n",
    "    if number % 2 == 0:\n",
    "        print(number, end=', ')\n",
    "\n",
    "print()\n",
    "print('-' * 50)\n",
    "\n",
    "for number in list_numbers:\n",
    "    if number % 2 != 0:\n",
    "        print(number, end=', ')\n",
    "    "
   ]
  },
  {
   "cell_type": "code",
   "execution_count": 3,
   "metadata": {},
   "outputs": [
    {
     "name": "stdout",
     "output_type": "stream",
     "text": [
      "1 번 학생 합격입니다\n",
      "2 번 학생 불합격입니다\n",
      "3 번 학생 합격입니다\n",
      "4 번 학생 불합격입니다\n",
      "5 번 학생 합격입니다\n"
     ]
    }
   ],
   "source": [
    "'''\n",
    "scores 에 5명의 성적이 저장 되어있을때,\n",
    "80점 이상은 합격, 80점 미만은 불합격이라고 출력하세요\n",
    "\n",
    "[출력 예]\n",
    "1 번 학생 합격입니다\n",
    "2 번 학생 불합격입니다\n",
    "3 번 학생 합격입니다\n",
    "4 번 학생 불합격입니다\n",
    "5 번 학생 합격입니다\n",
    "'''\n",
    "\n",
    "scores = [85, 76, 95, 56, 88]\n",
    "\n",
    "for i in range(len(scores)):\n",
    "    if scores[i] >= 80:\n",
    "        print(f\"{i + 1} 번 학생 합격입니다\")\n",
    "    else:\n",
    "        print(f\"{i + 1} 번 학생 불합격입니다\")"
   ]
  },
  {
   "cell_type": "code",
   "execution_count": 4,
   "metadata": {},
   "outputs": [
    {
     "name": "stdout",
     "output_type": "stream",
     "text": [
      "1 번 학생 합격입니다\n",
      "2 번 학생 불합격입니다\n",
      "3 번 학생 합격입니다\n",
      "4 번 학생 불합격입니다\n",
      "5 번 학생 합격입니다\n"
     ]
    }
   ],
   "source": [
    "scores = [85, 76, 95, 56, 88]\n",
    "\n",
    "for i, score in enumerate(scores):\n",
    "    k = i + 1\n",
    "    if score >= 80:\n",
    "        print(f\"{k} 번 학생 합격입니다\")\n",
    "    else:\n",
    "        print(f\"{k} 번 학생 불합격입니다\")\n",
    "    "
   ]
  },
  {
   "cell_type": "code",
   "execution_count": 5,
   "metadata": {},
   "outputs": [
    {
     "name": "stdout",
     "output_type": "stream",
     "text": [
      "1 번 학생 합격입니다\n",
      "2 번 학생 불합격입니다\n",
      "3 번 학생 합격입니다\n",
      "4 번 학생 불합격입니다\n",
      "5 번 학생 합격입니다\n",
      "--------------------------------------------------\n",
      "합격생은 3명 입니다\n",
      "불합격생은 2명 입니다\n"
     ]
    }
   ],
   "source": [
    "'''\n",
    "1 번 학생 합격입니다\n",
    "2 번 학생 불합격입니다\n",
    "3 번 학생 합격입니다\n",
    "4 번 학생 불합격입니다\n",
    "5 번 학생 합격입니다\n",
    "\n",
    "합격생은 3명 입니다\n",
    "불합격생은 2명 입니다\n",
    "\n",
    "[힌트]\n",
    "count 변수를 설정\n",
    "count1 : 합격생 수 저장하는 변수 <-- score >= 80 인 조건에서 계산함 (하나씩 증가시킴)\n",
    "count2 : 불합격생 수 저장하는 변수 <-- score < 80 인 조건에서 계산함 (하나씩 증가시킴)\n",
    "'''\n",
    "\n",
    "scores = [85, 76, 95, 56, 88]\n",
    "count1 = 0\n",
    "count2 = 0\n",
    "\n",
    "for i, score in enumerate(scores):\n",
    "    k = i + 1\n",
    "    if score >= 80:\n",
    "        count1 +=1\n",
    "        print(f\"{k} 번 학생 합격입니다\")\n",
    "    else:\n",
    "        count2 +=1\n",
    "        print(f\"{k} 번 학생 불합격입니다\")\n",
    "    \n",
    "print('-' * 50)\n",
    "\n",
    "print(f\"합격생은 {count1}명 입니다\")\n",
    "print(f\"불합격생은 {count2}명 입니다\")"
   ]
  },
  {
   "cell_type": "code",
   "execution_count": 6,
   "metadata": {},
   "outputs": [
    {
     "name": "stdout",
     "output_type": "stream",
     "text": [
      "1번 이순신 학생 : 합격\n",
      "2번 안중근 학생 : 불합격\n",
      "3번 유관순 학생 : 합격\n",
      "4번 이율곡 학생 : 합격\n",
      "5번 김유신 학생 : 불합격\n"
     ]
    }
   ],
   "source": [
    "'''\n",
    "80점 이상인 경우에 합격이라고 할때,\n",
    "아래와 같이 출력되도록 for문을 작성 하세요\n",
    "\n",
    "[출력 예]\n",
    "1번 이순신 학생 : 합격\n",
    "2번 안중근 학생 : 불합격\n",
    "3번 유관순 학생 : 합격\n",
    "4번 이율곡 학생 : 합격\n",
    "4번 김유신 학생 : 불합격\n",
    "'''\n",
    "\n",
    "dict_scores = {\n",
    "    \"이순신\": 91,\n",
    "    \"안중근\": 76,\n",
    "    \"유관순\": 98,\n",
    "    \"이율곡\": 86,\n",
    "    \"김유신\": 63,\n",
    "}\n",
    "\n",
    "for i, key in enumerate(dict_scores):\n",
    "    k = i + 1\n",
    "    if dict_scores[key] >= 80:\n",
    "        print(f\"{k}번 {key} 학생 : 합격\")\n",
    "    else:\n",
    "        print(f\"{k}번 {key} 학생 : 불합격\")"
   ]
  }
 ],
 "metadata": {
  "interpreter": {
   "hash": "949c5d161ae06a9191be236957b0dfe2172f0f0097fbf05f4df159099ee18a3c"
  },
  "kernelspec": {
   "display_name": "Python 3.8.5 64-bit ('tjoeun')",
   "language": "python",
   "name": "python3"
  },
  "language_info": {
   "codemirror_mode": {
    "name": "ipython",
    "version": 3
   },
   "file_extension": ".py",
   "mimetype": "text/x-python",
   "name": "python",
   "nbconvert_exporter": "python",
   "pygments_lexer": "ipython3",
   "version": "3.8.5"
  },
  "orig_nbformat": 4
 },
 "nbformat": 4,
 "nbformat_minor": 2
}
