{
 "cells": [
  {
   "cell_type": "markdown",
   "metadata": {},
   "source": [
    "# bool type"
   ]
  },
  {
   "cell_type": "code",
   "execution_count": 1,
   "metadata": {},
   "outputs": [
    {
     "name": "stdout",
     "output_type": "stream",
     "text": [
      "<class 'bool'> True\n",
      "<class 'bool'> False\n",
      "--------------------------------------------------\n",
      "<class 'bool'> False\n"
     ]
    }
   ],
   "source": [
    "'''\n",
    "bool type : True, False\n",
    " ㄴ boolean\n",
    "'''\n",
    "\n",
    "b1 = True\n",
    "b2 = False\n",
    "\n",
    "print(type(b1), b1)\n",
    "print(type(b2), b2)\n",
    "\n",
    "print('-' * 50)\n",
    "\n",
    "b3 = b1 == b2\n",
    "print(type(b3), b3)"
   ]
  },
  {
   "cell_type": "code",
   "execution_count": 2,
   "metadata": {},
   "outputs": [
    {
     "name": "stdout",
     "output_type": "stream",
     "text": [
      "\"python\" True\n",
      "\"\" False\n",
      "[1, 2, 3] True\n",
      "[] False\n",
      "() False\n",
      "{} False\n",
      "1 True\n",
      "0 False\n",
      "321 True\n",
      "-9865 True\n",
      "None False\n",
      "--------------------------------------------------\n",
      "1\n",
      "0\n"
     ]
    }
   ],
   "source": [
    "'''\n",
    "\"python\"    True\n",
    "\"\"          False\n",
    "[1, 2, 3]   True\n",
    "[]          False\n",
    "()          False\n",
    "{}          False\n",
    "1           True\n",
    "0           False\n",
    "321         True\n",
    "-9865       True\n",
    "None        False\n",
    "'''\n",
    "\n",
    "name = None\n",
    "\n",
    "print('\"python\"', bool(\"python\"))\n",
    "print('\"\"', bool(\"\"))\n",
    "print('[1, 2, 3]', bool([1, 2, 3]))\n",
    "print('[]', bool([]))\n",
    "print('()', bool(()))\n",
    "print('{}', bool({}))\n",
    "print('1', bool(1))\n",
    "print('0', bool(0))\n",
    "print('321', bool(321))\n",
    "print('-9865', bool(-9865))\n",
    "print('None', bool(None))\n",
    "\n",
    "print('-' * 50)\n",
    "\n",
    "# 1\n",
    "print(int(True))\n",
    "\n",
    "# 0\n",
    "print(int(False))"
   ]
  },
  {
   "cell_type": "code",
   "execution_count": 3,
   "metadata": {},
   "outputs": [
    {
     "name": "stdout",
     "output_type": "stream",
     "text": [
      "True\n",
      "True\n",
      "False\n",
      "True\n"
     ]
    },
    {
     "name": "stderr",
     "output_type": "stream",
     "text": [
      "<>:7: SyntaxWarning: \"is\" with a literal. Did you mean \"==\"?\n",
      "<>:8: SyntaxWarning: \"is\" with a literal. Did you mean \"==\"?\n",
      "<>:7: SyntaxWarning: \"is\" with a literal. Did you mean \"==\"?\n",
      "<>:8: SyntaxWarning: \"is\" with a literal. Did you mean \"==\"?\n",
      "/var/folders/d3/j8xh77fn6cddqhxzg5jmq0r00000gn/T/ipykernel_10984/1323734489.py:7: SyntaxWarning: \"is\" with a literal. Did you mean \"==\"?\n",
      "  print(1 is 1.0)\n",
      "/var/folders/d3/j8xh77fn6cddqhxzg5jmq0r00000gn/T/ipykernel_10984/1323734489.py:8: SyntaxWarning: \"is\" with a literal. Did you mean \"==\"?\n",
      "  print(1 is 1)\n"
     ]
    }
   ],
   "source": [
    "# == 연산자 : 값만 같으면 True 를 반환\n",
    "print(1 == 1.0)\n",
    "print(1 == 1)\n",
    "\n",
    "# is 연산자 : 값도 같고 주소까지 같아야 True 를 반환함\n",
    "#           값이 같지만 주소가 다르면 False 를 반환함\n",
    "print(1 is 1.0)\n",
    "print(1 is 1)\n",
    "\n",
    "# 숫자를 비교하는 경우에는 is 연산자를 권장하지 않음"
   ]
  },
  {
   "cell_type": "code",
   "execution_count": 4,
   "metadata": {},
   "outputs": [
    {
     "name": "stdout",
     "output_type": "stream",
     "text": [
      "4583961024 [[1, 2, 3], [4, 5, 6]]\n",
      "4583960704 [[1, 2, 3], [4, 5, 6]]\n",
      "True\n",
      "True\n",
      "--------------------------------------------------\n",
      "4583961024 [[1, 2, 3], [4, 5, 6]]\n",
      "4583973056 [[1, 2, 3], [4, 5, 6]]\n",
      "False\n",
      "False\n"
     ]
    }
   ],
   "source": [
    "# 얕은 복사\n",
    "list1 = [[1, 2, 3], [4, 5, 6]]\n",
    "list2 = list1.copy()\n",
    "\n",
    "print(id(list1), list1)\n",
    "print(id(list2), list2)\n",
    "\n",
    "print(list1[0] is list2[0])\n",
    "print(list1[1] is list2[1])\n",
    "\n",
    "print('-' * 50)\n",
    "\n",
    "# 깊은 복사\n",
    "import copy\n",
    "\n",
    "list2 = copy.deepcopy(list1)\n",
    "\n",
    "print(id(list1), list1)\n",
    "print(id(list2), list2)\n",
    "\n",
    "print(list1[0] is list2[0])\n",
    "print(list1[1] is list2[1])"
   ]
  }
 ],
 "metadata": {
  "interpreter": {
   "hash": "949c5d161ae06a9191be236957b0dfe2172f0f0097fbf05f4df159099ee18a3c"
  },
  "kernelspec": {
   "display_name": "Python 3.8.5 64-bit ('tjoeun')",
   "language": "python",
   "name": "python3"
  },
  "language_info": {
   "codemirror_mode": {
    "name": "ipython",
    "version": 3
   },
   "file_extension": ".py",
   "mimetype": "text/x-python",
   "name": "python",
   "nbconvert_exporter": "python",
   "pygments_lexer": "ipython3",
   "version": "3.8.5"
  },
  "orig_nbformat": 4
 },
 "nbformat": 4,
 "nbformat_minor": 2
}
