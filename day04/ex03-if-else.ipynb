{
 "cells": [
  {
   "cell_type": "markdown",
   "metadata": {},
   "source": [
    "# if"
   ]
  },
  {
   "cell_type": "code",
   "execution_count": 1,
   "metadata": {},
   "outputs": [
    {
     "name": "stdout",
     "output_type": "stream",
     "text": [
      "number 는 11 입니다\n",
      "number 는 9보다 크거나 같습니다\n",
      "number 는 20보다 작거나 같습니다\n",
      "number 는 22가 아닙니다\n"
     ]
    }
   ],
   "source": [
    "'''\n",
    "제어문 : control statement\n",
    "  ㄴ 조건문 (condictional statement) / 반복문 (loop statement)\n",
    "  \n",
    "1) 조건문\n",
    "\n",
    "  형식)\n",
    "  if 조건 (bool 값, bool 변수, 조건식(비교식)) :\n",
    "    <조건이 True인 경우에 실행되는 code 들>\n",
    "    들여쓰기 statement....\n",
    "    들여쓰기 statement....\n",
    "    들여쓰기 statement....\n",
    "\n",
    "    if 조건:\n",
    "      실행문(명령문)\n",
    "      실행문(명령문)\n",
    "      ....\n",
    "    if 조건:\n",
    "      실행문(명령문)\n",
    "      실행문(명령문)\n",
    "      ....\n",
    "    if 조건:\n",
    "      실행문(명령문)\n",
    "      실행문(명령문)\n",
    "      ....\n",
    "      \n",
    "'''\n",
    "\n",
    "number = 11\n",
    "\n",
    "if number == 11:\n",
    "    print('number 는', number, '입니다')\n",
    "if number >= 9:\n",
    "    print('number 는 9보다 크거나 같습니다')\n",
    "if number <= 20:\n",
    "    print('number 는 20보다 작거나 같습니다')\n",
    "if number != 22:\n",
    "    print('number 는 22가 아닙니다')"
   ]
  },
  {
   "cell_type": "code",
   "execution_count": 2,
   "metadata": {},
   "outputs": [
    {
     "name": "stdout",
     "output_type": "stream",
     "text": [
      "number 는 11 입니다\n"
     ]
    }
   ],
   "source": [
    "'''\n",
    "제어문 : control statement\n",
    "  ㄴ 조건문 (condictional statement) / 반복문 (loop statement)\n",
    "  \n",
    "1) 조건문\n",
    "\n",
    "  형식)\n",
    "  if 조건 (bool 값, bool 변수, 조건식(비교식)) :\n",
    "    <조건이 True인 경우에 실행되는 code 들>\n",
    "    들여쓰기 statement....\n",
    "    들여쓰기 statement....\n",
    "    들여쓰기 statement....\n",
    "    \n",
    "    if 조건:\n",
    "      실행문(명령문)\n",
    "      실행문(명령문)\n",
    "      ....\n",
    "    else if:\n",
    "      실행문(명령문)\n",
    "      실행문(명령문)\n",
    "      ....\n",
    "    else if:\n",
    "      실행문(명령문)\n",
    "      실행문(명령문)\n",
    "      ....\n",
    "    else:\n",
    "      실행문(명령문)\n",
    "      실행문(명령문)\n",
    "      ....\n",
    "      \n",
    "'''\n",
    "\n",
    "number = 11\n",
    "\n",
    "if number == 11:\n",
    "    print('number 는', number, '입니다')\n",
    "elif number >= 9:\n",
    "    print('number 는 9보다 크거나 같습니다')\n",
    "elif number <= 20:\n",
    "    print('number 는 20보다 작거나 같습니다')\n",
    "else:\n",
    "    print('number 는 22가 아닙니다')"
   ]
  },
  {
   "cell_type": "code",
   "execution_count": 3,
   "metadata": {},
   "outputs": [
    {
     "name": "stdout",
     "output_type": "stream",
     "text": [
      "책을 살 수 있습니다\n",
      "책을 살 수 없습니다\n"
     ]
    }
   ],
   "source": [
    "money = True\n",
    "\n",
    "if money:\n",
    "    print('책을 살 수 있습니다')\n",
    "else:\n",
    "    print('책을 살 수 없습니다')\n",
    "    \n",
    "money = False\n",
    "\n",
    "if money:\n",
    "    print('책을 살 수 있습니다')\n",
    "else:\n",
    "    print('책을 살 수 없습니다')"
   ]
  },
  {
   "cell_type": "code",
   "execution_count": 4,
   "metadata": {},
   "outputs": [
    {
     "name": "stdout",
     "output_type": "stream",
     "text": [
      "집에서 먹습니다\n"
     ]
    }
   ],
   "source": [
    "money = 3000\n",
    "\n",
    "if money >= 50000:\n",
    "    print('외식을 합니다')\n",
    "else:\n",
    "    print('집에서 먹습니다')"
   ]
  },
  {
   "cell_type": "code",
   "execution_count": 5,
   "metadata": {},
   "outputs": [
    {
     "name": "stdout",
     "output_type": "stream",
     "text": [
      "여행을 갈 수 있습니다\n"
     ]
    }
   ],
   "source": [
    "money = 2000\n",
    "card = True\n",
    "\n",
    "if money >= 10000 or card:\n",
    "    print('여행을 갈 수 있습니다')\n",
    "else:\n",
    "    print('여행을 못 갑니다')"
   ]
  },
  {
   "cell_type": "code",
   "execution_count": 6,
   "metadata": {},
   "outputs": [
    {
     "name": "stdout",
     "output_type": "stream",
     "text": [
      "card 사용하기\n"
     ]
    }
   ],
   "source": [
    "list_pocket = ['cash', 'card', 'phone']\n",
    "\n",
    "if \"money\" in list_pocket:\n",
    "    # IndentationError: expected an indented block\n",
    "    pass\n",
    "else:\n",
    "    print('card 사용하기')"
   ]
  },
  {
   "cell_type": "code",
   "execution_count": 7,
   "metadata": {},
   "outputs": [
    {
     "name": "stdout",
     "output_type": "stream",
     "text": [
      "memory 업그레이드 하기\n"
     ]
    }
   ],
   "source": [
    "if \"money\" in list_pocket:\n",
    "    print('momory 업그레이드 하기')\n",
    "else:\n",
    "    if \"card\" in list_pocket:\n",
    "        print('memory 업그레이드 하기')\n",
    "    else:\n",
    "        print('나중에 업그레이드 하기')"
   ]
  },
  {
   "cell_type": "code",
   "execution_count": 8,
   "metadata": {},
   "outputs": [
    {
     "name": "stdout",
     "output_type": "stream",
     "text": [
      "memory 업그레이드 하기\n"
     ]
    }
   ],
   "source": [
    "if \"cash\" in list_pocket:\n",
    "    if \"card\" in list_pocket:\n",
    "        print('memory 업그레이드 하기')\n",
    "    else:\n",
    "        print('나중에 업그레이드 하기')\n",
    "else:\n",
    "    print('나중에 업그레이드 하기')"
   ]
  },
  {
   "cell_type": "code",
   "execution_count": 9,
   "metadata": {},
   "outputs": [
    {
     "name": "stdout",
     "output_type": "stream",
     "text": [
      "나중에 업그레이드 하기\n"
     ]
    }
   ],
   "source": [
    "if \"cash\" in list_pocket:\n",
    "    if \"money\" in list_pocket:\n",
    "        print('memory 업그레이드 하기')\n",
    "    else:\n",
    "        print('나중에 업그레이드 하기')\n",
    "else:\n",
    "    print('나중에 업그레이드 하기')"
   ]
  },
  {
   "cell_type": "code",
   "execution_count": 10,
   "metadata": {},
   "outputs": [
    {
     "name": "stdout",
     "output_type": "stream",
     "text": [
      "합격\n"
     ]
    }
   ],
   "source": [
    "'''\n",
    "변수 score 에 성적을 저장하고 <-- input() 함수 사용\n",
    "성적이 60 점 이상이면 \"합격\",\n",
    "성적이 60 점 미만이면 \"불합격\"\n",
    "을 출력하세요\n",
    "'''\n",
    "\n",
    "# score = int(input('성적을 입려하세요'))\n",
    "score = 60\n",
    "\n",
    "if score >= 60:\n",
    "    print(\"합격\")\n",
    "else:\n",
    "    print(\"불합격\")"
   ]
  },
  {
   "cell_type": "code",
   "execution_count": 11,
   "metadata": {},
   "outputs": [
    {
     "name": "stdout",
     "output_type": "stream",
     "text": [
      "합격\n"
     ]
    }
   ],
   "source": [
    "# score = int(input('성적을 입려하세요'))\n",
    "score = 60\n",
    "message = \"\"\n",
    "\n",
    "if score >= 60:\n",
    "    message = \"합격\"\n",
    "else:\n",
    "    message = \"불합격\"\n",
    "    \n",
    "print(message)"
   ]
  },
  {
   "cell_type": "code",
   "execution_count": 12,
   "metadata": {},
   "outputs": [
    {
     "name": "stdout",
     "output_type": "stream",
     "text": [
      "성적을 입력하세요 : 60\n",
      "당신은 D 학점입니다\n"
     ]
    }
   ],
   "source": [
    "'''\n",
    "성적을 입력받아서 학점을 출력하는 프로그램을 작성하세요\n",
    "        ㄴ input()\n",
    "\n",
    "90 ~ 100  A\n",
    "80 ~ 89   B\n",
    "70 ~ 79   C\n",
    "60 ~ 69   D\n",
    "0  ~ 59   F\n",
    "\n",
    "score : 성적을 저장하는 변수\n",
    "grade : 학점을 저장하는 변수\n",
    "'''\n",
    "\n",
    "# score = int(input('성적을 입력하세요'))\n",
    "score = 60\n",
    "grade = ''\n",
    "\n",
    "if 0 <= score <= 100:\n",
    "    if 90 <= score <= 100:\n",
    "        grade = 'A'\n",
    "    elif 80 <= score <= 89:\n",
    "        grade = 'B'\n",
    "    elif 70 <= score <= 79:\n",
    "        grade = 'C'\n",
    "    elif 60 <= score <= 69:\n",
    "        grade = 'D'\n",
    "    elif 0 <= score <= 59:\n",
    "        grade = 'F'\n",
    "    else:\n",
    "        grade = '?'\n",
    "else:\n",
    "    print('성적을 다시 입력해 주세요')\n",
    "    \n",
    "if grade != '?':\n",
    "    print('성적을 입력하세요 :', score)\n",
    "    print('당신은', grade, '학점입니다')\n",
    "else:\n",
    "    print('성적을 정확하게 입력해 주세요')"
   ]
  },
  {
   "cell_type": "code",
   "execution_count": 13,
   "metadata": {},
   "outputs": [
    {
     "name": "stdout",
     "output_type": "stream",
     "text": [
      "성적을 입력하세요 : 60\n",
      "당신은 D 학점입니다\n"
     ]
    }
   ],
   "source": [
    "# score = int(input('성적을 입력하세요'))\n",
    "score = 60\n",
    "grade = ''\n",
    "\n",
    "if 0 <= score <= 100:\n",
    "    if 90 <= score:\n",
    "        grade = 'A'\n",
    "    elif 80 <= score:\n",
    "        grade = 'B'\n",
    "    elif 70 <= score:\n",
    "        grade = 'C'\n",
    "    elif 60 <= score:\n",
    "        grade = 'D'\n",
    "    elif 0 <= score:\n",
    "        grade = 'F'\n",
    "    else:\n",
    "        grade = '?'\n",
    "else:\n",
    "    print('성적을 다시 입력해 주세요')\n",
    "    \n",
    "if grade != '?':\n",
    "    print('성적을 입력하세요 :', score)\n",
    "    print('당신은', grade, '학점입니다')\n",
    "else:\n",
    "    print('성적을 정확하게 입력해 주세요')"
   ]
  },
  {
   "cell_type": "code",
   "execution_count": 14,
   "metadata": {},
   "outputs": [
    {
     "name": "stdout",
     "output_type": "stream",
     "text": [
      "좋아하는 계절을 입력하세요 : 봄\n",
      "좋아하는 계절의 과일 : 딸기\n"
     ]
    }
   ],
   "source": [
    "'''\n",
    "계절을 입력받아서 이 계절이 season_fruit 에 있으면\n",
    "그 계절에 해당하는 과일 이름을 출력하고\n",
    "없으면, '좋아하는 계절이 season_fruit에 없습니다'를\n",
    "출력하세요\n",
    "'''\n",
    "\n",
    "season_fruit = {\n",
    "    \"봄\" : \"딸기\",\n",
    "    \"여름\" : \"수박\",\n",
    "    \"가을\" : \"사과\",\n",
    "}\n",
    "\n",
    "# season = input('좋아하는 계절을 입력하세요 :')\n",
    "season = '봄'\n",
    "\n",
    "if season in season_fruit:\n",
    "    favorite_season = season_fruit[season]\n",
    "    print('좋아하는 계절을 입력하세요 :', season)\n",
    "    print('좋아하는 계절의 과일 :', favorite_season)\n",
    "else:\n",
    "    print('좋아하는 계절이 season_fruit에 없습니다')"
   ]
  },
  {
   "cell_type": "code",
   "execution_count": 15,
   "metadata": {},
   "outputs": [
    {
     "name": "stdout",
     "output_type": "stream",
     "text": [
      "딸기\n"
     ]
    }
   ],
   "source": [
    "# 방법 1\n",
    "# key 값이 dictionary 에 있는지 알아보기 : in 연산자 사용하기\n",
    "season = '봄'\n",
    "\n",
    "if season in season_fruit:\n",
    "    print(season_fruit[season])\n",
    "else:\n",
    "    print('좋아하는 계절이 season_fruit에 없습니다')"
   ]
  },
  {
   "cell_type": "code",
   "execution_count": 16,
   "metadata": {},
   "outputs": [
    {
     "name": "stdout",
     "output_type": "stream",
     "text": [
      "딸기\n"
     ]
    }
   ],
   "source": [
    "# 방법 2\n",
    "# keys() / values() 사용하기\n",
    "season = '봄'\n",
    "\n",
    "if season in season_fruit.keys():\n",
    "    if season == list(season_fruit.keys())[0]:\n",
    "        print(list(season_fruit.values())[0])\n",
    "    if season == list(season_fruit.keys())[1]:\n",
    "        print(list(season_fruit.values())[1])\n",
    "    if season == list(season_fruit.keys())[2]:\n",
    "        print(list(season_fruit.values())[2])\n",
    "else:\n",
    "    print('좋아하는 계절이 season_fruit에 없습니다')"
   ]
  }
 ],
 "metadata": {
  "interpreter": {
   "hash": "949c5d161ae06a9191be236957b0dfe2172f0f0097fbf05f4df159099ee18a3c"
  },
  "kernelspec": {
   "display_name": "Python 3.8.5 64-bit ('tjoeun')",
   "language": "python",
   "name": "python3"
  },
  "language_info": {
   "codemirror_mode": {
    "name": "ipython",
    "version": 3
   },
   "file_extension": ".py",
   "mimetype": "text/x-python",
   "name": "python",
   "nbconvert_exporter": "python",
   "pygments_lexer": "ipython3",
   "version": "3.8.5"
  },
  "orig_nbformat": 4
 },
 "nbformat": 4,
 "nbformat_minor": 2
}
