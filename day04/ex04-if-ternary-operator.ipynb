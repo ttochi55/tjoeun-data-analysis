{
 "cells": [
  {
   "cell_type": "markdown",
   "metadata": {},
   "source": [
    "# if - ternary operator"
   ]
  },
  {
   "cell_type": "code",
   "execution_count": 1,
   "metadata": {},
   "outputs": [
    {
     "name": "stdout",
     "output_type": "stream",
     "text": [
      "HELLO\n",
      "hello\n",
      "False\n",
      "True\n"
     ]
    }
   ],
   "source": [
    "str1 = 'hello'\n",
    "print(str1.upper())\n",
    "print(str1.lower())\n",
    "print(str1.isupper())\n",
    "print(str1.islower())"
   ]
  },
  {
   "cell_type": "code",
   "execution_count": 2,
   "metadata": {},
   "outputs": [
    {
     "name": "stdout",
     "output_type": "stream",
     "text": [
      "h\n",
      "H\n"
     ]
    }
   ],
   "source": [
    "'''\n",
    "변수 character 에 문자열 하나를 입력받아서 <-- input() 함수 사용\n",
    "그 문자열이 대문자이면 수문자로,\n",
    "소문자이면 대문자로 변환해서 출력하세요\n",
    "'''\n",
    "\n",
    "# character = input('문자열 하나를 입력하세요')\n",
    "character = 'H'\n",
    "\n",
    "if character.isupper():\n",
    "    print(character.lower())\n",
    "else:\n",
    "    print(character.upper())\n",
    "    \n",
    "character = 'h'\n",
    "\n",
    "if character.isupper():\n",
    "    print(character.lower())\n",
    "else:\n",
    "    print(character.upper())"
   ]
  },
  {
   "cell_type": "code",
   "execution_count": 3,
   "metadata": {},
   "outputs": [
    {
     "name": "stdout",
     "output_type": "stream",
     "text": [
      "10 30\n"
     ]
    }
   ],
   "source": [
    "'''\n",
    "세 수를 입력 받아서 <-- input() 사용\n",
    "가장 큰 수를 출력하세요\n",
    "\n",
    "num1, num2, num3\n",
    "max1, min2\n",
    "\n",
    "가장 작은 수를 출력하세요\n",
    "(if 문을 사용하세요)\n",
    "'''\n",
    "\n",
    "# num1 = int(input('첫 번째 수를 입력 하세요'))\n",
    "# num2 = int(input('두 번째 수를 입력 하세요'))\n",
    "# num3 = int(input('세 번째 수를 입력 하세요'))\n",
    "\n",
    "num1, num2, num3 = 10, 20, 30\n",
    "max1 = min1 = num1\n",
    "\n",
    "if num1 >= num2 and num1 >= num3:\n",
    "    max1 = num1\n",
    "elif num2 >= num1 and num2 >= num3:\n",
    "    max1 = num2\n",
    "else:\n",
    "    max1 = num3\n",
    "    \n",
    "if num1 <= num2 and num1 <= num3:\n",
    "    min1 = num1\n",
    "elif num2 <= num3 and num2 <= num3:\n",
    "    min1 = num2\n",
    "else:\n",
    "    min1 = num3\n",
    "    \n",
    "print(min1, max1)"
   ]
  },
  {
   "cell_type": "code",
   "execution_count": 4,
   "metadata": {},
   "outputs": [
    {
     "name": "stdout",
     "output_type": "stream",
     "text": [
      "10 30\n"
     ]
    }
   ],
   "source": [
    "num1, num2, num3 = 10, 20, 30\n",
    "max1 = min1 = num1\n",
    "\n",
    "if num1 >= num2 and num1 >= num3:\n",
    "    max1 = num1\n",
    "elif num2 >= num3:\n",
    "    max1 = num2\n",
    "else:\n",
    "    max1 = num3\n",
    "    \n",
    "if num1 <= num2 and num1 <= num3:\n",
    "    min1 = num1\n",
    "elif num2 <= num3:\n",
    "    min1 = num2\n",
    "else:\n",
    "    min1 = num3\n",
    "    \n",
    "print(min1, max1)"
   ]
  },
  {
   "cell_type": "code",
   "execution_count": 5,
   "metadata": {},
   "outputs": [
    {
     "name": "stdout",
     "output_type": "stream",
     "text": [
      "성적을 입력하세요 : 70\n",
      "result : 합격\n"
     ]
    }
   ],
   "source": [
    "'''\n",
    "삼항 연산자\n",
    " ㄴ 피연산자가 3개\n",
    "    operand\n",
    " \n",
    "1) 조건이 참일때 값 if 조건 else 조건이 거짓일때 값\n",
    "'''\n",
    "\n",
    "# score = input('성적을 입력하세요')\n",
    "score = 70\n",
    "result = ''\n",
    "\n",
    "# if score >= 60:\n",
    "#     result = '합격'\n",
    "# else:\n",
    "#     result = '불합격'\n",
    "    \n",
    "result = '합격' if score >= 60 else '불합격'\n",
    "    \n",
    "print('성적을 입력하세요 :', score)\n",
    "print('result :', result)"
   ]
  },
  {
   "cell_type": "code",
   "execution_count": 6,
   "metadata": {},
   "outputs": [
    {
     "name": "stdout",
     "output_type": "stream",
     "text": [
      "성적을 입력하세요 : -1\n",
      "result : 음수\n"
     ]
    }
   ],
   "source": [
    "# number = input('성적을 입력하세요')\n",
    "number = -1\n",
    "result = ''\n",
    "\n",
    "# if number > 0:\n",
    "#     result = '양수'\n",
    "# elif number < 0:\n",
    "#     result = '음수'\n",
    "# else:\n",
    "#     result = '0'\n",
    "    \n",
    "result = '양수' if number > 0 else '음수' if number < 0 else '0'\n",
    "    \n",
    "print('성적을 입력하세요 :', number)\n",
    "print('result :', result)"
   ]
  },
  {
   "cell_type": "code",
   "execution_count": 7,
   "metadata": {},
   "outputs": [
    {
     "name": "stdout",
     "output_type": "stream",
     "text": [
      "10 30\n"
     ]
    }
   ],
   "source": [
    "num1, num2, num3 = 10, 20, 30\n",
    "max1 = min1 = num1\n",
    "\n",
    "max1 = num1 if num1 >= num2 and num1 >= num3 else num2 if num2 >= num3 else num3\n",
    "min1 = num1 if num1 <= num2 and num1 <= num3 else num2 if num2 <= num3 else num3\n",
    "        \n",
    "print(min1, max1)"
   ]
  },
  {
   "cell_type": "code",
   "execution_count": 8,
   "metadata": {},
   "outputs": [
    {
     "name": "stdout",
     "output_type": "stream",
     "text": [
      "성적을 입력하세요 : 90\n",
      "당신은 A 학점입니다\n"
     ]
    }
   ],
   "source": [
    "# score = int(input('성적을 입력하세요'))\n",
    "score = 90\n",
    "grade = ''\n",
    "\n",
    "if 0 <= score <= 100:\n",
    "    grade = 'A' if 90 <= score else \\\n",
    "            'B' if 80 <= score else \\\n",
    "            'C' if 70 <= score else \\\n",
    "            'D' if 60 <= score else \\\n",
    "            'F'\n",
    "    print('성적을 입력하세요 :', score)\n",
    "    print('당신은', grade, '학점입니다')\n",
    "else:\n",
    "    print('성적을 정확하게 입력해 주세요')"
   ]
  },
  {
   "cell_type": "code",
   "execution_count": 9,
   "metadata": {},
   "outputs": [
    {
     "name": "stdout",
     "output_type": "stream",
     "text": [
      "합격\n"
     ]
    }
   ],
   "source": [
    "'''\n",
    "삼항 연산자\n",
    " \n",
    "2) 조건 and 조건이 참일때 값 or 조건이 거짓일때 값\n",
    "'''\n",
    "\n",
    "# score = int(input('성적을 입력하세요'))\n",
    "score = 70\n",
    "message = score >= 60 and '합격' or '불합격'\n",
    "print(message)"
   ]
  },
  {
   "cell_type": "code",
   "execution_count": 10,
   "metadata": {},
   "outputs": [
    {
     "name": "stdout",
     "output_type": "stream",
     "text": [
      "b1 vs b1 | True | True\n",
      "b1 vs b2 | False | True\n",
      "b2 vs b1 | False | True\n",
      "b2 vs b2 | False | False\n"
     ]
    }
   ],
   "source": [
    "b1 = True\n",
    "b2 = False\n",
    "\n",
    "print('b1 vs b1', b1 and b1, b1 or b1, sep=' | ')\n",
    "print('b1 vs b2', b1 and b2, b1 or b2, sep=' | ')\n",
    "print('b2 vs b1', b2 and b1, b2 or b1, sep=' | ')\n",
    "print('b2 vs b2', b2 and b2, b2 or b2, sep=' | ')"
   ]
  },
  {
   "cell_type": "code",
   "execution_count": 11,
   "metadata": {},
   "outputs": [
    {
     "name": "stdout",
     "output_type": "stream",
     "text": [
      "2\n",
      "--------------------------------------------------\n",
      "2\n",
      "--------------------------------------------------\n",
      "2\n",
      "--------------------------------------------------\n",
      "2\n"
     ]
    }
   ],
   "source": [
    "num1 = 1\n",
    "num2 = 1\n",
    "\n",
    "result = num1 != num2 and num1 - num2 or num1 + num2\n",
    "print(result)\n",
    "\n",
    "print('-' * 50)\n",
    "\n",
    "result = num1 == num2 and num1 - num2 or num1 + num2\n",
    "print(result)\n",
    "\n",
    "print('-' * 50)\n",
    "\n",
    "result = num1 != num2 and (num1 - num2) or (num1 + num2)\n",
    "print(result)\n",
    "\n",
    "print('-' * 50)\n",
    "\n",
    "result = num1 == num2 and (num1 - num2) or (num1 + num2)\n",
    "print(result)"
   ]
  }
 ],
 "metadata": {
  "interpreter": {
   "hash": "949c5d161ae06a9191be236957b0dfe2172f0f0097fbf05f4df159099ee18a3c"
  },
  "kernelspec": {
   "display_name": "Python 3.8.5 64-bit ('tjoeun')",
   "language": "python",
   "name": "python3"
  },
  "language_info": {
   "codemirror_mode": {
    "name": "ipython",
    "version": 3
   },
   "file_extension": ".py",
   "mimetype": "text/x-python",
   "name": "python",
   "nbconvert_exporter": "python",
   "pygments_lexer": "ipython3",
   "version": "3.8.5"
  },
  "orig_nbformat": 4
 },
 "nbformat": 4,
 "nbformat_minor": 2
}
