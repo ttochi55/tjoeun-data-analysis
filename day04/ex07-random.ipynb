{
 "cells": [
  {
   "cell_type": "markdown",
   "metadata": {},
   "source": [
    "# random"
   ]
  },
  {
   "cell_type": "code",
   "execution_count": 1,
   "metadata": {},
   "outputs": [
    {
     "name": "stdout",
     "output_type": "stream",
     "text": [
      "0.26022411219357\n"
     ]
    }
   ],
   "source": [
    "\"\"\"\n",
    "# random.random() : 0 부터 1 미만의 실수를 반환함\n",
    "\"\"\"\n",
    "\n",
    "import random\n",
    "\n",
    "print(random.random())"
   ]
  },
  {
   "cell_type": "code",
   "execution_count": 2,
   "metadata": {},
   "outputs": [
    {
     "name": "stdout",
     "output_type": "stream",
     "text": [
      "2\n"
     ]
    }
   ],
   "source": [
    "\"\"\"\n",
    "random.randint(start, end) \n",
    "    : start 부터 end 까지의 정수 중에서 임의의 정수를 반환함\n",
    "\"\"\"\n",
    "\n",
    "import random\n",
    "\n",
    "# 1부터 10까지의 정수 중에서 임의의 숫자 발생시키기\n",
    "print(random.randint(1, 10))"
   ]
  },
  {
   "cell_type": "code",
   "execution_count": 3,
   "metadata": {},
   "outputs": [
    {
     "name": "stdout",
     "output_type": "stream",
     "text": [
      "[9, 9, 4, 10, 9, 7, 7, 7, 9, 5]\n"
     ]
    }
   ],
   "source": [
    "\"\"\"\n",
    "list_numbers 에 1 부터 10까지의 정수 중에서\n",
    "임의의 정수를 10 개 저장 하세요\n",
    " - for 문 사용하기\n",
    " \n",
    "[힌트]\n",
    "for 문을 10번 반복하면서 randint() 를 호출하여\n",
    "발생된 임의의 정수를 list_numbers 에 append() 함\n",
    "\"\"\"\n",
    "\n",
    "import random\n",
    "\n",
    "list_numbers = []\n",
    "\n",
    "for i in range(0, 10):\n",
    "    list_numbers.append(random.randint(1, 10))\n",
    "\n",
    "print(list_numbers)"
   ]
  },
  {
   "cell_type": "code",
   "execution_count": 4,
   "metadata": {},
   "outputs": [
    {
     "name": "stdout",
     "output_type": "stream",
     "text": [
      "[12.56, 153.86, 28.26, 3.14, 314.0, 314.0, 78.5, 12.56, 113.04, 28.26]\n"
     ]
    }
   ],
   "source": [
    "\"\"\"\n",
    "1 부터 10 까지의 정수 중에서 임의의 정수를 반지름으로 하는\n",
    "원의 넓이 10 개를 출력하세요\n",
    "  ㄴ radius(반지름) x radius(반지름) x 3.14\n",
    "  ㄴ radius * radius * 3.14\n",
    "  ㄴ radius ** 2 * 3.14\n",
    "\"\"\"\n",
    "\n",
    "import random\n",
    "\n",
    "list_radius = []\n",
    "\n",
    "for i in range(0, 10):\n",
    "    area = random.randint(1, 10) ** 2 * 3.14 \n",
    "    list_radius.append(area)\n",
    "\n",
    "print(list_radius)\n"
   ]
  },
  {
   "cell_type": "code",
   "execution_count": 5,
   "metadata": {},
   "outputs": [
    {
     "name": "stdout",
     "output_type": "stream",
     "text": [
      "45\n",
      "45\n"
     ]
    }
   ],
   "source": [
    "'''\n",
    "for 문을 사용해서 1부터 10까지의 합을 구하고 출력하세요\n",
    "'''\n",
    "\n",
    "sum1 = 0\n",
    "for number in range(1, 10):\n",
    "    sum1 += number\n",
    "print(sum1)\n",
    "\n",
    "sum1 = sum([i for i in range(1, 10)])\n",
    "print(sum1)\n",
    "    "
   ]
  },
  {
   "cell_type": "code",
   "execution_count": 6,
   "metadata": {},
   "outputs": [
    {
     "name": "stdout",
     "output_type": "stream",
     "text": [
      "362880\n"
     ]
    }
   ],
   "source": [
    "'''\n",
    "for 문을 사용해서 1부터 10까지의 곱을 구하고 출력하세요\n",
    "'''\n",
    "\n",
    "mul1 = 1\n",
    "\n",
    "for number in range(1, 10):\n",
    "    mul1 *= number\n",
    "    \n",
    "print(mul1)"
   ]
  },
  {
   "cell_type": "code",
   "execution_count": 7,
   "metadata": {},
   "outputs": [
    {
     "name": "stdout",
     "output_type": "stream",
     "text": [
      " 1,010.00 원\n",
      " 2,020.00 원\n",
      " 3,030.00 원\n"
     ]
    }
   ],
   "source": [
    "'''\n",
    "아래와 같이 상품 가격을 저장한 list 가 있을 때\n",
    "부가세가 포함된 가격을 for문을 사용해서 출력하세요\n",
    "(단, 부가세는 1% 로 함, 소숫점 이하 2째 자리까지만 출력함)\n",
    "\n",
    "[출력 예]\n",
    "1010.00 원\n",
    "2020.00 원\n",
    "3030.00 원\n",
    "'''\n",
    "\n",
    "list_prices = [1000, 2000, 3000]\n",
    "\n",
    "for price in list_prices:\n",
    "    print(f\"{price * 1.01: ,.2f} 원\")"
   ]
  }
 ],
 "metadata": {
  "interpreter": {
   "hash": "949c5d161ae06a9191be236957b0dfe2172f0f0097fbf05f4df159099ee18a3c"
  },
  "kernelspec": {
   "display_name": "Python 3.8.5 64-bit ('tjoeun')",
   "language": "python",
   "name": "python3"
  },
  "language_info": {
   "codemirror_mode": {
    "name": "ipython",
    "version": 3
   },
   "file_extension": ".py",
   "mimetype": "text/x-python",
   "name": "python",
   "nbconvert_exporter": "python",
   "pygments_lexer": "ipython3",
   "version": "3.8.5"
  },
  "orig_nbformat": 4
 },
 "nbformat": 4,
 "nbformat_minor": 2
}
