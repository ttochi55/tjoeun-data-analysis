{
 "cells": [
  {
   "cell_type": "markdown",
   "metadata": {},
   "source": [
    "# if - valid passport number"
   ]
  },
  {
   "cell_type": "code",
   "execution_count": 1,
   "metadata": {},
   "outputs": [
    {
     "name": "stdout",
     "output_type": "stream",
     "text": [
      "011 SKT 사용자 입니다\n"
     ]
    }
   ],
   "source": [
    "'''\n",
    "    통신사\n",
    "011 SKT\n",
    "016 KTF\n",
    "019 LGU+\n",
    "010 ?\n",
    "\n",
    "휴대 전화번호를 입력 받아서\n",
    "어느 통신사인지 출력하세요\n",
    "\n",
    "[입력 예]\n",
    "011-6532-9854\n",
    "\n",
    "[출력 예]\n",
    "SKT 사용자 입니다\n",
    "\n",
    "[힌트]\n",
    "split() 사용\n",
    "    ㄴ : - 포함해서 입력한 경우\n",
    "    ㄴ : - 생략한 경우\n",
    "slicing 사용\n",
    "통신회사는 앞 세 자리로 알 수 있음\n",
    "    ㄴ : - 포함해서 입력한 경우\n",
    "    ㄴ : - 생략한 경우\n",
    "'''\n",
    "\n",
    "# phone = input('휴대 전화번호를 입력하세요 (-포함해서 입력)')\n",
    "phone = '011-1234-5678'\n",
    "company = \"\"\n",
    "\n",
    "# split()\n",
    "number = phone.split('-')[0]\n",
    "\n",
    "# slicing\n",
    "# number = phone[:3]\n",
    "\n",
    "if number == '011':\n",
    "    company = 'SKT'\n",
    "elif number == '016':\n",
    "    company = 'KTF'\n",
    "elif number == '019':\n",
    "    company = 'LGU+'\n",
    "else:\n",
    "    company = '?'\n",
    "\n",
    "if company != '?':\n",
    "    print(number, f\"{company} 사용자 입니다\")\n",
    "else:\n",
    "    print(\"없는 통신사 입니다\")"
   ]
  },
  {
   "cell_type": "code",
   "execution_count": 2,
   "metadata": {},
   "outputs": [
    {
     "name": "stdout",
     "output_type": "stream",
     "text": [
      "015 당신의 용산구에 거주 하십니다\n"
     ]
    }
   ],
   "source": [
    "'''\n",
    "우편번호 앞 3 자리 - 어느 구인지 알려줌\n",
    "마포구 : 010, 011, 012\n",
    "용산구 : 013, 014, 015\n",
    "송파구 : 016, 017, 018\n",
    "\n",
    "아래의 우편번호 중 하나를 입력해서\n",
    "어느 구에 거주하는지 출력하세요\n",
    "\n",
    "[보기]\n",
    "01000, 01100, 01200, 01300,\n",
    "01400, 01500, 01600, 01700, 01800\n",
    "'''\n",
    "\n",
    "mapo = ['010', '011', '012']\n",
    "yongsan = ['013', '014', '015']\n",
    "songpa = ['016', '017', '018']\n",
    "\n",
    "# post = input('[보기]의 우편 번호 중 하나를 입력하세요')\n",
    "post = '01500'\n",
    "post = post[:3]\n",
    "goo = ''\n",
    "\n",
    "if post in mapo:\n",
    "    goo = '마포구'\n",
    "elif post in yongsan:\n",
    "    goo = '용산구'\n",
    "elif post in songpa:\n",
    "    goo = '송파구'\n",
    "else:\n",
    "    goo = '?'\n",
    "    \n",
    "if goo != '?':\n",
    "    print(post, f\"당신의 {goo}에 거주 하십니다\")\n",
    "else:\n",
    "    print(post, '없는 우편번호 입니다')"
   ]
  },
  {
   "cell_type": "code",
   "execution_count": 3,
   "metadata": {},
   "outputs": [
    {
     "name": "stdout",
     "output_type": "stream",
     "text": [
      "주민등록번호를 입력하세요 (- 포함) 950123-16259874\n",
      "주민등록번호를 입력하세요 (- 포함) 1\n",
      "당신은 남자 입니다\n"
     ]
    }
   ],
   "source": [
    "'''\n",
    "주민등록번호 (- 포함)를 입력받아서\n",
    "남자인지 여자인지 출력하세요\n",
    "\n",
    "[입력 예]\n",
    "950123-16259874\n",
    "\n",
    "7 번째 자리수로 성별을 구분함\n",
    "\n",
    "1, 3 : 남자\n",
    "2, 4 : 여자\n",
    "\n",
    "[힌트]\n",
    "split() 사용 / slicing OR indexing\n",
    "'''\n",
    "\n",
    "# pn = input('주민등록번호를 입력하세요 (- 포함)')\n",
    "pn = '950123-16259874'\n",
    "print('주민등록번호를 입력하세요 (- 포함)', pn)\n",
    "\n",
    "pn = pn.split('-')[1]\n",
    "pn = pn[0]\n",
    "print('주민등록번호를 입력하세요 (- 포함)', pn)\n",
    "\n",
    "gender = ''\n",
    "\n",
    "if pn == '1' or pn == '3':\n",
    "    gender = '남자'\n",
    "elif pn == '2' or pn == '4':\n",
    "    gender = '여자'\n",
    "else:\n",
    "    gender = ''\n",
    "\n",
    "if gender:\n",
    "    print(f\"당신은 {gender} 입니다\")\n",
    "else:\n",
    "    print('주민등록번호를 정확하게 입력해 주세요')"
   ]
  },
  {
   "cell_type": "code",
   "execution_count": 4,
   "metadata": {},
   "outputs": [
    {
     "name": "stdout",
     "output_type": "stream",
     "text": [
      "주민등록번호를 입력하세요 (- 생략) : 95012326259874\n",
      "주민등록번호를 입력하세요 (- 생략) : 2\n",
      "당신은 여자 입니다\n"
     ]
    }
   ],
   "source": [
    "# pn = input('주민등록번호를 입력하세요 (- 생략)')\n",
    "pn = '95012326259874'\n",
    "print('주민등록번호를 입력하세요 (- 생략) :', pn)\n",
    "\n",
    "pn = pn[6]\n",
    "print('주민등록번호를 입력하세요 (- 생략) :', pn)\n",
    "\n",
    "gender = ''\n",
    "\n",
    "if pn == '1' or pn == '3':\n",
    "    gender = '남자'\n",
    "elif pn == '2' or pn == '4':\n",
    "    gender = '여자'\n",
    "elif pn == '5' or pn == '6':\n",
    "    gender = '외국인 남자'\n",
    "elif pn == '6' or pn == '8':\n",
    "    gender = '외국인 여자'\n",
    "elif pn == '9':\n",
    "    gender = '1800년대 남자'\n",
    "elif pn == '0':\n",
    "    gender = '1800년대 여자'\n",
    "else:\n",
    "    gender = ''\n",
    "\n",
    "if gender:\n",
    "    print(f\"당신은 {gender} 입니다\")\n",
    "else:\n",
    "    print('주민등록번호를 정확하게 입력해 주세요')"
   ]
  },
  {
   "cell_type": "code",
   "execution_count": 5,
   "metadata": {},
   "outputs": [
    {
     "name": "stdout",
     "output_type": "stream",
     "text": [
      "주민등록번호를 입력하세요 (- 포함) : 950123-26559874\n",
      "당신의 출생지는 광주광역시 입니다\n"
     ]
    }
   ],
   "source": [
    "'''\n",
    "주민등록번호 (- 포함) 를 입력받아서\n",
    "어느 지역 출신인지 출력하세요\n",
    "\n",
    "주민등록번호 8 ~ 9 번째 자리수로 알 수 있음\n",
    "\n",
    "서울특별시 : 00 ~ 08\n",
    "부산광역시 : 09 ~ 12\n",
    "광주광역시 : (구) 55, 56, (신) 65, 66\n",
    "'''\n",
    "\n",
    "seoul = list(range(0,9))\n",
    "busan = list(range(9, 13))\n",
    "kwangju = [55, 56, 65, 66]\n",
    "loc = ['서울특별시', '부산광역시', '광주광역시']\n",
    "\n",
    "# pn = input('주민등록번호를 입력하세요 (- 포함)')\n",
    "pn = '950123-26559874'\n",
    "print('주민등록번호를 입력하세요 (- 포함) :', pn)\n",
    "\n",
    "pn = pn.split('-')[1]\n",
    "loc_number = int(pn[1:3])\n",
    "location = ''\n",
    "\n",
    "if loc_number in seoul:\n",
    "    location = loc[0]\n",
    "elif loc_number in busan:\n",
    "    location = loc[1]\n",
    "elif loc_number in kwangju:\n",
    "    location = loc[2]\n",
    "else:\n",
    "    location = ''\n",
    "\n",
    "if location:\n",
    "    print(f\"당신의 출생지는 {location} 입니다\")\n",
    "else:\n",
    "    print('주민등록번호를 정확하게 입력해 주세요')"
   ]
  },
  {
   "cell_type": "code",
   "execution_count": 6,
   "metadata": {},
   "outputs": [
    {
     "name": "stdout",
     "output_type": "stream",
     "text": [
      "유효하지 않은 주민등록번호 입니다\n"
     ]
    }
   ],
   "source": [
    "'''\n",
    "주민등록번호 유효성 검사하기\n",
    "\n",
    "    9 8 1 0 2 5 - 1 5 6 2 8 7 6\n",
    "  x 2 3 4 5 6 7   8 9 2 3 4 5\n",
    "    \n",
    "total % 11 : 각 자릿수에 아래의 숫자를 곱한 값들의 총합 % 11\n",
    "11 - (total % 11) == 마지막 자릿수(6) --> 유효한 번호\n",
    "'''\n",
    "\n",
    "# passport = input('주민등록번호를 입력하세요 (- 생략)')\n",
    "# print('주민등록번호를 입력하세요 (- 생략) :', passport)\n",
    "passport = '9810251562876'\n",
    "rpn = int(passport[-1])\n",
    "\n",
    "maximum = len(passport)\n",
    "total = 0\n",
    "\n",
    "for idx, value in enumerate(passport):\n",
    "    if idx == maximum - 1:\n",
    "        continue\n",
    "    key = idx % 8 + 2 if idx > 7 else idx + 2\n",
    "    total += int(value) * key\n",
    "\n",
    "# result 가 두 자리 수가 나오는 경우도 있음\n",
    "# 이때 result 는 10이 되고, 끝 자리수인 0만 취함\n",
    "# result = result % 10\n",
    "result = 11 - (total % 11)\n",
    "result = 0 if result == 10 else result\n",
    "\n",
    "if result == rpn:\n",
    "    print('유효한 주민등록번호 입니다')\n",
    "else:\n",
    "    print('유효하지 않은 주민등록번호 입니다')\n"
   ]
  }
 ],
 "metadata": {
  "interpreter": {
   "hash": "949c5d161ae06a9191be236957b0dfe2172f0f0097fbf05f4df159099ee18a3c"
  },
  "kernelspec": {
   "display_name": "Python 3.8.5 64-bit ('tjoeun')",
   "language": "python",
   "name": "python3"
  },
  "language_info": {
   "codemirror_mode": {
    "name": "ipython",
    "version": 3
   },
   "file_extension": ".py",
   "mimetype": "text/x-python",
   "name": "python",
   "nbconvert_exporter": "python",
   "pygments_lexer": "ipython3",
   "version": "3.8.5"
  },
  "orig_nbformat": 4
 },
 "nbformat": 4,
 "nbformat_minor": 2
}
